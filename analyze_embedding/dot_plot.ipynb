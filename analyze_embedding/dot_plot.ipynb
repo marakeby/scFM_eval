{
 "cells": [
  {
   "cell_type": "code",
   "execution_count": 13,
   "id": "c9a84ad9-f82c-4a42-ac28-bc5f49f57f5a",
   "metadata": {
    "tags": []
   },
   "outputs": [],
   "source": [
    "import anndata as ad\n",
    "import scanpy as sc\n",
    "import os"
   ]
  },
  {
   "cell_type": "code",
   "execution_count": null,
   "id": "d95ccf1c-231e-48de-b868-53336402dfad",
   "metadata": {},
   "outputs": [],
   "source": [
    "fname = '/home/jupyter/mnt/__output_clean/brca_full/cell_type/gf-6L-30M-i2048_continue/data.h5ad'\n",
    "\n",
    "adata_v1_continue =ad.read_h5ad(fname)"
   ]
  },
  {
   "cell_type": "code",
   "execution_count": null,
   "id": "f9a18ad4-87fb-4599-85e6-575350feff3e",
   "metadata": {},
   "outputs": [],
   "source": []
  },
  {
   "cell_type": "code",
   "execution_count": 14,
   "id": "700b1b08-af19-476d-8202-d2424eabe4c4",
   "metadata": {
    "tags": []
   },
   "outputs": [],
   "source": [
    "fname = os.path.expanduser('~/mnt/DATA/brca_full/brca_cells_only_3000cell_4096gene.h5ad')\n",
    "full_data = ad.read_h5ad(fname)"
   ]
  },
  {
   "cell_type": "code",
   "execution_count": 17,
   "id": "beb9a4f8-552c-4081-8509-548ce4f306ba",
   "metadata": {
    "tags": []
   },
   "outputs": [],
   "source": [
    "full_data = full_data[full_data.obs.timepoint=='Pre']"
   ]
  },
  {
   "cell_type": "code",
   "execution_count": 18,
   "id": "b83e9615-7762-4c7e-9fa9-53347c06a8c9",
   "metadata": {
    "tags": []
   },
   "outputs": [
    {
     "data": {
      "text/plain": [
       "View of AnnData object with n_obs × n_vars = 41102 × 4096\n",
       "    obs: 'orig.ident', 'nCount_RNA', 'nFeature_RNA', 'cell_id', 'donor_id', 'timepoint', 'outcome', 'Cancer_type', 'cell_types', 'cohort', 'pre_post', 'donor_id_pre_post', 'donor_id_outcome', 'donor_id_cell_types', 'donor_id_cell_types_pre_post', 'sample_id_pre_post_outcome', 'enough_cells', 'Study_name', 'Primary_or_met', 'RNA_snn_res.0.8', 'seurat_clusters', 'ident', 'n_genes_by_counts', 'total_counts', 'n_genes'\n",
       "    var: 'n_cells_by_counts', 'mean_counts', 'pct_dropout_by_counts', 'total_counts', 'n_cells', 'highly_variable', 'means', 'dispersions', 'dispersions_norm'\n",
       "    uns: 'X_name', 'hvg', 'log1p'\n",
       "    obsm: 'PCA', 'UMAP'\n",
       "    layers: 'counts', 'logcounts', 'scaledata'"
      ]
     },
     "execution_count": 18,
     "metadata": {},
     "output_type": "execute_result"
    }
   ],
   "source": [
    "full_data"
   ]
  },
  {
   "cell_type": "code",
   "execution_count": 20,
   "id": "af9b634b-e4cf-41d5-a91f-186f411c06ce",
   "metadata": {},
   "outputs": [
    {
     "data": {
      "text/plain": [
       "AnnData object with n_obs × n_vars = 41101 × 256\n",
       "    obs: 'orig.ident', 'nCount_RNA', 'nFeature_RNA', 'cell_id', 'donor_id', 'timepoint', 'outcome', 'Cancer_type', 'cell_types', 'cohort', 'pre_post', 'donor_id_pre_post', 'donor_id_outcome', 'donor_id_cell_types', 'donor_id_cell_types_pre_post', 'sample_id_pre_post_outcome', 'enough_cells', 'Study_name', 'Primary_or_met', 'RNA_snn_res.0.8', 'seurat_clusters', 'ident', 'n_genes_by_counts', 'total_counts', 'n_genes', 'label', 'batch', 'n_counts', 'adata_order'\n",
       "    obsm: 'X_geneformer'"
      ]
     },
     "execution_count": 20,
     "metadata": {},
     "output_type": "execute_result"
    }
   ],
   "source": [
    "# fname = '/home/jupyter/__output/brca_full/cell_type/Geneformer-V2-104M_continue/data.h5ad'\n",
    "fname = '/home/jupyter/mnt/__output_clean/brca_full/cell_type/gf-6L-30M-i2048_continue/data.h5ad'\n",
    "adata_v1_continue =ad.read_h5ad(fname)\n",
    "adata_v1_continue"
   ]
  },
  {
   "cell_type": "code",
   "execution_count": 19,
   "id": "a469763d-27d4-4fc4-8c83-2029228297ff",
   "metadata": {
    "tags": []
   },
   "outputs": [
    {
     "data": {
      "text/plain": [
       "AnnData object with n_obs × n_vars = 41101 × 768\n",
       "    obs: 'orig.ident', 'nCount_RNA', 'nFeature_RNA', 'cell_id', 'donor_id', 'timepoint', 'outcome', 'Cancer_type', 'cell_types', 'cohort', 'pre_post', 'donor_id_pre_post', 'donor_id_outcome', 'donor_id_cell_types', 'donor_id_cell_types_pre_post', 'sample_id_pre_post_outcome', 'enough_cells', 'Study_name', 'Primary_or_met', 'RNA_snn_res.0.8', 'seurat_clusters', 'ident', 'n_genes_by_counts', 'total_counts', 'n_genes', 'label', 'batch', 'n_counts', 'adata_order'\n",
       "    obsm: 'X_geneformer'"
      ]
     },
     "execution_count": 19,
     "metadata": {},
     "output_type": "execute_result"
    }
   ],
   "source": [
    "fname = '/home/jupyter/mnt/__output_clean/brca_full/cell_type/Geneformer-V2-104M_continue/data.h5ad'\n",
    "adata_v2_continue =ad.read_h5ad(fname)\n",
    "adata_v2_continue"
   ]
  },
  {
   "cell_type": "code",
   "execution_count": 21,
   "id": "6daddcdd-8ca8-41c0-baf0-f7164934a52e",
   "metadata": {
    "tags": []
   },
   "outputs": [],
   "source": [
    "embedding_key ='X_geneformer'\n"
   ]
  },
  {
   "cell_type": "code",
   "execution_count": 22,
   "id": "825ae8da-7ca2-4eee-a476-1651bcd73838",
   "metadata": {
    "tags": []
   },
   "outputs": [],
   "source": [
    "sc.pp.neighbors(\n",
    "adata_v1_continue,\n",
    "use_rep=embedding_key,\n",
    "n_neighbors=15,\n",
    "metric=\"euclidean\", \n",
    "random_state=0\n",
    ")\n",
    "\n",
    "sc.tl.louvain(\n",
    "    adata_v1_continue,\n",
    "    key_added=\"cluster\",\n",
    "    random_state=0,\n",
    "    resolution=0.3\n",
    ")"
   ]
  },
  {
   "cell_type": "code",
   "execution_count": 25,
   "id": "8a5dce30-fd61-4448-9fda-b11d345375a1",
   "metadata": {
    "tags": []
   },
   "outputs": [
    {
     "data": {
      "text/plain": [
       "AnnData object with n_obs × n_vars = 41101 × 256\n",
       "    obs: 'orig.ident', 'nCount_RNA', 'nFeature_RNA', 'cell_id', 'donor_id', 'timepoint', 'outcome', 'Cancer_type', 'cell_types', 'cohort', 'pre_post', 'donor_id_pre_post', 'donor_id_outcome', 'donor_id_cell_types', 'donor_id_cell_types_pre_post', 'sample_id_pre_post_outcome', 'enough_cells', 'Study_name', 'Primary_or_met', 'RNA_snn_res.0.8', 'seurat_clusters', 'ident', 'n_genes_by_counts', 'total_counts', 'n_genes', 'label', 'batch', 'n_counts', 'adata_order', 'cluster'\n",
       "    uns: 'neighbors', 'cluster'\n",
       "    obsm: 'X_geneformer'\n",
       "    obsp: 'distances', 'connectivities'"
      ]
     },
     "execution_count": 25,
     "metadata": {},
     "output_type": "execute_result"
    }
   ],
   "source": [
    "adata_v1_continue"
   ]
  },
  {
   "cell_type": "code",
   "execution_count": 33,
   "id": "3ab6168f-dcb4-4d64-9fee-0083b4bbd7f0",
   "metadata": {
    "tags": []
   },
   "outputs": [],
   "source": [
    "full_data.uns = adata_v1_continue.uns\n",
    "full_data.obs['cluster'] = adata_v1_continue.obs['cluster']"
   ]
  },
  {
   "cell_type": "code",
   "execution_count": 29,
   "id": "823b2464-9eaf-4d09-ab9b-5eb00b44bb68",
   "metadata": {
    "tags": []
   },
   "outputs": [
    {
     "data": {
      "text/plain": [
       "AnnData object with n_obs × n_vars = 41102 × 4096\n",
       "    obs: 'orig.ident', 'nCount_RNA', 'nFeature_RNA', 'cell_id', 'donor_id', 'timepoint', 'outcome', 'Cancer_type', 'cell_types', 'cohort', 'pre_post', 'donor_id_pre_post', 'donor_id_outcome', 'donor_id_cell_types', 'donor_id_cell_types_pre_post', 'sample_id_pre_post_outcome', 'enough_cells', 'Study_name', 'Primary_or_met', 'RNA_snn_res.0.8', 'seurat_clusters', 'ident', 'n_genes_by_counts', 'total_counts', 'n_genes'\n",
       "    var: 'n_cells_by_counts', 'mean_counts', 'pct_dropout_by_counts', 'total_counts', 'n_cells', 'highly_variable', 'means', 'dispersions', 'dispersions_norm'\n",
       "    uns: 'neighbors', 'cluster', 'log1p'\n",
       "    obsm: 'PCA', 'UMAP'\n",
       "    layers: 'counts', 'logcounts', 'scaledata'"
      ]
     },
     "execution_count": 29,
     "metadata": {},
     "output_type": "execute_result"
    }
   ],
   "source": [
    "full_data"
   ]
  },
  {
   "cell_type": "code",
   "execution_count": 30,
   "id": "6e95070b-1fc3-4235-8024-b46195eb0647",
   "metadata": {
    "tags": []
   },
   "outputs": [
    {
     "data": {
      "text/html": [
       "<div>\n",
       "<style scoped>\n",
       "    .dataframe tbody tr th:only-of-type {\n",
       "        vertical-align: middle;\n",
       "    }\n",
       "\n",
       "    .dataframe tbody tr th {\n",
       "        vertical-align: top;\n",
       "    }\n",
       "\n",
       "    .dataframe thead th {\n",
       "        text-align: right;\n",
       "    }\n",
       "</style>\n",
       "<table border=\"1\" class=\"dataframe\">\n",
       "  <thead>\n",
       "    <tr style=\"text-align: right;\">\n",
       "      <th></th>\n",
       "      <th>orig.ident</th>\n",
       "      <th>nCount_RNA</th>\n",
       "      <th>nFeature_RNA</th>\n",
       "      <th>cell_id</th>\n",
       "      <th>donor_id</th>\n",
       "      <th>timepoint</th>\n",
       "      <th>outcome</th>\n",
       "      <th>Cancer_type</th>\n",
       "      <th>cell_types</th>\n",
       "      <th>cohort</th>\n",
       "      <th>...</th>\n",
       "      <th>sample_id_pre_post_outcome</th>\n",
       "      <th>enough_cells</th>\n",
       "      <th>Study_name</th>\n",
       "      <th>Primary_or_met</th>\n",
       "      <th>RNA_snn_res.0.8</th>\n",
       "      <th>seurat_clusters</th>\n",
       "      <th>ident</th>\n",
       "      <th>n_genes_by_counts</th>\n",
       "      <th>total_counts</th>\n",
       "      <th>n_genes</th>\n",
       "    </tr>\n",
       "  </thead>\n",
       "  <tbody>\n",
       "    <tr>\n",
       "      <th>BIOKEY_13_Pre_GCGGGTTCAATGAATG-1</th>\n",
       "      <td>BIOKEY</td>\n",
       "      <td>4986.0</td>\n",
       "      <td>1918</td>\n",
       "      <td>BIOKEY_13_Pre_GCGGGTTCAATGAATG-1</td>\n",
       "      <td>BIOKEY_13</td>\n",
       "      <td>Pre</td>\n",
       "      <td>n/a</td>\n",
       "      <td>HER2+</td>\n",
       "      <td>Myeloid_cell</td>\n",
       "      <td>treatment_naive</td>\n",
       "      <td>...</td>\n",
       "      <td>BIOKEY_13_Pre_n/a</td>\n",
       "      <td>enough</td>\n",
       "      <td>Bassez</td>\n",
       "      <td>Primary</td>\n",
       "      <td>6</td>\n",
       "      <td>6</td>\n",
       "      <td>6</td>\n",
       "      <td>1918</td>\n",
       "      <td>4986.0</td>\n",
       "      <td>1918</td>\n",
       "    </tr>\n",
       "    <tr>\n",
       "      <th>BIOKEY_13_Pre_TGGCTGGAGATCCGAG-1</th>\n",
       "      <td>BIOKEY</td>\n",
       "      <td>10818.0</td>\n",
       "      <td>3438</td>\n",
       "      <td>BIOKEY_13_Pre_TGGCTGGAGATCCGAG-1</td>\n",
       "      <td>BIOKEY_13</td>\n",
       "      <td>Pre</td>\n",
       "      <td>n/a</td>\n",
       "      <td>HER2+</td>\n",
       "      <td>Fibroblast</td>\n",
       "      <td>treatment_naive</td>\n",
       "      <td>...</td>\n",
       "      <td>BIOKEY_13_Pre_n/a</td>\n",
       "      <td>enough</td>\n",
       "      <td>Bassez</td>\n",
       "      <td>Primary</td>\n",
       "      <td>3</td>\n",
       "      <td>3</td>\n",
       "      <td>3</td>\n",
       "      <td>3438</td>\n",
       "      <td>10818.0</td>\n",
       "      <td>3438</td>\n",
       "    </tr>\n",
       "    <tr>\n",
       "      <th>BIOKEY_13_Pre_TGAGCCGAGATGTGTA-1</th>\n",
       "      <td>BIOKEY</td>\n",
       "      <td>646.0</td>\n",
       "      <td>411</td>\n",
       "      <td>BIOKEY_13_Pre_TGAGCCGAGATGTGTA-1</td>\n",
       "      <td>BIOKEY_13</td>\n",
       "      <td>Pre</td>\n",
       "      <td>n/a</td>\n",
       "      <td>HER2+</td>\n",
       "      <td>Fibroblast</td>\n",
       "      <td>treatment_naive</td>\n",
       "      <td>...</td>\n",
       "      <td>BIOKEY_13_Pre_n/a</td>\n",
       "      <td>enough</td>\n",
       "      <td>Bassez</td>\n",
       "      <td>Primary</td>\n",
       "      <td>8</td>\n",
       "      <td>8</td>\n",
       "      <td>8</td>\n",
       "      <td>411</td>\n",
       "      <td>646.0</td>\n",
       "      <td>411</td>\n",
       "    </tr>\n",
       "    <tr>\n",
       "      <th>BIOKEY_13_Pre_GCGAGAAAGTGCGTGA-1</th>\n",
       "      <td>BIOKEY</td>\n",
       "      <td>3564.0</td>\n",
       "      <td>1588</td>\n",
       "      <td>BIOKEY_13_Pre_GCGAGAAAGTGCGTGA-1</td>\n",
       "      <td>BIOKEY_13</td>\n",
       "      <td>Pre</td>\n",
       "      <td>n/a</td>\n",
       "      <td>HER2+</td>\n",
       "      <td>Fibroblast</td>\n",
       "      <td>treatment_naive</td>\n",
       "      <td>...</td>\n",
       "      <td>BIOKEY_13_Pre_n/a</td>\n",
       "      <td>enough</td>\n",
       "      <td>Bassez</td>\n",
       "      <td>Primary</td>\n",
       "      <td>3</td>\n",
       "      <td>3</td>\n",
       "      <td>3</td>\n",
       "      <td>1588</td>\n",
       "      <td>3564.0</td>\n",
       "      <td>1588</td>\n",
       "    </tr>\n",
       "    <tr>\n",
       "      <th>BIOKEY_13_Pre_CTAGTGATCTGTGCAA-1</th>\n",
       "      <td>BIOKEY</td>\n",
       "      <td>7016.0</td>\n",
       "      <td>2180</td>\n",
       "      <td>BIOKEY_13_Pre_CTAGTGATCTGTGCAA-1</td>\n",
       "      <td>BIOKEY_13</td>\n",
       "      <td>Pre</td>\n",
       "      <td>n/a</td>\n",
       "      <td>HER2+</td>\n",
       "      <td>Fibroblast</td>\n",
       "      <td>treatment_naive</td>\n",
       "      <td>...</td>\n",
       "      <td>BIOKEY_13_Pre_n/a</td>\n",
       "      <td>enough</td>\n",
       "      <td>Bassez</td>\n",
       "      <td>Primary</td>\n",
       "      <td>5</td>\n",
       "      <td>5</td>\n",
       "      <td>5</td>\n",
       "      <td>2180</td>\n",
       "      <td>7016.0</td>\n",
       "      <td>2180</td>\n",
       "    </tr>\n",
       "    <tr>\n",
       "      <th>...</th>\n",
       "      <td>...</td>\n",
       "      <td>...</td>\n",
       "      <td>...</td>\n",
       "      <td>...</td>\n",
       "      <td>...</td>\n",
       "      <td>...</td>\n",
       "      <td>...</td>\n",
       "      <td>...</td>\n",
       "      <td>...</td>\n",
       "      <td>...</td>\n",
       "      <td>...</td>\n",
       "      <td>...</td>\n",
       "      <td>...</td>\n",
       "      <td>...</td>\n",
       "      <td>...</td>\n",
       "      <td>...</td>\n",
       "      <td>...</td>\n",
       "      <td>...</td>\n",
       "      <td>...</td>\n",
       "      <td>...</td>\n",
       "      <td>...</td>\n",
       "    </tr>\n",
       "    <tr>\n",
       "      <th>BIOKEY_24_Pre_GATTCAGTCAAGGTAA-1</th>\n",
       "      <td>BIOKEY</td>\n",
       "      <td>8436.0</td>\n",
       "      <td>2689</td>\n",
       "      <td>BIOKEY_24_Pre_GATTCAGTCAAGGTAA-1</td>\n",
       "      <td>BIOKEY_24</td>\n",
       "      <td>Pre</td>\n",
       "      <td>NE</td>\n",
       "      <td>ER+</td>\n",
       "      <td>Endothelial_cell</td>\n",
       "      <td>treatment_naive</td>\n",
       "      <td>...</td>\n",
       "      <td>BIOKEY_24_Pre_NE</td>\n",
       "      <td>enough</td>\n",
       "      <td>Bassez</td>\n",
       "      <td>Primary</td>\n",
       "      <td>10</td>\n",
       "      <td>10</td>\n",
       "      <td>10</td>\n",
       "      <td>2689</td>\n",
       "      <td>8436.0</td>\n",
       "      <td>2689</td>\n",
       "    </tr>\n",
       "    <tr>\n",
       "      <th>BIOKEY_24_Pre_ACATGGTGTTGGGACA-1</th>\n",
       "      <td>BIOKEY</td>\n",
       "      <td>13452.0</td>\n",
       "      <td>3313</td>\n",
       "      <td>BIOKEY_24_Pre_ACATGGTGTTGGGACA-1</td>\n",
       "      <td>BIOKEY_24</td>\n",
       "      <td>Pre</td>\n",
       "      <td>NE</td>\n",
       "      <td>ER+</td>\n",
       "      <td>T_cell</td>\n",
       "      <td>treatment_naive</td>\n",
       "      <td>...</td>\n",
       "      <td>BIOKEY_24_Pre_NE</td>\n",
       "      <td>enough</td>\n",
       "      <td>Bassez</td>\n",
       "      <td>Primary</td>\n",
       "      <td>20</td>\n",
       "      <td>20</td>\n",
       "      <td>20</td>\n",
       "      <td>3313</td>\n",
       "      <td>13452.0</td>\n",
       "      <td>3313</td>\n",
       "    </tr>\n",
       "    <tr>\n",
       "      <th>BIOKEY_24_Pre_GGGACCTTCTCGCTTG-1</th>\n",
       "      <td>BIOKEY</td>\n",
       "      <td>506.0</td>\n",
       "      <td>344</td>\n",
       "      <td>BIOKEY_24_Pre_GGGACCTTCTCGCTTG-1</td>\n",
       "      <td>BIOKEY_24</td>\n",
       "      <td>Pre</td>\n",
       "      <td>NE</td>\n",
       "      <td>ER+</td>\n",
       "      <td>Myeloid_cell</td>\n",
       "      <td>treatment_naive</td>\n",
       "      <td>...</td>\n",
       "      <td>BIOKEY_24_Pre_NE</td>\n",
       "      <td>enough</td>\n",
       "      <td>Bassez</td>\n",
       "      <td>Primary</td>\n",
       "      <td>6</td>\n",
       "      <td>6</td>\n",
       "      <td>6</td>\n",
       "      <td>344</td>\n",
       "      <td>506.0</td>\n",
       "      <td>344</td>\n",
       "    </tr>\n",
       "    <tr>\n",
       "      <th>BIOKEY_24_Pre_GTCGGGTGTTGATTGC-1</th>\n",
       "      <td>BIOKEY</td>\n",
       "      <td>3094.0</td>\n",
       "      <td>1072</td>\n",
       "      <td>BIOKEY_24_Pre_GTCGGGTGTTGATTGC-1</td>\n",
       "      <td>BIOKEY_24</td>\n",
       "      <td>Pre</td>\n",
       "      <td>NE</td>\n",
       "      <td>ER+</td>\n",
       "      <td>T_cell</td>\n",
       "      <td>treatment_naive</td>\n",
       "      <td>...</td>\n",
       "      <td>BIOKEY_24_Pre_NE</td>\n",
       "      <td>enough</td>\n",
       "      <td>Bassez</td>\n",
       "      <td>Primary</td>\n",
       "      <td>0</td>\n",
       "      <td>0</td>\n",
       "      <td>0</td>\n",
       "      <td>1072</td>\n",
       "      <td>3094.0</td>\n",
       "      <td>1072</td>\n",
       "    </tr>\n",
       "    <tr>\n",
       "      <th>BIOKEY_24_Pre_TACTCATTCTGCTTGC-1</th>\n",
       "      <td>BIOKEY</td>\n",
       "      <td>1471.0</td>\n",
       "      <td>771</td>\n",
       "      <td>BIOKEY_24_Pre_TACTCATTCTGCTTGC-1</td>\n",
       "      <td>BIOKEY_24</td>\n",
       "      <td>Pre</td>\n",
       "      <td>NE</td>\n",
       "      <td>ER+</td>\n",
       "      <td>T_cell</td>\n",
       "      <td>treatment_naive</td>\n",
       "      <td>...</td>\n",
       "      <td>BIOKEY_24_Pre_NE</td>\n",
       "      <td>enough</td>\n",
       "      <td>Bassez</td>\n",
       "      <td>Primary</td>\n",
       "      <td>0</td>\n",
       "      <td>0</td>\n",
       "      <td>0</td>\n",
       "      <td>771</td>\n",
       "      <td>1471.0</td>\n",
       "      <td>771</td>\n",
       "    </tr>\n",
       "  </tbody>\n",
       "</table>\n",
       "<p>41102 rows × 25 columns</p>\n",
       "</div>"
      ],
      "text/plain": [
       "                                 orig.ident  nCount_RNA  nFeature_RNA  \\\n",
       "BIOKEY_13_Pre_GCGGGTTCAATGAATG-1     BIOKEY      4986.0          1918   \n",
       "BIOKEY_13_Pre_TGGCTGGAGATCCGAG-1     BIOKEY     10818.0          3438   \n",
       "BIOKEY_13_Pre_TGAGCCGAGATGTGTA-1     BIOKEY       646.0           411   \n",
       "BIOKEY_13_Pre_GCGAGAAAGTGCGTGA-1     BIOKEY      3564.0          1588   \n",
       "BIOKEY_13_Pre_CTAGTGATCTGTGCAA-1     BIOKEY      7016.0          2180   \n",
       "...                                     ...         ...           ...   \n",
       "BIOKEY_24_Pre_GATTCAGTCAAGGTAA-1     BIOKEY      8436.0          2689   \n",
       "BIOKEY_24_Pre_ACATGGTGTTGGGACA-1     BIOKEY     13452.0          3313   \n",
       "BIOKEY_24_Pre_GGGACCTTCTCGCTTG-1     BIOKEY       506.0           344   \n",
       "BIOKEY_24_Pre_GTCGGGTGTTGATTGC-1     BIOKEY      3094.0          1072   \n",
       "BIOKEY_24_Pre_TACTCATTCTGCTTGC-1     BIOKEY      1471.0           771   \n",
       "\n",
       "                                                           cell_id   donor_id  \\\n",
       "BIOKEY_13_Pre_GCGGGTTCAATGAATG-1  BIOKEY_13_Pre_GCGGGTTCAATGAATG-1  BIOKEY_13   \n",
       "BIOKEY_13_Pre_TGGCTGGAGATCCGAG-1  BIOKEY_13_Pre_TGGCTGGAGATCCGAG-1  BIOKEY_13   \n",
       "BIOKEY_13_Pre_TGAGCCGAGATGTGTA-1  BIOKEY_13_Pre_TGAGCCGAGATGTGTA-1  BIOKEY_13   \n",
       "BIOKEY_13_Pre_GCGAGAAAGTGCGTGA-1  BIOKEY_13_Pre_GCGAGAAAGTGCGTGA-1  BIOKEY_13   \n",
       "BIOKEY_13_Pre_CTAGTGATCTGTGCAA-1  BIOKEY_13_Pre_CTAGTGATCTGTGCAA-1  BIOKEY_13   \n",
       "...                                                            ...        ...   \n",
       "BIOKEY_24_Pre_GATTCAGTCAAGGTAA-1  BIOKEY_24_Pre_GATTCAGTCAAGGTAA-1  BIOKEY_24   \n",
       "BIOKEY_24_Pre_ACATGGTGTTGGGACA-1  BIOKEY_24_Pre_ACATGGTGTTGGGACA-1  BIOKEY_24   \n",
       "BIOKEY_24_Pre_GGGACCTTCTCGCTTG-1  BIOKEY_24_Pre_GGGACCTTCTCGCTTG-1  BIOKEY_24   \n",
       "BIOKEY_24_Pre_GTCGGGTGTTGATTGC-1  BIOKEY_24_Pre_GTCGGGTGTTGATTGC-1  BIOKEY_24   \n",
       "BIOKEY_24_Pre_TACTCATTCTGCTTGC-1  BIOKEY_24_Pre_TACTCATTCTGCTTGC-1  BIOKEY_24   \n",
       "\n",
       "                                 timepoint outcome Cancer_type  \\\n",
       "BIOKEY_13_Pre_GCGGGTTCAATGAATG-1       Pre     n/a       HER2+   \n",
       "BIOKEY_13_Pre_TGGCTGGAGATCCGAG-1       Pre     n/a       HER2+   \n",
       "BIOKEY_13_Pre_TGAGCCGAGATGTGTA-1       Pre     n/a       HER2+   \n",
       "BIOKEY_13_Pre_GCGAGAAAGTGCGTGA-1       Pre     n/a       HER2+   \n",
       "BIOKEY_13_Pre_CTAGTGATCTGTGCAA-1       Pre     n/a       HER2+   \n",
       "...                                    ...     ...         ...   \n",
       "BIOKEY_24_Pre_GATTCAGTCAAGGTAA-1       Pre      NE         ER+   \n",
       "BIOKEY_24_Pre_ACATGGTGTTGGGACA-1       Pre      NE         ER+   \n",
       "BIOKEY_24_Pre_GGGACCTTCTCGCTTG-1       Pre      NE         ER+   \n",
       "BIOKEY_24_Pre_GTCGGGTGTTGATTGC-1       Pre      NE         ER+   \n",
       "BIOKEY_24_Pre_TACTCATTCTGCTTGC-1       Pre      NE         ER+   \n",
       "\n",
       "                                        cell_types           cohort  ...  \\\n",
       "BIOKEY_13_Pre_GCGGGTTCAATGAATG-1      Myeloid_cell  treatment_naive  ...   \n",
       "BIOKEY_13_Pre_TGGCTGGAGATCCGAG-1        Fibroblast  treatment_naive  ...   \n",
       "BIOKEY_13_Pre_TGAGCCGAGATGTGTA-1        Fibroblast  treatment_naive  ...   \n",
       "BIOKEY_13_Pre_GCGAGAAAGTGCGTGA-1        Fibroblast  treatment_naive  ...   \n",
       "BIOKEY_13_Pre_CTAGTGATCTGTGCAA-1        Fibroblast  treatment_naive  ...   \n",
       "...                                            ...              ...  ...   \n",
       "BIOKEY_24_Pre_GATTCAGTCAAGGTAA-1  Endothelial_cell  treatment_naive  ...   \n",
       "BIOKEY_24_Pre_ACATGGTGTTGGGACA-1            T_cell  treatment_naive  ...   \n",
       "BIOKEY_24_Pre_GGGACCTTCTCGCTTG-1      Myeloid_cell  treatment_naive  ...   \n",
       "BIOKEY_24_Pre_GTCGGGTGTTGATTGC-1            T_cell  treatment_naive  ...   \n",
       "BIOKEY_24_Pre_TACTCATTCTGCTTGC-1            T_cell  treatment_naive  ...   \n",
       "\n",
       "                                 sample_id_pre_post_outcome enough_cells  \\\n",
       "BIOKEY_13_Pre_GCGGGTTCAATGAATG-1          BIOKEY_13_Pre_n/a       enough   \n",
       "BIOKEY_13_Pre_TGGCTGGAGATCCGAG-1          BIOKEY_13_Pre_n/a       enough   \n",
       "BIOKEY_13_Pre_TGAGCCGAGATGTGTA-1          BIOKEY_13_Pre_n/a       enough   \n",
       "BIOKEY_13_Pre_GCGAGAAAGTGCGTGA-1          BIOKEY_13_Pre_n/a       enough   \n",
       "BIOKEY_13_Pre_CTAGTGATCTGTGCAA-1          BIOKEY_13_Pre_n/a       enough   \n",
       "...                                                     ...          ...   \n",
       "BIOKEY_24_Pre_GATTCAGTCAAGGTAA-1           BIOKEY_24_Pre_NE       enough   \n",
       "BIOKEY_24_Pre_ACATGGTGTTGGGACA-1           BIOKEY_24_Pre_NE       enough   \n",
       "BIOKEY_24_Pre_GGGACCTTCTCGCTTG-1           BIOKEY_24_Pre_NE       enough   \n",
       "BIOKEY_24_Pre_GTCGGGTGTTGATTGC-1           BIOKEY_24_Pre_NE       enough   \n",
       "BIOKEY_24_Pre_TACTCATTCTGCTTGC-1           BIOKEY_24_Pre_NE       enough   \n",
       "\n",
       "                                 Study_name Primary_or_met RNA_snn_res.0.8  \\\n",
       "BIOKEY_13_Pre_GCGGGTTCAATGAATG-1     Bassez        Primary               6   \n",
       "BIOKEY_13_Pre_TGGCTGGAGATCCGAG-1     Bassez        Primary               3   \n",
       "BIOKEY_13_Pre_TGAGCCGAGATGTGTA-1     Bassez        Primary               8   \n",
       "BIOKEY_13_Pre_GCGAGAAAGTGCGTGA-1     Bassez        Primary               3   \n",
       "BIOKEY_13_Pre_CTAGTGATCTGTGCAA-1     Bassez        Primary               5   \n",
       "...                                     ...            ...             ...   \n",
       "BIOKEY_24_Pre_GATTCAGTCAAGGTAA-1     Bassez        Primary              10   \n",
       "BIOKEY_24_Pre_ACATGGTGTTGGGACA-1     Bassez        Primary              20   \n",
       "BIOKEY_24_Pre_GGGACCTTCTCGCTTG-1     Bassez        Primary               6   \n",
       "BIOKEY_24_Pre_GTCGGGTGTTGATTGC-1     Bassez        Primary               0   \n",
       "BIOKEY_24_Pre_TACTCATTCTGCTTGC-1     Bassez        Primary               0   \n",
       "\n",
       "                                 seurat_clusters ident n_genes_by_counts  \\\n",
       "BIOKEY_13_Pre_GCGGGTTCAATGAATG-1               6     6              1918   \n",
       "BIOKEY_13_Pre_TGGCTGGAGATCCGAG-1               3     3              3438   \n",
       "BIOKEY_13_Pre_TGAGCCGAGATGTGTA-1               8     8               411   \n",
       "BIOKEY_13_Pre_GCGAGAAAGTGCGTGA-1               3     3              1588   \n",
       "BIOKEY_13_Pre_CTAGTGATCTGTGCAA-1               5     5              2180   \n",
       "...                                          ...   ...               ...   \n",
       "BIOKEY_24_Pre_GATTCAGTCAAGGTAA-1              10    10              2689   \n",
       "BIOKEY_24_Pre_ACATGGTGTTGGGACA-1              20    20              3313   \n",
       "BIOKEY_24_Pre_GGGACCTTCTCGCTTG-1               6     6               344   \n",
       "BIOKEY_24_Pre_GTCGGGTGTTGATTGC-1               0     0              1072   \n",
       "BIOKEY_24_Pre_TACTCATTCTGCTTGC-1               0     0               771   \n",
       "\n",
       "                                 total_counts n_genes  \n",
       "BIOKEY_13_Pre_GCGGGTTCAATGAATG-1       4986.0    1918  \n",
       "BIOKEY_13_Pre_TGGCTGGAGATCCGAG-1      10818.0    3438  \n",
       "BIOKEY_13_Pre_TGAGCCGAGATGTGTA-1        646.0     411  \n",
       "BIOKEY_13_Pre_GCGAGAAAGTGCGTGA-1       3564.0    1588  \n",
       "BIOKEY_13_Pre_CTAGTGATCTGTGCAA-1       7016.0    2180  \n",
       "...                                       ...     ...  \n",
       "BIOKEY_24_Pre_GATTCAGTCAAGGTAA-1       8436.0    2689  \n",
       "BIOKEY_24_Pre_ACATGGTGTTGGGACA-1      13452.0    3313  \n",
       "BIOKEY_24_Pre_GGGACCTTCTCGCTTG-1        506.0     344  \n",
       "BIOKEY_24_Pre_GTCGGGTGTTGATTGC-1       3094.0    1072  \n",
       "BIOKEY_24_Pre_TACTCATTCTGCTTGC-1       1471.0     771  \n",
       "\n",
       "[41102 rows x 25 columns]"
      ]
     },
     "execution_count": 30,
     "metadata": {},
     "output_type": "execute_result"
    }
   ],
   "source": [
    "full_data.obs"
   ]
  },
  {
   "cell_type": "code",
   "execution_count": 10,
   "id": "0e0ab436-e83c-416f-956b-b880ce25f194",
   "metadata": {
    "tags": []
   },
   "outputs": [
    {
     "data": {
      "text/plain": [
       "256"
      ]
     },
     "execution_count": 10,
     "metadata": {},
     "output_type": "execute_result"
    }
   ],
   "source": [
    "len(adata_v1_continue.var_names)"
   ]
  },
  {
   "cell_type": "code",
   "execution_count": 32,
   "id": "8111f0a9-7d80-4cda-b37c-713e2b5dba20",
   "metadata": {
    "tags": []
   },
   "outputs": [
    {
     "data": {
      "text/plain": [
       "BIOKEY_13_Pre_GCGGGTTCAATGAATG-1     4\n",
       "BIOKEY_13_Pre_TGGCTGGAGATCCGAG-1     3\n",
       "BIOKEY_13_Pre_TGAGCCGAGATGTGTA-1     3\n",
       "BIOKEY_13_Pre_GCGAGAAAGTGCGTGA-1     3\n",
       "BIOKEY_13_Pre_CTAGTGATCTGTGCAA-1     3\n",
       "                                    ..\n",
       "BIOKEY_24_Pre_GATTCAGTCAAGGTAA-1     6\n",
       "BIOKEY_24_Pre_ACATGGTGTTGGGACA-1    11\n",
       "BIOKEY_24_Pre_GGGACCTTCTCGCTTG-1    10\n",
       "BIOKEY_24_Pre_GTCGGGTGTTGATTGC-1     0\n",
       "BIOKEY_24_Pre_TACTCATTCTGCTTGC-1     0\n",
       "Name: cluster, Length: 41101, dtype: category\n",
       "Categories (14, object): ['0', '1', '2', '3', ..., '10', '11', '12', '13']"
      ]
     },
     "execution_count": 32,
     "metadata": {},
     "output_type": "execute_result"
    }
   ],
   "source": [
    "adata_v1_continue.obs['cluster']"
   ]
  },
  {
   "cell_type": "code",
   "execution_count": 28,
   "id": "f9b53e5e-7bb3-45dd-9649-7dc8b56880b6",
   "metadata": {
    "tags": []
   },
   "outputs": [
    {
     "data": {
      "text/plain": [
       "True"
      ]
     },
     "execution_count": 28,
     "metadata": {},
     "output_type": "execute_result"
    }
   ],
   "source": [
    "'CD79A' in list(full_data.var_names)\n"
   ]
  },
  {
   "cell_type": "code",
   "execution_count": 34,
   "id": "86671805-6e0f-40f9-b2bc-e469b9d4ae01",
   "metadata": {
    "tags": []
   },
   "outputs": [
    {
     "name": "stdout",
     "output_type": "stream",
     "text": [
      "Missing marker genes (not in data): ['KRT18', 'PDPN', 'CD2', 'CD3D', 'CD3E']\n",
      "WARNING: adata.X seems to be already log-transformed.\n"
     ]
    },
    {
     "data": {
      "image/png": "[encoded data removed]",
      "text/plain": [
       "<Figure size 1000x600 with 5 Axes>"
      ]
     },
     "metadata": {},
     "output_type": "display_data"
    }
   ],
   "source": [
    "import scanpy as sc\n",
    "import matplotlib.pyplot as plt\n",
    "\n",
    "adata = full_data\n",
    "\n",
    "# Define canonical marker genes for selected TME cell types\n",
    "marker_dict = {\n",
    "    \"B cells\": ['MS4A1', 'CD19', 'CD79A'],\n",
    "    \"Cancer cells\": ['EPCAM', 'KRT19', 'KRT8', 'KRT18'],\n",
    "    \"Endothelial cells\": ['PECAM1', 'VWF', 'CD34'],\n",
    "    \"Fibroblasts\": ['FAP', 'PDPN', 'ACTA2', 'COL1A1'],\n",
    "    \"Mast cells\": ['TPSAB1', 'KIT', 'CPA3'],\n",
    "    \"Myeloid cells\": ['LYZ', 'CD14', 'CD68', 'CD163', 'FCGR3A'],\n",
    "    \"T cells\": ['CD3D', 'CD3E', 'CD2'],\n",
    "    \"pDC\": ['CLEC4C', 'LILRA4', 'GZMB']\n",
    "}\n",
    "# marker_dict = {\n",
    "#     \"B cells\": ['MS4A1', 'CD19', 'CD79A'],\n",
    "#     \"Cancer cells\": [\n",
    "#         # Epithelial markers\n",
    "#         'EPCAM', 'KRT19', 'KRT8', 'KRT18',\n",
    "#         # Luminal (ER+) subtype\n",
    "#         'ESR1', 'PGR', 'GATA3', 'FOXA1',\n",
    "#         # Basal-like/TNBC\n",
    "#         'KRT5', 'KRT14', 'EGFR',\n",
    "#         # HER2+ subtype\n",
    "#         'ERBB2', 'GRB7',\n",
    "#         # Proliferation\n",
    "#         'MKI67', 'AURKA', 'BIRC5',\n",
    "#         # EMT/stemness\n",
    "#         'VIM', 'ZEB1', 'CD44', 'ALDH1A1'\n",
    "#     ],\n",
    "#     \"Endothelial cells\": ['PECAM1', 'VWF', 'CD34'],\n",
    "#     \"Fibroblasts\": ['FAP', 'PDPN', 'ACTA2', 'COL1A1'],\n",
    "#     \"Mast cells\": ['TPSAB1', 'KIT', 'CPA3'],\n",
    "#     \"Myeloid cells\": ['LYZ', 'CD14', 'CD68', 'CD163', 'FCGR3A'],\n",
    "#     \"T cells\": ['CD3D', 'CD3E', 'CD2'],\n",
    "#     \"pDC\": ['CLEC4C', 'LILRA4', 'GZMB']\n",
    "# }\n",
    "\n",
    "# Flatten and check which markers are present\n",
    "all_markers = set(gene for genes in marker_dict.values() for gene in genes)\n",
    "present_markers = [gene for gene in all_markers if gene in adata.var_names]\n",
    "missing_markers = [gene for gene in all_markers if gene not in adata.var_names]\n",
    "\n",
    "print(\"Missing marker genes (not in data):\", missing_markers)\n",
    "\n",
    "# Reconstruct marker dict using only available genes\n",
    "filtered_marker_dict = {\n",
    "    cell_type: [gene for gene in genes if gene in present_markers]\n",
    "    for cell_type, genes in marker_dict.items()\n",
    "    if any(gene in present_markers for gene in genes)\n",
    "}\n",
    "\n",
    "# Optionally standardize gene expression first\n",
    "sc.pp.normalize_total(adata, target_sum=1e4)\n",
    "sc.pp.log1p(adata)\n",
    "\n",
    "# Dotplot using Scanpy\n",
    "fig = sc.pl.dotplot(\n",
    "    adata,\n",
    "    var_names=filtered_marker_dict,\n",
    "    groupby='cluster',  # Make sure this matches your clustering column\n",
    "    standard_scale='var',\n",
    "    dot_max=0.7,\n",
    "    color_map='Reds',\n",
    "    figsize=(10, 6),\n",
    "    dendrogram=False,\n",
    "    return_fig=True  # Get the matplotlib figure\n",
    ")\n",
    "fig.savefig('dotplot.png', dpi=100)\n",
    "plt.show()"
   ]
  },
  {
   "cell_type": "markdown",
   "id": "d0942533-face-4d16-b947-c671c5e6800b",
   "metadata": {},
   "source": [
    "# GF 2 [continue]"
   ]
  },
  {
   "cell_type": "code",
   "execution_count": 36,
   "id": "42d28cf8-9cab-4844-97ab-90daab29f019",
   "metadata": {
    "tags": []
   },
   "outputs": [],
   "source": [
    "sc.pp.neighbors(\n",
    "adata_v2_continue,\n",
    "use_rep=embedding_key,\n",
    "n_neighbors=15,\n",
    "metric=\"euclidean\", \n",
    "random_state=0\n",
    ")\n",
    "\n",
    "sc.tl.louvain(\n",
    "    adata_v2_continue,\n",
    "    key_added=\"cluster\",\n",
    "    random_state=0,\n",
    "    resolution=0.3\n",
    ")"
   ]
  },
  {
   "cell_type": "code",
   "execution_count": 37,
   "id": "a1aba7e9-e78b-4272-867c-7b9fc3bb18b5",
   "metadata": {
    "tags": []
   },
   "outputs": [],
   "source": [
    "full_data.uns = adata_v2_continue.uns\n",
    "full_data.obs['cluster'] = adata_v2_continue.obs['cluster']"
   ]
  },
  {
   "cell_type": "code",
   "execution_count": 39,
   "id": "71b38c5d-250d-438e-b39c-6fe2fef886d0",
   "metadata": {
    "tags": []
   },
   "outputs": [
    {
     "name": "stdout",
     "output_type": "stream",
     "text": [
      "Missing marker genes (not in data): ['KRT18', 'PDPN', 'CD2', 'CD3D', 'CD3E']\n",
      "WARNING: adata.X seems to be already log-transformed.\n"
     ]
    },
    {
     "data": {
      "image/png": "[encoded data removed]",
      "text/plain": [
       "<Figure size 1000x600 with 5 Axes>"
      ]
     },
     "metadata": {},
     "output_type": "display_data"
    }
   ],
   "source": [
    "adata = full_data\n",
    "\n",
    "# Define canonical marker genes for selected TME cell types\n",
    "marker_dict = {\n",
    "    \"B cells\": ['MS4A1', 'CD19', 'CD79A'],\n",
    "    \"Cancer cells\": ['EPCAM', 'KRT19', 'KRT8', 'KRT18'],\n",
    "    \"Endothelial cells\": ['PECAM1', 'VWF', 'CD34'],\n",
    "    \"Fibroblasts\": ['FAP', 'PDPN', 'ACTA2', 'COL1A1'],\n",
    "    \"Mast cells\": ['TPSAB1', 'KIT', 'CPA3'],\n",
    "    \"Myeloid cells\": ['LYZ', 'CD14', 'CD68', 'CD163', 'FCGR3A'],\n",
    "    \"T cells\": ['CD3D', 'CD3E', 'CD2'],\n",
    "    \"pDC\": ['CLEC4C', 'LILRA4', 'GZMB']\n",
    "}\n",
    "# marker_dict = {\n",
    "#     \"B cells\": ['MS4A1', 'CD19', 'CD79A'],\n",
    "#     \"Cancer cells\": [\n",
    "#         # Epithelial markers\n",
    "#         'EPCAM', 'KRT19', 'KRT8', 'KRT18',\n",
    "#         # Luminal (ER+) subtype\n",
    "#         'ESR1', 'PGR', 'GATA3', 'FOXA1',\n",
    "#         # Basal-like/TNBC\n",
    "#         'KRT5', 'KRT14', 'EGFR',\n",
    "#         # HER2+ subtype\n",
    "#         'ERBB2', 'GRB7',\n",
    "#         # Proliferation\n",
    "#         'MKI67', 'AURKA', 'BIRC5',\n",
    "#         # EMT/stemness\n",
    "#         'VIM', 'ZEB1', 'CD44', 'ALDH1A1'\n",
    "#     ],\n",
    "#     \"Endothelial cells\": ['PECAM1', 'VWF', 'CD34'],\n",
    "#     \"Fibroblasts\": ['FAP', 'PDPN', 'ACTA2', 'COL1A1'],\n",
    "#     \"Mast cells\": ['TPSAB1', 'KIT', 'CPA3'],\n",
    "#     \"Myeloid cells\": ['LYZ', 'CD14', 'CD68', 'CD163', 'FCGR3A'],\n",
    "#     \"T cells\": ['CD3D', 'CD3E', 'CD2'],\n",
    "#     \"pDC\": ['CLEC4C', 'LILRA4', 'GZMB']\n",
    "# }\n",
    "\n",
    "# Flatten and check which markers are present\n",
    "all_markers = set(gene for genes in marker_dict.values() for gene in genes)\n",
    "present_markers = [gene for gene in all_markers if gene in adata.var_names]\n",
    "missing_markers = [gene for gene in all_markers if gene not in adata.var_names]\n",
    "\n",
    "print(\"Missing marker genes (not in data):\", missing_markers)\n",
    "\n",
    "# Reconstruct marker dict using only available genes\n",
    "filtered_marker_dict = {\n",
    "    cell_type: [gene for gene in genes if gene in present_markers]\n",
    "    for cell_type, genes in marker_dict.items()\n",
    "    if any(gene in present_markers for gene in genes)\n",
    "}\n",
    "\n",
    "# Optionally standardize gene expression first\n",
    "sc.pp.normalize_total(adata, target_sum=1e4)\n",
    "sc.pp.log1p(adata)\n",
    "\n",
    "# Dotplot using Scanpy\n",
    "fig = sc.pl.dotplot(\n",
    "    adata,\n",
    "    var_names=filtered_marker_dict,\n",
    "    groupby='cluster',  # Make sure this matches your clustering column\n",
    "    standard_scale='var',\n",
    "    dot_max=0.7,\n",
    "    color_map='Reds',\n",
    "    figsize=(10, 6),\n",
    "    dendrogram=False,\n",
    "    return_fig=True  # Get the matplotlib figure\n",
    ")\n",
    "fig.savefig('dotplot_gf2_continue.png', dpi=100)\n",
    "plt.show()"
   ]
  },
  {
   "cell_type": "code",
   "execution_count": null,
   "id": "14d1403a-6da6-4106-b4d7-b2f797d59baf",
   "metadata": {},
   "outputs": [],
   "source": []
  }
 ],
 "metadata": {
  "environment": {
   "kernel": "scfoundation",
   "name": "pytorch-gpu.2-2.m128",
   "type": "gcloud",
   "uri": "us-docker.pkg.dev/deeplearning-platform-release/gcr.io/pytorch-gpu.2-2:m128"
  },
  "kernelspec": {
   "display_name": "Python (scfoundation )",
   "language": "python",
   "name": "scfoundation"
  },
  "language_info": {
   "codemirror_mode": {
    "name": "ipython",
    "version": 3
   },
   "file_extension": ".py",
   "mimetype": "text/x-python",
   "name": "python",
   "nbconvert_exporter": "python",
   "pygments_lexer": "ipython3",
   "version": "3.10.18"
  }
 },
 "nbformat": 4,
 "nbformat_minor": 5
}
