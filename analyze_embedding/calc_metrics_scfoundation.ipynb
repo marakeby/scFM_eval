{
 "cells": [
  {
   "cell_type": "code",
   "execution_count": 22,
   "id": "4aeffcb4-4a32-461f-b51d-76465bed73a9",
   "metadata": {
    "tags": []
   },
   "outputs": [],
   "source": [
    "import numpy as np\n",
    "import pandas as pd"
   ]
  },
  {
   "cell_type": "markdown",
   "id": "e595cd6b-8039-4b33-adac-5efdf7931fc9",
   "metadata": {},
   "source": [
    "## DATA/brca_full/brca_cells_only_3000cell_4096gene.h5ad"
   ]
  },
  {
   "cell_type": "markdown",
   "id": "0898c12e-1f9d-4b48-86cb-54259b49687d",
   "metadata": {},
   "source": [
    "# plot embeddings\n"
   ]
  },
  {
   "cell_type": "code",
   "execution_count": 3,
   "id": "1c5823eb-248e-49ad-aa75-0e011e9dd4b5",
   "metadata": {
    "tags": []
   },
   "outputs": [],
   "source": [
    "#load embeddings\n",
    "data_path = '/home/jupyter/__output_clean/brca_full/all_cells/data.h5ad'"
   ]
  },
  {
   "cell_type": "code",
   "execution_count": 4,
   "id": "d42f25ed-d3bc-48cf-b148-09a758120d71",
   "metadata": {
    "tags": []
   },
   "outputs": [],
   "source": [
    "import anndata as ad\n",
    "data_path\n",
    "adata =ad.read_h5ad(data_path)"
   ]
  },
  {
   "cell_type": "code",
   "execution_count": 5,
   "id": "ef3dc948-8212-4c45-a5cf-8ca2b6c5e96b",
   "metadata": {
    "tags": []
   },
   "outputs": [
    {
     "data": {
      "text/plain": [
       "AnnData object with n_obs × n_vars = 87326 × 4096\n",
       "    obs: 'orig.ident', 'nCount_RNA', 'nFeature_RNA', 'cell_id', 'donor_id', 'timepoint', 'outcome', 'Cancer_type', 'cell_types', 'cohort', 'pre_post', 'donor_id_pre_post', 'donor_id_outcome', 'donor_id_cell_types', 'donor_id_cell_types_pre_post', 'sample_id_pre_post_outcome', 'enough_cells', 'Study_name', 'Primary_or_met', 'RNA_snn_res.0.8', 'seurat_clusters', 'ident', 'n_genes_by_counts', 'total_counts', 'n_genes'\n",
       "    var: 'n_cells_by_counts', 'mean_counts', 'pct_dropout_by_counts', 'total_counts', 'n_cells', 'highly_variable', 'means', 'dispersions', 'dispersions_norm'\n",
       "    uns: 'X_name', 'hvg', 'log1p'\n",
       "    obsm: 'PCA', 'UMAP', 'X_scfoundation'\n",
       "    layers: 'counts', 'logcounts', 'scaledata'"
      ]
     },
     "execution_count": 5,
     "metadata": {},
     "output_type": "execute_result"
    }
   ],
   "source": [
    "adata"
   ]
  },
  {
   "cell_type": "code",
   "execution_count": null,
   "id": "c3c0b3f8-f2c9-4f65-8c77-7522c421f320",
   "metadata": {},
   "outputs": [],
   "source": []
  },
  {
   "cell_type": "code",
   "execution_count": 6,
   "id": "298b89c6-a517-460b-b14e-fc710d497753",
   "metadata": {
    "tags": []
   },
   "outputs": [
    {
     "name": "stderr",
     "output_type": "stream",
     "text": [
      "/opt/miniforge3/envs/scfoundation/lib/python3.10/site-packages/louvain/__init__.py:54: UserWarning: pkg_resources is deprecated as an API. See https://setuptools.pypa.io/en/latest/pkg_resources.html. The pkg_resources package is slated for removal as early as 2025-11-30. Refrain from using this package or pin to Setuptools<81.\n",
      "  from pkg_resources import get_distribution, DistributionNotFound\n"
     ]
    }
   ],
   "source": [
    "import scanpy as sc\n",
    "import matplotlib.pyplot as plt\n",
    "# from sklearn.decomposition import PCA"
   ]
  },
  {
   "cell_type": "code",
   "execution_count": 7,
   "id": "af18f882-8b38-4144-a00c-6010139588e3",
   "metadata": {
    "tags": []
   },
   "outputs": [
    {
     "data": {
      "text/html": [
       "<div>\n",
       "<style scoped>\n",
       "    .dataframe tbody tr th:only-of-type {\n",
       "        vertical-align: middle;\n",
       "    }\n",
       "\n",
       "    .dataframe tbody tr th {\n",
       "        vertical-align: top;\n",
       "    }\n",
       "\n",
       "    .dataframe thead th {\n",
       "        text-align: right;\n",
       "    }\n",
       "</style>\n",
       "<table border=\"1\" class=\"dataframe\">\n",
       "  <thead>\n",
       "    <tr style=\"text-align: right;\">\n",
       "      <th></th>\n",
       "      <th>orig.ident</th>\n",
       "      <th>nCount_RNA</th>\n",
       "      <th>nFeature_RNA</th>\n",
       "      <th>cell_id</th>\n",
       "      <th>donor_id</th>\n",
       "      <th>timepoint</th>\n",
       "      <th>outcome</th>\n",
       "      <th>Cancer_type</th>\n",
       "      <th>cell_types</th>\n",
       "      <th>cohort</th>\n",
       "      <th>...</th>\n",
       "      <th>sample_id_pre_post_outcome</th>\n",
       "      <th>enough_cells</th>\n",
       "      <th>Study_name</th>\n",
       "      <th>Primary_or_met</th>\n",
       "      <th>RNA_snn_res.0.8</th>\n",
       "      <th>seurat_clusters</th>\n",
       "      <th>ident</th>\n",
       "      <th>n_genes_by_counts</th>\n",
       "      <th>total_counts</th>\n",
       "      <th>n_genes</th>\n",
       "    </tr>\n",
       "  </thead>\n",
       "  <tbody>\n",
       "    <tr>\n",
       "      <th>BIOKEY_13_Pre_GCGGGTTCAATGAATG-1</th>\n",
       "      <td>BIOKEY</td>\n",
       "      <td>4986.0</td>\n",
       "      <td>1918</td>\n",
       "      <td>BIOKEY_13_Pre_GCGGGTTCAATGAATG-1</td>\n",
       "      <td>BIOKEY_13</td>\n",
       "      <td>Pre</td>\n",
       "      <td>n/a</td>\n",
       "      <td>HER2+</td>\n",
       "      <td>Myeloid_cell</td>\n",
       "      <td>treatment_naive</td>\n",
       "      <td>...</td>\n",
       "      <td>BIOKEY_13_Pre_n/a</td>\n",
       "      <td>enough</td>\n",
       "      <td>Bassez</td>\n",
       "      <td>Primary</td>\n",
       "      <td>6</td>\n",
       "      <td>6</td>\n",
       "      <td>6</td>\n",
       "      <td>1918</td>\n",
       "      <td>4986.0</td>\n",
       "      <td>1918</td>\n",
       "    </tr>\n",
       "    <tr>\n",
       "      <th>BIOKEY_13_On_GTCTCGTCACCATCCT-1</th>\n",
       "      <td>BIOKEY</td>\n",
       "      <td>876.0</td>\n",
       "      <td>640</td>\n",
       "      <td>BIOKEY_13_On_GTCTCGTCACCATCCT-1</td>\n",
       "      <td>BIOKEY_13</td>\n",
       "      <td>On</td>\n",
       "      <td>n/a</td>\n",
       "      <td>HER2+</td>\n",
       "      <td>Cancer_cell</td>\n",
       "      <td>treatment_naive</td>\n",
       "      <td>...</td>\n",
       "      <td>BIOKEY_13_Post_n/a</td>\n",
       "      <td>enough</td>\n",
       "      <td>Bassez</td>\n",
       "      <td>Primary</td>\n",
       "      <td>0</td>\n",
       "      <td>0</td>\n",
       "      <td>0</td>\n",
       "      <td>640</td>\n",
       "      <td>876.0</td>\n",
       "      <td>640</td>\n",
       "    </tr>\n",
       "    <tr>\n",
       "      <th>BIOKEY_13_Pre_TGGCTGGAGATCCGAG-1</th>\n",
       "      <td>BIOKEY</td>\n",
       "      <td>10818.0</td>\n",
       "      <td>3438</td>\n",
       "      <td>BIOKEY_13_Pre_TGGCTGGAGATCCGAG-1</td>\n",
       "      <td>BIOKEY_13</td>\n",
       "      <td>Pre</td>\n",
       "      <td>n/a</td>\n",
       "      <td>HER2+</td>\n",
       "      <td>Fibroblast</td>\n",
       "      <td>treatment_naive</td>\n",
       "      <td>...</td>\n",
       "      <td>BIOKEY_13_Pre_n/a</td>\n",
       "      <td>enough</td>\n",
       "      <td>Bassez</td>\n",
       "      <td>Primary</td>\n",
       "      <td>3</td>\n",
       "      <td>3</td>\n",
       "      <td>3</td>\n",
       "      <td>3438</td>\n",
       "      <td>10818.0</td>\n",
       "      <td>3438</td>\n",
       "    </tr>\n",
       "    <tr>\n",
       "      <th>BIOKEY_13_Pre_TGAGCCGAGATGTGTA-1</th>\n",
       "      <td>BIOKEY</td>\n",
       "      <td>646.0</td>\n",
       "      <td>411</td>\n",
       "      <td>BIOKEY_13_Pre_TGAGCCGAGATGTGTA-1</td>\n",
       "      <td>BIOKEY_13</td>\n",
       "      <td>Pre</td>\n",
       "      <td>n/a</td>\n",
       "      <td>HER2+</td>\n",
       "      <td>Fibroblast</td>\n",
       "      <td>treatment_naive</td>\n",
       "      <td>...</td>\n",
       "      <td>BIOKEY_13_Pre_n/a</td>\n",
       "      <td>enough</td>\n",
       "      <td>Bassez</td>\n",
       "      <td>Primary</td>\n",
       "      <td>8</td>\n",
       "      <td>8</td>\n",
       "      <td>8</td>\n",
       "      <td>411</td>\n",
       "      <td>646.0</td>\n",
       "      <td>411</td>\n",
       "    </tr>\n",
       "    <tr>\n",
       "      <th>BIOKEY_13_Pre_GCGAGAAAGTGCGTGA-1</th>\n",
       "      <td>BIOKEY</td>\n",
       "      <td>3564.0</td>\n",
       "      <td>1588</td>\n",
       "      <td>BIOKEY_13_Pre_GCGAGAAAGTGCGTGA-1</td>\n",
       "      <td>BIOKEY_13</td>\n",
       "      <td>Pre</td>\n",
       "      <td>n/a</td>\n",
       "      <td>HER2+</td>\n",
       "      <td>Fibroblast</td>\n",
       "      <td>treatment_naive</td>\n",
       "      <td>...</td>\n",
       "      <td>BIOKEY_13_Pre_n/a</td>\n",
       "      <td>enough</td>\n",
       "      <td>Bassez</td>\n",
       "      <td>Primary</td>\n",
       "      <td>3</td>\n",
       "      <td>3</td>\n",
       "      <td>3</td>\n",
       "      <td>1588</td>\n",
       "      <td>3564.0</td>\n",
       "      <td>1588</td>\n",
       "    </tr>\n",
       "    <tr>\n",
       "      <th>...</th>\n",
       "      <td>...</td>\n",
       "      <td>...</td>\n",
       "      <td>...</td>\n",
       "      <td>...</td>\n",
       "      <td>...</td>\n",
       "      <td>...</td>\n",
       "      <td>...</td>\n",
       "      <td>...</td>\n",
       "      <td>...</td>\n",
       "      <td>...</td>\n",
       "      <td>...</td>\n",
       "      <td>...</td>\n",
       "      <td>...</td>\n",
       "      <td>...</td>\n",
       "      <td>...</td>\n",
       "      <td>...</td>\n",
       "      <td>...</td>\n",
       "      <td>...</td>\n",
       "      <td>...</td>\n",
       "      <td>...</td>\n",
       "      <td>...</td>\n",
       "    </tr>\n",
       "    <tr>\n",
       "      <th>BIOKEY_24_Pre_GGGACCTTCTCGCTTG-1</th>\n",
       "      <td>BIOKEY</td>\n",
       "      <td>506.0</td>\n",
       "      <td>344</td>\n",
       "      <td>BIOKEY_24_Pre_GGGACCTTCTCGCTTG-1</td>\n",
       "      <td>BIOKEY_24</td>\n",
       "      <td>Pre</td>\n",
       "      <td>NE</td>\n",
       "      <td>ER+</td>\n",
       "      <td>Myeloid_cell</td>\n",
       "      <td>treatment_naive</td>\n",
       "      <td>...</td>\n",
       "      <td>BIOKEY_24_Pre_NE</td>\n",
       "      <td>enough</td>\n",
       "      <td>Bassez</td>\n",
       "      <td>Primary</td>\n",
       "      <td>6</td>\n",
       "      <td>6</td>\n",
       "      <td>6</td>\n",
       "      <td>344</td>\n",
       "      <td>506.0</td>\n",
       "      <td>344</td>\n",
       "    </tr>\n",
       "    <tr>\n",
       "      <th>BIOKEY_24_On_AGTAGTCCACACAGAG-1</th>\n",
       "      <td>BIOKEY</td>\n",
       "      <td>13548.0</td>\n",
       "      <td>3040</td>\n",
       "      <td>BIOKEY_24_On_AGTAGTCCACACAGAG-1</td>\n",
       "      <td>BIOKEY_24</td>\n",
       "      <td>On</td>\n",
       "      <td>NE</td>\n",
       "      <td>ER+</td>\n",
       "      <td>Fibroblast</td>\n",
       "      <td>treatment_naive</td>\n",
       "      <td>...</td>\n",
       "      <td>BIOKEY_24_Post_NE</td>\n",
       "      <td>enough</td>\n",
       "      <td>Bassez</td>\n",
       "      <td>Primary</td>\n",
       "      <td>5</td>\n",
       "      <td>5</td>\n",
       "      <td>5</td>\n",
       "      <td>3040</td>\n",
       "      <td>13548.0</td>\n",
       "      <td>3040</td>\n",
       "    </tr>\n",
       "    <tr>\n",
       "      <th>BIOKEY_24_Pre_GTCGGGTGTTGATTGC-1</th>\n",
       "      <td>BIOKEY</td>\n",
       "      <td>3094.0</td>\n",
       "      <td>1072</td>\n",
       "      <td>BIOKEY_24_Pre_GTCGGGTGTTGATTGC-1</td>\n",
       "      <td>BIOKEY_24</td>\n",
       "      <td>Pre</td>\n",
       "      <td>NE</td>\n",
       "      <td>ER+</td>\n",
       "      <td>T_cell</td>\n",
       "      <td>treatment_naive</td>\n",
       "      <td>...</td>\n",
       "      <td>BIOKEY_24_Pre_NE</td>\n",
       "      <td>enough</td>\n",
       "      <td>Bassez</td>\n",
       "      <td>Primary</td>\n",
       "      <td>0</td>\n",
       "      <td>0</td>\n",
       "      <td>0</td>\n",
       "      <td>1072</td>\n",
       "      <td>3094.0</td>\n",
       "      <td>1072</td>\n",
       "    </tr>\n",
       "    <tr>\n",
       "      <th>BIOKEY_24_Pre_TACTCATTCTGCTTGC-1</th>\n",
       "      <td>BIOKEY</td>\n",
       "      <td>1471.0</td>\n",
       "      <td>771</td>\n",
       "      <td>BIOKEY_24_Pre_TACTCATTCTGCTTGC-1</td>\n",
       "      <td>BIOKEY_24</td>\n",
       "      <td>Pre</td>\n",
       "      <td>NE</td>\n",
       "      <td>ER+</td>\n",
       "      <td>T_cell</td>\n",
       "      <td>treatment_naive</td>\n",
       "      <td>...</td>\n",
       "      <td>BIOKEY_24_Pre_NE</td>\n",
       "      <td>enough</td>\n",
       "      <td>Bassez</td>\n",
       "      <td>Primary</td>\n",
       "      <td>0</td>\n",
       "      <td>0</td>\n",
       "      <td>0</td>\n",
       "      <td>771</td>\n",
       "      <td>1471.0</td>\n",
       "      <td>771</td>\n",
       "    </tr>\n",
       "    <tr>\n",
       "      <th>BIOKEY_24_On_TACCTTACAAGGTTTC-1</th>\n",
       "      <td>BIOKEY</td>\n",
       "      <td>11898.0</td>\n",
       "      <td>3126</td>\n",
       "      <td>BIOKEY_24_On_TACCTTACAAGGTTTC-1</td>\n",
       "      <td>BIOKEY_24</td>\n",
       "      <td>On</td>\n",
       "      <td>NE</td>\n",
       "      <td>ER+</td>\n",
       "      <td>Myeloid_cell</td>\n",
       "      <td>treatment_naive</td>\n",
       "      <td>...</td>\n",
       "      <td>BIOKEY_24_Post_NE</td>\n",
       "      <td>enough</td>\n",
       "      <td>Bassez</td>\n",
       "      <td>Primary</td>\n",
       "      <td>2</td>\n",
       "      <td>2</td>\n",
       "      <td>2</td>\n",
       "      <td>3126</td>\n",
       "      <td>11898.0</td>\n",
       "      <td>3126</td>\n",
       "    </tr>\n",
       "  </tbody>\n",
       "</table>\n",
       "<p>87326 rows × 25 columns</p>\n",
       "</div>"
      ],
      "text/plain": [
       "                                 orig.ident  nCount_RNA  nFeature_RNA  \\\n",
       "BIOKEY_13_Pre_GCGGGTTCAATGAATG-1     BIOKEY      4986.0          1918   \n",
       "BIOKEY_13_On_GTCTCGTCACCATCCT-1      BIOKEY       876.0           640   \n",
       "BIOKEY_13_Pre_TGGCTGGAGATCCGAG-1     BIOKEY     10818.0          3438   \n",
       "BIOKEY_13_Pre_TGAGCCGAGATGTGTA-1     BIOKEY       646.0           411   \n",
       "BIOKEY_13_Pre_GCGAGAAAGTGCGTGA-1     BIOKEY      3564.0          1588   \n",
       "...                                     ...         ...           ...   \n",
       "BIOKEY_24_Pre_GGGACCTTCTCGCTTG-1     BIOKEY       506.0           344   \n",
       "BIOKEY_24_On_AGTAGTCCACACAGAG-1      BIOKEY     13548.0          3040   \n",
       "BIOKEY_24_Pre_GTCGGGTGTTGATTGC-1     BIOKEY      3094.0          1072   \n",
       "BIOKEY_24_Pre_TACTCATTCTGCTTGC-1     BIOKEY      1471.0           771   \n",
       "BIOKEY_24_On_TACCTTACAAGGTTTC-1      BIOKEY     11898.0          3126   \n",
       "\n",
       "                                                           cell_id   donor_id  \\\n",
       "BIOKEY_13_Pre_GCGGGTTCAATGAATG-1  BIOKEY_13_Pre_GCGGGTTCAATGAATG-1  BIOKEY_13   \n",
       "BIOKEY_13_On_GTCTCGTCACCATCCT-1    BIOKEY_13_On_GTCTCGTCACCATCCT-1  BIOKEY_13   \n",
       "BIOKEY_13_Pre_TGGCTGGAGATCCGAG-1  BIOKEY_13_Pre_TGGCTGGAGATCCGAG-1  BIOKEY_13   \n",
       "BIOKEY_13_Pre_TGAGCCGAGATGTGTA-1  BIOKEY_13_Pre_TGAGCCGAGATGTGTA-1  BIOKEY_13   \n",
       "BIOKEY_13_Pre_GCGAGAAAGTGCGTGA-1  BIOKEY_13_Pre_GCGAGAAAGTGCGTGA-1  BIOKEY_13   \n",
       "...                                                            ...        ...   \n",
       "BIOKEY_24_Pre_GGGACCTTCTCGCTTG-1  BIOKEY_24_Pre_GGGACCTTCTCGCTTG-1  BIOKEY_24   \n",
       "BIOKEY_24_On_AGTAGTCCACACAGAG-1    BIOKEY_24_On_AGTAGTCCACACAGAG-1  BIOKEY_24   \n",
       "BIOKEY_24_Pre_GTCGGGTGTTGATTGC-1  BIOKEY_24_Pre_GTCGGGTGTTGATTGC-1  BIOKEY_24   \n",
       "BIOKEY_24_Pre_TACTCATTCTGCTTGC-1  BIOKEY_24_Pre_TACTCATTCTGCTTGC-1  BIOKEY_24   \n",
       "BIOKEY_24_On_TACCTTACAAGGTTTC-1    BIOKEY_24_On_TACCTTACAAGGTTTC-1  BIOKEY_24   \n",
       "\n",
       "                                 timepoint outcome Cancer_type    cell_types  \\\n",
       "BIOKEY_13_Pre_GCGGGTTCAATGAATG-1       Pre     n/a       HER2+  Myeloid_cell   \n",
       "BIOKEY_13_On_GTCTCGTCACCATCCT-1         On     n/a       HER2+   Cancer_cell   \n",
       "BIOKEY_13_Pre_TGGCTGGAGATCCGAG-1       Pre     n/a       HER2+    Fibroblast   \n",
       "BIOKEY_13_Pre_TGAGCCGAGATGTGTA-1       Pre     n/a       HER2+    Fibroblast   \n",
       "BIOKEY_13_Pre_GCGAGAAAGTGCGTGA-1       Pre     n/a       HER2+    Fibroblast   \n",
       "...                                    ...     ...         ...           ...   \n",
       "BIOKEY_24_Pre_GGGACCTTCTCGCTTG-1       Pre      NE         ER+  Myeloid_cell   \n",
       "BIOKEY_24_On_AGTAGTCCACACAGAG-1         On      NE         ER+    Fibroblast   \n",
       "BIOKEY_24_Pre_GTCGGGTGTTGATTGC-1       Pre      NE         ER+        T_cell   \n",
       "BIOKEY_24_Pre_TACTCATTCTGCTTGC-1       Pre      NE         ER+        T_cell   \n",
       "BIOKEY_24_On_TACCTTACAAGGTTTC-1         On      NE         ER+  Myeloid_cell   \n",
       "\n",
       "                                           cohort  ...  \\\n",
       "BIOKEY_13_Pre_GCGGGTTCAATGAATG-1  treatment_naive  ...   \n",
       "BIOKEY_13_On_GTCTCGTCACCATCCT-1   treatment_naive  ...   \n",
       "BIOKEY_13_Pre_TGGCTGGAGATCCGAG-1  treatment_naive  ...   \n",
       "BIOKEY_13_Pre_TGAGCCGAGATGTGTA-1  treatment_naive  ...   \n",
       "BIOKEY_13_Pre_GCGAGAAAGTGCGTGA-1  treatment_naive  ...   \n",
       "...                                           ...  ...   \n",
       "BIOKEY_24_Pre_GGGACCTTCTCGCTTG-1  treatment_naive  ...   \n",
       "BIOKEY_24_On_AGTAGTCCACACAGAG-1   treatment_naive  ...   \n",
       "BIOKEY_24_Pre_GTCGGGTGTTGATTGC-1  treatment_naive  ...   \n",
       "BIOKEY_24_Pre_TACTCATTCTGCTTGC-1  treatment_naive  ...   \n",
       "BIOKEY_24_On_TACCTTACAAGGTTTC-1   treatment_naive  ...   \n",
       "\n",
       "                                 sample_id_pre_post_outcome enough_cells  \\\n",
       "BIOKEY_13_Pre_GCGGGTTCAATGAATG-1          BIOKEY_13_Pre_n/a       enough   \n",
       "BIOKEY_13_On_GTCTCGTCACCATCCT-1          BIOKEY_13_Post_n/a       enough   \n",
       "BIOKEY_13_Pre_TGGCTGGAGATCCGAG-1          BIOKEY_13_Pre_n/a       enough   \n",
       "BIOKEY_13_Pre_TGAGCCGAGATGTGTA-1          BIOKEY_13_Pre_n/a       enough   \n",
       "BIOKEY_13_Pre_GCGAGAAAGTGCGTGA-1          BIOKEY_13_Pre_n/a       enough   \n",
       "...                                                     ...          ...   \n",
       "BIOKEY_24_Pre_GGGACCTTCTCGCTTG-1           BIOKEY_24_Pre_NE       enough   \n",
       "BIOKEY_24_On_AGTAGTCCACACAGAG-1           BIOKEY_24_Post_NE       enough   \n",
       "BIOKEY_24_Pre_GTCGGGTGTTGATTGC-1           BIOKEY_24_Pre_NE       enough   \n",
       "BIOKEY_24_Pre_TACTCATTCTGCTTGC-1           BIOKEY_24_Pre_NE       enough   \n",
       "BIOKEY_24_On_TACCTTACAAGGTTTC-1           BIOKEY_24_Post_NE       enough   \n",
       "\n",
       "                                 Study_name Primary_or_met RNA_snn_res.0.8  \\\n",
       "BIOKEY_13_Pre_GCGGGTTCAATGAATG-1     Bassez        Primary               6   \n",
       "BIOKEY_13_On_GTCTCGTCACCATCCT-1      Bassez        Primary               0   \n",
       "BIOKEY_13_Pre_TGGCTGGAGATCCGAG-1     Bassez        Primary               3   \n",
       "BIOKEY_13_Pre_TGAGCCGAGATGTGTA-1     Bassez        Primary               8   \n",
       "BIOKEY_13_Pre_GCGAGAAAGTGCGTGA-1     Bassez        Primary               3   \n",
       "...                                     ...            ...             ...   \n",
       "BIOKEY_24_Pre_GGGACCTTCTCGCTTG-1     Bassez        Primary               6   \n",
       "BIOKEY_24_On_AGTAGTCCACACAGAG-1      Bassez        Primary               5   \n",
       "BIOKEY_24_Pre_GTCGGGTGTTGATTGC-1     Bassez        Primary               0   \n",
       "BIOKEY_24_Pre_TACTCATTCTGCTTGC-1     Bassez        Primary               0   \n",
       "BIOKEY_24_On_TACCTTACAAGGTTTC-1      Bassez        Primary               2   \n",
       "\n",
       "                                 seurat_clusters ident n_genes_by_counts  \\\n",
       "BIOKEY_13_Pre_GCGGGTTCAATGAATG-1               6     6              1918   \n",
       "BIOKEY_13_On_GTCTCGTCACCATCCT-1                0     0               640   \n",
       "BIOKEY_13_Pre_TGGCTGGAGATCCGAG-1               3     3              3438   \n",
       "BIOKEY_13_Pre_TGAGCCGAGATGTGTA-1               8     8               411   \n",
       "BIOKEY_13_Pre_GCGAGAAAGTGCGTGA-1               3     3              1588   \n",
       "...                                          ...   ...               ...   \n",
       "BIOKEY_24_Pre_GGGACCTTCTCGCTTG-1               6     6               344   \n",
       "BIOKEY_24_On_AGTAGTCCACACAGAG-1                5     5              3040   \n",
       "BIOKEY_24_Pre_GTCGGGTGTTGATTGC-1               0     0              1072   \n",
       "BIOKEY_24_Pre_TACTCATTCTGCTTGC-1               0     0               771   \n",
       "BIOKEY_24_On_TACCTTACAAGGTTTC-1                2     2              3126   \n",
       "\n",
       "                                 total_counts n_genes  \n",
       "BIOKEY_13_Pre_GCGGGTTCAATGAATG-1       4986.0    1918  \n",
       "BIOKEY_13_On_GTCTCGTCACCATCCT-1         876.0     640  \n",
       "BIOKEY_13_Pre_TGGCTGGAGATCCGAG-1      10818.0    3438  \n",
       "BIOKEY_13_Pre_TGAGCCGAGATGTGTA-1        646.0     411  \n",
       "BIOKEY_13_Pre_GCGAGAAAGTGCGTGA-1       3564.0    1588  \n",
       "...                                       ...     ...  \n",
       "BIOKEY_24_Pre_GGGACCTTCTCGCTTG-1        506.0     344  \n",
       "BIOKEY_24_On_AGTAGTCCACACAGAG-1       13548.0    3040  \n",
       "BIOKEY_24_Pre_GTCGGGTGTTGATTGC-1       3094.0    1072  \n",
       "BIOKEY_24_Pre_TACTCATTCTGCTTGC-1       1471.0     771  \n",
       "BIOKEY_24_On_TACCTTACAAGGTTTC-1       11898.0    3126  \n",
       "\n",
       "[87326 rows x 25 columns]"
      ]
     },
     "execution_count": 7,
     "metadata": {},
     "output_type": "execute_result"
    }
   ],
   "source": [
    "adata.obs"
   ]
  },
  {
   "cell_type": "code",
   "execution_count": 29,
   "id": "17cb7258-70c2-41b7-b530-f0d8dbbace4d",
   "metadata": {
    "tags": []
   },
   "outputs": [
    {
     "data": {
      "text/plain": [
       "enough_cells\n",
       "enough    41102\n",
       "Name: count, dtype: int64"
      ]
     },
     "execution_count": 29,
     "metadata": {},
     "output_type": "execute_result"
    }
   ],
   "source": [
    "adata.obs.enough_cells.value_counts()"
   ]
  },
  {
   "cell_type": "code",
   "execution_count": 28,
   "id": "f3b53f16-488e-4fee-9721-91bca827de75",
   "metadata": {
    "tags": []
   },
   "outputs": [
    {
     "name": "stdout",
     "output_type": "stream",
     "text": [
      "orig.ident\n",
      "nCount_RNA\n",
      "nFeature_RNA\n",
      "cell_id\n",
      "donor_id\n",
      "timepoint\n",
      "outcome\n",
      "Cancer_type\n",
      "cell_types\n",
      "cohort\n",
      "pre_post\n",
      "donor_id_pre_post\n",
      "donor_id_outcome\n",
      "donor_id_cell_types\n",
      "donor_id_cell_types_pre_post\n",
      "sample_id_pre_post_outcome\n",
      "enough_cells\n",
      "Study_name\n",
      "Primary_or_met\n",
      "RNA_snn_res.0.8\n",
      "seurat_clusters\n",
      "ident\n",
      "n_genes_by_counts\n",
      "total_counts\n",
      "n_genes\n",
      "label\n",
      "batch\n"
     ]
    }
   ],
   "source": [
    "for c in adata.obs.columns:\n",
    "    print(c)"
   ]
  },
  {
   "cell_type": "code",
   "execution_count": 9,
   "id": "3f63d545-68c5-4470-9e4e-b2594a473c95",
   "metadata": {
    "tags": []
   },
   "outputs": [],
   "source": [
    "    # label_key: cell_types\n",
    "    # batch_key: Cancer_type\n",
    "    # filter: \n",
    "    #   - column: timepoint\n",
    "    #     values:\n",
    "    #       - Pre\n",
    "adata=adata[adata.obs.timepoint =='Pre']"
   ]
  },
  {
   "cell_type": "code",
   "execution_count": 10,
   "id": "669d53b0-a70f-4880-a206-edfca1faf38b",
   "metadata": {
    "tags": []
   },
   "outputs": [
    {
     "data": {
      "text/plain": [
       "View of AnnData object with n_obs × n_vars = 41102 × 4096\n",
       "    obs: 'orig.ident', 'nCount_RNA', 'nFeature_RNA', 'cell_id', 'donor_id', 'timepoint', 'outcome', 'Cancer_type', 'cell_types', 'cohort', 'pre_post', 'donor_id_pre_post', 'donor_id_outcome', 'donor_id_cell_types', 'donor_id_cell_types_pre_post', 'sample_id_pre_post_outcome', 'enough_cells', 'Study_name', 'Primary_or_met', 'RNA_snn_res.0.8', 'seurat_clusters', 'ident', 'n_genes_by_counts', 'total_counts', 'n_genes'\n",
       "    var: 'n_cells_by_counts', 'mean_counts', 'pct_dropout_by_counts', 'total_counts', 'n_cells', 'highly_variable', 'means', 'dispersions', 'dispersions_norm'\n",
       "    uns: 'X_name', 'hvg', 'log1p'\n",
       "    obsm: 'PCA', 'UMAP', 'X_scfoundation'\n",
       "    layers: 'counts', 'logcounts', 'scaledata'"
      ]
     },
     "execution_count": 10,
     "metadata": {},
     "output_type": "execute_result"
    }
   ],
   "source": [
    "adata"
   ]
  },
  {
   "cell_type": "code",
   "execution_count": 11,
   "id": "3fc86add-4f9c-483b-a175-4efd57724557",
   "metadata": {
    "tags": []
   },
   "outputs": [
    {
     "name": "stderr",
     "output_type": "stream",
     "text": [
      "/opt/miniforge3/envs/scfoundation/lib/python3.10/site-packages/tqdm/auto.py:21: TqdmWarning: IProgress not found. Please update jupyter and ipywidgets. See https://ipywidgets.readthedocs.io/en/stable/user_install.html\n",
      "  from .autonotebook import tqdm as notebook_tqdm\n"
     ]
    },
    {
     "data": {
      "image/png": "[encoded data removed]",
      "text/plain": [
       "<Figure size 640x480 with 1 Axes>"
      ]
     },
     "metadata": {},
     "output_type": "display_data"
    }
   ],
   "source": [
    "X = adata.obsm['X_scfoundation']\n",
    "\n",
    "# Compute neighbors based on the geneformer embedding\n",
    "# adata.obsm['X_geneformer'] = X  # Ensure it's set in obsm\n",
    "sc.pp.neighbors(adata, use_rep='X_scfoundation')  # use_rep tells scanpy to use obsm['X_geneformer']\n",
    "\n",
    "# Compute UMAP\n",
    "sc.tl.umap(adata)\n",
    "\n",
    "# Plot the UMAP\n",
    "sc.pl.umap(adata, color='cell_types', title='UMAP of scFoundation Embeddings', show=True)"
   ]
  },
  {
   "cell_type": "code",
   "execution_count": 16,
   "id": "ee2cc7bb-e587-467b-99fd-63bc359d5645",
   "metadata": {
    "tags": []
   },
   "outputs": [],
   "source": [
    "import sys\n",
    "sys.path.insert(0, '/home/jupyter/scFM_eval')\n",
    "from evaluation.eval import EmbeddingEvaluator"
   ]
  },
  {
   "cell_type": "code",
   "execution_count": 17,
   "id": "f18bf5ee-1a72-4aaf-8e8a-ea7433f3ea6e",
   "metadata": {
    "tags": []
   },
   "outputs": [],
   "source": [
    "adata.obs['label']= adata.obs['cell_types']\n",
    "adata.obs['batch']= adata.obs['Cancer_type']\n",
    "\n",
    "subsampled_adata = sc.pp.subsample(adata, n_obs=10000, copy=True, random_state=None) \n"
   ]
  },
  {
   "cell_type": "code",
   "execution_count": 18,
   "id": "a4c906ab-b8cb-42ff-8c02-1bf9ef5cbf25",
   "metadata": {
    "tags": []
   },
   "outputs": [
    {
     "name": "stderr",
     "output_type": "stream",
     "text": [
      "neighbors in adata.uns found \n",
      " {'connectivities_key': 'connectivities', 'distances_key': 'distances', 'params': {'n_neighbors': 15, 'method': 'umap', 'random_state': 0, 'metric': 'euclidean', 'use_rep': 'X_scfoundation'}} \n",
      "to make sure the optimal clustering is calculated for the correct embedding, removing neighbors from adata.uns.\n",
      "Overwriting calculation of neighbors with sc.pp.neighbors(adata, use_rep=X_scfoundation).\n"
     ]
    },
    {
     "name": "stdout",
     "output_type": "stream",
     "text": [
      "louvain\n"
     ]
    },
    {
     "name": "stderr",
     "output_type": "stream",
     "text": [
      "/home/jupyter/.local/lib/python3.10/site-packages/scib/metrics/graph_connectivity.py:56: FutureWarning: pandas.value_counts is deprecated and will be removed in a future version. Use pd.Series(obj).value_counts() instead.\n",
      "  tab = pd.value_counts(labels)\n",
      "/home/jupyter/.local/lib/python3.10/site-packages/scib/metrics/graph_connectivity.py:56: FutureWarning: pandas.value_counts is deprecated and will be removed in a future version. Use pd.Series(obj).value_counts() instead.\n",
      "  tab = pd.value_counts(labels)\n",
      "/home/jupyter/.local/lib/python3.10/site-packages/scib/metrics/graph_connectivity.py:56: FutureWarning: pandas.value_counts is deprecated and will be removed in a future version. Use pd.Series(obj).value_counts() instead.\n",
      "  tab = pd.value_counts(labels)\n",
      "/home/jupyter/.local/lib/python3.10/site-packages/scib/metrics/graph_connectivity.py:56: FutureWarning: pandas.value_counts is deprecated and will be removed in a future version. Use pd.Series(obj).value_counts() instead.\n",
      "  tab = pd.value_counts(labels)\n",
      "/home/jupyter/.local/lib/python3.10/site-packages/scib/metrics/graph_connectivity.py:56: FutureWarning: pandas.value_counts is deprecated and will be removed in a future version. Use pd.Series(obj).value_counts() instead.\n",
      "  tab = pd.value_counts(labels)\n",
      "/home/jupyter/.local/lib/python3.10/site-packages/scib/metrics/graph_connectivity.py:56: FutureWarning: pandas.value_counts is deprecated and will be removed in a future version. Use pd.Series(obj).value_counts() instead.\n",
      "  tab = pd.value_counts(labels)\n",
      "/home/jupyter/.local/lib/python3.10/site-packages/scib/metrics/graph_connectivity.py:56: FutureWarning: pandas.value_counts is deprecated and will be removed in a future version. Use pd.Series(obj).value_counts() instead.\n",
      "  tab = pd.value_counts(labels)\n",
      "/home/jupyter/.local/lib/python3.10/site-packages/scib/metrics/graph_connectivity.py:56: FutureWarning: pandas.value_counts is deprecated and will be removed in a future version. Use pd.Series(obj).value_counts() instead.\n",
      "  tab = pd.value_counts(labels)\n",
      "/opt/miniforge3/envs/scfoundation/lib/python3.10/site-packages/scanpy/preprocessing/_pca/__init__.py:227: FutureWarning: Argument `use_highly_variable` is deprecated, consider using the mask argument. Use_highly_variable=True can be called through mask_var=\"highly_variable\". Use_highly_variable=False can be called through mask_var=None\n",
      "  mask_var_param, mask_var = _handle_mask_var(adata, mask_var, use_highly_variable)\n"
     ]
    }
   ],
   "source": [
    "embedding_key = 'X_scfoundation'\n",
    "\n",
    "\n",
    "ev = EmbeddingEvaluator( subsampled_adata, embedding_key=embedding_key, save_dir='.', auto_subsample=False)\n",
    "ret_dict = ev.evaluate()"
   ]
  },
  {
   "cell_type": "code",
   "execution_count": 19,
   "id": "ab9d1fc2-4641-4c65-9c84-8c322efe5bd9",
   "metadata": {
    "tags": []
   },
   "outputs": [
    {
     "data": {
      "text/plain": [
       "{'NMI_cluster/label': 0.7554208301373196,\n",
       " 'ARI_cluster/label': 0.6763149462816602,\n",
       " 'ASW_label': 0.5749619603157043,\n",
       " 'graph_conn': 0.9902357685869347,\n",
       " 'ASW_batch': 0.4994407846243121,\n",
       " 'ASW_label/batch': 0.9347877446160544,\n",
       " 'PCR_batch': 0.029326542419808796,\n",
       " 'avg_bio': 0.6688992455782281}"
      ]
     },
     "execution_count": 19,
     "metadata": {},
     "output_type": "execute_result"
    }
   ],
   "source": [
    "ret_dict"
   ]
  },
  {
   "cell_type": "code",
   "execution_count": 11,
   "id": "920e93f9-bdb1-4965-9e4a-b6a7fb396a8b",
   "metadata": {
    "tags": []
   },
   "outputs": [],
   "source": [
    "import pandas as pd"
   ]
  },
  {
   "cell_type": "code",
   "execution_count": 20,
   "id": "3c975b6c-08c5-4ae7-b4c6-292a4837f917",
   "metadata": {
    "collapsed": true,
    "jupyter": {
     "outputs_hidden": true
    },
    "tags": []
   },
   "outputs": [
    {
     "name": "stderr",
     "output_type": "stream",
     "text": [
      "neighbors in adata.uns found \n",
      " {'connectivities_key': 'connectivities', 'distances_key': 'distances', 'params': {'n_neighbors': 15, 'method': 'umap', 'random_state': 0, 'metric': 'euclidean', 'use_rep': 'X_scfoundation'}} \n",
      "to make sure the optimal clustering is calculated for the correct embedding, removing neighbors from adata.uns.\n",
      "Overwriting calculation of neighbors with sc.pp.neighbors(adata, use_rep=X_scfoundation).\n"
     ]
    },
    {
     "name": "stdout",
     "output_type": "stream",
     "text": [
      "louvain\n"
     ]
    },
    {
     "name": "stderr",
     "output_type": "stream",
     "text": [
      "/home/jupyter/.local/lib/python3.10/site-packages/scib/metrics/graph_connectivity.py:56: FutureWarning: pandas.value_counts is deprecated and will be removed in a future version. Use pd.Series(obj).value_counts() instead.\n",
      "  tab = pd.value_counts(labels)\n",
      "/home/jupyter/.local/lib/python3.10/site-packages/scib/metrics/graph_connectivity.py:56: FutureWarning: pandas.value_counts is deprecated and will be removed in a future version. Use pd.Series(obj).value_counts() instead.\n",
      "  tab = pd.value_counts(labels)\n",
      "/home/jupyter/.local/lib/python3.10/site-packages/scib/metrics/graph_connectivity.py:56: FutureWarning: pandas.value_counts is deprecated and will be removed in a future version. Use pd.Series(obj).value_counts() instead.\n",
      "  tab = pd.value_counts(labels)\n",
      "/home/jupyter/.local/lib/python3.10/site-packages/scib/metrics/graph_connectivity.py:56: FutureWarning: pandas.value_counts is deprecated and will be removed in a future version. Use pd.Series(obj).value_counts() instead.\n",
      "  tab = pd.value_counts(labels)\n",
      "/home/jupyter/.local/lib/python3.10/site-packages/scib/metrics/graph_connectivity.py:56: FutureWarning: pandas.value_counts is deprecated and will be removed in a future version. Use pd.Series(obj).value_counts() instead.\n",
      "  tab = pd.value_counts(labels)\n",
      "/home/jupyter/.local/lib/python3.10/site-packages/scib/metrics/graph_connectivity.py:56: FutureWarning: pandas.value_counts is deprecated and will be removed in a future version. Use pd.Series(obj).value_counts() instead.\n",
      "  tab = pd.value_counts(labels)\n",
      "/home/jupyter/.local/lib/python3.10/site-packages/scib/metrics/graph_connectivity.py:56: FutureWarning: pandas.value_counts is deprecated and will be removed in a future version. Use pd.Series(obj).value_counts() instead.\n",
      "  tab = pd.value_counts(labels)\n",
      "/home/jupyter/.local/lib/python3.10/site-packages/scib/metrics/graph_connectivity.py:56: FutureWarning: pandas.value_counts is deprecated and will be removed in a future version. Use pd.Series(obj).value_counts() instead.\n",
      "  tab = pd.value_counts(labels)\n",
      "/opt/miniforge3/envs/scfoundation/lib/python3.10/site-packages/scanpy/preprocessing/_pca/__init__.py:227: FutureWarning: Argument `use_highly_variable` is deprecated, consider using the mask argument. Use_highly_variable=True can be called through mask_var=\"highly_variable\". Use_highly_variable=False can be called through mask_var=None\n",
      "  mask_var_param, mask_var = _handle_mask_var(adata, mask_var, use_highly_variable)\n",
      "neighbors in adata.uns found \n",
      " {'connectivities_key': 'connectivities', 'distances_key': 'distances', 'params': {'n_neighbors': 15, 'method': 'umap', 'random_state': 0, 'metric': 'euclidean', 'use_rep': 'X_scfoundation'}} \n",
      "to make sure the optimal clustering is calculated for the correct embedding, removing neighbors from adata.uns.\n",
      "Overwriting calculation of neighbors with sc.pp.neighbors(adata, use_rep=X_scfoundation).\n"
     ]
    },
    {
     "name": "stdout",
     "output_type": "stream",
     "text": [
      "louvain\n"
     ]
    },
    {
     "name": "stderr",
     "output_type": "stream",
     "text": [
      "/home/jupyter/.local/lib/python3.10/site-packages/scib/metrics/graph_connectivity.py:56: FutureWarning: pandas.value_counts is deprecated and will be removed in a future version. Use pd.Series(obj).value_counts() instead.\n",
      "  tab = pd.value_counts(labels)\n",
      "/home/jupyter/.local/lib/python3.10/site-packages/scib/metrics/graph_connectivity.py:56: FutureWarning: pandas.value_counts is deprecated and will be removed in a future version. Use pd.Series(obj).value_counts() instead.\n",
      "  tab = pd.value_counts(labels)\n",
      "/home/jupyter/.local/lib/python3.10/site-packages/scib/metrics/graph_connectivity.py:56: FutureWarning: pandas.value_counts is deprecated and will be removed in a future version. Use pd.Series(obj).value_counts() instead.\n",
      "  tab = pd.value_counts(labels)\n",
      "/home/jupyter/.local/lib/python3.10/site-packages/scib/metrics/graph_connectivity.py:56: FutureWarning: pandas.value_counts is deprecated and will be removed in a future version. Use pd.Series(obj).value_counts() instead.\n",
      "  tab = pd.value_counts(labels)\n",
      "/home/jupyter/.local/lib/python3.10/site-packages/scib/metrics/graph_connectivity.py:56: FutureWarning: pandas.value_counts is deprecated and will be removed in a future version. Use pd.Series(obj).value_counts() instead.\n",
      "  tab = pd.value_counts(labels)\n",
      "/home/jupyter/.local/lib/python3.10/site-packages/scib/metrics/graph_connectivity.py:56: FutureWarning: pandas.value_counts is deprecated and will be removed in a future version. Use pd.Series(obj).value_counts() instead.\n",
      "  tab = pd.value_counts(labels)\n",
      "/home/jupyter/.local/lib/python3.10/site-packages/scib/metrics/graph_connectivity.py:56: FutureWarning: pandas.value_counts is deprecated and will be removed in a future version. Use pd.Series(obj).value_counts() instead.\n",
      "  tab = pd.value_counts(labels)\n",
      "/home/jupyter/.local/lib/python3.10/site-packages/scib/metrics/graph_connectivity.py:56: FutureWarning: pandas.value_counts is deprecated and will be removed in a future version. Use pd.Series(obj).value_counts() instead.\n",
      "  tab = pd.value_counts(labels)\n",
      "/opt/miniforge3/envs/scfoundation/lib/python3.10/site-packages/scanpy/preprocessing/_pca/__init__.py:227: FutureWarning: Argument `use_highly_variable` is deprecated, consider using the mask argument. Use_highly_variable=True can be called through mask_var=\"highly_variable\". Use_highly_variable=False can be called through mask_var=None\n",
      "  mask_var_param, mask_var = _handle_mask_var(adata, mask_var, use_highly_variable)\n",
      "neighbors in adata.uns found \n",
      " {'connectivities_key': 'connectivities', 'distances_key': 'distances', 'params': {'n_neighbors': 15, 'method': 'umap', 'random_state': 0, 'metric': 'euclidean', 'use_rep': 'X_scfoundation'}} \n",
      "to make sure the optimal clustering is calculated for the correct embedding, removing neighbors from adata.uns.\n",
      "Overwriting calculation of neighbors with sc.pp.neighbors(adata, use_rep=X_scfoundation).\n"
     ]
    },
    {
     "name": "stdout",
     "output_type": "stream",
     "text": [
      "louvain\n"
     ]
    },
    {
     "name": "stderr",
     "output_type": "stream",
     "text": [
      "/home/jupyter/.local/lib/python3.10/site-packages/scib/metrics/graph_connectivity.py:56: FutureWarning: pandas.value_counts is deprecated and will be removed in a future version. Use pd.Series(obj).value_counts() instead.\n",
      "  tab = pd.value_counts(labels)\n",
      "/home/jupyter/.local/lib/python3.10/site-packages/scib/metrics/graph_connectivity.py:56: FutureWarning: pandas.value_counts is deprecated and will be removed in a future version. Use pd.Series(obj).value_counts() instead.\n",
      "  tab = pd.value_counts(labels)\n",
      "/home/jupyter/.local/lib/python3.10/site-packages/scib/metrics/graph_connectivity.py:56: FutureWarning: pandas.value_counts is deprecated and will be removed in a future version. Use pd.Series(obj).value_counts() instead.\n",
      "  tab = pd.value_counts(labels)\n",
      "/home/jupyter/.local/lib/python3.10/site-packages/scib/metrics/graph_connectivity.py:56: FutureWarning: pandas.value_counts is deprecated and will be removed in a future version. Use pd.Series(obj).value_counts() instead.\n",
      "  tab = pd.value_counts(labels)\n",
      "/home/jupyter/.local/lib/python3.10/site-packages/scib/metrics/graph_connectivity.py:56: FutureWarning: pandas.value_counts is deprecated and will be removed in a future version. Use pd.Series(obj).value_counts() instead.\n",
      "  tab = pd.value_counts(labels)\n",
      "/home/jupyter/.local/lib/python3.10/site-packages/scib/metrics/graph_connectivity.py:56: FutureWarning: pandas.value_counts is deprecated and will be removed in a future version. Use pd.Series(obj).value_counts() instead.\n",
      "  tab = pd.value_counts(labels)\n",
      "/home/jupyter/.local/lib/python3.10/site-packages/scib/metrics/graph_connectivity.py:56: FutureWarning: pandas.value_counts is deprecated and will be removed in a future version. Use pd.Series(obj).value_counts() instead.\n",
      "  tab = pd.value_counts(labels)\n",
      "/home/jupyter/.local/lib/python3.10/site-packages/scib/metrics/graph_connectivity.py:56: FutureWarning: pandas.value_counts is deprecated and will be removed in a future version. Use pd.Series(obj).value_counts() instead.\n",
      "  tab = pd.value_counts(labels)\n",
      "/opt/miniforge3/envs/scfoundation/lib/python3.10/site-packages/scanpy/preprocessing/_pca/__init__.py:227: FutureWarning: Argument `use_highly_variable` is deprecated, consider using the mask argument. Use_highly_variable=True can be called through mask_var=\"highly_variable\". Use_highly_variable=False can be called through mask_var=None\n",
      "  mask_var_param, mask_var = _handle_mask_var(adata, mask_var, use_highly_variable)\n",
      "neighbors in adata.uns found \n",
      " {'connectivities_key': 'connectivities', 'distances_key': 'distances', 'params': {'n_neighbors': 15, 'method': 'umap', 'random_state': 0, 'metric': 'euclidean', 'use_rep': 'X_scfoundation'}} \n",
      "to make sure the optimal clustering is calculated for the correct embedding, removing neighbors from adata.uns.\n",
      "Overwriting calculation of neighbors with sc.pp.neighbors(adata, use_rep=X_scfoundation).\n"
     ]
    },
    {
     "name": "stdout",
     "output_type": "stream",
     "text": [
      "louvain\n"
     ]
    },
    {
     "name": "stderr",
     "output_type": "stream",
     "text": [
      "/home/jupyter/.local/lib/python3.10/site-packages/scib/metrics/graph_connectivity.py:56: FutureWarning: pandas.value_counts is deprecated and will be removed in a future version. Use pd.Series(obj).value_counts() instead.\n",
      "  tab = pd.value_counts(labels)\n",
      "/home/jupyter/.local/lib/python3.10/site-packages/scib/metrics/graph_connectivity.py:56: FutureWarning: pandas.value_counts is deprecated and will be removed in a future version. Use pd.Series(obj).value_counts() instead.\n",
      "  tab = pd.value_counts(labels)\n",
      "/home/jupyter/.local/lib/python3.10/site-packages/scib/metrics/graph_connectivity.py:56: FutureWarning: pandas.value_counts is deprecated and will be removed in a future version. Use pd.Series(obj).value_counts() instead.\n",
      "  tab = pd.value_counts(labels)\n",
      "/home/jupyter/.local/lib/python3.10/site-packages/scib/metrics/graph_connectivity.py:56: FutureWarning: pandas.value_counts is deprecated and will be removed in a future version. Use pd.Series(obj).value_counts() instead.\n",
      "  tab = pd.value_counts(labels)\n",
      "/home/jupyter/.local/lib/python3.10/site-packages/scib/metrics/graph_connectivity.py:56: FutureWarning: pandas.value_counts is deprecated and will be removed in a future version. Use pd.Series(obj).value_counts() instead.\n",
      "  tab = pd.value_counts(labels)\n",
      "/home/jupyter/.local/lib/python3.10/site-packages/scib/metrics/graph_connectivity.py:56: FutureWarning: pandas.value_counts is deprecated and will be removed in a future version. Use pd.Series(obj).value_counts() instead.\n",
      "  tab = pd.value_counts(labels)\n",
      "/home/jupyter/.local/lib/python3.10/site-packages/scib/metrics/graph_connectivity.py:56: FutureWarning: pandas.value_counts is deprecated and will be removed in a future version. Use pd.Series(obj).value_counts() instead.\n",
      "  tab = pd.value_counts(labels)\n",
      "/home/jupyter/.local/lib/python3.10/site-packages/scib/metrics/graph_connectivity.py:56: FutureWarning: pandas.value_counts is deprecated and will be removed in a future version. Use pd.Series(obj).value_counts() instead.\n",
      "  tab = pd.value_counts(labels)\n",
      "/opt/miniforge3/envs/scfoundation/lib/python3.10/site-packages/scanpy/preprocessing/_pca/__init__.py:227: FutureWarning: Argument `use_highly_variable` is deprecated, consider using the mask argument. Use_highly_variable=True can be called through mask_var=\"highly_variable\". Use_highly_variable=False can be called through mask_var=None\n",
      "  mask_var_param, mask_var = _handle_mask_var(adata, mask_var, use_highly_variable)\n",
      "neighbors in adata.uns found \n",
      " {'connectivities_key': 'connectivities', 'distances_key': 'distances', 'params': {'n_neighbors': 15, 'method': 'umap', 'random_state': 0, 'metric': 'euclidean', 'use_rep': 'X_scfoundation'}} \n",
      "to make sure the optimal clustering is calculated for the correct embedding, removing neighbors from adata.uns.\n",
      "Overwriting calculation of neighbors with sc.pp.neighbors(adata, use_rep=X_scfoundation).\n"
     ]
    },
    {
     "name": "stdout",
     "output_type": "stream",
     "text": [
      "louvain\n"
     ]
    },
    {
     "name": "stderr",
     "output_type": "stream",
     "text": [
      "/home/jupyter/.local/lib/python3.10/site-packages/scib/metrics/graph_connectivity.py:56: FutureWarning: pandas.value_counts is deprecated and will be removed in a future version. Use pd.Series(obj).value_counts() instead.\n",
      "  tab = pd.value_counts(labels)\n",
      "/home/jupyter/.local/lib/python3.10/site-packages/scib/metrics/graph_connectivity.py:56: FutureWarning: pandas.value_counts is deprecated and will be removed in a future version. Use pd.Series(obj).value_counts() instead.\n",
      "  tab = pd.value_counts(labels)\n",
      "/home/jupyter/.local/lib/python3.10/site-packages/scib/metrics/graph_connectivity.py:56: FutureWarning: pandas.value_counts is deprecated and will be removed in a future version. Use pd.Series(obj).value_counts() instead.\n",
      "  tab = pd.value_counts(labels)\n",
      "/home/jupyter/.local/lib/python3.10/site-packages/scib/metrics/graph_connectivity.py:56: FutureWarning: pandas.value_counts is deprecated and will be removed in a future version. Use pd.Series(obj).value_counts() instead.\n",
      "  tab = pd.value_counts(labels)\n",
      "/home/jupyter/.local/lib/python3.10/site-packages/scib/metrics/graph_connectivity.py:56: FutureWarning: pandas.value_counts is deprecated and will be removed in a future version. Use pd.Series(obj).value_counts() instead.\n",
      "  tab = pd.value_counts(labels)\n",
      "/home/jupyter/.local/lib/python3.10/site-packages/scib/metrics/graph_connectivity.py:56: FutureWarning: pandas.value_counts is deprecated and will be removed in a future version. Use pd.Series(obj).value_counts() instead.\n",
      "  tab = pd.value_counts(labels)\n",
      "/home/jupyter/.local/lib/python3.10/site-packages/scib/metrics/graph_connectivity.py:56: FutureWarning: pandas.value_counts is deprecated and will be removed in a future version. Use pd.Series(obj).value_counts() instead.\n",
      "  tab = pd.value_counts(labels)\n",
      "/home/jupyter/.local/lib/python3.10/site-packages/scib/metrics/graph_connectivity.py:56: FutureWarning: pandas.value_counts is deprecated and will be removed in a future version. Use pd.Series(obj).value_counts() instead.\n",
      "  tab = pd.value_counts(labels)\n",
      "/opt/miniforge3/envs/scfoundation/lib/python3.10/site-packages/scanpy/preprocessing/_pca/__init__.py:227: FutureWarning: Argument `use_highly_variable` is deprecated, consider using the mask argument. Use_highly_variable=True can be called through mask_var=\"highly_variable\". Use_highly_variable=False can be called through mask_var=None\n",
      "  mask_var_param, mask_var = _handle_mask_var(adata, mask_var, use_highly_variable)\n",
      "neighbors in adata.uns found \n",
      " {'connectivities_key': 'connectivities', 'distances_key': 'distances', 'params': {'n_neighbors': 15, 'method': 'umap', 'random_state': 0, 'metric': 'euclidean', 'use_rep': 'X_scfoundation'}} \n",
      "to make sure the optimal clustering is calculated for the correct embedding, removing neighbors from adata.uns.\n",
      "Overwriting calculation of neighbors with sc.pp.neighbors(adata, use_rep=X_scfoundation).\n"
     ]
    },
    {
     "name": "stdout",
     "output_type": "stream",
     "text": [
      "louvain\n"
     ]
    },
    {
     "name": "stderr",
     "output_type": "stream",
     "text": [
      "/home/jupyter/.local/lib/python3.10/site-packages/scib/metrics/graph_connectivity.py:56: FutureWarning: pandas.value_counts is deprecated and will be removed in a future version. Use pd.Series(obj).value_counts() instead.\n",
      "  tab = pd.value_counts(labels)\n",
      "/home/jupyter/.local/lib/python3.10/site-packages/scib/metrics/graph_connectivity.py:56: FutureWarning: pandas.value_counts is deprecated and will be removed in a future version. Use pd.Series(obj).value_counts() instead.\n",
      "  tab = pd.value_counts(labels)\n",
      "/home/jupyter/.local/lib/python3.10/site-packages/scib/metrics/graph_connectivity.py:56: FutureWarning: pandas.value_counts is deprecated and will be removed in a future version. Use pd.Series(obj).value_counts() instead.\n",
      "  tab = pd.value_counts(labels)\n",
      "/home/jupyter/.local/lib/python3.10/site-packages/scib/metrics/graph_connectivity.py:56: FutureWarning: pandas.value_counts is deprecated and will be removed in a future version. Use pd.Series(obj).value_counts() instead.\n",
      "  tab = pd.value_counts(labels)\n",
      "/home/jupyter/.local/lib/python3.10/site-packages/scib/metrics/graph_connectivity.py:56: FutureWarning: pandas.value_counts is deprecated and will be removed in a future version. Use pd.Series(obj).value_counts() instead.\n",
      "  tab = pd.value_counts(labels)\n",
      "/home/jupyter/.local/lib/python3.10/site-packages/scib/metrics/graph_connectivity.py:56: FutureWarning: pandas.value_counts is deprecated and will be removed in a future version. Use pd.Series(obj).value_counts() instead.\n",
      "  tab = pd.value_counts(labels)\n",
      "/home/jupyter/.local/lib/python3.10/site-packages/scib/metrics/graph_connectivity.py:56: FutureWarning: pandas.value_counts is deprecated and will be removed in a future version. Use pd.Series(obj).value_counts() instead.\n",
      "  tab = pd.value_counts(labels)\n",
      "/home/jupyter/.local/lib/python3.10/site-packages/scib/metrics/graph_connectivity.py:56: FutureWarning: pandas.value_counts is deprecated and will be removed in a future version. Use pd.Series(obj).value_counts() instead.\n",
      "  tab = pd.value_counts(labels)\n",
      "/opt/miniforge3/envs/scfoundation/lib/python3.10/site-packages/scanpy/preprocessing/_pca/__init__.py:227: FutureWarning: Argument `use_highly_variable` is deprecated, consider using the mask argument. Use_highly_variable=True can be called through mask_var=\"highly_variable\". Use_highly_variable=False can be called through mask_var=None\n",
      "  mask_var_param, mask_var = _handle_mask_var(adata, mask_var, use_highly_variable)\n",
      "neighbors in adata.uns found \n",
      " {'connectivities_key': 'connectivities', 'distances_key': 'distances', 'params': {'n_neighbors': 15, 'method': 'umap', 'random_state': 0, 'metric': 'euclidean', 'use_rep': 'X_scfoundation'}} \n",
      "to make sure the optimal clustering is calculated for the correct embedding, removing neighbors from adata.uns.\n",
      "Overwriting calculation of neighbors with sc.pp.neighbors(adata, use_rep=X_scfoundation).\n"
     ]
    },
    {
     "name": "stdout",
     "output_type": "stream",
     "text": [
      "louvain\n"
     ]
    },
    {
     "name": "stderr",
     "output_type": "stream",
     "text": [
      "/home/jupyter/.local/lib/python3.10/site-packages/scib/metrics/graph_connectivity.py:56: FutureWarning: pandas.value_counts is deprecated and will be removed in a future version. Use pd.Series(obj).value_counts() instead.\n",
      "  tab = pd.value_counts(labels)\n",
      "/home/jupyter/.local/lib/python3.10/site-packages/scib/metrics/graph_connectivity.py:56: FutureWarning: pandas.value_counts is deprecated and will be removed in a future version. Use pd.Series(obj).value_counts() instead.\n",
      "  tab = pd.value_counts(labels)\n",
      "/home/jupyter/.local/lib/python3.10/site-packages/scib/metrics/graph_connectivity.py:56: FutureWarning: pandas.value_counts is deprecated and will be removed in a future version. Use pd.Series(obj).value_counts() instead.\n",
      "  tab = pd.value_counts(labels)\n",
      "/home/jupyter/.local/lib/python3.10/site-packages/scib/metrics/graph_connectivity.py:56: FutureWarning: pandas.value_counts is deprecated and will be removed in a future version. Use pd.Series(obj).value_counts() instead.\n",
      "  tab = pd.value_counts(labels)\n",
      "/home/jupyter/.local/lib/python3.10/site-packages/scib/metrics/graph_connectivity.py:56: FutureWarning: pandas.value_counts is deprecated and will be removed in a future version. Use pd.Series(obj).value_counts() instead.\n",
      "  tab = pd.value_counts(labels)\n",
      "/home/jupyter/.local/lib/python3.10/site-packages/scib/metrics/graph_connectivity.py:56: FutureWarning: pandas.value_counts is deprecated and will be removed in a future version. Use pd.Series(obj).value_counts() instead.\n",
      "  tab = pd.value_counts(labels)\n",
      "/home/jupyter/.local/lib/python3.10/site-packages/scib/metrics/graph_connectivity.py:56: FutureWarning: pandas.value_counts is deprecated and will be removed in a future version. Use pd.Series(obj).value_counts() instead.\n",
      "  tab = pd.value_counts(labels)\n",
      "/home/jupyter/.local/lib/python3.10/site-packages/scib/metrics/graph_connectivity.py:56: FutureWarning: pandas.value_counts is deprecated and will be removed in a future version. Use pd.Series(obj).value_counts() instead.\n",
      "  tab = pd.value_counts(labels)\n",
      "/opt/miniforge3/envs/scfoundation/lib/python3.10/site-packages/scanpy/preprocessing/_pca/__init__.py:227: FutureWarning: Argument `use_highly_variable` is deprecated, consider using the mask argument. Use_highly_variable=True can be called through mask_var=\"highly_variable\". Use_highly_variable=False can be called through mask_var=None\n",
      "  mask_var_param, mask_var = _handle_mask_var(adata, mask_var, use_highly_variable)\n",
      "neighbors in adata.uns found \n",
      " {'connectivities_key': 'connectivities', 'distances_key': 'distances', 'params': {'n_neighbors': 15, 'method': 'umap', 'random_state': 0, 'metric': 'euclidean', 'use_rep': 'X_scfoundation'}} \n",
      "to make sure the optimal clustering is calculated for the correct embedding, removing neighbors from adata.uns.\n",
      "Overwriting calculation of neighbors with sc.pp.neighbors(adata, use_rep=X_scfoundation).\n"
     ]
    },
    {
     "name": "stdout",
     "output_type": "stream",
     "text": [
      "louvain\n"
     ]
    },
    {
     "name": "stderr",
     "output_type": "stream",
     "text": [
      "/home/jupyter/.local/lib/python3.10/site-packages/scib/metrics/graph_connectivity.py:56: FutureWarning: pandas.value_counts is deprecated and will be removed in a future version. Use pd.Series(obj).value_counts() instead.\n",
      "  tab = pd.value_counts(labels)\n",
      "/home/jupyter/.local/lib/python3.10/site-packages/scib/metrics/graph_connectivity.py:56: FutureWarning: pandas.value_counts is deprecated and will be removed in a future version. Use pd.Series(obj).value_counts() instead.\n",
      "  tab = pd.value_counts(labels)\n",
      "/home/jupyter/.local/lib/python3.10/site-packages/scib/metrics/graph_connectivity.py:56: FutureWarning: pandas.value_counts is deprecated and will be removed in a future version. Use pd.Series(obj).value_counts() instead.\n",
      "  tab = pd.value_counts(labels)\n",
      "/home/jupyter/.local/lib/python3.10/site-packages/scib/metrics/graph_connectivity.py:56: FutureWarning: pandas.value_counts is deprecated and will be removed in a future version. Use pd.Series(obj).value_counts() instead.\n",
      "  tab = pd.value_counts(labels)\n",
      "/home/jupyter/.local/lib/python3.10/site-packages/scib/metrics/graph_connectivity.py:56: FutureWarning: pandas.value_counts is deprecated and will be removed in a future version. Use pd.Series(obj).value_counts() instead.\n",
      "  tab = pd.value_counts(labels)\n",
      "/home/jupyter/.local/lib/python3.10/site-packages/scib/metrics/graph_connectivity.py:56: FutureWarning: pandas.value_counts is deprecated and will be removed in a future version. Use pd.Series(obj).value_counts() instead.\n",
      "  tab = pd.value_counts(labels)\n",
      "/home/jupyter/.local/lib/python3.10/site-packages/scib/metrics/graph_connectivity.py:56: FutureWarning: pandas.value_counts is deprecated and will be removed in a future version. Use pd.Series(obj).value_counts() instead.\n",
      "  tab = pd.value_counts(labels)\n",
      "/home/jupyter/.local/lib/python3.10/site-packages/scib/metrics/graph_connectivity.py:56: FutureWarning: pandas.value_counts is deprecated and will be removed in a future version. Use pd.Series(obj).value_counts() instead.\n",
      "  tab = pd.value_counts(labels)\n",
      "/opt/miniforge3/envs/scfoundation/lib/python3.10/site-packages/scanpy/preprocessing/_pca/__init__.py:227: FutureWarning: Argument `use_highly_variable` is deprecated, consider using the mask argument. Use_highly_variable=True can be called through mask_var=\"highly_variable\". Use_highly_variable=False can be called through mask_var=None\n",
      "  mask_var_param, mask_var = _handle_mask_var(adata, mask_var, use_highly_variable)\n",
      "neighbors in adata.uns found \n",
      " {'connectivities_key': 'connectivities', 'distances_key': 'distances', 'params': {'n_neighbors': 15, 'method': 'umap', 'random_state': 0, 'metric': 'euclidean', 'use_rep': 'X_scfoundation'}} \n",
      "to make sure the optimal clustering is calculated for the correct embedding, removing neighbors from adata.uns.\n",
      "Overwriting calculation of neighbors with sc.pp.neighbors(adata, use_rep=X_scfoundation).\n"
     ]
    },
    {
     "name": "stdout",
     "output_type": "stream",
     "text": [
      "louvain\n"
     ]
    },
    {
     "name": "stderr",
     "output_type": "stream",
     "text": [
      "/home/jupyter/.local/lib/python3.10/site-packages/scib/metrics/graph_connectivity.py:56: FutureWarning: pandas.value_counts is deprecated and will be removed in a future version. Use pd.Series(obj).value_counts() instead.\n",
      "  tab = pd.value_counts(labels)\n",
      "/home/jupyter/.local/lib/python3.10/site-packages/scib/metrics/graph_connectivity.py:56: FutureWarning: pandas.value_counts is deprecated and will be removed in a future version. Use pd.Series(obj).value_counts() instead.\n",
      "  tab = pd.value_counts(labels)\n",
      "/home/jupyter/.local/lib/python3.10/site-packages/scib/metrics/graph_connectivity.py:56: FutureWarning: pandas.value_counts is deprecated and will be removed in a future version. Use pd.Series(obj).value_counts() instead.\n",
      "  tab = pd.value_counts(labels)\n",
      "/home/jupyter/.local/lib/python3.10/site-packages/scib/metrics/graph_connectivity.py:56: FutureWarning: pandas.value_counts is deprecated and will be removed in a future version. Use pd.Series(obj).value_counts() instead.\n",
      "  tab = pd.value_counts(labels)\n",
      "/home/jupyter/.local/lib/python3.10/site-packages/scib/metrics/graph_connectivity.py:56: FutureWarning: pandas.value_counts is deprecated and will be removed in a future version. Use pd.Series(obj).value_counts() instead.\n",
      "  tab = pd.value_counts(labels)\n",
      "/home/jupyter/.local/lib/python3.10/site-packages/scib/metrics/graph_connectivity.py:56: FutureWarning: pandas.value_counts is deprecated and will be removed in a future version. Use pd.Series(obj).value_counts() instead.\n",
      "  tab = pd.value_counts(labels)\n",
      "/home/jupyter/.local/lib/python3.10/site-packages/scib/metrics/graph_connectivity.py:56: FutureWarning: pandas.value_counts is deprecated and will be removed in a future version. Use pd.Series(obj).value_counts() instead.\n",
      "  tab = pd.value_counts(labels)\n",
      "/home/jupyter/.local/lib/python3.10/site-packages/scib/metrics/graph_connectivity.py:56: FutureWarning: pandas.value_counts is deprecated and will be removed in a future version. Use pd.Series(obj).value_counts() instead.\n",
      "  tab = pd.value_counts(labels)\n",
      "/opt/miniforge3/envs/scfoundation/lib/python3.10/site-packages/scanpy/preprocessing/_pca/__init__.py:227: FutureWarning: Argument `use_highly_variable` is deprecated, consider using the mask argument. Use_highly_variable=True can be called through mask_var=\"highly_variable\". Use_highly_variable=False can be called through mask_var=None\n",
      "  mask_var_param, mask_var = _handle_mask_var(adata, mask_var, use_highly_variable)\n",
      "neighbors in adata.uns found \n",
      " {'connectivities_key': 'connectivities', 'distances_key': 'distances', 'params': {'n_neighbors': 15, 'method': 'umap', 'random_state': 0, 'metric': 'euclidean', 'use_rep': 'X_scfoundation'}} \n",
      "to make sure the optimal clustering is calculated for the correct embedding, removing neighbors from adata.uns.\n",
      "Overwriting calculation of neighbors with sc.pp.neighbors(adata, use_rep=X_scfoundation).\n"
     ]
    },
    {
     "name": "stdout",
     "output_type": "stream",
     "text": [
      "louvain\n"
     ]
    },
    {
     "name": "stderr",
     "output_type": "stream",
     "text": [
      "/home/jupyter/.local/lib/python3.10/site-packages/scib/metrics/graph_connectivity.py:56: FutureWarning: pandas.value_counts is deprecated and will be removed in a future version. Use pd.Series(obj).value_counts() instead.\n",
      "  tab = pd.value_counts(labels)\n",
      "/home/jupyter/.local/lib/python3.10/site-packages/scib/metrics/graph_connectivity.py:56: FutureWarning: pandas.value_counts is deprecated and will be removed in a future version. Use pd.Series(obj).value_counts() instead.\n",
      "  tab = pd.value_counts(labels)\n",
      "/home/jupyter/.local/lib/python3.10/site-packages/scib/metrics/graph_connectivity.py:56: FutureWarning: pandas.value_counts is deprecated and will be removed in a future version. Use pd.Series(obj).value_counts() instead.\n",
      "  tab = pd.value_counts(labels)\n",
      "/home/jupyter/.local/lib/python3.10/site-packages/scib/metrics/graph_connectivity.py:56: FutureWarning: pandas.value_counts is deprecated and will be removed in a future version. Use pd.Series(obj).value_counts() instead.\n",
      "  tab = pd.value_counts(labels)\n",
      "/home/jupyter/.local/lib/python3.10/site-packages/scib/metrics/graph_connectivity.py:56: FutureWarning: pandas.value_counts is deprecated and will be removed in a future version. Use pd.Series(obj).value_counts() instead.\n",
      "  tab = pd.value_counts(labels)\n",
      "/home/jupyter/.local/lib/python3.10/site-packages/scib/metrics/graph_connectivity.py:56: FutureWarning: pandas.value_counts is deprecated and will be removed in a future version. Use pd.Series(obj).value_counts() instead.\n",
      "  tab = pd.value_counts(labels)\n",
      "/home/jupyter/.local/lib/python3.10/site-packages/scib/metrics/graph_connectivity.py:56: FutureWarning: pandas.value_counts is deprecated and will be removed in a future version. Use pd.Series(obj).value_counts() instead.\n",
      "  tab = pd.value_counts(labels)\n",
      "/home/jupyter/.local/lib/python3.10/site-packages/scib/metrics/graph_connectivity.py:56: FutureWarning: pandas.value_counts is deprecated and will be removed in a future version. Use pd.Series(obj).value_counts() instead.\n",
      "  tab = pd.value_counts(labels)\n",
      "/opt/miniforge3/envs/scfoundation/lib/python3.10/site-packages/scanpy/preprocessing/_pca/__init__.py:227: FutureWarning: Argument `use_highly_variable` is deprecated, consider using the mask argument. Use_highly_variable=True can be called through mask_var=\"highly_variable\". Use_highly_variable=False can be called through mask_var=None\n",
      "  mask_var_param, mask_var = _handle_mask_var(adata, mask_var, use_highly_variable)\n"
     ]
    }
   ],
   "source": [
    "mid_results=[]\n",
    "for i in range(10):\n",
    "    subsampled_adata = sc.pp.subsample(adata, n_obs=10000, copy=True, random_state=None) \n",
    "    ev = EmbeddingEvaluator( subsampled_adata, embedding_key=embedding_key, save_dir='.', auto_subsample=False)\n",
    "    \n",
    "    ret_dict = ev.evaluate()\n",
    "    mid_results.append(ret_dict)\n",
    "    # print(ret_dict)\n",
    "\n"
   ]
  },
  {
   "cell_type": "code",
   "execution_count": 23,
   "id": "2a8dae6b-d084-4575-8b2d-2868afc4cede",
   "metadata": {
    "tags": []
   },
   "outputs": [
    {
     "data": {
      "text/plain": [
       "NMI_cluster/label    0.744891\n",
       "ARI_cluster/label    0.661546\n",
       "ASW_label            0.573281\n",
       "graph_conn           0.990549\n",
       "ASW_batch            0.497258\n",
       "ASW_label/batch      0.911982\n",
       "PCR_batch            0.030828\n",
       "avg_bio              0.659906\n",
       "dtype: float64"
      ]
     },
     "execution_count": 23,
     "metadata": {},
     "output_type": "execute_result"
    }
   ],
   "source": [
    "df = pd.DataFrame(mid_results)\n",
    "dd = df.mean()\n",
    "dd"
   ]
  },
  {
   "cell_type": "code",
   "execution_count": 24,
   "id": "f934908e-87a9-4948-8451-e659d16c32d8",
   "metadata": {
    "tags": []
   },
   "outputs": [
    {
     "data": {
      "text/plain": [
       "NMI_cluster/label    0.016712\n",
       "ARI_cluster/label    0.024061\n",
       "ASW_label            0.000909\n",
       "graph_conn           0.002804\n",
       "ASW_batch            0.000843\n",
       "ASW_label/batch      0.015405\n",
       "PCR_batch            0.000817\n",
       "avg_bio              0.013547\n",
       "dtype: float64"
      ]
     },
     "execution_count": 24,
     "metadata": {},
     "output_type": "execute_result"
    }
   ],
   "source": [
    "df.std()"
   ]
  },
  {
   "cell_type": "code",
   "execution_count": 25,
   "id": "7534f7d1-3225-4827-8bed-a51a57e2691f",
   "metadata": {},
   "outputs": [
    {
     "data": {
      "text/html": [
       "<div>\n",
       "<style scoped>\n",
       "    .dataframe tbody tr th:only-of-type {\n",
       "        vertical-align: middle;\n",
       "    }\n",
       "\n",
       "    .dataframe tbody tr th {\n",
       "        vertical-align: top;\n",
       "    }\n",
       "\n",
       "    .dataframe thead th {\n",
       "        text-align: right;\n",
       "    }\n",
       "</style>\n",
       "<table border=\"1\" class=\"dataframe\">\n",
       "  <thead>\n",
       "    <tr style=\"text-align: right;\">\n",
       "      <th></th>\n",
       "      <th>NMI_cluster/label</th>\n",
       "      <th>ARI_cluster/label</th>\n",
       "      <th>ASW_label</th>\n",
       "      <th>graph_conn</th>\n",
       "      <th>ASW_batch</th>\n",
       "      <th>ASW_label/batch</th>\n",
       "      <th>PCR_batch</th>\n",
       "      <th>avg_bio</th>\n",
       "    </tr>\n",
       "  </thead>\n",
       "  <tbody>\n",
       "    <tr>\n",
       "      <th>0</th>\n",
       "      <td>0.763821</td>\n",
       "      <td>0.685971</td>\n",
       "      <td>0.573634</td>\n",
       "      <td>0.990755</td>\n",
       "      <td>0.496913</td>\n",
       "      <td>0.910740</td>\n",
       "      <td>0.030826</td>\n",
       "      <td>0.674475</td>\n",
       "    </tr>\n",
       "    <tr>\n",
       "      <th>1</th>\n",
       "      <td>0.741818</td>\n",
       "      <td>0.659413</td>\n",
       "      <td>0.573232</td>\n",
       "      <td>0.989836</td>\n",
       "      <td>0.495994</td>\n",
       "      <td>0.897306</td>\n",
       "      <td>0.032239</td>\n",
       "      <td>0.658154</td>\n",
       "    </tr>\n",
       "    <tr>\n",
       "      <th>2</th>\n",
       "      <td>0.775604</td>\n",
       "      <td>0.699695</td>\n",
       "      <td>0.573991</td>\n",
       "      <td>0.992375</td>\n",
       "      <td>0.497989</td>\n",
       "      <td>0.917784</td>\n",
       "      <td>0.029715</td>\n",
       "      <td>0.683097</td>\n",
       "    </tr>\n",
       "    <tr>\n",
       "      <th>3</th>\n",
       "      <td>0.747282</td>\n",
       "      <td>0.660273</td>\n",
       "      <td>0.574808</td>\n",
       "      <td>0.989030</td>\n",
       "      <td>0.496982</td>\n",
       "      <td>0.900543</td>\n",
       "      <td>0.029937</td>\n",
       "      <td>0.660788</td>\n",
       "    </tr>\n",
       "    <tr>\n",
       "      <th>4</th>\n",
       "      <td>0.755966</td>\n",
       "      <td>0.686510</td>\n",
       "      <td>0.571711</td>\n",
       "      <td>0.993899</td>\n",
       "      <td>0.498569</td>\n",
       "      <td>0.914529</td>\n",
       "      <td>0.031110</td>\n",
       "      <td>0.671396</td>\n",
       "    </tr>\n",
       "    <tr>\n",
       "      <th>5</th>\n",
       "      <td>0.732734</td>\n",
       "      <td>0.641470</td>\n",
       "      <td>0.572355</td>\n",
       "      <td>0.988894</td>\n",
       "      <td>0.497585</td>\n",
       "      <td>0.931725</td>\n",
       "      <td>0.030870</td>\n",
       "      <td>0.648853</td>\n",
       "    </tr>\n",
       "    <tr>\n",
       "      <th>6</th>\n",
       "      <td>0.727844</td>\n",
       "      <td>0.647603</td>\n",
       "      <td>0.573923</td>\n",
       "      <td>0.992945</td>\n",
       "      <td>0.497462</td>\n",
       "      <td>0.932971</td>\n",
       "      <td>0.030373</td>\n",
       "      <td>0.649790</td>\n",
       "    </tr>\n",
       "    <tr>\n",
       "      <th>7</th>\n",
       "      <td>0.721546</td>\n",
       "      <td>0.620240</td>\n",
       "      <td>0.572846</td>\n",
       "      <td>0.992617</td>\n",
       "      <td>0.495873</td>\n",
       "      <td>0.916568</td>\n",
       "      <td>0.031855</td>\n",
       "      <td>0.638211</td>\n",
       "    </tr>\n",
       "    <tr>\n",
       "      <th>8</th>\n",
       "      <td>0.735540</td>\n",
       "      <td>0.647488</td>\n",
       "      <td>0.572648</td>\n",
       "      <td>0.984192</td>\n",
       "      <td>0.497757</td>\n",
       "      <td>0.882237</td>\n",
       "      <td>0.031219</td>\n",
       "      <td>0.651892</td>\n",
       "    </tr>\n",
       "    <tr>\n",
       "      <th>9</th>\n",
       "      <td>0.746754</td>\n",
       "      <td>0.666797</td>\n",
       "      <td>0.573666</td>\n",
       "      <td>0.990942</td>\n",
       "      <td>0.497456</td>\n",
       "      <td>0.915417</td>\n",
       "      <td>0.030131</td>\n",
       "      <td>0.662406</td>\n",
       "    </tr>\n",
       "  </tbody>\n",
       "</table>\n",
       "</div>"
      ],
      "text/plain": [
       "   NMI_cluster/label  ARI_cluster/label  ASW_label  graph_conn  ASW_batch  \\\n",
       "0           0.763821           0.685971   0.573634    0.990755   0.496913   \n",
       "1           0.741818           0.659413   0.573232    0.989836   0.495994   \n",
       "2           0.775604           0.699695   0.573991    0.992375   0.497989   \n",
       "3           0.747282           0.660273   0.574808    0.989030   0.496982   \n",
       "4           0.755966           0.686510   0.571711    0.993899   0.498569   \n",
       "5           0.732734           0.641470   0.572355    0.988894   0.497585   \n",
       "6           0.727844           0.647603   0.573923    0.992945   0.497462   \n",
       "7           0.721546           0.620240   0.572846    0.992617   0.495873   \n",
       "8           0.735540           0.647488   0.572648    0.984192   0.497757   \n",
       "9           0.746754           0.666797   0.573666    0.990942   0.497456   \n",
       "\n",
       "   ASW_label/batch  PCR_batch   avg_bio  \n",
       "0         0.910740   0.030826  0.674475  \n",
       "1         0.897306   0.032239  0.658154  \n",
       "2         0.917784   0.029715  0.683097  \n",
       "3         0.900543   0.029937  0.660788  \n",
       "4         0.914529   0.031110  0.671396  \n",
       "5         0.931725   0.030870  0.648853  \n",
       "6         0.932971   0.030373  0.649790  \n",
       "7         0.916568   0.031855  0.638211  \n",
       "8         0.882237   0.031219  0.651892  \n",
       "9         0.915417   0.030131  0.662406  "
      ]
     },
     "execution_count": 25,
     "metadata": {},
     "output_type": "execute_result"
    }
   ],
   "source": [
    "df"
   ]
  },
  {
   "cell_type": "code",
   "execution_count": 26,
   "id": "f7e78ae9-0aea-493a-a26a-0fbacbce8335",
   "metadata": {
    "tags": []
   },
   "outputs": [],
   "source": [
    "df['method'] = 'scfoundation'"
   ]
  },
  {
   "cell_type": "code",
   "execution_count": 27,
   "id": "eef74b07-4b9d-4627-b0a9-8d03f811571f",
   "metadata": {
    "tags": []
   },
   "outputs": [],
   "source": [
    "df.to_csv('./metrics/scfoundation.csv')"
   ]
  },
  {
   "cell_type": "code",
   "execution_count": null,
   "id": "f18d89ee-14a0-4967-92b1-7aa93df15f0a",
   "metadata": {},
   "outputs": [],
   "source": []
  }
 ],
 "metadata": {
  "environment": {
   "kernel": "scfoundation",
   "name": "pytorch-gpu.2-2.m128",
   "type": "gcloud",
   "uri": "us-docker.pkg.dev/deeplearning-platform-release/gcr.io/pytorch-gpu.2-2:m128"
  },
  "kernelspec": {
   "display_name": "Python (scfoundation )",
   "language": "python",
   "name": "scfoundation"
  },
  "language_info": {
   "codemirror_mode": {
    "name": "ipython",
    "version": 3
   },
   "file_extension": ".py",
   "mimetype": "text/x-python",
   "name": "python",
   "nbconvert_exporter": "python",
   "pygments_lexer": "ipython3",
   "version": "3.10.18"
  }
 },
 "nbformat": 4,
 "nbformat_minor": 5
}
