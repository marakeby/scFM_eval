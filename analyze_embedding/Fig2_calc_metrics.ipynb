{
 "cells": [
  {
   "cell_type": "code",
   "execution_count": 1,
   "id": "7a747ded-1d81-4bb4-a2b3-271ceb3c5c47",
   "metadata": {
    "tags": []
   },
   "outputs": [
    {
     "name": "stderr",
     "output_type": "stream",
     "text": [
      "/opt/miniforge3/envs/scfoundation/lib/python3.10/site-packages/louvain/__init__.py:54: UserWarning: pkg_resources is deprecated as an API. See https://setuptools.pypa.io/en/latest/pkg_resources.html. The pkg_resources package is slated for removal as early as 2025-11-30. Refrain from using this package or pin to Setuptools<81.\n",
      "  from pkg_resources import get_distribution, DistributionNotFound\n"
     ]
    }
   ],
   "source": [
    "import anndata as ad\n",
    "import pandas as pd\n",
    "import anndata as ad\n",
    "import scanpy as sc\n",
    "import os\n",
    "import random"
   ]
  },
  {
   "cell_type": "code",
   "execution_count": 2,
   "id": "1cccc149-b013-43bd-855f-18491890be74",
   "metadata": {
    "tags": []
   },
   "outputs": [],
   "source": [
    "import warnings\n",
    "warnings.simplefilter(action='ignore', category=FutureWarning)"
   ]
  },
  {
   "cell_type": "code",
   "execution_count": 3,
   "id": "42614f9d-e773-48cd-8629-837c6514304b",
   "metadata": {
    "tags": []
   },
   "outputs": [],
   "source": [
    "import sys\n",
    "sys.path.insert(0, '/home/jupyter/scFM_eval_')\n",
    "from evaluation.eval import EmbeddingEvaluator"
   ]
  },
  {
   "cell_type": "code",
   "execution_count": 4,
   "id": "90cef85f-60e3-442a-ae82-8afa8f94ea9f",
   "metadata": {
    "tags": []
   },
   "outputs": [],
   "source": [
    "from os.path import join"
   ]
  },
  {
   "cell_type": "code",
   "execution_count": 5,
   "id": "a9d8ef7d-c5b6-438e-a564-c8a4451adc22",
   "metadata": {
    "tags": []
   },
   "outputs": [],
   "source": [
    "base_dir = '/home/jupyter/mnt/__output_clean/brca_full/cell_type'\n",
    "\n",
    "gf_model_files = [\n",
    "    'hvg',\n",
    "    'pca',\n",
    "    # 'scgpt',\n",
    "    # 'scgpt_cancer',\n",
    "    'scvi_donor_id',\n",
    "    'Geneformer-V2-104M',\n",
    "                  'Geneformer-V2-104M_CLcancer',\n",
    "                  # 'Geneformer-V2-104M_continue',\n",
    "                  'Geneformer-V2-316M',\n",
    "                  'gf-6L-30M-i2048',\n",
    "                  'gf-6L-30M-i2048_continue'\n",
    "                 ]\n",
    "\n"
   ]
  },
  {
   "cell_type": "code",
   "execution_count": 6,
   "id": "c047a514-435d-4dc6-9bd9-dd2656881f19",
   "metadata": {
    "tags": []
   },
   "outputs": [
    {
     "data": {
      "text/plain": [
       "'/home/jupyter/mnt/__output_clean/brca_full/cell_type'"
      ]
     },
     "execution_count": 6,
     "metadata": {},
     "output_type": "execute_result"
    }
   ],
   "source": [
    "base_dir"
   ]
  },
  {
   "cell_type": "code",
   "execution_count": 7,
   "id": "5f238594-f6d4-4b7a-a243-1ec440fab47d",
   "metadata": {
    "tags": []
   },
   "outputs": [
    {
     "data": {
      "text/plain": [
       "['/home/jupyter/mnt/__output_clean/brca_full/cell_type/Geneformer-V2-104M_continue',\n",
       " '/home/jupyter/mnt/__output_clean/brca_full/cell_type/Geneformer-V2-104M_CLcancer',\n",
       " '/home/jupyter/mnt/__output_clean/brca_full/cell_type/hvg',\n",
       " '/home/jupyter/mnt/__output_clean/brca_full/cell_type/scvi_donor_id',\n",
       " '/home/jupyter/mnt/__output_clean/brca_full/cell_type/Geneformer-V2-316M',\n",
       " '/home/jupyter/mnt/__output_clean/brca_full/cell_type/Geneformer-V2-104M',\n",
       " '/home/jupyter/mnt/__output_clean/brca_full/cell_type/scgpt_cancer',\n",
       " '/home/jupyter/mnt/__output_clean/brca_full/cell_type/scfoundation',\n",
       " '/home/jupyter/mnt/__output_clean/brca_full/cell_type/scgpt',\n",
       " '/home/jupyter/mnt/__output_clean/brca_full/cell_type/cellplm',\n",
       " '/home/jupyter/mnt/__output_clean/brca_full/cell_type/scimilarity',\n",
       " '/home/jupyter/mnt/__output_clean/brca_full/cell_type/pca',\n",
       " '/home/jupyter/mnt/__output_clean/brca_full/cell_type/__scvi',\n",
       " '/home/jupyter/mnt/__output_clean/brca_full/cell_type/gf-6L-30M-i2048',\n",
       " '/home/jupyter/mnt/__output_clean/brca_full/cell_type/scvi',\n",
       " '/home/jupyter/mnt/__output_clean/brca_full/cell_type/gf-6L-30M-i2048_continue']"
      ]
     },
     "execution_count": 7,
     "metadata": {},
     "output_type": "execute_result"
    }
   ],
   "source": [
    "subfolders =[entry.path for entry in os.scandir(base_dir) if entry.is_dir()]\n",
    "subfolders"
   ]
  },
  {
   "cell_type": "code",
   "execution_count": null,
   "id": "1471297c-58e6-4f6d-9186-d49807963ac8",
   "metadata": {
    "tags": []
   },
   "outputs": [],
   "source": []
  },
  {
   "cell_type": "code",
   "execution_count": null,
   "id": "1cc67105-51a7-4b0c-b4e5-ecce7ef462b4",
   "metadata": {
    "tags": []
   },
   "outputs": [],
   "source": []
  },
  {
   "cell_type": "code",
   "execution_count": null,
   "id": "327c6ef4-d9d6-4683-8a0e-6fb6da7f99ed",
   "metadata": {
    "tags": []
   },
   "outputs": [],
   "source": []
  },
  {
   "cell_type": "code",
   "execution_count": null,
   "id": "84674e01-4f91-43e9-a9de-4d67be8bff5b",
   "metadata": {
    "tags": []
   },
   "outputs": [],
   "source": []
  },
  {
   "cell_type": "code",
   "execution_count": 8,
   "id": "8834efc8-2da9-4d3e-bbf6-88b0270aa174",
   "metadata": {
    "tags": []
   },
   "outputs": [],
   "source": [
    "def get_embd_key(model_name):\n",
    "\n",
    "    if 'pca' in model_name :\n",
    "        key = f'X_pca'    \n",
    "        \n",
    "    if 'hvg' in model_name :\n",
    "        key = f'X_hvg'    \n",
    "        \n",
    "    if 'scvi' in model_name :\n",
    "        key = f'X_scVI'\n",
    "    if 'scgpt' in model_name :\n",
    "        key = f'X_scGPT'\n",
    "    if 'Geneformer' in model_name :\n",
    "        key = f'X_geneformer'\n",
    "    if 'gf' in model_name :\n",
    "        key = f'X_geneformer'\n",
    "        \n",
    "    if 'scfoundation' in model_name:\n",
    "        key = f'X_scfoundation'\n",
    "    \n",
    "    if 'cellplm' in model_name:\n",
    "        key = f'X_CellPLM'\n",
    "    \n",
    "    if 'scimilarity' in model_name:\n",
    "        key = f'X_scimilarity'\n",
    "    return key"
   ]
  },
  {
   "cell_type": "code",
   "execution_count": null,
   "id": "d9d39d25-3ddd-48c4-8785-21f4fb05f86b",
   "metadata": {
    "tags": []
   },
   "outputs": [],
   "source": []
  },
  {
   "cell_type": "code",
   "execution_count": null,
   "id": "6d1b1651-f7cb-4280-a982-6ccd0cc06738",
   "metadata": {
    "tags": []
   },
   "outputs": [],
   "source": []
  },
  {
   "cell_type": "code",
   "execution_count": 9,
   "id": "8beea6b2-5465-49f8-b51f-20159f73008d",
   "metadata": {
    "tags": []
   },
   "outputs": [
    {
     "data": {
      "text/plain": [
       "'X_hvg'"
      ]
     },
     "execution_count": 9,
     "metadata": {},
     "output_type": "execute_result"
    }
   ],
   "source": [
    "f= gf_model_files[0]\n",
    "embedding_key = get_embd_key(f)\n",
    "embedding_key"
   ]
  },
  {
   "cell_type": "code",
   "execution_count": 10,
   "id": "5e7017c9-4b85-4750-9114-74e06a37841c",
   "metadata": {
    "tags": []
   },
   "outputs": [],
   "source": [
    "fname= join(base_dir, f)\n",
    "data_fname= join(fname,'data.h5ad' )\n",
    "embs = ad.read_h5ad(data_fname)"
   ]
  },
  {
   "cell_type": "code",
   "execution_count": 11,
   "id": "ed8f1b9e-a48d-43e2-baf9-95249efff39c",
   "metadata": {
    "tags": []
   },
   "outputs": [
    {
     "data": {
      "text/plain": [
       "(41101, 3784)"
      ]
     },
     "execution_count": 11,
     "metadata": {},
     "output_type": "execute_result"
    }
   ],
   "source": [
    "embs.shape"
   ]
  },
  {
   "cell_type": "code",
   "execution_count": 34,
   "id": "8252e05b-644f-4bf0-a939-5fb3f2fce0e8",
   "metadata": {
    "tags": []
   },
   "outputs": [
    {
     "data": {
      "text/plain": [
       "timepoint\n",
       "Pre    41101\n",
       "Name: count, dtype: int64"
      ]
     },
     "execution_count": 34,
     "metadata": {},
     "output_type": "execute_result"
    }
   ],
   "source": [
    "embs.obs.timepoint.value_counts()"
   ]
  },
  {
   "cell_type": "code",
   "execution_count": 12,
   "id": "9dd1ec6a-a345-4a75-b87b-b15be6b95d6d",
   "metadata": {
    "tags": []
   },
   "outputs": [],
   "source": [
    "data_fname= join('/home/jupyter/mnt/__output_clean/brca_full/cell_type/scvi_donor_id','data.h5ad' )\n",
    "embs = ad.read_h5ad(data_fname)"
   ]
  },
  {
   "cell_type": "code",
   "execution_count": 13,
   "id": "d2ec6b0b-e5be-48a9-ae81-a3a5ec6f2d54",
   "metadata": {
    "collapsed": true,
    "jupyter": {
     "outputs_hidden": true
    },
    "tags": []
   },
   "outputs": [
    {
     "name": "stdout",
     "output_type": "stream",
     "text": [
      "louvain\n"
     ]
    },
    {
     "name": "stderr",
     "output_type": "stream",
     "text": [
      "/opt/miniforge3/envs/scfoundation/lib/python3.10/site-packages/tqdm/auto.py:21: TqdmWarning: IProgress not found. Please update jupyter and ipywidgets. See https://ipywidgets.readthedocs.io/en/stable/user_install.html\n",
      "  from .autonotebook import tqdm as notebook_tqdm\n",
      "/home/jupyter/.local/lib/python3.10/site-packages/scib/metrics/graph_connectivity.py:56: FutureWarning: pandas.value_counts is deprecated and will be removed in a future version. Use pd.Series(obj).value_counts() instead.\n",
      "  tab = pd.value_counts(labels)\n",
      "/home/jupyter/.local/lib/python3.10/site-packages/scib/metrics/graph_connectivity.py:56: FutureWarning: pandas.value_counts is deprecated and will be removed in a future version. Use pd.Series(obj).value_counts() instead.\n",
      "  tab = pd.value_counts(labels)\n",
      "/home/jupyter/.local/lib/python3.10/site-packages/scib/metrics/graph_connectivity.py:56: FutureWarning: pandas.value_counts is deprecated and will be removed in a future version. Use pd.Series(obj).value_counts() instead.\n",
      "  tab = pd.value_counts(labels)\n",
      "/home/jupyter/.local/lib/python3.10/site-packages/scib/metrics/graph_connectivity.py:56: FutureWarning: pandas.value_counts is deprecated and will be removed in a future version. Use pd.Series(obj).value_counts() instead.\n",
      "  tab = pd.value_counts(labels)\n",
      "/home/jupyter/.local/lib/python3.10/site-packages/scib/metrics/graph_connectivity.py:56: FutureWarning: pandas.value_counts is deprecated and will be removed in a future version. Use pd.Series(obj).value_counts() instead.\n",
      "  tab = pd.value_counts(labels)\n",
      "/home/jupyter/.local/lib/python3.10/site-packages/scib/metrics/graph_connectivity.py:56: FutureWarning: pandas.value_counts is deprecated and will be removed in a future version. Use pd.Series(obj).value_counts() instead.\n",
      "  tab = pd.value_counts(labels)\n",
      "/home/jupyter/.local/lib/python3.10/site-packages/scib/metrics/graph_connectivity.py:56: FutureWarning: pandas.value_counts is deprecated and will be removed in a future version. Use pd.Series(obj).value_counts() instead.\n",
      "  tab = pd.value_counts(labels)\n",
      "/home/jupyter/.local/lib/python3.10/site-packages/scib/metrics/graph_connectivity.py:56: FutureWarning: pandas.value_counts is deprecated and will be removed in a future version. Use pd.Series(obj).value_counts() instead.\n",
      "  tab = pd.value_counts(labels)\n",
      "/opt/miniforge3/envs/scfoundation/lib/python3.10/site-packages/scanpy/preprocessing/_pca/__init__.py:227: FutureWarning: Argument `use_highly_variable` is deprecated, consider using the mask argument. Use_highly_variable=True can be called through mask_var=\"highly_variable\". Use_highly_variable=False can be called through mask_var=None\n",
      "  mask_var_param, mask_var = _handle_mask_var(adata, mask_var, use_highly_variable)\n"
     ]
    },
    {
     "name": "stdout",
     "output_type": "stream",
     "text": [
      "louvain\n"
     ]
    },
    {
     "name": "stderr",
     "output_type": "stream",
     "text": [
      "/home/jupyter/.local/lib/python3.10/site-packages/scib/metrics/graph_connectivity.py:56: FutureWarning: pandas.value_counts is deprecated and will be removed in a future version. Use pd.Series(obj).value_counts() instead.\n",
      "  tab = pd.value_counts(labels)\n",
      "/home/jupyter/.local/lib/python3.10/site-packages/scib/metrics/graph_connectivity.py:56: FutureWarning: pandas.value_counts is deprecated and will be removed in a future version. Use pd.Series(obj).value_counts() instead.\n",
      "  tab = pd.value_counts(labels)\n",
      "/home/jupyter/.local/lib/python3.10/site-packages/scib/metrics/graph_connectivity.py:56: FutureWarning: pandas.value_counts is deprecated and will be removed in a future version. Use pd.Series(obj).value_counts() instead.\n",
      "  tab = pd.value_counts(labels)\n",
      "/home/jupyter/.local/lib/python3.10/site-packages/scib/metrics/graph_connectivity.py:56: FutureWarning: pandas.value_counts is deprecated and will be removed in a future version. Use pd.Series(obj).value_counts() instead.\n",
      "  tab = pd.value_counts(labels)\n",
      "/home/jupyter/.local/lib/python3.10/site-packages/scib/metrics/graph_connectivity.py:56: FutureWarning: pandas.value_counts is deprecated and will be removed in a future version. Use pd.Series(obj).value_counts() instead.\n",
      "  tab = pd.value_counts(labels)\n",
      "/home/jupyter/.local/lib/python3.10/site-packages/scib/metrics/graph_connectivity.py:56: FutureWarning: pandas.value_counts is deprecated and will be removed in a future version. Use pd.Series(obj).value_counts() instead.\n",
      "  tab = pd.value_counts(labels)\n",
      "/home/jupyter/.local/lib/python3.10/site-packages/scib/metrics/graph_connectivity.py:56: FutureWarning: pandas.value_counts is deprecated and will be removed in a future version. Use pd.Series(obj).value_counts() instead.\n",
      "  tab = pd.value_counts(labels)\n",
      "/home/jupyter/.local/lib/python3.10/site-packages/scib/metrics/graph_connectivity.py:56: FutureWarning: pandas.value_counts is deprecated and will be removed in a future version. Use pd.Series(obj).value_counts() instead.\n",
      "  tab = pd.value_counts(labels)\n",
      "/opt/miniforge3/envs/scfoundation/lib/python3.10/site-packages/scanpy/preprocessing/_pca/__init__.py:227: FutureWarning: Argument `use_highly_variable` is deprecated, consider using the mask argument. Use_highly_variable=True can be called through mask_var=\"highly_variable\". Use_highly_variable=False can be called through mask_var=None\n",
      "  mask_var_param, mask_var = _handle_mask_var(adata, mask_var, use_highly_variable)\n"
     ]
    },
    {
     "name": "stdout",
     "output_type": "stream",
     "text": [
      "louvain\n"
     ]
    },
    {
     "name": "stderr",
     "output_type": "stream",
     "text": [
      "/home/jupyter/.local/lib/python3.10/site-packages/scib/metrics/graph_connectivity.py:56: FutureWarning: pandas.value_counts is deprecated and will be removed in a future version. Use pd.Series(obj).value_counts() instead.\n",
      "  tab = pd.value_counts(labels)\n",
      "/home/jupyter/.local/lib/python3.10/site-packages/scib/metrics/graph_connectivity.py:56: FutureWarning: pandas.value_counts is deprecated and will be removed in a future version. Use pd.Series(obj).value_counts() instead.\n",
      "  tab = pd.value_counts(labels)\n",
      "/home/jupyter/.local/lib/python3.10/site-packages/scib/metrics/graph_connectivity.py:56: FutureWarning: pandas.value_counts is deprecated and will be removed in a future version. Use pd.Series(obj).value_counts() instead.\n",
      "  tab = pd.value_counts(labels)\n",
      "/home/jupyter/.local/lib/python3.10/site-packages/scib/metrics/graph_connectivity.py:56: FutureWarning: pandas.value_counts is deprecated and will be removed in a future version. Use pd.Series(obj).value_counts() instead.\n",
      "  tab = pd.value_counts(labels)\n",
      "/home/jupyter/.local/lib/python3.10/site-packages/scib/metrics/graph_connectivity.py:56: FutureWarning: pandas.value_counts is deprecated and will be removed in a future version. Use pd.Series(obj).value_counts() instead.\n",
      "  tab = pd.value_counts(labels)\n",
      "/home/jupyter/.local/lib/python3.10/site-packages/scib/metrics/graph_connectivity.py:56: FutureWarning: pandas.value_counts is deprecated and will be removed in a future version. Use pd.Series(obj).value_counts() instead.\n",
      "  tab = pd.value_counts(labels)\n",
      "/home/jupyter/.local/lib/python3.10/site-packages/scib/metrics/graph_connectivity.py:56: FutureWarning: pandas.value_counts is deprecated and will be removed in a future version. Use pd.Series(obj).value_counts() instead.\n",
      "  tab = pd.value_counts(labels)\n",
      "/home/jupyter/.local/lib/python3.10/site-packages/scib/metrics/graph_connectivity.py:56: FutureWarning: pandas.value_counts is deprecated and will be removed in a future version. Use pd.Series(obj).value_counts() instead.\n",
      "  tab = pd.value_counts(labels)\n",
      "/opt/miniforge3/envs/scfoundation/lib/python3.10/site-packages/scanpy/preprocessing/_pca/__init__.py:227: FutureWarning: Argument `use_highly_variable` is deprecated, consider using the mask argument. Use_highly_variable=True can be called through mask_var=\"highly_variable\". Use_highly_variable=False can be called through mask_var=None\n",
      "  mask_var_param, mask_var = _handle_mask_var(adata, mask_var, use_highly_variable)\n"
     ]
    },
    {
     "name": "stdout",
     "output_type": "stream",
     "text": [
      "louvain\n"
     ]
    },
    {
     "name": "stderr",
     "output_type": "stream",
     "text": [
      "/home/jupyter/.local/lib/python3.10/site-packages/scib/metrics/graph_connectivity.py:56: FutureWarning: pandas.value_counts is deprecated and will be removed in a future version. Use pd.Series(obj).value_counts() instead.\n",
      "  tab = pd.value_counts(labels)\n",
      "/home/jupyter/.local/lib/python3.10/site-packages/scib/metrics/graph_connectivity.py:56: FutureWarning: pandas.value_counts is deprecated and will be removed in a future version. Use pd.Series(obj).value_counts() instead.\n",
      "  tab = pd.value_counts(labels)\n",
      "/home/jupyter/.local/lib/python3.10/site-packages/scib/metrics/graph_connectivity.py:56: FutureWarning: pandas.value_counts is deprecated and will be removed in a future version. Use pd.Series(obj).value_counts() instead.\n",
      "  tab = pd.value_counts(labels)\n",
      "/home/jupyter/.local/lib/python3.10/site-packages/scib/metrics/graph_connectivity.py:56: FutureWarning: pandas.value_counts is deprecated and will be removed in a future version. Use pd.Series(obj).value_counts() instead.\n",
      "  tab = pd.value_counts(labels)\n",
      "/home/jupyter/.local/lib/python3.10/site-packages/scib/metrics/graph_connectivity.py:56: FutureWarning: pandas.value_counts is deprecated and will be removed in a future version. Use pd.Series(obj).value_counts() instead.\n",
      "  tab = pd.value_counts(labels)\n",
      "/home/jupyter/.local/lib/python3.10/site-packages/scib/metrics/graph_connectivity.py:56: FutureWarning: pandas.value_counts is deprecated and will be removed in a future version. Use pd.Series(obj).value_counts() instead.\n",
      "  tab = pd.value_counts(labels)\n",
      "/home/jupyter/.local/lib/python3.10/site-packages/scib/metrics/graph_connectivity.py:56: FutureWarning: pandas.value_counts is deprecated and will be removed in a future version. Use pd.Series(obj).value_counts() instead.\n",
      "  tab = pd.value_counts(labels)\n",
      "/home/jupyter/.local/lib/python3.10/site-packages/scib/metrics/graph_connectivity.py:56: FutureWarning: pandas.value_counts is deprecated and will be removed in a future version. Use pd.Series(obj).value_counts() instead.\n",
      "  tab = pd.value_counts(labels)\n",
      "/opt/miniforge3/envs/scfoundation/lib/python3.10/site-packages/scanpy/preprocessing/_pca/__init__.py:227: FutureWarning: Argument `use_highly_variable` is deprecated, consider using the mask argument. Use_highly_variable=True can be called through mask_var=\"highly_variable\". Use_highly_variable=False can be called through mask_var=None\n",
      "  mask_var_param, mask_var = _handle_mask_var(adata, mask_var, use_highly_variable)\n"
     ]
    },
    {
     "name": "stdout",
     "output_type": "stream",
     "text": [
      "louvain\n"
     ]
    },
    {
     "name": "stderr",
     "output_type": "stream",
     "text": [
      "/home/jupyter/.local/lib/python3.10/site-packages/scib/metrics/graph_connectivity.py:56: FutureWarning: pandas.value_counts is deprecated and will be removed in a future version. Use pd.Series(obj).value_counts() instead.\n",
      "  tab = pd.value_counts(labels)\n",
      "/home/jupyter/.local/lib/python3.10/site-packages/scib/metrics/graph_connectivity.py:56: FutureWarning: pandas.value_counts is deprecated and will be removed in a future version. Use pd.Series(obj).value_counts() instead.\n",
      "  tab = pd.value_counts(labels)\n",
      "/home/jupyter/.local/lib/python3.10/site-packages/scib/metrics/graph_connectivity.py:56: FutureWarning: pandas.value_counts is deprecated and will be removed in a future version. Use pd.Series(obj).value_counts() instead.\n",
      "  tab = pd.value_counts(labels)\n",
      "/home/jupyter/.local/lib/python3.10/site-packages/scib/metrics/graph_connectivity.py:56: FutureWarning: pandas.value_counts is deprecated and will be removed in a future version. Use pd.Series(obj).value_counts() instead.\n",
      "  tab = pd.value_counts(labels)\n",
      "/home/jupyter/.local/lib/python3.10/site-packages/scib/metrics/graph_connectivity.py:56: FutureWarning: pandas.value_counts is deprecated and will be removed in a future version. Use pd.Series(obj).value_counts() instead.\n",
      "  tab = pd.value_counts(labels)\n",
      "/home/jupyter/.local/lib/python3.10/site-packages/scib/metrics/graph_connectivity.py:56: FutureWarning: pandas.value_counts is deprecated and will be removed in a future version. Use pd.Series(obj).value_counts() instead.\n",
      "  tab = pd.value_counts(labels)\n",
      "/home/jupyter/.local/lib/python3.10/site-packages/scib/metrics/graph_connectivity.py:56: FutureWarning: pandas.value_counts is deprecated and will be removed in a future version. Use pd.Series(obj).value_counts() instead.\n",
      "  tab = pd.value_counts(labels)\n",
      "/home/jupyter/.local/lib/python3.10/site-packages/scib/metrics/graph_connectivity.py:56: FutureWarning: pandas.value_counts is deprecated and will be removed in a future version. Use pd.Series(obj).value_counts() instead.\n",
      "  tab = pd.value_counts(labels)\n",
      "/opt/miniforge3/envs/scfoundation/lib/python3.10/site-packages/scanpy/preprocessing/_pca/__init__.py:227: FutureWarning: Argument `use_highly_variable` is deprecated, consider using the mask argument. Use_highly_variable=True can be called through mask_var=\"highly_variable\". Use_highly_variable=False can be called through mask_var=None\n",
      "  mask_var_param, mask_var = _handle_mask_var(adata, mask_var, use_highly_variable)\n"
     ]
    },
    {
     "name": "stdout",
     "output_type": "stream",
     "text": [
      "louvain\n"
     ]
    },
    {
     "name": "stderr",
     "output_type": "stream",
     "text": [
      "/home/jupyter/.local/lib/python3.10/site-packages/scib/metrics/graph_connectivity.py:56: FutureWarning: pandas.value_counts is deprecated and will be removed in a future version. Use pd.Series(obj).value_counts() instead.\n",
      "  tab = pd.value_counts(labels)\n",
      "/home/jupyter/.local/lib/python3.10/site-packages/scib/metrics/graph_connectivity.py:56: FutureWarning: pandas.value_counts is deprecated and will be removed in a future version. Use pd.Series(obj).value_counts() instead.\n",
      "  tab = pd.value_counts(labels)\n",
      "/home/jupyter/.local/lib/python3.10/site-packages/scib/metrics/graph_connectivity.py:56: FutureWarning: pandas.value_counts is deprecated and will be removed in a future version. Use pd.Series(obj).value_counts() instead.\n",
      "  tab = pd.value_counts(labels)\n",
      "/home/jupyter/.local/lib/python3.10/site-packages/scib/metrics/graph_connectivity.py:56: FutureWarning: pandas.value_counts is deprecated and will be removed in a future version. Use pd.Series(obj).value_counts() instead.\n",
      "  tab = pd.value_counts(labels)\n",
      "/home/jupyter/.local/lib/python3.10/site-packages/scib/metrics/graph_connectivity.py:56: FutureWarning: pandas.value_counts is deprecated and will be removed in a future version. Use pd.Series(obj).value_counts() instead.\n",
      "  tab = pd.value_counts(labels)\n",
      "/home/jupyter/.local/lib/python3.10/site-packages/scib/metrics/graph_connectivity.py:56: FutureWarning: pandas.value_counts is deprecated and will be removed in a future version. Use pd.Series(obj).value_counts() instead.\n",
      "  tab = pd.value_counts(labels)\n",
      "/home/jupyter/.local/lib/python3.10/site-packages/scib/metrics/graph_connectivity.py:56: FutureWarning: pandas.value_counts is deprecated and will be removed in a future version. Use pd.Series(obj).value_counts() instead.\n",
      "  tab = pd.value_counts(labels)\n",
      "/home/jupyter/.local/lib/python3.10/site-packages/scib/metrics/graph_connectivity.py:56: FutureWarning: pandas.value_counts is deprecated and will be removed in a future version. Use pd.Series(obj).value_counts() instead.\n",
      "  tab = pd.value_counts(labels)\n",
      "/opt/miniforge3/envs/scfoundation/lib/python3.10/site-packages/scanpy/preprocessing/_pca/__init__.py:227: FutureWarning: Argument `use_highly_variable` is deprecated, consider using the mask argument. Use_highly_variable=True can be called through mask_var=\"highly_variable\". Use_highly_variable=False can be called through mask_var=None\n",
      "  mask_var_param, mask_var = _handle_mask_var(adata, mask_var, use_highly_variable)\n"
     ]
    },
    {
     "name": "stdout",
     "output_type": "stream",
     "text": [
      "louvain\n"
     ]
    },
    {
     "name": "stderr",
     "output_type": "stream",
     "text": [
      "/home/jupyter/.local/lib/python3.10/site-packages/scib/metrics/graph_connectivity.py:56: FutureWarning: pandas.value_counts is deprecated and will be removed in a future version. Use pd.Series(obj).value_counts() instead.\n",
      "  tab = pd.value_counts(labels)\n",
      "/home/jupyter/.local/lib/python3.10/site-packages/scib/metrics/graph_connectivity.py:56: FutureWarning: pandas.value_counts is deprecated and will be removed in a future version. Use pd.Series(obj).value_counts() instead.\n",
      "  tab = pd.value_counts(labels)\n",
      "/home/jupyter/.local/lib/python3.10/site-packages/scib/metrics/graph_connectivity.py:56: FutureWarning: pandas.value_counts is deprecated and will be removed in a future version. Use pd.Series(obj).value_counts() instead.\n",
      "  tab = pd.value_counts(labels)\n",
      "/home/jupyter/.local/lib/python3.10/site-packages/scib/metrics/graph_connectivity.py:56: FutureWarning: pandas.value_counts is deprecated and will be removed in a future version. Use pd.Series(obj).value_counts() instead.\n",
      "  tab = pd.value_counts(labels)\n",
      "/home/jupyter/.local/lib/python3.10/site-packages/scib/metrics/graph_connectivity.py:56: FutureWarning: pandas.value_counts is deprecated and will be removed in a future version. Use pd.Series(obj).value_counts() instead.\n",
      "  tab = pd.value_counts(labels)\n",
      "/home/jupyter/.local/lib/python3.10/site-packages/scib/metrics/graph_connectivity.py:56: FutureWarning: pandas.value_counts is deprecated and will be removed in a future version. Use pd.Series(obj).value_counts() instead.\n",
      "  tab = pd.value_counts(labels)\n",
      "/home/jupyter/.local/lib/python3.10/site-packages/scib/metrics/graph_connectivity.py:56: FutureWarning: pandas.value_counts is deprecated and will be removed in a future version. Use pd.Series(obj).value_counts() instead.\n",
      "  tab = pd.value_counts(labels)\n",
      "/home/jupyter/.local/lib/python3.10/site-packages/scib/metrics/graph_connectivity.py:56: FutureWarning: pandas.value_counts is deprecated and will be removed in a future version. Use pd.Series(obj).value_counts() instead.\n",
      "  tab = pd.value_counts(labels)\n",
      "/opt/miniforge3/envs/scfoundation/lib/python3.10/site-packages/scanpy/preprocessing/_pca/__init__.py:227: FutureWarning: Argument `use_highly_variable` is deprecated, consider using the mask argument. Use_highly_variable=True can be called through mask_var=\"highly_variable\". Use_highly_variable=False can be called through mask_var=None\n",
      "  mask_var_param, mask_var = _handle_mask_var(adata, mask_var, use_highly_variable)\n"
     ]
    },
    {
     "name": "stdout",
     "output_type": "stream",
     "text": [
      "louvain\n"
     ]
    },
    {
     "name": "stderr",
     "output_type": "stream",
     "text": [
      "/home/jupyter/.local/lib/python3.10/site-packages/scib/metrics/graph_connectivity.py:56: FutureWarning: pandas.value_counts is deprecated and will be removed in a future version. Use pd.Series(obj).value_counts() instead.\n",
      "  tab = pd.value_counts(labels)\n",
      "/home/jupyter/.local/lib/python3.10/site-packages/scib/metrics/graph_connectivity.py:56: FutureWarning: pandas.value_counts is deprecated and will be removed in a future version. Use pd.Series(obj).value_counts() instead.\n",
      "  tab = pd.value_counts(labels)\n",
      "/home/jupyter/.local/lib/python3.10/site-packages/scib/metrics/graph_connectivity.py:56: FutureWarning: pandas.value_counts is deprecated and will be removed in a future version. Use pd.Series(obj).value_counts() instead.\n",
      "  tab = pd.value_counts(labels)\n",
      "/home/jupyter/.local/lib/python3.10/site-packages/scib/metrics/graph_connectivity.py:56: FutureWarning: pandas.value_counts is deprecated and will be removed in a future version. Use pd.Series(obj).value_counts() instead.\n",
      "  tab = pd.value_counts(labels)\n",
      "/home/jupyter/.local/lib/python3.10/site-packages/scib/metrics/graph_connectivity.py:56: FutureWarning: pandas.value_counts is deprecated and will be removed in a future version. Use pd.Series(obj).value_counts() instead.\n",
      "  tab = pd.value_counts(labels)\n",
      "/home/jupyter/.local/lib/python3.10/site-packages/scib/metrics/graph_connectivity.py:56: FutureWarning: pandas.value_counts is deprecated and will be removed in a future version. Use pd.Series(obj).value_counts() instead.\n",
      "  tab = pd.value_counts(labels)\n",
      "/home/jupyter/.local/lib/python3.10/site-packages/scib/metrics/graph_connectivity.py:56: FutureWarning: pandas.value_counts is deprecated and will be removed in a future version. Use pd.Series(obj).value_counts() instead.\n",
      "  tab = pd.value_counts(labels)\n",
      "/home/jupyter/.local/lib/python3.10/site-packages/scib/metrics/graph_connectivity.py:56: FutureWarning: pandas.value_counts is deprecated and will be removed in a future version. Use pd.Series(obj).value_counts() instead.\n",
      "  tab = pd.value_counts(labels)\n",
      "/opt/miniforge3/envs/scfoundation/lib/python3.10/site-packages/scanpy/preprocessing/_pca/__init__.py:227: FutureWarning: Argument `use_highly_variable` is deprecated, consider using the mask argument. Use_highly_variable=True can be called through mask_var=\"highly_variable\". Use_highly_variable=False can be called through mask_var=None\n",
      "  mask_var_param, mask_var = _handle_mask_var(adata, mask_var, use_highly_variable)\n"
     ]
    },
    {
     "name": "stdout",
     "output_type": "stream",
     "text": [
      "louvain\n"
     ]
    },
    {
     "name": "stderr",
     "output_type": "stream",
     "text": [
      "/home/jupyter/.local/lib/python3.10/site-packages/scib/metrics/graph_connectivity.py:56: FutureWarning: pandas.value_counts is deprecated and will be removed in a future version. Use pd.Series(obj).value_counts() instead.\n",
      "  tab = pd.value_counts(labels)\n",
      "/home/jupyter/.local/lib/python3.10/site-packages/scib/metrics/graph_connectivity.py:56: FutureWarning: pandas.value_counts is deprecated and will be removed in a future version. Use pd.Series(obj).value_counts() instead.\n",
      "  tab = pd.value_counts(labels)\n",
      "/home/jupyter/.local/lib/python3.10/site-packages/scib/metrics/graph_connectivity.py:56: FutureWarning: pandas.value_counts is deprecated and will be removed in a future version. Use pd.Series(obj).value_counts() instead.\n",
      "  tab = pd.value_counts(labels)\n",
      "/home/jupyter/.local/lib/python3.10/site-packages/scib/metrics/graph_connectivity.py:56: FutureWarning: pandas.value_counts is deprecated and will be removed in a future version. Use pd.Series(obj).value_counts() instead.\n",
      "  tab = pd.value_counts(labels)\n",
      "/home/jupyter/.local/lib/python3.10/site-packages/scib/metrics/graph_connectivity.py:56: FutureWarning: pandas.value_counts is deprecated and will be removed in a future version. Use pd.Series(obj).value_counts() instead.\n",
      "  tab = pd.value_counts(labels)\n",
      "/home/jupyter/.local/lib/python3.10/site-packages/scib/metrics/graph_connectivity.py:56: FutureWarning: pandas.value_counts is deprecated and will be removed in a future version. Use pd.Series(obj).value_counts() instead.\n",
      "  tab = pd.value_counts(labels)\n",
      "/home/jupyter/.local/lib/python3.10/site-packages/scib/metrics/graph_connectivity.py:56: FutureWarning: pandas.value_counts is deprecated and will be removed in a future version. Use pd.Series(obj).value_counts() instead.\n",
      "  tab = pd.value_counts(labels)\n",
      "/home/jupyter/.local/lib/python3.10/site-packages/scib/metrics/graph_connectivity.py:56: FutureWarning: pandas.value_counts is deprecated and will be removed in a future version. Use pd.Series(obj).value_counts() instead.\n",
      "  tab = pd.value_counts(labels)\n",
      "/opt/miniforge3/envs/scfoundation/lib/python3.10/site-packages/scanpy/preprocessing/_pca/__init__.py:227: FutureWarning: Argument `use_highly_variable` is deprecated, consider using the mask argument. Use_highly_variable=True can be called through mask_var=\"highly_variable\". Use_highly_variable=False can be called through mask_var=None\n",
      "  mask_var_param, mask_var = _handle_mask_var(adata, mask_var, use_highly_variable)\n"
     ]
    },
    {
     "name": "stdout",
     "output_type": "stream",
     "text": [
      "louvain\n"
     ]
    },
    {
     "name": "stderr",
     "output_type": "stream",
     "text": [
      "/home/jupyter/.local/lib/python3.10/site-packages/scib/metrics/graph_connectivity.py:56: FutureWarning: pandas.value_counts is deprecated and will be removed in a future version. Use pd.Series(obj).value_counts() instead.\n",
      "  tab = pd.value_counts(labels)\n",
      "/home/jupyter/.local/lib/python3.10/site-packages/scib/metrics/graph_connectivity.py:56: FutureWarning: pandas.value_counts is deprecated and will be removed in a future version. Use pd.Series(obj).value_counts() instead.\n",
      "  tab = pd.value_counts(labels)\n",
      "/home/jupyter/.local/lib/python3.10/site-packages/scib/metrics/graph_connectivity.py:56: FutureWarning: pandas.value_counts is deprecated and will be removed in a future version. Use pd.Series(obj).value_counts() instead.\n",
      "  tab = pd.value_counts(labels)\n",
      "/home/jupyter/.local/lib/python3.10/site-packages/scib/metrics/graph_connectivity.py:56: FutureWarning: pandas.value_counts is deprecated and will be removed in a future version. Use pd.Series(obj).value_counts() instead.\n",
      "  tab = pd.value_counts(labels)\n",
      "/home/jupyter/.local/lib/python3.10/site-packages/scib/metrics/graph_connectivity.py:56: FutureWarning: pandas.value_counts is deprecated and will be removed in a future version. Use pd.Series(obj).value_counts() instead.\n",
      "  tab = pd.value_counts(labels)\n",
      "/home/jupyter/.local/lib/python3.10/site-packages/scib/metrics/graph_connectivity.py:56: FutureWarning: pandas.value_counts is deprecated and will be removed in a future version. Use pd.Series(obj).value_counts() instead.\n",
      "  tab = pd.value_counts(labels)\n",
      "/home/jupyter/.local/lib/python3.10/site-packages/scib/metrics/graph_connectivity.py:56: FutureWarning: pandas.value_counts is deprecated and will be removed in a future version. Use pd.Series(obj).value_counts() instead.\n",
      "  tab = pd.value_counts(labels)\n",
      "/home/jupyter/.local/lib/python3.10/site-packages/scib/metrics/graph_connectivity.py:56: FutureWarning: pandas.value_counts is deprecated and will be removed in a future version. Use pd.Series(obj).value_counts() instead.\n",
      "  tab = pd.value_counts(labels)\n",
      "/opt/miniforge3/envs/scfoundation/lib/python3.10/site-packages/scanpy/preprocessing/_pca/__init__.py:227: FutureWarning: Argument `use_highly_variable` is deprecated, consider using the mask argument. Use_highly_variable=True can be called through mask_var=\"highly_variable\". Use_highly_variable=False can be called through mask_var=None\n",
      "  mask_var_param, mask_var = _handle_mask_var(adata, mask_var, use_highly_variable)\n"
     ]
    }
   ],
   "source": [
    "for i in range(10):\n",
    "    subsampled_adata = sc.pp.subsample(embs, n_obs=10000, copy=True, random_state=None) \n",
    "    ev = EmbeddingEvaluator( subsampled_adata, embedding_key='X_scVI', save_dir='.', auto_subsample=False)\n",
    "    ret_dict = ev.evaluate()\n",
    "    # mid_results.append(ret_dict)"
   ]
  },
  {
   "cell_type": "code",
   "execution_count": 14,
   "id": "873d231d-a5d3-4160-9e52-0cf3fd27a4a6",
   "metadata": {
    "tags": []
   },
   "outputs": [
    {
     "data": {
      "text/plain": [
       "{'NMI_cluster/label': 0.7343039292254105,\n",
       " 'ARI_cluster/label': 0.6360053569781767,\n",
       " 'ASW_label': 0.5950561538338661,\n",
       " 'graph_conn': 0.9944108719425653,\n",
       " 'ASW_batch': 0.4788084588944912,\n",
       " 'ASW_label/batch': 0.79703135790906,\n",
       " 'PCR_batch': 0.17971466604208303,\n",
       " 'avg_bio': 0.6551218133458178}"
      ]
     },
     "execution_count": 14,
     "metadata": {},
     "output_type": "execute_result"
    }
   ],
   "source": [
    "ret_dict"
   ]
  },
  {
   "cell_type": "code",
   "execution_count": 40,
   "id": "8fcf92ac-c71d-4262-af2e-e4c7ea896501",
   "metadata": {
    "tags": []
   },
   "outputs": [],
   "source": [
    "import warnings\n",
    "warnings.simplefilter(action='ignore', category=FutureWarning)"
   ]
  },
  {
   "cell_type": "code",
   "execution_count": 9,
   "id": "4aadc614-4d10-4978-a7fe-3d548c5014be",
   "metadata": {
    "tags": []
   },
   "outputs": [
    {
     "data": {
      "text/plain": [
       "AnnData object with n_obs × n_vars = 41101 × 100\n",
       "    obs: 'orig.ident', 'nCount_RNA', 'nFeature_RNA', 'cell_id', 'donor_id', 'timepoint', 'outcome', 'Cancer_type', 'cell_types', 'cohort', 'pre_post', 'donor_id_pre_post', 'donor_id_outcome', 'donor_id_cell_types', 'donor_id_cell_types_pre_post', 'sample_id_pre_post_outcome', 'enough_cells', 'Study_name', 'Primary_or_met', 'RNA_snn_res.0.8', 'seurat_clusters', 'ident', 'n_genes_by_counts', 'total_counts', 'n_genes', 'label', 'batch', '_scvi_batch', '_scvi_labels'\n",
       "    obsm: 'X_scVI'"
      ]
     },
     "execution_count": 9,
     "metadata": {},
     "output_type": "execute_result"
    }
   ],
   "source": [
    "embsa"
   ]
  },
  {
   "cell_type": "code",
   "execution_count": 41,
   "id": "ddfeb20d-bdbf-4adb-84cd-10c509936a9d",
   "metadata": {
    "tags": []
   },
   "outputs": [
    {
     "name": "stdout",
     "output_type": "stream",
     "text": [
      "0 Geneformer-V2-104M_continue\n",
      "    X_geneformer\n",
      "louvain\n",
      "louvain\n",
      "louvain\n",
      "louvain\n",
      "louvain\n",
      "louvain\n",
      "louvain\n",
      "louvain\n",
      "louvain\n",
      "louvain\n",
      "1 Geneformer-V2-104M_CLcancer\n",
      "    X_geneformer\n",
      "louvain\n",
      "louvain\n",
      "louvain\n",
      "louvain\n",
      "louvain\n",
      "louvain\n",
      "louvain\n",
      "louvain\n",
      "louvain\n",
      "louvain\n",
      "2 hvg\n",
      "    X_hvg\n",
      "louvain\n",
      "louvain\n",
      "louvain\n",
      "louvain\n",
      "louvain\n",
      "louvain\n",
      "louvain\n",
      "louvain\n",
      "louvain\n",
      "louvain\n",
      "3 scvi_donor_id\n",
      "    X_scVI\n",
      "louvain\n",
      "louvain\n",
      "louvain\n",
      "louvain\n",
      "louvain\n",
      "louvain\n",
      "louvain\n",
      "louvain\n",
      "louvain\n",
      "louvain\n",
      "4 Geneformer-V2-316M\n",
      "    X_geneformer\n",
      "louvain\n",
      "louvain\n",
      "louvain\n",
      "louvain\n",
      "louvain\n",
      "louvain\n",
      "louvain\n",
      "louvain\n",
      "louvain\n",
      "louvain\n",
      "5 Geneformer-V2-104M\n",
      "    X_geneformer\n",
      "louvain\n",
      "louvain\n",
      "louvain\n",
      "louvain\n",
      "louvain\n",
      "louvain\n",
      "louvain\n",
      "louvain\n",
      "louvain\n",
      "louvain\n",
      "6 scgpt_cancer\n",
      "    X_scGPT\n",
      "louvain\n",
      "louvain\n",
      "louvain\n",
      "louvain\n",
      "louvain\n",
      "louvain\n",
      "louvain\n",
      "louvain\n",
      "louvain\n",
      "louvain\n",
      "7 scfoundation\n",
      "    X_scfoundation\n",
      "louvain\n",
      "louvain\n",
      "louvain\n",
      "louvain\n",
      "louvain\n",
      "louvain\n",
      "louvain\n",
      "louvain\n",
      "louvain\n",
      "louvain\n",
      "8 scgpt\n",
      "    X_scGPT\n",
      "louvain\n",
      "louvain\n",
      "louvain\n",
      "louvain\n",
      "louvain\n",
      "louvain\n",
      "louvain\n",
      "louvain\n",
      "louvain\n",
      "louvain\n",
      "9 cellplm\n",
      "    X_CellPLM\n",
      "louvain\n",
      "louvain\n",
      "louvain\n",
      "louvain\n",
      "louvain\n",
      "louvain\n",
      "louvain\n",
      "louvain\n",
      "louvain\n",
      "louvain\n",
      "10 scimilarity\n",
      "    X_scimilarity\n",
      "louvain\n",
      "louvain\n",
      "louvain\n",
      "louvain\n",
      "louvain\n",
      "louvain\n",
      "louvain\n",
      "louvain\n",
      "louvain\n",
      "louvain\n",
      "11 pca\n",
      "    X_pca\n",
      "louvain\n",
      "louvain\n",
      "louvain\n",
      "louvain\n",
      "louvain\n",
      "louvain\n",
      "louvain\n",
      "louvain\n",
      "louvain\n",
      "louvain\n",
      "12 __scvi\n",
      "    X_scVI\n",
      "louvain\n",
      "louvain\n",
      "louvain\n",
      "louvain\n",
      "louvain\n",
      "louvain\n",
      "louvain\n",
      "louvain\n",
      "louvain\n",
      "louvain\n",
      "13 gf-6L-30M-i2048\n",
      "    X_geneformer\n",
      "louvain\n",
      "louvain\n",
      "louvain\n",
      "louvain\n",
      "louvain\n",
      "louvain\n",
      "louvain\n",
      "louvain\n",
      "louvain\n",
      "louvain\n",
      "14 scvi\n",
      "    X_scVI\n",
      "louvain\n",
      "louvain\n",
      "louvain\n",
      "louvain\n",
      "louvain\n",
      "louvain\n",
      "louvain\n",
      "louvain\n",
      "louvain\n",
      "louvain\n",
      "15 gf-6L-30M-i2048_continue\n",
      "    X_geneformer\n",
      "louvain\n",
      "louvain\n",
      "louvain\n",
      "louvain\n",
      "louvain\n",
      "louvain\n",
      "louvain\n",
      "louvain\n",
      "louvain\n",
      "louvain\n"
     ]
    }
   ],
   "source": [
    "results_mean= []\n",
    "results_std= []\n",
    "all_results= {}\n",
    "seed = random.randint(0, 100000)\n",
    "# seed = 42\n",
    "for i, fname in enumerate(subfolders):\n",
    "    \n",
    "    model_name = os.path.basename(fname)\n",
    "    print(i, model_name)\n",
    "    embedding_key = get_embd_key(fname)\n",
    "    print( f'    {embedding_key}')\n",
    "\n",
    "    try: \n",
    "        data_fname= join(fname,'data.h5ad' )\n",
    "        embs = ad.read_h5ad(data_fname)\n",
    "        embs_ = embs.obsm[embedding_key]\n",
    "        # print(embs.obsm)\n",
    "    except:\n",
    "        print(f'-------- Error: cannot open {model_name}------------')\n",
    "        continue \n",
    "        \n",
    "#     print(data_fname)\n",
    "    \n",
    "    \n",
    "    mid_results=[]\n",
    "    for i in range(10):\n",
    "        subsampled_adata = sc.pp.subsample(embs, n_obs=10000, copy=True, random_state=None) \n",
    "        ev = EmbeddingEvaluator( subsampled_adata, embedding_key=embedding_key, save_dir='.', auto_subsample=False)\n",
    "        ret_dict = ev.evaluate()\n",
    "        mid_results.append(ret_dict)\n",
    "        # print(ret_dict)\n",
    "    \n",
    "    df = pd.DataFrame(mid_results)\n",
    "    dd = df.mean()\n",
    "    dd['model'] = model_name\n",
    "    results_mean.append(dd)\n",
    "\n",
    "    dd = df.std()\n",
    "    dd['model'] = model_name\n",
    "    results_std.append(dd)\n",
    "    \n",
    "    all_results[model_name] = mid_results\n",
    "    "
   ]
  },
  {
   "cell_type": "code",
   "execution_count": 59,
   "id": "21953adf-f4f1-4d05-ac5a-65b93c8876f0",
   "metadata": {
    "tags": []
   },
   "outputs": [],
   "source": [
    "results_mean_df = pd.concat(results_mean, axis=1).T.set_index('model')"
   ]
  },
  {
   "cell_type": "code",
   "execution_count": 60,
   "id": "939c3d15-ed68-41e1-a39e-f00b1c464e49",
   "metadata": {
    "tags": []
   },
   "outputs": [
    {
     "data": {
      "text/html": [
       "<div>\n",
       "<style scoped>\n",
       "    .dataframe tbody tr th:only-of-type {\n",
       "        vertical-align: middle;\n",
       "    }\n",
       "\n",
       "    .dataframe tbody tr th {\n",
       "        vertical-align: top;\n",
       "    }\n",
       "\n",
       "    .dataframe thead th {\n",
       "        text-align: right;\n",
       "    }\n",
       "</style>\n",
       "<table border=\"1\" class=\"dataframe\">\n",
       "  <thead>\n",
       "    <tr style=\"text-align: right;\">\n",
       "      <th></th>\n",
       "      <th>NMI_cluster/label</th>\n",
       "      <th>ARI_cluster/label</th>\n",
       "      <th>ASW_label</th>\n",
       "      <th>graph_conn</th>\n",
       "      <th>ASW_batch</th>\n",
       "      <th>ASW_label/batch</th>\n",
       "      <th>PCR_batch</th>\n",
       "      <th>avg_bio</th>\n",
       "    </tr>\n",
       "    <tr>\n",
       "      <th>model</th>\n",
       "      <th></th>\n",
       "      <th></th>\n",
       "      <th></th>\n",
       "      <th></th>\n",
       "      <th></th>\n",
       "      <th></th>\n",
       "      <th></th>\n",
       "      <th></th>\n",
       "    </tr>\n",
       "  </thead>\n",
       "  <tbody>\n",
       "    <tr>\n",
       "      <th>Geneformer-V2-104M_continue</th>\n",
       "      <td>0.132666</td>\n",
       "      <td>0.096671</td>\n",
       "      <td>0.447959</td>\n",
       "      <td>0.65562</td>\n",
       "      <td>0.418344</td>\n",
       "      <td>0.745017</td>\n",
       "      <td>0.026559</td>\n",
       "      <td>0.225765</td>\n",
       "    </tr>\n",
       "    <tr>\n",
       "      <th>Geneformer-V2-104M_CLcancer</th>\n",
       "      <td>0.648102</td>\n",
       "      <td>0.506496</td>\n",
       "      <td>0.509267</td>\n",
       "      <td>0.969681</td>\n",
       "      <td>0.438935</td>\n",
       "      <td>0.840867</td>\n",
       "      <td>0.174468</td>\n",
       "      <td>0.554622</td>\n",
       "    </tr>\n",
       "    <tr>\n",
       "      <th>hvg</th>\n",
       "      <td>0.535608</td>\n",
       "      <td>0.26532</td>\n",
       "      <td>0.508813</td>\n",
       "      <td>0.965808</td>\n",
       "      <td>0.481053</td>\n",
       "      <td>0.950077</td>\n",
       "      <td>0.221971</td>\n",
       "      <td>0.436581</td>\n",
       "    </tr>\n",
       "    <tr>\n",
       "      <th>scvi_donor_id</th>\n",
       "      <td>0.675993</td>\n",
       "      <td>0.475049</td>\n",
       "      <td>0.593261</td>\n",
       "      <td>0.991059</td>\n",
       "      <td>0.479106</td>\n",
       "      <td>0.824882</td>\n",
       "      <td>0.181404</td>\n",
       "      <td>0.581434</td>\n",
       "    </tr>\n",
       "    <tr>\n",
       "      <th>Geneformer-V2-316M</th>\n",
       "      <td>0.712597</td>\n",
       "      <td>0.628071</td>\n",
       "      <td>0.507252</td>\n",
       "      <td>0.958874</td>\n",
       "      <td>0.452682</td>\n",
       "      <td>0.856805</td>\n",
       "      <td>0.178611</td>\n",
       "      <td>0.615973</td>\n",
       "    </tr>\n",
       "    <tr>\n",
       "      <th>Geneformer-V2-104M</th>\n",
       "      <td>0.680612</td>\n",
       "      <td>0.60996</td>\n",
       "      <td>0.503083</td>\n",
       "      <td>0.958886</td>\n",
       "      <td>0.437905</td>\n",
       "      <td>0.818556</td>\n",
       "      <td>0.165335</td>\n",
       "      <td>0.597885</td>\n",
       "    </tr>\n",
       "    <tr>\n",
       "      <th>scgpt_cancer</th>\n",
       "      <td>0.754777</td>\n",
       "      <td>0.731011</td>\n",
       "      <td>0.562042</td>\n",
       "      <td>0.980313</td>\n",
       "      <td>0.440433</td>\n",
       "      <td>0.862721</td>\n",
       "      <td>0.206015</td>\n",
       "      <td>0.68261</td>\n",
       "    </tr>\n",
       "    <tr>\n",
       "      <th>scfoundation</th>\n",
       "      <td>0.697104</td>\n",
       "      <td>0.594448</td>\n",
       "      <td>0.571232</td>\n",
       "      <td>0.988382</td>\n",
       "      <td>0.467406</td>\n",
       "      <td>0.860919</td>\n",
       "      <td>0.17787</td>\n",
       "      <td>0.620928</td>\n",
       "    </tr>\n",
       "    <tr>\n",
       "      <th>scgpt</th>\n",
       "      <td>0.727857</td>\n",
       "      <td>0.678384</td>\n",
       "      <td>0.562734</td>\n",
       "      <td>0.969631</td>\n",
       "      <td>0.44041</td>\n",
       "      <td>0.833574</td>\n",
       "      <td>0.161695</td>\n",
       "      <td>0.656325</td>\n",
       "    </tr>\n",
       "    <tr>\n",
       "      <th>cellplm</th>\n",
       "      <td>0.730952</td>\n",
       "      <td>0.664898</td>\n",
       "      <td>0.585365</td>\n",
       "      <td>0.988495</td>\n",
       "      <td>0.468027</td>\n",
       "      <td>0.85371</td>\n",
       "      <td>0.218757</td>\n",
       "      <td>0.660405</td>\n",
       "    </tr>\n",
       "    <tr>\n",
       "      <th>scimilarity</th>\n",
       "      <td>0.721498</td>\n",
       "      <td>0.549217</td>\n",
       "      <td>0.647714</td>\n",
       "      <td>0.954213</td>\n",
       "      <td>0.411165</td>\n",
       "      <td>0.783539</td>\n",
       "      <td>0.191305</td>\n",
       "      <td>0.639476</td>\n",
       "    </tr>\n",
       "    <tr>\n",
       "      <th>pca</th>\n",
       "      <td>0.636797</td>\n",
       "      <td>0.419969</td>\n",
       "      <td>0.534136</td>\n",
       "      <td>0.99412</td>\n",
       "      <td>0.4701</td>\n",
       "      <td>0.816917</td>\n",
       "      <td>0.200497</td>\n",
       "      <td>0.530301</td>\n",
       "    </tr>\n",
       "    <tr>\n",
       "      <th>gf-6L-30M-i2048</th>\n",
       "      <td>0.681918</td>\n",
       "      <td>0.625299</td>\n",
       "      <td>0.519847</td>\n",
       "      <td>0.95766</td>\n",
       "      <td>0.450211</td>\n",
       "      <td>0.863968</td>\n",
       "      <td>0.125677</td>\n",
       "      <td>0.609021</td>\n",
       "    </tr>\n",
       "    <tr>\n",
       "      <th>gf-6L-30M-i2048_continue</th>\n",
       "      <td>0.727683</td>\n",
       "      <td>0.670819</td>\n",
       "      <td>0.505873</td>\n",
       "      <td>0.975304</td>\n",
       "      <td>0.471978</td>\n",
       "      <td>0.874065</td>\n",
       "      <td>0.150905</td>\n",
       "      <td>0.634792</td>\n",
       "    </tr>\n",
       "  </tbody>\n",
       "</table>\n",
       "</div>"
      ],
      "text/plain": [
       "                            NMI_cluster/label ARI_cluster/label ASW_label  \\\n",
       "model                                                                       \n",
       "Geneformer-V2-104M_continue          0.132666          0.096671  0.447959   \n",
       "Geneformer-V2-104M_CLcancer          0.648102          0.506496  0.509267   \n",
       "hvg                                  0.535608           0.26532  0.508813   \n",
       "scvi_donor_id                        0.675993          0.475049  0.593261   \n",
       "Geneformer-V2-316M                   0.712597          0.628071  0.507252   \n",
       "Geneformer-V2-104M                   0.680612           0.60996  0.503083   \n",
       "scgpt_cancer                         0.754777          0.731011  0.562042   \n",
       "scfoundation                         0.697104          0.594448  0.571232   \n",
       "scgpt                                0.727857          0.678384  0.562734   \n",
       "cellplm                              0.730952          0.664898  0.585365   \n",
       "scimilarity                          0.721498          0.549217  0.647714   \n",
       "pca                                  0.636797          0.419969  0.534136   \n",
       "gf-6L-30M-i2048                      0.681918          0.625299  0.519847   \n",
       "gf-6L-30M-i2048_continue             0.727683          0.670819  0.505873   \n",
       "\n",
       "                            graph_conn ASW_batch ASW_label/batch PCR_batch  \\\n",
       "model                                                                        \n",
       "Geneformer-V2-104M_continue    0.65562  0.418344        0.745017  0.026559   \n",
       "Geneformer-V2-104M_CLcancer   0.969681  0.438935        0.840867  0.174468   \n",
       "hvg                           0.965808  0.481053        0.950077  0.221971   \n",
       "scvi_donor_id                 0.991059  0.479106        0.824882  0.181404   \n",
       "Geneformer-V2-316M            0.958874  0.452682        0.856805  0.178611   \n",
       "Geneformer-V2-104M            0.958886  0.437905        0.818556  0.165335   \n",
       "scgpt_cancer                  0.980313  0.440433        0.862721  0.206015   \n",
       "scfoundation                  0.988382  0.467406        0.860919   0.17787   \n",
       "scgpt                         0.969631   0.44041        0.833574  0.161695   \n",
       "cellplm                       0.988495  0.468027         0.85371  0.218757   \n",
       "scimilarity                   0.954213  0.411165        0.783539  0.191305   \n",
       "pca                            0.99412    0.4701        0.816917  0.200497   \n",
       "gf-6L-30M-i2048                0.95766  0.450211        0.863968  0.125677   \n",
       "gf-6L-30M-i2048_continue      0.975304  0.471978        0.874065  0.150905   \n",
       "\n",
       "                              avg_bio  \n",
       "model                                  \n",
       "Geneformer-V2-104M_continue  0.225765  \n",
       "Geneformer-V2-104M_CLcancer  0.554622  \n",
       "hvg                          0.436581  \n",
       "scvi_donor_id                0.581434  \n",
       "Geneformer-V2-316M           0.615973  \n",
       "Geneformer-V2-104M           0.597885  \n",
       "scgpt_cancer                  0.68261  \n",
       "scfoundation                 0.620928  \n",
       "scgpt                        0.656325  \n",
       "cellplm                      0.660405  \n",
       "scimilarity                  0.639476  \n",
       "pca                          0.530301  \n",
       "gf-6L-30M-i2048              0.609021  \n",
       "gf-6L-30M-i2048_continue     0.634792  "
      ]
     },
     "execution_count": 60,
     "metadata": {},
     "output_type": "execute_result"
    }
   ],
   "source": [
    "ind = results_mean_df.index.str.contains('__scvi')\n",
    "results_mean_df = results_mean_df[~ind]\n",
    "ind = results_mean_df.index =='scvi'\n",
    "results_mean_df  = results_mean_df[~ind]\n",
    "results_mean_df"
   ]
  },
  {
   "cell_type": "code",
   "execution_count": 47,
   "id": "5a2fa59a-f390-418d-80b6-821d4aae788f",
   "metadata": {
    "tags": []
   },
   "outputs": [],
   "source": [
    "results_std_df = pd.concat(results_std, axis=1).T.set_index('model')"
   ]
  },
  {
   "cell_type": "code",
   "execution_count": 61,
   "id": "739be729-752f-42a6-be7a-049b8b049131",
   "metadata": {
    "tags": []
   },
   "outputs": [
    {
     "data": {
      "text/html": [
       "<div>\n",
       "<style scoped>\n",
       "    .dataframe tbody tr th:only-of-type {\n",
       "        vertical-align: middle;\n",
       "    }\n",
       "\n",
       "    .dataframe tbody tr th {\n",
       "        vertical-align: top;\n",
       "    }\n",
       "\n",
       "    .dataframe thead th {\n",
       "        text-align: right;\n",
       "    }\n",
       "</style>\n",
       "<table border=\"1\" class=\"dataframe\">\n",
       "  <thead>\n",
       "    <tr style=\"text-align: right;\">\n",
       "      <th></th>\n",
       "      <th>NMI_cluster/label</th>\n",
       "      <th>ARI_cluster/label</th>\n",
       "      <th>ASW_label</th>\n",
       "      <th>graph_conn</th>\n",
       "      <th>ASW_batch</th>\n",
       "      <th>ASW_label/batch</th>\n",
       "      <th>PCR_batch</th>\n",
       "      <th>avg_bio</th>\n",
       "    </tr>\n",
       "    <tr>\n",
       "      <th>model</th>\n",
       "      <th></th>\n",
       "      <th></th>\n",
       "      <th></th>\n",
       "      <th></th>\n",
       "      <th></th>\n",
       "      <th></th>\n",
       "      <th></th>\n",
       "      <th></th>\n",
       "    </tr>\n",
       "  </thead>\n",
       "  <tbody>\n",
       "    <tr>\n",
       "      <th>Geneformer-V2-104M_continue</th>\n",
       "      <td>0.004502</td>\n",
       "      <td>0.007724</td>\n",
       "      <td>0.003895</td>\n",
       "      <td>0.011206</td>\n",
       "      <td>0.003627</td>\n",
       "      <td>0.013863</td>\n",
       "      <td>0.0041</td>\n",
       "      <td>0.004272</td>\n",
       "    </tr>\n",
       "    <tr>\n",
       "      <th>Geneformer-V2-104M_CLcancer</th>\n",
       "      <td>0.033129</td>\n",
       "      <td>0.09501</td>\n",
       "      <td>0.000919</td>\n",
       "      <td>0.01318</td>\n",
       "      <td>0.001869</td>\n",
       "      <td>0.008621</td>\n",
       "      <td>0.003719</td>\n",
       "      <td>0.042146</td>\n",
       "    </tr>\n",
       "    <tr>\n",
       "      <th>hvg</th>\n",
       "      <td>0.008983</td>\n",
       "      <td>0.019868</td>\n",
       "      <td>0.000636</td>\n",
       "      <td>0.003437</td>\n",
       "      <td>0.001728</td>\n",
       "      <td>0.002268</td>\n",
       "      <td>0.002147</td>\n",
       "      <td>0.006704</td>\n",
       "    </tr>\n",
       "    <tr>\n",
       "      <th>scvi_donor_id</th>\n",
       "      <td>0.013387</td>\n",
       "      <td>0.064733</td>\n",
       "      <td>0.001407</td>\n",
       "      <td>0.003579</td>\n",
       "      <td>0.000711</td>\n",
       "      <td>0.011621</td>\n",
       "      <td>0.002691</td>\n",
       "      <td>0.025956</td>\n",
       "    </tr>\n",
       "    <tr>\n",
       "      <th>Geneformer-V2-316M</th>\n",
       "      <td>0.026707</td>\n",
       "      <td>0.061946</td>\n",
       "      <td>0.001508</td>\n",
       "      <td>0.027473</td>\n",
       "      <td>0.001636</td>\n",
       "      <td>0.009403</td>\n",
       "      <td>0.003372</td>\n",
       "      <td>0.029362</td>\n",
       "    </tr>\n",
       "    <tr>\n",
       "      <th>Geneformer-V2-104M</th>\n",
       "      <td>0.033848</td>\n",
       "      <td>0.07044</td>\n",
       "      <td>0.002819</td>\n",
       "      <td>0.019316</td>\n",
       "      <td>0.00136</td>\n",
       "      <td>0.009964</td>\n",
       "      <td>0.003127</td>\n",
       "      <td>0.03461</td>\n",
       "    </tr>\n",
       "    <tr>\n",
       "      <th>scgpt_cancer</th>\n",
       "      <td>0.021461</td>\n",
       "      <td>0.055752</td>\n",
       "      <td>0.00158</td>\n",
       "      <td>0.009054</td>\n",
       "      <td>0.001594</td>\n",
       "      <td>0.007687</td>\n",
       "      <td>0.004552</td>\n",
       "      <td>0.025245</td>\n",
       "    </tr>\n",
       "    <tr>\n",
       "      <th>scfoundation</th>\n",
       "      <td>0.031704</td>\n",
       "      <td>0.075962</td>\n",
       "      <td>0.000937</td>\n",
       "      <td>0.005535</td>\n",
       "      <td>0.001236</td>\n",
       "      <td>0.010823</td>\n",
       "      <td>0.003262</td>\n",
       "      <td>0.035731</td>\n",
       "    </tr>\n",
       "    <tr>\n",
       "      <th>scgpt</th>\n",
       "      <td>0.012688</td>\n",
       "      <td>0.024508</td>\n",
       "      <td>0.00599</td>\n",
       "      <td>0.017241</td>\n",
       "      <td>0.001581</td>\n",
       "      <td>0.012625</td>\n",
       "      <td>0.002272</td>\n",
       "      <td>0.011714</td>\n",
       "    </tr>\n",
       "    <tr>\n",
       "      <th>cellplm</th>\n",
       "      <td>0.012025</td>\n",
       "      <td>0.015034</td>\n",
       "      <td>0.000839</td>\n",
       "      <td>0.001654</td>\n",
       "      <td>0.00091</td>\n",
       "      <td>0.008838</td>\n",
       "      <td>0.00232</td>\n",
       "      <td>0.00887</td>\n",
       "    </tr>\n",
       "    <tr>\n",
       "      <th>scimilarity</th>\n",
       "      <td>0.015737</td>\n",
       "      <td>0.030776</td>\n",
       "      <td>0.0009</td>\n",
       "      <td>0.025667</td>\n",
       "      <td>0.001913</td>\n",
       "      <td>0.00911</td>\n",
       "      <td>0.004263</td>\n",
       "      <td>0.015177</td>\n",
       "    </tr>\n",
       "    <tr>\n",
       "      <th>pca</th>\n",
       "      <td>0.018976</td>\n",
       "      <td>0.03452</td>\n",
       "      <td>0.001377</td>\n",
       "      <td>0.001482</td>\n",
       "      <td>0.007093</td>\n",
       "      <td>0.007609</td>\n",
       "      <td>0.003646</td>\n",
       "      <td>0.017872</td>\n",
       "    </tr>\n",
       "    <tr>\n",
       "      <th>gf-6L-30M-i2048</th>\n",
       "      <td>0.028382</td>\n",
       "      <td>0.070036</td>\n",
       "      <td>0.003795</td>\n",
       "      <td>0.016116</td>\n",
       "      <td>0.00142</td>\n",
       "      <td>0.007923</td>\n",
       "      <td>0.002117</td>\n",
       "      <td>0.032418</td>\n",
       "    </tr>\n",
       "    <tr>\n",
       "      <th>gf-6L-30M-i2048_continue</th>\n",
       "      <td>0.022791</td>\n",
       "      <td>0.024389</td>\n",
       "      <td>0.005483</td>\n",
       "      <td>0.010295</td>\n",
       "      <td>0.000901</td>\n",
       "      <td>0.010517</td>\n",
       "      <td>0.003423</td>\n",
       "      <td>0.015174</td>\n",
       "    </tr>\n",
       "  </tbody>\n",
       "</table>\n",
       "</div>"
      ],
      "text/plain": [
       "                            NMI_cluster/label ARI_cluster/label ASW_label  \\\n",
       "model                                                                       \n",
       "Geneformer-V2-104M_continue          0.004502          0.007724  0.003895   \n",
       "Geneformer-V2-104M_CLcancer          0.033129           0.09501  0.000919   \n",
       "hvg                                  0.008983          0.019868  0.000636   \n",
       "scvi_donor_id                        0.013387          0.064733  0.001407   \n",
       "Geneformer-V2-316M                   0.026707          0.061946  0.001508   \n",
       "Geneformer-V2-104M                   0.033848           0.07044  0.002819   \n",
       "scgpt_cancer                         0.021461          0.055752   0.00158   \n",
       "scfoundation                         0.031704          0.075962  0.000937   \n",
       "scgpt                                0.012688          0.024508   0.00599   \n",
       "cellplm                              0.012025          0.015034  0.000839   \n",
       "scimilarity                          0.015737          0.030776    0.0009   \n",
       "pca                                  0.018976           0.03452  0.001377   \n",
       "gf-6L-30M-i2048                      0.028382          0.070036  0.003795   \n",
       "gf-6L-30M-i2048_continue             0.022791          0.024389  0.005483   \n",
       "\n",
       "                            graph_conn ASW_batch ASW_label/batch PCR_batch  \\\n",
       "model                                                                        \n",
       "Geneformer-V2-104M_continue   0.011206  0.003627        0.013863    0.0041   \n",
       "Geneformer-V2-104M_CLcancer    0.01318  0.001869        0.008621  0.003719   \n",
       "hvg                           0.003437  0.001728        0.002268  0.002147   \n",
       "scvi_donor_id                 0.003579  0.000711        0.011621  0.002691   \n",
       "Geneformer-V2-316M            0.027473  0.001636        0.009403  0.003372   \n",
       "Geneformer-V2-104M            0.019316   0.00136        0.009964  0.003127   \n",
       "scgpt_cancer                  0.009054  0.001594        0.007687  0.004552   \n",
       "scfoundation                  0.005535  0.001236        0.010823  0.003262   \n",
       "scgpt                         0.017241  0.001581        0.012625  0.002272   \n",
       "cellplm                       0.001654   0.00091        0.008838   0.00232   \n",
       "scimilarity                   0.025667  0.001913         0.00911  0.004263   \n",
       "pca                           0.001482  0.007093        0.007609  0.003646   \n",
       "gf-6L-30M-i2048               0.016116   0.00142        0.007923  0.002117   \n",
       "gf-6L-30M-i2048_continue      0.010295  0.000901        0.010517  0.003423   \n",
       "\n",
       "                              avg_bio  \n",
       "model                                  \n",
       "Geneformer-V2-104M_continue  0.004272  \n",
       "Geneformer-V2-104M_CLcancer  0.042146  \n",
       "hvg                          0.006704  \n",
       "scvi_donor_id                0.025956  \n",
       "Geneformer-V2-316M           0.029362  \n",
       "Geneformer-V2-104M            0.03461  \n",
       "scgpt_cancer                 0.025245  \n",
       "scfoundation                 0.035731  \n",
       "scgpt                        0.011714  \n",
       "cellplm                       0.00887  \n",
       "scimilarity                  0.015177  \n",
       "pca                          0.017872  \n",
       "gf-6L-30M-i2048              0.032418  \n",
       "gf-6L-30M-i2048_continue     0.015174  "
      ]
     },
     "execution_count": 61,
     "metadata": {},
     "output_type": "execute_result"
    }
   ],
   "source": [
    "ind = results_std_df.index.str.contains('__scvi')\n",
    "results_std_df = results_std_df[~ind]\n",
    "ind = results_std_df.index =='scvi'\n",
    "results_std_df  = results_std_df[~ind]\n",
    "results_std_df\n",
    "\n"
   ]
  },
  {
   "cell_type": "code",
   "execution_count": 62,
   "id": "a7515853-3fdc-4903-ac5c-698194219891",
   "metadata": {
    "tags": []
   },
   "outputs": [],
   "source": [
    "results_std_df.to_csv('./fig2_metrics/metrics_10samples_std.csv')"
   ]
  },
  {
   "cell_type": "code",
   "execution_count": 63,
   "id": "ff96b3ad-31ac-4a11-940a-78df214bdae4",
   "metadata": {
    "tags": []
   },
   "outputs": [],
   "source": [
    "results_mean_df.to_csv('./fig2_metrics/metrics_10samples_mean.csv')"
   ]
  },
  {
   "cell_type": "code",
   "execution_count": null,
   "id": "5f95dd23-9c48-4ff3-94cd-903d21c07274",
   "metadata": {
    "tags": []
   },
   "outputs": [],
   "source": []
  },
  {
   "cell_type": "code",
   "execution_count": 68,
   "id": "d701b067-4248-4de5-805c-c160f92e7498",
   "metadata": {
    "tags": []
   },
   "outputs": [
    {
     "data": {
      "text/html": [
       "<div>\n",
       "<style scoped>\n",
       "    .dataframe tbody tr th:only-of-type {\n",
       "        vertical-align: middle;\n",
       "    }\n",
       "\n",
       "    .dataframe tbody tr th {\n",
       "        vertical-align: top;\n",
       "    }\n",
       "\n",
       "    .dataframe thead th {\n",
       "        text-align: right;\n",
       "    }\n",
       "</style>\n",
       "<table border=\"1\" class=\"dataframe\">\n",
       "  <thead>\n",
       "    <tr style=\"text-align: right;\">\n",
       "      <th></th>\n",
       "      <th>NMI_cluster/label</th>\n",
       "      <th>ARI_cluster/label</th>\n",
       "      <th>ASW_label</th>\n",
       "      <th>graph_conn</th>\n",
       "      <th>ASW_batch</th>\n",
       "      <th>ASW_label/batch</th>\n",
       "      <th>PCR_batch</th>\n",
       "      <th>avg_bio</th>\n",
       "      <th>method</th>\n",
       "    </tr>\n",
       "  </thead>\n",
       "  <tbody>\n",
       "    <tr>\n",
       "      <th>0</th>\n",
       "      <td>0.129519</td>\n",
       "      <td>0.097692</td>\n",
       "      <td>0.450335</td>\n",
       "      <td>0.650714</td>\n",
       "      <td>0.419690</td>\n",
       "      <td>0.722900</td>\n",
       "      <td>0.027858</td>\n",
       "      <td>0.225849</td>\n",
       "      <td>Geneformer-V2-104M_continue</td>\n",
       "    </tr>\n",
       "    <tr>\n",
       "      <th>1</th>\n",
       "      <td>0.135984</td>\n",
       "      <td>0.102432</td>\n",
       "      <td>0.448726</td>\n",
       "      <td>0.664223</td>\n",
       "      <td>0.416998</td>\n",
       "      <td>0.747465</td>\n",
       "      <td>0.033049</td>\n",
       "      <td>0.229047</td>\n",
       "      <td>Geneformer-V2-104M_continue</td>\n",
       "    </tr>\n",
       "    <tr>\n",
       "      <th>2</th>\n",
       "      <td>0.130433</td>\n",
       "      <td>0.087637</td>\n",
       "      <td>0.452150</td>\n",
       "      <td>0.644008</td>\n",
       "      <td>0.414649</td>\n",
       "      <td>0.759104</td>\n",
       "      <td>0.031897</td>\n",
       "      <td>0.223407</td>\n",
       "      <td>Geneformer-V2-104M_continue</td>\n",
       "    </tr>\n",
       "    <tr>\n",
       "      <th>3</th>\n",
       "      <td>0.127309</td>\n",
       "      <td>0.093911</td>\n",
       "      <td>0.446396</td>\n",
       "      <td>0.644266</td>\n",
       "      <td>0.419008</td>\n",
       "      <td>0.739000</td>\n",
       "      <td>0.024874</td>\n",
       "      <td>0.222539</td>\n",
       "      <td>Geneformer-V2-104M_continue</td>\n",
       "    </tr>\n",
       "    <tr>\n",
       "      <th>4</th>\n",
       "      <td>0.134912</td>\n",
       "      <td>0.098717</td>\n",
       "      <td>0.449302</td>\n",
       "      <td>0.645478</td>\n",
       "      <td>0.412620</td>\n",
       "      <td>0.737268</td>\n",
       "      <td>0.025222</td>\n",
       "      <td>0.227644</td>\n",
       "      <td>Geneformer-V2-104M_continue</td>\n",
       "    </tr>\n",
       "  </tbody>\n",
       "</table>\n",
       "</div>"
      ],
      "text/plain": [
       "   NMI_cluster/label  ARI_cluster/label  ASW_label  graph_conn  ASW_batch  \\\n",
       "0           0.129519           0.097692   0.450335    0.650714   0.419690   \n",
       "1           0.135984           0.102432   0.448726    0.664223   0.416998   \n",
       "2           0.130433           0.087637   0.452150    0.644008   0.414649   \n",
       "3           0.127309           0.093911   0.446396    0.644266   0.419008   \n",
       "4           0.134912           0.098717   0.449302    0.645478   0.412620   \n",
       "\n",
       "   ASW_label/batch  PCR_batch   avg_bio                       method  \n",
       "0         0.722900   0.027858  0.225849  Geneformer-V2-104M_continue  \n",
       "1         0.747465   0.033049  0.229047  Geneformer-V2-104M_continue  \n",
       "2         0.759104   0.031897  0.223407  Geneformer-V2-104M_continue  \n",
       "3         0.739000   0.024874  0.222539  Geneformer-V2-104M_continue  \n",
       "4         0.737268   0.025222  0.227644  Geneformer-V2-104M_continue  "
      ]
     },
     "execution_count": 68,
     "metadata": {},
     "output_type": "execute_result"
    }
   ],
   "source": [
    "# Convert to DataFrame with method as additional column\n",
    "df_list = []\n",
    "for method, records in all_results.items():\n",
    "    df = pd.DataFrame(records)\n",
    "    df[\"method\"] = method\n",
    "    df_list.append(df)\n",
    "\n",
    "result_df = pd.concat(df_list, ignore_index=True)\n",
    "result_df.head()"
   ]
  },
  {
   "cell_type": "code",
   "execution_count": 69,
   "id": "b282a60b-64c3-490e-b7c1-32549db5d43a",
   "metadata": {
    "tags": []
   },
   "outputs": [
    {
     "data": {
      "text/html": [
       "<div>\n",
       "<style scoped>\n",
       "    .dataframe tbody tr th:only-of-type {\n",
       "        vertical-align: middle;\n",
       "    }\n",
       "\n",
       "    .dataframe tbody tr th {\n",
       "        vertical-align: top;\n",
       "    }\n",
       "\n",
       "    .dataframe thead th {\n",
       "        text-align: right;\n",
       "    }\n",
       "</style>\n",
       "<table border=\"1\" class=\"dataframe\">\n",
       "  <thead>\n",
       "    <tr style=\"text-align: right;\">\n",
       "      <th></th>\n",
       "      <th>NMI_cluster/label</th>\n",
       "      <th>ARI_cluster/label</th>\n",
       "      <th>ASW_label</th>\n",
       "      <th>graph_conn</th>\n",
       "      <th>ASW_batch</th>\n",
       "      <th>ASW_label/batch</th>\n",
       "      <th>PCR_batch</th>\n",
       "      <th>avg_bio</th>\n",
       "      <th>method</th>\n",
       "    </tr>\n",
       "  </thead>\n",
       "  <tbody>\n",
       "    <tr>\n",
       "      <th>0</th>\n",
       "      <td>0.129519</td>\n",
       "      <td>0.097692</td>\n",
       "      <td>0.450335</td>\n",
       "      <td>0.650714</td>\n",
       "      <td>0.419690</td>\n",
       "      <td>0.722900</td>\n",
       "      <td>0.027858</td>\n",
       "      <td>0.225849</td>\n",
       "      <td>Geneformer-V2-104M_continue</td>\n",
       "    </tr>\n",
       "    <tr>\n",
       "      <th>1</th>\n",
       "      <td>0.135984</td>\n",
       "      <td>0.102432</td>\n",
       "      <td>0.448726</td>\n",
       "      <td>0.664223</td>\n",
       "      <td>0.416998</td>\n",
       "      <td>0.747465</td>\n",
       "      <td>0.033049</td>\n",
       "      <td>0.229047</td>\n",
       "      <td>Geneformer-V2-104M_continue</td>\n",
       "    </tr>\n",
       "    <tr>\n",
       "      <th>2</th>\n",
       "      <td>0.130433</td>\n",
       "      <td>0.087637</td>\n",
       "      <td>0.452150</td>\n",
       "      <td>0.644008</td>\n",
       "      <td>0.414649</td>\n",
       "      <td>0.759104</td>\n",
       "      <td>0.031897</td>\n",
       "      <td>0.223407</td>\n",
       "      <td>Geneformer-V2-104M_continue</td>\n",
       "    </tr>\n",
       "    <tr>\n",
       "      <th>3</th>\n",
       "      <td>0.127309</td>\n",
       "      <td>0.093911</td>\n",
       "      <td>0.446396</td>\n",
       "      <td>0.644266</td>\n",
       "      <td>0.419008</td>\n",
       "      <td>0.739000</td>\n",
       "      <td>0.024874</td>\n",
       "      <td>0.222539</td>\n",
       "      <td>Geneformer-V2-104M_continue</td>\n",
       "    </tr>\n",
       "    <tr>\n",
       "      <th>4</th>\n",
       "      <td>0.134912</td>\n",
       "      <td>0.098717</td>\n",
       "      <td>0.449302</td>\n",
       "      <td>0.645478</td>\n",
       "      <td>0.412620</td>\n",
       "      <td>0.737268</td>\n",
       "      <td>0.025222</td>\n",
       "      <td>0.227644</td>\n",
       "      <td>Geneformer-V2-104M_continue</td>\n",
       "    </tr>\n",
       "    <tr>\n",
       "      <th>...</th>\n",
       "      <td>...</td>\n",
       "      <td>...</td>\n",
       "      <td>...</td>\n",
       "      <td>...</td>\n",
       "      <td>...</td>\n",
       "      <td>...</td>\n",
       "      <td>...</td>\n",
       "      <td>...</td>\n",
       "      <td>...</td>\n",
       "    </tr>\n",
       "    <tr>\n",
       "      <th>155</th>\n",
       "      <td>0.710987</td>\n",
       "      <td>0.663331</td>\n",
       "      <td>0.499808</td>\n",
       "      <td>0.973431</td>\n",
       "      <td>0.471967</td>\n",
       "      <td>0.870298</td>\n",
       "      <td>0.147988</td>\n",
       "      <td>0.624709</td>\n",
       "      <td>gf-6L-30M-i2048_continue</td>\n",
       "    </tr>\n",
       "    <tr>\n",
       "      <th>156</th>\n",
       "      <td>0.757802</td>\n",
       "      <td>0.706097</td>\n",
       "      <td>0.504240</td>\n",
       "      <td>0.967576</td>\n",
       "      <td>0.470649</td>\n",
       "      <td>0.884298</td>\n",
       "      <td>0.150742</td>\n",
       "      <td>0.656046</td>\n",
       "      <td>gf-6L-30M-i2048_continue</td>\n",
       "    </tr>\n",
       "    <tr>\n",
       "      <th>157</th>\n",
       "      <td>0.723683</td>\n",
       "      <td>0.674200</td>\n",
       "      <td>0.516433</td>\n",
       "      <td>0.964077</td>\n",
       "      <td>0.470683</td>\n",
       "      <td>0.877303</td>\n",
       "      <td>0.156095</td>\n",
       "      <td>0.638105</td>\n",
       "      <td>gf-6L-30M-i2048_continue</td>\n",
       "    </tr>\n",
       "    <tr>\n",
       "      <th>158</th>\n",
       "      <td>0.753129</td>\n",
       "      <td>0.699900</td>\n",
       "      <td>0.502409</td>\n",
       "      <td>0.977541</td>\n",
       "      <td>0.472319</td>\n",
       "      <td>0.872507</td>\n",
       "      <td>0.145492</td>\n",
       "      <td>0.651813</td>\n",
       "      <td>gf-6L-30M-i2048_continue</td>\n",
       "    </tr>\n",
       "    <tr>\n",
       "      <th>159</th>\n",
       "      <td>0.683641</td>\n",
       "      <td>0.627488</td>\n",
       "      <td>0.511448</td>\n",
       "      <td>0.986761</td>\n",
       "      <td>0.473484</td>\n",
       "      <td>0.868713</td>\n",
       "      <td>0.150705</td>\n",
       "      <td>0.607526</td>\n",
       "      <td>gf-6L-30M-i2048_continue</td>\n",
       "    </tr>\n",
       "  </tbody>\n",
       "</table>\n",
       "<p>140 rows × 9 columns</p>\n",
       "</div>"
      ],
      "text/plain": [
       "     NMI_cluster/label  ARI_cluster/label  ASW_label  graph_conn  ASW_batch  \\\n",
       "0             0.129519           0.097692   0.450335    0.650714   0.419690   \n",
       "1             0.135984           0.102432   0.448726    0.664223   0.416998   \n",
       "2             0.130433           0.087637   0.452150    0.644008   0.414649   \n",
       "3             0.127309           0.093911   0.446396    0.644266   0.419008   \n",
       "4             0.134912           0.098717   0.449302    0.645478   0.412620   \n",
       "..                 ...                ...        ...         ...        ...   \n",
       "155           0.710987           0.663331   0.499808    0.973431   0.471967   \n",
       "156           0.757802           0.706097   0.504240    0.967576   0.470649   \n",
       "157           0.723683           0.674200   0.516433    0.964077   0.470683   \n",
       "158           0.753129           0.699900   0.502409    0.977541   0.472319   \n",
       "159           0.683641           0.627488   0.511448    0.986761   0.473484   \n",
       "\n",
       "     ASW_label/batch  PCR_batch   avg_bio                       method  \n",
       "0           0.722900   0.027858  0.225849  Geneformer-V2-104M_continue  \n",
       "1           0.747465   0.033049  0.229047  Geneformer-V2-104M_continue  \n",
       "2           0.759104   0.031897  0.223407  Geneformer-V2-104M_continue  \n",
       "3           0.739000   0.024874  0.222539  Geneformer-V2-104M_continue  \n",
       "4           0.737268   0.025222  0.227644  Geneformer-V2-104M_continue  \n",
       "..               ...        ...       ...                          ...  \n",
       "155         0.870298   0.147988  0.624709     gf-6L-30M-i2048_continue  \n",
       "156         0.884298   0.150742  0.656046     gf-6L-30M-i2048_continue  \n",
       "157         0.877303   0.156095  0.638105     gf-6L-30M-i2048_continue  \n",
       "158         0.872507   0.145492  0.651813     gf-6L-30M-i2048_continue  \n",
       "159         0.868713   0.150705  0.607526     gf-6L-30M-i2048_continue  \n",
       "\n",
       "[140 rows x 9 columns]"
      ]
     },
     "execution_count": 69,
     "metadata": {},
     "output_type": "execute_result"
    }
   ],
   "source": [
    "ind = result_df.method.str.contains('__scvi')\n",
    "result_df = result_df[~ind]\n",
    "ind = result_df.method =='scvi'\n",
    "result_df  = result_df[~ind]\n",
    "result_df\n",
    "\n"
   ]
  },
  {
   "cell_type": "code",
   "execution_count": 70,
   "id": "18074e2b-eed2-44f3-9316-2cce78335caf",
   "metadata": {
    "tags": []
   },
   "outputs": [],
   "source": [
    "def map_groups(exp):\n",
    "\n",
    "    if 'gf' in exp:\n",
    "        return 'geneformer'\n",
    "    elif 'Geneformer' in exp:\n",
    "        return 'geneformer'\n",
    "    elif 'scfoundation' in exp:\n",
    "        return 'scFoundation'\n",
    "    elif 'scimiarity' in exp:\n",
    "        return 'SCimilarity'\n",
    "    elif 'scgpt' in exp:\n",
    "        return 'scgpt'\n",
    "    elif any(x in exp for x in ['hvg', 'pca', 'scvi']):\n",
    "        return 'baseline'\n",
    "    else:\n",
    "        return 'other'  # optional fallback"
   ]
  },
  {
   "cell_type": "code",
   "execution_count": 71,
   "id": "9784e473-7271-4982-9048-4526726d9513",
   "metadata": {
    "tags": []
   },
   "outputs": [],
   "source": [
    "result_df['group'] = result_df['method'].map(map_groups)\n",
    "result_df.set_index('method', inplace=True)\n",
    "result_df.to_csv('./fig2_metrics/metrics_10_runs.csv')"
   ]
  },
  {
   "cell_type": "code",
   "execution_count": null,
   "id": "f325214b-f45a-43d6-bdcb-35e0f459e896",
   "metadata": {
    "tags": []
   },
   "outputs": [],
   "source": []
  },
  {
   "cell_type": "code",
   "execution_count": null,
   "id": "cc0f1dd8-dce5-4e6b-96da-f88e9b0b9da6",
   "metadata": {
    "tags": []
   },
   "outputs": [],
   "source": []
  },
  {
   "cell_type": "code",
   "execution_count": 50,
   "id": "ca52aa9d-e865-40cc-8db2-6fad9f230ef3",
   "metadata": {
    "tags": []
   },
   "outputs": [],
   "source": [
    "# combined_results['group'] = combined_results['method'].map(map_groups)\n",
    "# combined_results.set_index('method', inplace=True)\n",
    "# combined_results.to_csv('./metrics/metrics_10_runs.csv')"
   ]
  },
  {
   "cell_type": "code",
   "execution_count": null,
   "id": "6ae5aa5d-c7bd-455c-8f9f-a4f2ffcf7163",
   "metadata": {},
   "outputs": [],
   "source": []
  }
 ],
 "metadata": {
  "environment": {
   "kernel": "scfoundation",
   "name": "pytorch-gpu.2-2.m128",
   "type": "gcloud",
   "uri": "us-docker.pkg.dev/deeplearning-platform-release/gcr.io/pytorch-gpu.2-2:m128"
  },
  "kernelspec": {
   "display_name": "Python (scfoundation )",
   "language": "python",
   "name": "scfoundation"
  },
  "language_info": {
   "codemirror_mode": {
    "name": "ipython",
    "version": 3
   },
   "file_extension": ".py",
   "mimetype": "text/x-python",
   "name": "python",
   "nbconvert_exporter": "python",
   "pygments_lexer": "ipython3",
   "version": "3.10.18"
  }
 },
 "nbformat": 4,
 "nbformat_minor": 5
}
