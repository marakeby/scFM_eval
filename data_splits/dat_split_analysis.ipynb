{
 "cells": [
  {
   "cell_type": "code",
   "execution_count": 1,
   "id": "8790f818-8f10-4c29-be44-ac54ac6d3735",
   "metadata": {
    "tags": []
   },
   "outputs": [],
   "source": [
    "import json\n",
    "import os"
   ]
  },
  {
   "cell_type": "code",
   "execution_count": 2,
   "id": "de2f03be-7f1f-4358-9c2d-1b6a366d4890",
   "metadata": {
    "tags": []
   },
   "outputs": [],
   "source": [
    "BASE_PATH = '/home/jupyter'\n",
    "fname = os.path.join(BASE_PATH, 'scFM_eval/data_splits/brca_full/brca_chemo/cv_splits.json')\n",
    "cv_split_dict = json.load(open(fname)) #train_ids, test_ids, train_labels, test_labels, id_column"
   ]
  },
  {
   "cell_type": "code",
   "execution_count": 3,
   "id": "b07f55f2-5f2f-48cf-832c-dee5fb827c56",
   "metadata": {
    "tags": []
   },
   "outputs": [],
   "source": [
    "cv_split_dict\n",
    "n_splits = cv_split_dict['n_splits']"
   ]
  },
  {
   "cell_type": "code",
   "execution_count": 6,
   "id": "00f7ac51-0ad5-41cb-8191-1e5ab41c855f",
   "metadata": {
    "tags": []
   },
   "outputs": [
    {
     "name": "stdout",
     "output_type": "stream",
     "text": [
      "8 31\n",
      "8 31\n",
      "8 31\n",
      "8 31\n",
      "7 32\n"
     ]
    }
   ],
   "source": [
    "for i in range(n_splits):\n",
    "    # print(i+1)\n",
    "    train_ids = cv_split_dict[f'fold_{i+1}']['train_ids']\n",
    "    test_ids = cv_split_dict[f'fold_{i+1}']['test_ids']\n",
    "    print(len(test_ids), len(train_ids))\n",
    "    # print(len(train_ids))"
   ]
  },
  {
   "cell_type": "code",
   "execution_count": null,
   "id": "39564e98-7c3f-4542-a368-b0237b0b636f",
   "metadata": {},
   "outputs": [],
   "source": []
  }
 ],
 "metadata": {
  "environment": {
   "kernel": "scfoundation",
   "name": "pytorch-gpu.2-2.m128",
   "type": "gcloud",
   "uri": "us-docker.pkg.dev/deeplearning-platform-release/gcr.io/pytorch-gpu.2-2:m128"
  },
  "kernelspec": {
   "display_name": "Python (scfoundation )",
   "language": "python",
   "name": "scfoundation"
  },
  "language_info": {
   "codemirror_mode": {
    "name": "ipython",
    "version": 3
   },
   "file_extension": ".py",
   "mimetype": "text/x-python",
   "name": "python",
   "nbconvert_exporter": "python",
   "pygments_lexer": "ipython3",
   "version": "3.10.18"
  }
 },
 "nbformat": 4,
 "nbformat_minor": 5
}
