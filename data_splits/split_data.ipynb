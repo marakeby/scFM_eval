{
 "cells": [
  {
   "cell_type": "code",
   "execution_count": 1,
   "id": "1025c4e0-cab8-42e8-bf59-bfc594b3a671",
   "metadata": {
    "tags": []
   },
   "outputs": [],
   "source": [
    "import os\n",
    "os.environ[\"SCIPY_ARRAY_API\"] = \"1\""
   ]
  },
  {
   "cell_type": "code",
   "execution_count": 2,
   "id": "4fb670ff-de4d-4705-9ff3-9e2d891cd32b",
   "metadata": {
    "tags": []
   },
   "outputs": [],
   "source": [
    "\n",
    "from imblearn.over_sampling import RandomOverSampler\n"
   ]
  },
  {
   "cell_type": "code",
   "execution_count": 3,
   "id": "bc28adb4-6a68-408b-997a-b58706186fe9",
   "metadata": {
    "tags": []
   },
   "outputs": [],
   "source": [
    "import anndata as ad\n",
    "import pandas as pd\n",
    "import numpy as np\n",
    "from os.path import join\n",
    "import os\n",
    "from sklearn.model_selection import train_test_split\n",
    "# from imblearn.over_sampling import RandomOverSampler\n",
    "from sklearn.model_selection import StratifiedKFold, KFold\n",
    "\n",
    "import random\n",
    "import json"
   ]
  },
  {
   "cell_type": "code",
   "execution_count": 4,
   "id": "12ea7dd3-c18c-48c7-84fa-6bf789e4c260",
   "metadata": {
    "tags": []
   },
   "outputs": [
    {
     "data": {
      "text/plain": [
       "\"\\nPre vs post\\n        no filter\\n\\nCancer type\\n\\tAnalyze pre only\\n\\tRestrict to ER+ vs TNBC\\n\\t\\nOutcome:\\n\\tAnalyze pre only\\n\\tRestrict to ['NE', 'E']\\n\\tOversample minority class\\n\\t\\n\\t\\nChemo: \\n    no filter\\n\\tAnalyze pre only\\n    \\nSplit by patient \\n\\nCell type:\\n\\tAnalyze pre only\\n\\tSplit by patient \\n\\n\\n\""
      ]
     },
     "execution_count": 4,
     "metadata": {},
     "output_type": "execute_result"
    }
   ],
   "source": [
    "'''\n",
    "Pre vs post\n",
    "        no filter\n",
    "\n",
    "Cancer type\n",
    "\tAnalyze pre only\n",
    "\tRestrict to ER+ vs TNBC\n",
    "\t\n",
    "Outcome:\n",
    "\tAnalyze pre only\n",
    "\tRestrict to ['NE', 'E']\n",
    "\tOversample minority class\n",
    "\t\n",
    "\t\n",
    "Chemo: \n",
    "    no filter\n",
    "\tAnalyze pre only\n",
    "    \n",
    "Split by patient \n",
    "\n",
    "Cell type:\n",
    "\tAnalyze pre only\n",
    "\tSplit by patient \n",
    "\n",
    "\n",
    "'''"
   ]
  },
  {
   "cell_type": "code",
   "execution_count": null,
   "id": "894a0b2e-4cdb-49fc-93f3-9f525a3e9d40",
   "metadata": {},
   "outputs": [],
   "source": []
  },
  {
   "cell_type": "code",
   "execution_count": 4,
   "id": "804bab19-1c42-45ba-80d0-167fd3c5d3ee",
   "metadata": {
    "tags": []
   },
   "outputs": [],
   "source": [
    "def read_data(DATA_FILE):\n",
    "    fname = DATA_FILE\n",
    "    adata = ad.read_h5ad(fname)\n",
    "    return adata"
   ]
  },
  {
   "cell_type": "code",
   "execution_count": 5,
   "id": "02190464",
   "metadata": {
    "tags": []
   },
   "outputs": [],
   "source": [
    "\n",
    "def get_patient_info(adata, patient_key, label_key):\n",
    "    patient_labels = adata.obs.groupby(patient_key)[label_key].first()\n",
    "    sample_counts = adata.obs[patient_key].value_counts()\n",
    "    \n",
    "    patient_info = patient_labels.to_frame().join(sample_counts)\n",
    "    patient_ids = patient_info.index.values\n",
    "    ids = patient_info.index.values\n",
    "    labels = patient_info[label_key]\n",
    "    counts= patient_info['count'].values\n",
    "    return ids, labels, counts\n",
    "\n",
    "\n",
    "def oversample_data(train_ids, y_train, random_state):\n",
    "    # Convert train_ids to array if it's not\n",
    "    train_ids = np.array(train_ids).reshape(-1, 1)  # Reshape for oversampling\n",
    "\n",
    "    # Apply random oversampling to balance the classes\n",
    "    ros = RandomOverSampler(random_state=random_state)\n",
    "    train_ids_oversampled, y_train_oversampled = ros.fit_resample(train_ids, y_train)\n",
    "\n",
    "    # Flatten the train_ids back to 1D if needed\n",
    "    train_ids_oversampled = train_ids_oversampled.ravel()\n",
    "    return train_ids_oversampled, y_train_oversampled\n",
    "\n",
    "def has_class_imbalance(y, threshold):\n",
    "    counts = list(Counter(y).values())\n",
    "    return min(counts) / max(counts) < threshold\n",
    "\n",
    "def save_cv_splits(patient_ids,labels, save_dir, n_splits=5, random_state=42, imbalance_threshold=0.8):\n",
    "\n",
    "    \n",
    "    # Create directory for CV splits\n",
    "    # cv_save_dir = os.path.join(save_dir, 'cv_splits')\n",
    "    os.makedirs(save_dir, exist_ok=True)\n",
    "    \n",
    "    # Initialize splitter\n",
    "    splitter = StratifiedKFold(n_splits=n_splits, shuffle=True, random_state=random_state)\n",
    "    \n",
    "    # Dictionary to store all splits\n",
    "    cv_splits = {}    \n",
    "    cv_splits_oversampled = {}\n",
    "\n",
    "    # Generate and save splits\n",
    "    for i, (train_idx, test_idx) in enumerate(splitter.split(patient_ids, labels)):\n",
    "        print(f\"=== Fold {i + 1}/{n_splits} ===\")\n",
    "        train_ids = patient_ids[train_idx]\n",
    "        test_ids = patient_ids[test_idx]\n",
    "        y_train = labels.iloc[train_idx]\n",
    "        y_test = labels.iloc[test_idx]\n",
    "\n",
    "        \n",
    "        train_ids_oversampled, y_train_oversampled = oversample_data(train_ids, y_train, random_state)\n",
    "\n",
    "\n",
    "        # Store the splits for this fold\n",
    "        cv_splits[f'fold_{i+1}'] = {\n",
    "            'train_ids': train_ids.tolist(),\n",
    "            'test_ids': test_ids.tolist(),\n",
    "            'train_labels': y_train.tolist(),\n",
    "            'test_labels': y_test.tolist()\n",
    "        }\n",
    "\n",
    "        cv_splits_oversampled[f'fold_{i+1}'] = {\n",
    "        'train_ids': train_ids_oversampled.tolist(),\n",
    "        'test_ids': test_ids.tolist(),\n",
    "        'train_labels': y_train_oversampled.tolist(),\n",
    "        'test_labels': y_test.tolist()\n",
    "        }\n",
    "        \n",
    "        # Save individual fold data\n",
    "        fold_data = {\n",
    "            'train_ids': train_ids.tolist(),\n",
    "            'test_ids': test_ids.tolist(),\n",
    "            'train_labels': labels.iloc[train_idx].tolist(),\n",
    "            'test_labels': labels.iloc[test_idx].tolist()\n",
    "        }\n",
    "        \n",
    "        # Save this fold's data\n",
    "        with open(os.path.join(save_dir, f'fold_{i+1}.json'), 'w') as f:\n",
    "            json.dump(fold_data, f)\n",
    "    \n",
    "    cv_splits['id_column'] = patient_key\n",
    "    cv_splits['label_column'] = label_key\n",
    "    cv_splits['random_state'] = random_state\n",
    "    cv_splits['n_splits'] = n_splits\n",
    "\n",
    "    cv_splits_oversampled['id_column'] = patient_key\n",
    "    cv_splits_oversampled['label_column'] = label_key\n",
    "    cv_splits_oversampled['random_state'] = random_state\n",
    "    cv_splits_oversampled['n_splits'] = n_splits\n",
    "\n",
    "    # Save all splits in one file\n",
    "    with open(os.path.join(save_dir, 'cv_splits.json'), 'w') as f:\n",
    "        json.dump(cv_splits, f)\n",
    "\n",
    "    with open(os.path.join(save_dir, 'cv_splits_oversampled.json'), 'w') as f:\n",
    "        json.dump(cv_splits_oversampled, f)\n",
    "    \n",
    "\n",
    "    print(f\"Cross-validation splits saved to {save_dir}\")\n",
    "    return save_dir\n",
    "\n",
    "\n",
    "def safe_stratified_split(patient_ids, counts, labels, test_size=0.3, random_state=42, max_tries=100):\n",
    "    for attempt in range(max_tries):\n",
    "        train_ids, test_ids, train_counts, test_counts, y_train, y_test = train_test_split(\n",
    "            patient_ids,\n",
    "            counts,\n",
    "            labels,\n",
    "            test_size=test_size,\n",
    "            random_state=random_state + attempt,  # to vary the seed\n",
    "            stratify=labels\n",
    "        )\n",
    "        if len(np.unique(y_train)) > 1 and len(np.unique(y_test)) > 1:\n",
    "            return train_ids, test_ids, train_counts, test_counts, y_train, y_test\n",
    "    raise ValueError(\"Could not generate a valid stratified split with at least 2 classes per split after multiple attempts.\")\n",
    "\n",
    "    \n",
    "import os\n",
    "import json\n",
    "import pandas as pd\n",
    "from collections import Counter\n",
    "\n",
    "def save_train_test_split(patient_ids, labels, counts, save_dir, test_size=0.33, random_state=42, max_tries=10, imbalance_threshold=0.8):\n",
    "    os.makedirs(save_dir, exist_ok=True)\n",
    "\n",
    "    # Stratified split\n",
    "    train_ids, test_ids, train_counts, test_counts, y_train, y_test = safe_stratified_split(\n",
    "        patient_ids, counts, labels, test_size=test_size, random_state=random_state, max_tries=max_tries\n",
    "    )\n",
    "\n",
    "    def has_class_imbalance(y, threshold):\n",
    "        counts = list(Counter(y).values())\n",
    "        return min(counts) / max(counts) < threshold\n",
    "\n",
    "\n",
    "    def save_df(data, filename):\n",
    "        df = pd.DataFrame(data)\n",
    "        df.to_csv(os.path.join(save_dir, filename), index=False)\n",
    "\n",
    "    save_df({'patient_id': train_ids.ravel(), 'label': y_train, 'cell_count': train_counts}, 'train.csv')\n",
    "    save_df({'patient_id': test_ids.ravel(), 'label': y_test, 'cell_count': test_counts}, 'test.csv')\n",
    "\n",
    "    \n",
    "\n",
    "    # Helper to build metadata\n",
    "    def build_metadata(train_ids, y_train, oversampled):\n",
    "        return {\n",
    "            'train_test_split': {\n",
    "                'train_ids': train_ids.tolist(),\n",
    "                'test_ids': test_ids.tolist(),\n",
    "                'train_labels': y_train.tolist(),\n",
    "                'test_labels': y_test.tolist()\n",
    "            },\n",
    "            'id_column': patient_key,\n",
    "            'label_column': label_key,\n",
    "            'random_state': random_state,\n",
    "            'test_size': test_size,\n",
    "            'oversampled': oversampled\n",
    "        }\n",
    "\n",
    "    # Save original split\n",
    "    with open(os.path.join(save_dir, 'train_test_split.json'), 'w') as f:\n",
    "        json.dump(build_metadata(train_ids, y_train, oversampled=False), f)\n",
    "\n",
    "    perform_oversampling = has_class_imbalance(y_train, imbalance_threshold)\n",
    "\n",
    "    # Save oversampled metadata only if used\n",
    "    if perform_oversampling:\n",
    "        train_ids_oversampled, y_train_oversampled = oversample_data(train_ids, y_train, random_state)\n",
    "        save_df({'patient_id': train_ids_oversampled.ravel(), 'label': y_train_oversampled}, 'train_oversampled.csv')\n",
    "        with open(os.path.join(save_dir, 'train_test_split_oversampled.json'), 'w') as f:\n",
    "            json.dump(build_metadata(train_ids_oversampled, y_train_oversampled, oversampled=True), f)\n",
    "\n",
    "    print(f\"Train-test split saved to {save_dir}\")\n",
    "    return save_dir\n"
   ]
  },
  {
   "cell_type": "markdown",
   "id": "4ae056cd-2c7b-4a0f-bc6f-cb86785a1db9",
   "metadata": {},
   "source": [
    "## chemo vs treatment naive\n"
   ]
  },
  {
   "cell_type": "code",
   "execution_count": 18,
   "id": "263fcc9d-2601-47b0-bb04-79593cc9d4b0",
   "metadata": {
    "tags": []
   },
   "outputs": [],
   "source": [
    "DATA_FILE = '/home/jupyter/DATA/brca_full/cancer_cells_only.h5ad'\n",
    "save_dir ='/home/jupyter/sceval/data_splits/brca_full/brca_chemo'\n",
    "\n",
    "patient_key = 'donor_id'\n",
    "\n",
    "\n",
    "test_size = 0.33\n",
    "random_state = 42\n",
    "# test_size = 0.4\n",
    "max_tries = 10\n",
    "n_splits = 5\n",
    "os.makedirs(save_dir, exist_ok=True)"
   ]
  },
  {
   "cell_type": "code",
   "execution_count": 23,
   "id": "3febfce5-d058-4226-a42a-fc4cb3d66848",
   "metadata": {
    "tags": []
   },
   "outputs": [],
   "source": [
    "label_key = 'cohort'"
   ]
  },
  {
   "cell_type": "code",
   "execution_count": 19,
   "id": "a9f11ad6-024c-4582-9ba9-932e1017e7c1",
   "metadata": {
    "tags": []
   },
   "outputs": [],
   "source": [
    "adata_chemo = read_data(DATA_FILE)\n"
   ]
  },
  {
   "cell_type": "code",
   "execution_count": 20,
   "id": "3490573d-c4c5-4b80-ab8b-1aad5f7ccf49",
   "metadata": {
    "tags": []
   },
   "outputs": [
    {
     "data": {
      "text/plain": [
       "cohort\n",
       "treatment_naive      29613\n",
       "neoadjuvant_chemo     5079\n",
       "Name: count, dtype: int64"
      ]
     },
     "execution_count": 20,
     "metadata": {},
     "output_type": "execute_result"
    }
   ],
   "source": [
    "adata_chemo.obs.cohort.value_counts()"
   ]
  },
  {
   "cell_type": "code",
   "execution_count": null,
   "id": "0e943d3e-8e6e-449e-99e6-8ce7394e0cb2",
   "metadata": {},
   "outputs": [],
   "source": []
  },
  {
   "cell_type": "code",
   "execution_count": 21,
   "id": "0975664c-4043-454b-b70a-dc166ff137e6",
   "metadata": {
    "tags": []
   },
   "outputs": [],
   "source": [
    "adata_chemo = adata_chemo[adata_chemo.obs['timepoint']=='Pre']"
   ]
  },
  {
   "cell_type": "code",
   "execution_count": 21,
   "id": "2d270bbe-f8ba-4159-ab86-1eec108a4450",
   "metadata": {
    "tags": []
   },
   "outputs": [],
   "source": []
  },
  {
   "cell_type": "code",
   "execution_count": 25,
   "id": "be595c57-8564-4d92-8b2c-5bb1e9907aa7",
   "metadata": {
    "tags": []
   },
   "outputs": [
    {
     "name": "stderr",
     "output_type": "stream",
     "text": [
      "/var/tmp/ipykernel_1946339/1579208951.py:2: FutureWarning: The default of observed=False is deprecated and will be changed to True in a future version of pandas. Pass observed=False to retain current behavior or observed=True to adopt the future default and silence this warning.\n",
      "  patient_labels = adata.obs.groupby(patient_key)[label_key].first()\n"
     ]
    }
   ],
   "source": [
    "patient_ids, labels, counts = get_patient_info(adata_chemo, patient_key, label_key)"
   ]
  },
  {
   "cell_type": "code",
   "execution_count": 26,
   "id": "b80e7c99-8b07-467e-a5d0-dfda89026071",
   "metadata": {
    "tags": []
   },
   "outputs": [
    {
     "data": {
      "text/plain": [
       "['BIOKEY_1', 'BIOKEY_2', 'BIOKEY_3', 'BIOKEY_4', 'BIOKEY_5', ..., 'BIOKEY_38', 'BIOKEY_39', 'BIOKEY_40', 'BIOKEY_41', 'BIOKEY_42']\n",
       "Length: 39\n",
       "Categories (39, object): ['BIOKEY_1', 'BIOKEY_2', 'BIOKEY_3', 'BIOKEY_4', ..., 'BIOKEY_39', 'BIOKEY_40', 'BIOKEY_41', 'BIOKEY_42']"
      ]
     },
     "execution_count": 26,
     "metadata": {},
     "output_type": "execute_result"
    }
   ],
   "source": [
    "patient_ids"
   ]
  },
  {
   "cell_type": "code",
   "execution_count": 27,
   "id": "12ac03ac-317e-4d1a-b107-3585269d44b8",
   "metadata": {
    "tags": []
   },
   "outputs": [
    {
     "name": "stdout",
     "output_type": "stream",
     "text": [
      "cohort\n",
      "treatment_naive      31\n",
      "neoadjuvant_chemo     8\n",
      "Name: count, dtype: int64\n"
     ]
    }
   ],
   "source": [
    "print(labels.value_counts())"
   ]
  },
  {
   "cell_type": "code",
   "execution_count": 28,
   "id": "0c905819-8c50-4bf4-8011-292f5eec1531",
   "metadata": {
    "tags": []
   },
   "outputs": [
    {
     "data": {
      "text/plain": [
       "'/home/jupyter/sceval/data_splits/brca_full/brca_chemo'"
      ]
     },
     "execution_count": 28,
     "metadata": {},
     "output_type": "execute_result"
    }
   ],
   "source": [
    "save_dir"
   ]
  },
  {
   "cell_type": "code",
   "execution_count": 29,
   "id": "67be921f-3959-4de6-81ab-0fcc977a012a",
   "metadata": {
    "tags": []
   },
   "outputs": [
    {
     "name": "stdout",
     "output_type": "stream",
     "text": [
      "Train-test split saved to /home/jupyter/sceval/data_splits/brca_full/brca_chemo\n"
     ]
    },
    {
     "data": {
      "text/plain": [
       "'/home/jupyter/sceval/data_splits/brca_full/brca_chemo'"
      ]
     },
     "execution_count": 29,
     "metadata": {},
     "output_type": "execute_result"
    }
   ],
   "source": [
    "save_train_test_split(patient_ids,labels, counts, save_dir, test_size, random_state)"
   ]
  },
  {
   "cell_type": "code",
   "execution_count": 30,
   "id": "cc54fe45-e5cc-4d21-b129-49bc9d5a88be",
   "metadata": {
    "tags": []
   },
   "outputs": [
    {
     "name": "stdout",
     "output_type": "stream",
     "text": [
      "=== Fold 1/5 ===\n",
      "=== Fold 2/5 ===\n",
      "=== Fold 3/5 ===\n",
      "=== Fold 4/5 ===\n",
      "=== Fold 5/5 ===\n",
      "Cross-validation splits saved to /home/jupyter/sceval/data_splits/brca_full/brca_chemo\n"
     ]
    },
    {
     "data": {
      "text/plain": [
       "'/home/jupyter/sceval/data_splits/brca_full/brca_chemo'"
      ]
     },
     "execution_count": 30,
     "metadata": {},
     "output_type": "execute_result"
    }
   ],
   "source": [
    "save_cv_splits(patient_ids,labels, save_dir, n_splits=n_splits, random_state=random_state) \n"
   ]
  },
  {
   "cell_type": "markdown",
   "id": "5c930873-0451-4687-8a0e-cfd7ba9ae589",
   "metadata": {},
   "source": [
    "## pre_post"
   ]
  },
  {
   "cell_type": "code",
   "execution_count": 6,
   "id": "ef36d5bc-78b4-4b41-9250-3e4d4bd41f19",
   "metadata": {
    "tags": []
   },
   "outputs": [],
   "source": [
    "\n",
    "DATA_FILE = '/home/jupyter/DATA/brca_full/brca_full_3000cell_2048gene.h5ad'\n",
    "save_dir ='/home/jupyter/sceval/data_splits/brca_full/brca_pre_post'\n",
    "\n",
    "patient_key = 'donor_id_pre_post'\n",
    "label_key = 'pre_post'\n",
    "\n",
    "test_size = 0.33\n",
    "random_state = 42\n",
    "# test_size = 0.4\n",
    "max_tries = 10\n",
    "n_splits = 5\n",
    "os.makedirs(save_dir, exist_ok=True)"
   ]
  },
  {
   "cell_type": "code",
   "execution_count": 7,
   "id": "182b11fd-faf3-494a-b4ce-be762c51280f",
   "metadata": {
    "tags": []
   },
   "outputs": [
    {
     "data": {
      "text/plain": [
       "AnnData object with n_obs × n_vars = 87326 × 2048\n",
       "    obs: 'orig.ident', 'nCount_RNA', 'nFeature_RNA', 'cell_id', 'donor_id', 'timepoint', 'outcome', 'Cancer_type', 'cell_types', 'cohort', 'pre_post', 'donor_id_pre_post', 'donor_id_outcome', 'donor_id_cell_types', 'donor_id_cell_types_pre_post', 'sample_id_pre_post_outcome', 'enough_cells', 'Study_name', 'Primary_or_met', 'RNA_snn_res.0.8', 'seurat_clusters', 'ident', 'n_genes_by_counts', 'total_counts', 'n_genes'\n",
       "    var: 'n_cells_by_counts', 'mean_counts', 'pct_dropout_by_counts', 'total_counts', 'n_cells', 'highly_variable', 'means', 'dispersions', 'dispersions_norm'\n",
       "    uns: 'X_name', 'hvg', 'log1p'\n",
       "    obsm: 'PCA', 'UMAP'\n",
       "    layers: 'logcounts', 'scaledata'"
      ]
     },
     "execution_count": 7,
     "metadata": {},
     "output_type": "execute_result"
    }
   ],
   "source": [
    "adata = read_data(DATA_FILE)\n",
    "adata"
   ]
  },
  {
   "cell_type": "code",
   "execution_count": 8,
   "id": "c7c135d0-5c2f-468d-9966-90774a36ec7d",
   "metadata": {
    "tags": []
   },
   "outputs": [
    {
     "data": {
      "text/plain": [
       "timepoint\n",
       "On     46224\n",
       "Pre    41102\n",
       "Name: count, dtype: int64"
      ]
     },
     "execution_count": 8,
     "metadata": {},
     "output_type": "execute_result"
    }
   ],
   "source": [
    "adata.obs['timepoint'].value_counts()"
   ]
  },
  {
   "cell_type": "code",
   "execution_count": 9,
   "id": "420278bf-b228-4332-b242-6cee302226cc",
   "metadata": {
    "tags": []
   },
   "outputs": [
    {
     "data": {
      "text/plain": [
       "Cancer_type\n",
       "ER+      43114\n",
       "TNBC     35212\n",
       "HER2+     9000\n",
       "Name: count, dtype: int64"
      ]
     },
     "execution_count": 9,
     "metadata": {},
     "output_type": "execute_result"
    }
   ],
   "source": [
    "adata.obs['Cancer_type'].value_counts()"
   ]
  },
  {
   "cell_type": "code",
   "execution_count": 10,
   "id": "cc257bcb-e430-4521-9bd1-f5cd54bd6313",
   "metadata": {
    "tags": []
   },
   "outputs": [
    {
     "data": {
      "text/plain": [
       "cell_types\n",
       "T_cell              27007\n",
       "Cancer_cell         26822\n",
       "Fibroblast          14793\n",
       "Myeloid_cell         8317\n",
       "B_cell               5890\n",
       "Endothelial_cell     3828\n",
       "Mast_cell             438\n",
       "pDC                   231\n",
       "Name: count, dtype: int64"
      ]
     },
     "execution_count": 10,
     "metadata": {},
     "output_type": "execute_result"
    }
   ],
   "source": [
    "adata.obs['cell_types'].value_counts()"
   ]
  },
  {
   "cell_type": "code",
   "execution_count": 11,
   "id": "90215a62-f82e-45cc-b5c1-1e351fb2f11d",
   "metadata": {
    "tags": []
   },
   "outputs": [
    {
     "data": {
      "text/plain": [
       "outcome\n",
       "NE     54326\n",
       "E      27000\n",
       "n/a     6000\n",
       "Name: count, dtype: int64"
      ]
     },
     "execution_count": 11,
     "metadata": {},
     "output_type": "execute_result"
    }
   ],
   "source": [
    "adata.obs['outcome'].value_counts()"
   ]
  },
  {
   "cell_type": "code",
   "execution_count": 12,
   "id": "8390bb5b-8d30-4863-91ad-0534b9b42334",
   "metadata": {
    "tags": []
   },
   "outputs": [
    {
     "name": "stderr",
     "output_type": "stream",
     "text": [
      "/var/tmp/ipykernel_108802/1579208951.py:2: FutureWarning: The default of observed=False is deprecated and will be changed to True in a future version of pandas. Pass observed=False to retain current behavior or observed=True to adopt the future default and silence this warning.\n",
      "  patient_labels = adata.obs.groupby(patient_key)[label_key].first()\n"
     ]
    }
   ],
   "source": [
    "# Get patient IDs and labels\n",
    "patient_ids, labels, counts = get_patient_info(adata, patient_key, label_key)"
   ]
  },
  {
   "cell_type": "code",
   "execution_count": 13,
   "id": "ec1e6922-36d3-46d7-a58c-2cf2ae2f7977",
   "metadata": {
    "tags": []
   },
   "outputs": [
    {
     "name": "stdout",
     "output_type": "stream",
     "text": [
      "pre_post\n",
      "Post    31\n",
      "Pre     31\n",
      "Name: count, dtype: int64\n"
     ]
    }
   ],
   "source": [
    "print(labels.value_counts())"
   ]
  },
  {
   "cell_type": "code",
   "execution_count": 14,
   "id": "8004d9e3",
   "metadata": {
    "tags": []
   },
   "outputs": [
    {
     "name": "stdout",
     "output_type": "stream",
     "text": [
      "Train-test split saved to /home/jupyter/sceval/data_splits/brca_full/brca_pre_potst\n"
     ]
    },
    {
     "data": {
      "text/plain": [
       "'/home/jupyter/sceval/data_splits/brca_full/brca_pre_potst'"
      ]
     },
     "execution_count": 14,
     "metadata": {},
     "output_type": "execute_result"
    }
   ],
   "source": [
    "save_train_test_split(patient_ids,labels, counts, save_dir, test_size, random_state)"
   ]
  },
  {
   "cell_type": "code",
   "execution_count": 15,
   "id": "cf1c685b-d6b1-4d76-8359-f412ccb1ec23",
   "metadata": {
    "tags": []
   },
   "outputs": [
    {
     "name": "stdout",
     "output_type": "stream",
     "text": [
      "=== Fold 1/5 ===\n",
      "=== Fold 2/5 ===\n",
      "=== Fold 3/5 ===\n",
      "=== Fold 4/5 ===\n",
      "=== Fold 5/5 ===\n",
      "Cross-validation splits saved to /home/jupyter/sceval/data_splits/brca_full/brca_pre_potst\n"
     ]
    },
    {
     "data": {
      "text/plain": [
       "'/home/jupyter/sceval/data_splits/brca_full/brca_pre_potst'"
      ]
     },
     "execution_count": 15,
     "metadata": {},
     "output_type": "execute_result"
    }
   ],
   "source": [
    "\n",
    "save_cv_splits(patient_ids,labels, save_dir, n_splits=n_splits, random_state=random_state) \n"
   ]
  },
  {
   "cell_type": "code",
   "execution_count": 16,
   "id": "b9388a71-052b-4a0e-9099-2276942a78ae",
   "metadata": {
    "tags": []
   },
   "outputs": [
    {
     "data": {
      "text/html": [
       "<div>\n",
       "<style scoped>\n",
       "    .dataframe tbody tr th:only-of-type {\n",
       "        vertical-align: middle;\n",
       "    }\n",
       "\n",
       "    .dataframe tbody tr th {\n",
       "        vertical-align: top;\n",
       "    }\n",
       "\n",
       "    .dataframe thead th {\n",
       "        text-align: right;\n",
       "    }\n",
       "</style>\n",
       "<table border=\"1\" class=\"dataframe\">\n",
       "  <thead>\n",
       "    <tr style=\"text-align: right;\">\n",
       "      <th></th>\n",
       "      <th>orig.ident</th>\n",
       "      <th>nCount_RNA</th>\n",
       "      <th>nFeature_RNA</th>\n",
       "      <th>cell_id</th>\n",
       "      <th>donor_id</th>\n",
       "      <th>timepoint</th>\n",
       "      <th>outcome</th>\n",
       "      <th>Cancer_type</th>\n",
       "      <th>cell_types</th>\n",
       "      <th>cohort</th>\n",
       "      <th>...</th>\n",
       "      <th>sample_id_pre_post_outcome</th>\n",
       "      <th>enough_cells</th>\n",
       "      <th>Study_name</th>\n",
       "      <th>Primary_or_met</th>\n",
       "      <th>RNA_snn_res.0.8</th>\n",
       "      <th>seurat_clusters</th>\n",
       "      <th>ident</th>\n",
       "      <th>n_genes_by_counts</th>\n",
       "      <th>total_counts</th>\n",
       "      <th>n_genes</th>\n",
       "    </tr>\n",
       "  </thead>\n",
       "  <tbody>\n",
       "    <tr>\n",
       "      <th>BIOKEY_13_Pre_GCGGGTTCAATGAATG-1</th>\n",
       "      <td>BIOKEY</td>\n",
       "      <td>4986.0</td>\n",
       "      <td>1918</td>\n",
       "      <td>BIOKEY_13_Pre_GCGGGTTCAATGAATG-1</td>\n",
       "      <td>BIOKEY_13</td>\n",
       "      <td>Pre</td>\n",
       "      <td>n/a</td>\n",
       "      <td>HER2+</td>\n",
       "      <td>Myeloid_cell</td>\n",
       "      <td>treatment_naive</td>\n",
       "      <td>...</td>\n",
       "      <td>BIOKEY_13_Pre_n/a</td>\n",
       "      <td>enough</td>\n",
       "      <td>Bassez</td>\n",
       "      <td>Primary</td>\n",
       "      <td>6</td>\n",
       "      <td>6</td>\n",
       "      <td>6</td>\n",
       "      <td>1918</td>\n",
       "      <td>4986.0</td>\n",
       "      <td>1918</td>\n",
       "    </tr>\n",
       "    <tr>\n",
       "      <th>BIOKEY_13_On_GTCTCGTCACCATCCT-1</th>\n",
       "      <td>BIOKEY</td>\n",
       "      <td>876.0</td>\n",
       "      <td>640</td>\n",
       "      <td>BIOKEY_13_On_GTCTCGTCACCATCCT-1</td>\n",
       "      <td>BIOKEY_13</td>\n",
       "      <td>On</td>\n",
       "      <td>n/a</td>\n",
       "      <td>HER2+</td>\n",
       "      <td>Cancer_cell</td>\n",
       "      <td>treatment_naive</td>\n",
       "      <td>...</td>\n",
       "      <td>BIOKEY_13_Post_n/a</td>\n",
       "      <td>enough</td>\n",
       "      <td>Bassez</td>\n",
       "      <td>Primary</td>\n",
       "      <td>0</td>\n",
       "      <td>0</td>\n",
       "      <td>0</td>\n",
       "      <td>640</td>\n",
       "      <td>876.0</td>\n",
       "      <td>640</td>\n",
       "    </tr>\n",
       "    <tr>\n",
       "      <th>BIOKEY_13_Pre_TGGCTGGAGATCCGAG-1</th>\n",
       "      <td>BIOKEY</td>\n",
       "      <td>10818.0</td>\n",
       "      <td>3438</td>\n",
       "      <td>BIOKEY_13_Pre_TGGCTGGAGATCCGAG-1</td>\n",
       "      <td>BIOKEY_13</td>\n",
       "      <td>Pre</td>\n",
       "      <td>n/a</td>\n",
       "      <td>HER2+</td>\n",
       "      <td>Fibroblast</td>\n",
       "      <td>treatment_naive</td>\n",
       "      <td>...</td>\n",
       "      <td>BIOKEY_13_Pre_n/a</td>\n",
       "      <td>enough</td>\n",
       "      <td>Bassez</td>\n",
       "      <td>Primary</td>\n",
       "      <td>3</td>\n",
       "      <td>3</td>\n",
       "      <td>3</td>\n",
       "      <td>3438</td>\n",
       "      <td>10818.0</td>\n",
       "      <td>3438</td>\n",
       "    </tr>\n",
       "    <tr>\n",
       "      <th>BIOKEY_13_Pre_TGAGCCGAGATGTGTA-1</th>\n",
       "      <td>BIOKEY</td>\n",
       "      <td>646.0</td>\n",
       "      <td>411</td>\n",
       "      <td>BIOKEY_13_Pre_TGAGCCGAGATGTGTA-1</td>\n",
       "      <td>BIOKEY_13</td>\n",
       "      <td>Pre</td>\n",
       "      <td>n/a</td>\n",
       "      <td>HER2+</td>\n",
       "      <td>Fibroblast</td>\n",
       "      <td>treatment_naive</td>\n",
       "      <td>...</td>\n",
       "      <td>BIOKEY_13_Pre_n/a</td>\n",
       "      <td>enough</td>\n",
       "      <td>Bassez</td>\n",
       "      <td>Primary</td>\n",
       "      <td>8</td>\n",
       "      <td>8</td>\n",
       "      <td>8</td>\n",
       "      <td>411</td>\n",
       "      <td>646.0</td>\n",
       "      <td>411</td>\n",
       "    </tr>\n",
       "    <tr>\n",
       "      <th>BIOKEY_13_Pre_GCGAGAAAGTGCGTGA-1</th>\n",
       "      <td>BIOKEY</td>\n",
       "      <td>3564.0</td>\n",
       "      <td>1588</td>\n",
       "      <td>BIOKEY_13_Pre_GCGAGAAAGTGCGTGA-1</td>\n",
       "      <td>BIOKEY_13</td>\n",
       "      <td>Pre</td>\n",
       "      <td>n/a</td>\n",
       "      <td>HER2+</td>\n",
       "      <td>Fibroblast</td>\n",
       "      <td>treatment_naive</td>\n",
       "      <td>...</td>\n",
       "      <td>BIOKEY_13_Pre_n/a</td>\n",
       "      <td>enough</td>\n",
       "      <td>Bassez</td>\n",
       "      <td>Primary</td>\n",
       "      <td>3</td>\n",
       "      <td>3</td>\n",
       "      <td>3</td>\n",
       "      <td>1588</td>\n",
       "      <td>3564.0</td>\n",
       "      <td>1588</td>\n",
       "    </tr>\n",
       "  </tbody>\n",
       "</table>\n",
       "<p>5 rows × 25 columns</p>\n",
       "</div>"
      ],
      "text/plain": [
       "                                 orig.ident  nCount_RNA  nFeature_RNA  \\\n",
       "BIOKEY_13_Pre_GCGGGTTCAATGAATG-1     BIOKEY      4986.0          1918   \n",
       "BIOKEY_13_On_GTCTCGTCACCATCCT-1      BIOKEY       876.0           640   \n",
       "BIOKEY_13_Pre_TGGCTGGAGATCCGAG-1     BIOKEY     10818.0          3438   \n",
       "BIOKEY_13_Pre_TGAGCCGAGATGTGTA-1     BIOKEY       646.0           411   \n",
       "BIOKEY_13_Pre_GCGAGAAAGTGCGTGA-1     BIOKEY      3564.0          1588   \n",
       "\n",
       "                                                           cell_id   donor_id  \\\n",
       "BIOKEY_13_Pre_GCGGGTTCAATGAATG-1  BIOKEY_13_Pre_GCGGGTTCAATGAATG-1  BIOKEY_13   \n",
       "BIOKEY_13_On_GTCTCGTCACCATCCT-1    BIOKEY_13_On_GTCTCGTCACCATCCT-1  BIOKEY_13   \n",
       "BIOKEY_13_Pre_TGGCTGGAGATCCGAG-1  BIOKEY_13_Pre_TGGCTGGAGATCCGAG-1  BIOKEY_13   \n",
       "BIOKEY_13_Pre_TGAGCCGAGATGTGTA-1  BIOKEY_13_Pre_TGAGCCGAGATGTGTA-1  BIOKEY_13   \n",
       "BIOKEY_13_Pre_GCGAGAAAGTGCGTGA-1  BIOKEY_13_Pre_GCGAGAAAGTGCGTGA-1  BIOKEY_13   \n",
       "\n",
       "                                 timepoint outcome Cancer_type    cell_types  \\\n",
       "BIOKEY_13_Pre_GCGGGTTCAATGAATG-1       Pre     n/a       HER2+  Myeloid_cell   \n",
       "BIOKEY_13_On_GTCTCGTCACCATCCT-1         On     n/a       HER2+   Cancer_cell   \n",
       "BIOKEY_13_Pre_TGGCTGGAGATCCGAG-1       Pre     n/a       HER2+    Fibroblast   \n",
       "BIOKEY_13_Pre_TGAGCCGAGATGTGTA-1       Pre     n/a       HER2+    Fibroblast   \n",
       "BIOKEY_13_Pre_GCGAGAAAGTGCGTGA-1       Pre     n/a       HER2+    Fibroblast   \n",
       "\n",
       "                                           cohort  ...  \\\n",
       "BIOKEY_13_Pre_GCGGGTTCAATGAATG-1  treatment_naive  ...   \n",
       "BIOKEY_13_On_GTCTCGTCACCATCCT-1   treatment_naive  ...   \n",
       "BIOKEY_13_Pre_TGGCTGGAGATCCGAG-1  treatment_naive  ...   \n",
       "BIOKEY_13_Pre_TGAGCCGAGATGTGTA-1  treatment_naive  ...   \n",
       "BIOKEY_13_Pre_GCGAGAAAGTGCGTGA-1  treatment_naive  ...   \n",
       "\n",
       "                                 sample_id_pre_post_outcome enough_cells  \\\n",
       "BIOKEY_13_Pre_GCGGGTTCAATGAATG-1          BIOKEY_13_Pre_n/a       enough   \n",
       "BIOKEY_13_On_GTCTCGTCACCATCCT-1          BIOKEY_13_Post_n/a       enough   \n",
       "BIOKEY_13_Pre_TGGCTGGAGATCCGAG-1          BIOKEY_13_Pre_n/a       enough   \n",
       "BIOKEY_13_Pre_TGAGCCGAGATGTGTA-1          BIOKEY_13_Pre_n/a       enough   \n",
       "BIOKEY_13_Pre_GCGAGAAAGTGCGTGA-1          BIOKEY_13_Pre_n/a       enough   \n",
       "\n",
       "                                 Study_name Primary_or_met RNA_snn_res.0.8  \\\n",
       "BIOKEY_13_Pre_GCGGGTTCAATGAATG-1     Bassez        Primary               6   \n",
       "BIOKEY_13_On_GTCTCGTCACCATCCT-1      Bassez        Primary               0   \n",
       "BIOKEY_13_Pre_TGGCTGGAGATCCGAG-1     Bassez        Primary               3   \n",
       "BIOKEY_13_Pre_TGAGCCGAGATGTGTA-1     Bassez        Primary               8   \n",
       "BIOKEY_13_Pre_GCGAGAAAGTGCGTGA-1     Bassez        Primary               3   \n",
       "\n",
       "                                 seurat_clusters ident n_genes_by_counts  \\\n",
       "BIOKEY_13_Pre_GCGGGTTCAATGAATG-1               6     6              1918   \n",
       "BIOKEY_13_On_GTCTCGTCACCATCCT-1                0     0               640   \n",
       "BIOKEY_13_Pre_TGGCTGGAGATCCGAG-1               3     3              3438   \n",
       "BIOKEY_13_Pre_TGAGCCGAGATGTGTA-1               8     8               411   \n",
       "BIOKEY_13_Pre_GCGAGAAAGTGCGTGA-1               3     3              1588   \n",
       "\n",
       "                                 total_counts n_genes  \n",
       "BIOKEY_13_Pre_GCGGGTTCAATGAATG-1       4986.0    1918  \n",
       "BIOKEY_13_On_GTCTCGTCACCATCCT-1         876.0     640  \n",
       "BIOKEY_13_Pre_TGGCTGGAGATCCGAG-1      10818.0    3438  \n",
       "BIOKEY_13_Pre_TGAGCCGAGATGTGTA-1        646.0     411  \n",
       "BIOKEY_13_Pre_GCGAGAAAGTGCGTGA-1       3564.0    1588  \n",
       "\n",
       "[5 rows x 25 columns]"
      ]
     },
     "execution_count": 16,
     "metadata": {},
     "output_type": "execute_result"
    }
   ],
   "source": [
    "adata.obs.head()"
   ]
  },
  {
   "cell_type": "code",
   "execution_count": 17,
   "id": "405e9f87-f046-405e-a4fc-37826218fb4d",
   "metadata": {
    "tags": []
   },
   "outputs": [
    {
     "name": "stdout",
     "output_type": "stream",
     "text": [
      "orig.ident\n",
      "nCount_RNA\n",
      "nFeature_RNA\n",
      "cell_id\n",
      "donor_id\n",
      "timepoint\n",
      "outcome\n",
      "Cancer_type\n",
      "cell_types\n",
      "cohort\n",
      "pre_post\n",
      "donor_id_pre_post\n",
      "donor_id_outcome\n",
      "donor_id_cell_types\n",
      "donor_id_cell_types_pre_post\n",
      "sample_id_pre_post_outcome\n",
      "enough_cells\n",
      "Study_name\n",
      "Primary_or_met\n",
      "RNA_snn_res.0.8\n",
      "seurat_clusters\n",
      "ident\n",
      "n_genes_by_counts\n",
      "total_counts\n",
      "n_genes\n"
     ]
    }
   ],
   "source": [
    "for c in adata.obs.columns:\n",
    "    print(c)"
   ]
  },
  {
   "cell_type": "markdown",
   "id": "241fd661-4da8-4ddd-90a0-ec715a785904",
   "metadata": {},
   "source": [
    "## Cancer_type"
   ]
  },
  {
   "cell_type": "code",
   "execution_count": 18,
   "id": "74d3fbb4-7bce-4031-8f71-d06e4c13dfef",
   "metadata": {
    "tags": []
   },
   "outputs": [],
   "source": [
    "DATA_FILE = '/home/jupyter/DATA/brca_full/brca_full_3000cell_2048gene.h5ad'\n",
    "save_dir ='/home/jupyter/sceval/data_splits/brca_full/brca_subtype'\n",
    "\n",
    "patient_key = 'donor_id'\n",
    "label_key = 'Cancer_type'\n",
    "\n",
    "test_size = 0.33\n",
    "random_state = 42\n",
    "# test_size = 0.4\n",
    "max_tries = 10\n",
    "n_splits = 5\n",
    "os.makedirs(save_dir, exist_ok=True)"
   ]
  },
  {
   "cell_type": "code",
   "execution_count": 19,
   "id": "2bc03b49-4fbf-4d4c-ab8a-06013ba30f5e",
   "metadata": {
    "tags": []
   },
   "outputs": [],
   "source": [
    "adata_subtype = read_data(DATA_FILE)\n"
   ]
  },
  {
   "cell_type": "code",
   "execution_count": 20,
   "id": "77c39f58-d898-4fb5-9dde-743a0d96e4c7",
   "metadata": {
    "tags": []
   },
   "outputs": [],
   "source": [
    "adata_subtype = adata_subtype[adata_subtype.obs['timepoint']=='Pre']"
   ]
  },
  {
   "cell_type": "code",
   "execution_count": 21,
   "id": "61222670-4097-4010-8c7b-f5fc77abc9df",
   "metadata": {
    "tags": []
   },
   "outputs": [],
   "source": [
    "adata_subtype= adata_subtype[adata_subtype.obs['Cancer_type'].isin(['ER+', 'TNBC'])]"
   ]
  },
  {
   "cell_type": "code",
   "execution_count": 22,
   "id": "570a1be0-463c-4f5a-8e14-d43567ff1f69",
   "metadata": {
    "tags": []
   },
   "outputs": [
    {
     "name": "stderr",
     "output_type": "stream",
     "text": [
      "/var/tmp/ipykernel_108802/1579208951.py:2: FutureWarning: The default of observed=False is deprecated and will be changed to True in a future version of pandas. Pass observed=False to retain current behavior or observed=True to adopt the future default and silence this warning.\n",
      "  patient_labels = adata.obs.groupby(patient_key)[label_key].first()\n"
     ]
    }
   ],
   "source": [
    "patient_ids, labels, counts = get_patient_info(adata_subtype, patient_key, label_key)"
   ]
  },
  {
   "cell_type": "code",
   "execution_count": 23,
   "id": "514bc6e2-dcf0-4dc0-8b4f-0f777063553f",
   "metadata": {
    "tags": []
   },
   "outputs": [
    {
     "data": {
      "text/plain": [
       "['BIOKEY_1', 'BIOKEY_2', 'BIOKEY_3', 'BIOKEY_4', 'BIOKEY_5', ..., 'BIOKEY_26', 'BIOKEY_27', 'BIOKEY_29', 'BIOKEY_30', 'BIOKEY_31']\n",
       "Length: 28\n",
       "Categories (28, object): ['BIOKEY_1', 'BIOKEY_2', 'BIOKEY_3', 'BIOKEY_4', ..., 'BIOKEY_27', 'BIOKEY_29', 'BIOKEY_30', 'BIOKEY_31']"
      ]
     },
     "execution_count": 23,
     "metadata": {},
     "output_type": "execute_result"
    }
   ],
   "source": [
    "patient_ids"
   ]
  },
  {
   "cell_type": "code",
   "execution_count": 24,
   "id": "e29ed30e-5c65-469b-b893-2a75548f69ad",
   "metadata": {
    "tags": []
   },
   "outputs": [
    {
     "name": "stdout",
     "output_type": "stream",
     "text": [
      "Cancer_type\n",
      "ER+     15\n",
      "TNBC    13\n",
      "Name: count, dtype: int64\n"
     ]
    }
   ],
   "source": [
    "print(labels.value_counts())"
   ]
  },
  {
   "cell_type": "code",
   "execution_count": 25,
   "id": "374da5d4-b463-4801-881e-33b8f83ea1ad",
   "metadata": {
    "tags": []
   },
   "outputs": [
    {
     "name": "stdout",
     "output_type": "stream",
     "text": [
      "Train-test split saved to /home/jupyter/sceval/data_splits/brca_full/brca_subtype\n"
     ]
    },
    {
     "data": {
      "text/plain": [
       "'/home/jupyter/sceval/data_splits/brca_full/brca_subtype'"
      ]
     },
     "execution_count": 25,
     "metadata": {},
     "output_type": "execute_result"
    }
   ],
   "source": [
    "save_train_test_split(patient_ids,labels, counts, save_dir, test_size, random_state)"
   ]
  },
  {
   "cell_type": "code",
   "execution_count": 26,
   "id": "7598f2f1-cb61-425e-b534-8ffdd780b739",
   "metadata": {
    "tags": []
   },
   "outputs": [
    {
     "name": "stdout",
     "output_type": "stream",
     "text": [
      "=== Fold 1/5 ===\n",
      "=== Fold 2/5 ===\n",
      "=== Fold 3/5 ===\n",
      "=== Fold 4/5 ===\n",
      "=== Fold 5/5 ===\n",
      "Cross-validation splits saved to /home/jupyter/sceval/data_splits/brca_full/brca_subtype\n"
     ]
    },
    {
     "data": {
      "text/plain": [
       "'/home/jupyter/sceval/data_splits/brca_full/brca_subtype'"
      ]
     },
     "execution_count": 26,
     "metadata": {},
     "output_type": "execute_result"
    }
   ],
   "source": [
    "save_cv_splits(patient_ids,labels, save_dir, n_splits=n_splits, random_state=random_state) \n"
   ]
  },
  {
   "cell_type": "markdown",
   "id": "568a5a57-458a-4951-982e-0a0365a14666",
   "metadata": {},
   "source": [
    "## outcome"
   ]
  },
  {
   "cell_type": "code",
   "execution_count": 27,
   "id": "07fb75af-c2bb-439a-a626-96bfacbb9eae",
   "metadata": {
    "tags": []
   },
   "outputs": [],
   "source": [
    "DATA_FILE = '/home/jupyter/DATA/brca_full/brca_full_3000cell_2048gene.h5ad'\n",
    "save_dir ='/home/jupyter/sceval/data_splits/brca_full/brca_outcome'\n",
    "\n",
    "# patient_key = 'donor_id_outcome'\n",
    "patient_key = 'donor_id'\n",
    "\n",
    "label_key = 'outcome'\n",
    "\n",
    "test_size = 0.33\n",
    "random_state = 42\n",
    "# test_size = 0.4\n",
    "max_tries = 10\n",
    "n_splits = 5\n",
    "os.makedirs(save_dir, exist_ok=True)"
   ]
  },
  {
   "cell_type": "code",
   "execution_count": 28,
   "id": "7dc55ec9-bba9-4227-ab93-7f0ce6df9c1a",
   "metadata": {
    "tags": []
   },
   "outputs": [],
   "source": [
    "adata_outcome = read_data(DATA_FILE)\n"
   ]
  },
  {
   "cell_type": "code",
   "execution_count": 29,
   "id": "49152eec-a5f7-4b7c-8e90-fd3a8a6abf15",
   "metadata": {
    "tags": []
   },
   "outputs": [],
   "source": [
    "adata_outcome = adata_outcome[adata_outcome.obs['timepoint']=='Pre']"
   ]
  },
  {
   "cell_type": "code",
   "execution_count": 30,
   "id": "b54a2e85-b670-446d-ba63-d153ea074d84",
   "metadata": {
    "tags": []
   },
   "outputs": [],
   "source": [
    "adata_outcome= adata_outcome[adata_outcome.obs['outcome'].isin(['NE', 'E'])]"
   ]
  },
  {
   "cell_type": "code",
   "execution_count": 31,
   "id": "866b459c-194f-4978-9d93-b34fe738352d",
   "metadata": {
    "tags": []
   },
   "outputs": [
    {
     "name": "stderr",
     "output_type": "stream",
     "text": [
      "/var/tmp/ipykernel_108802/1579208951.py:2: FutureWarning: The default of observed=False is deprecated and will be changed to True in a future version of pandas. Pass observed=False to retain current behavior or observed=True to adopt the future default and silence this warning.\n",
      "  patient_labels = adata.obs.groupby(patient_key)[label_key].first()\n"
     ]
    }
   ],
   "source": [
    "patient_ids, labels, counts = get_patient_info(adata_outcome, patient_key, label_key)"
   ]
  },
  {
   "cell_type": "code",
   "execution_count": 32,
   "id": "bcd88fdd-81b4-4b41-bdde-90b59937a80d",
   "metadata": {
    "tags": []
   },
   "outputs": [
    {
     "data": {
      "text/plain": [
       "['BIOKEY_2',\n",
       " 'BIOKEY_3',\n",
       " 'BIOKEY_4',\n",
       " 'BIOKEY_5',\n",
       " 'BIOKEY_6',\n",
       " 'BIOKEY_7',\n",
       " 'BIOKEY_8',\n",
       " 'BIOKEY_9',\n",
       " 'BIOKEY_10',\n",
       " 'BIOKEY_11',\n",
       " 'BIOKEY_12',\n",
       " 'BIOKEY_14',\n",
       " 'BIOKEY_15',\n",
       " 'BIOKEY_16',\n",
       " 'BIOKEY_17',\n",
       " 'BIOKEY_18',\n",
       " 'BIOKEY_19',\n",
       " 'BIOKEY_20',\n",
       " 'BIOKEY_21',\n",
       " 'BIOKEY_22',\n",
       " 'BIOKEY_23',\n",
       " 'BIOKEY_24',\n",
       " 'BIOKEY_25',\n",
       " 'BIOKEY_26',\n",
       " 'BIOKEY_27',\n",
       " 'BIOKEY_28',\n",
       " 'BIOKEY_29',\n",
       " 'BIOKEY_30',\n",
       " 'BIOKEY_31']"
      ]
     },
     "execution_count": 32,
     "metadata": {},
     "output_type": "execute_result"
    }
   ],
   "source": [
    "list(patient_ids)"
   ]
  },
  {
   "cell_type": "code",
   "execution_count": 33,
   "id": "17550451-f4bb-42e7-a968-a78f37f2d645",
   "metadata": {
    "tags": []
   },
   "outputs": [
    {
     "name": "stdout",
     "output_type": "stream",
     "text": [
      "outcome\n",
      "NE    20\n",
      "E      9\n",
      "Name: count, dtype: int64\n"
     ]
    }
   ],
   "source": [
    "print(labels.value_counts())"
   ]
  },
  {
   "cell_type": "code",
   "execution_count": 34,
   "id": "2c8f35f3-a6d0-4dc7-ad47-d278a3c202da",
   "metadata": {
    "tags": []
   },
   "outputs": [
    {
     "name": "stdout",
     "output_type": "stream",
     "text": [
      "Train-test split saved to /home/jupyter/sceval/data_splits/brca_full/brca_outcome\n"
     ]
    },
    {
     "data": {
      "text/plain": [
       "'/home/jupyter/sceval/data_splits/brca_full/brca_outcome'"
      ]
     },
     "execution_count": 34,
     "metadata": {},
     "output_type": "execute_result"
    }
   ],
   "source": [
    "save_train_test_split(patient_ids,labels, counts, save_dir, test_size, random_state)"
   ]
  },
  {
   "cell_type": "code",
   "execution_count": 35,
   "id": "4582a988-1916-41b0-9241-fed3e8931009",
   "metadata": {
    "tags": []
   },
   "outputs": [
    {
     "name": "stdout",
     "output_type": "stream",
     "text": [
      "=== Fold 1/5 ===\n",
      "=== Fold 2/5 ===\n",
      "=== Fold 3/5 ===\n",
      "=== Fold 4/5 ===\n",
      "=== Fold 5/5 ===\n",
      "Cross-validation splits saved to /home/jupyter/sceval/data_splits/brca_full/brca_outcome\n"
     ]
    },
    {
     "data": {
      "text/plain": [
       "'/home/jupyter/sceval/data_splits/brca_full/brca_outcome'"
      ]
     },
     "execution_count": 35,
     "metadata": {},
     "output_type": "execute_result"
    }
   ],
   "source": [
    "save_cv_splits(patient_ids,labels, save_dir, n_splits=n_splits, random_state=random_state) \n"
   ]
  },
  {
   "cell_type": "markdown",
   "id": "0ad947bc-f005-4f29-8edb-95308b1d2033",
   "metadata": {},
   "source": [
    "## cell type"
   ]
  },
  {
   "cell_type": "code",
   "execution_count": 8,
   "id": "bcec6f18-4d61-4bc7-a3ba-709ec79063f9",
   "metadata": {
    "tags": []
   },
   "outputs": [],
   "source": [
    "DATA_FILE = '/home/jupyter/DATA/brca_full/brca_cells_only_3000cell_4096gene.h5ad'\n",
    "save_dir ='/home/jupyter/sceval/data_splits/brca_full/brca_cell_type'\n",
    "\n",
    "# patient_key = 'donor_id_outcome'\n",
    "cell_key = 'cell_id'\n",
    "\n",
    "label_key = 'cell_types'\n",
    "\n",
    "test_size = 0.33\n",
    "random_state = 42\n",
    "# test_size = 0.4\n",
    "max_tries = 10\n",
    "n_splits = 5\n",
    "os.makedirs(save_dir, exist_ok=True)"
   ]
  },
  {
   "cell_type": "code",
   "execution_count": 9,
   "id": "42847a25-ad9f-4420-860f-60171f4a0d32",
   "metadata": {
    "tags": []
   },
   "outputs": [],
   "source": [
    "adata = read_data(DATA_FILE)\n"
   ]
  },
  {
   "cell_type": "code",
   "execution_count": 10,
   "id": "fa68f8ea-b33a-45e5-b925-5dcd7d57d49e",
   "metadata": {
    "tags": []
   },
   "outputs": [
    {
     "data": {
      "text/plain": [
       "AnnData object with n_obs × n_vars = 87326 × 4096\n",
       "    obs: 'orig.ident', 'nCount_RNA', 'nFeature_RNA', 'cell_id', 'donor_id', 'timepoint', 'outcome', 'Cancer_type', 'cell_types', 'cohort', 'pre_post', 'donor_id_pre_post', 'donor_id_outcome', 'donor_id_cell_types', 'donor_id_cell_types_pre_post', 'sample_id_pre_post_outcome', 'enough_cells', 'Study_name', 'Primary_or_met', 'RNA_snn_res.0.8', 'seurat_clusters', 'ident', 'n_genes_by_counts', 'total_counts', 'n_genes'\n",
       "    var: 'n_cells_by_counts', 'mean_counts', 'pct_dropout_by_counts', 'total_counts', 'n_cells', 'highly_variable', 'means', 'dispersions', 'dispersions_norm'\n",
       "    uns: 'X_name', 'hvg', 'log1p'\n",
       "    obsm: 'PCA', 'UMAP'\n",
       "    layers: 'counts', 'logcounts', 'scaledata'"
      ]
     },
     "execution_count": 10,
     "metadata": {},
     "output_type": "execute_result"
    }
   ],
   "source": [
    "adata"
   ]
  },
  {
   "cell_type": "code",
   "execution_count": 11,
   "id": "0b422411-8bb3-49ed-a998-300cdaf59c7e",
   "metadata": {
    "tags": []
   },
   "outputs": [],
   "source": [
    "adata_celltype = adata[adata.obs.timepoint =='Pre']"
   ]
  },
  {
   "cell_type": "code",
   "execution_count": 12,
   "id": "7ba63afc-1c5a-4629-9b4a-2ebe56e602e2",
   "metadata": {
    "tags": []
   },
   "outputs": [
    {
     "data": {
      "text/html": [
       "<div>\n",
       "<style scoped>\n",
       "    .dataframe tbody tr th:only-of-type {\n",
       "        vertical-align: middle;\n",
       "    }\n",
       "\n",
       "    .dataframe tbody tr th {\n",
       "        vertical-align: top;\n",
       "    }\n",
       "\n",
       "    .dataframe thead th {\n",
       "        text-align: right;\n",
       "    }\n",
       "</style>\n",
       "<table border=\"1\" class=\"dataframe\">\n",
       "  <thead>\n",
       "    <tr style=\"text-align: right;\">\n",
       "      <th></th>\n",
       "      <th>orig.ident</th>\n",
       "      <th>nCount_RNA</th>\n",
       "      <th>nFeature_RNA</th>\n",
       "      <th>cell_id</th>\n",
       "      <th>donor_id</th>\n",
       "      <th>timepoint</th>\n",
       "      <th>outcome</th>\n",
       "      <th>Cancer_type</th>\n",
       "      <th>cell_types</th>\n",
       "      <th>cohort</th>\n",
       "      <th>...</th>\n",
       "      <th>sample_id_pre_post_outcome</th>\n",
       "      <th>enough_cells</th>\n",
       "      <th>Study_name</th>\n",
       "      <th>Primary_or_met</th>\n",
       "      <th>RNA_snn_res.0.8</th>\n",
       "      <th>seurat_clusters</th>\n",
       "      <th>ident</th>\n",
       "      <th>n_genes_by_counts</th>\n",
       "      <th>total_counts</th>\n",
       "      <th>n_genes</th>\n",
       "    </tr>\n",
       "  </thead>\n",
       "  <tbody>\n",
       "    <tr>\n",
       "      <th>BIOKEY_13_Pre_GCGGGTTCAATGAATG-1</th>\n",
       "      <td>BIOKEY</td>\n",
       "      <td>4986.0</td>\n",
       "      <td>1918</td>\n",
       "      <td>BIOKEY_13_Pre_GCGGGTTCAATGAATG-1</td>\n",
       "      <td>BIOKEY_13</td>\n",
       "      <td>Pre</td>\n",
       "      <td>n/a</td>\n",
       "      <td>HER2+</td>\n",
       "      <td>Myeloid_cell</td>\n",
       "      <td>treatment_naive</td>\n",
       "      <td>...</td>\n",
       "      <td>BIOKEY_13_Pre_n/a</td>\n",
       "      <td>enough</td>\n",
       "      <td>Bassez</td>\n",
       "      <td>Primary</td>\n",
       "      <td>6</td>\n",
       "      <td>6</td>\n",
       "      <td>6</td>\n",
       "      <td>1918</td>\n",
       "      <td>4986.0</td>\n",
       "      <td>1918</td>\n",
       "    </tr>\n",
       "    <tr>\n",
       "      <th>BIOKEY_13_Pre_TGGCTGGAGATCCGAG-1</th>\n",
       "      <td>BIOKEY</td>\n",
       "      <td>10818.0</td>\n",
       "      <td>3438</td>\n",
       "      <td>BIOKEY_13_Pre_TGGCTGGAGATCCGAG-1</td>\n",
       "      <td>BIOKEY_13</td>\n",
       "      <td>Pre</td>\n",
       "      <td>n/a</td>\n",
       "      <td>HER2+</td>\n",
       "      <td>Fibroblast</td>\n",
       "      <td>treatment_naive</td>\n",
       "      <td>...</td>\n",
       "      <td>BIOKEY_13_Pre_n/a</td>\n",
       "      <td>enough</td>\n",
       "      <td>Bassez</td>\n",
       "      <td>Primary</td>\n",
       "      <td>3</td>\n",
       "      <td>3</td>\n",
       "      <td>3</td>\n",
       "      <td>3438</td>\n",
       "      <td>10818.0</td>\n",
       "      <td>3438</td>\n",
       "    </tr>\n",
       "    <tr>\n",
       "      <th>BIOKEY_13_Pre_TGAGCCGAGATGTGTA-1</th>\n",
       "      <td>BIOKEY</td>\n",
       "      <td>646.0</td>\n",
       "      <td>411</td>\n",
       "      <td>BIOKEY_13_Pre_TGAGCCGAGATGTGTA-1</td>\n",
       "      <td>BIOKEY_13</td>\n",
       "      <td>Pre</td>\n",
       "      <td>n/a</td>\n",
       "      <td>HER2+</td>\n",
       "      <td>Fibroblast</td>\n",
       "      <td>treatment_naive</td>\n",
       "      <td>...</td>\n",
       "      <td>BIOKEY_13_Pre_n/a</td>\n",
       "      <td>enough</td>\n",
       "      <td>Bassez</td>\n",
       "      <td>Primary</td>\n",
       "      <td>8</td>\n",
       "      <td>8</td>\n",
       "      <td>8</td>\n",
       "      <td>411</td>\n",
       "      <td>646.0</td>\n",
       "      <td>411</td>\n",
       "    </tr>\n",
       "    <tr>\n",
       "      <th>BIOKEY_13_Pre_GCGAGAAAGTGCGTGA-1</th>\n",
       "      <td>BIOKEY</td>\n",
       "      <td>3564.0</td>\n",
       "      <td>1588</td>\n",
       "      <td>BIOKEY_13_Pre_GCGAGAAAGTGCGTGA-1</td>\n",
       "      <td>BIOKEY_13</td>\n",
       "      <td>Pre</td>\n",
       "      <td>n/a</td>\n",
       "      <td>HER2+</td>\n",
       "      <td>Fibroblast</td>\n",
       "      <td>treatment_naive</td>\n",
       "      <td>...</td>\n",
       "      <td>BIOKEY_13_Pre_n/a</td>\n",
       "      <td>enough</td>\n",
       "      <td>Bassez</td>\n",
       "      <td>Primary</td>\n",
       "      <td>3</td>\n",
       "      <td>3</td>\n",
       "      <td>3</td>\n",
       "      <td>1588</td>\n",
       "      <td>3564.0</td>\n",
       "      <td>1588</td>\n",
       "    </tr>\n",
       "    <tr>\n",
       "      <th>BIOKEY_13_Pre_CTAGTGATCTGTGCAA-1</th>\n",
       "      <td>BIOKEY</td>\n",
       "      <td>7016.0</td>\n",
       "      <td>2180</td>\n",
       "      <td>BIOKEY_13_Pre_CTAGTGATCTGTGCAA-1</td>\n",
       "      <td>BIOKEY_13</td>\n",
       "      <td>Pre</td>\n",
       "      <td>n/a</td>\n",
       "      <td>HER2+</td>\n",
       "      <td>Fibroblast</td>\n",
       "      <td>treatment_naive</td>\n",
       "      <td>...</td>\n",
       "      <td>BIOKEY_13_Pre_n/a</td>\n",
       "      <td>enough</td>\n",
       "      <td>Bassez</td>\n",
       "      <td>Primary</td>\n",
       "      <td>5</td>\n",
       "      <td>5</td>\n",
       "      <td>5</td>\n",
       "      <td>2180</td>\n",
       "      <td>7016.0</td>\n",
       "      <td>2180</td>\n",
       "    </tr>\n",
       "    <tr>\n",
       "      <th>...</th>\n",
       "      <td>...</td>\n",
       "      <td>...</td>\n",
       "      <td>...</td>\n",
       "      <td>...</td>\n",
       "      <td>...</td>\n",
       "      <td>...</td>\n",
       "      <td>...</td>\n",
       "      <td>...</td>\n",
       "      <td>...</td>\n",
       "      <td>...</td>\n",
       "      <td>...</td>\n",
       "      <td>...</td>\n",
       "      <td>...</td>\n",
       "      <td>...</td>\n",
       "      <td>...</td>\n",
       "      <td>...</td>\n",
       "      <td>...</td>\n",
       "      <td>...</td>\n",
       "      <td>...</td>\n",
       "      <td>...</td>\n",
       "      <td>...</td>\n",
       "    </tr>\n",
       "    <tr>\n",
       "      <th>BIOKEY_24_Pre_GATTCAGTCAAGGTAA-1</th>\n",
       "      <td>BIOKEY</td>\n",
       "      <td>8436.0</td>\n",
       "      <td>2689</td>\n",
       "      <td>BIOKEY_24_Pre_GATTCAGTCAAGGTAA-1</td>\n",
       "      <td>BIOKEY_24</td>\n",
       "      <td>Pre</td>\n",
       "      <td>NE</td>\n",
       "      <td>ER+</td>\n",
       "      <td>Endothelial_cell</td>\n",
       "      <td>treatment_naive</td>\n",
       "      <td>...</td>\n",
       "      <td>BIOKEY_24_Pre_NE</td>\n",
       "      <td>enough</td>\n",
       "      <td>Bassez</td>\n",
       "      <td>Primary</td>\n",
       "      <td>10</td>\n",
       "      <td>10</td>\n",
       "      <td>10</td>\n",
       "      <td>2689</td>\n",
       "      <td>8436.0</td>\n",
       "      <td>2689</td>\n",
       "    </tr>\n",
       "    <tr>\n",
       "      <th>BIOKEY_24_Pre_ACATGGTGTTGGGACA-1</th>\n",
       "      <td>BIOKEY</td>\n",
       "      <td>13452.0</td>\n",
       "      <td>3313</td>\n",
       "      <td>BIOKEY_24_Pre_ACATGGTGTTGGGACA-1</td>\n",
       "      <td>BIOKEY_24</td>\n",
       "      <td>Pre</td>\n",
       "      <td>NE</td>\n",
       "      <td>ER+</td>\n",
       "      <td>T_cell</td>\n",
       "      <td>treatment_naive</td>\n",
       "      <td>...</td>\n",
       "      <td>BIOKEY_24_Pre_NE</td>\n",
       "      <td>enough</td>\n",
       "      <td>Bassez</td>\n",
       "      <td>Primary</td>\n",
       "      <td>20</td>\n",
       "      <td>20</td>\n",
       "      <td>20</td>\n",
       "      <td>3313</td>\n",
       "      <td>13452.0</td>\n",
       "      <td>3313</td>\n",
       "    </tr>\n",
       "    <tr>\n",
       "      <th>BIOKEY_24_Pre_GGGACCTTCTCGCTTG-1</th>\n",
       "      <td>BIOKEY</td>\n",
       "      <td>506.0</td>\n",
       "      <td>344</td>\n",
       "      <td>BIOKEY_24_Pre_GGGACCTTCTCGCTTG-1</td>\n",
       "      <td>BIOKEY_24</td>\n",
       "      <td>Pre</td>\n",
       "      <td>NE</td>\n",
       "      <td>ER+</td>\n",
       "      <td>Myeloid_cell</td>\n",
       "      <td>treatment_naive</td>\n",
       "      <td>...</td>\n",
       "      <td>BIOKEY_24_Pre_NE</td>\n",
       "      <td>enough</td>\n",
       "      <td>Bassez</td>\n",
       "      <td>Primary</td>\n",
       "      <td>6</td>\n",
       "      <td>6</td>\n",
       "      <td>6</td>\n",
       "      <td>344</td>\n",
       "      <td>506.0</td>\n",
       "      <td>344</td>\n",
       "    </tr>\n",
       "    <tr>\n",
       "      <th>BIOKEY_24_Pre_GTCGGGTGTTGATTGC-1</th>\n",
       "      <td>BIOKEY</td>\n",
       "      <td>3094.0</td>\n",
       "      <td>1072</td>\n",
       "      <td>BIOKEY_24_Pre_GTCGGGTGTTGATTGC-1</td>\n",
       "      <td>BIOKEY_24</td>\n",
       "      <td>Pre</td>\n",
       "      <td>NE</td>\n",
       "      <td>ER+</td>\n",
       "      <td>T_cell</td>\n",
       "      <td>treatment_naive</td>\n",
       "      <td>...</td>\n",
       "      <td>BIOKEY_24_Pre_NE</td>\n",
       "      <td>enough</td>\n",
       "      <td>Bassez</td>\n",
       "      <td>Primary</td>\n",
       "      <td>0</td>\n",
       "      <td>0</td>\n",
       "      <td>0</td>\n",
       "      <td>1072</td>\n",
       "      <td>3094.0</td>\n",
       "      <td>1072</td>\n",
       "    </tr>\n",
       "    <tr>\n",
       "      <th>BIOKEY_24_Pre_TACTCATTCTGCTTGC-1</th>\n",
       "      <td>BIOKEY</td>\n",
       "      <td>1471.0</td>\n",
       "      <td>771</td>\n",
       "      <td>BIOKEY_24_Pre_TACTCATTCTGCTTGC-1</td>\n",
       "      <td>BIOKEY_24</td>\n",
       "      <td>Pre</td>\n",
       "      <td>NE</td>\n",
       "      <td>ER+</td>\n",
       "      <td>T_cell</td>\n",
       "      <td>treatment_naive</td>\n",
       "      <td>...</td>\n",
       "      <td>BIOKEY_24_Pre_NE</td>\n",
       "      <td>enough</td>\n",
       "      <td>Bassez</td>\n",
       "      <td>Primary</td>\n",
       "      <td>0</td>\n",
       "      <td>0</td>\n",
       "      <td>0</td>\n",
       "      <td>771</td>\n",
       "      <td>1471.0</td>\n",
       "      <td>771</td>\n",
       "    </tr>\n",
       "  </tbody>\n",
       "</table>\n",
       "<p>41102 rows × 25 columns</p>\n",
       "</div>"
      ],
      "text/plain": [
       "                                 orig.ident  nCount_RNA  nFeature_RNA  \\\n",
       "BIOKEY_13_Pre_GCGGGTTCAATGAATG-1     BIOKEY      4986.0          1918   \n",
       "BIOKEY_13_Pre_TGGCTGGAGATCCGAG-1     BIOKEY     10818.0          3438   \n",
       "BIOKEY_13_Pre_TGAGCCGAGATGTGTA-1     BIOKEY       646.0           411   \n",
       "BIOKEY_13_Pre_GCGAGAAAGTGCGTGA-1     BIOKEY      3564.0          1588   \n",
       "BIOKEY_13_Pre_CTAGTGATCTGTGCAA-1     BIOKEY      7016.0          2180   \n",
       "...                                     ...         ...           ...   \n",
       "BIOKEY_24_Pre_GATTCAGTCAAGGTAA-1     BIOKEY      8436.0          2689   \n",
       "BIOKEY_24_Pre_ACATGGTGTTGGGACA-1     BIOKEY     13452.0          3313   \n",
       "BIOKEY_24_Pre_GGGACCTTCTCGCTTG-1     BIOKEY       506.0           344   \n",
       "BIOKEY_24_Pre_GTCGGGTGTTGATTGC-1     BIOKEY      3094.0          1072   \n",
       "BIOKEY_24_Pre_TACTCATTCTGCTTGC-1     BIOKEY      1471.0           771   \n",
       "\n",
       "                                                           cell_id   donor_id  \\\n",
       "BIOKEY_13_Pre_GCGGGTTCAATGAATG-1  BIOKEY_13_Pre_GCGGGTTCAATGAATG-1  BIOKEY_13   \n",
       "BIOKEY_13_Pre_TGGCTGGAGATCCGAG-1  BIOKEY_13_Pre_TGGCTGGAGATCCGAG-1  BIOKEY_13   \n",
       "BIOKEY_13_Pre_TGAGCCGAGATGTGTA-1  BIOKEY_13_Pre_TGAGCCGAGATGTGTA-1  BIOKEY_13   \n",
       "BIOKEY_13_Pre_GCGAGAAAGTGCGTGA-1  BIOKEY_13_Pre_GCGAGAAAGTGCGTGA-1  BIOKEY_13   \n",
       "BIOKEY_13_Pre_CTAGTGATCTGTGCAA-1  BIOKEY_13_Pre_CTAGTGATCTGTGCAA-1  BIOKEY_13   \n",
       "...                                                            ...        ...   \n",
       "BIOKEY_24_Pre_GATTCAGTCAAGGTAA-1  BIOKEY_24_Pre_GATTCAGTCAAGGTAA-1  BIOKEY_24   \n",
       "BIOKEY_24_Pre_ACATGGTGTTGGGACA-1  BIOKEY_24_Pre_ACATGGTGTTGGGACA-1  BIOKEY_24   \n",
       "BIOKEY_24_Pre_GGGACCTTCTCGCTTG-1  BIOKEY_24_Pre_GGGACCTTCTCGCTTG-1  BIOKEY_24   \n",
       "BIOKEY_24_Pre_GTCGGGTGTTGATTGC-1  BIOKEY_24_Pre_GTCGGGTGTTGATTGC-1  BIOKEY_24   \n",
       "BIOKEY_24_Pre_TACTCATTCTGCTTGC-1  BIOKEY_24_Pre_TACTCATTCTGCTTGC-1  BIOKEY_24   \n",
       "\n",
       "                                 timepoint outcome Cancer_type  \\\n",
       "BIOKEY_13_Pre_GCGGGTTCAATGAATG-1       Pre     n/a       HER2+   \n",
       "BIOKEY_13_Pre_TGGCTGGAGATCCGAG-1       Pre     n/a       HER2+   \n",
       "BIOKEY_13_Pre_TGAGCCGAGATGTGTA-1       Pre     n/a       HER2+   \n",
       "BIOKEY_13_Pre_GCGAGAAAGTGCGTGA-1       Pre     n/a       HER2+   \n",
       "BIOKEY_13_Pre_CTAGTGATCTGTGCAA-1       Pre     n/a       HER2+   \n",
       "...                                    ...     ...         ...   \n",
       "BIOKEY_24_Pre_GATTCAGTCAAGGTAA-1       Pre      NE         ER+   \n",
       "BIOKEY_24_Pre_ACATGGTGTTGGGACA-1       Pre      NE         ER+   \n",
       "BIOKEY_24_Pre_GGGACCTTCTCGCTTG-1       Pre      NE         ER+   \n",
       "BIOKEY_24_Pre_GTCGGGTGTTGATTGC-1       Pre      NE         ER+   \n",
       "BIOKEY_24_Pre_TACTCATTCTGCTTGC-1       Pre      NE         ER+   \n",
       "\n",
       "                                        cell_types           cohort  ...  \\\n",
       "BIOKEY_13_Pre_GCGGGTTCAATGAATG-1      Myeloid_cell  treatment_naive  ...   \n",
       "BIOKEY_13_Pre_TGGCTGGAGATCCGAG-1        Fibroblast  treatment_naive  ...   \n",
       "BIOKEY_13_Pre_TGAGCCGAGATGTGTA-1        Fibroblast  treatment_naive  ...   \n",
       "BIOKEY_13_Pre_GCGAGAAAGTGCGTGA-1        Fibroblast  treatment_naive  ...   \n",
       "BIOKEY_13_Pre_CTAGTGATCTGTGCAA-1        Fibroblast  treatment_naive  ...   \n",
       "...                                            ...              ...  ...   \n",
       "BIOKEY_24_Pre_GATTCAGTCAAGGTAA-1  Endothelial_cell  treatment_naive  ...   \n",
       "BIOKEY_24_Pre_ACATGGTGTTGGGACA-1            T_cell  treatment_naive  ...   \n",
       "BIOKEY_24_Pre_GGGACCTTCTCGCTTG-1      Myeloid_cell  treatment_naive  ...   \n",
       "BIOKEY_24_Pre_GTCGGGTGTTGATTGC-1            T_cell  treatment_naive  ...   \n",
       "BIOKEY_24_Pre_TACTCATTCTGCTTGC-1            T_cell  treatment_naive  ...   \n",
       "\n",
       "                                 sample_id_pre_post_outcome enough_cells  \\\n",
       "BIOKEY_13_Pre_GCGGGTTCAATGAATG-1          BIOKEY_13_Pre_n/a       enough   \n",
       "BIOKEY_13_Pre_TGGCTGGAGATCCGAG-1          BIOKEY_13_Pre_n/a       enough   \n",
       "BIOKEY_13_Pre_TGAGCCGAGATGTGTA-1          BIOKEY_13_Pre_n/a       enough   \n",
       "BIOKEY_13_Pre_GCGAGAAAGTGCGTGA-1          BIOKEY_13_Pre_n/a       enough   \n",
       "BIOKEY_13_Pre_CTAGTGATCTGTGCAA-1          BIOKEY_13_Pre_n/a       enough   \n",
       "...                                                     ...          ...   \n",
       "BIOKEY_24_Pre_GATTCAGTCAAGGTAA-1           BIOKEY_24_Pre_NE       enough   \n",
       "BIOKEY_24_Pre_ACATGGTGTTGGGACA-1           BIOKEY_24_Pre_NE       enough   \n",
       "BIOKEY_24_Pre_GGGACCTTCTCGCTTG-1           BIOKEY_24_Pre_NE       enough   \n",
       "BIOKEY_24_Pre_GTCGGGTGTTGATTGC-1           BIOKEY_24_Pre_NE       enough   \n",
       "BIOKEY_24_Pre_TACTCATTCTGCTTGC-1           BIOKEY_24_Pre_NE       enough   \n",
       "\n",
       "                                 Study_name Primary_or_met RNA_snn_res.0.8  \\\n",
       "BIOKEY_13_Pre_GCGGGTTCAATGAATG-1     Bassez        Primary               6   \n",
       "BIOKEY_13_Pre_TGGCTGGAGATCCGAG-1     Bassez        Primary               3   \n",
       "BIOKEY_13_Pre_TGAGCCGAGATGTGTA-1     Bassez        Primary               8   \n",
       "BIOKEY_13_Pre_GCGAGAAAGTGCGTGA-1     Bassez        Primary               3   \n",
       "BIOKEY_13_Pre_CTAGTGATCTGTGCAA-1     Bassez        Primary               5   \n",
       "...                                     ...            ...             ...   \n",
       "BIOKEY_24_Pre_GATTCAGTCAAGGTAA-1     Bassez        Primary              10   \n",
       "BIOKEY_24_Pre_ACATGGTGTTGGGACA-1     Bassez        Primary              20   \n",
       "BIOKEY_24_Pre_GGGACCTTCTCGCTTG-1     Bassez        Primary               6   \n",
       "BIOKEY_24_Pre_GTCGGGTGTTGATTGC-1     Bassez        Primary               0   \n",
       "BIOKEY_24_Pre_TACTCATTCTGCTTGC-1     Bassez        Primary               0   \n",
       "\n",
       "                                 seurat_clusters ident n_genes_by_counts  \\\n",
       "BIOKEY_13_Pre_GCGGGTTCAATGAATG-1               6     6              1918   \n",
       "BIOKEY_13_Pre_TGGCTGGAGATCCGAG-1               3     3              3438   \n",
       "BIOKEY_13_Pre_TGAGCCGAGATGTGTA-1               8     8               411   \n",
       "BIOKEY_13_Pre_GCGAGAAAGTGCGTGA-1               3     3              1588   \n",
       "BIOKEY_13_Pre_CTAGTGATCTGTGCAA-1               5     5              2180   \n",
       "...                                          ...   ...               ...   \n",
       "BIOKEY_24_Pre_GATTCAGTCAAGGTAA-1              10    10              2689   \n",
       "BIOKEY_24_Pre_ACATGGTGTTGGGACA-1              20    20              3313   \n",
       "BIOKEY_24_Pre_GGGACCTTCTCGCTTG-1               6     6               344   \n",
       "BIOKEY_24_Pre_GTCGGGTGTTGATTGC-1               0     0              1072   \n",
       "BIOKEY_24_Pre_TACTCATTCTGCTTGC-1               0     0               771   \n",
       "\n",
       "                                 total_counts n_genes  \n",
       "BIOKEY_13_Pre_GCGGGTTCAATGAATG-1       4986.0    1918  \n",
       "BIOKEY_13_Pre_TGGCTGGAGATCCGAG-1      10818.0    3438  \n",
       "BIOKEY_13_Pre_TGAGCCGAGATGTGTA-1        646.0     411  \n",
       "BIOKEY_13_Pre_GCGAGAAAGTGCGTGA-1       3564.0    1588  \n",
       "BIOKEY_13_Pre_CTAGTGATCTGTGCAA-1       7016.0    2180  \n",
       "...                                       ...     ...  \n",
       "BIOKEY_24_Pre_GATTCAGTCAAGGTAA-1       8436.0    2689  \n",
       "BIOKEY_24_Pre_ACATGGTGTTGGGACA-1      13452.0    3313  \n",
       "BIOKEY_24_Pre_GGGACCTTCTCGCTTG-1        506.0     344  \n",
       "BIOKEY_24_Pre_GTCGGGTGTTGATTGC-1       3094.0    1072  \n",
       "BIOKEY_24_Pre_TACTCATTCTGCTTGC-1       1471.0     771  \n",
       "\n",
       "[41102 rows x 25 columns]"
      ]
     },
     "execution_count": 12,
     "metadata": {},
     "output_type": "execute_result"
    }
   ],
   "source": [
    "adata_celltype.obs"
   ]
  },
  {
   "cell_type": "code",
   "execution_count": 13,
   "id": "9980e94c-1d8a-47f9-b4da-6fcb59d673f6",
   "metadata": {
    "tags": []
   },
   "outputs": [],
   "source": [
    "celltype = list(adata_celltype.obs.cell_types)\n",
    "cell_ids = list(adata_celltype.obs.cell_id)\n",
    "patient_ids =  list(adata_celltype.obs.donor_id_cell_types)\n",
    "counts = list(adata_celltype.obs.cell_id.value_counts())"
   ]
  },
  {
   "cell_type": "code",
   "execution_count": 14,
   "id": "956c1b7c-8d5f-43fe-b7c9-731df21b9ed8",
   "metadata": {
    "tags": []
   },
   "outputs": [],
   "source": [
    "patient_ids_unique = np.unique(patient_ids)"
   ]
  },
  {
   "cell_type": "code",
   "execution_count": null,
   "id": "5b7133a9-1a72-48e1-b04a-d079bc556457",
   "metadata": {
    "tags": []
   },
   "outputs": [],
   "source": []
  },
  {
   "cell_type": "code",
   "execution_count": 24,
   "id": "0f7c1baf-2838-46aa-91c8-af855a0cc0a1",
   "metadata": {
    "tags": []
   },
   "outputs": [],
   "source": [
    "patient_train, patient_test = train_test_split(patient_ids_unique,\n",
    "            test_size=test_size,\n",
    "            random_state=random_state \n",
    "    \n",
    "        )"
   ]
  },
  {
   "cell_type": "code",
   "execution_count": 25,
   "id": "246e200d-883b-4d5a-910e-63c96aa32243",
   "metadata": {
    "tags": []
   },
   "outputs": [],
   "source": [
    "idx = adata_celltype.obs.donor_id_cell_types.isin(patient_train)\n",
    "train_ids = list(adata_celltype[idx].obs.cell_id)\n",
    "y_train = list(adata_celltype[idx].obs.cell_types)\n",
    "\n",
    "\n",
    "idx = adata_celltype.obs.donor_id_cell_types.isin(patient_test)\n",
    "test_ids = list(adata_celltype[idx].obs.cell_id)\n",
    "y_test = list(adata_celltype[idx].obs.cell_types)\n",
    "\n"
   ]
  },
  {
   "cell_type": "code",
   "execution_count": 26,
   "id": "fa5801c5-793a-4766-8397-ad7d75191607",
   "metadata": {
    "tags": []
   },
   "outputs": [
    {
     "data": {
      "text/plain": [
       "(25355, 15747)"
      ]
     },
     "execution_count": 26,
     "metadata": {},
     "output_type": "execute_result"
    }
   ],
   "source": [
    "len(y_train), len(y_test)"
   ]
  },
  {
   "cell_type": "code",
   "execution_count": 27,
   "id": "18ae57dd-2ad6-4a2e-b499-bf881edf29a4",
   "metadata": {
    "tags": []
   },
   "outputs": [],
   "source": [
    "tobe_saved = {\n",
    "            'train_test_split': {\n",
    "                'train_ids': train_ids,\n",
    "                'test_ids': test_ids,\n",
    "                'train_labels': y_train,\n",
    "                'test_labels': y_test\n",
    "            },\n",
    "            'id_column': 'cell_id',\n",
    "            'label_column': 'celltype',\n",
    "            'random_state': random_state,\n",
    "            'test_size': test_size,\n",
    "            'oversampled': False\n",
    "        }\n",
    "\n",
    "    # Save original split\n",
    "with open(os.path.join(save_dir, 'train_test_split.json'), 'w') as f:\n",
    "        json.dump(tobe_saved, f)\n"
   ]
  },
  {
   "cell_type": "code",
   "execution_count": 28,
   "id": "e6572ce5-e722-4c97-a975-a22fa4ae2a5c",
   "metadata": {
    "tags": []
   },
   "outputs": [],
   "source": [
    "splitter = KFold(n_splits=n_splits, shuffle=True, random_state=random_state)\n"
   ]
  },
  {
   "cell_type": "code",
   "execution_count": 29,
   "id": "26d565d8-a5f0-446f-a4c9-db1e3ca0cc54",
   "metadata": {
    "tags": []
   },
   "outputs": [
    {
     "name": "stdout",
     "output_type": "stream",
     "text": [
      "0\n",
      "1\n",
      "2\n",
      "3\n",
      "4\n"
     ]
    }
   ],
   "source": [
    "cv_splits = {} \n",
    "for i, (patient_train, test_idx) in enumerate(splitter.split(patient_ids_unique)):\n",
    "    print (i)\n",
    "    idx = adata_celltype.obs.donor_id_cell_types.isin(patient_train)\n",
    "    train_ids = list(adata_celltype[idx].obs.cell_id)\n",
    "    y_train = list(adata_celltype[idx].obs.cell_types)\n",
    "\n",
    "\n",
    "    idx = adata_celltype.obs.donor_id_cell_types.isin(patient_test)\n",
    "    test_ids = list(adata_celltype[idx].obs.cell_id)\n",
    "    y_test = list(adata_celltype[idx].obs.cell_types)\n",
    "    \n",
    "    # Store the splits for this fold\n",
    "    cv_splits[f'fold_{i+1}'] = {\n",
    "        'train_ids': train_ids,\n",
    "        'test_ids': test_ids,\n",
    "        'train_labels': y_train,\n",
    "        'test_labels': y_test\n",
    "    }\n",
    "\n"
   ]
  },
  {
   "cell_type": "code",
   "execution_count": 30,
   "id": "5b6c2cf3-009d-49de-8480-5ccd8a003db8",
   "metadata": {
    "tags": []
   },
   "outputs": [],
   "source": [
    "cv_splits['id_column'] = 'cell_ids'\n",
    "cv_splits['label_column'] = 'celltype'\n",
    "cv_splits['random_state'] = random_state\n",
    "cv_splits['n_splits'] = n_splits\n",
    "\n",
    "\n",
    "# Save all splits in one file\n",
    "with open(os.path.join(save_dir, 'cv_splits.json'), 'w') as f:\n",
    "    json.dump(cv_splits, f)"
   ]
  },
  {
   "cell_type": "code",
   "execution_count": null,
   "id": "bfb299ee-c786-441e-b82c-708e5ae54eb8",
   "metadata": {},
   "outputs": [],
   "source": []
  },
  {
   "cell_type": "code",
   "execution_count": null,
   "id": "5fb3b11e-2a83-419a-bbbe-2c2cc9853930",
   "metadata": {},
   "outputs": [],
   "source": []
  }
 ],
 "metadata": {
  "environment": {
   "kernel": "scgpt-env",
   "name": "pytorch-gpu.2-2.m128",
   "type": "gcloud",
   "uri": "us-docker.pkg.dev/deeplearning-platform-release/gcr.io/pytorch-gpu.2-2:m128"
  },
  "kernelspec": {
   "display_name": "scgpt",
   "language": "python",
   "name": "scgpt-env"
  },
  "language_info": {
   "codemirror_mode": {
    "name": "ipython",
    "version": 3
   },
   "file_extension": ".py",
   "mimetype": "text/x-python",
   "name": "python",
   "nbconvert_exporter": "python",
   "pygments_lexer": "ipython3",
   "version": "3.10.18"
  }
 },
 "nbformat": 4,
 "nbformat_minor": 5
}
