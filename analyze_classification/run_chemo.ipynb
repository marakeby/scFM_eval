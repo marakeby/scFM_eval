{
 "cells": [
  {
   "cell_type": "code",
   "execution_count": 1,
   "id": "f024d1ca-9e57-457c-96c3-933e4f83f850",
   "metadata": {},
   "outputs": [],
   "source": [
    "import anndata as ad\n",
    "from os.path import join\n",
    "import pandas as pd\n",
    "import json\n",
    "import os"
   ]
  },
  {
   "cell_type": "code",
   "execution_count": 2,
   "id": "78f4fcfb-559b-4e65-bc90-a68e2441835c",
   "metadata": {
    "tags": []
   },
   "outputs": [],
   "source": [
    "import random\n",
    "import numpy as np\n",
    "import torch"
   ]
  },
  {
   "cell_type": "code",
   "execution_count": 3,
   "id": "3be6b0d9-6374-45c5-a20a-34d28f7577aa",
   "metadata": {
    "tags": []
   },
   "outputs": [],
   "source": [
    "def set_random_seed(seed: int, deterministic: bool = True) -> None:\n",
    "    \"\"\"\n",
    "    Set random seed for reproducibility across random, numpy, and torch.\n",
    "\n",
    "    Args:\n",
    "        seed (int): The seed value to set.\n",
    "        deterministic (bool): If True, sets PyTorch to deterministic mode.\n",
    "    \"\"\"\n",
    "    random.seed(seed)\n",
    "    np.random.seed(seed)\n",
    "    torch.manual_seed(seed)\n",
    "    torch.cuda.manual_seed(seed)\n",
    "    torch.cuda.manual_seed_all(seed)  # for multi-GPU setups\n",
    "\n",
    "    if deterministic:\n",
    "        torch.backends.cudnn.deterministic = True\n",
    "        torch.backends.cudnn.benchmark = False\n",
    "\n",
    "    print(f\"Random seed set to: {seed}\")"
   ]
  },
  {
   "cell_type": "code",
   "execution_count": 4,
   "id": "9eab0ff8-d4e8-49ee-9765-fa72a75beb91",
   "metadata": {
    "tags": []
   },
   "outputs": [
    {
     "name": "stdout",
     "output_type": "stream",
     "text": [
      "Random seed set to: 42\n"
     ]
    }
   ],
   "source": [
    "set_random_seed(42)"
   ]
  },
  {
   "cell_type": "code",
   "execution_count": 5,
   "id": "a6b8033e-5239-4ec8-b935-d80c6a1fffc6",
   "metadata": {
    "tags": []
   },
   "outputs": [],
   "source": [
    "%run train_utils.py"
   ]
  },
  {
   "cell_type": "markdown",
   "id": "a93a0fcb-a2a0-4f44-b132-a1fd23f08b4c",
   "metadata": {
    "tags": []
   },
   "source": [
    "## Chemo (cancer cells only)"
   ]
  },
  {
   "cell_type": "code",
   "execution_count": 6,
   "id": "3162ec22-87e0-4f49-81e9-115c9df1a6e1",
   "metadata": {
    "tags": []
   },
   "outputs": [],
   "source": [
    "def load_data(base_dir,model_name ):\n",
    "    fname = join(base_dir, model_name)\n",
    "    fname = join(fname, 'data.h5ad')\n",
    "    adata = ad.read_h5ad(fname)\n",
    "    adata_pre = adata[adata.obs['timepoint']== 'Pre']\n",
    "    return adata_pre.copy()\n",
    "\n",
    "def prepare_data(adata, id_column):\n",
    "    \n",
    "    adata.obs['sample_id'] = adata.obs[id_column]\n",
    "    adata.obs['label'] = adata.obs['cohort'].astype(str)\n",
    "    \n",
    "    label_map = {'treatment_naive': 0, 'neoadjuvant_chemo': 1}\n",
    "    adata.obs.label = adata.obs.label.map(label_map)\n",
    "    \n",
    "    return adata\n",
    "\n",
    "def run_cv(adata, train_func, cv_split_dict, embedding_col='X_geneformer'):\n",
    "    \n",
    "    id_column, n_splits, train_ids_list, test_ids_list = get_splits_cv(cv_split_dict)\n",
    "    \n",
    "    metrics_test= []\n",
    "    metrics_train= []\n",
    "    predictions_test = {}\n",
    "    predictions_train = {}\n",
    "    for i in range(n_splits):\n",
    "            fold = i+1\n",
    "            print(f'---------- fold {i+1}----------')\n",
    "            train_ids, test_ids = train_ids_list[i], test_ids_list[i]\n",
    "            print('Split data')\n",
    "            adata_train, adata_test = split_data(adata,  id_column, train_ids, test_ids)\n",
    "            X_train, y_train = adata_train.obsm[embedding_col], adata_train.obs['label'].values\n",
    "            X_test, y_test = adata_test.obsm[embedding_col], adata_test.obs['label'].values\n",
    "\n",
    "            print('Train classifier')\n",
    "            \n",
    "            pred_df_test, pred_df_train =  train_func(adata_train, adata_test, embedding_col, model_name='random_forest' )\n",
    "\n",
    "            print('Evaluations')\n",
    "\n",
    "            fold_metrics_test = get_classification_metrics(pred_df_test)\n",
    "            fold_metrics_train = get_classification_metrics(pred_df_train)\n",
    "            \n",
    "            metrics_test.append(fold_metrics_test)\n",
    "            metrics_train.append(fold_metrics_train)\n",
    "\n",
    "            predictions_train[f'fold_{fold}'] = pred_df_train\n",
    "            predictions_test[f'fold_{fold}'] = pred_df_test\n",
    "\n",
    "    pred_test_df  = pd.concat(predictions_test, names=['fold']).reset_index(level=0)\n",
    "    pred_train_df  = pd.concat(predictions_train, names=['fold']).reset_index(level=0)\n",
    "    metrics_test_df = pd.DataFrame(metrics_test)\n",
    "    metrics_train_df = pd.DataFrame(metrics_train)\n",
    "\n",
    "        \n",
    "    return  pred_train_df, pred_test_df, metrics_train_df, metrics_test_df\n",
    "\n",
    "def save_results( pred_train_df, pred_test_df, metrics_train_df, metrics_test_df, save_dir, model_name, prefix):\n",
    "    model_saving_dir = join(save_dir, model_name)\n",
    "    os.makedirs(model_saving_dir, exist_ok=True)\n",
    "    print (save_dir)\n",
    "    print (model_name)\n",
    "    \n",
    "    pred_train_df.to_csv(join(model_saving_dir, f'{prefix}_pred_train.csv'))\n",
    "    pred_test_df.to_csv(join(model_saving_dir, f'{prefix}_pred_test.csv'))\n",
    "    \n",
    "    metrics_train_df.to_csv(join(model_saving_dir, f'{prefix}_metrics_train.csv'))\n",
    "    metrics_test_df.to_csv(join(model_saving_dir, f'{prefix}_metrics_test.csv'))\n",
    "    \n",
    "def get_embd_key(model_name):\n",
    "    \n",
    "\n",
    "    if 'pca' in model_name :\n",
    "        key = f'X_pca'    \n",
    "        \n",
    "    if 'hvg' in model_name :\n",
    "        key = f'X_hvg'    \n",
    "        \n",
    "    if 'scvi' in model_name :\n",
    "        key = f'X_scVI'\n",
    "    if 'scgpt' in model_name :\n",
    "        key = f'X_scGPT'\n",
    "    if 'Geneformer' in model_name :\n",
    "        key = f'X_geneformer'\n",
    "    if 'gf' in model_name :\n",
    "        key = f'X_geneformer'\n",
    "    if 'scfoundation' in model_name :\n",
    "        key = f'X_scfoundation'\n",
    "    if 'scimilarity' in model_name:\n",
    "        key = f'X_scimilarity'\n",
    "    if 'cellplm' in model_name:\n",
    "        key = f'X_cellplm'\n",
    "    return key"
   ]
  },
  {
   "cell_type": "code",
   "execution_count": 7,
   "id": "1e94cd54-b146-40a4-bda7-5d2260861dc2",
   "metadata": {
    "tags": []
   },
   "outputs": [],
   "source": [
    "saving_dir ='./outcomes/chemo'\n",
    "os.makedirs(saving_dir, exist_ok=True)"
   ]
  },
  {
   "cell_type": "code",
   "execution_count": 51,
   "id": "bbd596ee-a0fa-49cb-8578-7938e1db9433",
   "metadata": {
    "tags": []
   },
   "outputs": [],
   "source": [
    "# base_dir ='/home/jupyter/__output_clean/brca_full/cancer_cells'\n",
    "base_dir ='/home/jupyter/__output_clean/brca_full/chemo'\n",
    "# base_dir ='/home/jupyter/__output_clean/brca_full/all_cells'\n"
   ]
  },
  {
   "cell_type": "code",
   "execution_count": null,
   "id": "a87b4b61-a8f7-442d-a2ba-c79370a54bed",
   "metadata": {
    "tags": []
   },
   "outputs": [],
   "source": []
  },
  {
   "cell_type": "code",
   "execution_count": 52,
   "id": "7625579e-4d3a-46d4-881a-be67f4893902",
   "metadata": {
    "tags": []
   },
   "outputs": [],
   "source": [
    "# gf_names = [ 'gf-6L-30M-i2048',  'Geneformer-V2-104M', 'Geneformer-V2-104M_CLcancer', 'Geneformer-V2-316M']\n",
    "# others= ['scfoundation', 'scimilarity', 'cellplm']\n",
    "# model_names = [ 'hvg',  'pca', 'scvi',  'scgpt', 'scgpt_cancer'] + gf_names"
   ]
  },
  {
   "cell_type": "code",
   "execution_count": 53,
   "id": "e6203bf1-9d77-4ee6-94df-37fd39d9837e",
   "metadata": {},
   "outputs": [],
   "source": [
    "# model_names = others + ['Geneformer-V2-104M']"
   ]
  },
  {
   "cell_type": "code",
   "execution_count": 54,
   "id": "9a5bff7b-614a-4dc3-8765-0242ca14ccfd",
   "metadata": {
    "tags": []
   },
   "outputs": [],
   "source": [
    "# model_names= ['gf-6L-30M-i2048', 'gf-6L-30M-i2048_test']"
   ]
  },
  {
   "cell_type": "code",
   "execution_count": 55,
   "id": "23e8613d-1cc0-472a-bfb1-1f4aa8052496",
   "metadata": {
    "tags": []
   },
   "outputs": [],
   "source": [
    "model_names= ['scimilarity']"
   ]
  },
  {
   "cell_type": "code",
   "execution_count": 56,
   "id": "8aa81015-9031-45a2-a76a-98f84a522788",
   "metadata": {
    "tags": []
   },
   "outputs": [],
   "source": [
    "# cv_splits_file = '/home/jupyter/scFM_eval/data_splits/brca_full/brca_chemo/cv_splits.json'\n",
    "cv_splits_file = '/home/jupyter/scFM_eval/data_splits/brca_full/brca_chemo/cv_splits_oversampled.json'\n",
    "cv_split_dict = json.load(open(cv_splits_file))"
   ]
  },
  {
   "cell_type": "code",
   "execution_count": 57,
   "id": "0504351e-76b2-4f38-a68a-b7c85e0aecc9",
   "metadata": {
    "tags": []
   },
   "outputs": [],
   "source": [
    "id_column, n_splits, train_ids_list, test_ids_list = get_splits_cv(cv_split_dict)"
   ]
  },
  {
   "cell_type": "code",
   "execution_count": 58,
   "id": "de64bdaf-6cf0-4c7b-aca2-4905466668ce",
   "metadata": {
    "tags": []
   },
   "outputs": [],
   "source": [
    "# adata.obs['label'].dtype"
   ]
  },
  {
   "cell_type": "code",
   "execution_count": 59,
   "id": "5d149603-2d2d-43be-8515-f17241446b57",
   "metadata": {
    "tags": []
   },
   "outputs": [],
   "source": [
    "# adata.obs['label'].unique()"
   ]
  },
  {
   "cell_type": "code",
   "execution_count": 60,
   "id": "0c054bc8-386b-4849-8501-b72fd96e992e",
   "metadata": {
    "tags": []
   },
   "outputs": [],
   "source": [
    "# adata"
   ]
  },
  {
   "cell_type": "code",
   "execution_count": 61,
   "id": "3c274eda-d98d-4ada-af42-73a132e1d405",
   "metadata": {
    "tags": []
   },
   "outputs": [],
   "source": [
    "# test_ids_fold_0 = test_ids_list[0]"
   ]
  },
  {
   "cell_type": "code",
   "execution_count": 62,
   "id": "7ffaa5a0-5d93-403a-adea-5f049b3fe246",
   "metadata": {
    "tags": []
   },
   "outputs": [],
   "source": [
    "# id_column"
   ]
  },
  {
   "cell_type": "code",
   "execution_count": 63,
   "id": "dc0fd50b-6e7f-4ba7-8499-eaaa3c840641",
   "metadata": {
    "tags": []
   },
   "outputs": [],
   "source": [
    "# adata_test = adata[adata.obs[id_column].isin(test_ids_fold_0)]"
   ]
  },
  {
   "cell_type": "code",
   "execution_count": 64,
   "id": "6b36f118-8114-4ae8-a7d9-04db01e9218d",
   "metadata": {
    "tags": []
   },
   "outputs": [],
   "source": [
    "# adata.obs.groupby('donor_id')['cell_id'].count()"
   ]
  },
  {
   "cell_type": "code",
   "execution_count": 65,
   "id": "207f11f4-23e5-4213-ac74-4f3e700dd2fb",
   "metadata": {
    "tags": []
   },
   "outputs": [],
   "source": [
    "# adata_test.obs.groupby('donor_id')['cell_id'].count()"
   ]
  },
  {
   "cell_type": "code",
   "execution_count": 66,
   "id": "2f7d339e-4a52-44eb-8b7a-1ad8205541d2",
   "metadata": {
    "tags": []
   },
   "outputs": [
    {
     "data": {
      "text/plain": [
       "True"
      ]
     },
     "execution_count": 66,
     "metadata": {},
     "output_type": "execute_result"
    }
   ],
   "source": [
    "'X_scimilarity' in adata.obsm"
   ]
  },
  {
   "cell_type": "code",
   "execution_count": 67,
   "id": "cb84f590-a8c9-4ba9-96b2-d6f524d2444b",
   "metadata": {
    "collapsed": true,
    "jupyter": {
     "outputs_hidden": true
    },
    "tags": []
   },
   "outputs": [
    {
     "name": "stdout",
     "output_type": "stream",
     "text": [
      "scimilarity\n",
      "---------- fold 1----------\n",
      "Split data\n",
      "Train classifier\n",
      "Training model (Multi instance Learning (MIL))\n",
      "Epoch 001 | train_loss=0.6581 | train_loss=0.6581 | no_improve=0/20\n",
      "Epoch 002 | train_loss=0.6044 | train_loss=0.6044 | no_improve=0/20\n",
      "Epoch 003 | train_loss=0.5593 | train_loss=0.5593 | no_improve=0/20\n",
      "Epoch 004 | train_loss=0.5429 | train_loss=0.5429 | no_improve=0/20\n",
      "Epoch 005 | train_loss=0.5309 | train_loss=0.5309 | no_improve=0/20\n",
      "Epoch 006 | train_loss=0.5256 | train_loss=0.5256 | no_improve=0/20\n",
      "Epoch 007 | train_loss=0.5317 | train_loss=0.5317 | no_improve=1/20\n",
      "Epoch 008 | train_loss=0.5208 | train_loss=0.5208 | no_improve=0/20\n",
      "Epoch 009 | train_loss=0.5198 | train_loss=0.5198 | no_improve=0/20\n",
      "Epoch 010 | train_loss=0.5174 | train_loss=0.5174 | no_improve=0/20\n",
      "Epoch 011 | train_loss=0.5135 | train_loss=0.5135 | no_improve=0/20\n",
      "Epoch 012 | train_loss=0.5031 | train_loss=0.5031 | no_improve=0/20\n",
      "Epoch 013 | train_loss=0.4995 | train_loss=0.4995 | no_improve=0/20\n",
      "Epoch 014 | train_loss=0.4902 | train_loss=0.4902 | no_improve=0/20\n",
      "Epoch 015 | train_loss=0.5256 | train_loss=0.5256 | no_improve=1/20\n",
      "Epoch 016 | train_loss=0.5140 | train_loss=0.5140 | no_improve=2/20\n",
      "Epoch 017 | train_loss=0.4871 | train_loss=0.4871 | no_improve=0/20\n",
      "Epoch 018 | train_loss=0.4680 | train_loss=0.4680 | no_improve=0/20\n",
      "Epoch 019 | train_loss=0.4659 | train_loss=0.4659 | no_improve=0/20\n",
      "Epoch 020 | train_loss=0.4814 | train_loss=0.4814 | no_improve=1/20\n",
      "Epoch 021 | train_loss=0.4334 | train_loss=0.4334 | no_improve=0/20\n",
      "Epoch 022 | train_loss=0.4208 | train_loss=0.4208 | no_improve=0/20\n",
      "Epoch 023 | train_loss=0.4036 | train_loss=0.4036 | no_improve=0/20\n",
      "Epoch 024 | train_loss=0.3861 | train_loss=0.3861 | no_improve=0/20\n",
      "Epoch 025 | train_loss=0.3705 | train_loss=0.3705 | no_improve=0/20\n",
      "Epoch 026 | train_loss=0.3397 | train_loss=0.3397 | no_improve=0/20\n",
      "Epoch 027 | train_loss=0.3308 | train_loss=0.3308 | no_improve=0/20\n",
      "Epoch 028 | train_loss=0.3245 | train_loss=0.3245 | no_improve=0/20\n",
      "Epoch 029 | train_loss=0.3196 | train_loss=0.3196 | no_improve=0/20\n",
      "Epoch 030 | train_loss=0.3269 | train_loss=0.3269 | no_improve=1/20\n",
      "Epoch 031 | train_loss=0.2965 | train_loss=0.2965 | no_improve=0/20\n",
      "Epoch 032 | train_loss=0.2521 | train_loss=0.2521 | no_improve=0/20\n",
      "Epoch 033 | train_loss=0.2535 | train_loss=0.2535 | no_improve=1/20\n",
      "Epoch 034 | train_loss=0.2424 | train_loss=0.2424 | no_improve=0/20\n",
      "Epoch 035 | train_loss=0.2183 | train_loss=0.2183 | no_improve=0/20\n",
      "Epoch 036 | train_loss=0.2050 | train_loss=0.2050 | no_improve=0/20\n",
      "Epoch 037 | train_loss=0.2018 | train_loss=0.2018 | no_improve=0/20\n",
      "Epoch 038 | train_loss=0.2319 | train_loss=0.2319 | no_improve=1/20\n",
      "Epoch 039 | train_loss=0.1822 | train_loss=0.1822 | no_improve=0/20\n",
      "Epoch 040 | train_loss=0.1681 | train_loss=0.1681 | no_improve=0/20\n",
      "Epoch 041 | train_loss=0.1519 | train_loss=0.1519 | no_improve=0/20\n",
      "Epoch 042 | train_loss=0.1418 | train_loss=0.1418 | no_improve=0/20\n",
      "Epoch 043 | train_loss=0.1321 | train_loss=0.1321 | no_improve=0/20\n",
      "Epoch 044 | train_loss=0.1270 | train_loss=0.1270 | no_improve=0/20\n",
      "Epoch 045 | train_loss=0.1178 | train_loss=0.1178 | no_improve=0/20\n",
      "Epoch 046 | train_loss=0.1132 | train_loss=0.1132 | no_improve=0/20\n",
      "Epoch 047 | train_loss=0.1069 | train_loss=0.1069 | no_improve=0/20\n",
      "Epoch 048 | train_loss=0.0996 | train_loss=0.0996 | no_improve=0/20\n",
      "Epoch 049 | train_loss=0.0942 | train_loss=0.0942 | no_improve=0/20\n",
      "Epoch 050 | train_loss=0.0877 | train_loss=0.0877 | no_improve=0/20\n",
      "Epoch 051 | train_loss=0.0852 | train_loss=0.0852 | no_improve=0/20\n",
      "Epoch 052 | train_loss=0.0771 | train_loss=0.0771 | no_improve=0/20\n",
      "Epoch 053 | train_loss=0.0772 | train_loss=0.0772 | no_improve=1/20\n",
      "Epoch 054 | train_loss=0.0705 | train_loss=0.0705 | no_improve=0/20\n",
      "Epoch 055 | train_loss=0.0635 | train_loss=0.0635 | no_improve=0/20\n",
      "Epoch 056 | train_loss=0.0604 | train_loss=0.0604 | no_improve=0/20\n",
      "Epoch 057 | train_loss=0.0587 | train_loss=0.0587 | no_improve=0/20\n",
      "Epoch 058 | train_loss=0.0557 | train_loss=0.0557 | no_improve=0/20\n",
      "Epoch 059 | train_loss=0.0573 | train_loss=0.0573 | no_improve=1/20\n",
      "Epoch 060 | train_loss=0.0489 | train_loss=0.0489 | no_improve=0/20\n",
      "Epoch 061 | train_loss=0.0499 | train_loss=0.0499 | no_improve=1/20\n",
      "Epoch 062 | train_loss=0.0499 | train_loss=0.0499 | no_improve=2/20\n",
      "Epoch 063 | train_loss=0.0393 | train_loss=0.0393 | no_improve=0/20\n",
      "Epoch 064 | train_loss=0.0382 | train_loss=0.0382 | no_improve=0/20\n",
      "Epoch 065 | train_loss=0.0334 | train_loss=0.0334 | no_improve=0/20\n",
      "Epoch 066 | train_loss=0.0314 | train_loss=0.0314 | no_improve=0/20\n",
      "Epoch 067 | train_loss=0.0291 | train_loss=0.0291 | no_improve=0/20\n",
      "Epoch 068 | train_loss=0.0271 | train_loss=0.0271 | no_improve=0/20\n",
      "Epoch 069 | train_loss=0.0256 | train_loss=0.0256 | no_improve=0/20\n",
      "Epoch 070 | train_loss=0.0245 | train_loss=0.0245 | no_improve=0/20\n",
      "Epoch 071 | train_loss=0.0229 | train_loss=0.0229 | no_improve=0/20\n",
      "Epoch 072 | train_loss=0.0215 | train_loss=0.0215 | no_improve=0/20\n",
      "Epoch 073 | train_loss=0.0205 | train_loss=0.0205 | no_improve=0/20\n",
      "Epoch 074 | train_loss=0.0191 | train_loss=0.0191 | no_improve=0/20\n",
      "Epoch 075 | train_loss=0.0183 | train_loss=0.0183 | no_improve=0/20\n",
      "Epoch 076 | train_loss=0.0177 | train_loss=0.0177 | no_improve=0/20\n",
      "Epoch 077 | train_loss=0.0160 | train_loss=0.0160 | no_improve=0/20\n",
      "Epoch 078 | train_loss=0.0157 | train_loss=0.0157 | no_improve=0/20\n",
      "Epoch 079 | train_loss=0.0150 | train_loss=0.0150 | no_improve=0/20\n",
      "Epoch 080 | train_loss=0.0145 | train_loss=0.0145 | no_improve=0/20\n",
      "Epoch 081 | train_loss=0.0131 | train_loss=0.0131 | no_improve=0/20\n",
      "Epoch 082 | train_loss=0.0130 | train_loss=0.0130 | no_improve=0/20\n",
      "Epoch 083 | train_loss=0.0121 | train_loss=0.0121 | no_improve=0/20\n",
      "Epoch 084 | train_loss=0.0121 | train_loss=0.0121 | no_improve=0/20\n",
      "Epoch 085 | train_loss=0.0109 | train_loss=0.0109 | no_improve=0/20\n",
      "Epoch 086 | train_loss=0.0107 | train_loss=0.0107 | no_improve=0/20\n",
      "Epoch 087 | train_loss=0.0100 | train_loss=0.0100 | no_improve=0/20\n",
      "Epoch 088 | train_loss=0.0095 | train_loss=0.0095 | no_improve=0/20\n",
      "Epoch 089 | train_loss=0.0091 | train_loss=0.0091 | no_improve=0/20\n",
      "Epoch 090 | train_loss=0.0086 | train_loss=0.0086 | no_improve=0/20\n",
      "Epoch 091 | train_loss=0.0083 | train_loss=0.0083 | no_improve=0/20\n",
      "Epoch 092 | train_loss=0.0080 | train_loss=0.0080 | no_improve=0/20\n",
      "Epoch 093 | train_loss=0.0077 | train_loss=0.0077 | no_improve=0/20\n",
      "Epoch 094 | train_loss=0.0074 | train_loss=0.0074 | no_improve=0/20\n",
      "Epoch 095 | train_loss=0.0072 | train_loss=0.0072 | no_improve=0/20\n",
      "Epoch 096 | train_loss=0.0068 | train_loss=0.0068 | no_improve=0/20\n",
      "Epoch 097 | train_loss=0.0065 | train_loss=0.0065 | no_improve=0/20\n",
      "Epoch 098 | train_loss=0.0063 | train_loss=0.0063 | no_improve=0/20\n",
      "Epoch 099 | train_loss=0.0060 | train_loss=0.0060 | no_improve=0/20\n",
      "Epoch 100 | train_loss=0.0058 | train_loss=0.0058 | no_improve=0/20\n",
      "Evaluations\n",
      "---------- fold 2----------\n",
      "Split data\n",
      "Train classifier\n",
      "Training model (Multi instance Learning (MIL))\n",
      "Epoch 001 | train_loss=0.6499 | train_loss=0.6499 | no_improve=0/20\n",
      "Epoch 002 | train_loss=0.5798 | train_loss=0.5798 | no_improve=0/20\n",
      "Epoch 003 | train_loss=0.5140 | train_loss=0.5140 | no_improve=0/20\n",
      "Epoch 004 | train_loss=0.4906 | train_loss=0.4906 | no_improve=0/20\n",
      "Epoch 005 | train_loss=0.4797 | train_loss=0.4797 | no_improve=0/20\n",
      "Epoch 006 | train_loss=0.4704 | train_loss=0.4704 | no_improve=0/20\n",
      "Epoch 007 | train_loss=0.4683 | train_loss=0.4683 | no_improve=0/20\n",
      "Epoch 008 | train_loss=0.4611 | train_loss=0.4611 | no_improve=0/20\n",
      "Epoch 009 | train_loss=0.4614 | train_loss=0.4614 | no_improve=1/20\n",
      "Epoch 010 | train_loss=0.4526 | train_loss=0.4526 | no_improve=0/20\n",
      "Epoch 011 | train_loss=0.4483 | train_loss=0.4483 | no_improve=0/20\n",
      "Epoch 012 | train_loss=0.4390 | train_loss=0.4390 | no_improve=0/20\n",
      "Epoch 013 | train_loss=0.4433 | train_loss=0.4433 | no_improve=1/20\n",
      "Epoch 014 | train_loss=0.4320 | train_loss=0.4320 | no_improve=0/20\n",
      "Epoch 015 | train_loss=0.4776 | train_loss=0.4776 | no_improve=1/20\n",
      "Epoch 016 | train_loss=0.4504 | train_loss=0.4504 | no_improve=2/20\n",
      "Epoch 017 | train_loss=0.4256 | train_loss=0.4256 | no_improve=0/20\n",
      "Epoch 018 | train_loss=0.4114 | train_loss=0.4114 | no_improve=0/20\n",
      "Epoch 019 | train_loss=0.4154 | train_loss=0.4154 | no_improve=1/20\n",
      "Epoch 020 | train_loss=0.4075 | train_loss=0.4075 | no_improve=0/20\n",
      "Epoch 021 | train_loss=0.3850 | train_loss=0.3850 | no_improve=0/20\n",
      "Epoch 022 | train_loss=0.3767 | train_loss=0.3767 | no_improve=0/20\n",
      "Epoch 023 | train_loss=0.3842 | train_loss=0.3842 | no_improve=1/20\n",
      "Epoch 024 | train_loss=0.3612 | train_loss=0.3612 | no_improve=0/20\n",
      "Epoch 025 | train_loss=0.3444 | train_loss=0.3444 | no_improve=0/20\n",
      "Epoch 026 | train_loss=0.3479 | train_loss=0.3479 | no_improve=1/20\n",
      "Epoch 027 | train_loss=0.3520 | train_loss=0.3520 | no_improve=2/20\n",
      "Epoch 028 | train_loss=0.3155 | train_loss=0.3155 | no_improve=0/20\n",
      "Epoch 029 | train_loss=0.2986 | train_loss=0.2986 | no_improve=0/20\n",
      "Epoch 030 | train_loss=0.3232 | train_loss=0.3232 | no_improve=1/20\n",
      "Epoch 031 | train_loss=0.2620 | train_loss=0.2620 | no_improve=0/20\n",
      "Epoch 032 | train_loss=0.2927 | train_loss=0.2927 | no_improve=1/20\n",
      "Epoch 033 | train_loss=0.2726 | train_loss=0.2726 | no_improve=2/20\n",
      "Epoch 034 | train_loss=0.2171 | train_loss=0.2171 | no_improve=0/20\n",
      "Epoch 035 | train_loss=0.1944 | train_loss=0.1944 | no_improve=0/20\n",
      "Epoch 036 | train_loss=0.1910 | train_loss=0.1910 | no_improve=0/20\n",
      "Epoch 037 | train_loss=0.1834 | train_loss=0.1834 | no_improve=0/20\n",
      "Epoch 038 | train_loss=0.1227 | train_loss=0.1227 | no_improve=0/20\n",
      "Epoch 039 | train_loss=0.1025 | train_loss=0.1025 | no_improve=0/20\n",
      "Epoch 040 | train_loss=0.0875 | train_loss=0.0875 | no_improve=0/20\n",
      "Epoch 041 | train_loss=0.0789 | train_loss=0.0789 | no_improve=0/20\n",
      "Epoch 042 | train_loss=0.0673 | train_loss=0.0673 | no_improve=0/20\n",
      "Epoch 043 | train_loss=0.0585 | train_loss=0.0585 | no_improve=0/20\n",
      "Epoch 044 | train_loss=0.0523 | train_loss=0.0523 | no_improve=0/20\n",
      "Epoch 045 | train_loss=0.0466 | train_loss=0.0466 | no_improve=0/20\n",
      "Epoch 046 | train_loss=0.0420 | train_loss=0.0420 | no_improve=0/20\n",
      "Epoch 047 | train_loss=0.0390 | train_loss=0.0390 | no_improve=0/20\n",
      "Epoch 048 | train_loss=0.0356 | train_loss=0.0356 | no_improve=0/20\n",
      "Epoch 049 | train_loss=0.0323 | train_loss=0.0323 | no_improve=0/20\n",
      "Epoch 050 | train_loss=0.0285 | train_loss=0.0285 | no_improve=0/20\n",
      "Epoch 051 | train_loss=0.0255 | train_loss=0.0255 | no_improve=0/20\n",
      "Epoch 052 | train_loss=0.0237 | train_loss=0.0237 | no_improve=0/20\n",
      "Epoch 053 | train_loss=0.0218 | train_loss=0.0218 | no_improve=0/20\n",
      "Epoch 054 | train_loss=0.0203 | train_loss=0.0203 | no_improve=0/20\n",
      "Epoch 055 | train_loss=0.0190 | train_loss=0.0190 | no_improve=0/20\n",
      "Epoch 056 | train_loss=0.0177 | train_loss=0.0177 | no_improve=0/20\n",
      "Epoch 057 | train_loss=0.0166 | train_loss=0.0166 | no_improve=0/20\n",
      "Epoch 058 | train_loss=0.0165 | train_loss=0.0165 | no_improve=0/20\n",
      "Epoch 059 | train_loss=0.0147 | train_loss=0.0147 | no_improve=0/20\n",
      "Epoch 060 | train_loss=0.0138 | train_loss=0.0138 | no_improve=0/20\n",
      "Epoch 061 | train_loss=0.0132 | train_loss=0.0132 | no_improve=0/20\n",
      "Epoch 062 | train_loss=0.0124 | train_loss=0.0124 | no_improve=0/20\n",
      "Epoch 063 | train_loss=0.0118 | train_loss=0.0118 | no_improve=0/20\n",
      "Epoch 064 | train_loss=0.0113 | train_loss=0.0113 | no_improve=0/20\n",
      "Epoch 065 | train_loss=0.0107 | train_loss=0.0107 | no_improve=0/20\n",
      "Epoch 066 | train_loss=0.0101 | train_loss=0.0101 | no_improve=0/20\n",
      "Epoch 067 | train_loss=0.0095 | train_loss=0.0095 | no_improve=0/20\n",
      "Epoch 068 | train_loss=0.0091 | train_loss=0.0091 | no_improve=0/20\n",
      "Epoch 069 | train_loss=0.0087 | train_loss=0.0087 | no_improve=0/20\n",
      "Epoch 070 | train_loss=0.0083 | train_loss=0.0083 | no_improve=0/20\n",
      "Epoch 071 | train_loss=0.0079 | train_loss=0.0079 | no_improve=0/20\n",
      "Epoch 072 | train_loss=0.0077 | train_loss=0.0077 | no_improve=0/20\n",
      "Epoch 073 | train_loss=0.0073 | train_loss=0.0073 | no_improve=0/20\n",
      "Epoch 074 | train_loss=0.0070 | train_loss=0.0070 | no_improve=0/20\n",
      "Epoch 075 | train_loss=0.0068 | train_loss=0.0068 | no_improve=0/20\n",
      "Epoch 076 | train_loss=0.0065 | train_loss=0.0065 | no_improve=0/20\n",
      "Epoch 077 | train_loss=0.0062 | train_loss=0.0062 | no_improve=0/20\n",
      "Epoch 078 | train_loss=0.0059 | train_loss=0.0059 | no_improve=0/20\n",
      "Epoch 079 | train_loss=0.0057 | train_loss=0.0057 | no_improve=0/20\n",
      "Epoch 080 | train_loss=0.0055 | train_loss=0.0055 | no_improve=0/20\n",
      "Epoch 081 | train_loss=0.0053 | train_loss=0.0053 | no_improve=0/20\n",
      "Epoch 082 | train_loss=0.0051 | train_loss=0.0051 | no_improve=0/20\n",
      "Epoch 083 | train_loss=0.0048 | train_loss=0.0048 | no_improve=0/20\n",
      "Epoch 084 | train_loss=0.0047 | train_loss=0.0047 | no_improve=0/20\n",
      "Epoch 085 | train_loss=0.0045 | train_loss=0.0045 | no_improve=0/20\n",
      "Epoch 086 | train_loss=0.0043 | train_loss=0.0043 | no_improve=0/20\n",
      "Epoch 087 | train_loss=0.0043 | train_loss=0.0043 | no_improve=0/20\n",
      "Epoch 088 | train_loss=0.0041 | train_loss=0.0041 | no_improve=0/20\n",
      "Epoch 089 | train_loss=0.0040 | train_loss=0.0040 | no_improve=0/20\n",
      "Epoch 090 | train_loss=0.0038 | train_loss=0.0038 | no_improve=0/20\n",
      "Epoch 091 | train_loss=0.0037 | train_loss=0.0037 | no_improve=0/20\n",
      "Epoch 092 | train_loss=0.0036 | train_loss=0.0036 | no_improve=0/20\n",
      "Epoch 093 | train_loss=0.0035 | train_loss=0.0035 | no_improve=0/20\n",
      "Epoch 094 | train_loss=0.0033 | train_loss=0.0033 | no_improve=0/20\n",
      "Epoch 095 | train_loss=0.0032 | train_loss=0.0032 | no_improve=0/20\n",
      "Epoch 096 | train_loss=0.0031 | train_loss=0.0031 | no_improve=0/20\n",
      "Epoch 097 | train_loss=0.0030 | train_loss=0.0030 | no_improve=0/20\n",
      "Epoch 098 | train_loss=0.0029 | train_loss=0.0029 | no_improve=0/20\n",
      "Epoch 099 | train_loss=0.0028 | train_loss=0.0028 | no_improve=0/20\n",
      "Epoch 100 | train_loss=0.0028 | train_loss=0.0028 | no_improve=0/20\n",
      "Evaluations\n",
      "---------- fold 3----------\n",
      "Split data\n",
      "Train classifier\n",
      "Training model (Multi instance Learning (MIL))\n",
      "Epoch 001 | train_loss=0.6500 | train_loss=0.6500 | no_improve=0/20\n",
      "Epoch 002 | train_loss=0.5793 | train_loss=0.5793 | no_improve=0/20\n",
      "Epoch 003 | train_loss=0.5136 | train_loss=0.5136 | no_improve=0/20\n",
      "Epoch 004 | train_loss=0.4918 | train_loss=0.4918 | no_improve=0/20\n",
      "Epoch 005 | train_loss=0.4827 | train_loss=0.4827 | no_improve=0/20\n",
      "Epoch 006 | train_loss=0.4745 | train_loss=0.4745 | no_improve=0/20\n",
      "Epoch 007 | train_loss=0.4735 | train_loss=0.4735 | no_improve=0/20\n",
      "Epoch 008 | train_loss=0.4671 | train_loss=0.4671 | no_improve=0/20\n",
      "Epoch 009 | train_loss=0.4659 | train_loss=0.4659 | no_improve=0/20\n",
      "Epoch 010 | train_loss=0.4578 | train_loss=0.4578 | no_improve=0/20\n",
      "Epoch 011 | train_loss=0.4529 | train_loss=0.4529 | no_improve=0/20\n",
      "Epoch 012 | train_loss=0.4476 | train_loss=0.4476 | no_improve=0/20\n",
      "Epoch 013 | train_loss=0.4396 | train_loss=0.4396 | no_improve=0/20\n",
      "Epoch 014 | train_loss=0.4256 | train_loss=0.4256 | no_improve=0/20\n",
      "Epoch 015 | train_loss=0.4690 | train_loss=0.4690 | no_improve=1/20\n",
      "Epoch 016 | train_loss=0.4487 | train_loss=0.4487 | no_improve=2/20\n",
      "Epoch 017 | train_loss=0.4045 | train_loss=0.4045 | no_improve=0/20\n",
      "Epoch 018 | train_loss=0.3895 | train_loss=0.3895 | no_improve=0/20\n",
      "Epoch 019 | train_loss=0.3854 | train_loss=0.3854 | no_improve=0/20\n",
      "Epoch 020 | train_loss=0.4012 | train_loss=0.4012 | no_improve=1/20\n",
      "Epoch 021 | train_loss=0.3343 | train_loss=0.3343 | no_improve=0/20\n",
      "Epoch 022 | train_loss=0.3147 | train_loss=0.3147 | no_improve=0/20\n",
      "Epoch 023 | train_loss=0.3332 | train_loss=0.3332 | no_improve=1/20\n",
      "Epoch 024 | train_loss=0.3034 | train_loss=0.3034 | no_improve=0/20\n",
      "Epoch 025 | train_loss=0.2320 | train_loss=0.2320 | no_improve=0/20\n",
      "Epoch 026 | train_loss=0.2342 | train_loss=0.2342 | no_improve=1/20\n",
      "Epoch 027 | train_loss=0.1779 | train_loss=0.1779 | no_improve=0/20\n",
      "Epoch 028 | train_loss=0.1485 | train_loss=0.1485 | no_improve=0/20\n",
      "Epoch 029 | train_loss=0.1271 | train_loss=0.1271 | no_improve=0/20\n",
      "Epoch 030 | train_loss=0.1065 | train_loss=0.1065 | no_improve=0/20\n",
      "Epoch 031 | train_loss=0.0915 | train_loss=0.0915 | no_improve=0/20\n",
      "Epoch 032 | train_loss=0.0806 | train_loss=0.0806 | no_improve=0/20\n",
      "Epoch 033 | train_loss=0.0700 | train_loss=0.0700 | no_improve=0/20\n",
      "Epoch 034 | train_loss=0.0615 | train_loss=0.0615 | no_improve=0/20\n",
      "Epoch 035 | train_loss=0.0548 | train_loss=0.0548 | no_improve=0/20\n",
      "Epoch 036 | train_loss=0.0494 | train_loss=0.0494 | no_improve=0/20\n",
      "Epoch 037 | train_loss=0.0447 | train_loss=0.0447 | no_improve=0/20\n",
      "Epoch 038 | train_loss=0.0404 | train_loss=0.0404 | no_improve=0/20\n",
      "Epoch 039 | train_loss=0.0370 | train_loss=0.0370 | no_improve=0/20\n",
      "Epoch 040 | train_loss=0.0336 | train_loss=0.0336 | no_improve=0/20\n",
      "Epoch 041 | train_loss=0.0316 | train_loss=0.0316 | no_improve=0/20\n",
      "Epoch 042 | train_loss=0.0285 | train_loss=0.0285 | no_improve=0/20\n",
      "Epoch 043 | train_loss=0.0261 | train_loss=0.0261 | no_improve=0/20\n",
      "Epoch 044 | train_loss=0.0239 | train_loss=0.0239 | no_improve=0/20\n",
      "Epoch 045 | train_loss=0.0220 | train_loss=0.0220 | no_improve=0/20\n",
      "Epoch 046 | train_loss=0.0206 | train_loss=0.0206 | no_improve=0/20\n",
      "Epoch 047 | train_loss=0.0187 | train_loss=0.0187 | no_improve=0/20\n",
      "Epoch 048 | train_loss=0.0171 | train_loss=0.0171 | no_improve=0/20\n",
      "Epoch 049 | train_loss=0.0160 | train_loss=0.0160 | no_improve=0/20\n",
      "Epoch 050 | train_loss=0.0147 | train_loss=0.0147 | no_improve=0/20\n",
      "Epoch 051 | train_loss=0.0134 | train_loss=0.0134 | no_improve=0/20\n",
      "Epoch 052 | train_loss=0.0126 | train_loss=0.0126 | no_improve=0/20\n",
      "Epoch 053 | train_loss=0.0117 | train_loss=0.0117 | no_improve=0/20\n",
      "Epoch 054 | train_loss=0.0109 | train_loss=0.0109 | no_improve=0/20\n",
      "Epoch 055 | train_loss=0.0102 | train_loss=0.0102 | no_improve=0/20\n",
      "Epoch 056 | train_loss=0.0097 | train_loss=0.0097 | no_improve=0/20\n",
      "Epoch 057 | train_loss=0.0092 | train_loss=0.0092 | no_improve=0/20\n",
      "Epoch 058 | train_loss=0.0088 | train_loss=0.0088 | no_improve=0/20\n",
      "Epoch 059 | train_loss=0.0080 | train_loss=0.0080 | no_improve=0/20\n",
      "Epoch 060 | train_loss=0.0076 | train_loss=0.0076 | no_improve=0/20\n",
      "Epoch 061 | train_loss=0.0072 | train_loss=0.0072 | no_improve=0/20\n",
      "Epoch 062 | train_loss=0.0068 | train_loss=0.0068 | no_improve=0/20\n",
      "Epoch 063 | train_loss=0.0064 | train_loss=0.0064 | no_improve=0/20\n",
      "Epoch 064 | train_loss=0.0062 | train_loss=0.0062 | no_improve=0/20\n",
      "Epoch 065 | train_loss=0.0058 | train_loss=0.0058 | no_improve=0/20\n",
      "Epoch 066 | train_loss=0.0054 | train_loss=0.0054 | no_improve=0/20\n",
      "Epoch 067 | train_loss=0.0052 | train_loss=0.0052 | no_improve=0/20\n",
      "Epoch 068 | train_loss=0.0050 | train_loss=0.0050 | no_improve=0/20\n",
      "Epoch 069 | train_loss=0.0047 | train_loss=0.0047 | no_improve=0/20\n",
      "Epoch 070 | train_loss=0.0045 | train_loss=0.0045 | no_improve=0/20\n",
      "Epoch 071 | train_loss=0.0043 | train_loss=0.0043 | no_improve=0/20\n",
      "Epoch 072 | train_loss=0.0042 | train_loss=0.0042 | no_improve=0/20\n",
      "Epoch 073 | train_loss=0.0040 | train_loss=0.0040 | no_improve=0/20\n",
      "Epoch 074 | train_loss=0.0038 | train_loss=0.0038 | no_improve=0/20\n",
      "Epoch 075 | train_loss=0.0037 | train_loss=0.0037 | no_improve=0/20\n",
      "Epoch 076 | train_loss=0.0035 | train_loss=0.0035 | no_improve=0/20\n",
      "Epoch 077 | train_loss=0.0034 | train_loss=0.0034 | no_improve=0/20\n",
      "Epoch 078 | train_loss=0.0032 | train_loss=0.0032 | no_improve=0/20\n",
      "Epoch 079 | train_loss=0.0031 | train_loss=0.0031 | no_improve=0/20\n",
      "Epoch 080 | train_loss=0.0030 | train_loss=0.0030 | no_improve=0/20\n",
      "Epoch 081 | train_loss=0.0029 | train_loss=0.0029 | no_improve=0/20\n",
      "Epoch 082 | train_loss=0.0028 | train_loss=0.0028 | no_improve=0/20\n",
      "Epoch 083 | train_loss=0.0027 | train_loss=0.0027 | no_improve=0/20\n",
      "Epoch 084 | train_loss=0.0026 | train_loss=0.0026 | no_improve=0/20\n",
      "Epoch 085 | train_loss=0.0025 | train_loss=0.0025 | no_improve=0/20\n",
      "Epoch 086 | train_loss=0.0024 | train_loss=0.0024 | no_improve=0/20\n",
      "Epoch 087 | train_loss=0.0024 | train_loss=0.0024 | no_improve=0/20\n",
      "Epoch 088 | train_loss=0.0023 | train_loss=0.0023 | no_improve=0/20\n",
      "Epoch 089 | train_loss=0.0022 | train_loss=0.0022 | no_improve=0/20\n",
      "Epoch 090 | train_loss=0.0021 | train_loss=0.0021 | no_improve=0/20\n",
      "Epoch 091 | train_loss=0.0021 | train_loss=0.0021 | no_improve=0/20\n",
      "Epoch 092 | train_loss=0.0020 | train_loss=0.0020 | no_improve=0/20\n",
      "Epoch 093 | train_loss=0.0019 | train_loss=0.0019 | no_improve=0/20\n",
      "Epoch 094 | train_loss=0.0019 | train_loss=0.0019 | no_improve=0/20\n",
      "Epoch 095 | train_loss=0.0018 | train_loss=0.0018 | no_improve=0/20\n",
      "Epoch 096 | train_loss=0.0018 | train_loss=0.0018 | no_improve=0/20\n",
      "Epoch 097 | train_loss=0.0017 | train_loss=0.0017 | no_improve=0/20\n",
      "Epoch 098 | train_loss=0.0017 | train_loss=0.0017 | no_improve=0/20\n",
      "Epoch 099 | train_loss=0.0016 | train_loss=0.0016 | no_improve=0/20\n",
      "Epoch 100 | train_loss=0.0016 | train_loss=0.0016 | no_improve=0/20\n",
      "Evaluations\n",
      "---------- fold 4----------\n",
      "Split data\n",
      "Train classifier\n",
      "Training model (Multi instance Learning (MIL))\n",
      "Epoch 001 | train_loss=0.6495 | train_loss=0.6495 | no_improve=0/20\n",
      "Epoch 002 | train_loss=0.5802 | train_loss=0.5802 | no_improve=0/20\n",
      "Epoch 003 | train_loss=0.5156 | train_loss=0.5156 | no_improve=0/20\n",
      "Epoch 004 | train_loss=0.4926 | train_loss=0.4926 | no_improve=0/20\n",
      "Epoch 005 | train_loss=0.4821 | train_loss=0.4821 | no_improve=0/20\n",
      "Epoch 006 | train_loss=0.4731 | train_loss=0.4731 | no_improve=0/20\n",
      "Epoch 007 | train_loss=0.4709 | train_loss=0.4709 | no_improve=0/20\n",
      "Epoch 008 | train_loss=0.4634 | train_loss=0.4634 | no_improve=0/20\n",
      "Epoch 009 | train_loss=0.4616 | train_loss=0.4616 | no_improve=0/20\n",
      "Epoch 010 | train_loss=0.4547 | train_loss=0.4547 | no_improve=0/20\n",
      "Epoch 011 | train_loss=0.4469 | train_loss=0.4469 | no_improve=0/20\n",
      "Epoch 012 | train_loss=0.4392 | train_loss=0.4392 | no_improve=0/20\n",
      "Epoch 013 | train_loss=0.4278 | train_loss=0.4278 | no_improve=0/20\n",
      "Epoch 014 | train_loss=0.4071 | train_loss=0.4071 | no_improve=0/20\n",
      "Epoch 015 | train_loss=0.4627 | train_loss=0.4627 | no_improve=1/20\n",
      "Epoch 016 | train_loss=0.4375 | train_loss=0.4375 | no_improve=2/20\n",
      "Epoch 017 | train_loss=0.3958 | train_loss=0.3958 | no_improve=0/20\n",
      "Epoch 018 | train_loss=0.3640 | train_loss=0.3640 | no_improve=0/20\n",
      "Epoch 019 | train_loss=0.3376 | train_loss=0.3376 | no_improve=0/20\n",
      "Epoch 020 | train_loss=0.3807 | train_loss=0.3807 | no_improve=1/20\n",
      "Epoch 021 | train_loss=0.2981 | train_loss=0.2981 | no_improve=0/20\n",
      "Epoch 022 | train_loss=0.2909 | train_loss=0.2909 | no_improve=0/20\n",
      "Epoch 023 | train_loss=0.2941 | train_loss=0.2941 | no_improve=1/20\n",
      "Epoch 024 | train_loss=0.2461 | train_loss=0.2461 | no_improve=0/20\n",
      "Epoch 025 | train_loss=0.2148 | train_loss=0.2148 | no_improve=0/20\n",
      "Epoch 026 | train_loss=0.1730 | train_loss=0.1730 | no_improve=0/20\n",
      "Epoch 027 | train_loss=0.1698 | train_loss=0.1698 | no_improve=0/20\n",
      "Epoch 028 | train_loss=0.1447 | train_loss=0.1447 | no_improve=0/20\n",
      "Epoch 029 | train_loss=0.1551 | train_loss=0.1551 | no_improve=1/20\n",
      "Epoch 030 | train_loss=0.1162 | train_loss=0.1162 | no_improve=0/20\n",
      "Epoch 031 | train_loss=0.1294 | train_loss=0.1294 | no_improve=1/20\n",
      "Epoch 032 | train_loss=0.0866 | train_loss=0.0866 | no_improve=0/20\n",
      "Epoch 033 | train_loss=0.0841 | train_loss=0.0841 | no_improve=0/20\n",
      "Epoch 034 | train_loss=0.0692 | train_loss=0.0692 | no_improve=0/20\n",
      "Epoch 035 | train_loss=0.0627 | train_loss=0.0627 | no_improve=0/20\n",
      "Epoch 036 | train_loss=0.0564 | train_loss=0.0564 | no_improve=0/20\n",
      "Epoch 037 | train_loss=0.0505 | train_loss=0.0505 | no_improve=0/20\n",
      "Epoch 038 | train_loss=0.0457 | train_loss=0.0457 | no_improve=0/20\n",
      "Epoch 039 | train_loss=0.0410 | train_loss=0.0410 | no_improve=0/20\n",
      "Epoch 040 | train_loss=0.0377 | train_loss=0.0377 | no_improve=0/20\n",
      "Epoch 041 | train_loss=0.0335 | train_loss=0.0335 | no_improve=0/20\n",
      "Epoch 042 | train_loss=0.0298 | train_loss=0.0298 | no_improve=0/20\n",
      "Epoch 043 | train_loss=0.0270 | train_loss=0.0270 | no_improve=0/20\n",
      "Epoch 044 | train_loss=0.0237 | train_loss=0.0237 | no_improve=0/20\n",
      "Epoch 045 | train_loss=0.0217 | train_loss=0.0217 | no_improve=0/20\n",
      "Epoch 046 | train_loss=0.0196 | train_loss=0.0196 | no_improve=0/20\n",
      "Epoch 047 | train_loss=0.0180 | train_loss=0.0180 | no_improve=0/20\n",
      "Epoch 048 | train_loss=0.0165 | train_loss=0.0165 | no_improve=0/20\n",
      "Epoch 049 | train_loss=0.0157 | train_loss=0.0157 | no_improve=0/20\n",
      "Epoch 050 | train_loss=0.0143 | train_loss=0.0143 | no_improve=0/20\n",
      "Epoch 051 | train_loss=0.0135 | train_loss=0.0135 | no_improve=0/20\n",
      "Epoch 052 | train_loss=0.0125 | train_loss=0.0125 | no_improve=0/20\n",
      "Epoch 053 | train_loss=0.0119 | train_loss=0.0119 | no_improve=0/20\n",
      "Epoch 054 | train_loss=0.0110 | train_loss=0.0110 | no_improve=0/20\n",
      "Epoch 055 | train_loss=0.0104 | train_loss=0.0104 | no_improve=0/20\n",
      "Epoch 056 | train_loss=0.0098 | train_loss=0.0098 | no_improve=0/20\n",
      "Epoch 057 | train_loss=0.0093 | train_loss=0.0093 | no_improve=0/20\n",
      "Epoch 058 | train_loss=0.0088 | train_loss=0.0088 | no_improve=0/20\n",
      "Epoch 059 | train_loss=0.0084 | train_loss=0.0084 | no_improve=0/20\n",
      "Epoch 060 | train_loss=0.0079 | train_loss=0.0079 | no_improve=0/20\n",
      "Epoch 061 | train_loss=0.0076 | train_loss=0.0076 | no_improve=0/20\n",
      "Epoch 062 | train_loss=0.0072 | train_loss=0.0072 | no_improve=0/20\n",
      "Epoch 063 | train_loss=0.0068 | train_loss=0.0068 | no_improve=0/20\n",
      "Epoch 064 | train_loss=0.0065 | train_loss=0.0065 | no_improve=0/20\n",
      "Epoch 065 | train_loss=0.0063 | train_loss=0.0063 | no_improve=0/20\n",
      "Epoch 066 | train_loss=0.0060 | train_loss=0.0060 | no_improve=0/20\n",
      "Epoch 067 | train_loss=0.0057 | train_loss=0.0057 | no_improve=0/20\n",
      "Epoch 068 | train_loss=0.0055 | train_loss=0.0055 | no_improve=0/20\n",
      "Epoch 069 | train_loss=0.0052 | train_loss=0.0052 | no_improve=0/20\n",
      "Epoch 070 | train_loss=0.0050 | train_loss=0.0050 | no_improve=0/20\n",
      "Epoch 071 | train_loss=0.0048 | train_loss=0.0048 | no_improve=0/20\n",
      "Epoch 072 | train_loss=0.0046 | train_loss=0.0046 | no_improve=0/20\n",
      "Epoch 073 | train_loss=0.0044 | train_loss=0.0044 | no_improve=0/20\n",
      "Epoch 074 | train_loss=0.0043 | train_loss=0.0043 | no_improve=0/20\n",
      "Epoch 075 | train_loss=0.0042 | train_loss=0.0042 | no_improve=0/20\n",
      "Epoch 076 | train_loss=0.0040 | train_loss=0.0040 | no_improve=0/20\n",
      "Epoch 077 | train_loss=0.0038 | train_loss=0.0038 | no_improve=0/20\n",
      "Epoch 078 | train_loss=0.0037 | train_loss=0.0037 | no_improve=0/20\n",
      "Epoch 079 | train_loss=0.0035 | train_loss=0.0035 | no_improve=0/20\n",
      "Epoch 080 | train_loss=0.0034 | train_loss=0.0034 | no_improve=0/20\n",
      "Epoch 081 | train_loss=0.0033 | train_loss=0.0033 | no_improve=0/20\n",
      "Epoch 082 | train_loss=0.0032 | train_loss=0.0032 | no_improve=0/20\n",
      "Epoch 083 | train_loss=0.0031 | train_loss=0.0031 | no_improve=0/20\n",
      "Epoch 084 | train_loss=0.0030 | train_loss=0.0030 | no_improve=0/20\n",
      "Epoch 085 | train_loss=0.0029 | train_loss=0.0029 | no_improve=0/20\n",
      "Epoch 086 | train_loss=0.0028 | train_loss=0.0028 | no_improve=0/20\n",
      "Epoch 087 | train_loss=0.0027 | train_loss=0.0027 | no_improve=0/20\n",
      "Epoch 088 | train_loss=0.0026 | train_loss=0.0026 | no_improve=0/20\n",
      "Epoch 089 | train_loss=0.0025 | train_loss=0.0025 | no_improve=0/20\n",
      "Epoch 090 | train_loss=0.0024 | train_loss=0.0024 | no_improve=0/20\n",
      "Epoch 091 | train_loss=0.0024 | train_loss=0.0024 | no_improve=0/20\n",
      "Epoch 092 | train_loss=0.0023 | train_loss=0.0023 | no_improve=0/20\n",
      "Epoch 093 | train_loss=0.0022 | train_loss=0.0022 | no_improve=0/20\n",
      "Epoch 094 | train_loss=0.0022 | train_loss=0.0022 | no_improve=0/20\n",
      "Epoch 095 | train_loss=0.0021 | train_loss=0.0021 | no_improve=0/20\n",
      "Epoch 096 | train_loss=0.0020 | train_loss=0.0020 | no_improve=0/20\n",
      "Epoch 097 | train_loss=0.0020 | train_loss=0.0020 | no_improve=0/20\n",
      "Epoch 098 | train_loss=0.0019 | train_loss=0.0019 | no_improve=0/20\n",
      "Epoch 099 | train_loss=0.0019 | train_loss=0.0019 | no_improve=0/20\n",
      "Epoch 100 | train_loss=0.0018 | train_loss=0.0018 | no_improve=0/20\n",
      "Evaluations\n",
      "---------- fold 5----------\n",
      "Split data\n",
      "Train classifier\n",
      "Training model (Multi instance Learning (MIL))\n",
      "Epoch 001 | train_loss=0.6546 | train_loss=0.6546 | no_improve=0/20\n",
      "Epoch 002 | train_loss=0.5975 | train_loss=0.5975 | no_improve=0/20\n",
      "Epoch 003 | train_loss=0.5445 | train_loss=0.5445 | no_improve=0/20\n",
      "Epoch 004 | train_loss=0.5426 | train_loss=0.5426 | no_improve=0/20\n",
      "Epoch 005 | train_loss=0.5138 | train_loss=0.5138 | no_improve=0/20\n",
      "Epoch 006 | train_loss=0.5122 | train_loss=0.5122 | no_improve=0/20\n",
      "Epoch 007 | train_loss=0.5129 | train_loss=0.5129 | no_improve=1/20\n",
      "Epoch 008 | train_loss=0.5083 | train_loss=0.5083 | no_improve=0/20\n",
      "Epoch 009 | train_loss=0.4937 | train_loss=0.4937 | no_improve=0/20\n",
      "Epoch 010 | train_loss=0.4890 | train_loss=0.4890 | no_improve=0/20\n",
      "Epoch 011 | train_loss=0.4861 | train_loss=0.4861 | no_improve=0/20\n",
      "Epoch 012 | train_loss=0.4762 | train_loss=0.4762 | no_improve=0/20\n",
      "Epoch 013 | train_loss=0.4517 | train_loss=0.4517 | no_improve=0/20\n",
      "Epoch 014 | train_loss=0.4402 | train_loss=0.4402 | no_improve=0/20\n",
      "Epoch 015 | train_loss=0.4366 | train_loss=0.4366 | no_improve=0/20\n",
      "Epoch 016 | train_loss=0.4038 | train_loss=0.4038 | no_improve=0/20\n",
      "Epoch 017 | train_loss=0.3681 | train_loss=0.3681 | no_improve=0/20\n",
      "Epoch 018 | train_loss=0.3401 | train_loss=0.3401 | no_improve=0/20\n",
      "Epoch 019 | train_loss=0.3086 | train_loss=0.3086 | no_improve=0/20\n",
      "Epoch 020 | train_loss=0.3022 | train_loss=0.3022 | no_improve=0/20\n",
      "Epoch 021 | train_loss=0.2533 | train_loss=0.2533 | no_improve=0/20\n",
      "Epoch 022 | train_loss=0.2433 | train_loss=0.2433 | no_improve=0/20\n",
      "Epoch 023 | train_loss=0.2260 | train_loss=0.2260 | no_improve=0/20\n",
      "Epoch 024 | train_loss=0.2175 | train_loss=0.2175 | no_improve=0/20\n",
      "Epoch 025 | train_loss=0.1953 | train_loss=0.1953 | no_improve=0/20\n",
      "Epoch 026 | train_loss=0.1643 | train_loss=0.1643 | no_improve=0/20\n",
      "Epoch 027 | train_loss=0.1525 | train_loss=0.1525 | no_improve=0/20\n",
      "Epoch 028 | train_loss=0.1409 | train_loss=0.1409 | no_improve=0/20\n",
      "Epoch 029 | train_loss=0.2008 | train_loss=0.2008 | no_improve=1/20\n",
      "Epoch 030 | train_loss=0.1957 | train_loss=0.1957 | no_improve=2/20\n",
      "Epoch 031 | train_loss=0.1381 | train_loss=0.1381 | no_improve=0/20\n",
      "Epoch 032 | train_loss=0.1324 | train_loss=0.1324 | no_improve=0/20\n",
      "Epoch 033 | train_loss=0.1044 | train_loss=0.1044 | no_improve=0/20\n",
      "Epoch 034 | train_loss=0.0958 | train_loss=0.0958 | no_improve=0/20\n",
      "Epoch 035 | train_loss=0.0883 | train_loss=0.0883 | no_improve=0/20\n",
      "Epoch 036 | train_loss=0.0688 | train_loss=0.0688 | no_improve=0/20\n",
      "Epoch 037 | train_loss=0.0575 | train_loss=0.0575 | no_improve=0/20\n",
      "Epoch 038 | train_loss=0.0524 | train_loss=0.0524 | no_improve=0/20\n",
      "Epoch 039 | train_loss=0.0478 | train_loss=0.0478 | no_improve=0/20\n",
      "Epoch 040 | train_loss=0.0438 | train_loss=0.0438 | no_improve=0/20\n",
      "Epoch 041 | train_loss=0.0409 | train_loss=0.0409 | no_improve=0/20\n",
      "Epoch 042 | train_loss=0.0383 | train_loss=0.0383 | no_improve=0/20\n",
      "Epoch 043 | train_loss=0.0355 | train_loss=0.0355 | no_improve=0/20\n",
      "Epoch 044 | train_loss=0.0332 | train_loss=0.0332 | no_improve=0/20\n",
      "Epoch 045 | train_loss=0.0310 | train_loss=0.0310 | no_improve=0/20\n",
      "Epoch 046 | train_loss=0.0292 | train_loss=0.0292 | no_improve=0/20\n",
      "Epoch 047 | train_loss=0.0275 | train_loss=0.0275 | no_improve=0/20\n",
      "Epoch 048 | train_loss=0.0261 | train_loss=0.0261 | no_improve=0/20\n",
      "Epoch 049 | train_loss=0.0244 | train_loss=0.0244 | no_improve=0/20\n",
      "Epoch 050 | train_loss=0.0231 | train_loss=0.0231 | no_improve=0/20\n",
      "Epoch 051 | train_loss=0.0217 | train_loss=0.0217 | no_improve=0/20\n",
      "Epoch 052 | train_loss=0.0206 | train_loss=0.0206 | no_improve=0/20\n",
      "Epoch 053 | train_loss=0.0196 | train_loss=0.0196 | no_improve=0/20\n",
      "Epoch 054 | train_loss=0.0184 | train_loss=0.0184 | no_improve=0/20\n",
      "Epoch 055 | train_loss=0.0179 | train_loss=0.0179 | no_improve=0/20\n",
      "Epoch 056 | train_loss=0.0169 | train_loss=0.0169 | no_improve=0/20\n",
      "Epoch 057 | train_loss=0.0159 | train_loss=0.0159 | no_improve=0/20\n",
      "Epoch 058 | train_loss=0.0151 | train_loss=0.0151 | no_improve=0/20\n",
      "Epoch 059 | train_loss=0.0142 | train_loss=0.0142 | no_improve=0/20\n",
      "Epoch 060 | train_loss=0.0137 | train_loss=0.0137 | no_improve=0/20\n",
      "Epoch 061 | train_loss=0.0132 | train_loss=0.0132 | no_improve=0/20\n",
      "Epoch 062 | train_loss=0.0124 | train_loss=0.0124 | no_improve=0/20\n",
      "Epoch 063 | train_loss=0.0120 | train_loss=0.0120 | no_improve=0/20\n",
      "Epoch 064 | train_loss=0.0113 | train_loss=0.0113 | no_improve=0/20\n",
      "Epoch 065 | train_loss=0.0110 | train_loss=0.0110 | no_improve=0/20\n",
      "Epoch 066 | train_loss=0.0105 | train_loss=0.0105 | no_improve=0/20\n",
      "Epoch 067 | train_loss=0.0100 | train_loss=0.0100 | no_improve=0/20\n",
      "Epoch 068 | train_loss=0.0096 | train_loss=0.0096 | no_improve=0/20\n",
      "Epoch 069 | train_loss=0.0093 | train_loss=0.0093 | no_improve=0/20\n",
      "Epoch 070 | train_loss=0.0089 | train_loss=0.0089 | no_improve=0/20\n",
      "Epoch 071 | train_loss=0.0084 | train_loss=0.0084 | no_improve=0/20\n",
      "Epoch 072 | train_loss=0.0082 | train_loss=0.0082 | no_improve=0/20\n",
      "Epoch 073 | train_loss=0.0079 | train_loss=0.0079 | no_improve=0/20\n",
      "Epoch 074 | train_loss=0.0076 | train_loss=0.0076 | no_improve=0/20\n",
      "Epoch 075 | train_loss=0.0073 | train_loss=0.0073 | no_improve=0/20\n",
      "Epoch 076 | train_loss=0.0071 | train_loss=0.0071 | no_improve=0/20\n",
      "Epoch 077 | train_loss=0.0067 | train_loss=0.0067 | no_improve=0/20\n",
      "Epoch 078 | train_loss=0.0065 | train_loss=0.0065 | no_improve=0/20\n",
      "Epoch 079 | train_loss=0.0063 | train_loss=0.0063 | no_improve=0/20\n",
      "Epoch 080 | train_loss=0.0060 | train_loss=0.0060 | no_improve=0/20\n",
      "Epoch 081 | train_loss=0.0058 | train_loss=0.0058 | no_improve=0/20\n",
      "Epoch 082 | train_loss=0.0056 | train_loss=0.0056 | no_improve=0/20\n",
      "Epoch 083 | train_loss=0.0054 | train_loss=0.0054 | no_improve=0/20\n",
      "Epoch 084 | train_loss=0.0052 | train_loss=0.0052 | no_improve=0/20\n",
      "Epoch 085 | train_loss=0.0051 | train_loss=0.0051 | no_improve=0/20\n",
      "Epoch 086 | train_loss=0.0048 | train_loss=0.0048 | no_improve=0/20\n",
      "Epoch 087 | train_loss=0.0047 | train_loss=0.0047 | no_improve=0/20\n",
      "Epoch 088 | train_loss=0.0045 | train_loss=0.0045 | no_improve=0/20\n",
      "Epoch 089 | train_loss=0.0045 | train_loss=0.0045 | no_improve=0/20\n",
      "Epoch 090 | train_loss=0.0043 | train_loss=0.0043 | no_improve=0/20\n",
      "Epoch 091 | train_loss=0.0041 | train_loss=0.0041 | no_improve=0/20\n",
      "Epoch 092 | train_loss=0.0040 | train_loss=0.0040 | no_improve=0/20\n",
      "Epoch 093 | train_loss=0.0038 | train_loss=0.0038 | no_improve=0/20\n",
      "Epoch 094 | train_loss=0.0037 | train_loss=0.0037 | no_improve=0/20\n",
      "Epoch 095 | train_loss=0.0036 | train_loss=0.0036 | no_improve=0/20\n",
      "Epoch 096 | train_loss=0.0035 | train_loss=0.0035 | no_improve=0/20\n",
      "Epoch 097 | train_loss=0.0034 | train_loss=0.0034 | no_improve=0/20\n",
      "Epoch 098 | train_loss=0.0033 | train_loss=0.0033 | no_improve=0/20\n",
      "Epoch 099 | train_loss=0.0032 | train_loss=0.0032 | no_improve=0/20\n",
      "Epoch 100 | train_loss=0.0031 | train_loss=0.0031 | no_improve=0/20\n",
      "Evaluations\n",
      "./outcomes/chemo\n",
      "scimilarity\n"
     ]
    },
    {
     "data": {
      "text/html": [
       "<div>\n",
       "<style scoped>\n",
       "    .dataframe tbody tr th:only-of-type {\n",
       "        vertical-align: middle;\n",
       "    }\n",
       "\n",
       "    .dataframe tbody tr th {\n",
       "        vertical-align: top;\n",
       "    }\n",
       "\n",
       "    .dataframe thead th {\n",
       "        text-align: right;\n",
       "    }\n",
       "</style>\n",
       "<table border=\"1\" class=\"dataframe\">\n",
       "  <thead>\n",
       "    <tr style=\"text-align: right;\">\n",
       "      <th></th>\n",
       "      <th>accuracy</th>\n",
       "      <th>precision</th>\n",
       "      <th>recall</th>\n",
       "      <th>f1_score</th>\n",
       "      <th>roc_auc</th>\n",
       "      <th>auprc</th>\n",
       "    </tr>\n",
       "  </thead>\n",
       "  <tbody>\n",
       "    <tr>\n",
       "      <th>scimilarity</th>\n",
       "      <td>0.821429</td>\n",
       "      <td>0.4</td>\n",
       "      <td>0.4</td>\n",
       "      <td>0.366667</td>\n",
       "      <td>0.666667</td>\n",
       "      <td>0.641667</td>\n",
       "    </tr>\n",
       "  </tbody>\n",
       "</table>\n",
       "</div>"
      ],
      "text/plain": [
       "             accuracy  precision  recall  f1_score   roc_auc     auprc\n",
       "scimilarity  0.821429        0.4     0.4  0.366667  0.666667  0.641667"
      ]
     },
     "execution_count": 67,
     "metadata": {},
     "output_type": "execute_result"
    }
   ],
   "source": [
    "metrics_test_list= [] \n",
    "for m in model_names:\n",
    "    print(m)\n",
    "    embedding_col = get_embd_key(m)\n",
    "    adata = load_data(base_dir,m)\n",
    "    adata = prepare_data(adata, id_column)\n",
    "    if not embedding_col in adata.obsm:\n",
    "        adata.obsm[embedding_col] = adata.X\n",
    "    \n",
    "    pred_train_df, pred_test_df, metrics_train_df, metrics_test_df = run_cv(adata, __train_mil,  cv_split_dict,embedding_col )\n",
    "    save_results(pred_train_df, pred_test_df, metrics_train_df, metrics_test_df, saving_dir, model_name=m, prefix='mil')\n",
    "    dd = metrics_test_df.mean(numeric_only=True)\n",
    "    metrics_test_list.append(dd)\n",
    "    \n",
    "results = pd.DataFrame(metrics_test_list, index = model_names)\n",
    "# results.to_csv(join(saving_dir, 'mil_metrics_test.csv' ))\n",
    "results"
   ]
  },
  {
   "cell_type": "code",
   "execution_count": 68,
   "id": "b4cdd426-abcc-4726-9851-081fc8919581",
   "metadata": {
    "tags": []
   },
   "outputs": [
    {
     "data": {
      "text/html": [
       "<div>\n",
       "<style scoped>\n",
       "    .dataframe tbody tr th:only-of-type {\n",
       "        vertical-align: middle;\n",
       "    }\n",
       "\n",
       "    .dataframe tbody tr th {\n",
       "        vertical-align: top;\n",
       "    }\n",
       "\n",
       "    .dataframe thead th {\n",
       "        text-align: right;\n",
       "    }\n",
       "</style>\n",
       "<table border=\"1\" class=\"dataframe\">\n",
       "  <thead>\n",
       "    <tr style=\"text-align: right;\">\n",
       "      <th></th>\n",
       "      <th>accuracy</th>\n",
       "      <th>precision</th>\n",
       "      <th>recall</th>\n",
       "      <th>f1_score</th>\n",
       "      <th>roc_auc</th>\n",
       "      <th>auprc</th>\n",
       "    </tr>\n",
       "  </thead>\n",
       "  <tbody>\n",
       "    <tr>\n",
       "      <th>scimilarity</th>\n",
       "      <td>0.821429</td>\n",
       "      <td>0.4</td>\n",
       "      <td>0.4</td>\n",
       "      <td>0.366667</td>\n",
       "      <td>0.666667</td>\n",
       "      <td>0.641667</td>\n",
       "    </tr>\n",
       "  </tbody>\n",
       "</table>\n",
       "</div>"
      ],
      "text/plain": [
       "             accuracy  precision  recall  f1_score   roc_auc     auprc\n",
       "scimilarity  0.821429        0.4     0.4  0.366667  0.666667  0.641667"
      ]
     },
     "execution_count": 68,
     "metadata": {},
     "output_type": "execute_result"
    }
   ],
   "source": [
    "results# chemo"
   ]
  },
  {
   "cell_type": "code",
   "execution_count": 47,
   "id": "194b19a4-25ef-4421-9c31-506e36950da9",
   "metadata": {
    "tags": []
   },
   "outputs": [
    {
     "data": {
      "text/html": [
       "<div>\n",
       "<style scoped>\n",
       "    .dataframe tbody tr th:only-of-type {\n",
       "        vertical-align: middle;\n",
       "    }\n",
       "\n",
       "    .dataframe tbody tr th {\n",
       "        vertical-align: top;\n",
       "    }\n",
       "\n",
       "    .dataframe thead th {\n",
       "        text-align: right;\n",
       "    }\n",
       "</style>\n",
       "<table border=\"1\" class=\"dataframe\">\n",
       "  <thead>\n",
       "    <tr style=\"text-align: right;\">\n",
       "      <th></th>\n",
       "      <th>accuracy</th>\n",
       "      <th>precision</th>\n",
       "      <th>recall</th>\n",
       "      <th>f1_score</th>\n",
       "      <th>roc_auc</th>\n",
       "      <th>auprc</th>\n",
       "    </tr>\n",
       "  </thead>\n",
       "  <tbody>\n",
       "    <tr>\n",
       "      <th>scimilarity</th>\n",
       "      <td>0.742857</td>\n",
       "      <td>0.3</td>\n",
       "      <td>0.4</td>\n",
       "      <td>0.333333</td>\n",
       "      <td>0.688095</td>\n",
       "      <td>0.44</td>\n",
       "    </tr>\n",
       "  </tbody>\n",
       "</table>\n",
       "</div>"
      ],
      "text/plain": [
       "             accuracy  precision  recall  f1_score   roc_auc  auprc\n",
       "scimilarity  0.742857        0.3     0.4  0.333333  0.688095   0.44"
      ]
     },
     "execution_count": 47,
     "metadata": {},
     "output_type": "execute_result"
    }
   ],
   "source": [
    "results# all cells"
   ]
  },
  {
   "cell_type": "code",
   "execution_count": 24,
   "id": "9d9f5671-d291-40b7-94b4-1c62975d4072",
   "metadata": {
    "tags": []
   },
   "outputs": [
    {
     "data": {
      "text/html": [
       "<div>\n",
       "<style scoped>\n",
       "    .dataframe tbody tr th:only-of-type {\n",
       "        vertical-align: middle;\n",
       "    }\n",
       "\n",
       "    .dataframe tbody tr th {\n",
       "        vertical-align: top;\n",
       "    }\n",
       "\n",
       "    .dataframe thead th {\n",
       "        text-align: right;\n",
       "    }\n",
       "</style>\n",
       "<table border=\"1\" class=\"dataframe\">\n",
       "  <thead>\n",
       "    <tr style=\"text-align: right;\">\n",
       "      <th></th>\n",
       "      <th>accuracy</th>\n",
       "      <th>precision</th>\n",
       "      <th>recall</th>\n",
       "      <th>f1_score</th>\n",
       "      <th>roc_auc</th>\n",
       "      <th>auprc</th>\n",
       "    </tr>\n",
       "  </thead>\n",
       "  <tbody>\n",
       "    <tr>\n",
       "      <th>scimilarity</th>\n",
       "      <td>0.796429</td>\n",
       "      <td>0.366667</td>\n",
       "      <td>0.4</td>\n",
       "      <td>0.333333</td>\n",
       "      <td>0.683333</td>\n",
       "      <td>0.648333</td>\n",
       "    </tr>\n",
       "  </tbody>\n",
       "</table>\n",
       "</div>"
      ],
      "text/plain": [
       "             accuracy  precision  recall  f1_score   roc_auc     auprc\n",
       "scimilarity  0.796429   0.366667     0.4  0.333333  0.683333  0.648333"
      ]
     },
     "execution_count": 24,
     "metadata": {},
     "output_type": "execute_result"
    }
   ],
   "source": [
    "results# cancer"
   ]
  },
  {
   "cell_type": "code",
   "execution_count": 23,
   "id": "4b230ec2-1e03-4922-9958-00d744b523b3",
   "metadata": {
    "tags": []
   },
   "outputs": [
    {
     "data": {
      "text/html": [
       "<div>\n",
       "<style scoped>\n",
       "    .dataframe tbody tr th:only-of-type {\n",
       "        vertical-align: middle;\n",
       "    }\n",
       "\n",
       "    .dataframe tbody tr th {\n",
       "        vertical-align: top;\n",
       "    }\n",
       "\n",
       "    .dataframe thead th {\n",
       "        text-align: right;\n",
       "    }\n",
       "</style>\n",
       "<table border=\"1\" class=\"dataframe\">\n",
       "  <thead>\n",
       "    <tr style=\"text-align: right;\">\n",
       "      <th></th>\n",
       "      <th>accuracy</th>\n",
       "      <th>precision</th>\n",
       "      <th>recall</th>\n",
       "      <th>f1_score</th>\n",
       "      <th>roc_auc</th>\n",
       "      <th>auprc</th>\n",
       "    </tr>\n",
       "  </thead>\n",
       "  <tbody>\n",
       "    <tr>\n",
       "      <th>gf-6L-30M-i2048</th>\n",
       "      <td>0.771429</td>\n",
       "      <td>0.2</td>\n",
       "      <td>0.2</td>\n",
       "      <td>0.2</td>\n",
       "      <td>0.633333</td>\n",
       "      <td>0.506667</td>\n",
       "    </tr>\n",
       "    <tr>\n",
       "      <th>gf-6L-30M-i2048_test</th>\n",
       "      <td>0.771429</td>\n",
       "      <td>0.2</td>\n",
       "      <td>0.2</td>\n",
       "      <td>0.2</td>\n",
       "      <td>0.633333</td>\n",
       "      <td>0.506667</td>\n",
       "    </tr>\n",
       "  </tbody>\n",
       "</table>\n",
       "</div>"
      ],
      "text/plain": [
       "                      accuracy  precision  recall  f1_score   roc_auc  \\\n",
       "gf-6L-30M-i2048       0.771429        0.2     0.2       0.2  0.633333   \n",
       "gf-6L-30M-i2048_test  0.771429        0.2     0.2       0.2  0.633333   \n",
       "\n",
       "                         auprc  \n",
       "gf-6L-30M-i2048       0.506667  \n",
       "gf-6L-30M-i2048_test  0.506667  "
      ]
     },
     "execution_count": 23,
     "metadata": {},
     "output_type": "execute_result"
    }
   ],
   "source": [
    "results"
   ]
  },
  {
   "cell_type": "code",
   "execution_count": 21,
   "id": "8dc8e3f9-13c9-416e-98e6-b22bc69868e0",
   "metadata": {
    "tags": []
   },
   "outputs": [
    {
     "data": {
      "text/html": [
       "<div>\n",
       "<style scoped>\n",
       "    .dataframe tbody tr th:only-of-type {\n",
       "        vertical-align: middle;\n",
       "    }\n",
       "\n",
       "    .dataframe tbody tr th {\n",
       "        vertical-align: top;\n",
       "    }\n",
       "\n",
       "    .dataframe thead th {\n",
       "        text-align: right;\n",
       "    }\n",
       "</style>\n",
       "<table border=\"1\" class=\"dataframe\">\n",
       "  <thead>\n",
       "    <tr style=\"text-align: right;\">\n",
       "      <th></th>\n",
       "      <th>accuracy</th>\n",
       "      <th>precision</th>\n",
       "      <th>recall</th>\n",
       "      <th>f1_score</th>\n",
       "      <th>roc_auc</th>\n",
       "      <th>auprc</th>\n",
       "    </tr>\n",
       "  </thead>\n",
       "  <tbody>\n",
       "    <tr>\n",
       "      <th>gf-6L-30M-i2048</th>\n",
       "      <td>0.796429</td>\n",
       "      <td>0.0</td>\n",
       "      <td>0.0</td>\n",
       "      <td>0.0</td>\n",
       "      <td>0.833333</td>\n",
       "      <td>0.683333</td>\n",
       "    </tr>\n",
       "    <tr>\n",
       "      <th>gf-6L-30M-i2048_test</th>\n",
       "      <td>0.796429</td>\n",
       "      <td>0.0</td>\n",
       "      <td>0.0</td>\n",
       "      <td>0.0</td>\n",
       "      <td>0.733333</td>\n",
       "      <td>0.623333</td>\n",
       "    </tr>\n",
       "  </tbody>\n",
       "</table>\n",
       "</div>"
      ],
      "text/plain": [
       "                      accuracy  precision  recall  f1_score   roc_auc  \\\n",
       "gf-6L-30M-i2048       0.796429        0.0     0.0       0.0  0.833333   \n",
       "gf-6L-30M-i2048_test  0.796429        0.0     0.0       0.0  0.733333   \n",
       "\n",
       "                         auprc  \n",
       "gf-6L-30M-i2048       0.683333  \n",
       "gf-6L-30M-i2048_test  0.623333  "
      ]
     },
     "execution_count": 21,
     "metadata": {},
     "output_type": "execute_result"
    }
   ],
   "source": [
    "results"
   ]
  },
  {
   "cell_type": "code",
   "execution_count": 69,
   "id": "e0d852a2-3059-4e6e-b177-6c0f2998ce8a",
   "metadata": {
    "collapsed": true,
    "jupyter": {
     "outputs_hidden": true
    },
    "tags": []
   },
   "outputs": [
    {
     "name": "stdout",
     "output_type": "stream",
     "text": [
      "---------- fold 1----------\n",
      "Split data\n",
      "Train classifier\n",
      "Training model (Average Embedding Per Sample)\n",
      "Unique values in train label: [0 1]\n",
      "Unique values in test label: [0 1]\n"
     ]
    },
    {
     "name": "stderr",
     "output_type": "stream",
     "text": [
      "/home/jupyter/scFM_eval/analyze_classification/train_utils.py:178: FutureWarning: The default of observed=False is deprecated and will be changed to True in a future version of pandas. Pass observed=False to retain current behavior or observed=True to adopt the future default and silence this warning.\n",
      "  mean_emb = df_emb.groupby(df_emb.index).mean()\n",
      "/home/jupyter/scFM_eval/analyze_classification/train_utils.py:178: FutureWarning: The default of observed=False is deprecated and will be changed to True in a future version of pandas. Pass observed=False to retain current behavior or observed=True to adopt the future default and silence this warning.\n",
      "  mean_emb = df_emb.groupby(df_emb.index).mean()\n"
     ]
    },
    {
     "name": "stdout",
     "output_type": "stream",
     "text": [
      "(8, 2) (31,)\n",
      "Evaluations\n",
      "---------- fold 2----------\n",
      "Split data\n",
      "Train classifier\n",
      "Training model (Average Embedding Per Sample)\n",
      "Unique values in train label: [0 1]\n",
      "Unique values in test label: [0 1]\n"
     ]
    },
    {
     "name": "stderr",
     "output_type": "stream",
     "text": [
      "/home/jupyter/scFM_eval/analyze_classification/train_utils.py:178: FutureWarning: The default of observed=False is deprecated and will be changed to True in a future version of pandas. Pass observed=False to retain current behavior or observed=True to adopt the future default and silence this warning.\n",
      "  mean_emb = df_emb.groupby(df_emb.index).mean()\n",
      "/home/jupyter/scFM_eval/analyze_classification/train_utils.py:178: FutureWarning: The default of observed=False is deprecated and will be changed to True in a future version of pandas. Pass observed=False to retain current behavior or observed=True to adopt the future default and silence this warning.\n",
      "  mean_emb = df_emb.groupby(df_emb.index).mean()\n"
     ]
    },
    {
     "name": "stdout",
     "output_type": "stream",
     "text": [
      "(8, 2) (31,)\n",
      "Evaluations\n",
      "---------- fold 3----------\n",
      "Split data\n",
      "Train classifier\n",
      "Training model (Average Embedding Per Sample)\n",
      "Unique values in train label: [0 1]\n",
      "Unique values in test label: [0 1]\n"
     ]
    },
    {
     "name": "stderr",
     "output_type": "stream",
     "text": [
      "/home/jupyter/scFM_eval/analyze_classification/train_utils.py:178: FutureWarning: The default of observed=False is deprecated and will be changed to True in a future version of pandas. Pass observed=False to retain current behavior or observed=True to adopt the future default and silence this warning.\n",
      "  mean_emb = df_emb.groupby(df_emb.index).mean()\n",
      "/home/jupyter/scFM_eval/analyze_classification/train_utils.py:178: FutureWarning: The default of observed=False is deprecated and will be changed to True in a future version of pandas. Pass observed=False to retain current behavior or observed=True to adopt the future default and silence this warning.\n",
      "  mean_emb = df_emb.groupby(df_emb.index).mean()\n"
     ]
    },
    {
     "name": "stdout",
     "output_type": "stream",
     "text": [
      "(8, 2) (31,)\n",
      "Evaluations\n",
      "---------- fold 4----------\n",
      "Split data\n",
      "Train classifier\n",
      "Training model (Average Embedding Per Sample)\n",
      "Unique values in train label: [0 1]\n",
      "Unique values in test label: [0 1]\n"
     ]
    },
    {
     "name": "stderr",
     "output_type": "stream",
     "text": [
      "/home/jupyter/scFM_eval/analyze_classification/train_utils.py:178: FutureWarning: The default of observed=False is deprecated and will be changed to True in a future version of pandas. Pass observed=False to retain current behavior or observed=True to adopt the future default and silence this warning.\n",
      "  mean_emb = df_emb.groupby(df_emb.index).mean()\n",
      "/home/jupyter/scFM_eval/analyze_classification/train_utils.py:178: FutureWarning: The default of observed=False is deprecated and will be changed to True in a future version of pandas. Pass observed=False to retain current behavior or observed=True to adopt the future default and silence this warning.\n",
      "  mean_emb = df_emb.groupby(df_emb.index).mean()\n"
     ]
    },
    {
     "name": "stdout",
     "output_type": "stream",
     "text": [
      "(8, 2) (31,)\n",
      "Evaluations\n",
      "---------- fold 5----------\n",
      "Split data\n",
      "Train classifier\n",
      "Training model (Average Embedding Per Sample)\n",
      "Unique values in train label: [0 1]\n",
      "Unique values in test label: [0 1]\n"
     ]
    },
    {
     "name": "stderr",
     "output_type": "stream",
     "text": [
      "/home/jupyter/scFM_eval/analyze_classification/train_utils.py:178: FutureWarning: The default of observed=False is deprecated and will be changed to True in a future version of pandas. Pass observed=False to retain current behavior or observed=True to adopt the future default and silence this warning.\n",
      "  mean_emb = df_emb.groupby(df_emb.index).mean()\n",
      "/home/jupyter/scFM_eval/analyze_classification/train_utils.py:178: FutureWarning: The default of observed=False is deprecated and will be changed to True in a future version of pandas. Pass observed=False to retain current behavior or observed=True to adopt the future default and silence this warning.\n",
      "  mean_emb = df_emb.groupby(df_emb.index).mean()\n"
     ]
    },
    {
     "name": "stdout",
     "output_type": "stream",
     "text": [
      "(7, 2) (32,)\n",
      "Evaluations\n",
      "./outcomes/chemo\n",
      "scimilarity\n"
     ]
    },
    {
     "data": {
      "text/html": [
       "<div>\n",
       "<style scoped>\n",
       "    .dataframe tbody tr th:only-of-type {\n",
       "        vertical-align: middle;\n",
       "    }\n",
       "\n",
       "    .dataframe tbody tr th {\n",
       "        vertical-align: top;\n",
       "    }\n",
       "\n",
       "    .dataframe thead th {\n",
       "        text-align: right;\n",
       "    }\n",
       "</style>\n",
       "<table border=\"1\" class=\"dataframe\">\n",
       "  <thead>\n",
       "    <tr style=\"text-align: right;\">\n",
       "      <th></th>\n",
       "      <th>accuracy</th>\n",
       "      <th>precision</th>\n",
       "      <th>recall</th>\n",
       "      <th>f1_score</th>\n",
       "      <th>roc_auc</th>\n",
       "      <th>auprc</th>\n",
       "    </tr>\n",
       "  </thead>\n",
       "  <tbody>\n",
       "    <tr>\n",
       "      <th>scimilarity</th>\n",
       "      <td>0.821429</td>\n",
       "      <td>0.2</td>\n",
       "      <td>0.1</td>\n",
       "      <td>0.133333</td>\n",
       "      <td>0.671429</td>\n",
       "      <td>0.538333</td>\n",
       "    </tr>\n",
       "  </tbody>\n",
       "</table>\n",
       "</div>"
      ],
      "text/plain": [
       "             accuracy  precision  recall  f1_score   roc_auc     auprc\n",
       "scimilarity  0.821429        0.2     0.1  0.133333  0.671429  0.538333"
      ]
     },
     "execution_count": 69,
     "metadata": {},
     "output_type": "execute_result"
    }
   ],
   "source": [
    "metrics_test_list= [] \n",
    "for m in model_names:\n",
    "    embedding_col = get_embd_key(m)\n",
    "    adata = load_data(base_dir,m)\n",
    "    adata = prepare_data(adata, id_column)\n",
    "    if not embedding_col in adata.obsm:\n",
    "        adata.obsm[embedding_col] = adata.X\n",
    "        \n",
    "    pred_train_df, pred_test_df, metrics_train_df, metrics_test_df = run_cv(adata, __train_avg_expression,  cv_split_dict, embedding_col)\n",
    "    save_results(pred_train_df, pred_test_df, metrics_train_df, metrics_test_df, saving_dir, model_name=m, prefix='avg')\n",
    "    dd = metrics_test_df.mean(numeric_only=True)\n",
    "    metrics_test_list.append(dd)\n",
    "\n",
    "results = pd.DataFrame(metrics_test_list, index = model_names)\n",
    "# results.to_csv(join(saving_dir, 'avg_metrics_test.csv' ))\n",
    "results"
   ]
  },
  {
   "cell_type": "code",
   "execution_count": 70,
   "id": "19598d16-277b-4024-b3de-93720716b8d5",
   "metadata": {
    "tags": []
   },
   "outputs": [
    {
     "data": {
      "text/html": [
       "<div>\n",
       "<style scoped>\n",
       "    .dataframe tbody tr th:only-of-type {\n",
       "        vertical-align: middle;\n",
       "    }\n",
       "\n",
       "    .dataframe tbody tr th {\n",
       "        vertical-align: top;\n",
       "    }\n",
       "\n",
       "    .dataframe thead th {\n",
       "        text-align: right;\n",
       "    }\n",
       "</style>\n",
       "<table border=\"1\" class=\"dataframe\">\n",
       "  <thead>\n",
       "    <tr style=\"text-align: right;\">\n",
       "      <th></th>\n",
       "      <th>accuracy</th>\n",
       "      <th>precision</th>\n",
       "      <th>recall</th>\n",
       "      <th>f1_score</th>\n",
       "      <th>roc_auc</th>\n",
       "      <th>auprc</th>\n",
       "    </tr>\n",
       "  </thead>\n",
       "  <tbody>\n",
       "    <tr>\n",
       "      <th>scimilarity</th>\n",
       "      <td>0.821429</td>\n",
       "      <td>0.2</td>\n",
       "      <td>0.1</td>\n",
       "      <td>0.133333</td>\n",
       "      <td>0.671429</td>\n",
       "      <td>0.538333</td>\n",
       "    </tr>\n",
       "  </tbody>\n",
       "</table>\n",
       "</div>"
      ],
      "text/plain": [
       "             accuracy  precision  recall  f1_score   roc_auc     auprc\n",
       "scimilarity  0.821429        0.2     0.1  0.133333  0.671429  0.538333"
      ]
     },
     "execution_count": 70,
     "metadata": {},
     "output_type": "execute_result"
    }
   ],
   "source": [
    "results# chemo"
   ]
  },
  {
   "cell_type": "code",
   "execution_count": 50,
   "id": "fc5a6132-4ac1-4b1c-80e2-2e6cbcc33748",
   "metadata": {
    "tags": []
   },
   "outputs": [
    {
     "data": {
      "text/html": [
       "<div>\n",
       "<style scoped>\n",
       "    .dataframe tbody tr th:only-of-type {\n",
       "        vertical-align: middle;\n",
       "    }\n",
       "\n",
       "    .dataframe tbody tr th {\n",
       "        vertical-align: top;\n",
       "    }\n",
       "\n",
       "    .dataframe thead th {\n",
       "        text-align: right;\n",
       "    }\n",
       "</style>\n",
       "<table border=\"1\" class=\"dataframe\">\n",
       "  <thead>\n",
       "    <tr style=\"text-align: right;\">\n",
       "      <th></th>\n",
       "      <th>accuracy</th>\n",
       "      <th>precision</th>\n",
       "      <th>recall</th>\n",
       "      <th>f1_score</th>\n",
       "      <th>roc_auc</th>\n",
       "      <th>auprc</th>\n",
       "    </tr>\n",
       "  </thead>\n",
       "  <tbody>\n",
       "    <tr>\n",
       "      <th>scimilarity</th>\n",
       "      <td>0.771429</td>\n",
       "      <td>0.0</td>\n",
       "      <td>0.0</td>\n",
       "      <td>0.0</td>\n",
       "      <td>0.671429</td>\n",
       "      <td>0.496667</td>\n",
       "    </tr>\n",
       "  </tbody>\n",
       "</table>\n",
       "</div>"
      ],
      "text/plain": [
       "             accuracy  precision  recall  f1_score   roc_auc     auprc\n",
       "scimilarity  0.771429        0.0     0.0       0.0  0.671429  0.496667"
      ]
     },
     "execution_count": 50,
     "metadata": {},
     "output_type": "execute_result"
    }
   ],
   "source": [
    "results #all cells"
   ]
  },
  {
   "cell_type": "code",
   "execution_count": 26,
   "id": "245ffaf9-14bf-4226-8738-40589223c32a",
   "metadata": {
    "tags": []
   },
   "outputs": [
    {
     "data": {
      "text/html": [
       "<div>\n",
       "<style scoped>\n",
       "    .dataframe tbody tr th:only-of-type {\n",
       "        vertical-align: middle;\n",
       "    }\n",
       "\n",
       "    .dataframe tbody tr th {\n",
       "        vertical-align: top;\n",
       "    }\n",
       "\n",
       "    .dataframe thead th {\n",
       "        text-align: right;\n",
       "    }\n",
       "</style>\n",
       "<table border=\"1\" class=\"dataframe\">\n",
       "  <thead>\n",
       "    <tr style=\"text-align: right;\">\n",
       "      <th></th>\n",
       "      <th>accuracy</th>\n",
       "      <th>precision</th>\n",
       "      <th>recall</th>\n",
       "      <th>f1_score</th>\n",
       "      <th>roc_auc</th>\n",
       "      <th>auprc</th>\n",
       "    </tr>\n",
       "  </thead>\n",
       "  <tbody>\n",
       "    <tr>\n",
       "      <th>scimilarity</th>\n",
       "      <td>0.821429</td>\n",
       "      <td>0.2</td>\n",
       "      <td>0.1</td>\n",
       "      <td>0.133333</td>\n",
       "      <td>0.688095</td>\n",
       "      <td>0.538333</td>\n",
       "    </tr>\n",
       "  </tbody>\n",
       "</table>\n",
       "</div>"
      ],
      "text/plain": [
       "             accuracy  precision  recall  f1_score   roc_auc     auprc\n",
       "scimilarity  0.821429        0.2     0.1  0.133333  0.688095  0.538333"
      ]
     },
     "execution_count": 26,
     "metadata": {},
     "output_type": "execute_result"
    }
   ],
   "source": [
    "results #cancer"
   ]
  },
  {
   "cell_type": "code",
   "execution_count": 21,
   "id": "68eba5a3-4d2e-4d51-a221-f6ed8c3f8580",
   "metadata": {
    "tags": []
   },
   "outputs": [],
   "source": [
    "results.to_csv(join(saving_dir, 'avg_metrics_test.csv' ))\n"
   ]
  },
  {
   "cell_type": "code",
   "execution_count": 24,
   "id": "9fc15feb-738e-476a-8604-8881a60bf58b",
   "metadata": {
    "tags": []
   },
   "outputs": [
    {
     "name": "stdout",
     "output_type": "stream",
     "text": [
      "---------- fold 1----------\n",
      "Split data\n",
      "Train classifier\n",
      "Training model (Majority Vote)\n",
      "Unique values in train label: [0 1]\n",
      "Unique values in test label: [0 1]\n",
      "Training model\n",
      "(3875, 2) (14787,)\n"
     ]
    },
    {
     "name": "stderr",
     "output_type": "stream",
     "text": [
      "/home/jupyter/scFM_eval/analyze_classification/train_utils.py:103: ImplicitModificationWarning: Trying to modify attribute `.obs` of view, initializing view as actual.\n",
      "  adata_test.obs['pred'] = model.predict(X_test)\n",
      "/home/jupyter/scFM_eval/analyze_classification/train_utils.py:108: ImplicitModificationWarning: Trying to modify attribute `.obs` of view, initializing view as actual.\n",
      "  adata_train.obs['pred'] = model.predict(X)\n"
     ]
    },
    {
     "name": "stdout",
     "output_type": "stream",
     "text": [
      "Cell-level prediction distribution (train):\n",
      "pred\n",
      "0    8718\n",
      "1    6069\n",
      "Name: count, dtype: int64\n",
      "Cell-level prediction distribution (test):\n",
      "pred\n",
      "0    2565\n",
      "1    1310\n",
      "Name: count, dtype: int64\n",
      "Evaluations\n",
      "---------- fold 2----------\n",
      "Split data\n",
      "Train classifier\n",
      "Training model (Majority Vote)\n",
      "Unique values in train label: [0 1]\n",
      "Unique values in test label: [0 1]\n",
      "Training model\n",
      "(4200, 2) (14462,)\n"
     ]
    },
    {
     "name": "stderr",
     "output_type": "stream",
     "text": [
      "/home/jupyter/scFM_eval/analyze_classification/train_utils.py:103: ImplicitModificationWarning: Trying to modify attribute `.obs` of view, initializing view as actual.\n",
      "  adata_test.obs['pred'] = model.predict(X_test)\n",
      "/home/jupyter/scFM_eval/analyze_classification/train_utils.py:108: ImplicitModificationWarning: Trying to modify attribute `.obs` of view, initializing view as actual.\n",
      "  adata_train.obs['pred'] = model.predict(X)\n"
     ]
    },
    {
     "name": "stdout",
     "output_type": "stream",
     "text": [
      "Cell-level prediction distribution (train):\n",
      "pred\n",
      "0    8076\n",
      "1    6386\n",
      "Name: count, dtype: int64\n",
      "Cell-level prediction distribution (test):\n",
      "pred\n",
      "1    2448\n",
      "0    1752\n",
      "Name: count, dtype: int64\n",
      "Evaluations\n",
      "---------- fold 3----------\n",
      "Split data\n",
      "Train classifier\n",
      "Training model (Majority Vote)\n",
      "Unique values in train label: [0 1]\n",
      "Unique values in test label: [0 1]\n",
      "Training model\n",
      "(4216, 2) (14446,)\n"
     ]
    },
    {
     "name": "stderr",
     "output_type": "stream",
     "text": [
      "/home/jupyter/scFM_eval/analyze_classification/train_utils.py:103: ImplicitModificationWarning: Trying to modify attribute `.obs` of view, initializing view as actual.\n",
      "  adata_test.obs['pred'] = model.predict(X_test)\n",
      "/home/jupyter/scFM_eval/analyze_classification/train_utils.py:108: ImplicitModificationWarning: Trying to modify attribute `.obs` of view, initializing view as actual.\n",
      "  adata_train.obs['pred'] = model.predict(X)\n"
     ]
    },
    {
     "name": "stdout",
     "output_type": "stream",
     "text": [
      "Cell-level prediction distribution (train):\n",
      "pred\n",
      "0    10340\n",
      "1     4106\n",
      "Name: count, dtype: int64\n",
      "Cell-level prediction distribution (test):\n",
      "pred\n",
      "0    2746\n",
      "1    1470\n",
      "Name: count, dtype: int64\n",
      "Evaluations\n",
      "---------- fold 4----------\n",
      "Split data\n",
      "Train classifier\n",
      "Training model (Majority Vote)\n",
      "Unique values in train label: [0 1]\n",
      "Unique values in test label: [0 1]\n",
      "Training model\n",
      "(2285, 2) (16377,)\n"
     ]
    },
    {
     "name": "stderr",
     "output_type": "stream",
     "text": [
      "/home/jupyter/scFM_eval/analyze_classification/train_utils.py:103: ImplicitModificationWarning: Trying to modify attribute `.obs` of view, initializing view as actual.\n",
      "  adata_test.obs['pred'] = model.predict(X_test)\n",
      "/home/jupyter/scFM_eval/analyze_classification/train_utils.py:108: ImplicitModificationWarning: Trying to modify attribute `.obs` of view, initializing view as actual.\n",
      "  adata_train.obs['pred'] = model.predict(X)\n"
     ]
    },
    {
     "name": "stdout",
     "output_type": "stream",
     "text": [
      "Cell-level prediction distribution (train):\n",
      "pred\n",
      "0    9680\n",
      "1    6697\n",
      "Name: count, dtype: int64\n",
      "Cell-level prediction distribution (test):\n",
      "pred\n",
      "0    1568\n",
      "1     717\n",
      "Name: count, dtype: int64\n",
      "Evaluations\n",
      "---------- fold 5----------\n",
      "Split data\n",
      "Train classifier\n",
      "Training model (Majority Vote)\n",
      "Unique values in train label: [0 1]\n",
      "Unique values in test label: [0 1]\n",
      "Training model\n",
      "(4086, 2) (14576,)\n"
     ]
    },
    {
     "name": "stderr",
     "output_type": "stream",
     "text": [
      "/home/jupyter/scFM_eval/analyze_classification/train_utils.py:103: ImplicitModificationWarning: Trying to modify attribute `.obs` of view, initializing view as actual.\n",
      "  adata_test.obs['pred'] = model.predict(X_test)\n",
      "/home/jupyter/scFM_eval/analyze_classification/train_utils.py:108: ImplicitModificationWarning: Trying to modify attribute `.obs` of view, initializing view as actual.\n",
      "  adata_train.obs['pred'] = model.predict(X)\n"
     ]
    },
    {
     "name": "stdout",
     "output_type": "stream",
     "text": [
      "Cell-level prediction distribution (train):\n",
      "pred\n",
      "0    10138\n",
      "1     4438\n",
      "Name: count, dtype: int64\n",
      "Cell-level prediction distribution (test):\n",
      "pred\n",
      "0    3056\n",
      "1    1030\n",
      "Name: count, dtype: int64\n",
      "Evaluations\n",
      "./outcomes/chemo\n",
      "gf-6L-30M-i2048\n",
      "---------- fold 1----------\n",
      "Split data\n",
      "Train classifier\n",
      "Training model (Majority Vote)\n",
      "Unique values in train label: [0 1]\n",
      "Unique values in test label: [0 1]\n",
      "Training model\n",
      "(3875, 2) (14787,)\n"
     ]
    },
    {
     "name": "stderr",
     "output_type": "stream",
     "text": [
      "/home/jupyter/scFM_eval/analyze_classification/train_utils.py:103: ImplicitModificationWarning: Trying to modify attribute `.obs` of view, initializing view as actual.\n",
      "  adata_test.obs['pred'] = model.predict(X_test)\n",
      "/home/jupyter/scFM_eval/analyze_classification/train_utils.py:108: ImplicitModificationWarning: Trying to modify attribute `.obs` of view, initializing view as actual.\n",
      "  adata_train.obs['pred'] = model.predict(X)\n"
     ]
    },
    {
     "name": "stdout",
     "output_type": "stream",
     "text": [
      "Cell-level prediction distribution (train):\n",
      "pred\n",
      "0    8755\n",
      "1    6032\n",
      "Name: count, dtype: int64\n",
      "Cell-level prediction distribution (test):\n",
      "pred\n",
      "0    2565\n",
      "1    1310\n",
      "Name: count, dtype: int64\n",
      "Evaluations\n",
      "---------- fold 2----------\n",
      "Split data\n",
      "Train classifier\n",
      "Training model (Majority Vote)\n",
      "Unique values in train label: [0 1]\n",
      "Unique values in test label: [0 1]\n",
      "Training model\n",
      "(4200, 2) (14462,)\n"
     ]
    },
    {
     "name": "stderr",
     "output_type": "stream",
     "text": [
      "/home/jupyter/scFM_eval/analyze_classification/train_utils.py:103: ImplicitModificationWarning: Trying to modify attribute `.obs` of view, initializing view as actual.\n",
      "  adata_test.obs['pred'] = model.predict(X_test)\n",
      "/home/jupyter/scFM_eval/analyze_classification/train_utils.py:108: ImplicitModificationWarning: Trying to modify attribute `.obs` of view, initializing view as actual.\n",
      "  adata_train.obs['pred'] = model.predict(X)\n"
     ]
    },
    {
     "name": "stdout",
     "output_type": "stream",
     "text": [
      "Cell-level prediction distribution (train):\n",
      "pred\n",
      "0    8059\n",
      "1    6403\n",
      "Name: count, dtype: int64\n",
      "Cell-level prediction distribution (test):\n",
      "pred\n",
      "1    2443\n",
      "0    1757\n",
      "Name: count, dtype: int64\n",
      "Evaluations\n",
      "---------- fold 3----------\n",
      "Split data\n",
      "Train classifier\n",
      "Training model (Majority Vote)\n",
      "Unique values in train label: [0 1]\n",
      "Unique values in test label: [0 1]\n",
      "Training model\n",
      "(4216, 2) (14446,)\n"
     ]
    },
    {
     "name": "stderr",
     "output_type": "stream",
     "text": [
      "/home/jupyter/scFM_eval/analyze_classification/train_utils.py:103: ImplicitModificationWarning: Trying to modify attribute `.obs` of view, initializing view as actual.\n",
      "  adata_test.obs['pred'] = model.predict(X_test)\n",
      "/home/jupyter/scFM_eval/analyze_classification/train_utils.py:108: ImplicitModificationWarning: Trying to modify attribute `.obs` of view, initializing view as actual.\n",
      "  adata_train.obs['pred'] = model.predict(X)\n"
     ]
    },
    {
     "name": "stdout",
     "output_type": "stream",
     "text": [
      "Cell-level prediction distribution (train):\n",
      "pred\n",
      "0    10326\n",
      "1     4120\n",
      "Name: count, dtype: int64\n",
      "Cell-level prediction distribution (test):\n",
      "pred\n",
      "0    2692\n",
      "1    1524\n",
      "Name: count, dtype: int64\n",
      "Evaluations\n",
      "---------- fold 4----------\n",
      "Split data\n",
      "Train classifier\n",
      "Training model (Majority Vote)\n",
      "Unique values in train label: [0 1]\n",
      "Unique values in test label: [0 1]\n",
      "Training model\n",
      "(2285, 2) (16377,)\n"
     ]
    },
    {
     "name": "stderr",
     "output_type": "stream",
     "text": [
      "/home/jupyter/scFM_eval/analyze_classification/train_utils.py:103: ImplicitModificationWarning: Trying to modify attribute `.obs` of view, initializing view as actual.\n",
      "  adata_test.obs['pred'] = model.predict(X_test)\n",
      "/home/jupyter/scFM_eval/analyze_classification/train_utils.py:108: ImplicitModificationWarning: Trying to modify attribute `.obs` of view, initializing view as actual.\n",
      "  adata_train.obs['pred'] = model.predict(X)\n"
     ]
    },
    {
     "name": "stdout",
     "output_type": "stream",
     "text": [
      "Cell-level prediction distribution (train):\n",
      "pred\n",
      "0    9663\n",
      "1    6714\n",
      "Name: count, dtype: int64\n",
      "Cell-level prediction distribution (test):\n",
      "pred\n",
      "0    1578\n",
      "1     707\n",
      "Name: count, dtype: int64\n",
      "Evaluations\n",
      "---------- fold 5----------\n",
      "Split data\n",
      "Train classifier\n",
      "Training model (Majority Vote)\n",
      "Unique values in train label: [0 1]\n",
      "Unique values in test label: [0 1]\n",
      "Training model\n",
      "(4086, 2) (14576,)\n"
     ]
    },
    {
     "name": "stderr",
     "output_type": "stream",
     "text": [
      "/home/jupyter/scFM_eval/analyze_classification/train_utils.py:103: ImplicitModificationWarning: Trying to modify attribute `.obs` of view, initializing view as actual.\n",
      "  adata_test.obs['pred'] = model.predict(X_test)\n",
      "/home/jupyter/scFM_eval/analyze_classification/train_utils.py:108: ImplicitModificationWarning: Trying to modify attribute `.obs` of view, initializing view as actual.\n",
      "  adata_train.obs['pred'] = model.predict(X)\n"
     ]
    },
    {
     "name": "stdout",
     "output_type": "stream",
     "text": [
      "Cell-level prediction distribution (train):\n",
      "pred\n",
      "0    10151\n",
      "1     4425\n",
      "Name: count, dtype: int64\n",
      "Cell-level prediction distribution (test):\n",
      "pred\n",
      "0    3073\n",
      "1    1013\n",
      "Name: count, dtype: int64\n",
      "Evaluations\n",
      "./outcomes/chemo\n",
      "gf-6L-30M-i2048_test\n"
     ]
    }
   ],
   "source": [
    "metrics_test_list= [] \n",
    "for m in model_names:\n",
    "    embedding_col = get_embd_key(m)\n",
    "    adata = load_data(base_dir,m)\n",
    "    adata = prepare_data(adata, id_column)\n",
    "    \n",
    "    pred_train_df, pred_test_df, metrics_train_df, metrics_test_df = run_cv(adata, __train_vote,  cv_split_dict, embedding_col)\n",
    "    save_results(pred_train_df, pred_test_df, metrics_train_df, metrics_test_df, saving_dir, model_name=m, prefix='vote')\n",
    "    dd = metrics_test_df.mean(numeric_only=True)\n",
    "    metrics_test_list.append(dd)\n",
    "    \n",
    "results = pd.DataFrame(metrics_test_list, index = model_names)\n",
    "results.to_csv(join(saving_dir, 'vote_metrics_test.csv' ))"
   ]
  },
  {
   "cell_type": "code",
   "execution_count": 77,
   "id": "a17d7210-959c-493a-86a4-92388dc30e2b",
   "metadata": {
    "tags": []
   },
   "outputs": [
    {
     "name": "stdout",
     "output_type": "stream",
     "text": [
      "---------- fold 1----------\n",
      "Split data\n",
      "Train classifier\n",
      "Training model (Average Embedding Per Sample)\n"
     ]
    },
    {
     "name": "stderr",
     "output_type": "stream",
     "text": [
      "/home/jupyter/scFM_eval/analyze_classification/train_utils.py:178: FutureWarning: The default of observed=False is deprecated and will be changed to True in a future version of pandas. Pass observed=False to retain current behavior or observed=True to adopt the future default and silence this warning.\n",
      "  mean_emb = df_emb.groupby(df_emb.index).mean()\n",
      "/home/jupyter/scFM_eval/analyze_classification/train_utils.py:178: FutureWarning: The default of observed=False is deprecated and will be changed to True in a future version of pandas. Pass observed=False to retain current behavior or observed=True to adopt the future default and silence this warning.\n",
      "  mean_emb = df_emb.groupby(df_emb.index).mean()\n"
     ]
    },
    {
     "name": "stdout",
     "output_type": "stream",
     "text": [
      "Unique values in train label: [0 1]\n",
      "Unique values in test label: [0 1]\n",
      "(8, 2) (31,)\n",
      "Evaluations\n",
      "---------- fold 2----------\n",
      "Split data\n",
      "Train classifier\n",
      "Training model (Average Embedding Per Sample)\n"
     ]
    },
    {
     "name": "stderr",
     "output_type": "stream",
     "text": [
      "/home/jupyter/scFM_eval/analyze_classification/train_utils.py:178: FutureWarning: The default of observed=False is deprecated and will be changed to True in a future version of pandas. Pass observed=False to retain current behavior or observed=True to adopt the future default and silence this warning.\n",
      "  mean_emb = df_emb.groupby(df_emb.index).mean()\n",
      "/home/jupyter/scFM_eval/analyze_classification/train_utils.py:178: FutureWarning: The default of observed=False is deprecated and will be changed to True in a future version of pandas. Pass observed=False to retain current behavior or observed=True to adopt the future default and silence this warning.\n",
      "  mean_emb = df_emb.groupby(df_emb.index).mean()\n"
     ]
    },
    {
     "name": "stdout",
     "output_type": "stream",
     "text": [
      "Unique values in train label: [0 1]\n",
      "Unique values in test label: [0 1]\n",
      "(8, 2) (31,)\n",
      "Evaluations\n",
      "---------- fold 3----------\n",
      "Split data\n",
      "Train classifier\n",
      "Training model (Average Embedding Per Sample)\n"
     ]
    },
    {
     "name": "stderr",
     "output_type": "stream",
     "text": [
      "/home/jupyter/scFM_eval/analyze_classification/train_utils.py:178: FutureWarning: The default of observed=False is deprecated and will be changed to True in a future version of pandas. Pass observed=False to retain current behavior or observed=True to adopt the future default and silence this warning.\n",
      "  mean_emb = df_emb.groupby(df_emb.index).mean()\n",
      "/home/jupyter/scFM_eval/analyze_classification/train_utils.py:178: FutureWarning: The default of observed=False is deprecated and will be changed to True in a future version of pandas. Pass observed=False to retain current behavior or observed=True to adopt the future default and silence this warning.\n",
      "  mean_emb = df_emb.groupby(df_emb.index).mean()\n"
     ]
    },
    {
     "name": "stdout",
     "output_type": "stream",
     "text": [
      "Unique values in train label: [0 1]\n",
      "Unique values in test label: [0 1]\n",
      "(8, 2) (31,)\n",
      "Evaluations\n",
      "---------- fold 4----------\n",
      "Split data\n",
      "Train classifier\n",
      "Training model (Average Embedding Per Sample)\n"
     ]
    },
    {
     "name": "stderr",
     "output_type": "stream",
     "text": [
      "/home/jupyter/scFM_eval/analyze_classification/train_utils.py:178: FutureWarning: The default of observed=False is deprecated and will be changed to True in a future version of pandas. Pass observed=False to retain current behavior or observed=True to adopt the future default and silence this warning.\n",
      "  mean_emb = df_emb.groupby(df_emb.index).mean()\n",
      "/home/jupyter/scFM_eval/analyze_classification/train_utils.py:178: FutureWarning: The default of observed=False is deprecated and will be changed to True in a future version of pandas. Pass observed=False to retain current behavior or observed=True to adopt the future default and silence this warning.\n",
      "  mean_emb = df_emb.groupby(df_emb.index).mean()\n"
     ]
    },
    {
     "name": "stdout",
     "output_type": "stream",
     "text": [
      "Unique values in train label: [0 1]\n",
      "Unique values in test label: [0 1]\n",
      "(8, 2) (31,)\n",
      "Evaluations\n",
      "---------- fold 5----------\n",
      "Split data\n",
      "Train classifier\n",
      "Training model (Average Embedding Per Sample)\n"
     ]
    },
    {
     "name": "stderr",
     "output_type": "stream",
     "text": [
      "/home/jupyter/scFM_eval/analyze_classification/train_utils.py:178: FutureWarning: The default of observed=False is deprecated and will be changed to True in a future version of pandas. Pass observed=False to retain current behavior or observed=True to adopt the future default and silence this warning.\n",
      "  mean_emb = df_emb.groupby(df_emb.index).mean()\n",
      "/home/jupyter/scFM_eval/analyze_classification/train_utils.py:178: FutureWarning: The default of observed=False is deprecated and will be changed to True in a future version of pandas. Pass observed=False to retain current behavior or observed=True to adopt the future default and silence this warning.\n",
      "  mean_emb = df_emb.groupby(df_emb.index).mean()\n"
     ]
    },
    {
     "name": "stdout",
     "output_type": "stream",
     "text": [
      "Unique values in train label: [0 1]\n",
      "Unique values in test label: [0 1]\n",
      "(7, 2) (32,)\n",
      "Evaluations\n",
      "./outcomes/chemo\n",
      "scfoundation\n",
      "---------- fold 1----------\n",
      "Split data\n",
      "Train classifier\n",
      "Training model (Average Embedding Per Sample)\n"
     ]
    },
    {
     "name": "stderr",
     "output_type": "stream",
     "text": [
      "/home/jupyter/scFM_eval/analyze_classification/train_utils.py:178: FutureWarning: The default of observed=False is deprecated and will be changed to True in a future version of pandas. Pass observed=False to retain current behavior or observed=True to adopt the future default and silence this warning.\n",
      "  mean_emb = df_emb.groupby(df_emb.index).mean()\n",
      "/home/jupyter/scFM_eval/analyze_classification/train_utils.py:178: FutureWarning: The default of observed=False is deprecated and will be changed to True in a future version of pandas. Pass observed=False to retain current behavior or observed=True to adopt the future default and silence this warning.\n",
      "  mean_emb = df_emb.groupby(df_emb.index).mean()\n"
     ]
    },
    {
     "name": "stdout",
     "output_type": "stream",
     "text": [
      "Unique values in train label: [0 1]\n",
      "Unique values in test label: [0 1]\n",
      "(8, 2) (31,)\n",
      "Evaluations\n",
      "---------- fold 2----------\n",
      "Split data\n",
      "Train classifier\n",
      "Training model (Average Embedding Per Sample)\n"
     ]
    },
    {
     "name": "stderr",
     "output_type": "stream",
     "text": [
      "/home/jupyter/scFM_eval/analyze_classification/train_utils.py:178: FutureWarning: The default of observed=False is deprecated and will be changed to True in a future version of pandas. Pass observed=False to retain current behavior or observed=True to adopt the future default and silence this warning.\n",
      "  mean_emb = df_emb.groupby(df_emb.index).mean()\n",
      "/home/jupyter/scFM_eval/analyze_classification/train_utils.py:178: FutureWarning: The default of observed=False is deprecated and will be changed to True in a future version of pandas. Pass observed=False to retain current behavior or observed=True to adopt the future default and silence this warning.\n",
      "  mean_emb = df_emb.groupby(df_emb.index).mean()\n"
     ]
    },
    {
     "name": "stdout",
     "output_type": "stream",
     "text": [
      "Unique values in train label: [0 1]\n",
      "Unique values in test label: [0 1]\n",
      "(8, 2) (31,)\n",
      "Evaluations\n",
      "---------- fold 3----------\n",
      "Split data\n",
      "Train classifier\n",
      "Training model (Average Embedding Per Sample)\n",
      "Unique values in train label: [0 1]\n",
      "Unique values in test label: [0 1]\n",
      "(8, 2) (31,)\n",
      "Evaluations\n",
      "---------- fold 4----------\n",
      "Split data\n"
     ]
    },
    {
     "name": "stderr",
     "output_type": "stream",
     "text": [
      "/home/jupyter/scFM_eval/analyze_classification/train_utils.py:178: FutureWarning: The default of observed=False is deprecated and will be changed to True in a future version of pandas. Pass observed=False to retain current behavior or observed=True to adopt the future default and silence this warning.\n",
      "  mean_emb = df_emb.groupby(df_emb.index).mean()\n",
      "/home/jupyter/scFM_eval/analyze_classification/train_utils.py:178: FutureWarning: The default of observed=False is deprecated and will be changed to True in a future version of pandas. Pass observed=False to retain current behavior or observed=True to adopt the future default and silence this warning.\n",
      "  mean_emb = df_emb.groupby(df_emb.index).mean()\n"
     ]
    },
    {
     "name": "stdout",
     "output_type": "stream",
     "text": [
      "Train classifier\n",
      "Training model (Average Embedding Per Sample)\n",
      "Unique values in train label: [0 1]\n",
      "Unique values in test label: [0 1]\n",
      "(8, 2) (31,)\n",
      "Evaluations\n",
      "---------- fold 5----------\n",
      "Split data\n"
     ]
    },
    {
     "name": "stderr",
     "output_type": "stream",
     "text": [
      "/home/jupyter/scFM_eval/analyze_classification/train_utils.py:178: FutureWarning: The default of observed=False is deprecated and will be changed to True in a future version of pandas. Pass observed=False to retain current behavior or observed=True to adopt the future default and silence this warning.\n",
      "  mean_emb = df_emb.groupby(df_emb.index).mean()\n",
      "/home/jupyter/scFM_eval/analyze_classification/train_utils.py:178: FutureWarning: The default of observed=False is deprecated and will be changed to True in a future version of pandas. Pass observed=False to retain current behavior or observed=True to adopt the future default and silence this warning.\n",
      "  mean_emb = df_emb.groupby(df_emb.index).mean()\n"
     ]
    },
    {
     "name": "stdout",
     "output_type": "stream",
     "text": [
      "Train classifier\n",
      "Training model (Average Embedding Per Sample)\n",
      "Unique values in train label: [0 1]\n",
      "Unique values in test label: [0 1]\n",
      "(7, 2) (32,)\n",
      "Evaluations\n"
     ]
    },
    {
     "name": "stderr",
     "output_type": "stream",
     "text": [
      "/home/jupyter/scFM_eval/analyze_classification/train_utils.py:178: FutureWarning: The default of observed=False is deprecated and will be changed to True in a future version of pandas. Pass observed=False to retain current behavior or observed=True to adopt the future default and silence this warning.\n",
      "  mean_emb = df_emb.groupby(df_emb.index).mean()\n",
      "/home/jupyter/scFM_eval/analyze_classification/train_utils.py:178: FutureWarning: The default of observed=False is deprecated and will be changed to True in a future version of pandas. Pass observed=False to retain current behavior or observed=True to adopt the future default and silence this warning.\n",
      "  mean_emb = df_emb.groupby(df_emb.index).mean()\n"
     ]
    },
    {
     "name": "stdout",
     "output_type": "stream",
     "text": [
      "./outcomes/chemo\n",
      "scimilarity\n",
      "---------- fold 1----------\n",
      "Split data\n",
      "Train classifier\n",
      "Training model (Average Embedding Per Sample)\n",
      "Unique values in train label: [0 1]\n",
      "Unique values in test label: [0 1]\n"
     ]
    },
    {
     "name": "stderr",
     "output_type": "stream",
     "text": [
      "/home/jupyter/scFM_eval/analyze_classification/train_utils.py:178: FutureWarning: The default of observed=False is deprecated and will be changed to True in a future version of pandas. Pass observed=False to retain current behavior or observed=True to adopt the future default and silence this warning.\n",
      "  mean_emb = df_emb.groupby(df_emb.index).mean()\n",
      "/home/jupyter/scFM_eval/analyze_classification/train_utils.py:178: FutureWarning: The default of observed=False is deprecated and will be changed to True in a future version of pandas. Pass observed=False to retain current behavior or observed=True to adopt the future default and silence this warning.\n",
      "  mean_emb = df_emb.groupby(df_emb.index).mean()\n"
     ]
    },
    {
     "name": "stdout",
     "output_type": "stream",
     "text": [
      "(8, 2) (31,)\n",
      "Evaluations\n",
      "---------- fold 2----------\n",
      "Split data\n",
      "Train classifier\n",
      "Training model (Average Embedding Per Sample)\n",
      "Unique values in train label: [0 1]\n",
      "Unique values in test label: [0 1]\n"
     ]
    },
    {
     "name": "stderr",
     "output_type": "stream",
     "text": [
      "/home/jupyter/scFM_eval/analyze_classification/train_utils.py:178: FutureWarning: The default of observed=False is deprecated and will be changed to True in a future version of pandas. Pass observed=False to retain current behavior or observed=True to adopt the future default and silence this warning.\n",
      "  mean_emb = df_emb.groupby(df_emb.index).mean()\n",
      "/home/jupyter/scFM_eval/analyze_classification/train_utils.py:178: FutureWarning: The default of observed=False is deprecated and will be changed to True in a future version of pandas. Pass observed=False to retain current behavior or observed=True to adopt the future default and silence this warning.\n",
      "  mean_emb = df_emb.groupby(df_emb.index).mean()\n"
     ]
    },
    {
     "name": "stdout",
     "output_type": "stream",
     "text": [
      "(8, 2) (31,)\n",
      "Evaluations\n",
      "---------- fold 3----------\n",
      "Split data\n",
      "Train classifier\n",
      "Training model (Average Embedding Per Sample)\n",
      "Unique values in train label: [0 1]\n",
      "Unique values in test label: [0 1]\n"
     ]
    },
    {
     "name": "stderr",
     "output_type": "stream",
     "text": [
      "/home/jupyter/scFM_eval/analyze_classification/train_utils.py:178: FutureWarning: The default of observed=False is deprecated and will be changed to True in a future version of pandas. Pass observed=False to retain current behavior or observed=True to adopt the future default and silence this warning.\n",
      "  mean_emb = df_emb.groupby(df_emb.index).mean()\n",
      "/home/jupyter/scFM_eval/analyze_classification/train_utils.py:178: FutureWarning: The default of observed=False is deprecated and will be changed to True in a future version of pandas. Pass observed=False to retain current behavior or observed=True to adopt the future default and silence this warning.\n",
      "  mean_emb = df_emb.groupby(df_emb.index).mean()\n"
     ]
    },
    {
     "name": "stdout",
     "output_type": "stream",
     "text": [
      "(8, 2) (31,)\n",
      "Evaluations\n",
      "---------- fold 4----------\n",
      "Split data\n",
      "Train classifier\n",
      "Training model (Average Embedding Per Sample)\n",
      "Unique values in train label: [0 1]\n",
      "Unique values in test label: [0 1]\n"
     ]
    },
    {
     "name": "stderr",
     "output_type": "stream",
     "text": [
      "/home/jupyter/scFM_eval/analyze_classification/train_utils.py:178: FutureWarning: The default of observed=False is deprecated and will be changed to True in a future version of pandas. Pass observed=False to retain current behavior or observed=True to adopt the future default and silence this warning.\n",
      "  mean_emb = df_emb.groupby(df_emb.index).mean()\n",
      "/home/jupyter/scFM_eval/analyze_classification/train_utils.py:178: FutureWarning: The default of observed=False is deprecated and will be changed to True in a future version of pandas. Pass observed=False to retain current behavior or observed=True to adopt the future default and silence this warning.\n",
      "  mean_emb = df_emb.groupby(df_emb.index).mean()\n"
     ]
    },
    {
     "name": "stdout",
     "output_type": "stream",
     "text": [
      "(8, 2) (31,)\n",
      "Evaluations\n",
      "---------- fold 5----------\n",
      "Split data\n",
      "Train classifier\n",
      "Training model (Average Embedding Per Sample)\n",
      "Unique values in train label: [0 1]\n",
      "Unique values in test label: [0 1]\n"
     ]
    },
    {
     "name": "stderr",
     "output_type": "stream",
     "text": [
      "/home/jupyter/scFM_eval/analyze_classification/train_utils.py:178: FutureWarning: The default of observed=False is deprecated and will be changed to True in a future version of pandas. Pass observed=False to retain current behavior or observed=True to adopt the future default and silence this warning.\n",
      "  mean_emb = df_emb.groupby(df_emb.index).mean()\n",
      "/home/jupyter/scFM_eval/analyze_classification/train_utils.py:178: FutureWarning: The default of observed=False is deprecated and will be changed to True in a future version of pandas. Pass observed=False to retain current behavior or observed=True to adopt the future default and silence this warning.\n",
      "  mean_emb = df_emb.groupby(df_emb.index).mean()\n"
     ]
    },
    {
     "name": "stdout",
     "output_type": "stream",
     "text": [
      "(7, 2) (32,)\n",
      "Evaluations\n",
      "./outcomes/chemo\n",
      "cellplm\n",
      "---------- fold 1----------\n",
      "Split data\n",
      "Train classifier\n",
      "Training model (Average Embedding Per Sample)\n",
      "Unique values in train label: [0 1]\n",
      "Unique values in test label: [0 1]\n"
     ]
    },
    {
     "name": "stderr",
     "output_type": "stream",
     "text": [
      "/home/jupyter/scFM_eval/analyze_classification/train_utils.py:178: FutureWarning: The default of observed=False is deprecated and will be changed to True in a future version of pandas. Pass observed=False to retain current behavior or observed=True to adopt the future default and silence this warning.\n",
      "  mean_emb = df_emb.groupby(df_emb.index).mean()\n",
      "/home/jupyter/scFM_eval/analyze_classification/train_utils.py:178: FutureWarning: The default of observed=False is deprecated and will be changed to True in a future version of pandas. Pass observed=False to retain current behavior or observed=True to adopt the future default and silence this warning.\n",
      "  mean_emb = df_emb.groupby(df_emb.index).mean()\n"
     ]
    },
    {
     "name": "stdout",
     "output_type": "stream",
     "text": [
      "(8, 2) (31,)\n",
      "Evaluations\n",
      "---------- fold 2----------\n",
      "Split data\n",
      "Train classifier\n",
      "Training model (Average Embedding Per Sample)\n",
      "Unique values in train label: [0 1]\n",
      "Unique values in test label: [0 1]\n"
     ]
    },
    {
     "name": "stderr",
     "output_type": "stream",
     "text": [
      "/home/jupyter/scFM_eval/analyze_classification/train_utils.py:178: FutureWarning: The default of observed=False is deprecated and will be changed to True in a future version of pandas. Pass observed=False to retain current behavior or observed=True to adopt the future default and silence this warning.\n",
      "  mean_emb = df_emb.groupby(df_emb.index).mean()\n",
      "/home/jupyter/scFM_eval/analyze_classification/train_utils.py:178: FutureWarning: The default of observed=False is deprecated and will be changed to True in a future version of pandas. Pass observed=False to retain current behavior or observed=True to adopt the future default and silence this warning.\n",
      "  mean_emb = df_emb.groupby(df_emb.index).mean()\n"
     ]
    },
    {
     "name": "stdout",
     "output_type": "stream",
     "text": [
      "(8, 2) (31,)\n",
      "Evaluations\n",
      "---------- fold 3----------\n",
      "Split data\n",
      "Train classifier\n",
      "Training model (Average Embedding Per Sample)\n",
      "Unique values in train label: [0 1]\n",
      "Unique values in test label: [0 1]\n"
     ]
    },
    {
     "name": "stderr",
     "output_type": "stream",
     "text": [
      "/home/jupyter/scFM_eval/analyze_classification/train_utils.py:178: FutureWarning: The default of observed=False is deprecated and will be changed to True in a future version of pandas. Pass observed=False to retain current behavior or observed=True to adopt the future default and silence this warning.\n",
      "  mean_emb = df_emb.groupby(df_emb.index).mean()\n",
      "/home/jupyter/scFM_eval/analyze_classification/train_utils.py:178: FutureWarning: The default of observed=False is deprecated and will be changed to True in a future version of pandas. Pass observed=False to retain current behavior or observed=True to adopt the future default and silence this warning.\n",
      "  mean_emb = df_emb.groupby(df_emb.index).mean()\n"
     ]
    },
    {
     "name": "stdout",
     "output_type": "stream",
     "text": [
      "(8, 2) (31,)\n",
      "Evaluations\n",
      "---------- fold 4----------\n",
      "Split data\n",
      "Train classifier\n",
      "Training model (Average Embedding Per Sample)\n",
      "Unique values in train label: [0 1]\n",
      "Unique values in test label: [0 1]\n"
     ]
    },
    {
     "name": "stderr",
     "output_type": "stream",
     "text": [
      "/home/jupyter/scFM_eval/analyze_classification/train_utils.py:178: FutureWarning: The default of observed=False is deprecated and will be changed to True in a future version of pandas. Pass observed=False to retain current behavior or observed=True to adopt the future default and silence this warning.\n",
      "  mean_emb = df_emb.groupby(df_emb.index).mean()\n",
      "/home/jupyter/scFM_eval/analyze_classification/train_utils.py:178: FutureWarning: The default of observed=False is deprecated and will be changed to True in a future version of pandas. Pass observed=False to retain current behavior or observed=True to adopt the future default and silence this warning.\n",
      "  mean_emb = df_emb.groupby(df_emb.index).mean()\n"
     ]
    },
    {
     "name": "stdout",
     "output_type": "stream",
     "text": [
      "(8, 2) (31,)\n",
      "Evaluations\n",
      "---------- fold 5----------\n",
      "Split data\n",
      "Train classifier\n",
      "Training model (Average Embedding Per Sample)\n",
      "Unique values in train label: [0 1]\n",
      "Unique values in test label: [0 1]\n"
     ]
    },
    {
     "name": "stderr",
     "output_type": "stream",
     "text": [
      "/home/jupyter/scFM_eval/analyze_classification/train_utils.py:178: FutureWarning: The default of observed=False is deprecated and will be changed to True in a future version of pandas. Pass observed=False to retain current behavior or observed=True to adopt the future default and silence this warning.\n",
      "  mean_emb = df_emb.groupby(df_emb.index).mean()\n",
      "/home/jupyter/scFM_eval/analyze_classification/train_utils.py:178: FutureWarning: The default of observed=False is deprecated and will be changed to True in a future version of pandas. Pass observed=False to retain current behavior or observed=True to adopt the future default and silence this warning.\n",
      "  mean_emb = df_emb.groupby(df_emb.index).mean()\n"
     ]
    },
    {
     "name": "stdout",
     "output_type": "stream",
     "text": [
      "(7, 2) (32,)\n",
      "Evaluations\n",
      "./outcomes/chemo\n",
      "Geneformer-V2-104M\n"
     ]
    }
   ],
   "source": [
    "metrics_test_list= [] \n",
    "for m in model_names:\n",
    "    embedding_col = get_embd_key(m)\n",
    "    adata = load_data(base_dir,m)\n",
    "    adata = prepare_data(adata, id_column)\n",
    "\n",
    "    pred_train_df, pred_test_df, metrics_train_df, metrics_test_df = run_cv(adata, __train_avg_expression,  cv_split_dict, embedding_col)\n",
    "    save_results(pred_train_df, pred_test_df, metrics_train_df, metrics_test_df, saving_dir, model_name=m, prefix='avg')\n",
    "    dd = metrics_test_df.mean(numeric_only=True)\n",
    "    metrics_test_list.append(dd)\n",
    "\n",
    "results = pd.DataFrame(metrics_test_list, index = model_names)\n",
    "results.to_csv(join(saving_dir, 'avg_metrics_test.csv' ))"
   ]
  },
  {
   "cell_type": "code",
   "execution_count": null,
   "id": "48976a16-2572-4055-bf44-59c9a2ee650d",
   "metadata": {
    "tags": []
   },
   "outputs": [],
   "source": [
    "pd.DataFrame(metrics_test_list, index = model_names)"
   ]
  },
  {
   "cell_type": "code",
   "execution_count": null,
   "id": "7c55f373-dc40-461b-aa14-82ed57cf009d",
   "metadata": {
    "tags": []
   },
   "outputs": [],
   "source": [
    "pd.DataFrame(metrics_test_list, index = model_names)"
   ]
  },
  {
   "cell_type": "code",
   "execution_count": null,
   "id": "6049f0ff-0543-4511-8002-0889f862de84",
   "metadata": {
    "tags": []
   },
   "outputs": [],
   "source": [
    "pd.DataFrame(metrics_test_list, index = model_names)"
   ]
  },
  {
   "cell_type": "code",
   "execution_count": null,
   "id": "d4ff11b6-f198-45a4-a766-306fb52fdb2b",
   "metadata": {
    "tags": []
   },
   "outputs": [],
   "source": [
    "pd.DataFrame(metrics_test_list, index = model_names)"
   ]
  },
  {
   "cell_type": "code",
   "execution_count": null,
   "id": "e51d37ea-e30f-44b3-a6ab-843c5c77e755",
   "metadata": {
    "tags": []
   },
   "outputs": [],
   "source": [
    "pd.DataFrame(metrics_test_list, index = model_names)"
   ]
  },
  {
   "cell_type": "code",
   "execution_count": null,
   "id": "ff1fbb4d-a4d2-4686-950d-07d49a7b2ea0",
   "metadata": {
    "tags": []
   },
   "outputs": [],
   "source": [
    "pd.DataFrame(metrics_test_list, index = model_names).to_csv(join(saving_dir, 'vote_metrics_test.csv' ))"
   ]
  },
  {
   "cell_type": "code",
   "execution_count": null,
   "id": "2d895bc1-b4f0-49ec-a365-ad16c640dba5",
   "metadata": {
    "tags": []
   },
   "outputs": [],
   "source": [
    "pd.DataFrame(metrics_test_list, index = model_names)"
   ]
  },
  {
   "cell_type": "code",
   "execution_count": null,
   "id": "2a31ed60-f395-4ce9-97c6-53500bccc871",
   "metadata": {
    "tags": []
   },
   "outputs": [],
   "source": [
    "pd.DataFrame(metrics_test_list, index = model_names).to_csv(join(saving_dir, 'avg_metrics_test.csv' ))"
   ]
  },
  {
   "cell_type": "code",
   "execution_count": null,
   "id": "a45becfc-1af9-4e35-b268-8735c8e4124d",
   "metadata": {
    "tags": []
   },
   "outputs": [],
   "source": [
    "pd.DataFrame(metrics_test_list, index = model_names)"
   ]
  },
  {
   "cell_type": "code",
   "execution_count": null,
   "id": "5bd9c855-4bbb-4b83-8ced-44e2fde5133f",
   "metadata": {
    "tags": []
   },
   "outputs": [],
   "source": [
    "\n"
   ]
  },
  {
   "cell_type": "code",
   "execution_count": null,
   "id": "afa2354c-6f88-40db-a8e1-2a0e0ce8abd9",
   "metadata": {
    "tags": []
   },
   "outputs": [],
   "source": []
  },
  {
   "cell_type": "code",
   "execution_count": null,
   "id": "f7ddfc78-9ff4-41e3-8e9c-64d83a2336e3",
   "metadata": {},
   "outputs": [],
   "source": []
  },
  {
   "cell_type": "code",
   "execution_count": null,
   "id": "c97ad515-7815-4f68-a3a5-708033b35ece",
   "metadata": {
    "tags": []
   },
   "outputs": [],
   "source": [
    "\n",
    "    "
   ]
  },
  {
   "cell_type": "code",
   "execution_count": null,
   "id": "20b2cf10-bb3c-40c4-bbfd-7569d72e2f1b",
   "metadata": {
    "tags": []
   },
   "outputs": [],
   "source": [
    "\n",
    "    "
   ]
  },
  {
   "cell_type": "code",
   "execution_count": null,
   "id": "fcb8825e-3caa-4b3c-941f-67237db96af0",
   "metadata": {
    "tags": []
   },
   "outputs": [],
   "source": []
  },
  {
   "cell_type": "code",
   "execution_count": null,
   "id": "d3ba4f2c-8f8a-4b55-8102-2c9fa72b0df4",
   "metadata": {
    "tags": []
   },
   "outputs": [],
   "source": []
  },
  {
   "cell_type": "code",
   "execution_count": null,
   "id": "386a5338-3ad8-4a59-b471-82370f8c2f13",
   "metadata": {
    "tags": []
   },
   "outputs": [],
   "source": []
  },
  {
   "cell_type": "code",
   "execution_count": null,
   "id": "d91d42d4-4dc7-442f-b331-c909ce03ee05",
   "metadata": {
    "tags": []
   },
   "outputs": [],
   "source": []
  },
  {
   "cell_type": "code",
   "execution_count": null,
   "id": "85735100-2456-4486-a56b-db6785b033fa",
   "metadata": {
    "tags": []
   },
   "outputs": [],
   "source": []
  },
  {
   "cell_type": "code",
   "execution_count": null,
   "id": "8538bbff-04bb-426b-b51d-f7048cec4f11",
   "metadata": {
    "tags": []
   },
   "outputs": [],
   "source": []
  },
  {
   "cell_type": "code",
   "execution_count": null,
   "id": "c93879c6-8f70-45d4-91f4-f84bcb2549cf",
   "metadata": {
    "tags": []
   },
   "outputs": [],
   "source": [
    "%%time\n"
   ]
  },
  {
   "cell_type": "code",
   "execution_count": null,
   "id": "fc99aa81-bf0b-44e2-8eeb-a14a0cad304a",
   "metadata": {
    "tags": []
   },
   "outputs": [],
   "source": [
    "pred_train_df  = pd.concat(predictions_train, names=['fold']).reset_index(level=0)\n",
    "pred_train_df.to_csv(join(saving_dir, 'vote_pred_train.csv'))"
   ]
  },
  {
   "cell_type": "code",
   "execution_count": null,
   "id": "0bf04650-2da7-43ad-b89f-6317be899a8c",
   "metadata": {
    "tags": []
   },
   "outputs": [],
   "source": [
    "pred_train_df  = pd.concat(predictions_train, names=['fold']).reset_index(level=0)\n",
    "pred_train_df.to_csv(join(saving_dir, 'vote_pred_train.csv'))"
   ]
  },
  {
   "cell_type": "code",
   "execution_count": null,
   "id": "2b1e3b45-56b1-4a48-ac68-f355f9d7cf85",
   "metadata": {
    "tags": []
   },
   "outputs": [],
   "source": [
    "pd.DataFrame(metrics_test).mean(numeric_only=True)"
   ]
  },
  {
   "cell_type": "code",
   "execution_count": null,
   "id": "30071009-cc74-4c96-908a-4333c5077e7e",
   "metadata": {
    "tags": []
   },
   "outputs": [],
   "source": [
    "pd.DataFrame(metrics_test).to_csv(join(saving_dir, 'vote_metrics_test.csv'))"
   ]
  },
  {
   "cell_type": "code",
   "execution_count": null,
   "id": "3aef332a-43fb-496c-a44a-bc62ef47561f",
   "metadata": {
    "tags": []
   },
   "outputs": [],
   "source": [
    "pd.DataFrame(metrics_train).to_csv(join(saving_dir, 'vote_metrics_train.csv'))"
   ]
  },
  {
   "cell_type": "code",
   "execution_count": null,
   "id": "06f61fb3-59a3-4db6-9e8c-6a56d581291c",
   "metadata": {
    "tags": []
   },
   "outputs": [],
   "source": [
    "pd.DataFrame(metrics)['auprc'].mean()"
   ]
  },
  {
   "cell_type": "code",
   "execution_count": null,
   "id": "83558c45-ff8f-4637-9bb3-01a7de9b18ab",
   "metadata": {
    "tags": []
   },
   "outputs": [],
   "source": []
  },
  {
   "cell_type": "code",
   "execution_count": null,
   "id": "e9084960-6450-4507-8573-e7df615df4bd",
   "metadata": {
    "tags": []
   },
   "outputs": [],
   "source": [
    "pd.DataFrame(metrics)"
   ]
  },
  {
   "cell_type": "code",
   "execution_count": null,
   "id": "abf61b65-29b6-41be-a7b9-f47909797327",
   "metadata": {},
   "outputs": [],
   "source": []
  },
  {
   "cell_type": "code",
   "execution_count": null,
   "id": "34b3a83e-e962-4f27-87e3-fdb5719ffd84",
   "metadata": {
    "tags": []
   },
   "outputs": [],
   "source": [
    "pd.DataFrame(metrics)['auprc'].mean()"
   ]
  },
  {
   "cell_type": "markdown",
   "id": "6dabe289-a2b6-4042-8c79-8db22e5791eb",
   "metadata": {
    "tags": []
   },
   "source": [
    "## Subtype"
   ]
  },
  {
   "cell_type": "markdown",
   "id": "cc669262-6f2c-4145-9403-86461b8f7834",
   "metadata": {},
   "source": []
  },
  {
   "cell_type": "code",
   "execution_count": null,
   "id": "473414a6-1b43-495d-b1a3-33f6d8407118",
   "metadata": {
    "tags": []
   },
   "outputs": [],
   "source": [
    "adata.obs['cohort'].value_counts()"
   ]
  },
  {
   "cell_type": "code",
   "execution_count": null,
   "id": "e8cf2282-40cf-42a5-9931-e64fdb6bd2af",
   "metadata": {
    "tags": []
   },
   "outputs": [],
   "source": [
    "adata_subtype = adata[adata.obs['cohort'] == 'treatment_naive'].copy()\n"
   ]
  },
  {
   "cell_type": "code",
   "execution_count": null,
   "id": "21e651f3-8eac-41b1-a024-4163d0c24ecf",
   "metadata": {},
   "outputs": [],
   "source": [
    "adata_subtype.obs['timepoint'].value_counts()"
   ]
  },
  {
   "cell_type": "code",
   "execution_count": null,
   "id": "4eddfc5c-7d42-4a48-b229-32f497cdb4df",
   "metadata": {
    "tags": []
   },
   "outputs": [],
   "source": [
    "adata_subtype.obs['timepoint'].value_counts()"
   ]
  },
  {
   "cell_type": "code",
   "execution_count": null,
   "id": "c5c5450d-8dbf-4f7b-ae0d-ae248bc5292b",
   "metadata": {
    "tags": []
   },
   "outputs": [],
   "source": [
    "adata_subtype = adata_subtype[adata_subtype.obs['timepoint'] == 'Pre']\n"
   ]
  },
  {
   "cell_type": "code",
   "execution_count": null,
   "id": "18cc30fa-f14c-4485-965d-bae317c79b5b",
   "metadata": {},
   "outputs": [],
   "source": []
  },
  {
   "cell_type": "code",
   "execution_count": null,
   "id": "f067707e-4922-462e-ade6-fe0af921dbc9",
   "metadata": {},
   "outputs": [],
   "source": []
  },
  {
   "cell_type": "code",
   "execution_count": null,
   "id": "3e92ed76-409a-42aa-9835-f29b1c7f304b",
   "metadata": {},
   "outputs": [],
   "source": []
  },
  {
   "cell_type": "code",
   "execution_count": null,
   "id": "bd0bcd6f-8028-49fb-b877-8d853b467fa1",
   "metadata": {
    "tags": []
   },
   "outputs": [],
   "source": [
    "adata_subtype.obs"
   ]
  },
  {
   "cell_type": "code",
   "execution_count": null,
   "id": "39b8a4ca-8e37-4dc0-bd68-4297c9cc29d3",
   "metadata": {
    "tags": []
   },
   "outputs": [],
   "source": [
    "adata_subtype.obs['Cancer_type'].value_counts()"
   ]
  },
  {
   "cell_type": "code",
   "execution_count": null,
   "id": "a8fef741-062d-4471-a448-518e0cdb4e5d",
   "metadata": {
    "tags": []
   },
   "outputs": [],
   "source": [
    "adata_subtype = adata_subtype[adata_subtype.obs['Cancer_type'].isin( ['ER+', 'TNBC'])]\n"
   ]
  },
  {
   "cell_type": "code",
   "execution_count": null,
   "id": "34d97ec1-6bcf-41a6-95f9-8de474a7ab14",
   "metadata": {
    "tags": []
   },
   "outputs": [],
   "source": [
    "adata_subtype.obs['Cancer_type'].value_counts()"
   ]
  },
  {
   "cell_type": "code",
   "execution_count": null,
   "id": "cc32f90b-2451-4e5e-8953-f572e362fb73",
   "metadata": {
    "tags": []
   },
   "outputs": [],
   "source": [
    "cv_splits_file = '/home/jupyter/sceval/data_splits/brca_full/brca_subtype/cv_splits.json'\n",
    "cv_split_dict = json.load(open(cv_splits_file))"
   ]
  },
  {
   "cell_type": "code",
   "execution_count": null,
   "id": "83cb8ab2-5d42-46a1-919a-adebeb26f52f",
   "metadata": {
    "tags": []
   },
   "outputs": [],
   "source": [
    "adata_subtype.obs['sample_id'] = adata_subtype.obs[id_column]\n",
    "adata_subtype.obs['label'] = adata_subtype.obs['Cancer_type']\n"
   ]
  },
  {
   "cell_type": "code",
   "execution_count": null,
   "id": "2ca79b87-6408-485e-a6ff-a5f956c24b32",
   "metadata": {
    "tags": []
   },
   "outputs": [],
   "source": [
    "adata_subtype.obs['label']"
   ]
  },
  {
   "cell_type": "code",
   "execution_count": null,
   "id": "b8a802c8-27a8-421b-be07-d7615068ed3e",
   "metadata": {
    "tags": []
   },
   "outputs": [],
   "source": [
    "adata_subtype.obs['label'] = adata_subtype.obs['label'].astype(str)"
   ]
  },
  {
   "cell_type": "code",
   "execution_count": null,
   "id": "97b3635a-5358-4cc8-8834-e8aaa3cba138",
   "metadata": {
    "tags": []
   },
   "outputs": [],
   "source": [
    "adata_subtype.obs['label'] "
   ]
  },
  {
   "cell_type": "code",
   "execution_count": null,
   "id": "fed69526-ca3e-4138-92a6-24eba386c7af",
   "metadata": {
    "tags": []
   },
   "outputs": [],
   "source": [
    "label_map = {'ER+': 0, 'TNBC': 1}\n",
    "adata_subtype.obs.label =adata_subtype.obs.label.map(label_map)"
   ]
  },
  {
   "cell_type": "code",
   "execution_count": null,
   "id": "566c9468-de7d-4096-a543-e9f8d61770b5",
   "metadata": {
    "tags": []
   },
   "outputs": [],
   "source": [
    "adata_subtype.obs.label"
   ]
  },
  {
   "cell_type": "code",
   "execution_count": null,
   "id": "13d40cc4-7d32-4c4e-b47b-9321cd3d4403",
   "metadata": {
    "tags": []
   },
   "outputs": [],
   "source": [
    "%%time\n",
    "embedding_col = 'X_geneformer'\n",
    "metrics= []\n",
    "for i in range(n_splits):\n",
    "            print(f'---------- fold {i+1}----------')\n",
    "            train_ids, test_ids = train_ids_list[i], test_ids_list[i]\n",
    "            print('Split data')\n",
    "            adata_train, adata_test = split_data(adata_subtype,  id_column, train_ids, test_ids)\n",
    "            X_train, y_train = adata_train.obsm[embedding_col], adata_train.obs['label'].values\n",
    "            X_test, y_test = adata_test.obsm[embedding_col], adata_test.obs['label'].values\n",
    "        \n",
    "            print('Train classifier')\n",
    "            model, _, _ , y_pred_train, y_pred_test, y_pred_score_train, y_pred_score_test = train_classifier(X_train, y_train, X_test, y_test, \n",
    "                                                                  model_name='random_forest')\n",
    "                \n",
    "            print('Evaluations')\n",
    "            adata_test.obs['pred'] = y_pred_test\n",
    "            adata_test.obs['pred_score'] = y_pred_score_test[:, 1] #assume binary classification\n",
    "            adata_test_df = adata_test.obs\n",
    "            pred_df = get_patient_level( adata_test_df)\n",
    "            fold_metrics = get_classification_metrics(pred_df)\n",
    "            metrics.append(fold_metrics)"
   ]
  },
  {
   "cell_type": "code",
   "execution_count": null,
   "id": "2849de77-f82b-406e-a1a5-1ea9746e1813",
   "metadata": {
    "tags": []
   },
   "outputs": [],
   "source": [
    "pd.DataFrame(metrics)"
   ]
  },
  {
   "cell_type": "markdown",
   "id": "c803ed48-c8ab-43d4-99ef-d958cb97ab4e",
   "metadata": {},
   "source": [
    "## Pre vs post (all cells)"
   ]
  },
  {
   "cell_type": "code",
   "execution_count": null,
   "id": "a3ca6d7f-45bb-41ad-a89a-32e192ad4a87",
   "metadata": {},
   "outputs": [],
   "source": []
  },
  {
   "cell_type": "code",
   "execution_count": null,
   "id": "cfad8dab-6137-486d-a970-db99d7d7f8eb",
   "metadata": {},
   "outputs": [],
   "source": []
  },
  {
   "cell_type": "code",
   "execution_count": null,
   "id": "fe516d4c-9ba4-4f55-ab81-bea07fdccbdf",
   "metadata": {},
   "outputs": [],
   "source": []
  },
  {
   "cell_type": "code",
   "execution_count": null,
   "id": "cd0cca93-c9f6-4372-aa29-e42956b71250",
   "metadata": {
    "tags": []
   },
   "outputs": [],
   "source": [
    "adata.obs['pre_post'].value_counts()"
   ]
  },
  {
   "cell_type": "code",
   "execution_count": null,
   "id": "cde76850-07e3-4048-ae12-7f70ac564858",
   "metadata": {},
   "outputs": [],
   "source": [
    "# read cv splits\n",
    "# split data\n",
    "# run cv\n",
    "# get patien level predictions\n",
    "# save preictions and metrics\n"
   ]
  },
  {
   "cell_type": "code",
   "execution_count": null,
   "id": "c02928ac-7c87-4685-b6d9-3e365fcf0283",
   "metadata": {
    "tags": []
   },
   "outputs": [],
   "source": [
    "import json"
   ]
  },
  {
   "cell_type": "code",
   "execution_count": null,
   "id": "cff059a8-edad-4c10-9f02-dbf4163db5ce",
   "metadata": {
    "tags": []
   },
   "outputs": [],
   "source": []
  },
  {
   "cell_type": "code",
   "execution_count": null,
   "id": "c34c6b8a-2d46-4809-9d40-56e597ae4b2b",
   "metadata": {
    "tags": []
   },
   "outputs": [],
   "source": [
    "\n"
   ]
  },
  {
   "cell_type": "code",
   "execution_count": null,
   "id": "f9c7bca2-bea5-478c-a24b-3f16255430b0",
   "metadata": {
    "tags": []
   },
   "outputs": [],
   "source": [
    "adata_tcell = adata[adata.obs.cell_types=='T_cell']"
   ]
  },
  {
   "cell_type": "code",
   "execution_count": null,
   "id": "6790edbb-2dbe-45f7-b4d3-359776244062",
   "metadata": {
    "tags": []
   },
   "outputs": [],
   "source": [
    "adata_tcell"
   ]
  },
  {
   "cell_type": "code",
   "execution_count": null,
   "id": "74957117-6ed2-4dfe-9434-2cdb83053f80",
   "metadata": {
    "tags": []
   },
   "outputs": [],
   "source": [
    "split_data"
   ]
  },
  {
   "cell_type": "code",
   "execution_count": null,
   "id": "3a2f20b6-fd8d-4fdc-838f-5cec7fb8fb36",
   "metadata": {
    "tags": []
   },
   "outputs": [],
   "source": [
    "cv_splits_file = '/home/jupyter/sceval/data_splits/brca_full/brca_pre_post/cv_splits.json'"
   ]
  },
  {
   "cell_type": "code",
   "execution_count": null,
   "id": "4fac99ed-118d-41dd-ac3f-43b268f1e19c",
   "metadata": {
    "tags": []
   },
   "outputs": [],
   "source": [
    "cv_split_dict = json.load(open(cv_splits_file))"
   ]
  },
  {
   "cell_type": "code",
   "execution_count": null,
   "id": "de993116-fae5-424b-9c48-067ad7c7a69b",
   "metadata": {
    "tags": []
   },
   "outputs": [],
   "source": [
    "cv_split_dict"
   ]
  },
  {
   "cell_type": "code",
   "execution_count": null,
   "id": "0d35e49a-7b84-4253-827b-ecc211330ea0",
   "metadata": {
    "tags": []
   },
   "outputs": [],
   "source": [
    "id_column, n_splits, train_ids_list, test_ids_list = get_splits_cv(cv_split_dict)"
   ]
  },
  {
   "cell_type": "code",
   "execution_count": null,
   "id": "5be364d6-2c69-40d9-84e2-4fc5d5a925b3",
   "metadata": {
    "tags": []
   },
   "outputs": [],
   "source": [
    "id_column"
   ]
  },
  {
   "cell_type": "code",
   "execution_count": null,
   "id": "f017ee37-41e7-4d53-8bb3-04540c1ef33d",
   "metadata": {
    "tags": []
   },
   "outputs": [],
   "source": [
    "adata_tcell.obs['sample_id'] = adata_tcell.obs[id_column]\n",
    "\n",
    "label_map = {'Pre': 0, 'Post': 1}\n"
   ]
  },
  {
   "cell_type": "code",
   "execution_count": null,
   "id": "5605348d-520c-4dba-9c68-2a64df6e4b39",
   "metadata": {
    "tags": []
   },
   "outputs": [],
   "source": [
    "adata_tcell.obs.label= adata_tcell.obs.label.map(label_map)"
   ]
  },
  {
   "cell_type": "code",
   "execution_count": null,
   "id": "efa6d60c-c6a9-42fe-a86e-ba1b32db578c",
   "metadata": {
    "tags": []
   },
   "outputs": [],
   "source": [
    "%%time\n",
    "embedding_col = 'X_geneformer'\n",
    "metrics= []\n",
    "for i in range(n_splits):\n",
    "            print(f'---------- fold {i+1}----------')\n",
    "            train_ids, test_ids = train_ids_list[i], test_ids_list[i]\n",
    "            print('Split data')\n",
    "            adata_train, adata_test = split_data(adata_tcell,  id_column, train_ids, test_ids)\n",
    "            X_train, y_train = adata_train.obsm[embedding_col], adata_train.obs['label']\n",
    "            X_test, y_test = adata_test.obsm[embedding_col], adata_test.obs['label']\n",
    "        \n",
    "            print('Train classifier')\n",
    "            model, y_train, y_test, y_pred_train, y_pred_test, y_pred_score_train, y_pred_score_test = train_classifier(X_train, y_train, X_test, y_test, \n",
    "                                                                  model_name='random_forest')\n",
    "                \n",
    "            print('Evaluations')\n",
    "            adata_test.obs['pred'] = y_pred_test\n",
    "            adata_test.obs['pred_score'] = y_pred_score_test[:, 1] #assume binary classification\n",
    "            adata_test_df = adata_test.obs\n",
    "            pred_df = get_patient_level( adata_test_df)\n",
    "            fold_metrics = get_classification_metrics(pred_df)\n",
    "            metrics.append(fold_metrics)\n",
    "            \n",
    "            \n",
    "            "
   ]
  },
  {
   "cell_type": "code",
   "execution_count": null,
   "id": "c09a6546-952a-4a06-93b6-baf885377973",
   "metadata": {
    "tags": []
   },
   "outputs": [],
   "source": [
    "pd.DataFrame(metrics)"
   ]
  },
  {
   "cell_type": "code",
   "execution_count": null,
   "id": "2904a6c9-f773-4657-b514-bb39aa32dbd6",
   "metadata": {
    "tags": []
   },
   "outputs": [],
   "source": [
    "pd.DataFrame(metrics)['auprc'].mean()"
   ]
  },
  {
   "cell_type": "code",
   "execution_count": null,
   "id": "a9fa63fc-2b80-462f-8360-d72e2651bdfd",
   "metadata": {
    "tags": []
   },
   "outputs": [],
   "source": [
    "adata.obs.cell_types.value_counts()"
   ]
  },
  {
   "cell_type": "code",
   "execution_count": null,
   "id": "64842b4f-3388-476b-8675-96f154661c19",
   "metadata": {
    "tags": []
   },
   "outputs": [],
   "source": [
    "adata_cancer = adata[adata.obs.cell_types=='Cancer_cell']"
   ]
  },
  {
   "cell_type": "code",
   "execution_count": null,
   "id": "ed5a3861-41a3-4608-bb24-1ccd2101f1fb",
   "metadata": {
    "tags": []
   },
   "outputs": [],
   "source": [
    "adata_cancer"
   ]
  },
  {
   "cell_type": "code",
   "execution_count": null,
   "id": "11d12faa-e5d4-499e-97fd-bab3293dfbe3",
   "metadata": {
    "tags": []
   },
   "outputs": [],
   "source": [
    "adata_cancer.obs['sample_id'] = adata_cancer.obs[id_column]\n",
    "\n",
    "label_map = {'Pre': 0, 'Post': 1}"
   ]
  },
  {
   "cell_type": "code",
   "execution_count": null,
   "id": "9f40e790-7984-490f-945c-47c7894cc357",
   "metadata": {
    "tags": []
   },
   "outputs": [],
   "source": [
    "adata_cancer.obs.label= adata_cancer.obs.label.map(label_map)"
   ]
  },
  {
   "cell_type": "code",
   "execution_count": null,
   "id": "acfe4da9-38a7-4c07-890e-d03b4442d869",
   "metadata": {
    "tags": []
   },
   "outputs": [],
   "source": [
    "%%time\n",
    "embedding_col = 'X_geneformer'\n",
    "metrics= []\n",
    "for i in range(n_splits):\n",
    "            print(f'---------- fold {i+1}----------')\n",
    "            train_ids, test_ids = train_ids_list[i], test_ids_list[i]\n",
    "            print('Split data')\n",
    "            adata_train, adata_test = split_data(adata_cancer,  id_column, train_ids, test_ids)\n",
    "            X_train, y_train = adata_train.obsm[embedding_col], adata_train.obs['label']\n",
    "            X_test, y_test = adata_test.obsm[embedding_col], adata_test.obs['label']\n",
    "        \n",
    "            print('Train classifier')\n",
    "            model, y_train, y_test, y_pred_train, y_pred_test, y_pred_score_train, y_pred_score_test = train_classifier(X_train, y_train, X_test, y_test, \n",
    "                                                                  model_name='random_forest')\n",
    "                \n",
    "            print('Evaluations')\n",
    "            adata_test.obs['pred'] = y_pred_test\n",
    "            adata_test.obs['pred_score'] = y_pred_score_test[:, 1] #assume binary classification\n",
    "            adata_test_df = adata_test.obs\n",
    "            pred_df = get_patient_level( adata_test_df)\n",
    "            fold_metrics = get_classification_metrics(pred_df)\n",
    "            metrics.append(fold_metrics)"
   ]
  },
  {
   "cell_type": "code",
   "execution_count": null,
   "id": "69592bd4-0dab-49c1-aedf-26425373cc2c",
   "metadata": {
    "tags": []
   },
   "outputs": [],
   "source": [
    "pd.DataFrame(metrics)"
   ]
  },
  {
   "cell_type": "code",
   "execution_count": null,
   "id": "42030018-9f6c-4fe4-9af4-1c2d5c5d6f8c",
   "metadata": {},
   "outputs": [],
   "source": []
  }
 ],
 "metadata": {
  "environment": {
   "kernel": "scfoundation",
   "name": "pytorch-gpu.2-2.m128",
   "type": "gcloud",
   "uri": "us-docker.pkg.dev/deeplearning-platform-release/gcr.io/pytorch-gpu.2-2:m128"
  },
  "kernelspec": {
   "display_name": "Python (scfoundation )",
   "language": "python",
   "name": "scfoundation"
  },
  "language_info": {
   "codemirror_mode": {
    "name": "ipython",
    "version": 3
   },
   "file_extension": ".py",
   "mimetype": "text/x-python",
   "name": "python",
   "nbconvert_exporter": "python",
   "pygments_lexer": "ipython3",
   "version": "3.10.18"
  }
 },
 "nbformat": 4,
 "nbformat_minor": 5
}
