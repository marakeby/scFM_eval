{
 "cells": [
  {
   "cell_type": "code",
   "execution_count": 2,
   "id": "fd014b9a-3681-4780-a3ed-73e302047d39",
   "metadata": {
    "tags": []
   },
   "outputs": [],
   "source": [
    "import os\n",
    "from os import listdir\n",
    "from os.path import isfile, join, dirname, basename\n",
    "import pandas as pd"
   ]
  },
  {
   "cell_type": "code",
   "execution_count": 3,
   "id": "cad953f3-d6cf-40fe-a53d-1ba553074dcc",
   "metadata": {
    "tags": []
   },
   "outputs": [],
   "source": [
    "import matplotlib.pyplot as plt\n",
    "import seaborn as sns"
   ]
  },
  {
   "cell_type": "code",
   "execution_count": 4,
   "id": "c8746d73-b132-4a80-82c4-d9e69a616a5f",
   "metadata": {
    "tags": []
   },
   "outputs": [],
   "source": [
    "import matplotlib.gridspec as gridspec"
   ]
  },
  {
   "cell_type": "code",
   "execution_count": 5,
   "id": "6c9e50e3-0ae9-4caa-acd1-ff94cdeb7425",
   "metadata": {
    "tags": []
   },
   "outputs": [],
   "source": [
    "# from analysis_utils import collect_cv_metrics, map_groups, plot_cv_metrics"
   ]
  },
  {
   "cell_type": "code",
   "execution_count": 20,
   "id": "bf6525f2-851a-4214-b9d1-23f04c8a97ed",
   "metadata": {
    "tags": []
   },
   "outputs": [
    {
     "data": {
      "text/plain": [
       "<Figure size 640x480 with 0 Axes>"
      ]
     },
     "metadata": {},
     "output_type": "display_data"
    }
   ],
   "source": [
    "%run analysis_utils.py"
   ]
  },
  {
   "cell_type": "code",
   "execution_count": null,
   "id": "717af637-b273-433f-966d-eb9fb59d1135",
   "metadata": {
    "tags": []
   },
   "outputs": [],
   "source": []
  },
  {
   "cell_type": "code",
   "execution_count": 21,
   "id": "c903bd6c-2fe3-4ede-a992-2fe5ec296b04",
   "metadata": {
    "tags": []
   },
   "outputs": [],
   "source": [
    "def collect_auprc_scores(metric='AUPRC', clf='avg', base_dir='results'):\n",
    "    all_results = []\n",
    "\n",
    "    for subdir in os.listdir(base_dir):\n",
    "        if subdir.startswith('__'):\n",
    "            print(f'skipping {subdir}')\n",
    "            continue\n",
    "        exp_path = os.path.join(base_dir, subdir)\n",
    "        file_path = os.path.join(exp_path, f'{metric}_{clf}.csv')\n",
    "        if os.path.isfile(file_path):\n",
    "            try:\n",
    "                df = pd.read_csv(file_path)\n",
    "                df['experiment_name'] = subdir  # Add experiment name\n",
    "                all_results.append(df[['experiment_name', 'experiment', 'group', 'mean']])\n",
    "            except Exception as e:\n",
    "                print(f\"Failed to read {file_path}: {e}\")\n",
    "\n",
    "    if not all_results:\n",
    "        raise ValueError(f\"No valid {metric} files found.\")\n",
    "\n",
    "    combined_df = pd.concat(all_results)\n",
    "    return combined_df\n"
   ]
  },
  {
   "cell_type": "code",
   "execution_count": 22,
   "id": "3032808a-42bf-4978-9df7-5ea55763d7b2",
   "metadata": {
    "tags": []
   },
   "outputs": [],
   "source": [
    "def process_and_sort(df):\n",
    "    model_means = df.groupby('experiment')['mean'].mean().reset_index(name='mean_overall')\n",
    "    # model_means = df.groupby('experiment')['mean'].median().reset_index(name='mean_overall')\n",
    "\n",
    "    model_groups = df[['experiment', 'group']].drop_duplicates()\n",
    "\n",
    "    sorted_models = model_means.merge(model_groups, on='experiment')\n",
    "    sorted_models = sorted_models.sort_values(by=['group', 'mean_overall'], ascending=[True, False])\n",
    "    sorted_model_order = sorted_models['experiment'].tolist()\n",
    "\n",
    "    heatmap_df = df.pivot(index='experiment_name', columns='experiment', values='mean')\n",
    "    heatmap_df = heatmap_df[sorted_model_order]\n",
    "\n",
    "    return heatmap_df, sorted_models"
   ]
  },
  {
   "cell_type": "code",
   "execution_count": 23,
   "id": "45acc74b-f4ba-4cd6-b3f0-4e342fd4c5bb",
   "metadata": {
    "tags": []
   },
   "outputs": [],
   "source": [
    "\n",
    "def plot_composite_by_group_panels(heatmap_df, sorted_models, metric, clf='avg', save_dir='.'):\n",
    "    import matplotlib.pyplot as plt\n",
    "    import seaborn as sns\n",
    "    import matplotlib.gridspec as gridspec\n",
    "    import numpy as np\n",
    "    from os.path import join\n",
    "    from matplotlib.cm import get_cmap\n",
    "    from matplotlib.colors import Normalize\n",
    "\n",
    "    sorted_models = sorted_models.round(2)\n",
    "    heatmap_df = heatmap_df.round(2)\n",
    "\n",
    "    # Calculate row-wise averages and sort\n",
    "    row_avg = heatmap_df.mean(axis=1)\n",
    "    heatmap_df = heatmap_df.loc[row_avg.sort_values(ascending=False).index]\n",
    "\n",
    "    grouped = sorted_models.groupby('group')\n",
    "    n_groups = len(grouped)\n",
    "    palette = sns.color_palette(\"husl\", n_groups)\n",
    "    color_map = dict(zip(grouped.groups.keys(), palette))\n",
    "\n",
    "    global_vmin = heatmap_df.min().min()\n",
    "    global_vmax = heatmap_df.max().max()\n",
    "    norm = Normalize(vmin=global_vmin, vmax=global_vmax)\n",
    "    cmap = get_cmap('viridis')\n",
    "\n",
    "    total_models = sum(len(group_df) for _, group_df in grouped)\n",
    "    fig = plt.figure(figsize=(max(6, total_models * 0.5 + 1.5), max(6, heatmap_df.shape[0] * 0.6)))\n",
    "\n",
    "    group_model_counts = [len(group_df) for _, group_df in grouped]\n",
    "\n",
    "    # gs = gridspec.GridSpec(\n",
    "    #     3,\n",
    "    #     n_groups + 2,\n",
    "    #     width_ratios=group_model_counts + [0.2, 1.0],\n",
    "    #     height_ratios=[1.2, 6, 0.4],\n",
    "    #     hspace=0.3,\n",
    "    #     wspace=0.1\n",
    "    # )\n",
    "\n",
    "    gs = gridspec.GridSpec(\n",
    "        3,\n",
    "        n_groups + 2,  # +2 for row avg and colorbar\n",
    "        width_ratios=group_model_counts + [1.0, 0.2],  # row avg, colorbar\n",
    "        height_ratios=[1.2, 6, 0.4],\n",
    "        hspace=0.3,\n",
    "        wspace=0.1\n",
    "    )\n",
    "        \n",
    "    for i, (group_name, group_df) in enumerate(grouped):\n",
    "        # cbar = (i == n_groups - 1)\n",
    "        # cbar_ax = fig.add_subplot(gs[1, -2]) if cbar else None\n",
    "\n",
    "        cbar = (i == n_groups - 1)\n",
    "        cbar_ax = fig.add_subplot(gs[1, -1]) if cbar else None  # now last column\n",
    "        \n",
    "        color = color_map[group_name]\n",
    "        model_names = group_df['experiment'].tolist()\n",
    "        model_avg = group_df['mean_overall'].tolist()\n",
    "        group_heatmap = heatmap_df[model_names]\n",
    "\n",
    "        # Top bar plot\n",
    "        ax_top = fig.add_subplot(gs[0, i])\n",
    "        bars = ax_top.bar(range(len(model_avg)), model_avg, color=color)\n",
    "        ax_top.set_xticks([])\n",
    "        ax_top.set_yticks([])\n",
    "        # ax_top.set_title(f\"{group_name}\\nAvg {metric}\", fontsize=6)\n",
    "        ax_top.set_ylim(0.7, 1)\n",
    "\n",
    "        # Remove all spines (bounding boxes)\n",
    "        for spine in ax_top.spines.values():\n",
    "            spine.set_visible(False)\n",
    "\n",
    "        for idx, bar in enumerate(bars):\n",
    "            height = bar.get_height()\n",
    "            ax_top.text(bar.get_x() + bar.get_width() / 2, height + 0.01, f\"{height:.2f}\", ha='center', va='bottom', fontsize=6)\n",
    "\n",
    "        # Heatmap\n",
    "        ax_heatmap = fig.add_subplot(gs[1, i])\n",
    "        sns.heatmap(\n",
    "            group_heatmap,\n",
    "            ax=ax_heatmap,\n",
    "            annot=True,\n",
    "            fmt=\".2f\",\n",
    "            cmap='viridis',\n",
    "            vmin=global_vmin,\n",
    "            vmax=global_vmax,\n",
    "            cbar=cbar,\n",
    "            cbar_ax=cbar_ax,\n",
    "            xticklabels=False,\n",
    "            annot_kws={\"size\": 6}\n",
    "        )\n",
    "        ax_heatmap.set_xticklabels([])\n",
    "        ax_heatmap.tick_params(axis='x', bottom=False)\n",
    "        ax_heatmap.set_xlabel(group_name)\n",
    "        if i != 0:\n",
    "            ax_heatmap.set_ylabel(\"\")\n",
    "            ax_heatmap.set_yticks([])\n",
    "            ax_heatmap.set_yticklabels([])\n",
    "\n",
    "        xticklabels = model_names\n",
    "        ax_heatmap.tick_params(axis='x', rotation=90, labelsize=8)\n",
    "        ax_heatmap.set_ylabel('')\n",
    "\n",
    "        # Bottom color bar\n",
    "        ax_bottom = fig.add_subplot(gs[2, i])\n",
    "        for j in range(len(model_names)):\n",
    "            ax_bottom.add_patch(plt.Rectangle((j, 0), 1, 1, color=color))\n",
    "            \n",
    "        ax_bottom.set_xlim(0, len(model_names))\n",
    "        ax_bottom.set_ylim(0, 1)\n",
    "        ax_bottom.axis('off')\n",
    "        for j, model in enumerate(model_names):\n",
    "            ax_bottom.text(j + 0.5, -0.2, model, ha='right', va='top', rotation=90, fontsize=10, rotation_mode='anchor')\n",
    "\n",
    "     # Right-side bar plot: row average\n",
    "    # ax_right_bar = fig.add_subplot(gs[1, -1])\n",
    "    # avg_vals = heatmap_df.mean(axis=1)\n",
    "    # y_positions = np.arange(len(avg_vals))\n",
    "    \n",
    "    # Right-side bar plot: row average (now second-to-last column)\n",
    "    ax_right_bar = fig.add_subplot(gs[1, -2])\n",
    "    avg_vals = heatmap_df.mean(axis=1)\n",
    "    y_positions = np.arange(len(avg_vals))\n",
    "    colors = [cmap(norm(val)) for val in avg_vals]\n",
    "\n",
    "    ax_right_bar.barh(y_positions, avg_vals.values, color=colors)\n",
    "\n",
    "    ax_right_bar.invert_yaxis()  # Align with heatmap rows\n",
    "    ax_right_bar.set_xlim(0.4, 1.0)\n",
    "    ax_right_bar.set_yticks([])\n",
    "    ax_right_bar.set_xticks([])\n",
    "    ax_right_bar.set_xlabel(f\"Avg {metric}\", fontsize=5)\n",
    "\n",
    "    for spine in ax_right_bar.spines.values():\n",
    "        spine.set_visible(False)\n",
    "        \n",
    "\n",
    "    # Use heatmap order and colormap for coloring\n",
    "    colors = [cmap(norm(val)) for val in avg_vals]\n",
    "\n",
    "    bars = ax_right_bar.barh(y_positions, avg_vals.values, color=colors)\n",
    "    \n",
    "    if cbar_ax is not None:\n",
    "        cbar_ax.tick_params(labelsize=6)  # Control colorbar tick font size here\n",
    "\n",
    "    # Align and remove ticks\n",
    "    # ax_right_bar.invert_yaxis()  # Align top-down with heatmap\n",
    "    # ax_right_bar.set_xlim(0.7, 1.0)\n",
    "    # ax_right_bar.set_yticks([])\n",
    "    # ax_right_bar.set_xticks([])\n",
    "    # ax_right_bar.set_xlabel(f\"Avg {metric}\", fontsize=8)\n",
    "\n",
    "    # Remove border/spines\n",
    "    for spine in ax_right_bar.spines.values():\n",
    "        spine.set_visible(False)\n",
    "\n",
    "    # Group legend (optional)\n",
    "    fig.subplots_adjust(bottom=0.25)\n",
    "    legend_handles = [plt.Line2D([0], [0], color=c, lw=10) for c in color_map.values()]\n",
    "    # fig.legend(legend_handles, color_map.keys(), loc='lower center', ncol=n_groups)\n",
    "\n",
    "    output_path = join(save_dir, f'{metric}_{clf}.png')\n",
    "    fig.savefig(output_path, dpi=200, bbox_inches='tight')\n",
    "    plt.close()\n",
    "    print(f\"Grouped panel heatmap saved to {output_path}\")\n",
    "    return fig"
   ]
  },
  {
   "cell_type": "code",
   "execution_count": 24,
   "id": "efb29e48-6d03-4800-aac8-67bcc036ef4d",
   "metadata": {
    "tags": []
   },
   "outputs": [],
   "source": [
    "metrics= ['AUC', 'F1', 'AUPRC', 'Recall', 'Precision', 'Accuracy']"
   ]
  },
  {
   "cell_type": "code",
   "execution_count": 25,
   "id": "b147d9a4-ae84-4a00-8714-f1757488a807",
   "metadata": {
    "tags": []
   },
   "outputs": [],
   "source": [
    "clfs = ['vote', 'mil', 'avg'] #['avg', 'mil']"
   ]
  },
  {
   "cell_type": "code",
   "execution_count": 26,
   "id": "7e1ab4f8-d3f8-4f41-bbe6-ef209bd17d1f",
   "metadata": {
    "tags": []
   },
   "outputs": [
    {
     "data": {
      "text/plain": [
       "<function __main__.collect_auprc_scores(metric='AUPRC', clf='avg', base_dir='results')>"
      ]
     },
     "execution_count": 26,
     "metadata": {},
     "output_type": "execute_result"
    }
   ],
   "source": [
    "collect_auprc_scores"
   ]
  },
  {
   "cell_type": "code",
   "execution_count": 27,
   "id": "4565d9a6-71b9-474a-8687-0116b8997853",
   "metadata": {
    "tags": []
   },
   "outputs": [],
   "source": [
    "group_map = {'geneformer':'Geneformer', 'baseline': 'Baseline', 'scgpt': 'scGPT'}\n"
   ]
  },
  {
   "cell_type": "code",
   "execution_count": 28,
   "id": "4f0fb77d-c728-478e-81ad-447002a38b47",
   "metadata": {
    "tags": []
   },
   "outputs": [
    {
     "data": {
      "text/html": [
       "<div>\n",
       "<style scoped>\n",
       "    .dataframe tbody tr th:only-of-type {\n",
       "        vertical-align: middle;\n",
       "    }\n",
       "\n",
       "    .dataframe tbody tr th {\n",
       "        vertical-align: top;\n",
       "    }\n",
       "\n",
       "    .dataframe thead th {\n",
       "        text-align: right;\n",
       "    }\n",
       "</style>\n",
       "<table border=\"1\" class=\"dataframe\">\n",
       "  <thead>\n",
       "    <tr style=\"text-align: right;\">\n",
       "      <th></th>\n",
       "      <th>experiment_name</th>\n",
       "      <th>experiment</th>\n",
       "      <th>group</th>\n",
       "      <th>mean</th>\n",
       "    </tr>\n",
       "  </thead>\n",
       "  <tbody>\n",
       "    <tr>\n",
       "      <th>0</th>\n",
       "      <td>Treatment Naive vs Anti PD1</td>\n",
       "      <td>GF-V2</td>\n",
       "      <td>Geneformer</td>\n",
       "      <td>0.903846</td>\n",
       "    </tr>\n",
       "    <tr>\n",
       "      <th>1</th>\n",
       "      <td>Treatment Naive vs Anti PD1</td>\n",
       "      <td>GF-V2 [cancer]</td>\n",
       "      <td>Geneformer</td>\n",
       "      <td>0.903846</td>\n",
       "    </tr>\n",
       "    <tr>\n",
       "      <th>2</th>\n",
       "      <td>Treatment Naive vs Anti PD1</td>\n",
       "      <td>GF-V2-Deep</td>\n",
       "      <td>Geneformer</td>\n",
       "      <td>0.902564</td>\n",
       "    </tr>\n",
       "    <tr>\n",
       "      <th>3</th>\n",
       "      <td>Treatment Naive vs Anti PD1</td>\n",
       "      <td>CellPLM</td>\n",
       "      <td>other</td>\n",
       "      <td>0.805128</td>\n",
       "    </tr>\n",
       "    <tr>\n",
       "      <th>4</th>\n",
       "      <td>Treatment Naive vs Anti PD1</td>\n",
       "      <td>GF-V1</td>\n",
       "      <td>Geneformer</td>\n",
       "      <td>0.835897</td>\n",
       "    </tr>\n",
       "    <tr>\n",
       "      <th>5</th>\n",
       "      <td>Treatment Naive vs Anti PD1</td>\n",
       "      <td>HVG</td>\n",
       "      <td>Baseline</td>\n",
       "      <td>0.983333</td>\n",
       "    </tr>\n",
       "    <tr>\n",
       "      <th>6</th>\n",
       "      <td>Treatment Naive vs Anti PD1</td>\n",
       "      <td>PCA</td>\n",
       "      <td>Baseline</td>\n",
       "      <td>0.905128</td>\n",
       "    </tr>\n",
       "    <tr>\n",
       "      <th>7</th>\n",
       "      <td>Treatment Naive vs Anti PD1</td>\n",
       "      <td>scFoundation</td>\n",
       "      <td>other</td>\n",
       "      <td>0.966667</td>\n",
       "    </tr>\n",
       "    <tr>\n",
       "      <th>8</th>\n",
       "      <td>Treatment Naive vs Anti PD1</td>\n",
       "      <td>scGPT</td>\n",
       "      <td>scGPT</td>\n",
       "      <td>0.723077</td>\n",
       "    </tr>\n",
       "    <tr>\n",
       "      <th>9</th>\n",
       "      <td>Treatment Naive vs Anti PD1</td>\n",
       "      <td>scGPT [cancer]</td>\n",
       "      <td>scGPT</td>\n",
       "      <td>0.835897</td>\n",
       "    </tr>\n",
       "    <tr>\n",
       "      <th>10</th>\n",
       "      <td>Treatment Naive vs Anti PD1</td>\n",
       "      <td>SCimiarity</td>\n",
       "      <td>other</td>\n",
       "      <td>0.853846</td>\n",
       "    </tr>\n",
       "    <tr>\n",
       "      <th>11</th>\n",
       "      <td>Treatment Naive vs Anti PD1</td>\n",
       "      <td>scVI</td>\n",
       "      <td>Baseline</td>\n",
       "      <td>0.887179</td>\n",
       "    </tr>\n",
       "    <tr>\n",
       "      <th>0</th>\n",
       "      <td>Treatment Naive vs Neoadjuvant Chemo</td>\n",
       "      <td>GF-V2</td>\n",
       "      <td>Geneformer</td>\n",
       "      <td>0.846429</td>\n",
       "    </tr>\n",
       "    <tr>\n",
       "      <th>1</th>\n",
       "      <td>Treatment Naive vs Neoadjuvant Chemo</td>\n",
       "      <td>GF-V2 [cancer]</td>\n",
       "      <td>Geneformer</td>\n",
       "      <td>0.846429</td>\n",
       "    </tr>\n",
       "    <tr>\n",
       "      <th>2</th>\n",
       "      <td>Treatment Naive vs Neoadjuvant Chemo</td>\n",
       "      <td>GF-V2-Deep</td>\n",
       "      <td>Geneformer</td>\n",
       "      <td>0.821429</td>\n",
       "    </tr>\n",
       "    <tr>\n",
       "      <th>3</th>\n",
       "      <td>Treatment Naive vs Neoadjuvant Chemo</td>\n",
       "      <td>CellPLM</td>\n",
       "      <td>other</td>\n",
       "      <td>0.796429</td>\n",
       "    </tr>\n",
       "    <tr>\n",
       "      <th>4</th>\n",
       "      <td>Treatment Naive vs Neoadjuvant Chemo</td>\n",
       "      <td>GF-V1</td>\n",
       "      <td>Geneformer</td>\n",
       "      <td>0.817857</td>\n",
       "    </tr>\n",
       "    <tr>\n",
       "      <th>5</th>\n",
       "      <td>Treatment Naive vs Neoadjuvant Chemo</td>\n",
       "      <td>HVG</td>\n",
       "      <td>Baseline</td>\n",
       "      <td>0.796429</td>\n",
       "    </tr>\n",
       "    <tr>\n",
       "      <th>6</th>\n",
       "      <td>Treatment Naive vs Neoadjuvant Chemo</td>\n",
       "      <td>PCA</td>\n",
       "      <td>Baseline</td>\n",
       "      <td>0.796429</td>\n",
       "    </tr>\n",
       "    <tr>\n",
       "      <th>7</th>\n",
       "      <td>Treatment Naive vs Neoadjuvant Chemo</td>\n",
       "      <td>scFoundation</td>\n",
       "      <td>other</td>\n",
       "      <td>0.821429</td>\n",
       "    </tr>\n",
       "    <tr>\n",
       "      <th>8</th>\n",
       "      <td>Treatment Naive vs Neoadjuvant Chemo</td>\n",
       "      <td>scGPT</td>\n",
       "      <td>scGPT</td>\n",
       "      <td>0.821429</td>\n",
       "    </tr>\n",
       "    <tr>\n",
       "      <th>9</th>\n",
       "      <td>Treatment Naive vs Neoadjuvant Chemo</td>\n",
       "      <td>scGPT [cancer]</td>\n",
       "      <td>scGPT</td>\n",
       "      <td>0.821429</td>\n",
       "    </tr>\n",
       "    <tr>\n",
       "      <th>10</th>\n",
       "      <td>Treatment Naive vs Neoadjuvant Chemo</td>\n",
       "      <td>SCimiarity</td>\n",
       "      <td>other</td>\n",
       "      <td>0.821429</td>\n",
       "    </tr>\n",
       "    <tr>\n",
       "      <th>11</th>\n",
       "      <td>Treatment Naive vs Neoadjuvant Chemo</td>\n",
       "      <td>scVI</td>\n",
       "      <td>Baseline</td>\n",
       "      <td>0.796429</td>\n",
       "    </tr>\n",
       "    <tr>\n",
       "      <th>0</th>\n",
       "      <td>Treatment Naive vs TKI treated</td>\n",
       "      <td>GF-V2</td>\n",
       "      <td>Geneformer</td>\n",
       "      <td>1.000000</td>\n",
       "    </tr>\n",
       "    <tr>\n",
       "      <th>1</th>\n",
       "      <td>Treatment Naive vs TKI treated</td>\n",
       "      <td>GF-V2 [cancer]</td>\n",
       "      <td>Geneformer</td>\n",
       "      <td>1.000000</td>\n",
       "    </tr>\n",
       "    <tr>\n",
       "      <th>2</th>\n",
       "      <td>Treatment Naive vs TKI treated</td>\n",
       "      <td>GF-V2-Deep</td>\n",
       "      <td>Geneformer</td>\n",
       "      <td>1.000000</td>\n",
       "    </tr>\n",
       "    <tr>\n",
       "      <th>3</th>\n",
       "      <td>Treatment Naive vs TKI treated</td>\n",
       "      <td>CellPLM</td>\n",
       "      <td>other</td>\n",
       "      <td>1.000000</td>\n",
       "    </tr>\n",
       "    <tr>\n",
       "      <th>4</th>\n",
       "      <td>Treatment Naive vs TKI treated</td>\n",
       "      <td>GF-V1</td>\n",
       "      <td>Geneformer</td>\n",
       "      <td>1.000000</td>\n",
       "    </tr>\n",
       "    <tr>\n",
       "      <th>5</th>\n",
       "      <td>Treatment Naive vs TKI treated</td>\n",
       "      <td>HVG</td>\n",
       "      <td>Baseline</td>\n",
       "      <td>1.000000</td>\n",
       "    </tr>\n",
       "    <tr>\n",
       "      <th>6</th>\n",
       "      <td>Treatment Naive vs TKI treated</td>\n",
       "      <td>PCA</td>\n",
       "      <td>Baseline</td>\n",
       "      <td>0.500000</td>\n",
       "    </tr>\n",
       "    <tr>\n",
       "      <th>7</th>\n",
       "      <td>Treatment Naive vs TKI treated</td>\n",
       "      <td>scFoundation</td>\n",
       "      <td>other</td>\n",
       "      <td>1.000000</td>\n",
       "    </tr>\n",
       "    <tr>\n",
       "      <th>8</th>\n",
       "      <td>Treatment Naive vs TKI treated</td>\n",
       "      <td>scGPT</td>\n",
       "      <td>scGPT</td>\n",
       "      <td>1.000000</td>\n",
       "    </tr>\n",
       "    <tr>\n",
       "      <th>9</th>\n",
       "      <td>Treatment Naive vs TKI treated</td>\n",
       "      <td>scGPT [cancer]</td>\n",
       "      <td>scGPT</td>\n",
       "      <td>1.000000</td>\n",
       "    </tr>\n",
       "    <tr>\n",
       "      <th>10</th>\n",
       "      <td>Treatment Naive vs TKI treated</td>\n",
       "      <td>SCimiarity</td>\n",
       "      <td>other</td>\n",
       "      <td>0.875000</td>\n",
       "    </tr>\n",
       "    <tr>\n",
       "      <th>11</th>\n",
       "      <td>Treatment Naive vs TKI treated</td>\n",
       "      <td>scVI</td>\n",
       "      <td>Baseline</td>\n",
       "      <td>1.000000</td>\n",
       "    </tr>\n",
       "    <tr>\n",
       "      <th>0</th>\n",
       "      <td>ER+ vs TNBC</td>\n",
       "      <td>GF-V2</td>\n",
       "      <td>Geneformer</td>\n",
       "      <td>0.726667</td>\n",
       "    </tr>\n",
       "    <tr>\n",
       "      <th>1</th>\n",
       "      <td>ER+ vs TNBC</td>\n",
       "      <td>GF-V2 [cancer]</td>\n",
       "      <td>Geneformer</td>\n",
       "      <td>0.866667</td>\n",
       "    </tr>\n",
       "    <tr>\n",
       "      <th>2</th>\n",
       "      <td>ER+ vs TNBC</td>\n",
       "      <td>GF-V2-Deep</td>\n",
       "      <td>Geneformer</td>\n",
       "      <td>0.860000</td>\n",
       "    </tr>\n",
       "    <tr>\n",
       "      <th>3</th>\n",
       "      <td>ER+ vs TNBC</td>\n",
       "      <td>CellPLM</td>\n",
       "      <td>other</td>\n",
       "      <td>0.860000</td>\n",
       "    </tr>\n",
       "    <tr>\n",
       "      <th>4</th>\n",
       "      <td>ER+ vs TNBC</td>\n",
       "      <td>GF-V1</td>\n",
       "      <td>Geneformer</td>\n",
       "      <td>0.826667</td>\n",
       "    </tr>\n",
       "    <tr>\n",
       "      <th>5</th>\n",
       "      <td>ER+ vs TNBC</td>\n",
       "      <td>HVG</td>\n",
       "      <td>Baseline</td>\n",
       "      <td>0.860000</td>\n",
       "    </tr>\n",
       "    <tr>\n",
       "      <th>6</th>\n",
       "      <td>ER+ vs TNBC</td>\n",
       "      <td>PCA</td>\n",
       "      <td>Baseline</td>\n",
       "      <td>0.860000</td>\n",
       "    </tr>\n",
       "    <tr>\n",
       "      <th>7</th>\n",
       "      <td>ER+ vs TNBC</td>\n",
       "      <td>scFoundation</td>\n",
       "      <td>other</td>\n",
       "      <td>0.740000</td>\n",
       "    </tr>\n",
       "    <tr>\n",
       "      <th>8</th>\n",
       "      <td>ER+ vs TNBC</td>\n",
       "      <td>scGPT</td>\n",
       "      <td>scGPT</td>\n",
       "      <td>0.793333</td>\n",
       "    </tr>\n",
       "    <tr>\n",
       "      <th>9</th>\n",
       "      <td>ER+ vs TNBC</td>\n",
       "      <td>scGPT [cancer]</td>\n",
       "      <td>scGPT</td>\n",
       "      <td>0.900000</td>\n",
       "    </tr>\n",
       "    <tr>\n",
       "      <th>10</th>\n",
       "      <td>ER+ vs TNBC</td>\n",
       "      <td>SCimiarity</td>\n",
       "      <td>other</td>\n",
       "      <td>0.773333</td>\n",
       "    </tr>\n",
       "    <tr>\n",
       "      <th>11</th>\n",
       "      <td>ER+ vs TNBC</td>\n",
       "      <td>scVI</td>\n",
       "      <td>Baseline</td>\n",
       "      <td>0.933333</td>\n",
       "    </tr>\n",
       "    <tr>\n",
       "      <th>0</th>\n",
       "      <td>T-cell exhaustion</td>\n",
       "      <td>GF-V2</td>\n",
       "      <td>Geneformer</td>\n",
       "      <td>0.760000</td>\n",
       "    </tr>\n",
       "    <tr>\n",
       "      <th>1</th>\n",
       "      <td>T-cell exhaustion</td>\n",
       "      <td>GF-V2 [cancer]</td>\n",
       "      <td>Geneformer</td>\n",
       "      <td>0.826667</td>\n",
       "    </tr>\n",
       "    <tr>\n",
       "      <th>2</th>\n",
       "      <td>T-cell exhaustion</td>\n",
       "      <td>GF-V2-Deep</td>\n",
       "      <td>Geneformer</td>\n",
       "      <td>0.833333</td>\n",
       "    </tr>\n",
       "    <tr>\n",
       "      <th>3</th>\n",
       "      <td>T-cell exhaustion</td>\n",
       "      <td>CellPLM</td>\n",
       "      <td>other</td>\n",
       "      <td>0.626667</td>\n",
       "    </tr>\n",
       "    <tr>\n",
       "      <th>4</th>\n",
       "      <td>T-cell exhaustion</td>\n",
       "      <td>GF-V1</td>\n",
       "      <td>Geneformer</td>\n",
       "      <td>0.653333</td>\n",
       "    </tr>\n",
       "    <tr>\n",
       "      <th>5</th>\n",
       "      <td>T-cell exhaustion</td>\n",
       "      <td>HVG</td>\n",
       "      <td>Baseline</td>\n",
       "      <td>0.826667</td>\n",
       "    </tr>\n",
       "    <tr>\n",
       "      <th>6</th>\n",
       "      <td>T-cell exhaustion</td>\n",
       "      <td>PCA</td>\n",
       "      <td>Baseline</td>\n",
       "      <td>0.700000</td>\n",
       "    </tr>\n",
       "    <tr>\n",
       "      <th>7</th>\n",
       "      <td>T-cell exhaustion</td>\n",
       "      <td>scFoundation</td>\n",
       "      <td>other</td>\n",
       "      <td>0.866667</td>\n",
       "    </tr>\n",
       "    <tr>\n",
       "      <th>8</th>\n",
       "      <td>T-cell exhaustion</td>\n",
       "      <td>scGPT</td>\n",
       "      <td>scGPT</td>\n",
       "      <td>0.726667</td>\n",
       "    </tr>\n",
       "    <tr>\n",
       "      <th>9</th>\n",
       "      <td>T-cell exhaustion</td>\n",
       "      <td>scGPT [cancer]</td>\n",
       "      <td>scGPT</td>\n",
       "      <td>0.760000</td>\n",
       "    </tr>\n",
       "    <tr>\n",
       "      <th>10</th>\n",
       "      <td>T-cell exhaustion</td>\n",
       "      <td>SCimiarity</td>\n",
       "      <td>other</td>\n",
       "      <td>0.760000</td>\n",
       "    </tr>\n",
       "    <tr>\n",
       "      <th>11</th>\n",
       "      <td>T-cell exhaustion</td>\n",
       "      <td>scVI</td>\n",
       "      <td>Baseline</td>\n",
       "      <td>0.866667</td>\n",
       "    </tr>\n",
       "  </tbody>\n",
       "</table>\n",
       "</div>"
      ],
      "text/plain": [
       "                         experiment_name      experiment       group      mean\n",
       "0            Treatment Naive vs Anti PD1           GF-V2  Geneformer  0.903846\n",
       "1            Treatment Naive vs Anti PD1  GF-V2 [cancer]  Geneformer  0.903846\n",
       "2            Treatment Naive vs Anti PD1      GF-V2-Deep  Geneformer  0.902564\n",
       "3            Treatment Naive vs Anti PD1         CellPLM       other  0.805128\n",
       "4            Treatment Naive vs Anti PD1           GF-V1  Geneformer  0.835897\n",
       "5            Treatment Naive vs Anti PD1             HVG    Baseline  0.983333\n",
       "6            Treatment Naive vs Anti PD1             PCA    Baseline  0.905128\n",
       "7            Treatment Naive vs Anti PD1    scFoundation       other  0.966667\n",
       "8            Treatment Naive vs Anti PD1           scGPT       scGPT  0.723077\n",
       "9            Treatment Naive vs Anti PD1  scGPT [cancer]       scGPT  0.835897\n",
       "10           Treatment Naive vs Anti PD1      SCimiarity       other  0.853846\n",
       "11           Treatment Naive vs Anti PD1            scVI    Baseline  0.887179\n",
       "0   Treatment Naive vs Neoadjuvant Chemo           GF-V2  Geneformer  0.846429\n",
       "1   Treatment Naive vs Neoadjuvant Chemo  GF-V2 [cancer]  Geneformer  0.846429\n",
       "2   Treatment Naive vs Neoadjuvant Chemo      GF-V2-Deep  Geneformer  0.821429\n",
       "3   Treatment Naive vs Neoadjuvant Chemo         CellPLM       other  0.796429\n",
       "4   Treatment Naive vs Neoadjuvant Chemo           GF-V1  Geneformer  0.817857\n",
       "5   Treatment Naive vs Neoadjuvant Chemo             HVG    Baseline  0.796429\n",
       "6   Treatment Naive vs Neoadjuvant Chemo             PCA    Baseline  0.796429\n",
       "7   Treatment Naive vs Neoadjuvant Chemo    scFoundation       other  0.821429\n",
       "8   Treatment Naive vs Neoadjuvant Chemo           scGPT       scGPT  0.821429\n",
       "9   Treatment Naive vs Neoadjuvant Chemo  scGPT [cancer]       scGPT  0.821429\n",
       "10  Treatment Naive vs Neoadjuvant Chemo      SCimiarity       other  0.821429\n",
       "11  Treatment Naive vs Neoadjuvant Chemo            scVI    Baseline  0.796429\n",
       "0         Treatment Naive vs TKI treated           GF-V2  Geneformer  1.000000\n",
       "1         Treatment Naive vs TKI treated  GF-V2 [cancer]  Geneformer  1.000000\n",
       "2         Treatment Naive vs TKI treated      GF-V2-Deep  Geneformer  1.000000\n",
       "3         Treatment Naive vs TKI treated         CellPLM       other  1.000000\n",
       "4         Treatment Naive vs TKI treated           GF-V1  Geneformer  1.000000\n",
       "5         Treatment Naive vs TKI treated             HVG    Baseline  1.000000\n",
       "6         Treatment Naive vs TKI treated             PCA    Baseline  0.500000\n",
       "7         Treatment Naive vs TKI treated    scFoundation       other  1.000000\n",
       "8         Treatment Naive vs TKI treated           scGPT       scGPT  1.000000\n",
       "9         Treatment Naive vs TKI treated  scGPT [cancer]       scGPT  1.000000\n",
       "10        Treatment Naive vs TKI treated      SCimiarity       other  0.875000\n",
       "11        Treatment Naive vs TKI treated            scVI    Baseline  1.000000\n",
       "0                            ER+ vs TNBC           GF-V2  Geneformer  0.726667\n",
       "1                            ER+ vs TNBC  GF-V2 [cancer]  Geneformer  0.866667\n",
       "2                            ER+ vs TNBC      GF-V2-Deep  Geneformer  0.860000\n",
       "3                            ER+ vs TNBC         CellPLM       other  0.860000\n",
       "4                            ER+ vs TNBC           GF-V1  Geneformer  0.826667\n",
       "5                            ER+ vs TNBC             HVG    Baseline  0.860000\n",
       "6                            ER+ vs TNBC             PCA    Baseline  0.860000\n",
       "7                            ER+ vs TNBC    scFoundation       other  0.740000\n",
       "8                            ER+ vs TNBC           scGPT       scGPT  0.793333\n",
       "9                            ER+ vs TNBC  scGPT [cancer]       scGPT  0.900000\n",
       "10                           ER+ vs TNBC      SCimiarity       other  0.773333\n",
       "11                           ER+ vs TNBC            scVI    Baseline  0.933333\n",
       "0                      T-cell exhaustion           GF-V2  Geneformer  0.760000\n",
       "1                      T-cell exhaustion  GF-V2 [cancer]  Geneformer  0.826667\n",
       "2                      T-cell exhaustion      GF-V2-Deep  Geneformer  0.833333\n",
       "3                      T-cell exhaustion         CellPLM       other  0.626667\n",
       "4                      T-cell exhaustion           GF-V1  Geneformer  0.653333\n",
       "5                      T-cell exhaustion             HVG    Baseline  0.826667\n",
       "6                      T-cell exhaustion             PCA    Baseline  0.700000\n",
       "7                      T-cell exhaustion    scFoundation       other  0.866667\n",
       "8                      T-cell exhaustion           scGPT       scGPT  0.726667\n",
       "9                      T-cell exhaustion  scGPT [cancer]       scGPT  0.760000\n",
       "10                     T-cell exhaustion      SCimiarity       other  0.760000\n",
       "11                     T-cell exhaustion            scVI    Baseline  0.866667"
      ]
     },
     "execution_count": 28,
     "metadata": {},
     "output_type": "execute_result"
    }
   ],
   "source": [
    "heatmap_df"
   ]
  },
  {
   "cell_type": "code",
   "execution_count": 29,
   "id": "bfc8d8d5-ab81-4ede-be46-e9b8432a7f23",
   "metadata": {
    "tags": []
   },
   "outputs": [],
   "source": [
    "heatmap_df.to_csv('test.csv')"
   ]
  },
  {
   "cell_type": "code",
   "execution_count": 30,
   "id": "820279cb-85e0-433c-8b34-3ca533164447",
   "metadata": {
    "tags": []
   },
   "outputs": [
    {
     "data": {
      "text/plain": [
       "['AUC', 'F1', 'AUPRC', 'Recall', 'Precision', 'Accuracy']"
      ]
     },
     "execution_count": 30,
     "metadata": {},
     "output_type": "execute_result"
    }
   ],
   "source": [
    "metrics"
   ]
  },
  {
   "cell_type": "code",
   "execution_count": 31,
   "id": "bdd345f1-375b-4f5a-ad7e-079ff7fea67b",
   "metadata": {
    "tags": []
   },
   "outputs": [
    {
     "data": {
      "text/plain": [
       "{'hvg': 'HVG',\n",
       " 'pca': 'PCA',\n",
       " 'scgpt': 'scGPT',\n",
       " 'scgpt_cancer': 'scGPT [cancer]',\n",
       " 'scvi': 'scVI',\n",
       " 'scvi_donor_id': 'scVI',\n",
       " 'scfoundation': 'scFoundation',\n",
       " 'scimilarity': 'SCimilarity',\n",
       " 'cellplm': 'CellPLM',\n",
       " 'gf-6L-30M-i2048': 'GF-V1',\n",
       " 'gf-6L-30M-i2048_continue': 'GF-V1 [continue]',\n",
       " 'Geneformer-V2-104M_CLcancer': 'GF-V2 [cancer]',\n",
       " 'Geneformer-V2-104M': 'GF-V2',\n",
       " 'Geneformer-V2-104M_continue': 'GF-V2 [continue]',\n",
       " 'Geneformer-V2-316M': 'GF-V2-Deep',\n",
       " 'gf-6L-30M-i2048_finetune': 'GF-V1 [finetune]',\n",
       " 'Geneformer-V2-104M_finetune': 'GF-V2 [finetune]'}"
      ]
     },
     "execution_count": 31,
     "metadata": {},
     "output_type": "execute_result"
    }
   ],
   "source": [
    "model_name_map"
   ]
  },
  {
   "cell_type": "code",
   "execution_count": 33,
   "id": "f9791f2a-c948-4db3-b882-c0dbde31b630",
   "metadata": {
    "tags": []
   },
   "outputs": [],
   "source": [
    "test_df = collect_auprc_scores(metric='AUPRC',clf='avg', base_dir='./metrics')\n"
   ]
  },
  {
   "cell_type": "code",
   "execution_count": 34,
   "id": "a88d56c6-02e8-4934-a1b9-d5f8e9663fa2",
   "metadata": {
    "tags": []
   },
   "outputs": [
    {
     "data": {
      "text/html": [
       "<div>\n",
       "<style scoped>\n",
       "    .dataframe tbody tr th:only-of-type {\n",
       "        vertical-align: middle;\n",
       "    }\n",
       "\n",
       "    .dataframe tbody tr th {\n",
       "        vertical-align: top;\n",
       "    }\n",
       "\n",
       "    .dataframe thead th {\n",
       "        text-align: right;\n",
       "    }\n",
       "</style>\n",
       "<table border=\"1\" class=\"dataframe\">\n",
       "  <thead>\n",
       "    <tr style=\"text-align: right;\">\n",
       "      <th></th>\n",
       "      <th>experiment_name</th>\n",
       "      <th>experiment</th>\n",
       "      <th>group</th>\n",
       "      <th>mean</th>\n",
       "    </tr>\n",
       "  </thead>\n",
       "  <tbody>\n",
       "    <tr>\n",
       "      <th>0</th>\n",
       "      <td>brca_full_pre_post</td>\n",
       "      <td>Geneformer-V2-104M</td>\n",
       "      <td>Geneformer</td>\n",
       "      <td>0.962188</td>\n",
       "    </tr>\n",
       "    <tr>\n",
       "      <th>1</th>\n",
       "      <td>brca_full_pre_post</td>\n",
       "      <td>Geneformer-V2-104M_CLcancer</td>\n",
       "      <td>Geneformer</td>\n",
       "      <td>0.983333</td>\n",
       "    </tr>\n",
       "    <tr>\n",
       "      <th>2</th>\n",
       "      <td>brca_full_pre_post</td>\n",
       "      <td>Geneformer-V2-316M</td>\n",
       "      <td>Geneformer</td>\n",
       "      <td>0.991667</td>\n",
       "    </tr>\n",
       "    <tr>\n",
       "      <th>3</th>\n",
       "      <td>brca_full_pre_post</td>\n",
       "      <td>cellplm</td>\n",
       "      <td>other</td>\n",
       "      <td>0.893817</td>\n",
       "    </tr>\n",
       "    <tr>\n",
       "      <th>4</th>\n",
       "      <td>brca_full_pre_post</td>\n",
       "      <td>gf-6L-30M-i2048</td>\n",
       "      <td>Geneformer</td>\n",
       "      <td>0.940952</td>\n",
       "    </tr>\n",
       "    <tr>\n",
       "      <th>5</th>\n",
       "      <td>brca_full_pre_post</td>\n",
       "      <td>hvg</td>\n",
       "      <td>Baseline</td>\n",
       "      <td>1.000000</td>\n",
       "    </tr>\n",
       "    <tr>\n",
       "      <th>6</th>\n",
       "      <td>brca_full_pre_post</td>\n",
       "      <td>pca</td>\n",
       "      <td>Baseline</td>\n",
       "      <td>0.978061</td>\n",
       "    </tr>\n",
       "    <tr>\n",
       "      <th>7</th>\n",
       "      <td>brca_full_pre_post</td>\n",
       "      <td>scfoundation</td>\n",
       "      <td>other</td>\n",
       "      <td>0.995238</td>\n",
       "    </tr>\n",
       "    <tr>\n",
       "      <th>8</th>\n",
       "      <td>brca_full_pre_post</td>\n",
       "      <td>scgpt</td>\n",
       "      <td>scGPT</td>\n",
       "      <td>0.875589</td>\n",
       "    </tr>\n",
       "    <tr>\n",
       "      <th>9</th>\n",
       "      <td>brca_full_pre_post</td>\n",
       "      <td>scgpt_cancer</td>\n",
       "      <td>scGPT</td>\n",
       "      <td>0.944921</td>\n",
       "    </tr>\n",
       "    <tr>\n",
       "      <th>10</th>\n",
       "      <td>brca_full_pre_post</td>\n",
       "      <td>scimilarity</td>\n",
       "      <td>other</td>\n",
       "      <td>0.951553</td>\n",
       "    </tr>\n",
       "    <tr>\n",
       "      <th>11</th>\n",
       "      <td>brca_full_pre_post</td>\n",
       "      <td>scvi</td>\n",
       "      <td>Baseline</td>\n",
       "      <td>0.973696</td>\n",
       "    </tr>\n",
       "    <tr>\n",
       "      <th>0</th>\n",
       "      <td>brca_full_chemo</td>\n",
       "      <td>Geneformer-V2-104M</td>\n",
       "      <td>Geneformer</td>\n",
       "      <td>0.566667</td>\n",
       "    </tr>\n",
       "    <tr>\n",
       "      <th>1</th>\n",
       "      <td>brca_full_chemo</td>\n",
       "      <td>Geneformer-V2-104M_CLcancer</td>\n",
       "      <td>Geneformer</td>\n",
       "      <td>0.590000</td>\n",
       "    </tr>\n",
       "    <tr>\n",
       "      <th>2</th>\n",
       "      <td>brca_full_chemo</td>\n",
       "      <td>Geneformer-V2-316M</td>\n",
       "      <td>Geneformer</td>\n",
       "      <td>0.616667</td>\n",
       "    </tr>\n",
       "    <tr>\n",
       "      <th>3</th>\n",
       "      <td>brca_full_chemo</td>\n",
       "      <td>cellplm</td>\n",
       "      <td>other</td>\n",
       "      <td>0.590000</td>\n",
       "    </tr>\n",
       "    <tr>\n",
       "      <th>4</th>\n",
       "      <td>brca_full_chemo</td>\n",
       "      <td>gf-6L-30M-i2048</td>\n",
       "      <td>Geneformer</td>\n",
       "      <td>0.750000</td>\n",
       "    </tr>\n",
       "    <tr>\n",
       "      <th>5</th>\n",
       "      <td>brca_full_chemo</td>\n",
       "      <td>hvg</td>\n",
       "      <td>Baseline</td>\n",
       "      <td>0.640000</td>\n",
       "    </tr>\n",
       "    <tr>\n",
       "      <th>6</th>\n",
       "      <td>brca_full_chemo</td>\n",
       "      <td>pca</td>\n",
       "      <td>Baseline</td>\n",
       "      <td>0.506667</td>\n",
       "    </tr>\n",
       "    <tr>\n",
       "      <th>7</th>\n",
       "      <td>brca_full_chemo</td>\n",
       "      <td>scfoundation</td>\n",
       "      <td>other</td>\n",
       "      <td>0.546667</td>\n",
       "    </tr>\n",
       "    <tr>\n",
       "      <th>8</th>\n",
       "      <td>brca_full_chemo</td>\n",
       "      <td>scgpt</td>\n",
       "      <td>scGPT</td>\n",
       "      <td>0.618571</td>\n",
       "    </tr>\n",
       "    <tr>\n",
       "      <th>9</th>\n",
       "      <td>brca_full_chemo</td>\n",
       "      <td>scgpt_cancer</td>\n",
       "      <td>scGPT</td>\n",
       "      <td>0.690000</td>\n",
       "    </tr>\n",
       "    <tr>\n",
       "      <th>10</th>\n",
       "      <td>brca_full_chemo</td>\n",
       "      <td>scimilarity</td>\n",
       "      <td>other</td>\n",
       "      <td>0.786667</td>\n",
       "    </tr>\n",
       "    <tr>\n",
       "      <th>11</th>\n",
       "      <td>brca_full_chemo</td>\n",
       "      <td>scvi</td>\n",
       "      <td>Baseline</td>\n",
       "      <td>0.583333</td>\n",
       "    </tr>\n",
       "    <tr>\n",
       "      <th>0</th>\n",
       "      <td>luad2</td>\n",
       "      <td>Geneformer-V2-104M</td>\n",
       "      <td>Geneformer</td>\n",
       "      <td>1.000000</td>\n",
       "    </tr>\n",
       "    <tr>\n",
       "      <th>1</th>\n",
       "      <td>luad2</td>\n",
       "      <td>Geneformer-V2-104M_CLcancer</td>\n",
       "      <td>Geneformer</td>\n",
       "      <td>1.000000</td>\n",
       "    </tr>\n",
       "    <tr>\n",
       "      <th>2</th>\n",
       "      <td>luad2</td>\n",
       "      <td>Geneformer-V2-316M</td>\n",
       "      <td>Geneformer</td>\n",
       "      <td>1.000000</td>\n",
       "    </tr>\n",
       "    <tr>\n",
       "      <th>3</th>\n",
       "      <td>luad2</td>\n",
       "      <td>cellplm</td>\n",
       "      <td>other</td>\n",
       "      <td>1.000000</td>\n",
       "    </tr>\n",
       "    <tr>\n",
       "      <th>4</th>\n",
       "      <td>luad2</td>\n",
       "      <td>gf-6L-30M-i2048</td>\n",
       "      <td>Geneformer</td>\n",
       "      <td>1.000000</td>\n",
       "    </tr>\n",
       "    <tr>\n",
       "      <th>5</th>\n",
       "      <td>luad2</td>\n",
       "      <td>hvg</td>\n",
       "      <td>Baseline</td>\n",
       "      <td>1.000000</td>\n",
       "    </tr>\n",
       "    <tr>\n",
       "      <th>6</th>\n",
       "      <td>luad2</td>\n",
       "      <td>pca</td>\n",
       "      <td>Baseline</td>\n",
       "      <td>0.750000</td>\n",
       "    </tr>\n",
       "    <tr>\n",
       "      <th>7</th>\n",
       "      <td>luad2</td>\n",
       "      <td>scfoundation</td>\n",
       "      <td>other</td>\n",
       "      <td>1.000000</td>\n",
       "    </tr>\n",
       "    <tr>\n",
       "      <th>8</th>\n",
       "      <td>luad2</td>\n",
       "      <td>scgpt</td>\n",
       "      <td>scGPT</td>\n",
       "      <td>1.000000</td>\n",
       "    </tr>\n",
       "    <tr>\n",
       "      <th>9</th>\n",
       "      <td>luad2</td>\n",
       "      <td>scgpt_cancer</td>\n",
       "      <td>scGPT</td>\n",
       "      <td>1.000000</td>\n",
       "    </tr>\n",
       "    <tr>\n",
       "      <th>10</th>\n",
       "      <td>luad2</td>\n",
       "      <td>scimilarity</td>\n",
       "      <td>other</td>\n",
       "      <td>1.000000</td>\n",
       "    </tr>\n",
       "    <tr>\n",
       "      <th>11</th>\n",
       "      <td>luad2</td>\n",
       "      <td>scvi</td>\n",
       "      <td>Baseline</td>\n",
       "      <td>1.000000</td>\n",
       "    </tr>\n",
       "    <tr>\n",
       "      <th>0</th>\n",
       "      <td>brca_full_subtype</td>\n",
       "      <td>Geneformer-V2-104M</td>\n",
       "      <td>Geneformer</td>\n",
       "      <td>0.901111</td>\n",
       "    </tr>\n",
       "    <tr>\n",
       "      <th>1</th>\n",
       "      <td>brca_full_subtype</td>\n",
       "      <td>Geneformer-V2-104M_CLcancer</td>\n",
       "      <td>Geneformer</td>\n",
       "      <td>0.973333</td>\n",
       "    </tr>\n",
       "    <tr>\n",
       "      <th>2</th>\n",
       "      <td>brca_full_subtype</td>\n",
       "      <td>Geneformer-V2-316M</td>\n",
       "      <td>Geneformer</td>\n",
       "      <td>0.956667</td>\n",
       "    </tr>\n",
       "    <tr>\n",
       "      <th>3</th>\n",
       "      <td>brca_full_subtype</td>\n",
       "      <td>cellplm</td>\n",
       "      <td>other</td>\n",
       "      <td>0.934444</td>\n",
       "    </tr>\n",
       "    <tr>\n",
       "      <th>4</th>\n",
       "      <td>brca_full_subtype</td>\n",
       "      <td>gf-6L-30M-i2048</td>\n",
       "      <td>Geneformer</td>\n",
       "      <td>0.912222</td>\n",
       "    </tr>\n",
       "    <tr>\n",
       "      <th>5</th>\n",
       "      <td>brca_full_subtype</td>\n",
       "      <td>hvg</td>\n",
       "      <td>Baseline</td>\n",
       "      <td>0.973333</td>\n",
       "    </tr>\n",
       "    <tr>\n",
       "      <th>6</th>\n",
       "      <td>brca_full_subtype</td>\n",
       "      <td>pca</td>\n",
       "      <td>Baseline</td>\n",
       "      <td>0.916667</td>\n",
       "    </tr>\n",
       "    <tr>\n",
       "      <th>7</th>\n",
       "      <td>brca_full_subtype</td>\n",
       "      <td>scfoundation</td>\n",
       "      <td>other</td>\n",
       "      <td>0.777778</td>\n",
       "    </tr>\n",
       "    <tr>\n",
       "      <th>8</th>\n",
       "      <td>brca_full_subtype</td>\n",
       "      <td>scgpt</td>\n",
       "      <td>scGPT</td>\n",
       "      <td>0.862222</td>\n",
       "    </tr>\n",
       "    <tr>\n",
       "      <th>9</th>\n",
       "      <td>brca_full_subtype</td>\n",
       "      <td>scgpt_cancer</td>\n",
       "      <td>scGPT</td>\n",
       "      <td>0.956667</td>\n",
       "    </tr>\n",
       "    <tr>\n",
       "      <th>10</th>\n",
       "      <td>brca_full_subtype</td>\n",
       "      <td>scimilarity</td>\n",
       "      <td>other</td>\n",
       "      <td>0.900000</td>\n",
       "    </tr>\n",
       "    <tr>\n",
       "      <th>11</th>\n",
       "      <td>brca_full_subtype</td>\n",
       "      <td>scvi</td>\n",
       "      <td>Baseline</td>\n",
       "      <td>0.983333</td>\n",
       "    </tr>\n",
       "    <tr>\n",
       "      <th>0</th>\n",
       "      <td>brca_full_outcome</td>\n",
       "      <td>Geneformer-V2-104M</td>\n",
       "      <td>Geneformer</td>\n",
       "      <td>0.630000</td>\n",
       "    </tr>\n",
       "    <tr>\n",
       "      <th>1</th>\n",
       "      <td>brca_full_outcome</td>\n",
       "      <td>Geneformer-V2-104M_CLcancer</td>\n",
       "      <td>Geneformer</td>\n",
       "      <td>0.740000</td>\n",
       "    </tr>\n",
       "    <tr>\n",
       "      <th>2</th>\n",
       "      <td>brca_full_outcome</td>\n",
       "      <td>Geneformer-V2-316M</td>\n",
       "      <td>Geneformer</td>\n",
       "      <td>0.783333</td>\n",
       "    </tr>\n",
       "    <tr>\n",
       "      <th>3</th>\n",
       "      <td>brca_full_outcome</td>\n",
       "      <td>cellplm</td>\n",
       "      <td>other</td>\n",
       "      <td>0.550000</td>\n",
       "    </tr>\n",
       "    <tr>\n",
       "      <th>4</th>\n",
       "      <td>brca_full_outcome</td>\n",
       "      <td>gf-6L-30M-i2048</td>\n",
       "      <td>Geneformer</td>\n",
       "      <td>0.616667</td>\n",
       "    </tr>\n",
       "    <tr>\n",
       "      <th>5</th>\n",
       "      <td>brca_full_outcome</td>\n",
       "      <td>hvg</td>\n",
       "      <td>Baseline</td>\n",
       "      <td>0.883333</td>\n",
       "    </tr>\n",
       "    <tr>\n",
       "      <th>6</th>\n",
       "      <td>brca_full_outcome</td>\n",
       "      <td>pca</td>\n",
       "      <td>Baseline</td>\n",
       "      <td>0.580000</td>\n",
       "    </tr>\n",
       "    <tr>\n",
       "      <th>7</th>\n",
       "      <td>brca_full_outcome</td>\n",
       "      <td>scfoundation</td>\n",
       "      <td>other</td>\n",
       "      <td>0.816667</td>\n",
       "    </tr>\n",
       "    <tr>\n",
       "      <th>8</th>\n",
       "      <td>brca_full_outcome</td>\n",
       "      <td>scgpt</td>\n",
       "      <td>scGPT</td>\n",
       "      <td>0.706667</td>\n",
       "    </tr>\n",
       "    <tr>\n",
       "      <th>9</th>\n",
       "      <td>brca_full_outcome</td>\n",
       "      <td>scgpt_cancer</td>\n",
       "      <td>scGPT</td>\n",
       "      <td>0.873333</td>\n",
       "    </tr>\n",
       "    <tr>\n",
       "      <th>10</th>\n",
       "      <td>brca_full_outcome</td>\n",
       "      <td>scimilarity</td>\n",
       "      <td>other</td>\n",
       "      <td>0.746667</td>\n",
       "    </tr>\n",
       "    <tr>\n",
       "      <th>11</th>\n",
       "      <td>brca_full_outcome</td>\n",
       "      <td>scvi</td>\n",
       "      <td>Baseline</td>\n",
       "      <td>0.833333</td>\n",
       "    </tr>\n",
       "  </tbody>\n",
       "</table>\n",
       "</div>"
      ],
      "text/plain": [
       "       experiment_name                   experiment       group      mean\n",
       "0   brca_full_pre_post           Geneformer-V2-104M  Geneformer  0.962188\n",
       "1   brca_full_pre_post  Geneformer-V2-104M_CLcancer  Geneformer  0.983333\n",
       "2   brca_full_pre_post           Geneformer-V2-316M  Geneformer  0.991667\n",
       "3   brca_full_pre_post                      cellplm       other  0.893817\n",
       "4   brca_full_pre_post              gf-6L-30M-i2048  Geneformer  0.940952\n",
       "5   brca_full_pre_post                          hvg    Baseline  1.000000\n",
       "6   brca_full_pre_post                          pca    Baseline  0.978061\n",
       "7   brca_full_pre_post                 scfoundation       other  0.995238\n",
       "8   brca_full_pre_post                        scgpt       scGPT  0.875589\n",
       "9   brca_full_pre_post                 scgpt_cancer       scGPT  0.944921\n",
       "10  brca_full_pre_post                  scimilarity       other  0.951553\n",
       "11  brca_full_pre_post                         scvi    Baseline  0.973696\n",
       "0      brca_full_chemo           Geneformer-V2-104M  Geneformer  0.566667\n",
       "1      brca_full_chemo  Geneformer-V2-104M_CLcancer  Geneformer  0.590000\n",
       "2      brca_full_chemo           Geneformer-V2-316M  Geneformer  0.616667\n",
       "3      brca_full_chemo                      cellplm       other  0.590000\n",
       "4      brca_full_chemo              gf-6L-30M-i2048  Geneformer  0.750000\n",
       "5      brca_full_chemo                          hvg    Baseline  0.640000\n",
       "6      brca_full_chemo                          pca    Baseline  0.506667\n",
       "7      brca_full_chemo                 scfoundation       other  0.546667\n",
       "8      brca_full_chemo                        scgpt       scGPT  0.618571\n",
       "9      brca_full_chemo                 scgpt_cancer       scGPT  0.690000\n",
       "10     brca_full_chemo                  scimilarity       other  0.786667\n",
       "11     brca_full_chemo                         scvi    Baseline  0.583333\n",
       "0                luad2           Geneformer-V2-104M  Geneformer  1.000000\n",
       "1                luad2  Geneformer-V2-104M_CLcancer  Geneformer  1.000000\n",
       "2                luad2           Geneformer-V2-316M  Geneformer  1.000000\n",
       "3                luad2                      cellplm       other  1.000000\n",
       "4                luad2              gf-6L-30M-i2048  Geneformer  1.000000\n",
       "5                luad2                          hvg    Baseline  1.000000\n",
       "6                luad2                          pca    Baseline  0.750000\n",
       "7                luad2                 scfoundation       other  1.000000\n",
       "8                luad2                        scgpt       scGPT  1.000000\n",
       "9                luad2                 scgpt_cancer       scGPT  1.000000\n",
       "10               luad2                  scimilarity       other  1.000000\n",
       "11               luad2                         scvi    Baseline  1.000000\n",
       "0    brca_full_subtype           Geneformer-V2-104M  Geneformer  0.901111\n",
       "1    brca_full_subtype  Geneformer-V2-104M_CLcancer  Geneformer  0.973333\n",
       "2    brca_full_subtype           Geneformer-V2-316M  Geneformer  0.956667\n",
       "3    brca_full_subtype                      cellplm       other  0.934444\n",
       "4    brca_full_subtype              gf-6L-30M-i2048  Geneformer  0.912222\n",
       "5    brca_full_subtype                          hvg    Baseline  0.973333\n",
       "6    brca_full_subtype                          pca    Baseline  0.916667\n",
       "7    brca_full_subtype                 scfoundation       other  0.777778\n",
       "8    brca_full_subtype                        scgpt       scGPT  0.862222\n",
       "9    brca_full_subtype                 scgpt_cancer       scGPT  0.956667\n",
       "10   brca_full_subtype                  scimilarity       other  0.900000\n",
       "11   brca_full_subtype                         scvi    Baseline  0.983333\n",
       "0    brca_full_outcome           Geneformer-V2-104M  Geneformer  0.630000\n",
       "1    brca_full_outcome  Geneformer-V2-104M_CLcancer  Geneformer  0.740000\n",
       "2    brca_full_outcome           Geneformer-V2-316M  Geneformer  0.783333\n",
       "3    brca_full_outcome                      cellplm       other  0.550000\n",
       "4    brca_full_outcome              gf-6L-30M-i2048  Geneformer  0.616667\n",
       "5    brca_full_outcome                          hvg    Baseline  0.883333\n",
       "6    brca_full_outcome                          pca    Baseline  0.580000\n",
       "7    brca_full_outcome                 scfoundation       other  0.816667\n",
       "8    brca_full_outcome                        scgpt       scGPT  0.706667\n",
       "9    brca_full_outcome                 scgpt_cancer       scGPT  0.873333\n",
       "10   brca_full_outcome                  scimilarity       other  0.746667\n",
       "11   brca_full_outcome                         scvi    Baseline  0.833333"
      ]
     },
     "execution_count": 34,
     "metadata": {},
     "output_type": "execute_result"
    }
   ],
   "source": [
    "test_df"
   ]
  },
  {
   "cell_type": "code",
   "execution_count": 32,
   "id": "0df0a959-3bbc-478e-9844-2fef2aeb768f",
   "metadata": {
    "tags": []
   },
   "outputs": [
    {
     "name": "stdout",
     "output_type": "stream",
     "text": [
      "vote\n",
      "AUC\n"
     ]
    },
    {
     "name": "stderr",
     "output_type": "stream",
     "text": [
      "/var/tmp/ipykernel_3444/3215541062.py:25: MatplotlibDeprecationWarning: The get_cmap function was deprecated in Matplotlib 3.7 and will be removed in 3.11. Use ``matplotlib.colormaps[name]`` or ``matplotlib.colormaps.get_cmap()`` or ``pyplot.get_cmap()`` instead.\n",
      "  cmap = get_cmap('viridis')\n"
     ]
    },
    {
     "name": "stdout",
     "output_type": "stream",
     "text": [
      "Grouped panel heatmap saved to ./plots/AUC_vote.png\n",
      "F1\n"
     ]
    },
    {
     "name": "stderr",
     "output_type": "stream",
     "text": [
      "/var/tmp/ipykernel_3444/3215541062.py:25: MatplotlibDeprecationWarning: The get_cmap function was deprecated in Matplotlib 3.7 and will be removed in 3.11. Use ``matplotlib.colormaps[name]`` or ``matplotlib.colormaps.get_cmap()`` or ``pyplot.get_cmap()`` instead.\n",
      "  cmap = get_cmap('viridis')\n"
     ]
    },
    {
     "name": "stdout",
     "output_type": "stream",
     "text": [
      "Grouped panel heatmap saved to ./plots/F1_vote.png\n",
      "AUPRC\n"
     ]
    },
    {
     "name": "stderr",
     "output_type": "stream",
     "text": [
      "/var/tmp/ipykernel_3444/3215541062.py:25: MatplotlibDeprecationWarning: The get_cmap function was deprecated in Matplotlib 3.7 and will be removed in 3.11. Use ``matplotlib.colormaps[name]`` or ``matplotlib.colormaps.get_cmap()`` or ``pyplot.get_cmap()`` instead.\n",
      "  cmap = get_cmap('viridis')\n"
     ]
    },
    {
     "name": "stdout",
     "output_type": "stream",
     "text": [
      "Grouped panel heatmap saved to ./plots/AUPRC_vote.png\n",
      "Recall\n"
     ]
    },
    {
     "name": "stderr",
     "output_type": "stream",
     "text": [
      "/var/tmp/ipykernel_3444/3215541062.py:25: MatplotlibDeprecationWarning: The get_cmap function was deprecated in Matplotlib 3.7 and will be removed in 3.11. Use ``matplotlib.colormaps[name]`` or ``matplotlib.colormaps.get_cmap()`` or ``pyplot.get_cmap()`` instead.\n",
      "  cmap = get_cmap('viridis')\n"
     ]
    },
    {
     "name": "stdout",
     "output_type": "stream",
     "text": [
      "Grouped panel heatmap saved to ./plots/Recall_vote.png\n",
      "Precision\n"
     ]
    },
    {
     "name": "stderr",
     "output_type": "stream",
     "text": [
      "/var/tmp/ipykernel_3444/3215541062.py:25: MatplotlibDeprecationWarning: The get_cmap function was deprecated in Matplotlib 3.7 and will be removed in 3.11. Use ``matplotlib.colormaps[name]`` or ``matplotlib.colormaps.get_cmap()`` or ``pyplot.get_cmap()`` instead.\n",
      "  cmap = get_cmap('viridis')\n"
     ]
    },
    {
     "name": "stdout",
     "output_type": "stream",
     "text": [
      "Grouped panel heatmap saved to ./plots/Precision_vote.png\n",
      "Accuracy\n"
     ]
    },
    {
     "name": "stderr",
     "output_type": "stream",
     "text": [
      "/var/tmp/ipykernel_3444/3215541062.py:25: MatplotlibDeprecationWarning: The get_cmap function was deprecated in Matplotlib 3.7 and will be removed in 3.11. Use ``matplotlib.colormaps[name]`` or ``matplotlib.colormaps.get_cmap()`` or ``pyplot.get_cmap()`` instead.\n",
      "  cmap = get_cmap('viridis')\n"
     ]
    },
    {
     "name": "stdout",
     "output_type": "stream",
     "text": [
      "Grouped panel heatmap saved to ./plots/Accuracy_vote.png\n",
      "mil\n",
      "AUC\n"
     ]
    },
    {
     "name": "stderr",
     "output_type": "stream",
     "text": [
      "/var/tmp/ipykernel_3444/3215541062.py:25: MatplotlibDeprecationWarning: The get_cmap function was deprecated in Matplotlib 3.7 and will be removed in 3.11. Use ``matplotlib.colormaps[name]`` or ``matplotlib.colormaps.get_cmap()`` or ``pyplot.get_cmap()`` instead.\n",
      "  cmap = get_cmap('viridis')\n"
     ]
    },
    {
     "name": "stdout",
     "output_type": "stream",
     "text": [
      "Grouped panel heatmap saved to ./plots/AUC_mil.png\n",
      "F1\n"
     ]
    },
    {
     "name": "stderr",
     "output_type": "stream",
     "text": [
      "/var/tmp/ipykernel_3444/3215541062.py:25: MatplotlibDeprecationWarning: The get_cmap function was deprecated in Matplotlib 3.7 and will be removed in 3.11. Use ``matplotlib.colormaps[name]`` or ``matplotlib.colormaps.get_cmap()`` or ``pyplot.get_cmap()`` instead.\n",
      "  cmap = get_cmap('viridis')\n"
     ]
    },
    {
     "name": "stdout",
     "output_type": "stream",
     "text": [
      "Grouped panel heatmap saved to ./plots/F1_mil.png\n",
      "AUPRC\n"
     ]
    },
    {
     "name": "stderr",
     "output_type": "stream",
     "text": [
      "/var/tmp/ipykernel_3444/3215541062.py:25: MatplotlibDeprecationWarning: The get_cmap function was deprecated in Matplotlib 3.7 and will be removed in 3.11. Use ``matplotlib.colormaps[name]`` or ``matplotlib.colormaps.get_cmap()`` or ``pyplot.get_cmap()`` instead.\n",
      "  cmap = get_cmap('viridis')\n"
     ]
    },
    {
     "name": "stdout",
     "output_type": "stream",
     "text": [
      "Grouped panel heatmap saved to ./plots/AUPRC_mil.png\n",
      "Recall\n"
     ]
    },
    {
     "name": "stderr",
     "output_type": "stream",
     "text": [
      "/var/tmp/ipykernel_3444/3215541062.py:25: MatplotlibDeprecationWarning: The get_cmap function was deprecated in Matplotlib 3.7 and will be removed in 3.11. Use ``matplotlib.colormaps[name]`` or ``matplotlib.colormaps.get_cmap()`` or ``pyplot.get_cmap()`` instead.\n",
      "  cmap = get_cmap('viridis')\n"
     ]
    },
    {
     "name": "stdout",
     "output_type": "stream",
     "text": [
      "Grouped panel heatmap saved to ./plots/Recall_mil.png\n",
      "Precision\n"
     ]
    },
    {
     "name": "stderr",
     "output_type": "stream",
     "text": [
      "/var/tmp/ipykernel_3444/3215541062.py:25: MatplotlibDeprecationWarning: The get_cmap function was deprecated in Matplotlib 3.7 and will be removed in 3.11. Use ``matplotlib.colormaps[name]`` or ``matplotlib.colormaps.get_cmap()`` or ``pyplot.get_cmap()`` instead.\n",
      "  cmap = get_cmap('viridis')\n"
     ]
    },
    {
     "name": "stdout",
     "output_type": "stream",
     "text": [
      "Grouped panel heatmap saved to ./plots/Precision_mil.png\n",
      "Accuracy\n"
     ]
    },
    {
     "name": "stderr",
     "output_type": "stream",
     "text": [
      "/var/tmp/ipykernel_3444/3215541062.py:25: MatplotlibDeprecationWarning: The get_cmap function was deprecated in Matplotlib 3.7 and will be removed in 3.11. Use ``matplotlib.colormaps[name]`` or ``matplotlib.colormaps.get_cmap()`` or ``pyplot.get_cmap()`` instead.\n",
      "  cmap = get_cmap('viridis')\n"
     ]
    },
    {
     "name": "stdout",
     "output_type": "stream",
     "text": [
      "Grouped panel heatmap saved to ./plots/Accuracy_mil.png\n",
      "avg\n",
      "AUC\n"
     ]
    },
    {
     "name": "stderr",
     "output_type": "stream",
     "text": [
      "/var/tmp/ipykernel_3444/3215541062.py:25: MatplotlibDeprecationWarning: The get_cmap function was deprecated in Matplotlib 3.7 and will be removed in 3.11. Use ``matplotlib.colormaps[name]`` or ``matplotlib.colormaps.get_cmap()`` or ``pyplot.get_cmap()`` instead.\n",
      "  cmap = get_cmap('viridis')\n"
     ]
    },
    {
     "name": "stdout",
     "output_type": "stream",
     "text": [
      "Grouped panel heatmap saved to ./plots/AUC_avg.png\n",
      "F1\n"
     ]
    },
    {
     "name": "stderr",
     "output_type": "stream",
     "text": [
      "/var/tmp/ipykernel_3444/3215541062.py:25: MatplotlibDeprecationWarning: The get_cmap function was deprecated in Matplotlib 3.7 and will be removed in 3.11. Use ``matplotlib.colormaps[name]`` or ``matplotlib.colormaps.get_cmap()`` or ``pyplot.get_cmap()`` instead.\n",
      "  cmap = get_cmap('viridis')\n"
     ]
    },
    {
     "name": "stdout",
     "output_type": "stream",
     "text": [
      "Grouped panel heatmap saved to ./plots/F1_avg.png\n",
      "AUPRC\n"
     ]
    },
    {
     "name": "stderr",
     "output_type": "stream",
     "text": [
      "/var/tmp/ipykernel_3444/3215541062.py:25: MatplotlibDeprecationWarning: The get_cmap function was deprecated in Matplotlib 3.7 and will be removed in 3.11. Use ``matplotlib.colormaps[name]`` or ``matplotlib.colormaps.get_cmap()`` or ``pyplot.get_cmap()`` instead.\n",
      "  cmap = get_cmap('viridis')\n"
     ]
    },
    {
     "name": "stdout",
     "output_type": "stream",
     "text": [
      "Grouped panel heatmap saved to ./plots/AUPRC_avg.png\n",
      "Recall\n"
     ]
    },
    {
     "name": "stderr",
     "output_type": "stream",
     "text": [
      "/var/tmp/ipykernel_3444/3215541062.py:25: MatplotlibDeprecationWarning: The get_cmap function was deprecated in Matplotlib 3.7 and will be removed in 3.11. Use ``matplotlib.colormaps[name]`` or ``matplotlib.colormaps.get_cmap()`` or ``pyplot.get_cmap()`` instead.\n",
      "  cmap = get_cmap('viridis')\n"
     ]
    },
    {
     "name": "stdout",
     "output_type": "stream",
     "text": [
      "Grouped panel heatmap saved to ./plots/Recall_avg.png\n",
      "Precision\n"
     ]
    },
    {
     "name": "stderr",
     "output_type": "stream",
     "text": [
      "/var/tmp/ipykernel_3444/3215541062.py:25: MatplotlibDeprecationWarning: The get_cmap function was deprecated in Matplotlib 3.7 and will be removed in 3.11. Use ``matplotlib.colormaps[name]`` or ``matplotlib.colormaps.get_cmap()`` or ``pyplot.get_cmap()`` instead.\n",
      "  cmap = get_cmap('viridis')\n"
     ]
    },
    {
     "name": "stdout",
     "output_type": "stream",
     "text": [
      "Grouped panel heatmap saved to ./plots/Precision_avg.png\n",
      "Accuracy\n"
     ]
    },
    {
     "name": "stderr",
     "output_type": "stream",
     "text": [
      "/var/tmp/ipykernel_3444/3215541062.py:25: MatplotlibDeprecationWarning: The get_cmap function was deprecated in Matplotlib 3.7 and will be removed in 3.11. Use ``matplotlib.colormaps[name]`` or ``matplotlib.colormaps.get_cmap()`` or ``pyplot.get_cmap()`` instead.\n",
      "  cmap = get_cmap('viridis')\n"
     ]
    },
    {
     "name": "stdout",
     "output_type": "stream",
     "text": [
      "Grouped panel heatmap saved to ./plots/Accuracy_avg.png\n"
     ]
    }
   ],
   "source": [
    "for clf in clfs:\n",
    "    print(clf)\n",
    "    for m in metrics:\n",
    "        print(m)\n",
    "        heatmap_df = collect_auprc_scores(metric=m,clf=clf, base_dir='./metrics')\n",
    "        idx = heatmap_df.experiment.str.contains('continue')\n",
    "        heatmap_df= heatmap_df[~idx]\n",
    "        idx = heatmap_df.experiment.str.contains('freez')\n",
    "        heatmap_df= heatmap_df[~idx]\n",
    "        \n",
    "        idx = heatmap_df.experiment.str.endswith('k')\n",
    "        heatmap_df= heatmap_df[~idx]\n",
    "    \n",
    "        idx = heatmap_df.experiment.str.endswith('all')\n",
    "        heatmap_df= heatmap_df[~idx]\n",
    "        \n",
    "        # heatmap_df.group = heatmap_df.group.map(group_map)\n",
    "        heatmap_df.experiment = heatmap_df.experiment.map(lambda x: model_name_map.get(x, x))\n",
    "        heatmap_df.experiment_name = heatmap_df.experiment_name.map(experiment_name_map)\n",
    "        # heatmap_df['experiment_name'] = heatmap_df.experiment\n",
    "        heatmap_df_grouped, sorted_models = process_and_sort(heatmap_df)\n",
    "        plot_composite_by_group_panels(heatmap_df_grouped, sorted_models, m, clf, save_dir='./plots')\n",
    "        "
   ]
  },
  {
   "cell_type": "code",
   "execution_count": null,
   "id": "23987aee-6c87-4b35-867a-c9446436b502",
   "metadata": {},
   "outputs": [],
   "source": []
  },
  {
   "cell_type": "markdown",
   "id": "d1d44c48-1cb1-4a8c-98cd-f659d2b985fd",
   "metadata": {},
   "source": [
    "## Try things"
   ]
  },
  {
   "cell_type": "code",
   "execution_count": 78,
   "id": "dac34fbc-2330-4879-a982-7ded1d9f5e34",
   "metadata": {
    "tags": []
   },
   "outputs": [
    {
     "name": "stdout",
     "output_type": "stream",
     "text": [
      "skipping __luad22\n",
      "skipping __luad2\n",
      "skipping __luad1\n",
      "skipping __pycache__\n",
      "skipping __brca_full_pre_post\n",
      "skipping __brca_full_outcome\n",
      "skipping __outcomes_old\n",
      "skipping __luad1_\n",
      "skipping __brca_full_chemo\n",
      "skipping __brca_full_subtype\n",
      "skipping __outcomes\n",
      "skipping __outcomes_1\n",
      "skipping __luad11\n"
     ]
    }
   ],
   "source": [
    "metric= 'AUC'\n",
    "clf = 'vote'\n",
    "heatmap_df = collect_auprc_scores(metric='AUC',clf=clf, base_dir='.')"
   ]
  },
  {
   "cell_type": "code",
   "execution_count": 92,
   "id": "e416e938-a358-4ffe-90a7-0042cc3c3d02",
   "metadata": {
    "tags": []
   },
   "outputs": [
    {
     "data": {
      "text/html": [
       "<div>\n",
       "<style scoped>\n",
       "    .dataframe tbody tr th:only-of-type {\n",
       "        vertical-align: middle;\n",
       "    }\n",
       "\n",
       "    .dataframe tbody tr th {\n",
       "        vertical-align: top;\n",
       "    }\n",
       "\n",
       "    .dataframe thead th {\n",
       "        text-align: right;\n",
       "    }\n",
       "</style>\n",
       "<table border=\"1\" class=\"dataframe\">\n",
       "  <thead>\n",
       "    <tr style=\"text-align: right;\">\n",
       "      <th></th>\n",
       "      <th>experiment_name</th>\n",
       "      <th>experiment</th>\n",
       "      <th>group</th>\n",
       "      <th>mean</th>\n",
       "    </tr>\n",
       "  </thead>\n",
       "  <tbody>\n",
       "    <tr>\n",
       "      <th>0</th>\n",
       "      <td>brca_full_pre_post</td>\n",
       "      <td>Geneformer-V2-104M</td>\n",
       "      <td>Geneformer</td>\n",
       "      <td>0.935714</td>\n",
       "    </tr>\n",
       "    <tr>\n",
       "      <th>1</th>\n",
       "      <td>brca_full_pre_post</td>\n",
       "      <td>Geneformer-V2-104M_CLcancer</td>\n",
       "      <td>Geneformer</td>\n",
       "      <td>0.967460</td>\n",
       "    </tr>\n",
       "    <tr>\n",
       "      <th>2</th>\n",
       "      <td>brca_full_pre_post</td>\n",
       "      <td>Geneformer-V2-104M_finetune</td>\n",
       "      <td>Geneformer</td>\n",
       "      <td>1.000000</td>\n",
       "    </tr>\n",
       "    <tr>\n",
       "      <th>3</th>\n",
       "      <td>brca_full_pre_post</td>\n",
       "      <td>Geneformer-V2-316M</td>\n",
       "      <td>Geneformer</td>\n",
       "      <td>0.946825</td>\n",
       "    </tr>\n",
       "    <tr>\n",
       "      <th>4</th>\n",
       "      <td>brca_full_pre_post</td>\n",
       "      <td>gf-6L-30M-i2048</td>\n",
       "      <td>Geneformer</td>\n",
       "      <td>0.799206</td>\n",
       "    </tr>\n",
       "    <tr>\n",
       "      <th>...</th>\n",
       "      <td>...</td>\n",
       "      <td>...</td>\n",
       "      <td>...</td>\n",
       "      <td>...</td>\n",
       "    </tr>\n",
       "    <tr>\n",
       "      <th>8</th>\n",
       "      <td>luad1</td>\n",
       "      <td>hvg</td>\n",
       "      <td>Baseline</td>\n",
       "      <td>0.850000</td>\n",
       "    </tr>\n",
       "    <tr>\n",
       "      <th>9</th>\n",
       "      <td>luad1</td>\n",
       "      <td>pca</td>\n",
       "      <td>Baseline</td>\n",
       "      <td>0.725000</td>\n",
       "    </tr>\n",
       "    <tr>\n",
       "      <th>10</th>\n",
       "      <td>luad1</td>\n",
       "      <td>scgpt</td>\n",
       "      <td>scGPT</td>\n",
       "      <td>0.475000</td>\n",
       "    </tr>\n",
       "    <tr>\n",
       "      <th>11</th>\n",
       "      <td>luad1</td>\n",
       "      <td>scgpt_cancer</td>\n",
       "      <td>scGPT</td>\n",
       "      <td>0.475000</td>\n",
       "    </tr>\n",
       "    <tr>\n",
       "      <th>12</th>\n",
       "      <td>luad1</td>\n",
       "      <td>scvi</td>\n",
       "      <td>Baseline</td>\n",
       "      <td>0.525000</td>\n",
       "    </tr>\n",
       "  </tbody>\n",
       "</table>\n",
       "<p>70 rows × 4 columns</p>\n",
       "</div>"
      ],
      "text/plain": [
       "       experiment_name                   experiment       group      mean\n",
       "0   brca_full_pre_post           Geneformer-V2-104M  Geneformer  0.935714\n",
       "1   brca_full_pre_post  Geneformer-V2-104M_CLcancer  Geneformer  0.967460\n",
       "2   brca_full_pre_post  Geneformer-V2-104M_finetune  Geneformer  1.000000\n",
       "3   brca_full_pre_post           Geneformer-V2-316M  Geneformer  0.946825\n",
       "4   brca_full_pre_post              gf-6L-30M-i2048  Geneformer  0.799206\n",
       "..                 ...                          ...         ...       ...\n",
       "8                luad1                          hvg    Baseline  0.850000\n",
       "9                luad1                          pca    Baseline  0.725000\n",
       "10               luad1                        scgpt       scGPT  0.475000\n",
       "11               luad1                 scgpt_cancer       scGPT  0.475000\n",
       "12               luad1                         scvi    Baseline  0.525000\n",
       "\n",
       "[70 rows x 4 columns]"
      ]
     },
     "execution_count": 92,
     "metadata": {},
     "output_type": "execute_result"
    }
   ],
   "source": [
    "heatmap_df"
   ]
  },
  {
   "cell_type": "code",
   "execution_count": 93,
   "id": "3d1d1e86-4fe2-4556-a8a7-9932a851256e",
   "metadata": {
    "tags": []
   },
   "outputs": [],
   "source": [
    "idx = heatmap_df.experiment.str.contains('continue')\n",
    "heatmap_df= heatmap_df[~idx]"
   ]
  },
  {
   "cell_type": "code",
   "execution_count": 94,
   "id": "b0a7910e-693c-4181-b1ad-cc78381a9b8e",
   "metadata": {
    "tags": []
   },
   "outputs": [],
   "source": [
    "\n",
    "idx = heatmap_df.experiment.str.contains('freez')\n",
    "heatmap_df= heatmap_df[~idx]"
   ]
  },
  {
   "cell_type": "code",
   "execution_count": 95,
   "id": "214ae87b-b3ef-4125-af2b-c108329556e5",
   "metadata": {
    "tags": []
   },
   "outputs": [],
   "source": [
    "heatmap_df.experiment = heatmap_df.experiment.map(lambda x: model_name_map.get(x, x))"
   ]
  },
  {
   "cell_type": "code",
   "execution_count": 96,
   "id": "411d5ee0-35a5-4926-9e8c-00e0f4a33f46",
   "metadata": {
    "tags": []
   },
   "outputs": [
    {
     "data": {
      "text/html": [
       "<div>\n",
       "<style scoped>\n",
       "    .dataframe tbody tr th:only-of-type {\n",
       "        vertical-align: middle;\n",
       "    }\n",
       "\n",
       "    .dataframe tbody tr th {\n",
       "        vertical-align: top;\n",
       "    }\n",
       "\n",
       "    .dataframe thead th {\n",
       "        text-align: right;\n",
       "    }\n",
       "</style>\n",
       "<table border=\"1\" class=\"dataframe\">\n",
       "  <thead>\n",
       "    <tr style=\"text-align: right;\">\n",
       "      <th></th>\n",
       "      <th>experiment_name</th>\n",
       "      <th>experiment</th>\n",
       "      <th>group</th>\n",
       "      <th>mean</th>\n",
       "    </tr>\n",
       "  </thead>\n",
       "  <tbody>\n",
       "    <tr>\n",
       "      <th>0</th>\n",
       "      <td>brca_full_pre_post</td>\n",
       "      <td>GF-V2</td>\n",
       "      <td>Geneformer</td>\n",
       "      <td>0.935714</td>\n",
       "    </tr>\n",
       "    <tr>\n",
       "      <th>1</th>\n",
       "      <td>brca_full_pre_post</td>\n",
       "      <td>GF-V2 [cancer]</td>\n",
       "      <td>Geneformer</td>\n",
       "      <td>0.967460</td>\n",
       "    </tr>\n",
       "    <tr>\n",
       "      <th>2</th>\n",
       "      <td>brca_full_pre_post</td>\n",
       "      <td>GF-V2 [finetune]</td>\n",
       "      <td>Geneformer</td>\n",
       "      <td>1.000000</td>\n",
       "    </tr>\n",
       "    <tr>\n",
       "      <th>3</th>\n",
       "      <td>brca_full_pre_post</td>\n",
       "      <td>GF-V2-Deep</td>\n",
       "      <td>Geneformer</td>\n",
       "      <td>0.946825</td>\n",
       "    </tr>\n",
       "    <tr>\n",
       "      <th>4</th>\n",
       "      <td>brca_full_pre_post</td>\n",
       "      <td>GF-V1</td>\n",
       "      <td>Geneformer</td>\n",
       "      <td>0.799206</td>\n",
       "    </tr>\n",
       "    <tr>\n",
       "      <th>...</th>\n",
       "      <td>...</td>\n",
       "      <td>...</td>\n",
       "      <td>...</td>\n",
       "      <td>...</td>\n",
       "    </tr>\n",
       "    <tr>\n",
       "      <th>8</th>\n",
       "      <td>luad1</td>\n",
       "      <td>HVG</td>\n",
       "      <td>Baseline</td>\n",
       "      <td>0.850000</td>\n",
       "    </tr>\n",
       "    <tr>\n",
       "      <th>9</th>\n",
       "      <td>luad1</td>\n",
       "      <td>PCA</td>\n",
       "      <td>Baseline</td>\n",
       "      <td>0.725000</td>\n",
       "    </tr>\n",
       "    <tr>\n",
       "      <th>10</th>\n",
       "      <td>luad1</td>\n",
       "      <td>scGPT</td>\n",
       "      <td>scGPT</td>\n",
       "      <td>0.475000</td>\n",
       "    </tr>\n",
       "    <tr>\n",
       "      <th>11</th>\n",
       "      <td>luad1</td>\n",
       "      <td>scGPT [cancer]</td>\n",
       "      <td>scGPT</td>\n",
       "      <td>0.475000</td>\n",
       "    </tr>\n",
       "    <tr>\n",
       "      <th>12</th>\n",
       "      <td>luad1</td>\n",
       "      <td>scVI</td>\n",
       "      <td>Baseline</td>\n",
       "      <td>0.525000</td>\n",
       "    </tr>\n",
       "  </tbody>\n",
       "</table>\n",
       "<p>66 rows × 4 columns</p>\n",
       "</div>"
      ],
      "text/plain": [
       "       experiment_name        experiment       group      mean\n",
       "0   brca_full_pre_post             GF-V2  Geneformer  0.935714\n",
       "1   brca_full_pre_post    GF-V2 [cancer]  Geneformer  0.967460\n",
       "2   brca_full_pre_post  GF-V2 [finetune]  Geneformer  1.000000\n",
       "3   brca_full_pre_post        GF-V2-Deep  Geneformer  0.946825\n",
       "4   brca_full_pre_post             GF-V1  Geneformer  0.799206\n",
       "..                 ...               ...         ...       ...\n",
       "8                luad1               HVG    Baseline  0.850000\n",
       "9                luad1               PCA    Baseline  0.725000\n",
       "10               luad1             scGPT       scGPT  0.475000\n",
       "11               luad1    scGPT [cancer]       scGPT  0.475000\n",
       "12               luad1              scVI    Baseline  0.525000\n",
       "\n",
       "[66 rows x 4 columns]"
      ]
     },
     "execution_count": 96,
     "metadata": {},
     "output_type": "execute_result"
    }
   ],
   "source": [
    "heatmap_df"
   ]
  },
  {
   "cell_type": "code",
   "execution_count": 97,
   "id": "5c1e7973-b42c-4264-a9d0-8d773875fc68",
   "metadata": {
    "tags": []
   },
   "outputs": [],
   "source": [
    "# heatmap_df.experiment_name = heatmap_df.experiment_name.map(experiment_name_map)"
   ]
  },
  {
   "cell_type": "code",
   "execution_count": 98,
   "id": "08d1f7ad-1fd5-42dd-837d-fac1140d3516",
   "metadata": {
    "tags": []
   },
   "outputs": [],
   "source": [
    "heatmap_df_grouped, sorted_models = process_and_sort(heatmap_df)"
   ]
  },
  {
   "cell_type": "code",
   "execution_count": 99,
   "id": "594ad55f-0611-45e2-b4e6-faa8c84d9754",
   "metadata": {
    "tags": []
   },
   "outputs": [
    {
     "data": {
      "text/html": [
       "<div>\n",
       "<style scoped>\n",
       "    .dataframe tbody tr th:only-of-type {\n",
       "        vertical-align: middle;\n",
       "    }\n",
       "\n",
       "    .dataframe tbody tr th {\n",
       "        vertical-align: top;\n",
       "    }\n",
       "\n",
       "    .dataframe thead th {\n",
       "        text-align: right;\n",
       "    }\n",
       "</style>\n",
       "<table border=\"1\" class=\"dataframe\">\n",
       "  <thead>\n",
       "    <tr style=\"text-align: right;\">\n",
       "      <th>experiment</th>\n",
       "      <th>HVG</th>\n",
       "      <th>PCA</th>\n",
       "      <th>scVI</th>\n",
       "      <th>GF-V2 [finetune]</th>\n",
       "      <th>GF-V2-Deep</th>\n",
       "      <th>GF-V2 [cancer]</th>\n",
       "      <th>GF-V1</th>\n",
       "      <th>GF-V1 [finetune]</th>\n",
       "      <th>GF-V2</th>\n",
       "      <th>scGPT [cancer]</th>\n",
       "      <th>scGPT</th>\n",
       "    </tr>\n",
       "    <tr>\n",
       "      <th>experiment_name</th>\n",
       "      <th></th>\n",
       "      <th></th>\n",
       "      <th></th>\n",
       "      <th></th>\n",
       "      <th></th>\n",
       "      <th></th>\n",
       "      <th></th>\n",
       "      <th></th>\n",
       "      <th></th>\n",
       "      <th></th>\n",
       "      <th></th>\n",
       "    </tr>\n",
       "  </thead>\n",
       "  <tbody>\n",
       "    <tr>\n",
       "      <th>brca_full_chemo</th>\n",
       "      <td>0.766667</td>\n",
       "      <td>0.621429</td>\n",
       "      <td>0.504762</td>\n",
       "      <td>0.709524</td>\n",
       "      <td>0.807143</td>\n",
       "      <td>0.678571</td>\n",
       "      <td>0.740476</td>\n",
       "      <td>0.685714</td>\n",
       "      <td>0.757143</td>\n",
       "      <td>0.588095</td>\n",
       "      <td>0.626190</td>\n",
       "    </tr>\n",
       "    <tr>\n",
       "      <th>brca_full_outcome</th>\n",
       "      <td>0.750000</td>\n",
       "      <td>0.700000</td>\n",
       "      <td>0.800000</td>\n",
       "      <td>0.600000</td>\n",
       "      <td>0.750000</td>\n",
       "      <td>0.725000</td>\n",
       "      <td>0.750000</td>\n",
       "      <td>0.575000</td>\n",
       "      <td>0.725000</td>\n",
       "      <td>0.850000</td>\n",
       "      <td>0.750000</td>\n",
       "    </tr>\n",
       "    <tr>\n",
       "      <th>brca_full_pre_post</th>\n",
       "      <td>0.673016</td>\n",
       "      <td>0.966667</td>\n",
       "      <td>0.972222</td>\n",
       "      <td>1.000000</td>\n",
       "      <td>0.946825</td>\n",
       "      <td>0.967460</td>\n",
       "      <td>0.799206</td>\n",
       "      <td>1.000000</td>\n",
       "      <td>0.935714</td>\n",
       "      <td>0.988889</td>\n",
       "      <td>0.901587</td>\n",
       "    </tr>\n",
       "    <tr>\n",
       "      <th>brca_full_subtype</th>\n",
       "      <td>1.000000</td>\n",
       "      <td>1.000000</td>\n",
       "      <td>1.000000</td>\n",
       "      <td>0.844444</td>\n",
       "      <td>0.866667</td>\n",
       "      <td>0.888889</td>\n",
       "      <td>0.888889</td>\n",
       "      <td>0.833333</td>\n",
       "      <td>0.788889</td>\n",
       "      <td>1.000000</td>\n",
       "      <td>0.955556</td>\n",
       "    </tr>\n",
       "    <tr>\n",
       "      <th>luad1</th>\n",
       "      <td>0.850000</td>\n",
       "      <td>0.725000</td>\n",
       "      <td>0.525000</td>\n",
       "      <td>0.850000</td>\n",
       "      <td>0.587500</td>\n",
       "      <td>0.675000</td>\n",
       "      <td>0.675000</td>\n",
       "      <td>0.737500</td>\n",
       "      <td>0.525000</td>\n",
       "      <td>0.475000</td>\n",
       "      <td>0.475000</td>\n",
       "    </tr>\n",
       "    <tr>\n",
       "      <th>luad2</th>\n",
       "      <td>1.000000</td>\n",
       "      <td>1.000000</td>\n",
       "      <td>1.000000</td>\n",
       "      <td>1.000000</td>\n",
       "      <td>1.000000</td>\n",
       "      <td>1.000000</td>\n",
       "      <td>1.000000</td>\n",
       "      <td>1.000000</td>\n",
       "      <td>1.000000</td>\n",
       "      <td>1.000000</td>\n",
       "      <td>1.000000</td>\n",
       "    </tr>\n",
       "  </tbody>\n",
       "</table>\n",
       "</div>"
      ],
      "text/plain": [
       "experiment               HVG       PCA      scVI  GF-V2 [finetune]  \\\n",
       "experiment_name                                                      \n",
       "brca_full_chemo     0.766667  0.621429  0.504762          0.709524   \n",
       "brca_full_outcome   0.750000  0.700000  0.800000          0.600000   \n",
       "brca_full_pre_post  0.673016  0.966667  0.972222          1.000000   \n",
       "brca_full_subtype   1.000000  1.000000  1.000000          0.844444   \n",
       "luad1               0.850000  0.725000  0.525000          0.850000   \n",
       "luad2               1.000000  1.000000  1.000000          1.000000   \n",
       "\n",
       "experiment          GF-V2-Deep  GF-V2 [cancer]     GF-V1  GF-V1 [finetune]  \\\n",
       "experiment_name                                                              \n",
       "brca_full_chemo       0.807143        0.678571  0.740476          0.685714   \n",
       "brca_full_outcome     0.750000        0.725000  0.750000          0.575000   \n",
       "brca_full_pre_post    0.946825        0.967460  0.799206          1.000000   \n",
       "brca_full_subtype     0.866667        0.888889  0.888889          0.833333   \n",
       "luad1                 0.587500        0.675000  0.675000          0.737500   \n",
       "luad2                 1.000000        1.000000  1.000000          1.000000   \n",
       "\n",
       "experiment             GF-V2  scGPT [cancer]     scGPT  \n",
       "experiment_name                                         \n",
       "brca_full_chemo     0.757143        0.588095  0.626190  \n",
       "brca_full_outcome   0.725000        0.850000  0.750000  \n",
       "brca_full_pre_post  0.935714        0.988889  0.901587  \n",
       "brca_full_subtype   0.788889        1.000000  0.955556  \n",
       "luad1               0.525000        0.475000  0.475000  \n",
       "luad2               1.000000        1.000000  1.000000  "
      ]
     },
     "execution_count": 99,
     "metadata": {},
     "output_type": "execute_result"
    }
   ],
   "source": [
    "heatmap_df_grouped"
   ]
  },
  {
   "cell_type": "code",
   "execution_count": 100,
   "id": "ff82d9ff-394e-48da-961a-652f9df5624d",
   "metadata": {
    "tags": []
   },
   "outputs": [
    {
     "name": "stdout",
     "output_type": "stream",
     "text": [
      "Grouped panel heatmap saved to ./AUC_vote.png\n"
     ]
    },
    {
     "data": {
      "image/png": "[encoded data removed]",
      "text/plain": [
       "<Figure size 600x600 with 10 Axes>"
      ]
     },
     "execution_count": 100,
     "metadata": {},
     "output_type": "execute_result"
    }
   ],
   "source": [
    "plot_composite_by_group_panels(heatmap_df_grouped, sorted_models, metric, clf, save_dir='.')"
   ]
  },
  {
   "cell_type": "code",
   "execution_count": null,
   "id": "ea878c15-041c-49a3-a280-cdd0dd6b3f47",
   "metadata": {
    "tags": []
   },
   "outputs": [],
   "source": []
  },
  {
   "cell_type": "code",
   "execution_count": null,
   "id": "899caa3d-9e81-4b93-b701-2b6b7954f807",
   "metadata": {
    "tags": []
   },
   "outputs": [],
   "source": [
    "heatmap_df"
   ]
  },
  {
   "cell_type": "code",
   "execution_count": null,
   "id": "37abfb10-e556-4e0f-a4d7-2edc61dcf5e0",
   "metadata": {
    "tags": []
   },
   "outputs": [],
   "source": []
  },
  {
   "cell_type": "code",
   "execution_count": null,
   "id": "3393d44a-f1f0-411c-b451-f5925c20b9d6",
   "metadata": {
    "tags": []
   },
   "outputs": [],
   "source": [
    "# heatmap_df = process_and_sort(heatmap_df)\n",
    "\n"
   ]
  },
  {
   "cell_type": "code",
   "execution_count": null,
   "id": "fb32a807-33e6-4586-96d2-cb3d54e2d9be",
   "metadata": {
    "tags": []
   },
   "outputs": [],
   "source": [
    "heatmap_df"
   ]
  },
  {
   "cell_type": "code",
   "execution_count": null,
   "id": "cd3449ca-6fa3-424a-89fe-34b2bc6fb6b7",
   "metadata": {
    "tags": []
   },
   "outputs": [],
   "source": [
    "# heatmap_df = heatmap_df[heatmap_df.columns.drop(list(heatmap_df.filter(regex='continue')))]"
   ]
  },
  {
   "cell_type": "code",
   "execution_count": null,
   "id": "2630e9d6-5b27-4f3e-9e83-204d826b6cc8",
   "metadata": {
    "tags": []
   },
   "outputs": [],
   "source": [
    "heatmap_df"
   ]
  },
  {
   "cell_type": "code",
   "execution_count": null,
   "id": "cbf660f9-7cd0-427e-853f-f7108cd56ea2",
   "metadata": {
    "tags": []
   },
   "outputs": [],
   "source": [
    "sorted_models"
   ]
  },
  {
   "cell_type": "code",
   "execution_count": null,
   "id": "550954bb-265a-44a4-a0b5-9c305d02bed4",
   "metadata": {
    "tags": []
   },
   "outputs": [],
   "source": [
    "heatmap_df"
   ]
  },
  {
   "cell_type": "code",
   "execution_count": null,
   "id": "80b26d07-46b1-46de-896f-11c830ea800a",
   "metadata": {
    "tags": []
   },
   "outputs": [],
   "source": [
    "heatmap_df.round(2)"
   ]
  },
  {
   "cell_type": "code",
   "execution_count": null,
   "id": "15a325a3-955f-4cef-9a32-dac5f1f3152e",
   "metadata": {
    "tags": []
   },
   "outputs": [],
   "source": [
    "def plot_composite(heatmap_df, sorted_models, output_path='auprc_heatmap_final_fixed.png'):\n",
    "    import matplotlib.colors as mcolors\n",
    "\n",
    "    model_order = sorted_models['experiment'].tolist()\n",
    "    group_labels = sorted_models['group']\n",
    "    model_avg = sorted_models['mean_overall'].tolist()\n",
    "    n_models = len(model_order)\n",
    "    x = list(range(n_models))\n",
    "\n",
    "    fig = plt.figure(figsize=(14, max(6, heatmap_df.shape[0] * 0.5)))\n",
    "    gs = gridspec.GridSpec(3, 2, width_ratios=[20, 1], height_ratios=[3, 8, 0.4], hspace=0.2, wspace=0.05)\n",
    "\n",
    "    # Top bar plot\n",
    "    ax_top = fig.add_subplot(gs[0, 0])\n",
    "    ax_top.bar(x, model_avg, color='gray')\n",
    "    ax_top.set_xlim(-0.5, n_models - 0.5)\n",
    "    ax_top.set_xticks(x)\n",
    "    ax_top.set_xticklabels([''] * n_models)\n",
    "    ax_top.set_ylabel(\"Avg AUPRC\")\n",
    "    ax_top.set_title(\"Average AUPRC per Model\")\n",
    "\n",
    "    # Heatmap\n",
    "    ax_heatmap = fig.add_subplot(gs[1, 0])\n",
    "    sns.heatmap(\n",
    "        heatmap_df,\n",
    "        ax=ax_heatmap,\n",
    "        annot=True,\n",
    "        fmt=\".3f\",\n",
    "        cmap='viridis',\n",
    "        cbar_ax=fig.add_subplot(gs[1, 1]),\n",
    "        xticklabels=model_order\n",
    "    )\n",
    "    ax_heatmap.set_ylabel(\"Experiment\")\n",
    "    ax_heatmap.tick_params(axis='x', rotation=90, labelsize=9, pad=5)\n",
    "\n",
    "    # Bottom group annotation bar\n",
    "    ax_bottom = fig.add_subplot(gs[2, 0])\n",
    "    unique_groups = group_labels.unique()\n",
    "    palette = sns.color_palette(\"husl\", len(unique_groups))\n",
    "    group_color_map = dict(zip(unique_groups, palette))\n",
    "    group_colors = group_labels.map(group_color_map)\n",
    "\n",
    "    for i, color in enumerate(group_colors):\n",
    "        ax_bottom.add_patch(plt.Rectangle((i, 0), 1, 1, color=color))\n",
    "    ax_bottom.set_xlim(0, n_models)\n",
    "    ax_bottom.set_ylim(0, 1)\n",
    "    ax_bottom.axis('off')\n",
    "\n",
    "    # Group legend\n",
    "    handles = [plt.Line2D([0], [0], color=color, lw=10) for color in group_color_map.values()]\n",
    "    labels = list(group_color_map.keys())\n",
    "    ax_bottom.legend(handles, labels, loc='upper center', ncol=len(labels), bbox_to_anchor=(0.5, -0.6))\n",
    "\n",
    "    fig.savefig(output_path, dpi=100, bbox_inches='tight')\n",
    "    plt.close()\n",
    "    print(f\"Final FIXED aligned heatmap saved to {output_path}\")"
   ]
  },
  {
   "cell_type": "code",
   "execution_count": null,
   "id": "a86ccf48-3b4f-4a34-9c37-cc5347272062",
   "metadata": {
    "tags": []
   },
   "outputs": [],
   "source": []
  },
  {
   "cell_type": "code",
   "execution_count": null,
   "id": "87048d74-9898-4681-b3ad-4d56bc4773f7",
   "metadata": {
    "tags": []
   },
   "outputs": [],
   "source": [
    "\n",
    "def plot_heatmap(df, output_path='auprc_heatmap.png'):\n",
    "    plt.figure(figsize=(12, max(6, len(df) * 0.5)))\n",
    "    sns.heatmap(df, annot=True, fmt=\".3f\", cmap='viridis', cbar_kws={'label': 'AUPRC'})\n",
    "    plt.title(\"AUPRC Scores Across Experiments and Models\")\n",
    "    plt.ylabel(\"Experiment\")\n",
    "    plt.xlabel(\"Model\")\n",
    "    plt.tight_layout()\n",
    "    plt.savefig(output_path)\n",
    "    plt.close()\n",
    "    print(f\"Heatmap saved to {output_path}\")\n"
   ]
  },
  {
   "cell_type": "code",
   "execution_count": null,
   "id": "5a2bf473-b17d-45ff-bcdd-ff94aeeb9505",
   "metadata": {
    "tags": []
   },
   "outputs": [],
   "source": [
    "plot_composite_by_group_panels(heatmap_df, sorted_models)"
   ]
  },
  {
   "cell_type": "code",
   "execution_count": null,
   "id": "44f40505-2c67-487b-907a-0ff836a3f875",
   "metadata": {},
   "outputs": [],
   "source": []
  },
  {
   "cell_type": "code",
   "execution_count": null,
   "id": "a94bbecd-9b34-42a7-8d9d-b662db8983df",
   "metadata": {},
   "outputs": [],
   "source": []
  },
  {
   "cell_type": "code",
   "execution_count": null,
   "id": "5acf9b17-e33e-4910-a3f3-773fd00cddc8",
   "metadata": {},
   "outputs": [],
   "source": []
  },
  {
   "cell_type": "code",
   "execution_count": null,
   "id": "3fa9d6c4-ed11-4006-a2ad-e8a9c8bc6c5d",
   "metadata": {},
   "outputs": [],
   "source": []
  },
  {
   "cell_type": "code",
   "execution_count": null,
   "id": "876c621f-c25c-4e9e-956e-5603b07572ed",
   "metadata": {},
   "outputs": [],
   "source": []
  },
  {
   "cell_type": "code",
   "execution_count": null,
   "id": "1082d817-32e4-457f-8b19-05a9554f55e3",
   "metadata": {
    "tags": []
   },
   "outputs": [],
   "source": [
    "save_dir ='./brca_full_pre_post'\n",
    "os.makedirs(save_dir, exist_ok=True)"
   ]
  },
  {
   "cell_type": "code",
   "execution_count": null,
   "id": "360dc0be-3308-45b8-a785-98a36c3122d7",
   "metadata": {
    "tags": []
   },
   "outputs": [],
   "source": [
    "base_dirs =['/home/jupyter/__output/brca_full/pre_post']"
   ]
  },
  {
   "cell_type": "code",
   "execution_count": null,
   "id": "62db2e65-b921-4ac0-b5fe-81621c08ae06",
   "metadata": {
    "tags": []
   },
   "outputs": [],
   "source": [
    "experiments = []\n",
    "for dir_ in base_dirs:\n",
    "    subfolders = [ join(dir_, f.name) for f in os.scandir(dir_) if f.is_dir() ]\n",
    "    experiments.extend(subfolders)"
   ]
  },
  {
   "cell_type": "code",
   "execution_count": null,
   "id": "0e1fdb67-f342-43c9-ba81-4b43804ee9fd",
   "metadata": {
    "tags": []
   },
   "outputs": [],
   "source": [
    "results = collect_cv_metrics(experiments)\n",
    "mil_df = results[\"mil\"]\n",
    "vote_df = results[\"vote\"]\n",
    "avg_df = results[\"avg\"]\n"
   ]
  },
  {
   "cell_type": "code",
   "execution_count": null,
   "id": "f4e26051-4f31-4400-8eca-28e0520c691d",
   "metadata": {
    "tags": []
   },
   "outputs": [],
   "source": [
    "mil_df['group'] = mil_df.experiment.map(map_groups)\n",
    "# vote_df['group'] = vote_df.experiment.map(map_groups)\n",
    "avg_df['group'] = avg_df.experiment.map(map_groups)"
   ]
  },
  {
   "cell_type": "code",
   "execution_count": null,
   "id": "b3255fda-6d53-41b7-9e03-bbe103cff79e",
   "metadata": {},
   "outputs": [],
   "source": [
    "metrics= mil_df.Metrics.unique()"
   ]
  },
  {
   "cell_type": "code",
   "execution_count": null,
   "id": "7d7ee4a5-538b-49f2-95dc-69b63aa0c042",
   "metadata": {
    "tags": []
   },
   "outputs": [],
   "source": [
    "fig = plot_cv_metrics(mil_df,avg_df, ['MIL', 'AVG.'],'Pre vs Post',   'AUC', False, plot_type = 'bar')\n"
   ]
  },
  {
   "cell_type": "code",
   "execution_count": null,
   "id": "bf0520ad-228d-4555-95fb-99bd71777e5b",
   "metadata": {},
   "outputs": [],
   "source": []
  }
 ],
 "metadata": {
  "environment": {
   "kernel": "scfoundation",
   "name": "pytorch-gpu.2-2.m128",
   "type": "gcloud",
   "uri": "us-docker.pkg.dev/deeplearning-platform-release/gcr.io/pytorch-gpu.2-2:m128"
  },
  "kernelspec": {
   "display_name": "Python (scfoundation )",
   "language": "python",
   "name": "scfoundation"
  },
  "language_info": {
   "codemirror_mode": {
    "name": "ipython",
    "version": 3
   },
   "file_extension": ".py",
   "mimetype": "text/x-python",
   "name": "python",
   "nbconvert_exporter": "python",
   "pygments_lexer": "ipython3",
   "version": "3.10.18"
  }
 },
 "nbformat": 4,
 "nbformat_minor": 5
}
