{
 "cells": [
  {
   "cell_type": "code",
   "execution_count": 59,
   "id": "fd014b9a-3681-4780-a3ed-73e302047d39",
   "metadata": {
    "tags": []
   },
   "outputs": [],
   "source": [
    "import os\n",
    "from os import listdir\n",
    "from os.path import isfile, join, dirname, basename\n",
    "import pandas as pd"
   ]
  },
  {
   "cell_type": "code",
   "execution_count": 60,
   "id": "cad953f3-d6cf-40fe-a53d-1ba553074dcc",
   "metadata": {
    "tags": []
   },
   "outputs": [],
   "source": [
    "import matplotlib.pyplot as plt\n",
    "import seaborn as sns"
   ]
  },
  {
   "cell_type": "code",
   "execution_count": 61,
   "id": "c8746d73-b132-4a80-82c4-d9e69a616a5f",
   "metadata": {
    "tags": []
   },
   "outputs": [],
   "source": [
    "import matplotlib.gridspec as gridspec"
   ]
  },
  {
   "cell_type": "code",
   "execution_count": 62,
   "id": "6c9e50e3-0ae9-4caa-acd1-ff94cdeb7425",
   "metadata": {
    "tags": []
   },
   "outputs": [],
   "source": [
    "# from analysis_utils import collect_cv_metrics, map_groups, plot_cv_metrics"
   ]
  },
  {
   "cell_type": "code",
   "execution_count": 63,
   "id": "bf6525f2-851a-4214-b9d1-23f04c8a97ed",
   "metadata": {
    "tags": []
   },
   "outputs": [
    {
     "data": {
      "text/plain": [
       "<Figure size 640x480 with 0 Axes>"
      ]
     },
     "metadata": {},
     "output_type": "display_data"
    }
   ],
   "source": [
    "%run analysis_utils.py"
   ]
  },
  {
   "cell_type": "code",
   "execution_count": null,
   "id": "717af637-b273-433f-966d-eb9fb59d1135",
   "metadata": {
    "tags": []
   },
   "outputs": [],
   "source": []
  },
  {
   "cell_type": "code",
   "execution_count": 64,
   "id": "c903bd6c-2fe3-4ede-a992-2fe5ec296b04",
   "metadata": {
    "tags": []
   },
   "outputs": [],
   "source": [
    "def collect_auprc_scores(metric='AUPRC', clf='avg', base_dir='results'):\n",
    "    all_results = []\n",
    "\n",
    "    for subdir in os.listdir(base_dir):\n",
    "        if subdir.startswith('__'):\n",
    "            print(f'skipping {subdir}')\n",
    "            continue\n",
    "        if subdir.startswith('luad1'):\n",
    "            print(f'skipping {subdir}')\n",
    "            continue\n",
    "        exp_path = os.path.join(base_dir, subdir)\n",
    "        file_path = os.path.join(exp_path, f'{metric}_{clf}.csv')\n",
    "        if os.path.isfile(file_path):\n",
    "            try:\n",
    "                df = pd.read_csv(file_path)\n",
    "                df['experiment_name'] = subdir  # Add experiment name\n",
    "                all_results.append(df[['experiment_name', 'experiment', 'group', 'mean']])\n",
    "            except Exception as e:\n",
    "                print(f\"Failed to read {file_path}: {e}\")\n",
    "\n",
    "    if not all_results:\n",
    "        raise ValueError(f\"No valid {metric} files found.\")\n",
    "\n",
    "    combined_df = pd.concat(all_results)\n",
    "    return combined_df\n"
   ]
  },
  {
   "cell_type": "code",
   "execution_count": 65,
   "id": "3032808a-42bf-4978-9df7-5ea55763d7b2",
   "metadata": {
    "tags": []
   },
   "outputs": [],
   "source": [
    "def process_and_sort(df):\n",
    "    model_means = df.groupby('experiment')['mean'].mean().reset_index(name='mean_overall')\n",
    "    # model_means = df.groupby('experiment')['mean'].median().reset_index(name='mean_overall')\n",
    "\n",
    "    model_groups = df[['experiment', 'group']].drop_duplicates()\n",
    "\n",
    "    sorted_models = model_means.merge(model_groups, on='experiment')\n",
    "    sorted_models = sorted_models.sort_values(by=['group', 'mean_overall'], ascending=[True, False])\n",
    "    sorted_model_order = sorted_models['experiment'].tolist()\n",
    "\n",
    "    heatmap_df = df.pivot(index='experiment_name', columns='experiment', values='mean')\n",
    "    heatmap_df = heatmap_df[sorted_model_order]\n",
    "\n",
    "    return heatmap_df, sorted_models"
   ]
  },
  {
   "cell_type": "code",
   "execution_count": 66,
   "id": "45acc74b-f4ba-4cd6-b3f0-4e342fd4c5bb",
   "metadata": {
    "tags": []
   },
   "outputs": [],
   "source": [
    "\n",
    "def plot_composite_by_group_panels(heatmap_df, sorted_models, metric, clf='avg', save_dir='.'):\n",
    "    import matplotlib.pyplot as plt\n",
    "    import seaborn as sns\n",
    "    import matplotlib.gridspec as gridspec\n",
    "    import numpy as np\n",
    "    from os.path import join\n",
    "    from matplotlib.cm import get_cmap\n",
    "    from matplotlib.colors import Normalize\n",
    "\n",
    "    sorted_models = sorted_models.round(2)\n",
    "    heatmap_df = heatmap_df.round(2)\n",
    "\n",
    "    # Calculate row-wise averages and sort\n",
    "    row_avg = heatmap_df.mean(axis=1)\n",
    "    heatmap_df = heatmap_df.loc[row_avg.sort_values(ascending=False).index]\n",
    "\n",
    "    grouped = sorted_models.groupby('group')\n",
    "    n_groups = len(grouped)\n",
    "    palette = sns.color_palette(\"husl\", n_groups)\n",
    "    color_map = dict(zip(grouped.groups.keys(), palette))\n",
    "\n",
    "    global_vmin = heatmap_df.min().min()\n",
    "    global_vmax = heatmap_df.max().max()\n",
    "    norm = Normalize(vmin=global_vmin, vmax=global_vmax)\n",
    "    cmap = get_cmap('viridis')\n",
    "\n",
    "    total_models = sum(len(group_df) for _, group_df in grouped)\n",
    "    fig = plt.figure(figsize=(max(6, total_models * 0.5 + 1.5), max(6, heatmap_df.shape[0] * 0.6)))\n",
    "\n",
    "    group_model_counts = [len(group_df) for _, group_df in grouped]\n",
    "\n",
    "    # gs = gridspec.GridSpec(\n",
    "    #     3,\n",
    "    #     n_groups + 2,\n",
    "    #     width_ratios=group_model_counts + [0.2, 1.0],\n",
    "    #     height_ratios=[1.2, 6, 0.4],\n",
    "    #     hspace=0.3,\n",
    "    #     wspace=0.1\n",
    "    # )\n",
    "\n",
    "    gs = gridspec.GridSpec(\n",
    "        3,\n",
    "        n_groups + 2,  # +2 for row avg and colorbar\n",
    "        width_ratios=group_model_counts + [1.0, 0.2],  # row avg, colorbar\n",
    "        height_ratios=[1.2, 6, 0.4],\n",
    "        hspace=0.3,\n",
    "        wspace=0.1\n",
    "    )\n",
    "        \n",
    "    for i, (group_name, group_df) in enumerate(grouped):\n",
    "        # cbar = (i == n_groups - 1)\n",
    "        # cbar_ax = fig.add_subplot(gs[1, -2]) if cbar else None\n",
    "\n",
    "        cbar = (i == n_groups - 1)\n",
    "        cbar_ax = fig.add_subplot(gs[1, -1]) if cbar else None  # now last column\n",
    "        \n",
    "        color = color_map[group_name]\n",
    "        model_names = group_df['experiment'].tolist()\n",
    "        model_avg = group_df['mean_overall'].tolist()\n",
    "        group_heatmap = heatmap_df[model_names]\n",
    "\n",
    "        # Top bar plot\n",
    "        ax_top = fig.add_subplot(gs[0, i])\n",
    "        bars = ax_top.bar(range(len(model_avg)), model_avg, color=color)\n",
    "        ax_top.set_xticks([])\n",
    "        ax_top.set_yticks([])\n",
    "        # ax_top.set_title(f\"{group_name}\\nAvg {metric}\", fontsize=6)\n",
    "        ax_top.set_ylim(0.7, 1)\n",
    "\n",
    "        # Remove all spines (bounding boxes)\n",
    "        for spine in ax_top.spines.values():\n",
    "            spine.set_visible(False)\n",
    "\n",
    "        for idx, bar in enumerate(bars):\n",
    "            height = bar.get_height()\n",
    "            ax_top.text(bar.get_x() + bar.get_width() / 2, height + 0.01, f\"{height:.2f}\", ha='center', va='bottom', fontsize=6)\n",
    "\n",
    "        # Heatmap\n",
    "        ax_heatmap = fig.add_subplot(gs[1, i])\n",
    "        sns.heatmap(\n",
    "            group_heatmap,\n",
    "            ax=ax_heatmap,\n",
    "            annot=True,\n",
    "            fmt=\".2f\",\n",
    "            cmap='viridis',\n",
    "            vmin=global_vmin,\n",
    "            vmax=global_vmax,\n",
    "            cbar=cbar,\n",
    "            cbar_ax=cbar_ax,\n",
    "            xticklabels=False,\n",
    "            annot_kws={\"size\": 6}\n",
    "        )\n",
    "        ax_heatmap.set_xticklabels([])\n",
    "        ax_heatmap.tick_params(axis='x', bottom=False)\n",
    "        ax_heatmap.set_xlabel(group_name)\n",
    "        if i != 0:\n",
    "            ax_heatmap.set_ylabel(\"\")\n",
    "            ax_heatmap.set_yticks([])\n",
    "            ax_heatmap.set_yticklabels([])\n",
    "\n",
    "        xticklabels = model_names\n",
    "        ax_heatmap.tick_params(axis='x', rotation=90, labelsize=8)\n",
    "        ax_heatmap.set_ylabel('')\n",
    "\n",
    "        # Bottom color bar\n",
    "        ax_bottom = fig.add_subplot(gs[2, i])\n",
    "        for j in range(len(model_names)):\n",
    "            ax_bottom.add_patch(plt.Rectangle((j, 0), 1, 1, color=color))\n",
    "            \n",
    "        ax_bottom.set_xlim(0, len(model_names))\n",
    "        ax_bottom.set_ylim(0, 1)\n",
    "        ax_bottom.axis('off')\n",
    "        for j, model in enumerate(model_names):\n",
    "            ax_bottom.text(j + 0.5, -0.2, model, ha='right', va='top', rotation=90, fontsize=10, rotation_mode='anchor')\n",
    "\n",
    "     # Right-side bar plot: row average\n",
    "    # ax_right_bar = fig.add_subplot(gs[1, -1])\n",
    "    # avg_vals = heatmap_df.mean(axis=1)\n",
    "    # y_positions = np.arange(len(avg_vals))\n",
    "    \n",
    "    # Right-side bar plot: row average (now second-to-last column)\n",
    "    ax_right_bar = fig.add_subplot(gs[1, -2])\n",
    "    avg_vals = heatmap_df.mean(axis=1)\n",
    "    y_positions = np.arange(len(avg_vals))\n",
    "    colors = [cmap(norm(val)) for val in avg_vals]\n",
    "\n",
    "    ax_right_bar.barh(y_positions, avg_vals.values, color=colors)\n",
    "\n",
    "    ax_right_bar.invert_yaxis()  # Align with heatmap rows\n",
    "    ax_right_bar.set_xlim(0.4, 1.0)\n",
    "    ax_right_bar.set_yticks([])\n",
    "    ax_right_bar.set_xticks([])\n",
    "    ax_right_bar.set_xlabel(f\"Avg {metric}\", fontsize=5)\n",
    "\n",
    "    for spine in ax_right_bar.spines.values():\n",
    "        spine.set_visible(False)\n",
    "        \n",
    "\n",
    "    # Use heatmap order and colormap for coloring\n",
    "    colors = [cmap(norm(val)) for val in avg_vals]\n",
    "\n",
    "    bars = ax_right_bar.barh(y_positions, avg_vals.values, color=colors)\n",
    "    \n",
    "    if cbar_ax is not None:\n",
    "        cbar_ax.tick_params(labelsize=6)  # Control colorbar tick font size here\n",
    "\n",
    "    # Align and remove ticks\n",
    "    # ax_right_bar.invert_yaxis()  # Align top-down with heatmap\n",
    "    # ax_right_bar.set_xlim(0.7, 1.0)\n",
    "    # ax_right_bar.set_yticks([])\n",
    "    # ax_right_bar.set_xticks([])\n",
    "    # ax_right_bar.set_xlabel(f\"Avg {metric}\", fontsize=8)\n",
    "\n",
    "    # Remove border/spines\n",
    "    for spine in ax_right_bar.spines.values():\n",
    "        spine.set_visible(False)\n",
    "\n",
    "    # Group legend (optional)\n",
    "    fig.subplots_adjust(bottom=0.25)\n",
    "    legend_handles = [plt.Line2D([0], [0], color=c, lw=10) for c in color_map.values()]\n",
    "    # fig.legend(legend_handles, color_map.keys(), loc='lower center', ncol=n_groups)\n",
    "\n",
    "    output_path = join(save_dir, f'{metric}_{clf}.png')\n",
    "    fig.savefig(output_path, dpi=200, bbox_inches='tight')\n",
    "    plt.close()\n",
    "    print(f\"Grouped panel heatmap saved to {output_path}\")\n",
    "    return fig"
   ]
  },
  {
   "cell_type": "code",
   "execution_count": 67,
   "id": "efb29e48-6d03-4800-aac8-67bcc036ef4d",
   "metadata": {
    "tags": []
   },
   "outputs": [],
   "source": [
    "metrics= ['AUC', 'F1', 'AUPRC', 'Recall', 'Precision', 'Accuracy']"
   ]
  },
  {
   "cell_type": "code",
   "execution_count": 68,
   "id": "b147d9a4-ae84-4a00-8714-f1757488a807",
   "metadata": {
    "tags": []
   },
   "outputs": [],
   "source": [
    "clfs = ['vote', 'mil', 'avg'] #['avg', 'mil']"
   ]
  },
  {
   "cell_type": "code",
   "execution_count": 69,
   "id": "7e1ab4f8-d3f8-4f41-bbe6-ef209bd17d1f",
   "metadata": {
    "tags": []
   },
   "outputs": [],
   "source": [
    "# collect_auprc_scores"
   ]
  },
  {
   "cell_type": "code",
   "execution_count": 70,
   "id": "4565d9a6-71b9-474a-8687-0116b8997853",
   "metadata": {
    "tags": []
   },
   "outputs": [],
   "source": [
    "# group_map = {'geneformer':'Geneformer', 'baseline': 'Baseline', 'scgpt': 'scGPT'}\n",
    "# "
   ]
  },
  {
   "cell_type": "code",
   "execution_count": 71,
   "id": "4f0fb77d-c728-478e-81ad-447002a38b47",
   "metadata": {
    "tags": []
   },
   "outputs": [],
   "source": [
    "# heatmap_df"
   ]
  },
  {
   "cell_type": "code",
   "execution_count": 72,
   "id": "bfc8d8d5-ab81-4ede-be46-e9b8432a7f23",
   "metadata": {
    "tags": []
   },
   "outputs": [],
   "source": [
    "# heatmap_df.to_csv('test.csv')"
   ]
  },
  {
   "cell_type": "code",
   "execution_count": 73,
   "id": "820279cb-85e0-433c-8b34-3ca533164447",
   "metadata": {
    "tags": []
   },
   "outputs": [],
   "source": [
    "# metrics"
   ]
  },
  {
   "cell_type": "code",
   "execution_count": 74,
   "id": "bdd345f1-375b-4f5a-ad7e-079ff7fea67b",
   "metadata": {
    "tags": []
   },
   "outputs": [],
   "source": [
    "# model_name_map"
   ]
  },
  {
   "cell_type": "code",
   "execution_count": 75,
   "id": "f9791f2a-c948-4db3-b882-c0dbde31b630",
   "metadata": {
    "tags": []
   },
   "outputs": [],
   "source": [
    "# test_df = collect_auprc_scores(metric='AUPRC',clf='avg', base_dir='./metrics')\n"
   ]
  },
  {
   "cell_type": "code",
   "execution_count": 76,
   "id": "a88d56c6-02e8-4934-a1b9-d5f8e9663fa2",
   "metadata": {
    "tags": []
   },
   "outputs": [],
   "source": [
    "# test_df"
   ]
  },
  {
   "cell_type": "code",
   "execution_count": 77,
   "id": "0df0a959-3bbc-478e-9844-2fef2aeb768f",
   "metadata": {
    "tags": []
   },
   "outputs": [
    {
     "name": "stdout",
     "output_type": "stream",
     "text": [
      "vote\n",
      "AUC\n",
      "skipping luad1\n"
     ]
    },
    {
     "name": "stderr",
     "output_type": "stream",
     "text": [
      "/var/tmp/ipykernel_7955/3215541062.py:25: MatplotlibDeprecationWarning: The get_cmap function was deprecated in Matplotlib 3.7 and will be removed in 3.11. Use ``matplotlib.colormaps[name]`` or ``matplotlib.colormaps.get_cmap()`` or ``pyplot.get_cmap()`` instead.\n",
      "  cmap = get_cmap('viridis')\n"
     ]
    },
    {
     "name": "stdout",
     "output_type": "stream",
     "text": [
      "Grouped panel heatmap saved to ./plots/AUC_vote.png\n",
      "F1\n",
      "skipping luad1\n"
     ]
    },
    {
     "name": "stderr",
     "output_type": "stream",
     "text": [
      "/var/tmp/ipykernel_7955/3215541062.py:25: MatplotlibDeprecationWarning: The get_cmap function was deprecated in Matplotlib 3.7 and will be removed in 3.11. Use ``matplotlib.colormaps[name]`` or ``matplotlib.colormaps.get_cmap()`` or ``pyplot.get_cmap()`` instead.\n",
      "  cmap = get_cmap('viridis')\n"
     ]
    },
    {
     "name": "stdout",
     "output_type": "stream",
     "text": [
      "Grouped panel heatmap saved to ./plots/F1_vote.png\n",
      "AUPRC\n",
      "skipping luad1\n"
     ]
    },
    {
     "name": "stderr",
     "output_type": "stream",
     "text": [
      "/var/tmp/ipykernel_7955/3215541062.py:25: MatplotlibDeprecationWarning: The get_cmap function was deprecated in Matplotlib 3.7 and will be removed in 3.11. Use ``matplotlib.colormaps[name]`` or ``matplotlib.colormaps.get_cmap()`` or ``pyplot.get_cmap()`` instead.\n",
      "  cmap = get_cmap('viridis')\n"
     ]
    },
    {
     "name": "stdout",
     "output_type": "stream",
     "text": [
      "Grouped panel heatmap saved to ./plots/AUPRC_vote.png\n",
      "Recall\n",
      "skipping luad1\n"
     ]
    },
    {
     "name": "stderr",
     "output_type": "stream",
     "text": [
      "/var/tmp/ipykernel_7955/3215541062.py:25: MatplotlibDeprecationWarning: The get_cmap function was deprecated in Matplotlib 3.7 and will be removed in 3.11. Use ``matplotlib.colormaps[name]`` or ``matplotlib.colormaps.get_cmap()`` or ``pyplot.get_cmap()`` instead.\n",
      "  cmap = get_cmap('viridis')\n"
     ]
    },
    {
     "name": "stdout",
     "output_type": "stream",
     "text": [
      "Grouped panel heatmap saved to ./plots/Recall_vote.png\n",
      "Precision\n",
      "skipping luad1\n"
     ]
    },
    {
     "name": "stderr",
     "output_type": "stream",
     "text": [
      "/var/tmp/ipykernel_7955/3215541062.py:25: MatplotlibDeprecationWarning: The get_cmap function was deprecated in Matplotlib 3.7 and will be removed in 3.11. Use ``matplotlib.colormaps[name]`` or ``matplotlib.colormaps.get_cmap()`` or ``pyplot.get_cmap()`` instead.\n",
      "  cmap = get_cmap('viridis')\n"
     ]
    },
    {
     "name": "stdout",
     "output_type": "stream",
     "text": [
      "Grouped panel heatmap saved to ./plots/Precision_vote.png\n",
      "Accuracy\n",
      "skipping luad1\n"
     ]
    },
    {
     "name": "stderr",
     "output_type": "stream",
     "text": [
      "/var/tmp/ipykernel_7955/3215541062.py:25: MatplotlibDeprecationWarning: The get_cmap function was deprecated in Matplotlib 3.7 and will be removed in 3.11. Use ``matplotlib.colormaps[name]`` or ``matplotlib.colormaps.get_cmap()`` or ``pyplot.get_cmap()`` instead.\n",
      "  cmap = get_cmap('viridis')\n"
     ]
    },
    {
     "name": "stdout",
     "output_type": "stream",
     "text": [
      "Grouped panel heatmap saved to ./plots/Accuracy_vote.png\n",
      "mil\n",
      "AUC\n",
      "skipping luad1\n"
     ]
    },
    {
     "name": "stderr",
     "output_type": "stream",
     "text": [
      "/var/tmp/ipykernel_7955/3215541062.py:25: MatplotlibDeprecationWarning: The get_cmap function was deprecated in Matplotlib 3.7 and will be removed in 3.11. Use ``matplotlib.colormaps[name]`` or ``matplotlib.colormaps.get_cmap()`` or ``pyplot.get_cmap()`` instead.\n",
      "  cmap = get_cmap('viridis')\n"
     ]
    },
    {
     "name": "stdout",
     "output_type": "stream",
     "text": [
      "Grouped panel heatmap saved to ./plots/AUC_mil.png\n",
      "F1\n",
      "skipping luad1\n"
     ]
    },
    {
     "name": "stderr",
     "output_type": "stream",
     "text": [
      "/var/tmp/ipykernel_7955/3215541062.py:25: MatplotlibDeprecationWarning: The get_cmap function was deprecated in Matplotlib 3.7 and will be removed in 3.11. Use ``matplotlib.colormaps[name]`` or ``matplotlib.colormaps.get_cmap()`` or ``pyplot.get_cmap()`` instead.\n",
      "  cmap = get_cmap('viridis')\n"
     ]
    },
    {
     "name": "stdout",
     "output_type": "stream",
     "text": [
      "Grouped panel heatmap saved to ./plots/F1_mil.png\n",
      "AUPRC\n",
      "skipping luad1\n"
     ]
    },
    {
     "name": "stderr",
     "output_type": "stream",
     "text": [
      "/var/tmp/ipykernel_7955/3215541062.py:25: MatplotlibDeprecationWarning: The get_cmap function was deprecated in Matplotlib 3.7 and will be removed in 3.11. Use ``matplotlib.colormaps[name]`` or ``matplotlib.colormaps.get_cmap()`` or ``pyplot.get_cmap()`` instead.\n",
      "  cmap = get_cmap('viridis')\n"
     ]
    },
    {
     "name": "stdout",
     "output_type": "stream",
     "text": [
      "Grouped panel heatmap saved to ./plots/AUPRC_mil.png\n",
      "Recall\n",
      "skipping luad1\n"
     ]
    },
    {
     "name": "stderr",
     "output_type": "stream",
     "text": [
      "/var/tmp/ipykernel_7955/3215541062.py:25: MatplotlibDeprecationWarning: The get_cmap function was deprecated in Matplotlib 3.7 and will be removed in 3.11. Use ``matplotlib.colormaps[name]`` or ``matplotlib.colormaps.get_cmap()`` or ``pyplot.get_cmap()`` instead.\n",
      "  cmap = get_cmap('viridis')\n"
     ]
    },
    {
     "name": "stdout",
     "output_type": "stream",
     "text": [
      "Grouped panel heatmap saved to ./plots/Recall_mil.png\n",
      "Precision\n",
      "skipping luad1\n"
     ]
    },
    {
     "name": "stderr",
     "output_type": "stream",
     "text": [
      "/var/tmp/ipykernel_7955/3215541062.py:25: MatplotlibDeprecationWarning: The get_cmap function was deprecated in Matplotlib 3.7 and will be removed in 3.11. Use ``matplotlib.colormaps[name]`` or ``matplotlib.colormaps.get_cmap()`` or ``pyplot.get_cmap()`` instead.\n",
      "  cmap = get_cmap('viridis')\n"
     ]
    },
    {
     "name": "stdout",
     "output_type": "stream",
     "text": [
      "Grouped panel heatmap saved to ./plots/Precision_mil.png\n",
      "Accuracy\n",
      "skipping luad1\n"
     ]
    },
    {
     "name": "stderr",
     "output_type": "stream",
     "text": [
      "/var/tmp/ipykernel_7955/3215541062.py:25: MatplotlibDeprecationWarning: The get_cmap function was deprecated in Matplotlib 3.7 and will be removed in 3.11. Use ``matplotlib.colormaps[name]`` or ``matplotlib.colormaps.get_cmap()`` or ``pyplot.get_cmap()`` instead.\n",
      "  cmap = get_cmap('viridis')\n"
     ]
    },
    {
     "name": "stdout",
     "output_type": "stream",
     "text": [
      "Grouped panel heatmap saved to ./plots/Accuracy_mil.png\n",
      "avg\n",
      "AUC\n",
      "skipping luad1\n"
     ]
    },
    {
     "name": "stderr",
     "output_type": "stream",
     "text": [
      "/var/tmp/ipykernel_7955/3215541062.py:25: MatplotlibDeprecationWarning: The get_cmap function was deprecated in Matplotlib 3.7 and will be removed in 3.11. Use ``matplotlib.colormaps[name]`` or ``matplotlib.colormaps.get_cmap()`` or ``pyplot.get_cmap()`` instead.\n",
      "  cmap = get_cmap('viridis')\n"
     ]
    },
    {
     "name": "stdout",
     "output_type": "stream",
     "text": [
      "Grouped panel heatmap saved to ./plots/AUC_avg.png\n",
      "F1\n",
      "skipping luad1\n"
     ]
    },
    {
     "name": "stderr",
     "output_type": "stream",
     "text": [
      "/var/tmp/ipykernel_7955/3215541062.py:25: MatplotlibDeprecationWarning: The get_cmap function was deprecated in Matplotlib 3.7 and will be removed in 3.11. Use ``matplotlib.colormaps[name]`` or ``matplotlib.colormaps.get_cmap()`` or ``pyplot.get_cmap()`` instead.\n",
      "  cmap = get_cmap('viridis')\n"
     ]
    },
    {
     "name": "stdout",
     "output_type": "stream",
     "text": [
      "Grouped panel heatmap saved to ./plots/F1_avg.png\n",
      "AUPRC\n",
      "skipping luad1\n"
     ]
    },
    {
     "name": "stderr",
     "output_type": "stream",
     "text": [
      "/var/tmp/ipykernel_7955/3215541062.py:25: MatplotlibDeprecationWarning: The get_cmap function was deprecated in Matplotlib 3.7 and will be removed in 3.11. Use ``matplotlib.colormaps[name]`` or ``matplotlib.colormaps.get_cmap()`` or ``pyplot.get_cmap()`` instead.\n",
      "  cmap = get_cmap('viridis')\n"
     ]
    },
    {
     "name": "stdout",
     "output_type": "stream",
     "text": [
      "Grouped panel heatmap saved to ./plots/AUPRC_avg.png\n",
      "Recall\n",
      "skipping luad1\n"
     ]
    },
    {
     "name": "stderr",
     "output_type": "stream",
     "text": [
      "/var/tmp/ipykernel_7955/3215541062.py:25: MatplotlibDeprecationWarning: The get_cmap function was deprecated in Matplotlib 3.7 and will be removed in 3.11. Use ``matplotlib.colormaps[name]`` or ``matplotlib.colormaps.get_cmap()`` or ``pyplot.get_cmap()`` instead.\n",
      "  cmap = get_cmap('viridis')\n"
     ]
    },
    {
     "name": "stdout",
     "output_type": "stream",
     "text": [
      "Grouped panel heatmap saved to ./plots/Recall_avg.png\n",
      "Precision\n",
      "skipping luad1\n"
     ]
    },
    {
     "name": "stderr",
     "output_type": "stream",
     "text": [
      "/var/tmp/ipykernel_7955/3215541062.py:25: MatplotlibDeprecationWarning: The get_cmap function was deprecated in Matplotlib 3.7 and will be removed in 3.11. Use ``matplotlib.colormaps[name]`` or ``matplotlib.colormaps.get_cmap()`` or ``pyplot.get_cmap()`` instead.\n",
      "  cmap = get_cmap('viridis')\n"
     ]
    },
    {
     "name": "stdout",
     "output_type": "stream",
     "text": [
      "Grouped panel heatmap saved to ./plots/Precision_avg.png\n",
      "Accuracy\n",
      "skipping luad1\n"
     ]
    },
    {
     "name": "stderr",
     "output_type": "stream",
     "text": [
      "/var/tmp/ipykernel_7955/3215541062.py:25: MatplotlibDeprecationWarning: The get_cmap function was deprecated in Matplotlib 3.7 and will be removed in 3.11. Use ``matplotlib.colormaps[name]`` or ``matplotlib.colormaps.get_cmap()`` or ``pyplot.get_cmap()`` instead.\n",
      "  cmap = get_cmap('viridis')\n"
     ]
    },
    {
     "name": "stdout",
     "output_type": "stream",
     "text": [
      "Grouped panel heatmap saved to ./plots/Accuracy_avg.png\n"
     ]
    }
   ],
   "source": [
    "for clf in clfs:\n",
    "    print(clf)\n",
    "    for m in metrics:\n",
    "        print(m)\n",
    "        heatmap_df = collect_auprc_scores(metric=m,clf=clf, base_dir='./metrics')\n",
    "        idx = heatmap_df.experiment.str.contains('continue')\n",
    "        heatmap_df= heatmap_df[~idx]\n",
    "        idx = heatmap_df.experiment.str.contains('freez')\n",
    "        heatmap_df= heatmap_df[~idx]\n",
    "        \n",
    "        idx = heatmap_df.experiment.str.endswith('k')\n",
    "        heatmap_df= heatmap_df[~idx]\n",
    "        \n",
    "        idx = heatmap_df.experiment.str.endswith('batch')\n",
    "        heatmap_df= heatmap_df[~idx]\n",
    "    \n",
    "        idx = heatmap_df.experiment.str.endswith('_')\n",
    "        heatmap_df= heatmap_df[~idx]\n",
    "        \n",
    "        idx = heatmap_df.experiment.str.endswith('all')\n",
    "        heatmap_df= heatmap_df[~idx]\n",
    "        \n",
    "        # heatmap_df.group = heatmap_df.group.map(group_map)\n",
    "        heatmap_df.experiment = heatmap_df.experiment.map(lambda x: model_name_map.get(x, x))\n",
    "        heatmap_df.experiment_name = heatmap_df.experiment_name.map(experiment_name_map)\n",
    "        # heatmap_df['experiment_name'] = heatmap_df.experiment\n",
    "        heatmap_df_grouped, sorted_models = process_and_sort(heatmap_df)\n",
    "        plot_composite_by_group_panels(heatmap_df_grouped, sorted_models, m, clf, save_dir='./plots')\n",
    "        "
   ]
  },
  {
   "cell_type": "code",
   "execution_count": null,
   "id": "bf0520ad-228d-4555-95fb-99bd71777e5b",
   "metadata": {},
   "outputs": [],
   "source": []
  }
 ],
 "metadata": {
  "environment": {
   "kernel": "scfoundation",
   "name": "pytorch-gpu.2-2.m128",
   "type": "gcloud",
   "uri": "us-docker.pkg.dev/deeplearning-platform-release/gcr.io/pytorch-gpu.2-2:m128"
  },
  "kernelspec": {
   "display_name": "Python (scfoundation )",
   "language": "python",
   "name": "scfoundation"
  },
  "language_info": {
   "codemirror_mode": {
    "name": "ipython",
    "version": 3
   },
   "file_extension": ".py",
   "mimetype": "text/x-python",
   "name": "python",
   "nbconvert_exporter": "python",
   "pygments_lexer": "ipython3",
   "version": "3.10.18"
  }
 },
 "nbformat": 4,
 "nbformat_minor": 5
}
