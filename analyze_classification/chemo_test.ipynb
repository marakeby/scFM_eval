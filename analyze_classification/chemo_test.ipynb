{
 "cells": [
  {
   "cell_type": "code",
   "execution_count": 1,
   "id": "464b1212-06be-4a84-b75c-47560a4eedb1",
   "metadata": {
    "tags": []
   },
   "outputs": [],
   "source": [
    "import anndata as ad\n",
    "from os.path import join\n",
    "import pandas as pd\n",
    "import json\n",
    "import os"
   ]
  },
  {
   "cell_type": "code",
   "execution_count": 2,
   "id": "eedbb800-7e1d-49db-8aa3-4de87c363146",
   "metadata": {
    "tags": []
   },
   "outputs": [],
   "source": [
    "import random\n",
    "import numpy as np\n",
    "import torch"
   ]
  },
  {
   "cell_type": "code",
   "execution_count": 3,
   "id": "3f94909a-bff9-49cc-83b4-b5af70877b59",
   "metadata": {
    "tags": []
   },
   "outputs": [],
   "source": [
    "def set_random_seed(seed: int, deterministic: bool = True) -> None:\n",
    "    \"\"\"\n",
    "    Set random seed for reproducibility across random, numpy, and torch.\n",
    "\n",
    "    Args:\n",
    "        seed (int): The seed value to set.\n",
    "        deterministic (bool): If True, sets PyTorch to deterministic mode.\n",
    "    \"\"\"\n",
    "    random.seed(seed)\n",
    "    np.random.seed(seed)\n",
    "    torch.manual_seed(seed)\n",
    "    torch.cuda.manual_seed(seed)\n",
    "    torch.cuda.manual_seed_all(seed)  # for multi-GPU setups\n",
    "\n",
    "    if deterministic:\n",
    "        torch.backends.cudnn.deterministic = True\n",
    "        torch.backends.cudnn.benchmark = False\n",
    "\n",
    "    print(f\"Random seed set to: {seed}\")"
   ]
  },
  {
   "cell_type": "code",
   "execution_count": 4,
   "id": "f0d11eac-4e11-4305-bd27-6f2a010dd2c6",
   "metadata": {
    "tags": []
   },
   "outputs": [
    {
     "name": "stdout",
     "output_type": "stream",
     "text": [
      "Random seed set to: 42\n"
     ]
    }
   ],
   "source": [
    "set_random_seed(42)"
   ]
  },
  {
   "cell_type": "code",
   "execution_count": 5,
   "id": "df872406-04fa-41e1-93df-70aab167209c",
   "metadata": {
    "tags": []
   },
   "outputs": [],
   "source": [
    "from analysis_utils import collect_cv_metrics, map_groups"
   ]
  },
  {
   "cell_type": "code",
   "execution_count": 6,
   "id": "9e92da98-2ceb-4b3e-8844-38b54c66e94a",
   "metadata": {},
   "outputs": [],
   "source": [
    "def load_results(base_dir):\n",
    "    experiments = [ join(base_dir, f.name) for f in os.scandir(base_dir) if f.is_dir() ]\n",
    "    results = collect_cv_metrics(experiments)\n",
    "    return results "
   ]
  },
  {
   "cell_type": "code",
   "execution_count": 7,
   "id": "c5c9a493-230a-4cf8-89e3-c7ea0d38bb15",
   "metadata": {
    "tags": []
   },
   "outputs": [
    {
     "name": "stdout",
     "output_type": "stream",
     "text": [
      "Missing files in /home/jupyter/__output_clean/brca_full/chemo/gf-6L-30M-i2048_finetune\n",
      "Missing files in /home/jupyter/__output_clean/brca_full/chemo/Geneformer-V2-104M_finetune\n"
     ]
    }
   ],
   "source": [
    "save_dir ='./brca_full_chemo'\n",
    "task ='chemo'\n",
    "base_dir = '/home/jupyter/__output_clean/brca_full/chemo'\n",
    "os.makedirs(save_dir, exist_ok=True)\n",
    "results= load_results(base_dir)\n",
    "mil_df = results[\"mil\"]\n",
    "vote_df = results[\"vote\"]\n",
    "avg_df = results[\"avg\"]"
   ]
  },
  {
   "cell_type": "code",
   "execution_count": null,
   "id": "9921f4e3-b520-497a-9f3b-f1301befd530",
   "metadata": {},
   "outputs": [],
   "source": []
  },
  {
   "cell_type": "code",
   "execution_count": 26,
   "id": "7c9023bc-9bf8-4cdf-89ed-f83dc7f67313",
   "metadata": {
    "tags": []
   },
   "outputs": [],
   "source": [
    "mil_df = results['mil']\n",
    "avg_df = results['avg']\n",
    "vote_df = results['vote']\n",
    "# mil_df[mil_df.experiment =='gf-6L-30M-i2048_test']"
   ]
  },
  {
   "cell_type": "code",
   "execution_count": 12,
   "id": "6bdbadce-de8f-4adb-978c-8ca4daea2a73",
   "metadata": {
    "tags": []
   },
   "outputs": [
    {
     "data": {
      "text/plain": [
       "array(['hvg', 'pca', 'scimilarity', 'scgpt', 'scgpt_cancer',\n",
       "       'Geneformer-V2-104M_CLcancer', 'gf-6L-30M-i2048_test',\n",
       "       'Geneformer-V2-104M', 'cellplm', 'scfoundation',\n",
       "       'Geneformer-V2-316M', 'scvi', 'gf-6L-30M-i2048',\n",
       "       'scfoundation_full'], dtype=object)"
      ]
     },
     "execution_count": 12,
     "metadata": {},
     "output_type": "execute_result"
    }
   ],
   "source": [
    "mil_df.experiment.unique()"
   ]
  },
  {
   "cell_type": "code",
   "execution_count": 27,
   "id": "f694da7c-4252-477e-bddb-4714ce0b67ef",
   "metadata": {
    "tags": []
   },
   "outputs": [],
   "source": [
    "mil_df_auprc= mil_df[mil_df.Metrics=='AUPRC']\n",
    "avg_df_auprc= avg_df[avg_df.Metrics=='AUPRC']\n",
    "vote_df_auprc= vote_df[vote_df.Metrics=='AUPRC']\n"
   ]
  },
  {
   "cell_type": "code",
   "execution_count": 28,
   "id": "05043944-14f1-4983-8bdb-1ae5d5cc25a4",
   "metadata": {
    "tags": []
   },
   "outputs": [
    {
     "data": {
      "text/html": [
       "<div>\n",
       "<style scoped>\n",
       "    .dataframe tbody tr th:only-of-type {\n",
       "        vertical-align: middle;\n",
       "    }\n",
       "\n",
       "    .dataframe tbody tr th {\n",
       "        vertical-align: top;\n",
       "    }\n",
       "\n",
       "    .dataframe thead th {\n",
       "        text-align: right;\n",
       "    }\n",
       "</style>\n",
       "<table border=\"1\" class=\"dataframe\">\n",
       "  <thead>\n",
       "    <tr style=\"text-align: right;\">\n",
       "      <th></th>\n",
       "      <th>Metrics</th>\n",
       "      <th>model</th>\n",
       "      <th>fold</th>\n",
       "      <th>experiment</th>\n",
       "    </tr>\n",
       "  </thead>\n",
       "  <tbody>\n",
       "    <tr>\n",
       "      <th>1</th>\n",
       "      <td>AUPRC</td>\n",
       "      <td>0.250000</td>\n",
       "      <td>fold_1</td>\n",
       "      <td>hvg</td>\n",
       "    </tr>\n",
       "    <tr>\n",
       "      <th>7</th>\n",
       "      <td>AUPRC</td>\n",
       "      <td>0.833333</td>\n",
       "      <td>fold_2</td>\n",
       "      <td>hvg</td>\n",
       "    </tr>\n",
       "    <tr>\n",
       "      <th>13</th>\n",
       "      <td>AUPRC</td>\n",
       "      <td>0.250000</td>\n",
       "      <td>fold_3</td>\n",
       "      <td>hvg</td>\n",
       "    </tr>\n",
       "    <tr>\n",
       "      <th>19</th>\n",
       "      <td>AUPRC</td>\n",
       "      <td>0.416667</td>\n",
       "      <td>fold_4</td>\n",
       "      <td>hvg</td>\n",
       "    </tr>\n",
       "    <tr>\n",
       "      <th>25</th>\n",
       "      <td>AUPRC</td>\n",
       "      <td>0.333333</td>\n",
       "      <td>fold_5</td>\n",
       "      <td>hvg</td>\n",
       "    </tr>\n",
       "    <tr>\n",
       "      <th>...</th>\n",
       "      <td>...</td>\n",
       "      <td>...</td>\n",
       "      <td>...</td>\n",
       "      <td>...</td>\n",
       "    </tr>\n",
       "    <tr>\n",
       "      <th>391</th>\n",
       "      <td>AUPRC</td>\n",
       "      <td>1.000000</td>\n",
       "      <td>fold_1</td>\n",
       "      <td>scfoundation_full</td>\n",
       "    </tr>\n",
       "    <tr>\n",
       "      <th>397</th>\n",
       "      <td>AUPRC</td>\n",
       "      <td>0.333333</td>\n",
       "      <td>fold_2</td>\n",
       "      <td>scfoundation_full</td>\n",
       "    </tr>\n",
       "    <tr>\n",
       "      <th>403</th>\n",
       "      <td>AUPRC</td>\n",
       "      <td>0.250000</td>\n",
       "      <td>fold_3</td>\n",
       "      <td>scfoundation_full</td>\n",
       "    </tr>\n",
       "    <tr>\n",
       "      <th>409</th>\n",
       "      <td>AUPRC</td>\n",
       "      <td>0.750000</td>\n",
       "      <td>fold_4</td>\n",
       "      <td>scfoundation_full</td>\n",
       "    </tr>\n",
       "    <tr>\n",
       "      <th>415</th>\n",
       "      <td>AUPRC</td>\n",
       "      <td>0.142857</td>\n",
       "      <td>fold_5</td>\n",
       "      <td>scfoundation_full</td>\n",
       "    </tr>\n",
       "  </tbody>\n",
       "</table>\n",
       "<p>70 rows × 4 columns</p>\n",
       "</div>"
      ],
      "text/plain": [
       "    Metrics     model    fold         experiment\n",
       "1     AUPRC  0.250000  fold_1                hvg\n",
       "7     AUPRC  0.833333  fold_2                hvg\n",
       "13    AUPRC  0.250000  fold_3                hvg\n",
       "19    AUPRC  0.416667  fold_4                hvg\n",
       "25    AUPRC  0.333333  fold_5                hvg\n",
       "..      ...       ...     ...                ...\n",
       "391   AUPRC  1.000000  fold_1  scfoundation_full\n",
       "397   AUPRC  0.333333  fold_2  scfoundation_full\n",
       "403   AUPRC  0.250000  fold_3  scfoundation_full\n",
       "409   AUPRC  0.750000  fold_4  scfoundation_full\n",
       "415   AUPRC  0.142857  fold_5  scfoundation_full\n",
       "\n",
       "[70 rows x 4 columns]"
      ]
     },
     "execution_count": 28,
     "metadata": {},
     "output_type": "execute_result"
    }
   ],
   "source": [
    "mil_df_auprc"
   ]
  },
  {
   "cell_type": "code",
   "execution_count": 29,
   "id": "451e1cc9-b984-4493-9189-0538b614c9e3",
   "metadata": {
    "tags": []
   },
   "outputs": [
    {
     "data": {
      "text/html": [
       "<div>\n",
       "<style scoped>\n",
       "    .dataframe tbody tr th:only-of-type {\n",
       "        vertical-align: middle;\n",
       "    }\n",
       "\n",
       "    .dataframe tbody tr th {\n",
       "        vertical-align: top;\n",
       "    }\n",
       "\n",
       "    .dataframe thead th {\n",
       "        text-align: right;\n",
       "    }\n",
       "</style>\n",
       "<table border=\"1\" class=\"dataframe\">\n",
       "  <thead>\n",
       "    <tr style=\"text-align: right;\">\n",
       "      <th></th>\n",
       "      <th>model</th>\n",
       "    </tr>\n",
       "    <tr>\n",
       "      <th>experiment</th>\n",
       "      <th></th>\n",
       "    </tr>\n",
       "  </thead>\n",
       "  <tbody>\n",
       "    <tr>\n",
       "      <th>Geneformer-V2-104M</th>\n",
       "      <td>0.581667</td>\n",
       "    </tr>\n",
       "    <tr>\n",
       "      <th>Geneformer-V2-104M_CLcancer</th>\n",
       "      <td>0.623333</td>\n",
       "    </tr>\n",
       "    <tr>\n",
       "      <th>Geneformer-V2-316M</th>\n",
       "      <td>0.673333</td>\n",
       "    </tr>\n",
       "    <tr>\n",
       "      <th>cellplm</th>\n",
       "      <td>0.633333</td>\n",
       "    </tr>\n",
       "    <tr>\n",
       "      <th>gf-6L-30M-i2048</th>\n",
       "      <td>0.540476</td>\n",
       "    </tr>\n",
       "    <tr>\n",
       "      <th>gf-6L-30M-i2048_test</th>\n",
       "      <td>0.506667</td>\n",
       "    </tr>\n",
       "    <tr>\n",
       "      <th>hvg</th>\n",
       "      <td>0.416667</td>\n",
       "    </tr>\n",
       "    <tr>\n",
       "      <th>pca</th>\n",
       "      <td>0.623333</td>\n",
       "    </tr>\n",
       "    <tr>\n",
       "      <th>scfoundation</th>\n",
       "      <td>0.511905</td>\n",
       "    </tr>\n",
       "    <tr>\n",
       "      <th>scfoundation_full</th>\n",
       "      <td>0.495238</td>\n",
       "    </tr>\n",
       "    <tr>\n",
       "      <th>scgpt</th>\n",
       "      <td>0.933333</td>\n",
       "    </tr>\n",
       "    <tr>\n",
       "      <th>scgpt_cancer</th>\n",
       "      <td>0.775000</td>\n",
       "    </tr>\n",
       "    <tr>\n",
       "      <th>scimilarity</th>\n",
       "      <td>0.690476</td>\n",
       "    </tr>\n",
       "    <tr>\n",
       "      <th>scvi</th>\n",
       "      <td>0.578571</td>\n",
       "    </tr>\n",
       "  </tbody>\n",
       "</table>\n",
       "</div>"
      ],
      "text/plain": [
       "                                model\n",
       "experiment                           \n",
       "Geneformer-V2-104M           0.581667\n",
       "Geneformer-V2-104M_CLcancer  0.623333\n",
       "Geneformer-V2-316M           0.673333\n",
       "cellplm                      0.633333\n",
       "gf-6L-30M-i2048              0.540476\n",
       "gf-6L-30M-i2048_test         0.506667\n",
       "hvg                          0.416667\n",
       "pca                          0.623333\n",
       "scfoundation                 0.511905\n",
       "scfoundation_full            0.495238\n",
       "scgpt                        0.933333\n",
       "scgpt_cancer                 0.775000\n",
       "scimilarity                  0.690476\n",
       "scvi                         0.578571"
      ]
     },
     "execution_count": 29,
     "metadata": {},
     "output_type": "execute_result"
    }
   ],
   "source": [
    "mil_df_auprc.groupby('experiment').mean(numeric_only=True)"
   ]
  },
  {
   "cell_type": "code",
   "execution_count": 30,
   "id": "41071024-bc9c-416f-bea7-1cbfca070f3d",
   "metadata": {
    "tags": []
   },
   "outputs": [
    {
     "data": {
      "text/html": [
       "<div>\n",
       "<style scoped>\n",
       "    .dataframe tbody tr th:only-of-type {\n",
       "        vertical-align: middle;\n",
       "    }\n",
       "\n",
       "    .dataframe tbody tr th {\n",
       "        vertical-align: top;\n",
       "    }\n",
       "\n",
       "    .dataframe thead th {\n",
       "        text-align: right;\n",
       "    }\n",
       "</style>\n",
       "<table border=\"1\" class=\"dataframe\">\n",
       "  <thead>\n",
       "    <tr style=\"text-align: right;\">\n",
       "      <th></th>\n",
       "      <th>model</th>\n",
       "    </tr>\n",
       "    <tr>\n",
       "      <th>experiment</th>\n",
       "      <th></th>\n",
       "    </tr>\n",
       "  </thead>\n",
       "  <tbody>\n",
       "    <tr>\n",
       "      <th>Geneformer-V2-104M</th>\n",
       "      <td>0.723333</td>\n",
       "    </tr>\n",
       "    <tr>\n",
       "      <th>Geneformer-V2-104M_CLcancer</th>\n",
       "      <td>0.716667</td>\n",
       "    </tr>\n",
       "    <tr>\n",
       "      <th>Geneformer-V2-316M</th>\n",
       "      <td>0.850000</td>\n",
       "    </tr>\n",
       "    <tr>\n",
       "      <th>cellplm</th>\n",
       "      <td>0.440000</td>\n",
       "    </tr>\n",
       "    <tr>\n",
       "      <th>gf-6L-30M-i2048</th>\n",
       "      <td>0.723333</td>\n",
       "    </tr>\n",
       "    <tr>\n",
       "      <th>gf-6L-30M-i2048_test</th>\n",
       "      <td>0.723333</td>\n",
       "    </tr>\n",
       "    <tr>\n",
       "      <th>hvg</th>\n",
       "      <td>0.640000</td>\n",
       "    </tr>\n",
       "    <tr>\n",
       "      <th>pca</th>\n",
       "      <td>0.506667</td>\n",
       "    </tr>\n",
       "    <tr>\n",
       "      <th>scfoundation</th>\n",
       "      <td>0.546667</td>\n",
       "    </tr>\n",
       "    <tr>\n",
       "      <th>scfoundation_full</th>\n",
       "      <td>0.546667</td>\n",
       "    </tr>\n",
       "    <tr>\n",
       "      <th>scgpt</th>\n",
       "      <td>0.515000</td>\n",
       "    </tr>\n",
       "    <tr>\n",
       "      <th>scgpt_cancer</th>\n",
       "      <td>0.773333</td>\n",
       "    </tr>\n",
       "    <tr>\n",
       "      <th>scimilarity</th>\n",
       "      <td>0.786667</td>\n",
       "    </tr>\n",
       "    <tr>\n",
       "      <th>scvi</th>\n",
       "      <td>0.486905</td>\n",
       "    </tr>\n",
       "  </tbody>\n",
       "</table>\n",
       "</div>"
      ],
      "text/plain": [
       "                                model\n",
       "experiment                           \n",
       "Geneformer-V2-104M           0.723333\n",
       "Geneformer-V2-104M_CLcancer  0.716667\n",
       "Geneformer-V2-316M           0.850000\n",
       "cellplm                      0.440000\n",
       "gf-6L-30M-i2048              0.723333\n",
       "gf-6L-30M-i2048_test         0.723333\n",
       "hvg                          0.640000\n",
       "pca                          0.506667\n",
       "scfoundation                 0.546667\n",
       "scfoundation_full            0.546667\n",
       "scgpt                        0.515000\n",
       "scgpt_cancer                 0.773333\n",
       "scimilarity                  0.786667\n",
       "scvi                         0.486905"
      ]
     },
     "execution_count": 30,
     "metadata": {},
     "output_type": "execute_result"
    }
   ],
   "source": [
    "avg_df_auprc.groupby('experiment').mean(numeric_only=True)"
   ]
  },
  {
   "cell_type": "code",
   "execution_count": 31,
   "id": "bf9e8d71-534e-4e37-b911-fe88267a0e73",
   "metadata": {
    "tags": []
   },
   "outputs": [
    {
     "data": {
      "text/html": [
       "<div>\n",
       "<style scoped>\n",
       "    .dataframe tbody tr th:only-of-type {\n",
       "        vertical-align: middle;\n",
       "    }\n",
       "\n",
       "    .dataframe tbody tr th {\n",
       "        vertical-align: top;\n",
       "    }\n",
       "\n",
       "    .dataframe thead th {\n",
       "        text-align: right;\n",
       "    }\n",
       "</style>\n",
       "<table border=\"1\" class=\"dataframe\">\n",
       "  <thead>\n",
       "    <tr style=\"text-align: right;\">\n",
       "      <th></th>\n",
       "      <th>model</th>\n",
       "    </tr>\n",
       "    <tr>\n",
       "      <th>experiment</th>\n",
       "      <th></th>\n",
       "    </tr>\n",
       "  </thead>\n",
       "  <tbody>\n",
       "    <tr>\n",
       "      <th>Geneformer-V2-104M</th>\n",
       "      <td>0.458571</td>\n",
       "    </tr>\n",
       "    <tr>\n",
       "      <th>Geneformer-V2-104M_CLcancer</th>\n",
       "      <td>0.420000</td>\n",
       "    </tr>\n",
       "    <tr>\n",
       "      <th>Geneformer-V2-316M</th>\n",
       "      <td>0.523333</td>\n",
       "    </tr>\n",
       "    <tr>\n",
       "      <th>cellplm</th>\n",
       "      <td>0.525000</td>\n",
       "    </tr>\n",
       "    <tr>\n",
       "      <th>gf-6L-30M-i2048</th>\n",
       "      <td>0.513333</td>\n",
       "    </tr>\n",
       "    <tr>\n",
       "      <th>gf-6L-30M-i2048_test</th>\n",
       "      <td>0.496667</td>\n",
       "    </tr>\n",
       "    <tr>\n",
       "      <th>hvg</th>\n",
       "      <td>0.491667</td>\n",
       "    </tr>\n",
       "    <tr>\n",
       "      <th>pca</th>\n",
       "      <td>0.511905</td>\n",
       "    </tr>\n",
       "    <tr>\n",
       "      <th>scfoundation</th>\n",
       "      <td>0.397143</td>\n",
       "    </tr>\n",
       "    <tr>\n",
       "      <th>scgpt</th>\n",
       "      <td>0.516667</td>\n",
       "    </tr>\n",
       "    <tr>\n",
       "      <th>scgpt_cancer</th>\n",
       "      <td>0.490000</td>\n",
       "    </tr>\n",
       "    <tr>\n",
       "      <th>scimilarity</th>\n",
       "      <td>0.556667</td>\n",
       "    </tr>\n",
       "    <tr>\n",
       "      <th>scvi</th>\n",
       "      <td>0.483333</td>\n",
       "    </tr>\n",
       "  </tbody>\n",
       "</table>\n",
       "</div>"
      ],
      "text/plain": [
       "                                model\n",
       "experiment                           \n",
       "Geneformer-V2-104M           0.458571\n",
       "Geneformer-V2-104M_CLcancer  0.420000\n",
       "Geneformer-V2-316M           0.523333\n",
       "cellplm                      0.525000\n",
       "gf-6L-30M-i2048              0.513333\n",
       "gf-6L-30M-i2048_test         0.496667\n",
       "hvg                          0.491667\n",
       "pca                          0.511905\n",
       "scfoundation                 0.397143\n",
       "scgpt                        0.516667\n",
       "scgpt_cancer                 0.490000\n",
       "scimilarity                  0.556667\n",
       "scvi                         0.483333"
      ]
     },
     "execution_count": 31,
     "metadata": {},
     "output_type": "execute_result"
    }
   ],
   "source": [
    "vote_df_auprc.groupby('experiment').mean(numeric_only=True)"
   ]
  },
  {
   "cell_type": "code",
   "execution_count": 15,
   "id": "04e37f73-0b6c-403f-979b-c583f56439ee",
   "metadata": {
    "tags": []
   },
   "outputs": [],
   "source": [
    "from auprc_plots import (\n",
    "    summarize_by_experiment,      # -> tidy DF (experiment, method, mean, std, n)\n",
    "    plot_grouped_by_experiment,   # -> one chart: grouped bars per experiment (vote/avg/mil)\n",
    "    plot_single_method            # -> one chart for a single method\n",
    ") "
   ]
  },
  {
   "cell_type": "code",
   "execution_count": null,
   "id": "c9a1d118-8803-4a64-8e50-06403da9cc24",
   "metadata": {},
   "outputs": [],
   "source": []
  }
 ],
 "metadata": {
  "environment": {
   "kernel": "scfoundation",
   "name": "pytorch-gpu.2-2.m128",
   "type": "gcloud",
   "uri": "us-docker.pkg.dev/deeplearning-platform-release/gcr.io/pytorch-gpu.2-2:m128"
  },
  "kernelspec": {
   "display_name": "Python (scfoundation )",
   "language": "python",
   "name": "scfoundation"
  },
  "language_info": {
   "codemirror_mode": {
    "name": "ipython",
    "version": 3
   },
   "file_extension": ".py",
   "mimetype": "text/x-python",
   "name": "python",
   "nbconvert_exporter": "python",
   "pygments_lexer": "ipython3",
   "version": "3.10.18"
  }
 },
 "nbformat": 4,
 "nbformat_minor": 5
}
