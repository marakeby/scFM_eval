{
 "cells": [
  {
   "cell_type": "code",
   "execution_count": 1,
   "id": "05df8699-3151-4bfc-a7e0-3073e18541e8",
   "metadata": {
    "tags": []
   },
   "outputs": [],
   "source": [
    "import json\n",
    "import os"
   ]
  },
  {
   "cell_type": "code",
   "execution_count": 54,
   "id": "c3d20276-71d6-4f9c-b4f7-18aecc1273a9",
   "metadata": {
    "tags": []
   },
   "outputs": [],
   "source": [
    "%run analysis_utils.py"
   ]
  },
  {
   "cell_type": "code",
   "execution_count": 2,
   "id": "e9b9ae6f-d05e-45da-bdf0-631419d3eac7",
   "metadata": {
    "tags": []
   },
   "outputs": [],
   "source": [
    "fname = os.path.expanduser('~/scFM_eval_/data_splits/brca_full/brca_chemo/cv_splits.json')"
   ]
  },
  {
   "cell_type": "code",
   "execution_count": 35,
   "id": "2fb16341-ce29-48b7-ae1e-2a849c6df9eb",
   "metadata": {
    "tags": []
   },
   "outputs": [],
   "source": [
    "def find_cv_splits(folder_path):\n",
    "\n",
    "    result = []\n",
    "    for root, dirs, files in os.walk(folder_path):\n",
    "        if \"cv_splits.json\" in files:\n",
    "        \n",
    "            file_path = os.path.join(root, \"cv_splits.json\")\n",
    "            dir_name = os.path.basename(root)\n",
    "            if dir_name.startswith('__'):\n",
    "                continue\n",
    "            result.append((file_path, dir_name))\n",
    "    return result"
   ]
  },
  {
   "cell_type": "code",
   "execution_count": 36,
   "id": "17a4dc45-518e-4d9c-a4e1-351ccc44f159",
   "metadata": {
    "tags": []
   },
   "outputs": [],
   "source": [
    "dir_path = os.path.expanduser('~/scFM_eval_/data_splits')\n",
    "exps = find_cv_splits(dir_path)"
   ]
  },
  {
   "cell_type": "code",
   "execution_count": 37,
   "id": "c318df1b-2c95-4a04-994c-544a77763471",
   "metadata": {
    "tags": []
   },
   "outputs": [
    {
     "data": {
      "text/plain": [
       "[('/home/jupyter/scFM_eval_/data_splits/luad/luad2/cv_splits.json', 'luad2'),\n",
       " ('/home/jupyter/scFM_eval_/data_splits/luad/luad1/cv_splits.json', 'luad1'),\n",
       " ('/home/jupyter/scFM_eval_/data_splits/brca_full/brca_outcome/cv_splits.json',\n",
       "  'brca_outcome'),\n",
       " ('/home/jupyter/scFM_eval_/data_splits/brca_full/brca_subtype/cv_splits.json',\n",
       "  'brca_subtype'),\n",
       " ('/home/jupyter/scFM_eval_/data_splits/brca_full/brca_cell_type/cv_splits.json',\n",
       "  'brca_cell_type'),\n",
       " ('/home/jupyter/scFM_eval_/data_splits/brca_full/brca_chemo/cv_splits.json',\n",
       "  'brca_chemo'),\n",
       " ('/home/jupyter/scFM_eval_/data_splits/brca_full/brca_pre_post/cv_splits.json',\n",
       "  'brca_pre_post')]"
      ]
     },
     "execution_count": 37,
     "metadata": {},
     "output_type": "execute_result"
    }
   ],
   "source": [
    "exps"
   ]
  },
  {
   "cell_type": "code",
   "execution_count": 40,
   "id": "4ce28667-394b-4d94-966b-1b6f889f021d",
   "metadata": {
    "tags": []
   },
   "outputs": [
    {
     "name": "stdout",
     "output_type": "stream",
     "text": [
      "luad2\n",
      "luad1\n",
      "brca_outcome\n",
      "brca_subtype\n",
      "brca_cell_type\n",
      "brca_chemo\n",
      "brca_pre_post\n"
     ]
    }
   ],
   "source": [
    "split_dfs= {}\n",
    "for fname, parent_dir in exps:\n",
    "    print (parent_dir)\n",
    "    with open(fname, \"r\") as f:\n",
    "        raw = json.load(f)\n",
    "    df = pd.DataFrame(raw)\n",
    "    df = df.drop('label_column', axis=1)\n",
    "    split_dfs[parent_dir] = df\n",
    "    "
   ]
  },
  {
   "cell_type": "code",
   "execution_count": 44,
   "id": "05a74578-956c-48da-85c6-0b6703104469",
   "metadata": {
    "tags": []
   },
   "outputs": [
    {
     "name": "stdout",
     "output_type": "stream",
     "text": [
      "luad2\n",
      "luad1\n",
      "brca_outcome\n",
      "brca_subtype\n",
      "brca_cell_type\n",
      "brca_chemo\n",
      "brca_pre_post\n"
     ]
    }
   ],
   "source": [
    "for exp in split_dfs:\n",
    "    print(exp)"
   ]
  },
  {
   "cell_type": "code",
   "execution_count": 51,
   "id": "97a15516-53d6-4a79-9c88-aacd88487160",
   "metadata": {
    "tags": []
   },
   "outputs": [
    {
     "data": {
      "text/plain": [
       "{'pre_post': 'Treatment Naive vs Anti PD1',\n",
       " 'brca_full_pre_post': 'Treatment Naive vs Anti PD1',\n",
       " 'chemo': 'Treatment Naive vs Neoadjuvant Chemo',\n",
       " 'brca_full_chemo': 'Treatment Naive vs Neoadjuvant Chemo',\n",
       " 'luad2': 'Treatment Naive vs TKI treated',\n",
       " 'luad1': 'Early stage vs Late stage',\n",
       " 'outcome': 'T-cell exhaustion',\n",
       " 'brca_full_outcome': 'T-cell exhaustion',\n",
       " 'subtype': 'ER+ vs TNBC',\n",
       " 'brca_full_subtype': 'ER+ vs TNBC'}"
      ]
     },
     "execution_count": 51,
     "metadata": {},
     "output_type": "execute_result"
    }
   ],
   "source": [
    "experiment_name_map"
   ]
  },
  {
   "cell_type": "code",
   "execution_count": 56,
   "id": "44203776-232f-44f5-9b31-80244da12dd4",
   "metadata": {
    "tags": []
   },
   "outputs": [
    {
     "name": "stderr",
     "output_type": "stream",
     "text": [
      "/opt/miniforge3/envs/scfoundation/lib/python3.10/site-packages/openpyxl/workbook/child.py:99: UserWarning: Title is more than 31 characters. Some applications may not be able to read the file\n",
      "  warnings.warn(\"Title is more than 31 characters. Some applications may not be able to read the file\")\n"
     ]
    }
   ],
   "source": [
    "# Create an ExcelWriter object\n",
    "excel_file = './tables/tabel_9_data_splits.xlsx'\n",
    "with pd.ExcelWriter(excel_file) as writer:\n",
    "    # Write each DataFrame to a different sheet\n",
    "    for exp in split_dfs:\n",
    "        \n",
    "        df = split_dfs[exp]\n",
    "        exp_name= experiment_name_map[exp]\n",
    "        df.to_excel(writer, sheet_name=exp_name, index=True)  \n",
    "    # df.to_excel(writer, sheet_name='Sheet2', index=True)\n",
    "    # df.to_excel(writer, sheet_name='AnotherSheet', index=True)"
   ]
  },
  {
   "cell_type": "code",
   "execution_count": null,
   "id": "e3004bfb-b7fe-4ee0-9710-d6fc501b21f7",
   "metadata": {},
   "outputs": [],
   "source": []
  }
 ],
 "metadata": {
  "environment": {
   "kernel": "scfoundation",
   "name": "pytorch-gpu.2-2.m128",
   "type": "gcloud",
   "uri": "us-docker.pkg.dev/deeplearning-platform-release/gcr.io/pytorch-gpu.2-2:m128"
  },
  "kernelspec": {
   "display_name": "Python (scfoundation )",
   "language": "python",
   "name": "scfoundation"
  },
  "language_info": {
   "codemirror_mode": {
    "name": "ipython",
    "version": 3
   },
   "file_extension": ".py",
   "mimetype": "text/x-python",
   "name": "python",
   "nbconvert_exporter": "python",
   "pygments_lexer": "ipython3",
   "version": "3.10.18"
  }
 },
 "nbformat": 4,
 "nbformat_minor": 5
}
