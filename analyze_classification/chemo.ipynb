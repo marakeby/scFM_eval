{
 "cells": [
  {
   "cell_type": "code",
   "execution_count": 1,
   "id": "f024d1ca-9e57-457c-96c3-933e4f83f850",
   "metadata": {},
   "outputs": [],
   "source": [
    "import anndata as ad\n",
    "from os.path import join\n",
    "import pandas as pd\n",
    "import json\n",
    "import os"
   ]
  },
  {
   "cell_type": "code",
   "execution_count": 2,
   "id": "78f4fcfb-559b-4e65-bc90-a68e2441835c",
   "metadata": {
    "tags": []
   },
   "outputs": [],
   "source": [
    "import random\n",
    "import numpy as np\n",
    "import torch"
   ]
  },
  {
   "cell_type": "code",
   "execution_count": 3,
   "id": "3be6b0d9-6374-45c5-a20a-34d28f7577aa",
   "metadata": {
    "tags": []
   },
   "outputs": [],
   "source": [
    "def set_random_seed(seed: int, deterministic: bool = True) -> None:\n",
    "    \"\"\"\n",
    "    Set random seed for reproducibility across random, numpy, and torch.\n",
    "\n",
    "    Args:\n",
    "        seed (int): The seed value to set.\n",
    "        deterministic (bool): If True, sets PyTorch to deterministic mode.\n",
    "    \"\"\"\n",
    "    random.seed(seed)\n",
    "    np.random.seed(seed)\n",
    "    torch.manual_seed(seed)\n",
    "    torch.cuda.manual_seed(seed)\n",
    "    torch.cuda.manual_seed_all(seed)  # for multi-GPU setups\n",
    "\n",
    "    if deterministic:\n",
    "        torch.backends.cudnn.deterministic = True\n",
    "        torch.backends.cudnn.benchmark = False\n",
    "\n",
    "    print(f\"Random seed set to: {seed}\")"
   ]
  },
  {
   "cell_type": "code",
   "execution_count": 4,
   "id": "9eab0ff8-d4e8-49ee-9765-fa72a75beb91",
   "metadata": {
    "tags": []
   },
   "outputs": [
    {
     "name": "stdout",
     "output_type": "stream",
     "text": [
      "Random seed set to: 42\n"
     ]
    }
   ],
   "source": [
    "set_random_seed(42)"
   ]
  },
  {
   "cell_type": "code",
   "execution_count": 5,
   "id": "a6b8033e-5239-4ec8-b935-d80c6a1fffc6",
   "metadata": {
    "tags": []
   },
   "outputs": [
    {
     "name": "stderr",
     "output_type": "stream",
     "text": [
      "/opt/miniforge3/envs/scfoundation/lib/python3.10/site-packages/louvain/__init__.py:54: UserWarning: pkg_resources is deprecated as an API. See https://setuptools.pypa.io/en/latest/pkg_resources.html. The pkg_resources package is slated for removal as early as 2025-11-30. Refrain from using this package or pin to Setuptools<81.\n",
      "  from pkg_resources import get_distribution, DistributionNotFound\n"
     ]
    }
   ],
   "source": [
    "%run train_utils.py"
   ]
  },
  {
   "cell_type": "markdown",
   "id": "a93a0fcb-a2a0-4f44-b132-a1fd23f08b4c",
   "metadata": {
    "tags": []
   },
   "source": [
    "## Chemo (cancer cells only)"
   ]
  },
  {
   "cell_type": "code",
   "execution_count": 6,
   "id": "3162ec22-87e0-4f49-81e9-115c9df1a6e1",
   "metadata": {
    "tags": []
   },
   "outputs": [],
   "source": [
    "def load_data(base_dir,model_name ):\n",
    "    fname = join(base_dir, model_name)\n",
    "    fname = join(fname, 'data.h5ad')\n",
    "    adata = ad.read_h5ad(fname)\n",
    "    adata_pre = adata[adata.obs['timepoint']== 'Pre']\n",
    "    return adata_pre.copy()\n",
    "\n",
    "def prepare_data(adata, id_column):\n",
    "    \n",
    "    adata.obs['sample_id'] = adata.obs[id_column]\n",
    "    adata.obs['label'] = adata.obs['cohort'].astype(str)\n",
    "    \n",
    "    label_map = {'treatment_naive': 0, 'neoadjuvant_chemo': 1}\n",
    "    adata.obs.label = adata.obs.label.map(label_map)\n",
    "    \n",
    "    return adata\n",
    "\n",
    "def run_cv(adata, train_func, cv_split_dict, embedding_col='X_geneformer'):\n",
    "    \n",
    "    id_column, n_splits, train_ids_list, test_ids_list = get_splits_cv(cv_split_dict)\n",
    "    \n",
    "    metrics_test= []\n",
    "    metrics_train= []\n",
    "    predictions_test = {}\n",
    "    predictions_train = {}\n",
    "    for i in range(n_splits):\n",
    "            fold = i+1\n",
    "            print(f'---------- fold {i+1}----------')\n",
    "            train_ids, test_ids = train_ids_list[i], test_ids_list[i]\n",
    "            print('Split data')\n",
    "            adata_train, adata_test = split_data(adata,  id_column, train_ids, test_ids)\n",
    "            X_train, y_train = adata_train.obsm[embedding_col], adata_train.obs['label'].values\n",
    "            X_test, y_test = adata_test.obsm[embedding_col], adata_test.obs['label'].values\n",
    "\n",
    "            print('Train classifier')\n",
    "            \n",
    "            pred_df_test, pred_df_train =  train_func(adata_train, adata_test, embedding_col, model_name='random_forest' )\n",
    "\n",
    "            print('Evaluations')\n",
    "\n",
    "            fold_metrics_test = get_classification_metrics(pred_df_test)\n",
    "            fold_metrics_train = get_classification_metrics(pred_df_train)\n",
    "            \n",
    "            metrics_test.append(fold_metrics_test)\n",
    "            metrics_train.append(fold_metrics_train)\n",
    "\n",
    "            predictions_train[f'fold_{fold}'] = pred_df_train\n",
    "            predictions_test[f'fold_{fold}'] = pred_df_test\n",
    "\n",
    "    pred_test_df  = pd.concat(predictions_test, names=['fold']).reset_index(level=0)\n",
    "    pred_train_df  = pd.concat(predictions_train, names=['fold']).reset_index(level=0)\n",
    "    metrics_test_df = pd.DataFrame(metrics_test)\n",
    "    metrics_train_df = pd.DataFrame(metrics_train)\n",
    "\n",
    "        \n",
    "    return  pred_train_df, pred_test_df, metrics_train_df, metrics_test_df\n",
    "\n",
    "def save_results( pred_train_df, pred_test_df, metrics_train_df, metrics_test_df, save_dir, model_name, prefix):\n",
    "    model_saving_dir = join(save_dir, model_name)\n",
    "    os.makedirs(model_saving_dir, exist_ok=True)\n",
    "    print (save_dir)\n",
    "    print (model_name)\n",
    "    \n",
    "    pred_train_df.to_csv(join(model_saving_dir, f'{prefix}_pred_train.csv'))\n",
    "    pred_test_df.to_csv(join(model_saving_dir, f'{prefix}_pred_test.csv'))\n",
    "    \n",
    "    metrics_train_df.to_csv(join(model_saving_dir, f'{prefix}_metrics_train.csv'))\n",
    "    metrics_test_df.to_csv(join(model_saving_dir, f'{prefix}_metrics_test.csv'))\n",
    "    \n",
    "def get_embd_key(model_name):\n",
    "    \n",
    "\n",
    "    if 'pca' in model_name :\n",
    "        key = f'X_pca'    \n",
    "        \n",
    "    if 'hvg' in model_name :\n",
    "        key = f'X_hvg'    \n",
    "        \n",
    "    if 'scvi' in model_name :\n",
    "        key = f'X_scVI'\n",
    "    if 'scgpt' in model_name :\n",
    "        key = f'X_scGPT'\n",
    "    if 'Geneformer' in model_name :\n",
    "        key = f'X_geneformer'\n",
    "    if 'gf' in model_name :\n",
    "        key = f'X_geneformer'\n",
    "    if 'scfoundation' in model_name :\n",
    "        key = f'X_scfoundation'\n",
    "    if 'scimilarity' in model_name:\n",
    "        key = f'X_scimilarity'\n",
    "    if 'cellplm' in model_name:\n",
    "        key = f'X_cellplm'\n",
    "    return key"
   ]
  },
  {
   "cell_type": "code",
   "execution_count": null,
   "id": "e49398cc-3e63-4f62-9357-fa1d00a2ada3",
   "metadata": {},
   "outputs": [],
   "source": []
  },
  {
   "cell_type": "code",
   "execution_count": 7,
   "id": "1e94cd54-b146-40a4-bda7-5d2260861dc2",
   "metadata": {
    "tags": []
   },
   "outputs": [],
   "source": [
    "saving_dir ='./outcomes/chemo'\n",
    "os.makedirs(saving_dir, exist_ok=True)"
   ]
  },
  {
   "cell_type": "code",
   "execution_count": null,
   "id": "55cf3cac-3a94-4ed8-b5e3-b01ce3f4e04b",
   "metadata": {
    "tags": []
   },
   "outputs": [],
   "source": []
  },
  {
   "cell_type": "code",
   "execution_count": 8,
   "id": "bbd596ee-a0fa-49cb-8578-7938e1db9433",
   "metadata": {
    "tags": []
   },
   "outputs": [],
   "source": [
    "base_dir ='/home/jupyter/__output_clean/brca_full/cancer_cells'\n",
    "# base_dir ='/home/jupyter/__output/brca_full/chemo'"
   ]
  },
  {
   "cell_type": "code",
   "execution_count": null,
   "id": "a87b4b61-a8f7-442d-a2ba-c79370a54bed",
   "metadata": {
    "tags": []
   },
   "outputs": [],
   "source": []
  },
  {
   "cell_type": "code",
   "execution_count": 9,
   "id": "7625579e-4d3a-46d4-881a-be67f4893902",
   "metadata": {
    "tags": []
   },
   "outputs": [],
   "source": [
    "# gf_names = [ 'gf-6L-30M-i2048',  'Geneformer-V2-104M', 'Geneformer-V2-104M_CLcancer', 'Geneformer-V2-316M']\n",
    "others= ['scfoundation', 'scimilarity', 'cellplm']\n",
    "# model_names = [ 'hvg',  'pca', 'scvi',  'scgpt', 'scgpt_cancer'] + gf_names"
   ]
  },
  {
   "cell_type": "code",
   "execution_count": 10,
   "id": "e6203bf1-9d77-4ee6-94df-37fd39d9837e",
   "metadata": {},
   "outputs": [],
   "source": [
    "model_names = others + ['Geneformer-V2-104M']"
   ]
  },
  {
   "cell_type": "code",
   "execution_count": 11,
   "id": "8aa81015-9031-45a2-a76a-98f84a522788",
   "metadata": {
    "tags": []
   },
   "outputs": [],
   "source": [
    "# cv_splits_file = '/home/jupyter/scFM_eval/data_splits/brca_full/brca_chemo/cv_splits.json'\n",
    "cv_splits_file = '/home/jupyter/scFM_eval/data_splits/brca_full/brca_chemo/cv_splits_oversampled.json'\n",
    "cv_split_dict = json.load(open(cv_splits_file))"
   ]
  },
  {
   "cell_type": "code",
   "execution_count": 12,
   "id": "0504351e-76b2-4f38-a68a-b7c85e0aecc9",
   "metadata": {
    "tags": []
   },
   "outputs": [],
   "source": [
    "id_column, n_splits, train_ids_list, test_ids_list = get_splits_cv(cv_split_dict)"
   ]
  },
  {
   "cell_type": "code",
   "execution_count": 13,
   "id": "de64bdaf-6cf0-4c7b-aca2-4905466668ce",
   "metadata": {
    "tags": []
   },
   "outputs": [],
   "source": [
    "# adata.obs['label'].dtype"
   ]
  },
  {
   "cell_type": "code",
   "execution_count": 75,
   "id": "5d149603-2d2d-43be-8515-f17241446b57",
   "metadata": {
    "tags": []
   },
   "outputs": [],
   "source": [
    "# adata.obs['label'].unique()"
   ]
  },
  {
   "cell_type": "code",
   "execution_count": 14,
   "id": "cb84f590-a8c9-4ba9-96b2-d6f524d2444b",
   "metadata": {
    "collapsed": true,
    "jupyter": {
     "outputs_hidden": true
    },
    "tags": []
   },
   "outputs": [
    {
     "name": "stdout",
     "output_type": "stream",
     "text": [
      "scfoundation\n",
      "---------- fold 1----------\n",
      "Split data\n",
      "Train classifier\n",
      "Training model (Multi instance Learning (MIL))\n",
      "Epoch 1, Loss: 5.6431\n",
      "Epoch 2, Loss: 0.6730\n",
      "Epoch 3, Loss: 0.6854\n",
      "Epoch 4, Loss: 0.6809\n",
      "Epoch 5, Loss: 0.6766\n",
      "Epoch 6, Loss: 0.6724\n",
      "Epoch 7, Loss: 0.6684\n",
      "Epoch 8, Loss: 0.6645\n",
      "Epoch 9, Loss: 0.6607\n",
      "Epoch 10, Loss: 0.6571\n",
      "Epoch 11, Loss: 0.6535\n",
      "Epoch 12, Loss: 0.6501\n",
      "Epoch 13, Loss: 0.6467\n",
      "Epoch 14, Loss: 0.6434\n",
      "Epoch 15, Loss: 0.6403\n",
      "Epoch 16, Loss: 0.6372\n",
      "Epoch 17, Loss: 0.6342\n",
      "Epoch 18, Loss: 0.6314\n",
      "Epoch 19, Loss: 0.6285\n",
      "Epoch 20, Loss: 0.6258\n",
      "Epoch 21, Loss: 0.6232\n",
      "Epoch 22, Loss: 0.6206\n",
      "Epoch 23, Loss: 0.6181\n",
      "Epoch 24, Loss: 0.6157\n",
      "Epoch 25, Loss: 0.6134\n",
      "Epoch 26, Loss: 0.6111\n",
      "Epoch 27, Loss: 0.6089\n",
      "Epoch 28, Loss: 0.6067\n",
      "Epoch 29, Loss: 0.6047\n",
      "Epoch 30, Loss: 0.6026\n",
      "Epoch 31, Loss: 0.6007\n",
      "Epoch 32, Loss: 0.5988\n",
      "Epoch 33, Loss: 0.5969\n",
      "Epoch 34, Loss: 0.5951\n",
      "Epoch 35, Loss: 0.5934\n",
      "Epoch 36, Loss: 0.5917\n",
      "Epoch 37, Loss: 0.5901\n",
      "Epoch 38, Loss: 0.5885\n",
      "Epoch 39, Loss: 0.5869\n",
      "Epoch 40, Loss: 0.5854\n",
      "Evaluations\n",
      "---------- fold 2----------\n",
      "Split data\n",
      "Train classifier\n",
      "Training model (Multi instance Learning (MIL))\n",
      "Epoch 1, Loss: 5.1828\n",
      "Epoch 2, Loss: 0.7956\n",
      "Epoch 3, Loss: 0.5691\n",
      "Epoch 4, Loss: 0.5039\n",
      "Epoch 5, Loss: 0.4821\n",
      "Epoch 6, Loss: 0.4670\n",
      "Epoch 7, Loss: 0.4559\n",
      "Epoch 8, Loss: 0.4470\n",
      "Epoch 9, Loss: 0.4393\n",
      "Epoch 10, Loss: 0.4331\n",
      "Epoch 11, Loss: 0.4278\n",
      "Epoch 12, Loss: 0.4226\n",
      "Epoch 13, Loss: 0.4183\n",
      "Epoch 14, Loss: 0.4140\n",
      "Epoch 15, Loss: 0.4102\n",
      "Epoch 16, Loss: 0.4064\n",
      "Epoch 17, Loss: 0.4029\n",
      "Epoch 18, Loss: 0.4020\n",
      "Epoch 19, Loss: 0.3973\n",
      "Epoch 20, Loss: 0.4017\n",
      "Epoch 21, Loss: 0.3985\n",
      "Epoch 22, Loss: 0.4129\n",
      "Epoch 23, Loss: 0.3929\n",
      "Epoch 24, Loss: 0.3961\n",
      "Epoch 25, Loss: 0.3882\n",
      "Epoch 26, Loss: 0.3927\n",
      "Epoch 27, Loss: 0.3827\n",
      "Epoch 28, Loss: 0.3835\n",
      "Epoch 29, Loss: 0.3780\n",
      "Epoch 30, Loss: 0.3790\n",
      "Epoch 31, Loss: 0.3739\n",
      "Epoch 32, Loss: 0.3744\n",
      "Epoch 33, Loss: 0.3711\n",
      "Epoch 34, Loss: 0.3710\n",
      "Epoch 35, Loss: 0.3671\n",
      "Epoch 36, Loss: 0.3668\n",
      "Epoch 37, Loss: 0.3641\n",
      "Epoch 38, Loss: 0.3621\n",
      "Epoch 39, Loss: 0.3615\n",
      "Epoch 40, Loss: 0.3592\n",
      "Evaluations\n",
      "---------- fold 3----------\n",
      "Split data\n",
      "Train classifier\n",
      "Training model (Multi instance Learning (MIL))\n",
      "Epoch 1, Loss: 6.3697\n",
      "Epoch 2, Loss: 0.8978\n",
      "Epoch 3, Loss: 0.5332\n",
      "Epoch 4, Loss: 0.5284\n",
      "Epoch 5, Loss: 0.5167\n",
      "Epoch 6, Loss: 0.5043\n",
      "Epoch 7, Loss: 0.4928\n",
      "Epoch 8, Loss: 0.4818\n",
      "Epoch 9, Loss: 0.4711\n",
      "Epoch 10, Loss: 0.4605\n",
      "Epoch 11, Loss: 0.4528\n",
      "Epoch 12, Loss: 0.4482\n",
      "Epoch 13, Loss: 0.4398\n",
      "Epoch 14, Loss: 0.4363\n",
      "Epoch 15, Loss: 0.4288\n",
      "Epoch 16, Loss: 0.4275\n",
      "Epoch 17, Loss: 0.4184\n",
      "Epoch 18, Loss: 0.4203\n",
      "Epoch 19, Loss: 0.4073\n",
      "Epoch 20, Loss: 0.4137\n",
      "Epoch 21, Loss: 0.3970\n",
      "Epoch 22, Loss: 0.4058\n",
      "Epoch 23, Loss: 0.3873\n",
      "Epoch 24, Loss: 0.3922\n",
      "Epoch 25, Loss: 0.3780\n",
      "Epoch 26, Loss: 0.3758\n",
      "Epoch 27, Loss: 0.3638\n",
      "Epoch 28, Loss: 0.3558\n",
      "Epoch 29, Loss: 0.3458\n",
      "Epoch 30, Loss: 0.3361\n",
      "Epoch 31, Loss: 0.3269\n",
      "Epoch 32, Loss: 0.3156\n",
      "Epoch 33, Loss: 0.3040\n",
      "Epoch 34, Loss: 0.2954\n",
      "Epoch 35, Loss: 0.2864\n",
      "Epoch 36, Loss: 0.2765\n",
      "Epoch 37, Loss: 0.2668\n",
      "Epoch 38, Loss: 0.2615\n",
      "Epoch 39, Loss: 0.2505\n",
      "Epoch 40, Loss: 0.2423\n",
      "Evaluations\n",
      "---------- fold 4----------\n",
      "Split data\n",
      "Train classifier\n",
      "Training model (Multi instance Learning (MIL))\n",
      "Epoch 1, Loss: 5.4553\n",
      "Epoch 2, Loss: 0.7530\n",
      "Epoch 3, Loss: 0.6787\n",
      "Epoch 4, Loss: 0.6733\n",
      "Epoch 5, Loss: 0.6681\n",
      "Epoch 6, Loss: 0.6630\n",
      "Epoch 7, Loss: 0.6581\n",
      "Epoch 8, Loss: 0.6534\n",
      "Epoch 9, Loss: 0.6487\n",
      "Epoch 10, Loss: 0.6442\n",
      "Epoch 11, Loss: 0.6399\n",
      "Epoch 12, Loss: 0.6356\n",
      "Epoch 13, Loss: 0.6315\n",
      "Epoch 14, Loss: 0.6275\n",
      "Epoch 15, Loss: 0.6236\n",
      "Epoch 16, Loss: 0.6198\n",
      "Epoch 17, Loss: 0.6162\n",
      "Epoch 18, Loss: 0.6126\n",
      "Epoch 19, Loss: 0.6092\n",
      "Epoch 20, Loss: 0.6058\n",
      "Epoch 21, Loss: 0.6025\n",
      "Epoch 22, Loss: 0.5994\n",
      "Epoch 23, Loss: 0.5963\n",
      "Epoch 24, Loss: 0.5933\n",
      "Epoch 25, Loss: 0.5904\n",
      "Epoch 26, Loss: 0.5876\n",
      "Epoch 27, Loss: 0.5849\n",
      "Epoch 28, Loss: 0.5822\n",
      "Epoch 29, Loss: 0.5797\n",
      "Epoch 30, Loss: 0.5772\n",
      "Epoch 31, Loss: 0.5747\n",
      "Epoch 32, Loss: 0.5724\n",
      "Epoch 33, Loss: 0.5701\n",
      "Epoch 34, Loss: 0.5679\n",
      "Epoch 35, Loss: 0.5657\n",
      "Epoch 36, Loss: 0.5636\n",
      "Epoch 37, Loss: 0.5616\n",
      "Epoch 38, Loss: 0.5596\n",
      "Epoch 39, Loss: 0.5577\n",
      "Epoch 40, Loss: 0.5558\n",
      "Evaluations\n",
      "---------- fold 5----------\n",
      "Split data\n",
      "Train classifier\n",
      "Training model (Multi instance Learning (MIL))\n",
      "Epoch 1, Loss: 4.6070\n",
      "Epoch 2, Loss: 0.9875\n",
      "Epoch 3, Loss: 0.5593\n",
      "Epoch 4, Loss: 0.5661\n",
      "Epoch 5, Loss: 0.5190\n",
      "Epoch 6, Loss: 0.5039\n",
      "Epoch 7, Loss: 0.4917\n",
      "Epoch 8, Loss: 0.4816\n",
      "Epoch 9, Loss: 0.4729\n",
      "Epoch 10, Loss: 0.4654\n",
      "Epoch 11, Loss: 0.4572\n",
      "Epoch 12, Loss: 0.4503\n",
      "Epoch 13, Loss: 0.4440\n",
      "Epoch 14, Loss: 0.4387\n",
      "Epoch 15, Loss: 0.4343\n",
      "Epoch 16, Loss: 0.4296\n",
      "Epoch 17, Loss: 0.4256\n",
      "Epoch 18, Loss: 0.4217\n",
      "Epoch 19, Loss: 0.4180\n",
      "Epoch 20, Loss: 0.4149\n",
      "Epoch 21, Loss: 0.4114\n",
      "Epoch 22, Loss: 0.4084\n",
      "Epoch 23, Loss: 0.4050\n",
      "Epoch 24, Loss: 0.4017\n",
      "Epoch 25, Loss: 0.3988\n",
      "Epoch 26, Loss: 0.3949\n",
      "Epoch 27, Loss: 0.3923\n",
      "Epoch 28, Loss: 0.3885\n",
      "Epoch 29, Loss: 0.3849\n",
      "Epoch 30, Loss: 0.3802\n",
      "Epoch 31, Loss: 0.3753\n",
      "Epoch 32, Loss: 0.3682\n",
      "Epoch 33, Loss: 0.3618\n",
      "Epoch 34, Loss: 0.3566\n",
      "Epoch 35, Loss: 0.3508\n",
      "Epoch 36, Loss: 0.3462\n",
      "Epoch 37, Loss: 0.3419\n",
      "Epoch 38, Loss: 0.3378\n",
      "Epoch 39, Loss: 0.3334\n",
      "Epoch 40, Loss: 0.3293\n",
      "Evaluations\n",
      "./outcomes/chemo\n",
      "scfoundation\n",
      "scimilarity\n",
      "---------- fold 1----------\n",
      "Split data\n",
      "Train classifier\n",
      "Training model (Multi instance Learning (MIL))\n",
      "Epoch 1, Loss: 0.6736\n",
      "Epoch 2, Loss: 0.6098\n",
      "Epoch 3, Loss: 0.5819\n",
      "Epoch 4, Loss: 0.5649\n",
      "Epoch 5, Loss: 0.5552\n",
      "Epoch 6, Loss: 0.5493\n",
      "Epoch 7, Loss: 0.5452\n",
      "Epoch 8, Loss: 0.5421\n",
      "Epoch 9, Loss: 0.5395\n",
      "Epoch 10, Loss: 0.5372\n",
      "Epoch 11, Loss: 0.5349\n",
      "Epoch 12, Loss: 0.5326\n",
      "Epoch 13, Loss: 0.5303\n",
      "Epoch 14, Loss: 0.5279\n",
      "Epoch 15, Loss: 0.5252\n",
      "Epoch 16, Loss: 0.5225\n",
      "Epoch 17, Loss: 0.5197\n",
      "Epoch 18, Loss: 0.5166\n",
      "Epoch 19, Loss: 0.5137\n",
      "Epoch 20, Loss: 0.5095\n",
      "Epoch 21, Loss: 0.5058\n",
      "Epoch 22, Loss: 0.5016\n",
      "Epoch 23, Loss: 0.4974\n",
      "Epoch 24, Loss: 0.4925\n",
      "Epoch 25, Loss: 0.4884\n",
      "Epoch 26, Loss: 0.4819\n",
      "Epoch 27, Loss: 0.4757\n",
      "Epoch 28, Loss: 0.4684\n",
      "Epoch 29, Loss: 0.4622\n",
      "Epoch 30, Loss: 0.4552\n",
      "Epoch 31, Loss: 0.4437\n",
      "Epoch 32, Loss: 0.4349\n",
      "Epoch 33, Loss: 0.4227\n",
      "Epoch 34, Loss: 0.4085\n",
      "Epoch 35, Loss: 0.3976\n",
      "Epoch 36, Loss: 0.3867\n",
      "Epoch 37, Loss: 0.3727\n",
      "Epoch 38, Loss: 0.3468\n",
      "Epoch 39, Loss: 0.3558\n",
      "Epoch 40, Loss: 0.3121\n",
      "Evaluations\n",
      "---------- fold 2----------\n",
      "Split data\n",
      "Train classifier\n",
      "Training model (Multi instance Learning (MIL))\n",
      "Epoch 1, Loss: 0.6523\n",
      "Epoch 2, Loss: 0.5675\n",
      "Epoch 3, Loss: 0.5304\n",
      "Epoch 4, Loss: 0.5094\n",
      "Epoch 5, Loss: 0.4984\n",
      "Epoch 6, Loss: 0.4921\n",
      "Epoch 7, Loss: 0.4881\n",
      "Epoch 8, Loss: 0.4840\n",
      "Epoch 9, Loss: 0.4809\n",
      "Epoch 10, Loss: 0.4777\n",
      "Epoch 11, Loss: 0.4746\n",
      "Epoch 12, Loss: 0.4716\n",
      "Epoch 13, Loss: 0.4683\n",
      "Epoch 14, Loss: 0.4648\n",
      "Epoch 15, Loss: 0.4616\n",
      "Epoch 16, Loss: 0.4579\n",
      "Epoch 17, Loss: 0.4543\n",
      "Epoch 18, Loss: 0.4508\n",
      "Epoch 19, Loss: 0.4469\n",
      "Epoch 20, Loss: 0.4433\n",
      "Epoch 21, Loss: 0.4392\n",
      "Epoch 22, Loss: 0.4352\n",
      "Epoch 23, Loss: 0.4311\n",
      "Epoch 24, Loss: 0.4271\n",
      "Epoch 25, Loss: 0.4233\n",
      "Epoch 26, Loss: 0.4188\n",
      "Epoch 27, Loss: 0.4152\n",
      "Epoch 28, Loss: 0.4106\n",
      "Epoch 29, Loss: 0.4069\n",
      "Epoch 30, Loss: 0.4023\n",
      "Epoch 31, Loss: 0.3976\n",
      "Epoch 32, Loss: 0.3928\n",
      "Epoch 33, Loss: 0.3868\n",
      "Epoch 34, Loss: 0.3832\n",
      "Epoch 35, Loss: 0.3728\n",
      "Epoch 36, Loss: 0.3622\n",
      "Epoch 37, Loss: 0.3513\n",
      "Epoch 38, Loss: 0.3375\n",
      "Epoch 39, Loss: 0.3132\n",
      "Epoch 40, Loss: 0.2985\n",
      "Evaluations\n",
      "---------- fold 3----------\n",
      "Split data\n",
      "Train classifier\n",
      "Training model (Multi instance Learning (MIL))\n",
      "Epoch 1, Loss: 0.6603\n",
      "Epoch 2, Loss: 0.5757\n",
      "Epoch 3, Loss: 0.5370\n",
      "Epoch 4, Loss: 0.5150\n",
      "Epoch 5, Loss: 0.5045\n",
      "Epoch 6, Loss: 0.4981\n",
      "Epoch 7, Loss: 0.4934\n",
      "Epoch 8, Loss: 0.4894\n",
      "Epoch 9, Loss: 0.4856\n",
      "Epoch 10, Loss: 0.4821\n",
      "Epoch 11, Loss: 0.4784\n",
      "Epoch 12, Loss: 0.4749\n",
      "Epoch 13, Loss: 0.4712\n",
      "Epoch 14, Loss: 0.4676\n",
      "Epoch 15, Loss: 0.4636\n",
      "Epoch 16, Loss: 0.4600\n",
      "Epoch 17, Loss: 0.4556\n",
      "Epoch 18, Loss: 0.4518\n",
      "Epoch 19, Loss: 0.4469\n",
      "Epoch 20, Loss: 0.4428\n",
      "Epoch 21, Loss: 0.4374\n",
      "Epoch 22, Loss: 0.4324\n",
      "Epoch 23, Loss: 0.4274\n",
      "Epoch 24, Loss: 0.4215\n",
      "Epoch 25, Loss: 0.4148\n",
      "Epoch 26, Loss: 0.4068\n",
      "Epoch 27, Loss: 0.3990\n",
      "Epoch 28, Loss: 0.3901\n",
      "Epoch 29, Loss: 0.3772\n",
      "Epoch 30, Loss: 0.3628\n",
      "Epoch 31, Loss: 0.3481\n",
      "Epoch 32, Loss: 0.3334\n",
      "Epoch 33, Loss: 0.3227\n",
      "Epoch 34, Loss: 0.2964\n",
      "Epoch 35, Loss: 0.2835\n",
      "Epoch 36, Loss: 0.2626\n",
      "Epoch 37, Loss: 0.2383\n",
      "Epoch 38, Loss: 0.1864\n",
      "Epoch 39, Loss: 0.1582\n",
      "Epoch 40, Loss: 0.1508\n",
      "Evaluations\n",
      "---------- fold 4----------\n",
      "Split data\n",
      "Train classifier\n",
      "Training model (Multi instance Learning (MIL))\n",
      "Epoch 1, Loss: 0.6613\n",
      "Epoch 2, Loss: 0.5729\n",
      "Epoch 3, Loss: 0.5351\n",
      "Epoch 4, Loss: 0.5154\n",
      "Epoch 5, Loss: 0.5049\n",
      "Epoch 6, Loss: 0.4982\n",
      "Epoch 7, Loss: 0.4930\n",
      "Epoch 8, Loss: 0.4887\n",
      "Epoch 9, Loss: 0.4848\n",
      "Epoch 10, Loss: 0.4811\n",
      "Epoch 11, Loss: 0.4777\n",
      "Epoch 12, Loss: 0.4740\n",
      "Epoch 13, Loss: 0.4704\n",
      "Epoch 14, Loss: 0.4668\n",
      "Epoch 15, Loss: 0.4629\n",
      "Epoch 16, Loss: 0.4589\n",
      "Epoch 17, Loss: 0.4549\n",
      "Epoch 18, Loss: 0.4501\n",
      "Epoch 19, Loss: 0.4455\n",
      "Epoch 20, Loss: 0.4402\n",
      "Epoch 21, Loss: 0.4349\n",
      "Epoch 22, Loss: 0.4299\n",
      "Epoch 23, Loss: 0.4233\n",
      "Epoch 24, Loss: 0.4179\n",
      "Epoch 25, Loss: 0.4111\n",
      "Epoch 26, Loss: 0.4050\n",
      "Epoch 27, Loss: 0.3983\n",
      "Epoch 28, Loss: 0.3912\n",
      "Epoch 29, Loss: 0.3840\n",
      "Epoch 30, Loss: 0.3765\n",
      "Epoch 31, Loss: 0.3692\n",
      "Epoch 32, Loss: 0.3596\n",
      "Epoch 33, Loss: 0.3518\n",
      "Epoch 34, Loss: 0.3396\n",
      "Epoch 35, Loss: 0.3208\n",
      "Epoch 36, Loss: 0.3086\n",
      "Epoch 37, Loss: 0.2965\n",
      "Epoch 38, Loss: 0.2827\n",
      "Epoch 39, Loss: 0.2719\n",
      "Epoch 40, Loss: 0.2593\n",
      "Evaluations\n",
      "---------- fold 5----------\n",
      "Split data\n",
      "Train classifier\n",
      "Training model (Multi instance Learning (MIL))\n",
      "Epoch 1, Loss: 0.6630\n",
      "Epoch 2, Loss: 0.5931\n",
      "Epoch 3, Loss: 0.5673\n",
      "Epoch 4, Loss: 0.5522\n",
      "Epoch 5, Loss: 0.5434\n",
      "Epoch 6, Loss: 0.5378\n",
      "Epoch 7, Loss: 0.5335\n",
      "Epoch 8, Loss: 0.5299\n",
      "Epoch 9, Loss: 0.5265\n",
      "Epoch 10, Loss: 0.5232\n",
      "Epoch 11, Loss: 0.5198\n",
      "Epoch 12, Loss: 0.5163\n",
      "Epoch 13, Loss: 0.5129\n",
      "Epoch 14, Loss: 0.5093\n",
      "Epoch 15, Loss: 0.5048\n",
      "Epoch 16, Loss: 0.5010\n",
      "Epoch 17, Loss: 0.4958\n",
      "Epoch 18, Loss: 0.4903\n",
      "Epoch 19, Loss: 0.4852\n",
      "Epoch 20, Loss: 0.4751\n",
      "Epoch 21, Loss: 0.4636\n",
      "Epoch 22, Loss: 0.4477\n",
      "Epoch 23, Loss: 0.4279\n",
      "Epoch 24, Loss: 0.4009\n",
      "Epoch 25, Loss: 0.3763\n",
      "Epoch 26, Loss: 0.3447\n",
      "Epoch 27, Loss: 0.3106\n",
      "Epoch 28, Loss: 0.2971\n",
      "Epoch 29, Loss: 0.2819\n",
      "Epoch 30, Loss: 0.2583\n",
      "Epoch 31, Loss: 0.2434\n",
      "Epoch 32, Loss: 0.2358\n",
      "Epoch 33, Loss: 0.2932\n",
      "Epoch 34, Loss: 0.4974\n",
      "Epoch 35, Loss: 0.2300\n",
      "Epoch 36, Loss: 0.2024\n",
      "Epoch 37, Loss: 0.1872\n",
      "Epoch 38, Loss: 0.1729\n",
      "Epoch 39, Loss: 0.1639\n",
      "Epoch 40, Loss: 0.1547\n",
      "Evaluations\n",
      "./outcomes/chemo\n",
      "scimilarity\n",
      "cellplm\n",
      "---------- fold 1----------\n",
      "Split data\n",
      "Train classifier\n",
      "Training model (Multi instance Learning (MIL))\n",
      "Epoch 1, Loss: 1.4852\n",
      "Epoch 2, Loss: 0.5323\n",
      "Epoch 3, Loss: 0.7090\n",
      "Epoch 4, Loss: 0.6421\n",
      "Epoch 5, Loss: 0.5824\n",
      "Epoch 6, Loss: 0.5947\n",
      "Epoch 7, Loss: 0.5601\n",
      "Epoch 8, Loss: 0.5656\n",
      "Epoch 9, Loss: 0.5604\n",
      "Epoch 10, Loss: 0.5000\n",
      "Epoch 11, Loss: 0.4774\n",
      "Epoch 12, Loss: 0.4472\n",
      "Epoch 13, Loss: 0.4502\n",
      "Epoch 14, Loss: 0.4620\n",
      "Epoch 15, Loss: 0.4269\n",
      "Epoch 16, Loss: 0.4023\n",
      "Epoch 17, Loss: 0.4010\n",
      "Epoch 18, Loss: 0.3806\n",
      "Epoch 19, Loss: 0.3466\n",
      "Epoch 20, Loss: 0.3386\n",
      "Epoch 21, Loss: 0.3122\n",
      "Epoch 22, Loss: 0.3120\n",
      "Epoch 23, Loss: 0.2942\n",
      "Epoch 24, Loss: 0.3098\n",
      "Epoch 25, Loss: 0.2977\n",
      "Epoch 26, Loss: 0.2526\n",
      "Epoch 27, Loss: 0.2541\n",
      "Epoch 28, Loss: 0.2270\n",
      "Epoch 29, Loss: 0.2219\n",
      "Epoch 30, Loss: 0.2168\n",
      "Epoch 31, Loss: 0.2152\n",
      "Epoch 32, Loss: 0.2058\n",
      "Epoch 33, Loss: 0.1656\n",
      "Epoch 34, Loss: 0.1965\n",
      "Epoch 35, Loss: 0.1549\n",
      "Epoch 36, Loss: 0.1723\n",
      "Epoch 37, Loss: 0.1460\n",
      "Epoch 38, Loss: 0.1784\n",
      "Epoch 39, Loss: 0.1437\n",
      "Epoch 40, Loss: 0.1592\n",
      "Evaluations\n",
      "---------- fold 2----------\n",
      "Split data\n",
      "Train classifier\n",
      "Training model (Multi instance Learning (MIL))\n",
      "Epoch 1, Loss: 1.3256\n",
      "Epoch 2, Loss: 0.4970\n",
      "Epoch 3, Loss: 0.7104\n",
      "Epoch 4, Loss: 0.5132\n",
      "Epoch 5, Loss: 0.5060\n",
      "Epoch 6, Loss: 0.4900\n",
      "Epoch 7, Loss: 0.4742\n",
      "Epoch 8, Loss: 0.4696\n",
      "Epoch 9, Loss: 0.4446\n",
      "Epoch 10, Loss: 0.4053\n",
      "Epoch 11, Loss: 0.3717\n",
      "Epoch 12, Loss: 0.3483\n",
      "Epoch 13, Loss: 0.3252\n",
      "Epoch 14, Loss: 0.3052\n",
      "Epoch 15, Loss: 0.2915\n",
      "Epoch 16, Loss: 0.2802\n",
      "Epoch 17, Loss: 0.2682\n",
      "Epoch 18, Loss: 0.2543\n",
      "Epoch 19, Loss: 0.2524\n",
      "Epoch 20, Loss: 0.2401\n",
      "Epoch 21, Loss: 0.2344\n",
      "Epoch 22, Loss: 0.2249\n",
      "Epoch 23, Loss: 0.2134\n",
      "Epoch 24, Loss: 0.2071\n",
      "Epoch 25, Loss: 0.1990\n",
      "Epoch 26, Loss: 0.1879\n",
      "Epoch 27, Loss: 0.1909\n",
      "Epoch 28, Loss: 0.1778\n",
      "Epoch 29, Loss: 0.1618\n",
      "Epoch 30, Loss: 0.2341\n",
      "Epoch 31, Loss: 0.1853\n",
      "Epoch 32, Loss: 0.1692\n",
      "Epoch 33, Loss: 0.1487\n",
      "Epoch 34, Loss: 0.1918\n",
      "Epoch 35, Loss: 0.1398\n",
      "Epoch 36, Loss: 0.1591\n",
      "Epoch 37, Loss: 0.1233\n",
      "Epoch 38, Loss: 0.1333\n",
      "Epoch 39, Loss: 0.1798\n",
      "Epoch 40, Loss: 0.1273\n",
      "Evaluations\n",
      "---------- fold 3----------\n",
      "Split data\n",
      "Train classifier\n",
      "Training model (Multi instance Learning (MIL))\n",
      "Epoch 1, Loss: 1.2814\n",
      "Epoch 2, Loss: 0.4825\n",
      "Epoch 3, Loss: 0.6794\n",
      "Epoch 4, Loss: 0.5704\n",
      "Epoch 5, Loss: 0.5369\n",
      "Epoch 6, Loss: 0.5205\n",
      "Epoch 7, Loss: 0.5253\n",
      "Epoch 8, Loss: 0.4316\n",
      "Epoch 9, Loss: 0.3941\n",
      "Epoch 10, Loss: 0.3578\n",
      "Epoch 11, Loss: 0.3315\n",
      "Epoch 12, Loss: 0.3182\n",
      "Epoch 13, Loss: 0.2947\n",
      "Epoch 14, Loss: 0.2804\n",
      "Epoch 15, Loss: 0.2657\n",
      "Epoch 16, Loss: 0.2499\n",
      "Epoch 17, Loss: 0.2403\n",
      "Epoch 18, Loss: 0.2324\n",
      "Epoch 19, Loss: 0.2184\n",
      "Epoch 20, Loss: 0.1984\n",
      "Epoch 21, Loss: 0.1838\n",
      "Epoch 22, Loss: 0.1780\n",
      "Epoch 23, Loss: 0.1660\n",
      "Epoch 24, Loss: 0.1570\n",
      "Epoch 25, Loss: 0.1436\n",
      "Epoch 26, Loss: 0.1503\n",
      "Epoch 27, Loss: 0.1618\n",
      "Epoch 28, Loss: 0.1957\n",
      "Epoch 29, Loss: 0.1815\n",
      "Epoch 30, Loss: 0.1188\n",
      "Epoch 31, Loss: 0.1152\n",
      "Epoch 32, Loss: 0.1066\n",
      "Epoch 33, Loss: 0.1287\n",
      "Epoch 34, Loss: 0.2493\n",
      "Epoch 35, Loss: 0.2080\n",
      "Epoch 36, Loss: 0.1976\n",
      "Epoch 37, Loss: 0.1761\n",
      "Epoch 38, Loss: 0.1396\n",
      "Epoch 39, Loss: 0.1257\n",
      "Epoch 40, Loss: 0.0897\n",
      "Evaluations\n",
      "---------- fold 4----------\n",
      "Split data\n",
      "Train classifier\n",
      "Training model (Multi instance Learning (MIL))\n",
      "Epoch 1, Loss: 1.3576\n",
      "Epoch 2, Loss: 0.4822\n",
      "Epoch 3, Loss: 0.7884\n",
      "Epoch 4, Loss: 0.5146\n",
      "Epoch 5, Loss: 0.4955\n",
      "Epoch 6, Loss: 0.4496\n",
      "Epoch 7, Loss: 0.4204\n",
      "Epoch 8, Loss: 0.4085\n",
      "Epoch 9, Loss: 0.3845\n",
      "Epoch 10, Loss: 0.3681\n",
      "Epoch 11, Loss: 0.3519\n",
      "Epoch 12, Loss: 0.3395\n",
      "Epoch 13, Loss: 0.3236\n",
      "Epoch 14, Loss: 0.3118\n",
      "Epoch 15, Loss: 0.2977\n",
      "Epoch 16, Loss: 0.2854\n",
      "Epoch 17, Loss: 0.2755\n",
      "Epoch 18, Loss: 0.2606\n",
      "Epoch 19, Loss: 0.2496\n",
      "Epoch 20, Loss: 0.2459\n",
      "Epoch 21, Loss: 0.2187\n",
      "Epoch 22, Loss: 0.2161\n",
      "Epoch 23, Loss: 0.1921\n",
      "Epoch 24, Loss: 0.1910\n",
      "Epoch 25, Loss: 0.1791\n",
      "Epoch 26, Loss: 0.1747\n",
      "Epoch 27, Loss: 0.1673\n",
      "Epoch 28, Loss: 0.1612\n",
      "Epoch 29, Loss: 0.1545\n",
      "Epoch 30, Loss: 0.1461\n",
      "Epoch 31, Loss: 0.1417\n",
      "Epoch 32, Loss: 0.1345\n",
      "Epoch 33, Loss: 0.1300\n",
      "Epoch 34, Loss: 0.1260\n",
      "Epoch 35, Loss: 0.1198\n",
      "Epoch 36, Loss: 0.1192\n",
      "Epoch 37, Loss: 0.1119\n",
      "Epoch 38, Loss: 0.1129\n",
      "Epoch 39, Loss: 0.1048\n",
      "Epoch 40, Loss: 0.1126\n",
      "Evaluations\n",
      "---------- fold 5----------\n",
      "Split data\n",
      "Train classifier\n",
      "Training model (Multi instance Learning (MIL))\n",
      "Epoch 1, Loss: 1.5117\n",
      "Epoch 2, Loss: 0.6573\n",
      "Epoch 3, Loss: 0.5623\n",
      "Epoch 4, Loss: 0.5092\n",
      "Epoch 5, Loss: 0.4780\n",
      "Epoch 6, Loss: 0.4711\n",
      "Epoch 7, Loss: 0.4581\n",
      "Epoch 8, Loss: 0.4489\n",
      "Epoch 9, Loss: 0.4372\n",
      "Epoch 10, Loss: 0.4201\n",
      "Epoch 11, Loss: 0.4056\n",
      "Epoch 12, Loss: 0.3933\n",
      "Epoch 13, Loss: 0.3843\n",
      "Epoch 14, Loss: 0.3716\n",
      "Epoch 15, Loss: 0.3542\n",
      "Epoch 16, Loss: 0.3466\n",
      "Epoch 17, Loss: 0.3338\n",
      "Epoch 18, Loss: 0.3163\n",
      "Epoch 19, Loss: 0.3052\n",
      "Epoch 20, Loss: 0.2963\n",
      "Epoch 21, Loss: 0.2781\n",
      "Epoch 22, Loss: 0.2673\n",
      "Epoch 23, Loss: 0.2462\n",
      "Epoch 24, Loss: 0.2354\n",
      "Epoch 25, Loss: 0.2204\n",
      "Epoch 26, Loss: 0.2075\n",
      "Epoch 27, Loss: 0.1971\n",
      "Epoch 28, Loss: 0.1895\n",
      "Epoch 29, Loss: 0.1832\n",
      "Epoch 30, Loss: 0.1759\n",
      "Epoch 31, Loss: 0.1713\n",
      "Epoch 32, Loss: 0.1653\n",
      "Epoch 33, Loss: 0.1611\n",
      "Epoch 34, Loss: 0.1562\n",
      "Epoch 35, Loss: 0.1515\n",
      "Epoch 36, Loss: 0.1478\n",
      "Epoch 37, Loss: 0.1447\n",
      "Epoch 38, Loss: 0.1408\n",
      "Epoch 39, Loss: 0.1369\n",
      "Epoch 40, Loss: 0.1327\n",
      "Evaluations\n",
      "./outcomes/chemo\n",
      "cellplm\n",
      "Geneformer-V2-104M\n",
      "---------- fold 1----------\n",
      "Split data\n",
      "Train classifier\n",
      "Training model (Multi instance Learning (MIL))\n",
      "Epoch 1, Loss: 1.2969\n",
      "Epoch 2, Loss: 0.5163\n",
      "Epoch 3, Loss: 0.6423\n",
      "Epoch 4, Loss: 0.5701\n",
      "Epoch 5, Loss: 0.5974\n",
      "Epoch 6, Loss: 0.5326\n",
      "Epoch 7, Loss: 0.5625\n",
      "Epoch 8, Loss: 0.5254\n",
      "Epoch 9, Loss: 0.5072\n",
      "Epoch 10, Loss: 0.5131\n",
      "Epoch 11, Loss: 0.4970\n",
      "Epoch 12, Loss: 0.5081\n",
      "Epoch 13, Loss: 0.4855\n",
      "Epoch 14, Loss: 0.4880\n",
      "Epoch 15, Loss: 0.4717\n",
      "Epoch 16, Loss: 0.4832\n",
      "Epoch 17, Loss: 0.4736\n",
      "Epoch 18, Loss: 0.4779\n",
      "Epoch 19, Loss: 0.4597\n",
      "Epoch 20, Loss: 0.4562\n",
      "Epoch 21, Loss: 0.4446\n",
      "Epoch 22, Loss: 0.4422\n",
      "Epoch 23, Loss: 0.4335\n",
      "Epoch 24, Loss: 0.4376\n",
      "Epoch 25, Loss: 0.4375\n",
      "Epoch 26, Loss: 0.4391\n",
      "Epoch 27, Loss: 0.4207\n",
      "Epoch 28, Loss: 0.4118\n",
      "Epoch 29, Loss: 0.3991\n",
      "Epoch 30, Loss: 0.3929\n",
      "Epoch 31, Loss: 0.3869\n",
      "Epoch 32, Loss: 0.3821\n",
      "Epoch 33, Loss: 0.3740\n",
      "Epoch 34, Loss: 0.3760\n",
      "Epoch 35, Loss: 0.3673\n",
      "Epoch 36, Loss: 0.3758\n",
      "Epoch 37, Loss: 0.3510\n",
      "Epoch 38, Loss: 0.3486\n",
      "Epoch 39, Loss: 0.3133\n",
      "Epoch 40, Loss: 0.2942\n",
      "Evaluations\n",
      "---------- fold 2----------\n",
      "Split data\n",
      "Train classifier\n",
      "Training model (Multi instance Learning (MIL))\n",
      "Epoch 1, Loss: 1.1805\n",
      "Epoch 2, Loss: 0.4597\n",
      "Epoch 3, Loss: 0.5828\n",
      "Epoch 4, Loss: 0.5025\n",
      "Epoch 5, Loss: 0.5176\n",
      "Epoch 6, Loss: 0.4614\n",
      "Epoch 7, Loss: 0.4492\n",
      "Epoch 8, Loss: 0.4626\n",
      "Epoch 9, Loss: 0.4400\n",
      "Epoch 10, Loss: 0.4328\n",
      "Epoch 11, Loss: 0.4189\n",
      "Epoch 12, Loss: 0.4187\n",
      "Epoch 13, Loss: 0.4148\n",
      "Epoch 14, Loss: 0.4333\n",
      "Epoch 15, Loss: 0.4142\n",
      "Epoch 16, Loss: 0.4084\n",
      "Epoch 17, Loss: 0.3980\n",
      "Epoch 18, Loss: 0.3936\n",
      "Epoch 19, Loss: 0.3901\n",
      "Epoch 20, Loss: 0.3875\n",
      "Epoch 21, Loss: 0.3842\n",
      "Epoch 22, Loss: 0.3832\n",
      "Epoch 23, Loss: 0.3793\n",
      "Epoch 24, Loss: 0.3921\n",
      "Epoch 25, Loss: 0.4178\n",
      "Epoch 26, Loss: 0.3956\n",
      "Epoch 27, Loss: 0.3821\n",
      "Epoch 28, Loss: 0.3732\n",
      "Epoch 29, Loss: 0.3687\n",
      "Epoch 30, Loss: 0.3659\n",
      "Epoch 31, Loss: 0.3637\n",
      "Epoch 32, Loss: 0.3615\n",
      "Epoch 33, Loss: 0.3592\n",
      "Epoch 34, Loss: 0.3570\n",
      "Epoch 35, Loss: 0.3544\n",
      "Epoch 36, Loss: 0.3522\n",
      "Epoch 37, Loss: 0.3496\n",
      "Epoch 38, Loss: 0.3474\n",
      "Epoch 39, Loss: 0.3442\n",
      "Epoch 40, Loss: 0.3425\n",
      "Evaluations\n",
      "---------- fold 3----------\n",
      "Split data\n",
      "Train classifier\n",
      "Training model (Multi instance Learning (MIL))\n",
      "Epoch 1, Loss: 1.1795\n",
      "Epoch 2, Loss: 0.4549\n",
      "Epoch 3, Loss: 0.5529\n",
      "Epoch 4, Loss: 0.4677\n",
      "Epoch 5, Loss: 0.5019\n",
      "Epoch 6, Loss: 0.4528\n",
      "Epoch 7, Loss: 0.4421\n",
      "Epoch 8, Loss: 0.4571\n",
      "Epoch 9, Loss: 0.4235\n",
      "Epoch 10, Loss: 0.4210\n",
      "Epoch 11, Loss: 0.4090\n",
      "Epoch 12, Loss: 0.4131\n",
      "Epoch 13, Loss: 0.4390\n",
      "Epoch 14, Loss: 0.4480\n",
      "Epoch 15, Loss: 0.4168\n",
      "Epoch 16, Loss: 0.4020\n",
      "Epoch 17, Loss: 0.3863\n",
      "Epoch 18, Loss: 0.3803\n",
      "Epoch 19, Loss: 0.3739\n",
      "Epoch 20, Loss: 0.3707\n",
      "Epoch 21, Loss: 0.3642\n",
      "Epoch 22, Loss: 0.3639\n",
      "Epoch 23, Loss: 0.3570\n",
      "Epoch 24, Loss: 0.3631\n",
      "Epoch 25, Loss: 0.3565\n",
      "Epoch 26, Loss: 0.3588\n",
      "Epoch 27, Loss: 0.3434\n",
      "Epoch 28, Loss: 0.3441\n",
      "Epoch 29, Loss: 0.3339\n",
      "Epoch 30, Loss: 0.3336\n",
      "Epoch 31, Loss: 0.3277\n",
      "Epoch 32, Loss: 0.3258\n",
      "Epoch 33, Loss: 0.3208\n",
      "Epoch 34, Loss: 0.3183\n",
      "Epoch 35, Loss: 0.3134\n",
      "Epoch 36, Loss: 0.3106\n",
      "Epoch 37, Loss: 0.3057\n",
      "Epoch 38, Loss: 0.3028\n",
      "Epoch 39, Loss: 0.2983\n",
      "Epoch 40, Loss: 0.2953\n",
      "Evaluations\n",
      "---------- fold 4----------\n",
      "Split data\n",
      "Train classifier\n",
      "Training model (Multi instance Learning (MIL))\n",
      "Epoch 1, Loss: 1.1180\n",
      "Epoch 2, Loss: 0.4532\n",
      "Epoch 3, Loss: 0.5463\n",
      "Epoch 4, Loss: 0.4628\n",
      "Epoch 5, Loss: 0.4591\n",
      "Epoch 6, Loss: 0.4491\n",
      "Epoch 7, Loss: 0.4818\n",
      "Epoch 8, Loss: 0.4341\n",
      "Epoch 9, Loss: 0.4302\n",
      "Epoch 10, Loss: 0.4453\n",
      "Epoch 11, Loss: 0.4161\n",
      "Epoch 12, Loss: 0.4129\n",
      "Epoch 13, Loss: 0.4272\n",
      "Epoch 14, Loss: 0.4057\n",
      "Epoch 15, Loss: 0.4263\n",
      "Epoch 16, Loss: 0.3975\n",
      "Epoch 17, Loss: 0.4080\n",
      "Epoch 18, Loss: 0.4010\n",
      "Epoch 19, Loss: 0.4324\n",
      "Epoch 20, Loss: 0.4007\n",
      "Epoch 21, Loss: 0.3925\n",
      "Epoch 22, Loss: 0.3862\n",
      "Epoch 23, Loss: 0.3886\n",
      "Epoch 24, Loss: 0.4176\n",
      "Epoch 25, Loss: 0.3875\n",
      "Epoch 26, Loss: 0.3791\n",
      "Epoch 27, Loss: 0.3724\n",
      "Epoch 28, Loss: 0.3710\n",
      "Epoch 29, Loss: 0.3981\n",
      "Epoch 30, Loss: 0.3688\n",
      "Epoch 31, Loss: 0.3652\n",
      "Epoch 32, Loss: 0.3508\n",
      "Epoch 33, Loss: 0.3572\n",
      "Epoch 34, Loss: 0.3950\n",
      "Epoch 35, Loss: 0.3844\n",
      "Epoch 36, Loss: 0.3578\n",
      "Epoch 37, Loss: 0.3467\n",
      "Epoch 38, Loss: 0.3313\n",
      "Epoch 39, Loss: 0.3309\n",
      "Epoch 40, Loss: 0.3248\n",
      "Evaluations\n",
      "---------- fold 5----------\n",
      "Split data\n",
      "Train classifier\n",
      "Training model (Multi instance Learning (MIL))\n",
      "Epoch 1, Loss: 1.3068\n",
      "Epoch 2, Loss: 0.5116\n",
      "Epoch 3, Loss: 0.5990\n",
      "Epoch 4, Loss: 0.5144\n",
      "Epoch 5, Loss: 0.5723\n",
      "Epoch 6, Loss: 0.4964\n",
      "Epoch 7, Loss: 0.4825\n",
      "Epoch 8, Loss: 0.4894\n",
      "Epoch 9, Loss: 0.4728\n",
      "Epoch 10, Loss: 0.4899\n",
      "Epoch 11, Loss: 0.4484\n",
      "Epoch 12, Loss: 0.4446\n",
      "Epoch 13, Loss: 0.4334\n",
      "Epoch 14, Loss: 0.4486\n",
      "Epoch 15, Loss: 0.4613\n",
      "Epoch 16, Loss: 0.4502\n",
      "Epoch 17, Loss: 0.4211\n",
      "Epoch 18, Loss: 0.4180\n",
      "Epoch 19, Loss: 0.3995\n",
      "Epoch 20, Loss: 0.4005\n",
      "Epoch 21, Loss: 0.3858\n",
      "Epoch 22, Loss: 0.3871\n",
      "Epoch 23, Loss: 0.3714\n",
      "Epoch 24, Loss: 0.3703\n",
      "Epoch 25, Loss: 0.3547\n",
      "Epoch 26, Loss: 0.3480\n",
      "Epoch 27, Loss: 0.3346\n",
      "Epoch 28, Loss: 0.3235\n",
      "Epoch 29, Loss: 0.3143\n",
      "Epoch 30, Loss: 0.3006\n",
      "Epoch 31, Loss: 0.2919\n",
      "Epoch 32, Loss: 0.2830\n",
      "Epoch 33, Loss: 0.2711\n",
      "Epoch 34, Loss: 0.2701\n",
      "Epoch 35, Loss: 0.2653\n",
      "Epoch 36, Loss: 0.2411\n",
      "Epoch 37, Loss: 0.2354\n",
      "Epoch 38, Loss: 0.2406\n",
      "Epoch 39, Loss: 0.2370\n",
      "Epoch 40, Loss: 0.2101\n",
      "Evaluations\n",
      "./outcomes/chemo\n",
      "Geneformer-V2-104M\n"
     ]
    }
   ],
   "source": [
    "metrics_test_list= [] \n",
    "for m in model_names:\n",
    "    print(m)\n",
    "    embedding_col = get_embd_key(m)\n",
    "    adata = load_data(base_dir,m)\n",
    "    adata = prepare_data(adata, id_column)\n",
    "    \n",
    "    pred_train_df, pred_test_df, metrics_train_df, metrics_test_df = run_cv(adata, __train_mil,  cv_split_dict,embedding_col )\n",
    "    save_results(pred_train_df, pred_test_df, metrics_train_df, metrics_test_df, saving_dir, model_name=m, prefix='mil')\n",
    "    dd = metrics_test_df.mean(numeric_only=True)\n",
    "    metrics_test_list.append(dd)\n",
    "    \n",
    "results = pd.DataFrame(metrics_test_list, index = model_names)\n",
    "results.to_csv(join(saving_dir, 'mil_metrics_test.csv' ))"
   ]
  },
  {
   "cell_type": "code",
   "execution_count": 15,
   "id": "9fc15feb-738e-476a-8604-8881a60bf58b",
   "metadata": {
    "tags": []
   },
   "outputs": [
    {
     "name": "stdout",
     "output_type": "stream",
     "text": [
      "---------- fold 1----------\n",
      "Split data\n",
      "Train classifier\n",
      "Training model (Majority Vote)\n",
      "Unique values in train label: [0 1]\n",
      "Unique values in test label: [0 1]\n",
      "Training model\n",
      "(3875, 2) (14787,)\n"
     ]
    },
    {
     "name": "stderr",
     "output_type": "stream",
     "text": [
      "/home/jupyter/scFM_eval/analyze_classification/train_utils.py:103: ImplicitModificationWarning: Trying to modify attribute `.obs` of view, initializing view as actual.\n",
      "  adata_test.obs['pred'] = model.predict(X_test)\n",
      "/home/jupyter/scFM_eval/analyze_classification/train_utils.py:108: ImplicitModificationWarning: Trying to modify attribute `.obs` of view, initializing view as actual.\n",
      "  adata_train.obs['pred'] = model.predict(X)\n"
     ]
    },
    {
     "name": "stdout",
     "output_type": "stream",
     "text": [
      "Cell-level prediction distribution (train):\n",
      "pred\n",
      "0    11250\n",
      "1     3537\n",
      "Name: count, dtype: int64\n",
      "Cell-level prediction distribution (test):\n",
      "pred\n",
      "0    3443\n",
      "1     432\n",
      "Name: count, dtype: int64\n",
      "Evaluations\n",
      "---------- fold 2----------\n",
      "Split data\n",
      "Train classifier\n",
      "Training model (Majority Vote)\n",
      "Unique values in train label: [0 1]\n",
      "Unique values in test label: [0 1]\n",
      "Training model\n",
      "(4200, 2) (14462,)\n"
     ]
    },
    {
     "name": "stderr",
     "output_type": "stream",
     "text": [
      "/home/jupyter/scFM_eval/analyze_classification/train_utils.py:103: ImplicitModificationWarning: Trying to modify attribute `.obs` of view, initializing view as actual.\n",
      "  adata_test.obs['pred'] = model.predict(X_test)\n",
      "/home/jupyter/scFM_eval/analyze_classification/train_utils.py:108: ImplicitModificationWarning: Trying to modify attribute `.obs` of view, initializing view as actual.\n",
      "  adata_train.obs['pred'] = model.predict(X)\n"
     ]
    },
    {
     "name": "stdout",
     "output_type": "stream",
     "text": [
      "Cell-level prediction distribution (train):\n",
      "pred\n",
      "0    10620\n",
      "1     3842\n",
      "Name: count, dtype: int64\n",
      "Cell-level prediction distribution (test):\n",
      "pred\n",
      "0    2646\n",
      "1    1554\n",
      "Name: count, dtype: int64\n",
      "Evaluations\n",
      "---------- fold 3----------\n",
      "Split data\n",
      "Train classifier\n",
      "Training model (Majority Vote)\n",
      "Unique values in train label: [0 1]\n",
      "Unique values in test label: [0 1]\n",
      "Training model\n",
      "(4216, 2) (14446,)\n"
     ]
    },
    {
     "name": "stderr",
     "output_type": "stream",
     "text": [
      "/home/jupyter/scFM_eval/analyze_classification/train_utils.py:103: ImplicitModificationWarning: Trying to modify attribute `.obs` of view, initializing view as actual.\n",
      "  adata_test.obs['pred'] = model.predict(X_test)\n",
      "/home/jupyter/scFM_eval/analyze_classification/train_utils.py:108: ImplicitModificationWarning: Trying to modify attribute `.obs` of view, initializing view as actual.\n",
      "  adata_train.obs['pred'] = model.predict(X)\n"
     ]
    },
    {
     "name": "stdout",
     "output_type": "stream",
     "text": [
      "Cell-level prediction distribution (train):\n",
      "pred\n",
      "0    12625\n",
      "1     1821\n",
      "Name: count, dtype: int64\n",
      "Cell-level prediction distribution (test):\n",
      "pred\n",
      "0    3556\n",
      "1     660\n",
      "Name: count, dtype: int64\n",
      "Evaluations\n",
      "---------- fold 4----------\n",
      "Split data\n",
      "Train classifier\n",
      "Training model (Majority Vote)\n",
      "Unique values in train label: [0 1]\n",
      "Unique values in test label: [0 1]\n",
      "Training model\n",
      "(2285, 2) (16377,)\n"
     ]
    },
    {
     "name": "stderr",
     "output_type": "stream",
     "text": [
      "/home/jupyter/scFM_eval/analyze_classification/train_utils.py:103: ImplicitModificationWarning: Trying to modify attribute `.obs` of view, initializing view as actual.\n",
      "  adata_test.obs['pred'] = model.predict(X_test)\n",
      "/home/jupyter/scFM_eval/analyze_classification/train_utils.py:108: ImplicitModificationWarning: Trying to modify attribute `.obs` of view, initializing view as actual.\n",
      "  adata_train.obs['pred'] = model.predict(X)\n"
     ]
    },
    {
     "name": "stdout",
     "output_type": "stream",
     "text": [
      "Cell-level prediction distribution (train):\n",
      "pred\n",
      "0    13049\n",
      "1     3328\n",
      "Name: count, dtype: int64\n",
      "Cell-level prediction distribution (test):\n",
      "pred\n",
      "0    1992\n",
      "1     293\n",
      "Name: count, dtype: int64\n",
      "Evaluations\n",
      "---------- fold 5----------\n",
      "Split data\n",
      "Train classifier\n",
      "Training model (Majority Vote)\n",
      "Unique values in train label: [0 1]\n",
      "Unique values in test label: [0 1]\n",
      "Training model\n",
      "(4086, 2) (14576,)\n"
     ]
    },
    {
     "name": "stderr",
     "output_type": "stream",
     "text": [
      "/home/jupyter/scFM_eval/analyze_classification/train_utils.py:103: ImplicitModificationWarning: Trying to modify attribute `.obs` of view, initializing view as actual.\n",
      "  adata_test.obs['pred'] = model.predict(X_test)\n",
      "/home/jupyter/scFM_eval/analyze_classification/train_utils.py:108: ImplicitModificationWarning: Trying to modify attribute `.obs` of view, initializing view as actual.\n",
      "  adata_train.obs['pred'] = model.predict(X)\n"
     ]
    },
    {
     "name": "stdout",
     "output_type": "stream",
     "text": [
      "Cell-level prediction distribution (train):\n",
      "pred\n",
      "0    11692\n",
      "1     2884\n",
      "Name: count, dtype: int64\n",
      "Cell-level prediction distribution (test):\n",
      "pred\n",
      "0    3403\n",
      "1     683\n",
      "Name: count, dtype: int64\n",
      "Evaluations\n",
      "./outcomes/chemo\n",
      "scfoundation\n",
      "---------- fold 1----------\n",
      "Split data\n",
      "Train classifier\n",
      "Training model (Majority Vote)\n",
      "Unique values in train label: [0 1]\n",
      "Unique values in test label: [0 1]\n",
      "Training model\n",
      "(3875, 2) (14787,)\n"
     ]
    },
    {
     "name": "stderr",
     "output_type": "stream",
     "text": [
      "/home/jupyter/scFM_eval/analyze_classification/train_utils.py:103: ImplicitModificationWarning: Trying to modify attribute `.obs` of view, initializing view as actual.\n",
      "  adata_test.obs['pred'] = model.predict(X_test)\n",
      "/home/jupyter/scFM_eval/analyze_classification/train_utils.py:108: ImplicitModificationWarning: Trying to modify attribute `.obs` of view, initializing view as actual.\n",
      "  adata_train.obs['pred'] = model.predict(X)\n"
     ]
    },
    {
     "name": "stdout",
     "output_type": "stream",
     "text": [
      "Cell-level prediction distribution (train):\n",
      "pred\n",
      "0    10172\n",
      "1     4615\n",
      "Name: count, dtype: int64\n",
      "Cell-level prediction distribution (test):\n",
      "pred\n",
      "0    2902\n",
      "1     973\n",
      "Name: count, dtype: int64\n",
      "Evaluations\n",
      "---------- fold 2----------\n",
      "Split data\n",
      "Train classifier\n",
      "Training model (Majority Vote)\n",
      "Unique values in train label: [0 1]\n",
      "Unique values in test label: [0 1]\n",
      "Training model\n",
      "(4200, 2) (14462,)\n"
     ]
    },
    {
     "name": "stderr",
     "output_type": "stream",
     "text": [
      "/home/jupyter/scFM_eval/analyze_classification/train_utils.py:103: ImplicitModificationWarning: Trying to modify attribute `.obs` of view, initializing view as actual.\n",
      "  adata_test.obs['pred'] = model.predict(X_test)\n",
      "/home/jupyter/scFM_eval/analyze_classification/train_utils.py:108: ImplicitModificationWarning: Trying to modify attribute `.obs` of view, initializing view as actual.\n",
      "  adata_train.obs['pred'] = model.predict(X)\n"
     ]
    },
    {
     "name": "stdout",
     "output_type": "stream",
     "text": [
      "Cell-level prediction distribution (train):\n",
      "pred\n",
      "0    9867\n",
      "1    4595\n",
      "Name: count, dtype: int64\n",
      "Cell-level prediction distribution (test):\n",
      "pred\n",
      "0    3122\n",
      "1    1078\n",
      "Name: count, dtype: int64\n",
      "Evaluations\n",
      "---------- fold 3----------\n",
      "Split data\n",
      "Train classifier\n",
      "Training model (Majority Vote)\n",
      "Unique values in train label: [0 1]\n",
      "Unique values in test label: [0 1]\n",
      "Training model\n",
      "(4216, 2) (14446,)\n"
     ]
    },
    {
     "name": "stderr",
     "output_type": "stream",
     "text": [
      "/home/jupyter/scFM_eval/analyze_classification/train_utils.py:103: ImplicitModificationWarning: Trying to modify attribute `.obs` of view, initializing view as actual.\n",
      "  adata_test.obs['pred'] = model.predict(X_test)\n",
      "/home/jupyter/scFM_eval/analyze_classification/train_utils.py:108: ImplicitModificationWarning: Trying to modify attribute `.obs` of view, initializing view as actual.\n",
      "  adata_train.obs['pred'] = model.predict(X)\n"
     ]
    },
    {
     "name": "stdout",
     "output_type": "stream",
     "text": [
      "Cell-level prediction distribution (train):\n",
      "pred\n",
      "0    11602\n",
      "1     2844\n",
      "Name: count, dtype: int64\n",
      "Cell-level prediction distribution (test):\n",
      "pred\n",
      "0    3158\n",
      "1    1058\n",
      "Name: count, dtype: int64\n",
      "Evaluations\n",
      "---------- fold 4----------\n",
      "Split data\n",
      "Train classifier\n",
      "Training model (Majority Vote)\n",
      "Unique values in train label: [0 1]\n",
      "Unique values in test label: [0 1]\n",
      "Training model\n",
      "(2285, 2) (16377,)\n"
     ]
    },
    {
     "name": "stderr",
     "output_type": "stream",
     "text": [
      "/home/jupyter/scFM_eval/analyze_classification/train_utils.py:103: ImplicitModificationWarning: Trying to modify attribute `.obs` of view, initializing view as actual.\n",
      "  adata_test.obs['pred'] = model.predict(X_test)\n",
      "/home/jupyter/scFM_eval/analyze_classification/train_utils.py:108: ImplicitModificationWarning: Trying to modify attribute `.obs` of view, initializing view as actual.\n",
      "  adata_train.obs['pred'] = model.predict(X)\n"
     ]
    },
    {
     "name": "stdout",
     "output_type": "stream",
     "text": [
      "Cell-level prediction distribution (train):\n",
      "pred\n",
      "0    11632\n",
      "1     4745\n",
      "Name: count, dtype: int64\n",
      "Cell-level prediction distribution (test):\n",
      "pred\n",
      "0    1877\n",
      "1     408\n",
      "Name: count, dtype: int64\n",
      "Evaluations\n",
      "---------- fold 5----------\n",
      "Split data\n",
      "Train classifier\n",
      "Training model (Majority Vote)\n",
      "Unique values in train label: [0 1]\n",
      "Unique values in test label: [0 1]\n",
      "Training model\n",
      "(4086, 2) (14576,)\n",
      "Cell-level prediction distribution (train):\n",
      "pred\n",
      "0    10581\n",
      "1     3995\n",
      "Name: count, dtype: int64\n",
      "Cell-level prediction distribution (test):\n",
      "pred\n",
      "0    2549\n",
      "1    1537\n",
      "Name: count, dtype: int64\n"
     ]
    },
    {
     "name": "stderr",
     "output_type": "stream",
     "text": [
      "/home/jupyter/scFM_eval/analyze_classification/train_utils.py:103: ImplicitModificationWarning: Trying to modify attribute `.obs` of view, initializing view as actual.\n",
      "  adata_test.obs['pred'] = model.predict(X_test)\n",
      "/home/jupyter/scFM_eval/analyze_classification/train_utils.py:108: ImplicitModificationWarning: Trying to modify attribute `.obs` of view, initializing view as actual.\n",
      "  adata_train.obs['pred'] = model.predict(X)\n"
     ]
    },
    {
     "name": "stdout",
     "output_type": "stream",
     "text": [
      "Evaluations\n",
      "./outcomes/chemo\n",
      "scimilarity\n",
      "---------- fold 1----------\n",
      "Split data\n",
      "Train classifier\n",
      "Training model (Majority Vote)\n",
      "Unique values in train label: [0 1]\n",
      "Unique values in test label: [0 1]\n",
      "Training model\n",
      "(3875, 2) (14787,)\n"
     ]
    },
    {
     "name": "stderr",
     "output_type": "stream",
     "text": [
      "/home/jupyter/scFM_eval/analyze_classification/train_utils.py:103: ImplicitModificationWarning: Trying to modify attribute `.obs` of view, initializing view as actual.\n",
      "  adata_test.obs['pred'] = model.predict(X_test)\n",
      "/home/jupyter/scFM_eval/analyze_classification/train_utils.py:108: ImplicitModificationWarning: Trying to modify attribute `.obs` of view, initializing view as actual.\n",
      "  adata_train.obs['pred'] = model.predict(X)\n"
     ]
    },
    {
     "name": "stdout",
     "output_type": "stream",
     "text": [
      "Cell-level prediction distribution (train):\n",
      "pred\n",
      "0    10019\n",
      "1     4768\n",
      "Name: count, dtype: int64\n",
      "Cell-level prediction distribution (test):\n",
      "pred\n",
      "0    2716\n",
      "1    1159\n",
      "Name: count, dtype: int64\n",
      "Evaluations\n",
      "---------- fold 2----------\n",
      "Split data\n",
      "Train classifier\n",
      "Training model (Majority Vote)\n",
      "Unique values in train label: [0 1]\n",
      "Unique values in test label: [0 1]\n",
      "Training model\n",
      "(4200, 2) (14462,)\n"
     ]
    },
    {
     "name": "stderr",
     "output_type": "stream",
     "text": [
      "/home/jupyter/scFM_eval/analyze_classification/train_utils.py:103: ImplicitModificationWarning: Trying to modify attribute `.obs` of view, initializing view as actual.\n",
      "  adata_test.obs['pred'] = model.predict(X_test)\n",
      "/home/jupyter/scFM_eval/analyze_classification/train_utils.py:108: ImplicitModificationWarning: Trying to modify attribute `.obs` of view, initializing view as actual.\n",
      "  adata_train.obs['pred'] = model.predict(X)\n"
     ]
    },
    {
     "name": "stdout",
     "output_type": "stream",
     "text": [
      "Cell-level prediction distribution (train):\n",
      "pred\n",
      "0    9439\n",
      "1    5023\n",
      "Name: count, dtype: int64\n",
      "Cell-level prediction distribution (test):\n",
      "pred\n",
      "0    3258\n",
      "1     942\n",
      "Name: count, dtype: int64\n",
      "Evaluations\n",
      "---------- fold 3----------\n",
      "Split data\n",
      "Train classifier\n",
      "Training model (Majority Vote)\n",
      "Unique values in train label: [0 1]\n",
      "Unique values in test label: [0 1]\n",
      "Training model\n",
      "(4216, 2) (14446,)\n"
     ]
    },
    {
     "name": "stderr",
     "output_type": "stream",
     "text": [
      "/home/jupyter/scFM_eval/analyze_classification/train_utils.py:103: ImplicitModificationWarning: Trying to modify attribute `.obs` of view, initializing view as actual.\n",
      "  adata_test.obs['pred'] = model.predict(X_test)\n",
      "/home/jupyter/scFM_eval/analyze_classification/train_utils.py:108: ImplicitModificationWarning: Trying to modify attribute `.obs` of view, initializing view as actual.\n",
      "  adata_train.obs['pred'] = model.predict(X)\n"
     ]
    },
    {
     "name": "stdout",
     "output_type": "stream",
     "text": [
      "Cell-level prediction distribution (train):\n",
      "pred\n",
      "0    11005\n",
      "1     3441\n",
      "Name: count, dtype: int64\n",
      "Cell-level prediction distribution (test):\n",
      "pred\n",
      "0    2946\n",
      "1    1270\n",
      "Name: count, dtype: int64\n",
      "Evaluations\n",
      "---------- fold 4----------\n",
      "Split data\n",
      "Train classifier\n",
      "Training model (Majority Vote)\n",
      "Unique values in train label: [0 1]\n",
      "Unique values in test label: [0 1]\n",
      "Training model\n",
      "(2285, 2) (16377,)\n"
     ]
    },
    {
     "name": "stderr",
     "output_type": "stream",
     "text": [
      "/home/jupyter/scFM_eval/analyze_classification/train_utils.py:103: ImplicitModificationWarning: Trying to modify attribute `.obs` of view, initializing view as actual.\n",
      "  adata_test.obs['pred'] = model.predict(X_test)\n",
      "/home/jupyter/scFM_eval/analyze_classification/train_utils.py:108: ImplicitModificationWarning: Trying to modify attribute `.obs` of view, initializing view as actual.\n",
      "  adata_train.obs['pred'] = model.predict(X)\n"
     ]
    },
    {
     "name": "stdout",
     "output_type": "stream",
     "text": [
      "Cell-level prediction distribution (train):\n",
      "pred\n",
      "0    11013\n",
      "1     5364\n",
      "Name: count, dtype: int64\n",
      "Cell-level prediction distribution (test):\n",
      "pred\n",
      "0    1767\n",
      "1     518\n",
      "Name: count, dtype: int64\n",
      "Evaluations\n",
      "---------- fold 5----------\n",
      "Split data\n",
      "Train classifier\n",
      "Training model (Majority Vote)\n",
      "Unique values in train label: [0 1]\n",
      "Unique values in test label: [0 1]\n",
      "Training model\n",
      "(4086, 2) (14576,)\n"
     ]
    },
    {
     "name": "stderr",
     "output_type": "stream",
     "text": [
      "/home/jupyter/scFM_eval/analyze_classification/train_utils.py:103: ImplicitModificationWarning: Trying to modify attribute `.obs` of view, initializing view as actual.\n",
      "  adata_test.obs['pred'] = model.predict(X_test)\n",
      "/home/jupyter/scFM_eval/analyze_classification/train_utils.py:108: ImplicitModificationWarning: Trying to modify attribute `.obs` of view, initializing view as actual.\n",
      "  adata_train.obs['pred'] = model.predict(X)\n"
     ]
    },
    {
     "name": "stdout",
     "output_type": "stream",
     "text": [
      "Cell-level prediction distribution (train):\n",
      "pred\n",
      "0    10176\n",
      "1     4400\n",
      "Name: count, dtype: int64\n",
      "Cell-level prediction distribution (test):\n",
      "pred\n",
      "0    2582\n",
      "1    1504\n",
      "Name: count, dtype: int64\n",
      "Evaluations\n",
      "./outcomes/chemo\n",
      "cellplm\n",
      "---------- fold 1----------\n",
      "Split data\n",
      "Train classifier\n",
      "Training model (Majority Vote)\n",
      "Unique values in train label: [0 1]\n",
      "Unique values in test label: [0 1]\n",
      "Training model\n",
      "(3875, 2) (14787,)\n"
     ]
    },
    {
     "name": "stderr",
     "output_type": "stream",
     "text": [
      "/home/jupyter/scFM_eval/analyze_classification/train_utils.py:103: ImplicitModificationWarning: Trying to modify attribute `.obs` of view, initializing view as actual.\n",
      "  adata_test.obs['pred'] = model.predict(X_test)\n",
      "/home/jupyter/scFM_eval/analyze_classification/train_utils.py:108: ImplicitModificationWarning: Trying to modify attribute `.obs` of view, initializing view as actual.\n",
      "  adata_train.obs['pred'] = model.predict(X)\n"
     ]
    },
    {
     "name": "stdout",
     "output_type": "stream",
     "text": [
      "Cell-level prediction distribution (train):\n",
      "pred\n",
      "0    9308\n",
      "1    5479\n",
      "Name: count, dtype: int64\n",
      "Cell-level prediction distribution (test):\n",
      "pred\n",
      "0    2966\n",
      "1     909\n",
      "Name: count, dtype: int64\n",
      "Evaluations\n",
      "---------- fold 2----------\n",
      "Split data\n",
      "Train classifier\n",
      "Training model (Majority Vote)\n",
      "Unique values in train label: [0 1]\n",
      "Unique values in test label: [0 1]\n",
      "Training model\n",
      "(4200, 2) (14462,)\n"
     ]
    },
    {
     "name": "stderr",
     "output_type": "stream",
     "text": [
      "/home/jupyter/scFM_eval/analyze_classification/train_utils.py:103: ImplicitModificationWarning: Trying to modify attribute `.obs` of view, initializing view as actual.\n",
      "  adata_test.obs['pred'] = model.predict(X_test)\n",
      "/home/jupyter/scFM_eval/analyze_classification/train_utils.py:108: ImplicitModificationWarning: Trying to modify attribute `.obs` of view, initializing view as actual.\n",
      "  adata_train.obs['pred'] = model.predict(X)\n"
     ]
    },
    {
     "name": "stdout",
     "output_type": "stream",
     "text": [
      "Cell-level prediction distribution (train):\n",
      "pred\n",
      "0    8738\n",
      "1    5724\n",
      "Name: count, dtype: int64\n",
      "Cell-level prediction distribution (test):\n",
      "pred\n",
      "0    2214\n",
      "1    1986\n",
      "Name: count, dtype: int64\n",
      "Evaluations\n",
      "---------- fold 3----------\n",
      "Split data\n",
      "Train classifier\n",
      "Training model (Majority Vote)\n",
      "Unique values in train label: [0 1]\n",
      "Unique values in test label: [0 1]\n",
      "Training model\n",
      "(4216, 2) (14446,)\n"
     ]
    },
    {
     "name": "stderr",
     "output_type": "stream",
     "text": [
      "/home/jupyter/scFM_eval/analyze_classification/train_utils.py:103: ImplicitModificationWarning: Trying to modify attribute `.obs` of view, initializing view as actual.\n",
      "  adata_test.obs['pred'] = model.predict(X_test)\n",
      "/home/jupyter/scFM_eval/analyze_classification/train_utils.py:108: ImplicitModificationWarning: Trying to modify attribute `.obs` of view, initializing view as actual.\n",
      "  adata_train.obs['pred'] = model.predict(X)\n"
     ]
    },
    {
     "name": "stdout",
     "output_type": "stream",
     "text": [
      "Cell-level prediction distribution (train):\n",
      "pred\n",
      "0    11304\n",
      "1     3142\n",
      "Name: count, dtype: int64\n",
      "Cell-level prediction distribution (test):\n",
      "pred\n",
      "0    2938\n",
      "1    1278\n",
      "Name: count, dtype: int64\n",
      "Evaluations\n",
      "---------- fold 4----------\n",
      "Split data\n",
      "Train classifier\n",
      "Training model (Majority Vote)\n",
      "Unique values in train label: [0 1]\n",
      "Unique values in test label: [0 1]\n",
      "Training model\n",
      "(2285, 2) (16377,)\n"
     ]
    },
    {
     "name": "stderr",
     "output_type": "stream",
     "text": [
      "/home/jupyter/scFM_eval/analyze_classification/train_utils.py:103: ImplicitModificationWarning: Trying to modify attribute `.obs` of view, initializing view as actual.\n",
      "  adata_test.obs['pred'] = model.predict(X_test)\n",
      "/home/jupyter/scFM_eval/analyze_classification/train_utils.py:108: ImplicitModificationWarning: Trying to modify attribute `.obs` of view, initializing view as actual.\n",
      "  adata_train.obs['pred'] = model.predict(X)\n"
     ]
    },
    {
     "name": "stdout",
     "output_type": "stream",
     "text": [
      "Cell-level prediction distribution (train):\n",
      "pred\n",
      "0    10548\n",
      "1     5829\n",
      "Name: count, dtype: int64\n",
      "Cell-level prediction distribution (test):\n",
      "pred\n",
      "0    1704\n",
      "1     581\n",
      "Name: count, dtype: int64\n",
      "Evaluations\n",
      "---------- fold 5----------\n",
      "Split data\n",
      "Train classifier\n",
      "Training model (Majority Vote)\n",
      "Unique values in train label: [0 1]\n",
      "Unique values in test label: [0 1]\n",
      "Training model\n",
      "(4086, 2) (14576,)\n"
     ]
    },
    {
     "name": "stderr",
     "output_type": "stream",
     "text": [
      "/home/jupyter/scFM_eval/analyze_classification/train_utils.py:103: ImplicitModificationWarning: Trying to modify attribute `.obs` of view, initializing view as actual.\n",
      "  adata_test.obs['pred'] = model.predict(X_test)\n",
      "/home/jupyter/scFM_eval/analyze_classification/train_utils.py:108: ImplicitModificationWarning: Trying to modify attribute `.obs` of view, initializing view as actual.\n",
      "  adata_train.obs['pred'] = model.predict(X)\n"
     ]
    },
    {
     "name": "stdout",
     "output_type": "stream",
     "text": [
      "Cell-level prediction distribution (train):\n",
      "pred\n",
      "0    10735\n",
      "1     3841\n",
      "Name: count, dtype: int64\n",
      "Cell-level prediction distribution (test):\n",
      "pred\n",
      "0    3165\n",
      "1     921\n",
      "Name: count, dtype: int64\n",
      "Evaluations\n",
      "./outcomes/chemo\n",
      "Geneformer-V2-104M\n"
     ]
    }
   ],
   "source": [
    "metrics_test_list= [] \n",
    "for m in model_names:\n",
    "    embedding_col = get_embd_key(m)\n",
    "    adata = load_data(base_dir,m)\n",
    "    adata = prepare_data(adata, id_column)\n",
    "    \n",
    "    pred_train_df, pred_test_df, metrics_train_df, metrics_test_df = run_cv(adata, __train_vote,  cv_split_dict, embedding_col)\n",
    "    save_results(pred_train_df, pred_test_df, metrics_train_df, metrics_test_df, saving_dir, model_name=m, prefix='vote')\n",
    "    dd = metrics_test_df.mean(numeric_only=True)\n",
    "    metrics_test_list.append(dd)\n",
    "    \n",
    "results = pd.DataFrame(metrics_test_list, index = model_names)\n",
    "results.to_csv(join(saving_dir, 'vote_metrics_test.csv' ))"
   ]
  },
  {
   "cell_type": "code",
   "execution_count": 77,
   "id": "a17d7210-959c-493a-86a4-92388dc30e2b",
   "metadata": {
    "tags": []
   },
   "outputs": [
    {
     "name": "stdout",
     "output_type": "stream",
     "text": [
      "---------- fold 1----------\n",
      "Split data\n",
      "Train classifier\n",
      "Training model (Average Embedding Per Sample)\n"
     ]
    },
    {
     "name": "stderr",
     "output_type": "stream",
     "text": [
      "/home/jupyter/scFM_eval/analyze_classification/train_utils.py:178: FutureWarning: The default of observed=False is deprecated and will be changed to True in a future version of pandas. Pass observed=False to retain current behavior or observed=True to adopt the future default and silence this warning.\n",
      "  mean_emb = df_emb.groupby(df_emb.index).mean()\n",
      "/home/jupyter/scFM_eval/analyze_classification/train_utils.py:178: FutureWarning: The default of observed=False is deprecated and will be changed to True in a future version of pandas. Pass observed=False to retain current behavior or observed=True to adopt the future default and silence this warning.\n",
      "  mean_emb = df_emb.groupby(df_emb.index).mean()\n"
     ]
    },
    {
     "name": "stdout",
     "output_type": "stream",
     "text": [
      "Unique values in train label: [0 1]\n",
      "Unique values in test label: [0 1]\n",
      "(8, 2) (31,)\n",
      "Evaluations\n",
      "---------- fold 2----------\n",
      "Split data\n",
      "Train classifier\n",
      "Training model (Average Embedding Per Sample)\n"
     ]
    },
    {
     "name": "stderr",
     "output_type": "stream",
     "text": [
      "/home/jupyter/scFM_eval/analyze_classification/train_utils.py:178: FutureWarning: The default of observed=False is deprecated and will be changed to True in a future version of pandas. Pass observed=False to retain current behavior or observed=True to adopt the future default and silence this warning.\n",
      "  mean_emb = df_emb.groupby(df_emb.index).mean()\n",
      "/home/jupyter/scFM_eval/analyze_classification/train_utils.py:178: FutureWarning: The default of observed=False is deprecated and will be changed to True in a future version of pandas. Pass observed=False to retain current behavior or observed=True to adopt the future default and silence this warning.\n",
      "  mean_emb = df_emb.groupby(df_emb.index).mean()\n"
     ]
    },
    {
     "name": "stdout",
     "output_type": "stream",
     "text": [
      "Unique values in train label: [0 1]\n",
      "Unique values in test label: [0 1]\n",
      "(8, 2) (31,)\n",
      "Evaluations\n",
      "---------- fold 3----------\n",
      "Split data\n",
      "Train classifier\n",
      "Training model (Average Embedding Per Sample)\n"
     ]
    },
    {
     "name": "stderr",
     "output_type": "stream",
     "text": [
      "/home/jupyter/scFM_eval/analyze_classification/train_utils.py:178: FutureWarning: The default of observed=False is deprecated and will be changed to True in a future version of pandas. Pass observed=False to retain current behavior or observed=True to adopt the future default and silence this warning.\n",
      "  mean_emb = df_emb.groupby(df_emb.index).mean()\n",
      "/home/jupyter/scFM_eval/analyze_classification/train_utils.py:178: FutureWarning: The default of observed=False is deprecated and will be changed to True in a future version of pandas. Pass observed=False to retain current behavior or observed=True to adopt the future default and silence this warning.\n",
      "  mean_emb = df_emb.groupby(df_emb.index).mean()\n"
     ]
    },
    {
     "name": "stdout",
     "output_type": "stream",
     "text": [
      "Unique values in train label: [0 1]\n",
      "Unique values in test label: [0 1]\n",
      "(8, 2) (31,)\n",
      "Evaluations\n",
      "---------- fold 4----------\n",
      "Split data\n",
      "Train classifier\n",
      "Training model (Average Embedding Per Sample)\n"
     ]
    },
    {
     "name": "stderr",
     "output_type": "stream",
     "text": [
      "/home/jupyter/scFM_eval/analyze_classification/train_utils.py:178: FutureWarning: The default of observed=False is deprecated and will be changed to True in a future version of pandas. Pass observed=False to retain current behavior or observed=True to adopt the future default and silence this warning.\n",
      "  mean_emb = df_emb.groupby(df_emb.index).mean()\n",
      "/home/jupyter/scFM_eval/analyze_classification/train_utils.py:178: FutureWarning: The default of observed=False is deprecated and will be changed to True in a future version of pandas. Pass observed=False to retain current behavior or observed=True to adopt the future default and silence this warning.\n",
      "  mean_emb = df_emb.groupby(df_emb.index).mean()\n"
     ]
    },
    {
     "name": "stdout",
     "output_type": "stream",
     "text": [
      "Unique values in train label: [0 1]\n",
      "Unique values in test label: [0 1]\n",
      "(8, 2) (31,)\n",
      "Evaluations\n",
      "---------- fold 5----------\n",
      "Split data\n",
      "Train classifier\n",
      "Training model (Average Embedding Per Sample)\n"
     ]
    },
    {
     "name": "stderr",
     "output_type": "stream",
     "text": [
      "/home/jupyter/scFM_eval/analyze_classification/train_utils.py:178: FutureWarning: The default of observed=False is deprecated and will be changed to True in a future version of pandas. Pass observed=False to retain current behavior or observed=True to adopt the future default and silence this warning.\n",
      "  mean_emb = df_emb.groupby(df_emb.index).mean()\n",
      "/home/jupyter/scFM_eval/analyze_classification/train_utils.py:178: FutureWarning: The default of observed=False is deprecated and will be changed to True in a future version of pandas. Pass observed=False to retain current behavior or observed=True to adopt the future default and silence this warning.\n",
      "  mean_emb = df_emb.groupby(df_emb.index).mean()\n"
     ]
    },
    {
     "name": "stdout",
     "output_type": "stream",
     "text": [
      "Unique values in train label: [0 1]\n",
      "Unique values in test label: [0 1]\n",
      "(7, 2) (32,)\n",
      "Evaluations\n",
      "./outcomes/chemo\n",
      "scfoundation\n",
      "---------- fold 1----------\n",
      "Split data\n",
      "Train classifier\n",
      "Training model (Average Embedding Per Sample)\n"
     ]
    },
    {
     "name": "stderr",
     "output_type": "stream",
     "text": [
      "/home/jupyter/scFM_eval/analyze_classification/train_utils.py:178: FutureWarning: The default of observed=False is deprecated and will be changed to True in a future version of pandas. Pass observed=False to retain current behavior or observed=True to adopt the future default and silence this warning.\n",
      "  mean_emb = df_emb.groupby(df_emb.index).mean()\n",
      "/home/jupyter/scFM_eval/analyze_classification/train_utils.py:178: FutureWarning: The default of observed=False is deprecated and will be changed to True in a future version of pandas. Pass observed=False to retain current behavior or observed=True to adopt the future default and silence this warning.\n",
      "  mean_emb = df_emb.groupby(df_emb.index).mean()\n"
     ]
    },
    {
     "name": "stdout",
     "output_type": "stream",
     "text": [
      "Unique values in train label: [0 1]\n",
      "Unique values in test label: [0 1]\n",
      "(8, 2) (31,)\n",
      "Evaluations\n",
      "---------- fold 2----------\n",
      "Split data\n",
      "Train classifier\n",
      "Training model (Average Embedding Per Sample)\n"
     ]
    },
    {
     "name": "stderr",
     "output_type": "stream",
     "text": [
      "/home/jupyter/scFM_eval/analyze_classification/train_utils.py:178: FutureWarning: The default of observed=False is deprecated and will be changed to True in a future version of pandas. Pass observed=False to retain current behavior or observed=True to adopt the future default and silence this warning.\n",
      "  mean_emb = df_emb.groupby(df_emb.index).mean()\n",
      "/home/jupyter/scFM_eval/analyze_classification/train_utils.py:178: FutureWarning: The default of observed=False is deprecated and will be changed to True in a future version of pandas. Pass observed=False to retain current behavior or observed=True to adopt the future default and silence this warning.\n",
      "  mean_emb = df_emb.groupby(df_emb.index).mean()\n"
     ]
    },
    {
     "name": "stdout",
     "output_type": "stream",
     "text": [
      "Unique values in train label: [0 1]\n",
      "Unique values in test label: [0 1]\n",
      "(8, 2) (31,)\n",
      "Evaluations\n",
      "---------- fold 3----------\n",
      "Split data\n",
      "Train classifier\n",
      "Training model (Average Embedding Per Sample)\n",
      "Unique values in train label: [0 1]\n",
      "Unique values in test label: [0 1]\n",
      "(8, 2) (31,)\n",
      "Evaluations\n",
      "---------- fold 4----------\n",
      "Split data\n"
     ]
    },
    {
     "name": "stderr",
     "output_type": "stream",
     "text": [
      "/home/jupyter/scFM_eval/analyze_classification/train_utils.py:178: FutureWarning: The default of observed=False is deprecated and will be changed to True in a future version of pandas. Pass observed=False to retain current behavior or observed=True to adopt the future default and silence this warning.\n",
      "  mean_emb = df_emb.groupby(df_emb.index).mean()\n",
      "/home/jupyter/scFM_eval/analyze_classification/train_utils.py:178: FutureWarning: The default of observed=False is deprecated and will be changed to True in a future version of pandas. Pass observed=False to retain current behavior or observed=True to adopt the future default and silence this warning.\n",
      "  mean_emb = df_emb.groupby(df_emb.index).mean()\n"
     ]
    },
    {
     "name": "stdout",
     "output_type": "stream",
     "text": [
      "Train classifier\n",
      "Training model (Average Embedding Per Sample)\n",
      "Unique values in train label: [0 1]\n",
      "Unique values in test label: [0 1]\n",
      "(8, 2) (31,)\n",
      "Evaluations\n",
      "---------- fold 5----------\n",
      "Split data\n"
     ]
    },
    {
     "name": "stderr",
     "output_type": "stream",
     "text": [
      "/home/jupyter/scFM_eval/analyze_classification/train_utils.py:178: FutureWarning: The default of observed=False is deprecated and will be changed to True in a future version of pandas. Pass observed=False to retain current behavior or observed=True to adopt the future default and silence this warning.\n",
      "  mean_emb = df_emb.groupby(df_emb.index).mean()\n",
      "/home/jupyter/scFM_eval/analyze_classification/train_utils.py:178: FutureWarning: The default of observed=False is deprecated and will be changed to True in a future version of pandas. Pass observed=False to retain current behavior or observed=True to adopt the future default and silence this warning.\n",
      "  mean_emb = df_emb.groupby(df_emb.index).mean()\n"
     ]
    },
    {
     "name": "stdout",
     "output_type": "stream",
     "text": [
      "Train classifier\n",
      "Training model (Average Embedding Per Sample)\n",
      "Unique values in train label: [0 1]\n",
      "Unique values in test label: [0 1]\n",
      "(7, 2) (32,)\n",
      "Evaluations\n"
     ]
    },
    {
     "name": "stderr",
     "output_type": "stream",
     "text": [
      "/home/jupyter/scFM_eval/analyze_classification/train_utils.py:178: FutureWarning: The default of observed=False is deprecated and will be changed to True in a future version of pandas. Pass observed=False to retain current behavior or observed=True to adopt the future default and silence this warning.\n",
      "  mean_emb = df_emb.groupby(df_emb.index).mean()\n",
      "/home/jupyter/scFM_eval/analyze_classification/train_utils.py:178: FutureWarning: The default of observed=False is deprecated and will be changed to True in a future version of pandas. Pass observed=False to retain current behavior or observed=True to adopt the future default and silence this warning.\n",
      "  mean_emb = df_emb.groupby(df_emb.index).mean()\n"
     ]
    },
    {
     "name": "stdout",
     "output_type": "stream",
     "text": [
      "./outcomes/chemo\n",
      "scimilarity\n",
      "---------- fold 1----------\n",
      "Split data\n",
      "Train classifier\n",
      "Training model (Average Embedding Per Sample)\n",
      "Unique values in train label: [0 1]\n",
      "Unique values in test label: [0 1]\n"
     ]
    },
    {
     "name": "stderr",
     "output_type": "stream",
     "text": [
      "/home/jupyter/scFM_eval/analyze_classification/train_utils.py:178: FutureWarning: The default of observed=False is deprecated and will be changed to True in a future version of pandas. Pass observed=False to retain current behavior or observed=True to adopt the future default and silence this warning.\n",
      "  mean_emb = df_emb.groupby(df_emb.index).mean()\n",
      "/home/jupyter/scFM_eval/analyze_classification/train_utils.py:178: FutureWarning: The default of observed=False is deprecated and will be changed to True in a future version of pandas. Pass observed=False to retain current behavior or observed=True to adopt the future default and silence this warning.\n",
      "  mean_emb = df_emb.groupby(df_emb.index).mean()\n"
     ]
    },
    {
     "name": "stdout",
     "output_type": "stream",
     "text": [
      "(8, 2) (31,)\n",
      "Evaluations\n",
      "---------- fold 2----------\n",
      "Split data\n",
      "Train classifier\n",
      "Training model (Average Embedding Per Sample)\n",
      "Unique values in train label: [0 1]\n",
      "Unique values in test label: [0 1]\n"
     ]
    },
    {
     "name": "stderr",
     "output_type": "stream",
     "text": [
      "/home/jupyter/scFM_eval/analyze_classification/train_utils.py:178: FutureWarning: The default of observed=False is deprecated and will be changed to True in a future version of pandas. Pass observed=False to retain current behavior or observed=True to adopt the future default and silence this warning.\n",
      "  mean_emb = df_emb.groupby(df_emb.index).mean()\n",
      "/home/jupyter/scFM_eval/analyze_classification/train_utils.py:178: FutureWarning: The default of observed=False is deprecated and will be changed to True in a future version of pandas. Pass observed=False to retain current behavior or observed=True to adopt the future default and silence this warning.\n",
      "  mean_emb = df_emb.groupby(df_emb.index).mean()\n"
     ]
    },
    {
     "name": "stdout",
     "output_type": "stream",
     "text": [
      "(8, 2) (31,)\n",
      "Evaluations\n",
      "---------- fold 3----------\n",
      "Split data\n",
      "Train classifier\n",
      "Training model (Average Embedding Per Sample)\n",
      "Unique values in train label: [0 1]\n",
      "Unique values in test label: [0 1]\n"
     ]
    },
    {
     "name": "stderr",
     "output_type": "stream",
     "text": [
      "/home/jupyter/scFM_eval/analyze_classification/train_utils.py:178: FutureWarning: The default of observed=False is deprecated and will be changed to True in a future version of pandas. Pass observed=False to retain current behavior or observed=True to adopt the future default and silence this warning.\n",
      "  mean_emb = df_emb.groupby(df_emb.index).mean()\n",
      "/home/jupyter/scFM_eval/analyze_classification/train_utils.py:178: FutureWarning: The default of observed=False is deprecated and will be changed to True in a future version of pandas. Pass observed=False to retain current behavior or observed=True to adopt the future default and silence this warning.\n",
      "  mean_emb = df_emb.groupby(df_emb.index).mean()\n"
     ]
    },
    {
     "name": "stdout",
     "output_type": "stream",
     "text": [
      "(8, 2) (31,)\n",
      "Evaluations\n",
      "---------- fold 4----------\n",
      "Split data\n",
      "Train classifier\n",
      "Training model (Average Embedding Per Sample)\n",
      "Unique values in train label: [0 1]\n",
      "Unique values in test label: [0 1]\n"
     ]
    },
    {
     "name": "stderr",
     "output_type": "stream",
     "text": [
      "/home/jupyter/scFM_eval/analyze_classification/train_utils.py:178: FutureWarning: The default of observed=False is deprecated and will be changed to True in a future version of pandas. Pass observed=False to retain current behavior or observed=True to adopt the future default and silence this warning.\n",
      "  mean_emb = df_emb.groupby(df_emb.index).mean()\n",
      "/home/jupyter/scFM_eval/analyze_classification/train_utils.py:178: FutureWarning: The default of observed=False is deprecated and will be changed to True in a future version of pandas. Pass observed=False to retain current behavior or observed=True to adopt the future default and silence this warning.\n",
      "  mean_emb = df_emb.groupby(df_emb.index).mean()\n"
     ]
    },
    {
     "name": "stdout",
     "output_type": "stream",
     "text": [
      "(8, 2) (31,)\n",
      "Evaluations\n",
      "---------- fold 5----------\n",
      "Split data\n",
      "Train classifier\n",
      "Training model (Average Embedding Per Sample)\n",
      "Unique values in train label: [0 1]\n",
      "Unique values in test label: [0 1]\n"
     ]
    },
    {
     "name": "stderr",
     "output_type": "stream",
     "text": [
      "/home/jupyter/scFM_eval/analyze_classification/train_utils.py:178: FutureWarning: The default of observed=False is deprecated and will be changed to True in a future version of pandas. Pass observed=False to retain current behavior or observed=True to adopt the future default and silence this warning.\n",
      "  mean_emb = df_emb.groupby(df_emb.index).mean()\n",
      "/home/jupyter/scFM_eval/analyze_classification/train_utils.py:178: FutureWarning: The default of observed=False is deprecated and will be changed to True in a future version of pandas. Pass observed=False to retain current behavior or observed=True to adopt the future default and silence this warning.\n",
      "  mean_emb = df_emb.groupby(df_emb.index).mean()\n"
     ]
    },
    {
     "name": "stdout",
     "output_type": "stream",
     "text": [
      "(7, 2) (32,)\n",
      "Evaluations\n",
      "./outcomes/chemo\n",
      "cellplm\n",
      "---------- fold 1----------\n",
      "Split data\n",
      "Train classifier\n",
      "Training model (Average Embedding Per Sample)\n",
      "Unique values in train label: [0 1]\n",
      "Unique values in test label: [0 1]\n"
     ]
    },
    {
     "name": "stderr",
     "output_type": "stream",
     "text": [
      "/home/jupyter/scFM_eval/analyze_classification/train_utils.py:178: FutureWarning: The default of observed=False is deprecated and will be changed to True in a future version of pandas. Pass observed=False to retain current behavior or observed=True to adopt the future default and silence this warning.\n",
      "  mean_emb = df_emb.groupby(df_emb.index).mean()\n",
      "/home/jupyter/scFM_eval/analyze_classification/train_utils.py:178: FutureWarning: The default of observed=False is deprecated and will be changed to True in a future version of pandas. Pass observed=False to retain current behavior or observed=True to adopt the future default and silence this warning.\n",
      "  mean_emb = df_emb.groupby(df_emb.index).mean()\n"
     ]
    },
    {
     "name": "stdout",
     "output_type": "stream",
     "text": [
      "(8, 2) (31,)\n",
      "Evaluations\n",
      "---------- fold 2----------\n",
      "Split data\n",
      "Train classifier\n",
      "Training model (Average Embedding Per Sample)\n",
      "Unique values in train label: [0 1]\n",
      "Unique values in test label: [0 1]\n"
     ]
    },
    {
     "name": "stderr",
     "output_type": "stream",
     "text": [
      "/home/jupyter/scFM_eval/analyze_classification/train_utils.py:178: FutureWarning: The default of observed=False is deprecated and will be changed to True in a future version of pandas. Pass observed=False to retain current behavior or observed=True to adopt the future default and silence this warning.\n",
      "  mean_emb = df_emb.groupby(df_emb.index).mean()\n",
      "/home/jupyter/scFM_eval/analyze_classification/train_utils.py:178: FutureWarning: The default of observed=False is deprecated and will be changed to True in a future version of pandas. Pass observed=False to retain current behavior or observed=True to adopt the future default and silence this warning.\n",
      "  mean_emb = df_emb.groupby(df_emb.index).mean()\n"
     ]
    },
    {
     "name": "stdout",
     "output_type": "stream",
     "text": [
      "(8, 2) (31,)\n",
      "Evaluations\n",
      "---------- fold 3----------\n",
      "Split data\n",
      "Train classifier\n",
      "Training model (Average Embedding Per Sample)\n",
      "Unique values in train label: [0 1]\n",
      "Unique values in test label: [0 1]\n"
     ]
    },
    {
     "name": "stderr",
     "output_type": "stream",
     "text": [
      "/home/jupyter/scFM_eval/analyze_classification/train_utils.py:178: FutureWarning: The default of observed=False is deprecated and will be changed to True in a future version of pandas. Pass observed=False to retain current behavior or observed=True to adopt the future default and silence this warning.\n",
      "  mean_emb = df_emb.groupby(df_emb.index).mean()\n",
      "/home/jupyter/scFM_eval/analyze_classification/train_utils.py:178: FutureWarning: The default of observed=False is deprecated and will be changed to True in a future version of pandas. Pass observed=False to retain current behavior or observed=True to adopt the future default and silence this warning.\n",
      "  mean_emb = df_emb.groupby(df_emb.index).mean()\n"
     ]
    },
    {
     "name": "stdout",
     "output_type": "stream",
     "text": [
      "(8, 2) (31,)\n",
      "Evaluations\n",
      "---------- fold 4----------\n",
      "Split data\n",
      "Train classifier\n",
      "Training model (Average Embedding Per Sample)\n",
      "Unique values in train label: [0 1]\n",
      "Unique values in test label: [0 1]\n"
     ]
    },
    {
     "name": "stderr",
     "output_type": "stream",
     "text": [
      "/home/jupyter/scFM_eval/analyze_classification/train_utils.py:178: FutureWarning: The default of observed=False is deprecated and will be changed to True in a future version of pandas. Pass observed=False to retain current behavior or observed=True to adopt the future default and silence this warning.\n",
      "  mean_emb = df_emb.groupby(df_emb.index).mean()\n",
      "/home/jupyter/scFM_eval/analyze_classification/train_utils.py:178: FutureWarning: The default of observed=False is deprecated and will be changed to True in a future version of pandas. Pass observed=False to retain current behavior or observed=True to adopt the future default and silence this warning.\n",
      "  mean_emb = df_emb.groupby(df_emb.index).mean()\n"
     ]
    },
    {
     "name": "stdout",
     "output_type": "stream",
     "text": [
      "(8, 2) (31,)\n",
      "Evaluations\n",
      "---------- fold 5----------\n",
      "Split data\n",
      "Train classifier\n",
      "Training model (Average Embedding Per Sample)\n",
      "Unique values in train label: [0 1]\n",
      "Unique values in test label: [0 1]\n"
     ]
    },
    {
     "name": "stderr",
     "output_type": "stream",
     "text": [
      "/home/jupyter/scFM_eval/analyze_classification/train_utils.py:178: FutureWarning: The default of observed=False is deprecated and will be changed to True in a future version of pandas. Pass observed=False to retain current behavior or observed=True to adopt the future default and silence this warning.\n",
      "  mean_emb = df_emb.groupby(df_emb.index).mean()\n",
      "/home/jupyter/scFM_eval/analyze_classification/train_utils.py:178: FutureWarning: The default of observed=False is deprecated and will be changed to True in a future version of pandas. Pass observed=False to retain current behavior or observed=True to adopt the future default and silence this warning.\n",
      "  mean_emb = df_emb.groupby(df_emb.index).mean()\n"
     ]
    },
    {
     "name": "stdout",
     "output_type": "stream",
     "text": [
      "(7, 2) (32,)\n",
      "Evaluations\n",
      "./outcomes/chemo\n",
      "Geneformer-V2-104M\n"
     ]
    }
   ],
   "source": [
    "metrics_test_list= [] \n",
    "for m in model_names:\n",
    "    embedding_col = get_embd_key(m)\n",
    "    adata = load_data(base_dir,m)\n",
    "    adata = prepare_data(adata, id_column)\n",
    "\n",
    "    pred_train_df, pred_test_df, metrics_train_df, metrics_test_df = run_cv(adata, __train_avg_expression,  cv_split_dict, embedding_col)\n",
    "    save_results(pred_train_df, pred_test_df, metrics_train_df, metrics_test_df, saving_dir, model_name=m, prefix='avg')\n",
    "    dd = metrics_test_df.mean(numeric_only=True)\n",
    "    metrics_test_list.append(dd)\n",
    "\n",
    "results = pd.DataFrame(metrics_test_list, index = model_names)\n",
    "results.to_csv(join(saving_dir, 'avg_metrics_test.csv' ))"
   ]
  },
  {
   "cell_type": "code",
   "execution_count": null,
   "id": "48976a16-2572-4055-bf44-59c9a2ee650d",
   "metadata": {
    "tags": []
   },
   "outputs": [],
   "source": [
    "pd.DataFrame(metrics_test_list, index = model_names)"
   ]
  },
  {
   "cell_type": "code",
   "execution_count": null,
   "id": "7c55f373-dc40-461b-aa14-82ed57cf009d",
   "metadata": {
    "tags": []
   },
   "outputs": [],
   "source": [
    "pd.DataFrame(metrics_test_list, index = model_names)"
   ]
  },
  {
   "cell_type": "code",
   "execution_count": null,
   "id": "6049f0ff-0543-4511-8002-0889f862de84",
   "metadata": {
    "tags": []
   },
   "outputs": [],
   "source": [
    "pd.DataFrame(metrics_test_list, index = model_names)"
   ]
  },
  {
   "cell_type": "code",
   "execution_count": null,
   "id": "d4ff11b6-f198-45a4-a766-306fb52fdb2b",
   "metadata": {
    "tags": []
   },
   "outputs": [],
   "source": [
    "pd.DataFrame(metrics_test_list, index = model_names)"
   ]
  },
  {
   "cell_type": "code",
   "execution_count": null,
   "id": "e51d37ea-e30f-44b3-a6ab-843c5c77e755",
   "metadata": {
    "tags": []
   },
   "outputs": [],
   "source": [
    "pd.DataFrame(metrics_test_list, index = model_names)"
   ]
  },
  {
   "cell_type": "code",
   "execution_count": null,
   "id": "ff1fbb4d-a4d2-4686-950d-07d49a7b2ea0",
   "metadata": {
    "tags": []
   },
   "outputs": [],
   "source": [
    "pd.DataFrame(metrics_test_list, index = model_names).to_csv(join(saving_dir, 'vote_metrics_test.csv' ))"
   ]
  },
  {
   "cell_type": "code",
   "execution_count": null,
   "id": "2d895bc1-b4f0-49ec-a365-ad16c640dba5",
   "metadata": {
    "tags": []
   },
   "outputs": [],
   "source": [
    "pd.DataFrame(metrics_test_list, index = model_names)"
   ]
  },
  {
   "cell_type": "code",
   "execution_count": null,
   "id": "2a31ed60-f395-4ce9-97c6-53500bccc871",
   "metadata": {
    "tags": []
   },
   "outputs": [],
   "source": [
    "pd.DataFrame(metrics_test_list, index = model_names).to_csv(join(saving_dir, 'avg_metrics_test.csv' ))"
   ]
  },
  {
   "cell_type": "code",
   "execution_count": null,
   "id": "a45becfc-1af9-4e35-b268-8735c8e4124d",
   "metadata": {
    "tags": []
   },
   "outputs": [],
   "source": [
    "pd.DataFrame(metrics_test_list, index = model_names)"
   ]
  },
  {
   "cell_type": "code",
   "execution_count": null,
   "id": "5bd9c855-4bbb-4b83-8ced-44e2fde5133f",
   "metadata": {
    "tags": []
   },
   "outputs": [],
   "source": [
    "\n"
   ]
  },
  {
   "cell_type": "code",
   "execution_count": null,
   "id": "afa2354c-6f88-40db-a8e1-2a0e0ce8abd9",
   "metadata": {
    "tags": []
   },
   "outputs": [],
   "source": []
  },
  {
   "cell_type": "code",
   "execution_count": null,
   "id": "f7ddfc78-9ff4-41e3-8e9c-64d83a2336e3",
   "metadata": {},
   "outputs": [],
   "source": []
  },
  {
   "cell_type": "code",
   "execution_count": null,
   "id": "c97ad515-7815-4f68-a3a5-708033b35ece",
   "metadata": {
    "tags": []
   },
   "outputs": [],
   "source": [
    "\n",
    "    "
   ]
  },
  {
   "cell_type": "code",
   "execution_count": null,
   "id": "20b2cf10-bb3c-40c4-bbfd-7569d72e2f1b",
   "metadata": {
    "tags": []
   },
   "outputs": [],
   "source": [
    "\n",
    "    "
   ]
  },
  {
   "cell_type": "code",
   "execution_count": null,
   "id": "fcb8825e-3caa-4b3c-941f-67237db96af0",
   "metadata": {
    "tags": []
   },
   "outputs": [],
   "source": []
  },
  {
   "cell_type": "code",
   "execution_count": null,
   "id": "d3ba4f2c-8f8a-4b55-8102-2c9fa72b0df4",
   "metadata": {
    "tags": []
   },
   "outputs": [],
   "source": []
  },
  {
   "cell_type": "code",
   "execution_count": null,
   "id": "386a5338-3ad8-4a59-b471-82370f8c2f13",
   "metadata": {
    "tags": []
   },
   "outputs": [],
   "source": []
  },
  {
   "cell_type": "code",
   "execution_count": null,
   "id": "d91d42d4-4dc7-442f-b331-c909ce03ee05",
   "metadata": {
    "tags": []
   },
   "outputs": [],
   "source": []
  },
  {
   "cell_type": "code",
   "execution_count": null,
   "id": "85735100-2456-4486-a56b-db6785b033fa",
   "metadata": {
    "tags": []
   },
   "outputs": [],
   "source": []
  },
  {
   "cell_type": "code",
   "execution_count": null,
   "id": "8538bbff-04bb-426b-b51d-f7048cec4f11",
   "metadata": {
    "tags": []
   },
   "outputs": [],
   "source": []
  },
  {
   "cell_type": "code",
   "execution_count": null,
   "id": "c93879c6-8f70-45d4-91f4-f84bcb2549cf",
   "metadata": {
    "tags": []
   },
   "outputs": [],
   "source": [
    "%%time\n"
   ]
  },
  {
   "cell_type": "code",
   "execution_count": null,
   "id": "fc99aa81-bf0b-44e2-8eeb-a14a0cad304a",
   "metadata": {
    "tags": []
   },
   "outputs": [],
   "source": [
    "pred_train_df  = pd.concat(predictions_train, names=['fold']).reset_index(level=0)\n",
    "pred_train_df.to_csv(join(saving_dir, 'vote_pred_train.csv'))"
   ]
  },
  {
   "cell_type": "code",
   "execution_count": null,
   "id": "0bf04650-2da7-43ad-b89f-6317be899a8c",
   "metadata": {
    "tags": []
   },
   "outputs": [],
   "source": [
    "pred_train_df  = pd.concat(predictions_train, names=['fold']).reset_index(level=0)\n",
    "pred_train_df.to_csv(join(saving_dir, 'vote_pred_train.csv'))"
   ]
  },
  {
   "cell_type": "code",
   "execution_count": null,
   "id": "2b1e3b45-56b1-4a48-ac68-f355f9d7cf85",
   "metadata": {
    "tags": []
   },
   "outputs": [],
   "source": [
    "pd.DataFrame(metrics_test).mean(numeric_only=True)"
   ]
  },
  {
   "cell_type": "code",
   "execution_count": null,
   "id": "30071009-cc74-4c96-908a-4333c5077e7e",
   "metadata": {
    "tags": []
   },
   "outputs": [],
   "source": [
    "pd.DataFrame(metrics_test).to_csv(join(saving_dir, 'vote_metrics_test.csv'))"
   ]
  },
  {
   "cell_type": "code",
   "execution_count": null,
   "id": "3aef332a-43fb-496c-a44a-bc62ef47561f",
   "metadata": {
    "tags": []
   },
   "outputs": [],
   "source": [
    "pd.DataFrame(metrics_train).to_csv(join(saving_dir, 'vote_metrics_train.csv'))"
   ]
  },
  {
   "cell_type": "code",
   "execution_count": null,
   "id": "06f61fb3-59a3-4db6-9e8c-6a56d581291c",
   "metadata": {
    "tags": []
   },
   "outputs": [],
   "source": [
    "pd.DataFrame(metrics)['auprc'].mean()"
   ]
  },
  {
   "cell_type": "code",
   "execution_count": null,
   "id": "83558c45-ff8f-4637-9bb3-01a7de9b18ab",
   "metadata": {
    "tags": []
   },
   "outputs": [],
   "source": []
  },
  {
   "cell_type": "code",
   "execution_count": null,
   "id": "e9084960-6450-4507-8573-e7df615df4bd",
   "metadata": {
    "tags": []
   },
   "outputs": [],
   "source": [
    "pd.DataFrame(metrics)"
   ]
  },
  {
   "cell_type": "code",
   "execution_count": null,
   "id": "abf61b65-29b6-41be-a7b9-f47909797327",
   "metadata": {},
   "outputs": [],
   "source": []
  },
  {
   "cell_type": "code",
   "execution_count": null,
   "id": "34b3a83e-e962-4f27-87e3-fdb5719ffd84",
   "metadata": {
    "tags": []
   },
   "outputs": [],
   "source": [
    "pd.DataFrame(metrics)['auprc'].mean()"
   ]
  },
  {
   "cell_type": "markdown",
   "id": "6dabe289-a2b6-4042-8c79-8db22e5791eb",
   "metadata": {
    "tags": []
   },
   "source": [
    "## Subtype"
   ]
  },
  {
   "cell_type": "markdown",
   "id": "cc669262-6f2c-4145-9403-86461b8f7834",
   "metadata": {},
   "source": []
  },
  {
   "cell_type": "code",
   "execution_count": null,
   "id": "473414a6-1b43-495d-b1a3-33f6d8407118",
   "metadata": {
    "tags": []
   },
   "outputs": [],
   "source": [
    "adata.obs['cohort'].value_counts()"
   ]
  },
  {
   "cell_type": "code",
   "execution_count": null,
   "id": "e8cf2282-40cf-42a5-9931-e64fdb6bd2af",
   "metadata": {
    "tags": []
   },
   "outputs": [],
   "source": [
    "adata_subtype = adata[adata.obs['cohort'] == 'treatment_naive'].copy()\n"
   ]
  },
  {
   "cell_type": "code",
   "execution_count": null,
   "id": "21e651f3-8eac-41b1-a024-4163d0c24ecf",
   "metadata": {},
   "outputs": [],
   "source": [
    "adata_subtype.obs['timepoint'].value_counts()"
   ]
  },
  {
   "cell_type": "code",
   "execution_count": null,
   "id": "4eddfc5c-7d42-4a48-b229-32f497cdb4df",
   "metadata": {
    "tags": []
   },
   "outputs": [],
   "source": [
    "adata_subtype.obs['timepoint'].value_counts()"
   ]
  },
  {
   "cell_type": "code",
   "execution_count": null,
   "id": "c5c5450d-8dbf-4f7b-ae0d-ae248bc5292b",
   "metadata": {
    "tags": []
   },
   "outputs": [],
   "source": [
    "adata_subtype = adata_subtype[adata_subtype.obs['timepoint'] == 'Pre']\n"
   ]
  },
  {
   "cell_type": "code",
   "execution_count": null,
   "id": "18cc30fa-f14c-4485-965d-bae317c79b5b",
   "metadata": {},
   "outputs": [],
   "source": []
  },
  {
   "cell_type": "code",
   "execution_count": null,
   "id": "f067707e-4922-462e-ade6-fe0af921dbc9",
   "metadata": {},
   "outputs": [],
   "source": []
  },
  {
   "cell_type": "code",
   "execution_count": null,
   "id": "3e92ed76-409a-42aa-9835-f29b1c7f304b",
   "metadata": {},
   "outputs": [],
   "source": []
  },
  {
   "cell_type": "code",
   "execution_count": null,
   "id": "bd0bcd6f-8028-49fb-b877-8d853b467fa1",
   "metadata": {
    "tags": []
   },
   "outputs": [],
   "source": [
    "adata_subtype.obs"
   ]
  },
  {
   "cell_type": "code",
   "execution_count": null,
   "id": "39b8a4ca-8e37-4dc0-bd68-4297c9cc29d3",
   "metadata": {
    "tags": []
   },
   "outputs": [],
   "source": [
    "adata_subtype.obs['Cancer_type'].value_counts()"
   ]
  },
  {
   "cell_type": "code",
   "execution_count": null,
   "id": "a8fef741-062d-4471-a448-518e0cdb4e5d",
   "metadata": {
    "tags": []
   },
   "outputs": [],
   "source": [
    "adata_subtype = adata_subtype[adata_subtype.obs['Cancer_type'].isin( ['ER+', 'TNBC'])]\n"
   ]
  },
  {
   "cell_type": "code",
   "execution_count": null,
   "id": "34d97ec1-6bcf-41a6-95f9-8de474a7ab14",
   "metadata": {
    "tags": []
   },
   "outputs": [],
   "source": [
    "adata_subtype.obs['Cancer_type'].value_counts()"
   ]
  },
  {
   "cell_type": "code",
   "execution_count": null,
   "id": "cc32f90b-2451-4e5e-8953-f572e362fb73",
   "metadata": {
    "tags": []
   },
   "outputs": [],
   "source": [
    "cv_splits_file = '/home/jupyter/sceval/data_splits/brca_full/brca_subtype/cv_splits.json'\n",
    "cv_split_dict = json.load(open(cv_splits_file))"
   ]
  },
  {
   "cell_type": "code",
   "execution_count": null,
   "id": "83cb8ab2-5d42-46a1-919a-adebeb26f52f",
   "metadata": {
    "tags": []
   },
   "outputs": [],
   "source": [
    "adata_subtype.obs['sample_id'] = adata_subtype.obs[id_column]\n",
    "adata_subtype.obs['label'] = adata_subtype.obs['Cancer_type']\n"
   ]
  },
  {
   "cell_type": "code",
   "execution_count": null,
   "id": "2ca79b87-6408-485e-a6ff-a5f956c24b32",
   "metadata": {
    "tags": []
   },
   "outputs": [],
   "source": [
    "adata_subtype.obs['label']"
   ]
  },
  {
   "cell_type": "code",
   "execution_count": null,
   "id": "b8a802c8-27a8-421b-be07-d7615068ed3e",
   "metadata": {
    "tags": []
   },
   "outputs": [],
   "source": [
    "adata_subtype.obs['label'] = adata_subtype.obs['label'].astype(str)"
   ]
  },
  {
   "cell_type": "code",
   "execution_count": null,
   "id": "97b3635a-5358-4cc8-8834-e8aaa3cba138",
   "metadata": {
    "tags": []
   },
   "outputs": [],
   "source": [
    "adata_subtype.obs['label'] "
   ]
  },
  {
   "cell_type": "code",
   "execution_count": null,
   "id": "fed69526-ca3e-4138-92a6-24eba386c7af",
   "metadata": {
    "tags": []
   },
   "outputs": [],
   "source": [
    "label_map = {'ER+': 0, 'TNBC': 1}\n",
    "adata_subtype.obs.label =adata_subtype.obs.label.map(label_map)"
   ]
  },
  {
   "cell_type": "code",
   "execution_count": null,
   "id": "566c9468-de7d-4096-a543-e9f8d61770b5",
   "metadata": {
    "tags": []
   },
   "outputs": [],
   "source": [
    "adata_subtype.obs.label"
   ]
  },
  {
   "cell_type": "code",
   "execution_count": null,
   "id": "13d40cc4-7d32-4c4e-b47b-9321cd3d4403",
   "metadata": {
    "tags": []
   },
   "outputs": [],
   "source": [
    "%%time\n",
    "embedding_col = 'X_geneformer'\n",
    "metrics= []\n",
    "for i in range(n_splits):\n",
    "            print(f'---------- fold {i+1}----------')\n",
    "            train_ids, test_ids = train_ids_list[i], test_ids_list[i]\n",
    "            print('Split data')\n",
    "            adata_train, adata_test = split_data(adata_subtype,  id_column, train_ids, test_ids)\n",
    "            X_train, y_train = adata_train.obsm[embedding_col], adata_train.obs['label'].values\n",
    "            X_test, y_test = adata_test.obsm[embedding_col], adata_test.obs['label'].values\n",
    "        \n",
    "            print('Train classifier')\n",
    "            model, _, _ , y_pred_train, y_pred_test, y_pred_score_train, y_pred_score_test = train_classifier(X_train, y_train, X_test, y_test, \n",
    "                                                                  model_name='random_forest')\n",
    "                \n",
    "            print('Evaluations')\n",
    "            adata_test.obs['pred'] = y_pred_test\n",
    "            adata_test.obs['pred_score'] = y_pred_score_test[:, 1] #assume binary classification\n",
    "            adata_test_df = adata_test.obs\n",
    "            pred_df = get_patient_level( adata_test_df)\n",
    "            fold_metrics = get_classification_metrics(pred_df)\n",
    "            metrics.append(fold_metrics)"
   ]
  },
  {
   "cell_type": "code",
   "execution_count": null,
   "id": "2849de77-f82b-406e-a1a5-1ea9746e1813",
   "metadata": {
    "tags": []
   },
   "outputs": [],
   "source": [
    "pd.DataFrame(metrics)"
   ]
  },
  {
   "cell_type": "markdown",
   "id": "c803ed48-c8ab-43d4-99ef-d958cb97ab4e",
   "metadata": {},
   "source": [
    "## Pre vs post (all cells)"
   ]
  },
  {
   "cell_type": "code",
   "execution_count": null,
   "id": "a3ca6d7f-45bb-41ad-a89a-32e192ad4a87",
   "metadata": {},
   "outputs": [],
   "source": []
  },
  {
   "cell_type": "code",
   "execution_count": null,
   "id": "cfad8dab-6137-486d-a970-db99d7d7f8eb",
   "metadata": {},
   "outputs": [],
   "source": []
  },
  {
   "cell_type": "code",
   "execution_count": null,
   "id": "fe516d4c-9ba4-4f55-ab81-bea07fdccbdf",
   "metadata": {},
   "outputs": [],
   "source": []
  },
  {
   "cell_type": "code",
   "execution_count": null,
   "id": "cd0cca93-c9f6-4372-aa29-e42956b71250",
   "metadata": {
    "tags": []
   },
   "outputs": [],
   "source": [
    "adata.obs['pre_post'].value_counts()"
   ]
  },
  {
   "cell_type": "code",
   "execution_count": null,
   "id": "cde76850-07e3-4048-ae12-7f70ac564858",
   "metadata": {},
   "outputs": [],
   "source": [
    "# read cv splits\n",
    "# split data\n",
    "# run cv\n",
    "# get patien level predictions\n",
    "# save preictions and metrics\n"
   ]
  },
  {
   "cell_type": "code",
   "execution_count": null,
   "id": "c02928ac-7c87-4685-b6d9-3e365fcf0283",
   "metadata": {
    "tags": []
   },
   "outputs": [],
   "source": [
    "import json"
   ]
  },
  {
   "cell_type": "code",
   "execution_count": null,
   "id": "cff059a8-edad-4c10-9f02-dbf4163db5ce",
   "metadata": {
    "tags": []
   },
   "outputs": [],
   "source": []
  },
  {
   "cell_type": "code",
   "execution_count": null,
   "id": "c34c6b8a-2d46-4809-9d40-56e597ae4b2b",
   "metadata": {
    "tags": []
   },
   "outputs": [],
   "source": [
    "\n"
   ]
  },
  {
   "cell_type": "code",
   "execution_count": null,
   "id": "f9c7bca2-bea5-478c-a24b-3f16255430b0",
   "metadata": {
    "tags": []
   },
   "outputs": [],
   "source": [
    "adata_tcell = adata[adata.obs.cell_types=='T_cell']"
   ]
  },
  {
   "cell_type": "code",
   "execution_count": null,
   "id": "6790edbb-2dbe-45f7-b4d3-359776244062",
   "metadata": {
    "tags": []
   },
   "outputs": [],
   "source": [
    "adata_tcell"
   ]
  },
  {
   "cell_type": "code",
   "execution_count": null,
   "id": "74957117-6ed2-4dfe-9434-2cdb83053f80",
   "metadata": {
    "tags": []
   },
   "outputs": [],
   "source": [
    "split_data"
   ]
  },
  {
   "cell_type": "code",
   "execution_count": null,
   "id": "3a2f20b6-fd8d-4fdc-838f-5cec7fb8fb36",
   "metadata": {
    "tags": []
   },
   "outputs": [],
   "source": [
    "cv_splits_file = '/home/jupyter/sceval/data_splits/brca_full/brca_pre_post/cv_splits.json'"
   ]
  },
  {
   "cell_type": "code",
   "execution_count": null,
   "id": "4fac99ed-118d-41dd-ac3f-43b268f1e19c",
   "metadata": {
    "tags": []
   },
   "outputs": [],
   "source": [
    "cv_split_dict = json.load(open(cv_splits_file))"
   ]
  },
  {
   "cell_type": "code",
   "execution_count": null,
   "id": "de993116-fae5-424b-9c48-067ad7c7a69b",
   "metadata": {
    "tags": []
   },
   "outputs": [],
   "source": [
    "cv_split_dict"
   ]
  },
  {
   "cell_type": "code",
   "execution_count": null,
   "id": "0d35e49a-7b84-4253-827b-ecc211330ea0",
   "metadata": {
    "tags": []
   },
   "outputs": [],
   "source": [
    "id_column, n_splits, train_ids_list, test_ids_list = get_splits_cv(cv_split_dict)"
   ]
  },
  {
   "cell_type": "code",
   "execution_count": null,
   "id": "5be364d6-2c69-40d9-84e2-4fc5d5a925b3",
   "metadata": {
    "tags": []
   },
   "outputs": [],
   "source": [
    "id_column"
   ]
  },
  {
   "cell_type": "code",
   "execution_count": null,
   "id": "f017ee37-41e7-4d53-8bb3-04540c1ef33d",
   "metadata": {
    "tags": []
   },
   "outputs": [],
   "source": [
    "adata_tcell.obs['sample_id'] = adata_tcell.obs[id_column]\n",
    "\n",
    "label_map = {'Pre': 0, 'Post': 1}\n"
   ]
  },
  {
   "cell_type": "code",
   "execution_count": null,
   "id": "5605348d-520c-4dba-9c68-2a64df6e4b39",
   "metadata": {
    "tags": []
   },
   "outputs": [],
   "source": [
    "adata_tcell.obs.label= adata_tcell.obs.label.map(label_map)"
   ]
  },
  {
   "cell_type": "code",
   "execution_count": null,
   "id": "efa6d60c-c6a9-42fe-a86e-ba1b32db578c",
   "metadata": {
    "tags": []
   },
   "outputs": [],
   "source": [
    "%%time\n",
    "embedding_col = 'X_geneformer'\n",
    "metrics= []\n",
    "for i in range(n_splits):\n",
    "            print(f'---------- fold {i+1}----------')\n",
    "            train_ids, test_ids = train_ids_list[i], test_ids_list[i]\n",
    "            print('Split data')\n",
    "            adata_train, adata_test = split_data(adata_tcell,  id_column, train_ids, test_ids)\n",
    "            X_train, y_train = adata_train.obsm[embedding_col], adata_train.obs['label']\n",
    "            X_test, y_test = adata_test.obsm[embedding_col], adata_test.obs['label']\n",
    "        \n",
    "            print('Train classifier')\n",
    "            model, y_train, y_test, y_pred_train, y_pred_test, y_pred_score_train, y_pred_score_test = train_classifier(X_train, y_train, X_test, y_test, \n",
    "                                                                  model_name='random_forest')\n",
    "                \n",
    "            print('Evaluations')\n",
    "            adata_test.obs['pred'] = y_pred_test\n",
    "            adata_test.obs['pred_score'] = y_pred_score_test[:, 1] #assume binary classification\n",
    "            adata_test_df = adata_test.obs\n",
    "            pred_df = get_patient_level( adata_test_df)\n",
    "            fold_metrics = get_classification_metrics(pred_df)\n",
    "            metrics.append(fold_metrics)\n",
    "            \n",
    "            \n",
    "            "
   ]
  },
  {
   "cell_type": "code",
   "execution_count": null,
   "id": "c09a6546-952a-4a06-93b6-baf885377973",
   "metadata": {
    "tags": []
   },
   "outputs": [],
   "source": [
    "pd.DataFrame(metrics)"
   ]
  },
  {
   "cell_type": "code",
   "execution_count": null,
   "id": "2904a6c9-f773-4657-b514-bb39aa32dbd6",
   "metadata": {
    "tags": []
   },
   "outputs": [],
   "source": [
    "pd.DataFrame(metrics)['auprc'].mean()"
   ]
  },
  {
   "cell_type": "code",
   "execution_count": null,
   "id": "a9fa63fc-2b80-462f-8360-d72e2651bdfd",
   "metadata": {
    "tags": []
   },
   "outputs": [],
   "source": [
    "adata.obs.cell_types.value_counts()"
   ]
  },
  {
   "cell_type": "code",
   "execution_count": null,
   "id": "64842b4f-3388-476b-8675-96f154661c19",
   "metadata": {
    "tags": []
   },
   "outputs": [],
   "source": [
    "adata_cancer = adata[adata.obs.cell_types=='Cancer_cell']"
   ]
  },
  {
   "cell_type": "code",
   "execution_count": null,
   "id": "ed5a3861-41a3-4608-bb24-1ccd2101f1fb",
   "metadata": {
    "tags": []
   },
   "outputs": [],
   "source": [
    "adata_cancer"
   ]
  },
  {
   "cell_type": "code",
   "execution_count": null,
   "id": "11d12faa-e5d4-499e-97fd-bab3293dfbe3",
   "metadata": {
    "tags": []
   },
   "outputs": [],
   "source": [
    "adata_cancer.obs['sample_id'] = adata_cancer.obs[id_column]\n",
    "\n",
    "label_map = {'Pre': 0, 'Post': 1}"
   ]
  },
  {
   "cell_type": "code",
   "execution_count": null,
   "id": "9f40e790-7984-490f-945c-47c7894cc357",
   "metadata": {
    "tags": []
   },
   "outputs": [],
   "source": [
    "adata_cancer.obs.label= adata_cancer.obs.label.map(label_map)"
   ]
  },
  {
   "cell_type": "code",
   "execution_count": null,
   "id": "acfe4da9-38a7-4c07-890e-d03b4442d869",
   "metadata": {
    "tags": []
   },
   "outputs": [],
   "source": [
    "%%time\n",
    "embedding_col = 'X_geneformer'\n",
    "metrics= []\n",
    "for i in range(n_splits):\n",
    "            print(f'---------- fold {i+1}----------')\n",
    "            train_ids, test_ids = train_ids_list[i], test_ids_list[i]\n",
    "            print('Split data')\n",
    "            adata_train, adata_test = split_data(adata_cancer,  id_column, train_ids, test_ids)\n",
    "            X_train, y_train = adata_train.obsm[embedding_col], adata_train.obs['label']\n",
    "            X_test, y_test = adata_test.obsm[embedding_col], adata_test.obs['label']\n",
    "        \n",
    "            print('Train classifier')\n",
    "            model, y_train, y_test, y_pred_train, y_pred_test, y_pred_score_train, y_pred_score_test = train_classifier(X_train, y_train, X_test, y_test, \n",
    "                                                                  model_name='random_forest')\n",
    "                \n",
    "            print('Evaluations')\n",
    "            adata_test.obs['pred'] = y_pred_test\n",
    "            adata_test.obs['pred_score'] = y_pred_score_test[:, 1] #assume binary classification\n",
    "            adata_test_df = adata_test.obs\n",
    "            pred_df = get_patient_level( adata_test_df)\n",
    "            fold_metrics = get_classification_metrics(pred_df)\n",
    "            metrics.append(fold_metrics)"
   ]
  },
  {
   "cell_type": "code",
   "execution_count": null,
   "id": "69592bd4-0dab-49c1-aedf-26425373cc2c",
   "metadata": {
    "tags": []
   },
   "outputs": [],
   "source": [
    "pd.DataFrame(metrics)"
   ]
  },
  {
   "cell_type": "code",
   "execution_count": null,
   "id": "42030018-9f6c-4fe4-9af4-1c2d5c5d6f8c",
   "metadata": {},
   "outputs": [],
   "source": []
  }
 ],
 "metadata": {
  "environment": {
   "kernel": "scfoundation",
   "name": "pytorch-gpu.2-2.m128",
   "type": "gcloud",
   "uri": "us-docker.pkg.dev/deeplearning-platform-release/gcr.io/pytorch-gpu.2-2:m128"
  },
  "kernelspec": {
   "display_name": "Python (scfoundation )",
   "language": "python",
   "name": "scfoundation"
  },
  "language_info": {
   "codemirror_mode": {
    "name": "ipython",
    "version": 3
   },
   "file_extension": ".py",
   "mimetype": "text/x-python",
   "name": "python",
   "nbconvert_exporter": "python",
   "pygments_lexer": "ipython3",
   "version": "3.10.18"
  }
 },
 "nbformat": 4,
 "nbformat_minor": 5
}
