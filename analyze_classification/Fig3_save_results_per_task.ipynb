{
 "cells": [
  {
   "cell_type": "code",
   "execution_count": 1,
   "id": "b050ac33-7df3-4f98-b41a-0e344fe2d276",
   "metadata": {
    "tags": []
   },
   "outputs": [],
   "source": [
    "import pandas as pd"
   ]
  },
  {
   "cell_type": "code",
   "execution_count": 2,
   "id": "e732fcac-b1c8-4a69-a5a6-fda6e5c5bc46",
   "metadata": {
    "tags": []
   },
   "outputs": [],
   "source": [
    "import os\n",
    "from os import listdir\n",
    "from os.path import isfile, join, dirname, basename"
   ]
  },
  {
   "cell_type": "code",
   "execution_count": 3,
   "id": "cf9c0a45-de05-4f63-97e4-c3ad4e9f36bd",
   "metadata": {
    "tags": []
   },
   "outputs": [],
   "source": [
    "from matplotlib import pyplot as plt\n",
    "import numpy as np\n",
    "import math"
   ]
  },
  {
   "cell_type": "code",
   "execution_count": 4,
   "id": "0790835e-566a-4f61-b8c1-13f65f2a2eb4",
   "metadata": {
    "tags": []
   },
   "outputs": [],
   "source": [
    "from analysis_utils import collect_cv_metrics, map_groups"
   ]
  },
  {
   "cell_type": "code",
   "execution_count": null,
   "id": "35086ee5-cc0d-45de-aee2-0b0caf89a395",
   "metadata": {
    "tags": []
   },
   "outputs": [],
   "source": [
    "\n"
   ]
  },
  {
   "cell_type": "code",
   "execution_count": 5,
   "id": "ad2f2c0f-af83-4f4f-a254-055dfe0885ec",
   "metadata": {
    "tags": []
   },
   "outputs": [],
   "source": [
    "def load_results(base_dir):\n",
    "    experiments = [ join(base_dir, f.name) for f in os.scandir(base_dir) if f.is_dir() ]\n",
    "    results = collect_cv_metrics(experiments)\n",
    "    return results "
   ]
  },
  {
   "cell_type": "code",
   "execution_count": 6,
   "id": "16f63796-ddcf-41d7-827e-ca12bb4f80b3",
   "metadata": {
    "tags": []
   },
   "outputs": [],
   "source": [
    "def save_experminets(mil_df, task, prefix, save_dir):\n",
    "    \n",
    "    mil_df.to_csv(join(save_dir, f'{prefix}.csv'))\n",
    "    metrics = mil_df.Metrics.unique()\n",
    "    mil_df['group'] = mil_df.experiment.map(map_groups)\n",
    "\n",
    "    for m in metrics:\n",
    "        mil_df_m= mil_df[mil_df.Metrics ==m]\n",
    "        mil_df_m = mil_df_m.groupby(['experiment', 'group'])['model'].agg(['mean', 'std']).reset_index()\n",
    "        mil_df_m.to_csv(join(save_dir, f'{m}_{prefix}.csv'))\n",
    "        "
   ]
  },
  {
   "cell_type": "markdown",
   "id": "bebaf97a-c6b5-4ff3-98c6-82a0e8a5e192",
   "metadata": {},
   "source": [
    "## Chemo"
   ]
  },
  {
   "cell_type": "code",
   "execution_count": 8,
   "id": "faeb0550-072b-4363-8912-6ee96a6c60e7",
   "metadata": {
    "tags": []
   },
   "outputs": [
    {
     "name": "stdout",
     "output_type": "stream",
     "text": [
      "Missing files in /home/jupyter/mnt/__output_clean/brca_full/chemo/Geneformer-V2-104M_finetune\n",
      "Missing files in /home/jupyter/mnt/__output_clean/brca_full/chemo/gf-6L-30M-i2048_all_cells_donor_id\n",
      "Missing files in /home/jupyter/mnt/__output_clean/brca_full/chemo/gf-6L-30M-i2048_finetune_10epoch\n",
      "Missing files in /home/jupyter/mnt/__output_clean/brca_full/chemo/gf-6L-30M-i2048_finetune_2epoch\n",
      "Missing files in /home/jupyter/mnt/__output_clean/brca_full/chemo/gf-6L-30M-i2048_finetune\n"
     ]
    }
   ],
   "source": [
    "save_dir ='./brca_full_chemo'\n",
    "task ='chemo'\n",
    "base_dir = '/home/jupyter/mnt/__output_clean/brca_full/chemo'\n",
    "os.makedirs(save_dir, exist_ok=True)\n",
    "results= load_results(base_dir)\n",
    "mil_df = results[\"mil\"]\n",
    "vote_df = results[\"vote\"]\n",
    "avg_df = results[\"avg\"]"
   ]
  },
  {
   "cell_type": "code",
   "execution_count": 9,
   "id": "b775ee6f-32f8-4c60-8fd2-7b4c1c08dbff",
   "metadata": {
    "tags": []
   },
   "outputs": [
    {
     "data": {
      "text/html": [
       "<div>\n",
       "<style scoped>\n",
       "    .dataframe tbody tr th:only-of-type {\n",
       "        vertical-align: middle;\n",
       "    }\n",
       "\n",
       "    .dataframe tbody tr th {\n",
       "        vertical-align: top;\n",
       "    }\n",
       "\n",
       "    .dataframe thead th {\n",
       "        text-align: right;\n",
       "    }\n",
       "</style>\n",
       "<table border=\"1\" class=\"dataframe\">\n",
       "  <thead>\n",
       "    <tr style=\"text-align: right;\">\n",
       "      <th></th>\n",
       "      <th>Metrics</th>\n",
       "      <th>model</th>\n",
       "      <th>fold</th>\n",
       "      <th>experiment</th>\n",
       "    </tr>\n",
       "  </thead>\n",
       "  <tbody>\n",
       "    <tr>\n",
       "      <th>0</th>\n",
       "      <td>AUC</td>\n",
       "      <td>0.857143</td>\n",
       "      <td>fold_1</td>\n",
       "      <td>Geneformer-V2-104M_CLcancer</td>\n",
       "    </tr>\n",
       "    <tr>\n",
       "      <th>1</th>\n",
       "      <td>AUPRC</td>\n",
       "      <td>0.500000</td>\n",
       "      <td>fold_1</td>\n",
       "      <td>Geneformer-V2-104M_CLcancer</td>\n",
       "    </tr>\n",
       "    <tr>\n",
       "      <th>2</th>\n",
       "      <td>F1</td>\n",
       "      <td>0.466667</td>\n",
       "      <td>fold_1</td>\n",
       "      <td>Geneformer-V2-104M_CLcancer</td>\n",
       "    </tr>\n",
       "    <tr>\n",
       "      <th>3</th>\n",
       "      <td>Accuracy</td>\n",
       "      <td>0.875000</td>\n",
       "      <td>fold_1</td>\n",
       "      <td>Geneformer-V2-104M_CLcancer</td>\n",
       "    </tr>\n",
       "    <tr>\n",
       "      <th>4</th>\n",
       "      <td>Precision</td>\n",
       "      <td>0.437500</td>\n",
       "      <td>fold_1</td>\n",
       "      <td>Geneformer-V2-104M_CLcancer</td>\n",
       "    </tr>\n",
       "    <tr>\n",
       "      <th>...</th>\n",
       "      <td>...</td>\n",
       "      <td>...</td>\n",
       "      <td>...</td>\n",
       "      <td>...</td>\n",
       "    </tr>\n",
       "    <tr>\n",
       "      <th>355</th>\n",
       "      <td>AUPRC</td>\n",
       "      <td>0.500000</td>\n",
       "      <td>fold_5</td>\n",
       "      <td>scvi</td>\n",
       "    </tr>\n",
       "    <tr>\n",
       "      <th>356</th>\n",
       "      <td>F1</td>\n",
       "      <td>0.416667</td>\n",
       "      <td>fold_5</td>\n",
       "      <td>scvi</td>\n",
       "    </tr>\n",
       "    <tr>\n",
       "      <th>357</th>\n",
       "      <td>Accuracy</td>\n",
       "      <td>0.714286</td>\n",
       "      <td>fold_5</td>\n",
       "      <td>scvi</td>\n",
       "    </tr>\n",
       "    <tr>\n",
       "      <th>358</th>\n",
       "      <td>Precision</td>\n",
       "      <td>0.416667</td>\n",
       "      <td>fold_5</td>\n",
       "      <td>scvi</td>\n",
       "    </tr>\n",
       "    <tr>\n",
       "      <th>359</th>\n",
       "      <td>Recall</td>\n",
       "      <td>0.416667</td>\n",
       "      <td>fold_5</td>\n",
       "      <td>scvi</td>\n",
       "    </tr>\n",
       "  </tbody>\n",
       "</table>\n",
       "<p>360 rows × 4 columns</p>\n",
       "</div>"
      ],
      "text/plain": [
       "       Metrics     model    fold                   experiment\n",
       "0          AUC  0.857143  fold_1  Geneformer-V2-104M_CLcancer\n",
       "1        AUPRC  0.500000  fold_1  Geneformer-V2-104M_CLcancer\n",
       "2           F1  0.466667  fold_1  Geneformer-V2-104M_CLcancer\n",
       "3     Accuracy  0.875000  fold_1  Geneformer-V2-104M_CLcancer\n",
       "4    Precision  0.437500  fold_1  Geneformer-V2-104M_CLcancer\n",
       "..         ...       ...     ...                          ...\n",
       "355      AUPRC  0.500000  fold_5                         scvi\n",
       "356         F1  0.416667  fold_5                         scvi\n",
       "357   Accuracy  0.714286  fold_5                         scvi\n",
       "358  Precision  0.416667  fold_5                         scvi\n",
       "359     Recall  0.416667  fold_5                         scvi\n",
       "\n",
       "[360 rows x 4 columns]"
      ]
     },
     "execution_count": 9,
     "metadata": {},
     "output_type": "execute_result"
    }
   ],
   "source": [
    "mil_df"
   ]
  },
  {
   "cell_type": "code",
   "execution_count": 8,
   "id": "c28ef17d-4b73-4860-a796-628ae5f67445",
   "metadata": {
    "tags": []
   },
   "outputs": [],
   "source": [
    "idx = mil_df.experiment.str.contains('full')\n",
    "mil_df = mil_df[~idx]\n",
    "\n",
    "idx = vote_df.experiment.str.contains('full')\n",
    "vote_df = vote_df[~idx]\n",
    "\n",
    "idx = avg_df.experiment.str.contains('full')\n",
    "avg_df = avg_df[~idx]"
   ]
  },
  {
   "cell_type": "code",
   "execution_count": 9,
   "id": "9d1f4694-ac1a-4b1e-a93e-f68e58db6fec",
   "metadata": {
    "tags": []
   },
   "outputs": [],
   "source": [
    "idx = mil_df.experiment.str.contains('test')\n",
    "mil_df = mil_df[~idx]\n",
    "\n",
    "idx = vote_df.experiment.str.contains('test')\n",
    "vote_df = vote_df[~idx]\n",
    "\n",
    "idx = avg_df.experiment.str.contains('test')\n",
    "avg_df = avg_df[~idx]"
   ]
  },
  {
   "cell_type": "code",
   "execution_count": 10,
   "id": "f6318613-c1b8-4b6f-bb6d-b8e157e3046c",
   "metadata": {
    "tags": []
   },
   "outputs": [],
   "source": [
    "save_experminets(mil_df, task, 'mil', save_dir)\n",
    "save_experminets(vote_df, task, 'vote', save_dir)\n",
    "save_experminets(avg_df, task, 'avg', save_dir)"
   ]
  },
  {
   "cell_type": "markdown",
   "id": "9bb05119-af95-4f71-a66a-36977b022036",
   "metadata": {},
   "source": [
    "## Pre-Post"
   ]
  },
  {
   "cell_type": "code",
   "execution_count": 11,
   "id": "4e49c23d-43fa-4e3e-bdeb-8ba4a85bb4ac",
   "metadata": {
    "tags": []
   },
   "outputs": [
    {
     "name": "stdout",
     "output_type": "stream",
     "text": [
      "Missing files in /home/jupyter/mnt/__output_clean/brca_full/pre_post/Geneformer-V2-104M_finetune\n",
      "Missing files in /home/jupyter/mnt/__output_clean/brca_full/pre_post/gf-6L-30M-i2048_finetune\n"
     ]
    }
   ],
   "source": [
    "save_dir ='./brca_full_pre_post'\n",
    "task ='pre_post'\n",
    "base_dir = '/home/jupyter/mnt/__output_clean/brca_full/pre_post'\n",
    "os.makedirs(save_dir, exist_ok=True)\n",
    "results= load_results(base_dir)\n",
    "mil_df = results[\"mil\"]\n",
    "vote_df = results[\"vote\"]\n",
    "avg_df = results[\"avg\"]\n"
   ]
  },
  {
   "cell_type": "code",
   "execution_count": 12,
   "id": "628fec6c-4433-4ec1-bc59-6cb0a52f9504",
   "metadata": {
    "tags": []
   },
   "outputs": [
    {
     "data": {
      "text/html": [
       "<div>\n",
       "<style scoped>\n",
       "    .dataframe tbody tr th:only-of-type {\n",
       "        vertical-align: middle;\n",
       "    }\n",
       "\n",
       "    .dataframe tbody tr th {\n",
       "        vertical-align: top;\n",
       "    }\n",
       "\n",
       "    .dataframe thead th {\n",
       "        text-align: right;\n",
       "    }\n",
       "</style>\n",
       "<table border=\"1\" class=\"dataframe\">\n",
       "  <thead>\n",
       "    <tr style=\"text-align: right;\">\n",
       "      <th></th>\n",
       "      <th>Metrics</th>\n",
       "      <th>model</th>\n",
       "      <th>fold</th>\n",
       "      <th>experiment</th>\n",
       "    </tr>\n",
       "  </thead>\n",
       "  <tbody>\n",
       "    <tr>\n",
       "      <th>0</th>\n",
       "      <td>AUC</td>\n",
       "      <td>1.000000</td>\n",
       "      <td>fold_1</td>\n",
       "      <td>Geneformer-V2-104M_CLcancer</td>\n",
       "    </tr>\n",
       "    <tr>\n",
       "      <th>1</th>\n",
       "      <td>AUPRC</td>\n",
       "      <td>1.000000</td>\n",
       "      <td>fold_1</td>\n",
       "      <td>Geneformer-V2-104M_CLcancer</td>\n",
       "    </tr>\n",
       "    <tr>\n",
       "      <th>2</th>\n",
       "      <td>F1</td>\n",
       "      <td>0.845238</td>\n",
       "      <td>fold_1</td>\n",
       "      <td>Geneformer-V2-104M_CLcancer</td>\n",
       "    </tr>\n",
       "    <tr>\n",
       "      <th>3</th>\n",
       "      <td>Accuracy</td>\n",
       "      <td>0.846154</td>\n",
       "      <td>fold_1</td>\n",
       "      <td>Geneformer-V2-104M_CLcancer</td>\n",
       "    </tr>\n",
       "    <tr>\n",
       "      <th>4</th>\n",
       "      <td>Precision</td>\n",
       "      <td>0.875000</td>\n",
       "      <td>fold_1</td>\n",
       "      <td>Geneformer-V2-104M_CLcancer</td>\n",
       "    </tr>\n",
       "    <tr>\n",
       "      <th>...</th>\n",
       "      <td>...</td>\n",
       "      <td>...</td>\n",
       "      <td>...</td>\n",
       "      <td>...</td>\n",
       "    </tr>\n",
       "    <tr>\n",
       "      <th>355</th>\n",
       "      <td>AUPRC</td>\n",
       "      <td>0.976190</td>\n",
       "      <td>fold_5</td>\n",
       "      <td>scvi</td>\n",
       "    </tr>\n",
       "    <tr>\n",
       "      <th>356</th>\n",
       "      <td>F1</td>\n",
       "      <td>0.833333</td>\n",
       "      <td>fold_5</td>\n",
       "      <td>scvi</td>\n",
       "    </tr>\n",
       "    <tr>\n",
       "      <th>357</th>\n",
       "      <td>Accuracy</td>\n",
       "      <td>0.833333</td>\n",
       "      <td>fold_5</td>\n",
       "      <td>scvi</td>\n",
       "    </tr>\n",
       "    <tr>\n",
       "      <th>358</th>\n",
       "      <td>Precision</td>\n",
       "      <td>0.833333</td>\n",
       "      <td>fold_5</td>\n",
       "      <td>scvi</td>\n",
       "    </tr>\n",
       "    <tr>\n",
       "      <th>359</th>\n",
       "      <td>Recall</td>\n",
       "      <td>0.833333</td>\n",
       "      <td>fold_5</td>\n",
       "      <td>scvi</td>\n",
       "    </tr>\n",
       "  </tbody>\n",
       "</table>\n",
       "<p>360 rows × 4 columns</p>\n",
       "</div>"
      ],
      "text/plain": [
       "       Metrics     model    fold                   experiment\n",
       "0          AUC  1.000000  fold_1  Geneformer-V2-104M_CLcancer\n",
       "1        AUPRC  1.000000  fold_1  Geneformer-V2-104M_CLcancer\n",
       "2           F1  0.845238  fold_1  Geneformer-V2-104M_CLcancer\n",
       "3     Accuracy  0.846154  fold_1  Geneformer-V2-104M_CLcancer\n",
       "4    Precision  0.875000  fold_1  Geneformer-V2-104M_CLcancer\n",
       "..         ...       ...     ...                          ...\n",
       "355      AUPRC  0.976190  fold_5                         scvi\n",
       "356         F1  0.833333  fold_5                         scvi\n",
       "357   Accuracy  0.833333  fold_5                         scvi\n",
       "358  Precision  0.833333  fold_5                         scvi\n",
       "359     Recall  0.833333  fold_5                         scvi\n",
       "\n",
       "[360 rows x 4 columns]"
      ]
     },
     "execution_count": 12,
     "metadata": {},
     "output_type": "execute_result"
    }
   ],
   "source": [
    "vote_df"
   ]
  },
  {
   "cell_type": "code",
   "execution_count": 13,
   "id": "6ab68d12-3ed5-4f9c-9e4a-1c8bdecad0a1",
   "metadata": {
    "tags": []
   },
   "outputs": [
    {
     "data": {
      "text/html": [
       "<div>\n",
       "<style scoped>\n",
       "    .dataframe tbody tr th:only-of-type {\n",
       "        vertical-align: middle;\n",
       "    }\n",
       "\n",
       "    .dataframe tbody tr th {\n",
       "        vertical-align: top;\n",
       "    }\n",
       "\n",
       "    .dataframe thead th {\n",
       "        text-align: right;\n",
       "    }\n",
       "</style>\n",
       "<table border=\"1\" class=\"dataframe\">\n",
       "  <thead>\n",
       "    <tr style=\"text-align: right;\">\n",
       "      <th></th>\n",
       "      <th>experiment</th>\n",
       "      <th>mean</th>\n",
       "      <th>std</th>\n",
       "    </tr>\n",
       "  </thead>\n",
       "  <tbody>\n",
       "    <tr>\n",
       "      <th>0</th>\n",
       "      <td>Geneformer-V2-104M</td>\n",
       "      <td>0.975000</td>\n",
       "      <td>2.711802e-02</td>\n",
       "    </tr>\n",
       "    <tr>\n",
       "      <th>1</th>\n",
       "      <td>Geneformer-V2-104M_CLcancer</td>\n",
       "      <td>0.983333</td>\n",
       "      <td>3.726780e-02</td>\n",
       "    </tr>\n",
       "    <tr>\n",
       "      <th>2</th>\n",
       "      <td>Geneformer-V2-316M</td>\n",
       "      <td>0.981349</td>\n",
       "      <td>2.577838e-02</td>\n",
       "    </tr>\n",
       "    <tr>\n",
       "      <th>3</th>\n",
       "      <td>cellplm</td>\n",
       "      <td>0.852665</td>\n",
       "      <td>6.937475e-02</td>\n",
       "    </tr>\n",
       "    <tr>\n",
       "      <th>4</th>\n",
       "      <td>gf-6L-30M-i2048</td>\n",
       "      <td>0.933023</td>\n",
       "      <td>7.670428e-02</td>\n",
       "    </tr>\n",
       "    <tr>\n",
       "      <th>5</th>\n",
       "      <td>hvg</td>\n",
       "      <td>1.000000</td>\n",
       "      <td>1.241267e-16</td>\n",
       "    </tr>\n",
       "    <tr>\n",
       "      <th>6</th>\n",
       "      <td>pca</td>\n",
       "      <td>1.000000</td>\n",
       "      <td>1.241267e-16</td>\n",
       "    </tr>\n",
       "    <tr>\n",
       "      <th>7</th>\n",
       "      <td>scfoundation</td>\n",
       "      <td>1.000000</td>\n",
       "      <td>1.241267e-16</td>\n",
       "    </tr>\n",
       "    <tr>\n",
       "      <th>8</th>\n",
       "      <td>scgpt</td>\n",
       "      <td>0.930285</td>\n",
       "      <td>1.338170e-01</td>\n",
       "    </tr>\n",
       "    <tr>\n",
       "      <th>9</th>\n",
       "      <td>scgpt_cancer</td>\n",
       "      <td>0.974531</td>\n",
       "      <td>4.484172e-02</td>\n",
       "    </tr>\n",
       "    <tr>\n",
       "      <th>10</th>\n",
       "      <td>scimilarity</td>\n",
       "      <td>0.983333</td>\n",
       "      <td>3.726780e-02</td>\n",
       "    </tr>\n",
       "    <tr>\n",
       "      <th>11</th>\n",
       "      <td>scvi</td>\n",
       "      <td>0.995238</td>\n",
       "      <td>1.064794e-02</td>\n",
       "    </tr>\n",
       "  </tbody>\n",
       "</table>\n",
       "</div>"
      ],
      "text/plain": [
       "                     experiment      mean           std\n",
       "0            Geneformer-V2-104M  0.975000  2.711802e-02\n",
       "1   Geneformer-V2-104M_CLcancer  0.983333  3.726780e-02\n",
       "2            Geneformer-V2-316M  0.981349  2.577838e-02\n",
       "3                       cellplm  0.852665  6.937475e-02\n",
       "4               gf-6L-30M-i2048  0.933023  7.670428e-02\n",
       "5                           hvg  1.000000  1.241267e-16\n",
       "6                           pca  1.000000  1.241267e-16\n",
       "7                  scfoundation  1.000000  1.241267e-16\n",
       "8                         scgpt  0.930285  1.338170e-01\n",
       "9                  scgpt_cancer  0.974531  4.484172e-02\n",
       "10                  scimilarity  0.983333  3.726780e-02\n",
       "11                         scvi  0.995238  1.064794e-02"
      ]
     },
     "execution_count": 13,
     "metadata": {},
     "output_type": "execute_result"
    }
   ],
   "source": [
    "df = vote_df[vote_df['Metrics']=='AUPRC']\n",
    "df.groupby(['experiment'])['model'].agg(['mean', 'std']).reset_index()"
   ]
  },
  {
   "cell_type": "code",
   "execution_count": 14,
   "id": "9f47c022-09ea-4346-beb5-28489415c42c",
   "metadata": {
    "tags": []
   },
   "outputs": [
    {
     "data": {
      "text/html": [
       "<div>\n",
       "<style scoped>\n",
       "    .dataframe tbody tr th:only-of-type {\n",
       "        vertical-align: middle;\n",
       "    }\n",
       "\n",
       "    .dataframe tbody tr th {\n",
       "        vertical-align: top;\n",
       "    }\n",
       "\n",
       "    .dataframe thead th {\n",
       "        text-align: right;\n",
       "    }\n",
       "</style>\n",
       "<table border=\"1\" class=\"dataframe\">\n",
       "  <thead>\n",
       "    <tr style=\"text-align: right;\">\n",
       "      <th></th>\n",
       "      <th>Metrics</th>\n",
       "      <th>model</th>\n",
       "      <th>fold</th>\n",
       "      <th>experiment</th>\n",
       "    </tr>\n",
       "  </thead>\n",
       "  <tbody>\n",
       "    <tr>\n",
       "      <th>0</th>\n",
       "      <td>AUC</td>\n",
       "      <td>0.976190</td>\n",
       "      <td>fold_1</td>\n",
       "      <td>Geneformer-V2-104M_CLcancer</td>\n",
       "    </tr>\n",
       "    <tr>\n",
       "      <th>1</th>\n",
       "      <td>AUPRC</td>\n",
       "      <td>0.982143</td>\n",
       "      <td>fold_1</td>\n",
       "      <td>Geneformer-V2-104M_CLcancer</td>\n",
       "    </tr>\n",
       "    <tr>\n",
       "      <th>2</th>\n",
       "      <td>F1</td>\n",
       "      <td>0.845238</td>\n",
       "      <td>fold_1</td>\n",
       "      <td>Geneformer-V2-104M_CLcancer</td>\n",
       "    </tr>\n",
       "    <tr>\n",
       "      <th>3</th>\n",
       "      <td>Accuracy</td>\n",
       "      <td>0.846154</td>\n",
       "      <td>fold_1</td>\n",
       "      <td>Geneformer-V2-104M_CLcancer</td>\n",
       "    </tr>\n",
       "    <tr>\n",
       "      <th>4</th>\n",
       "      <td>Precision</td>\n",
       "      <td>0.875000</td>\n",
       "      <td>fold_1</td>\n",
       "      <td>Geneformer-V2-104M_CLcancer</td>\n",
       "    </tr>\n",
       "    <tr>\n",
       "      <th>...</th>\n",
       "      <td>...</td>\n",
       "      <td>...</td>\n",
       "      <td>...</td>\n",
       "      <td>...</td>\n",
       "    </tr>\n",
       "    <tr>\n",
       "      <th>355</th>\n",
       "      <td>AUPRC</td>\n",
       "      <td>0.976190</td>\n",
       "      <td>fold_5</td>\n",
       "      <td>scvi</td>\n",
       "    </tr>\n",
       "    <tr>\n",
       "      <th>356</th>\n",
       "      <td>F1</td>\n",
       "      <td>0.833333</td>\n",
       "      <td>fold_5</td>\n",
       "      <td>scvi</td>\n",
       "    </tr>\n",
       "    <tr>\n",
       "      <th>357</th>\n",
       "      <td>Accuracy</td>\n",
       "      <td>0.833333</td>\n",
       "      <td>fold_5</td>\n",
       "      <td>scvi</td>\n",
       "    </tr>\n",
       "    <tr>\n",
       "      <th>358</th>\n",
       "      <td>Precision</td>\n",
       "      <td>0.833333</td>\n",
       "      <td>fold_5</td>\n",
       "      <td>scvi</td>\n",
       "    </tr>\n",
       "    <tr>\n",
       "      <th>359</th>\n",
       "      <td>Recall</td>\n",
       "      <td>0.833333</td>\n",
       "      <td>fold_5</td>\n",
       "      <td>scvi</td>\n",
       "    </tr>\n",
       "  </tbody>\n",
       "</table>\n",
       "<p>360 rows × 4 columns</p>\n",
       "</div>"
      ],
      "text/plain": [
       "       Metrics     model    fold                   experiment\n",
       "0          AUC  0.976190  fold_1  Geneformer-V2-104M_CLcancer\n",
       "1        AUPRC  0.982143  fold_1  Geneformer-V2-104M_CLcancer\n",
       "2           F1  0.845238  fold_1  Geneformer-V2-104M_CLcancer\n",
       "3     Accuracy  0.846154  fold_1  Geneformer-V2-104M_CLcancer\n",
       "4    Precision  0.875000  fold_1  Geneformer-V2-104M_CLcancer\n",
       "..         ...       ...     ...                          ...\n",
       "355      AUPRC  0.976190  fold_5                         scvi\n",
       "356         F1  0.833333  fold_5                         scvi\n",
       "357   Accuracy  0.833333  fold_5                         scvi\n",
       "358  Precision  0.833333  fold_5                         scvi\n",
       "359     Recall  0.833333  fold_5                         scvi\n",
       "\n",
       "[360 rows x 4 columns]"
      ]
     },
     "execution_count": 14,
     "metadata": {},
     "output_type": "execute_result"
    }
   ],
   "source": [
    "avg_df"
   ]
  },
  {
   "cell_type": "code",
   "execution_count": 15,
   "id": "b65f9324-9556-4feb-b70d-c907bf9c0d50",
   "metadata": {
    "tags": []
   },
   "outputs": [],
   "source": [
    "# save_experminets(mil_df, avg_df, task, save_dir)\n",
    "save_experminets(mil_df, task, 'mil', save_dir)\n",
    "save_experminets(vote_df, task, 'vote', save_dir)\n",
    "save_experminets(avg_df, task, 'avg', save_dir)"
   ]
  },
  {
   "cell_type": "markdown",
   "id": "225c0c51-1c90-4455-b61d-c410ddb3f035",
   "metadata": {},
   "source": [
    "## outcome"
   ]
  },
  {
   "cell_type": "code",
   "execution_count": 16,
   "id": "73786e10-8ae7-4a91-a6b9-7af98d8e9dcc",
   "metadata": {
    "tags": []
   },
   "outputs": [
    {
     "name": "stdout",
     "output_type": "stream",
     "text": [
      "Missing files in /home/jupyter/mnt/__output_clean/brca_full/outcome/Geneformer-V2-104M_finetune\n",
      "Missing files in /home/jupyter/mnt/__output_clean/brca_full/outcome/gf-6L-30M-i2048_finetune\n"
     ]
    }
   ],
   "source": [
    "save_dir ='./brca_full_outcome'\n",
    "task ='outcome'\n",
    "base_dir = '/home/jupyter/mnt/__output_clean/brca_full/outcome'\n",
    "os.makedirs(save_dir, exist_ok=True)\n",
    "results= load_results(base_dir)\n",
    "mil_df = results[\"mil\"]\n",
    "vote_df = results[\"vote\"]\n",
    "avg_df = results[\"avg\"]\n"
   ]
  },
  {
   "cell_type": "code",
   "execution_count": 17,
   "id": "866dc97f-3596-48a4-904c-950e79db8759",
   "metadata": {
    "tags": []
   },
   "outputs": [],
   "source": [
    "# vote_df"
   ]
  },
  {
   "cell_type": "code",
   "execution_count": 18,
   "id": "63ec2f9f-d0bd-4ded-bb9f-a87dd5196ae6",
   "metadata": {
    "tags": []
   },
   "outputs": [
    {
     "data": {
      "text/html": [
       "<div>\n",
       "<style scoped>\n",
       "    .dataframe tbody tr th:only-of-type {\n",
       "        vertical-align: middle;\n",
       "    }\n",
       "\n",
       "    .dataframe tbody tr th {\n",
       "        vertical-align: top;\n",
       "    }\n",
       "\n",
       "    .dataframe thead th {\n",
       "        text-align: right;\n",
       "    }\n",
       "</style>\n",
       "<table border=\"1\" class=\"dataframe\">\n",
       "  <thead>\n",
       "    <tr style=\"text-align: right;\">\n",
       "      <th></th>\n",
       "      <th>experiment</th>\n",
       "      <th>mean</th>\n",
       "      <th>std</th>\n",
       "    </tr>\n",
       "  </thead>\n",
       "  <tbody>\n",
       "    <tr>\n",
       "      <th>0</th>\n",
       "      <td>Geneformer-V2-104M</td>\n",
       "      <td>0.773333</td>\n",
       "      <td>0.234106</td>\n",
       "    </tr>\n",
       "    <tr>\n",
       "      <th>1</th>\n",
       "      <td>Geneformer-V2-104M_CLcancer</td>\n",
       "      <td>0.790000</td>\n",
       "      <td>0.234994</td>\n",
       "    </tr>\n",
       "    <tr>\n",
       "      <th>2</th>\n",
       "      <td>Geneformer-V2-316M</td>\n",
       "      <td>0.766667</td>\n",
       "      <td>0.245798</td>\n",
       "    </tr>\n",
       "    <tr>\n",
       "      <th>3</th>\n",
       "      <td>cellplm</td>\n",
       "      <td>0.500000</td>\n",
       "      <td>0.282597</td>\n",
       "    </tr>\n",
       "    <tr>\n",
       "      <th>4</th>\n",
       "      <td>gf-6L-30M-i2048</td>\n",
       "      <td>0.806667</td>\n",
       "      <td>0.212655</td>\n",
       "    </tr>\n",
       "    <tr>\n",
       "      <th>5</th>\n",
       "      <td>hvg</td>\n",
       "      <td>0.750000</td>\n",
       "      <td>0.343592</td>\n",
       "    </tr>\n",
       "    <tr>\n",
       "      <th>6</th>\n",
       "      <td>pca</td>\n",
       "      <td>0.700000</td>\n",
       "      <td>0.315128</td>\n",
       "    </tr>\n",
       "    <tr>\n",
       "      <th>7</th>\n",
       "      <td>scfoundation</td>\n",
       "      <td>0.723333</td>\n",
       "      <td>0.287615</td>\n",
       "    </tr>\n",
       "    <tr>\n",
       "      <th>8</th>\n",
       "      <td>scgpt</td>\n",
       "      <td>0.756667</td>\n",
       "      <td>0.239096</td>\n",
       "    </tr>\n",
       "    <tr>\n",
       "      <th>9</th>\n",
       "      <td>scgpt_cancer</td>\n",
       "      <td>0.800000</td>\n",
       "      <td>0.217307</td>\n",
       "    </tr>\n",
       "    <tr>\n",
       "      <th>10</th>\n",
       "      <td>scimilarity</td>\n",
       "      <td>0.790000</td>\n",
       "      <td>0.243698</td>\n",
       "    </tr>\n",
       "    <tr>\n",
       "      <th>11</th>\n",
       "      <td>scvi</td>\n",
       "      <td>0.723333</td>\n",
       "      <td>0.287615</td>\n",
       "    </tr>\n",
       "  </tbody>\n",
       "</table>\n",
       "</div>"
      ],
      "text/plain": [
       "                     experiment      mean       std\n",
       "0            Geneformer-V2-104M  0.773333  0.234106\n",
       "1   Geneformer-V2-104M_CLcancer  0.790000  0.234994\n",
       "2            Geneformer-V2-316M  0.766667  0.245798\n",
       "3                       cellplm  0.500000  0.282597\n",
       "4               gf-6L-30M-i2048  0.806667  0.212655\n",
       "5                           hvg  0.750000  0.343592\n",
       "6                           pca  0.700000  0.315128\n",
       "7                  scfoundation  0.723333  0.287615\n",
       "8                         scgpt  0.756667  0.239096\n",
       "9                  scgpt_cancer  0.800000  0.217307\n",
       "10                  scimilarity  0.790000  0.243698\n",
       "11                         scvi  0.723333  0.287615"
      ]
     },
     "execution_count": 18,
     "metadata": {},
     "output_type": "execute_result"
    }
   ],
   "source": [
    "df = vote_df[vote_df['Metrics']=='AUPRC']\n",
    "df.groupby(['experiment'])['model'].agg(['mean', 'std']).reset_index()"
   ]
  },
  {
   "cell_type": "code",
   "execution_count": 19,
   "id": "14de8432-808d-49bd-826f-a60fec1dc9fa",
   "metadata": {},
   "outputs": [],
   "source": [
    "save_experminets(mil_df, task, 'mil', save_dir)\n",
    "save_experminets(vote_df, task, 'vote', save_dir)\n",
    "save_experminets(avg_df, task, 'avg', save_dir)"
   ]
  },
  {
   "cell_type": "markdown",
   "id": "0ac73710-0023-4e2a-9202-a2ef2631700a",
   "metadata": {},
   "source": [
    "## Subtype"
   ]
  },
  {
   "cell_type": "code",
   "execution_count": 20,
   "id": "1c62051e-39c6-4351-a5b0-69208d232748",
   "metadata": {
    "tags": []
   },
   "outputs": [
    {
     "name": "stdout",
     "output_type": "stream",
     "text": [
      "Missing files in /home/jupyter/mnt/__output_clean/brca_full/subtype/Geneformer-V2-104M_finetune\n",
      "Missing files in /home/jupyter/mnt/__output_clean/brca_full/subtype/gf-6L-30M-i2048_finetune\n"
     ]
    }
   ],
   "source": [
    "save_dir ='./brca_full_subtype'\n",
    "task ='subtype'\n",
    "base_dir = '/home/jupyter/mnt/__output_clean/brca_full/subtype'\n",
    "os.makedirs(save_dir, exist_ok=True)\n",
    "results= load_results(base_dir)\n",
    "mil_df = results[\"mil\"]\n",
    "vote_df = results[\"vote\"]\n",
    "avg_df = results[\"avg\"]\n",
    "# save_experminets(mil_df, avg_df, task, save_dir)"
   ]
  },
  {
   "cell_type": "code",
   "execution_count": null,
   "id": "c64e9889-4916-403b-84c2-4243f39f91ac",
   "metadata": {
    "tags": []
   },
   "outputs": [],
   "source": []
  },
  {
   "cell_type": "code",
   "execution_count": 21,
   "id": "c9690a23-8a2c-41bd-8507-cab3daf65fc2",
   "metadata": {
    "tags": []
   },
   "outputs": [],
   "source": [
    "idx = mil_df.experiment.str.contains('tcell')\n",
    "mil_df = mil_df[~idx]\n",
    "\n",
    "idx = vote_df.experiment.str.contains('tcell')\n",
    "vote_df = vote_df[~idx]\n",
    "\n",
    "idx = avg_df.experiment.str.contains('tcell')\n",
    "avg_df = avg_df[~idx]"
   ]
  },
  {
   "cell_type": "code",
   "execution_count": 22,
   "id": "c2bc263f-ac0a-4670-9f59-f6a53ec31f45",
   "metadata": {
    "tags": []
   },
   "outputs": [],
   "source": [
    "save_experminets(mil_df, task, 'mil', save_dir)\n",
    "save_experminets(vote_df, task, 'vote', save_dir)\n",
    "save_experminets(avg_df, task, 'avg', save_dir)"
   ]
  },
  {
   "cell_type": "markdown",
   "id": "5b1316a1-d653-463a-bc44-239a8391538b",
   "metadata": {},
   "source": [
    "## LUAD1"
   ]
  },
  {
   "cell_type": "code",
   "execution_count": 7,
   "id": "d1665512-6be9-4ca3-9ea3-7723f1e55a0f",
   "metadata": {
    "tags": []
   },
   "outputs": [
    {
     "name": "stdout",
     "output_type": "stream",
     "text": [
      "Missing files in /home/jupyter/mnt/__output_clean/luad1/.ipynb_checkpoints\n",
      "Missing files in /home/jupyter/mnt/__output_clean/luad1/Geneformer-V2-104M_finetune\n",
      "Missing files in /home/jupyter/mnt/__output_clean/luad1/Geneformer-V2-104M_finetune_freez2\n",
      "Missing files in /home/jupyter/mnt/__output_clean/luad1/gf-6L-30M-i2048_finetune_freez2\n",
      "Missing files in /home/jupyter/mnt/__output_clean/luad1/gf-6L-30M-i2048_finetune\n",
      "Missing files in /home/jupyter/mnt/__output_clean/luad1/scimilarity_no_batch\n"
     ]
    }
   ],
   "source": [
    "save_dir ='./metrics/luad1'\n",
    "task ='luad1'\n",
    "base_dir = '/home/jupyter/mnt/__output_clean/luad1'\n",
    "os.makedirs(save_dir, exist_ok=True)\n",
    "results= load_results(base_dir)\n",
    "mil_df = results[\"mil\"]\n",
    "vote_df = results[\"vote\"]\n",
    "avg_df = results[\"avg\"]\n",
    "# save_experminets(mil_df, avg_df, task, save_dir)"
   ]
  },
  {
   "cell_type": "code",
   "execution_count": 8,
   "id": "c94621a7-98cb-4af9-9156-f797caef2151",
   "metadata": {},
   "outputs": [],
   "source": [
    "save_experminets(mil_df, task, 'mil', save_dir)\n",
    "save_experminets(vote_df, task, 'vote', save_dir)\n",
    "save_experminets(avg_df, task, 'avg', save_dir)"
   ]
  },
  {
   "cell_type": "code",
   "execution_count": 23,
   "id": "4b353311-77cb-4aca-a29c-33971cc77cdd",
   "metadata": {
    "tags": []
   },
   "outputs": [
    {
     "name": "stdout",
     "output_type": "stream",
     "text": [
      "Missing files in /home/jupyter/mnt/__output_clean/luad2/.ipynb_checkpoints\n",
      "Missing files in /home/jupyter/mnt/__output_clean/luad2/Geneformer-V2-104M_finetune_freez2\n",
      "Missing files in /home/jupyter/mnt/__output_clean/luad2/gf-6L-30M-i2048_finetune_freez2\n"
     ]
    }
   ],
   "source": [
    "save_dir ='./luad2'\n",
    "task ='luad2'\n",
    "base_dir = '/home/jupyter/mnt/__output_clean/luad2'\n",
    "os.makedirs(save_dir, exist_ok=True)\n",
    "results= load_results(base_dir)\n",
    "mil_df = results[\"mil\"]\n",
    "vote_df = results[\"vote\"]\n",
    "avg_df = results[\"avg\"]\n",
    "# save_experminets(mil_df, avg_df, task, save_dir)"
   ]
  },
  {
   "cell_type": "code",
   "execution_count": 24,
   "id": "2d40edaf-b5c1-4fd9-b7f5-2507a9b4cc4a",
   "metadata": {},
   "outputs": [],
   "source": [
    "save_experminets(mil_df, task, 'mil', save_dir)\n",
    "save_experminets(vote_df, task, 'vote', save_dir)\n",
    "save_experminets(avg_df, task, 'avg', save_dir)"
   ]
  },
  {
   "cell_type": "code",
   "execution_count": null,
   "id": "038978ec-f31b-408a-93e6-d25fc77439d7",
   "metadata": {},
   "outputs": [],
   "source": []
  },
  {
   "cell_type": "code",
   "execution_count": null,
   "id": "9af52b19-728a-4950-92cd-55f0897ba500",
   "metadata": {},
   "outputs": [],
   "source": []
  }
 ],
 "metadata": {
  "environment": {
   "kernel": "scfoundation",
   "name": "pytorch-gpu.2-2.m128",
   "type": "gcloud",
   "uri": "us-docker.pkg.dev/deeplearning-platform-release/gcr.io/pytorch-gpu.2-2:m128"
  },
  "kernelspec": {
   "display_name": "Python (scfoundation )",
   "language": "python",
   "name": "scfoundation"
  },
  "language_info": {
   "codemirror_mode": {
    "name": "ipython",
    "version": 3
   },
   "file_extension": ".py",
   "mimetype": "text/x-python",
   "name": "python",
   "nbconvert_exporter": "python",
   "pygments_lexer": "ipython3",
   "version": "3.10.18"
  }
 },
 "nbformat": 4,
 "nbformat_minor": 5
}
